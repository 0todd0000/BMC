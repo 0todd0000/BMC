{
 "metadata": {
  "name": ""
 },
 "nbformat": 3,
 "nbformat_minor": 0,
 "worksheets": [
  {
   "cells": [
    {
     "cell_type": "heading",
     "level": 1,
     "metadata": {},
     "source": [
      "Numerical differentiation and integration"
     ]
    },
    {
     "cell_type": "markdown",
     "metadata": {},
     "source": [
      "Marcos Duarte"
     ]
    },
    {
     "cell_type": "markdown",
     "metadata": {},
     "source": [
      "Most differentiation and integration process in biomechanics will be done with experimental data, numbers, rather than a mathematical function. This process is not trivial because experimental data is contaminated by [noise](http://en.wikipedia.org/wiki/Noise) (usually lower amplitude and higher frequency data than the wanted signal) and the differentiation process amplifies the noise amplitude in relation to the signal amplitude (lower signal-to-noise ratio).   \n",
      "Let's see now simple numerical differentiation process; later we will look at more sophisticated methods to deal with noise in signal processing.\n",
      "\n",
      "Simple two-point estimations for data numerical differentiation are:\n",
      "\n",
      "$$ \\begin{array}{l l l} \n",
      "f'(t) = \\frac{f(t+\\Delta t)-f(t)}{\\Delta t} & \\text{(forward difference algorithm)} \\\\\\\n",
      "f'(t) = \\frac{f(t)-f(t-\\Delta t)}{\\Delta t} & \\text{(backward difference algorithm)} \\\\\\\n",
      "f'(t) = \\frac{f(t+\\Delta t)-f(t-\\Delta t)}{2 \\Delta t} & \\text{(central difference algorithm)}\n",
      "\\end{array} $$\n",
      "\n",
      "<div class='center-align'><figure><img src=\"http://upload.wikimedia.org/wikipedia/commons/8/8c/Derivative.png\" width=\"250\" alt=\"numerical differentiation\"/><figcaption><i>Two-point estimation of numerical differentiation (<a href=\"http://en.wikipedia.org/wiki/Numerical_differentiation\" target=\"_blank\">from Wikipedia</a>).</i></figcaption> </figure></div><br> \n",
      "See this interactive demonstration about [numerical differentiation](http://www.geogebratube.org/student/m17830?mobile=true)."
     ]
    },
    {
     "cell_type": "markdown",
     "metadata": {},
     "source": [
      "Numerical integration of experimental data is usually less problematic than differentiation, particularly when dealing with noise (the integration process smooths the signal).   \n",
      "Simple numerical integration can be implemmented with:   \n",
      "\n",
      "**The rectangle rule**\n",
      "\n",
      "$$ \\text{Area:}\\; \\int_{t_1}^{t_N}f(t)dt \\;\\approx\\; \\Delta t \\sum_{i=1}^{N}\\:f(t_i) $$\n",
      "\n",
      "<div class='center-align'><figure><img src=\"http://upload.wikimedia.org/wikipedia/commons/8/8e/MidRiemann.png\" width=\"300\" alt=\"numerical integration\"/><figcaption><i>The rectangle rule for numerical integration (<a href=\"http://en.wikipedia.org/wiki/Rectangle_method\" target=\"_blank\">from Wikipedia</a>).</i></figcaption></figure></div>\n",
      "\n",
      "**The trapezoidal rule**\n",
      "\n",
      "$$ \\text{Area:}\\; \\int_{t_1}^{t_N}f(t)dt \\;\\approx\\; \\Delta t \\sum_{i=1}^{N}\\frac{f(t_i)+f(t_{i+1})}{2} $$\n",
      "\n",
      "<div class='center-align'><figure><img src=\"http://upload.wikimedia.org/wikipedia/commons/thumb/d/dd/Trapezoidal_rule_illustration.png/316px-Trapezoidal_rule_illustration.png\" width=\"250\" alt=\"numerical integration\"/><figcaption><i>The rectangle rule for numerical integration (<a href=\"http://en.wikipedia.org/wiki/Trapezoidal_rule\" target=\"_blank\">from Wikipedia</a>).</i></figcaption></figure></div>"
     ]
    },
    {
     "cell_type": "heading",
     "level": 2,
     "metadata": {},
     "source": [
      "References"
     ]
    },
    {
     "cell_type": "markdown",
     "metadata": {},
     "source": [
      "- [Interactive demonstration about numerical differentiation](http://www.geogebratube.org/student/m17830?mobile=true)."
     ]
    }
   ],
   "metadata": {}
  }
 ]
}