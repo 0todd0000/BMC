{
 "metadata": {
  "name": ""
 },
 "nbformat": 3,
 "nbformat_minor": 0,
 "worksheets": [
  {
   "cells": [
    {
     "cell_type": "heading",
     "level": 1,
     "metadata": {},
     "source": [
      "Curve fitting"
     ]
    },
    {
     "cell_type": "markdown",
     "metadata": {},
     "source": [
      "Marcos Duarte"
     ]
    },
    {
     "cell_type": "markdown",
     "metadata": {},
     "source": [
      "Curve fitting is the process of fitting a model, expressed in terms of a mathematical function, that depends on adjustable parameters to a series of data points and once adjusted, that curve has the best fit to the data points.   \n",
      "\n",
      "The model can be an arbitrary class of functions such as polynomials and the fit would determine the polynomial coefficients to simplily summarize the data or the model parameters can represent a underlying theory that the data are supposed to satisfy such as fitting an exponential function to data of a decay process to determine its decay rate or a parabola to the position data of an object falling to determine the gravity acceleration.\n",
      "\n",
      "The general approach to the fitting procedure involves the definition of a merit function that measures the agreement between data and model. The model parameters are then adjusted to yield the best-fit parameters as a problem of minimization. A fitting procedure should provide (i) parameters, (ii) error estimates on the parameters, and (iii) a statistical measure of goodness-of-fit. When the third item suggests that the model is an unlikely match to the data, then items (i) and (ii) are probably worthless.   \n",
      "(Numerical Recipes 2007, Bevington and Robinson 2002)"
     ]
    },
    {
     "cell_type": "heading",
     "level": 2,
     "metadata": {},
     "source": [
      "Least squares"
     ]
    },
    {
     "cell_type": "markdown",
     "metadata": {},
     "source": [
      "Consider $ n $ data points $(x_i, y_i),\\: i=1, \\dots , n$, where $x_i$ is the independent variable (or predictor) and $y_i$ is the dependent variable (or response) to be fitted by a model function $y$ with $m$ adjustable parameters $\\beta_i,\\: i=1, \\dots , m$. The problem is to find the parameter values for the model which best fits the data. A classical solution is to find the best fit by minimizing the sum of the squared differences between data points and the model function (the sum of squared residuals as the merit function), which is known as the least-squares fit:\n",
      "\n",
      "$$ \\sum_{i=1}^{n} \\left[ y_i - y(x_i | \\beta_1 \\dots \\beta_{m}) \\right]^2 \\;\\;\\;\\;\\;\\; \\mathrm{minimize\\; over:} \\;\\;\\; \\beta_1 \\dots \\beta_{m} $$ \n",
      "\n",
      "**Chi-Square**   \n",
      "If we consider that each response $y_i$ has a measurement error or uncertainty described by a standard deviation, $ \\sigma_i $, the problem now is to minimize the following function:\n",
      "\n",
      "$$ \\sum_{i=1}^{n} \\left[ \\frac{ y_i - y(x_i | \\beta_1 \\dots \\beta_{m}) }{\\sigma_i} \\right]^2 = \\chi^2 $$\n",
      "\n",
      "Considering that the residuals are normally distributed, the sum of squared residuals divided by their variance, $\\sigma_i^2$, by definition will have a [chi-squared distribution](http://en.wikipedia.org/wiki/Chi-squared_distribution), $ \\chi^2 $. Once the best-fit parameters are found, the terms in the sum above are not all statistically independent and the probability distribution of $\\chi^2$ will be the chi-squared distribution for $n-m$ degrees of freedom.\n",
      "\n",
      "The uncertainty $\\sigma_i$ can be seen as the inverse of the weights in a weighted sum (because less certainty we have about this measure). Larger $\\sigma_i$, smaller the weight of $y_i$ in the sum. If $y_i$ has no uncertainty, $\\sigma_i$ should be equal to one."
     ]
    },
    {
     "cell_type": "heading",
     "level": 2,
     "metadata": {},
     "source": [
      "Linear regression"
     ]
    },
    {
     "cell_type": "markdown",
     "metadata": {},
     "source": [
      "Let's derive the analytical expression for the least-square fit when the model function is a straight line (such fitting is also known as linear regression) and the dependent variable $y_i$ has uncertainty:\n",
      "\n",
      "$$ y(x) = y(x | a,b) = a + bx $$ \n",
      "\n",
      "We want to find $a, b$ such that minimizes the $\\chi^2$ function defined above (this is also known as $\\chi^2$ fitting):\n",
      "\n",
      "$$ \\chi^2(a,b) = \\sum_{i=1}^{n} \\left[ \\frac{ y_i - (a + bx_i) }{\\sigma_i} \\right]^2 $$\n",
      "\n",
      "Using the property that at the minimum of $\\chi^2$ its derivative is zero:\n",
      "\n",
      "$$ \\frac{\\partial \\chi^2}{\\partial a} = -2 \\sum_{i=1}^{n} \\frac{ y_i - a - bx_i }{\\sigma_i^2} = 0 $$\n",
      "\n",
      "$$ \\frac{\\partial \\chi^2}{\\partial b} = -2 \\sum_{i=1}^{n} \\frac{ x_i(y_i - a - bx_i) }{\\sigma_i^2} = 0 $$\n",
      "\n",
      "To solve these two equations, let's define the sums as:\n",
      "\n",
      "$$ S = \\sum_{i=1}^{n-1} \\frac{1}{\\sigma_i^2} \\;\\;\\; S_x = \\sum_{i=1}^{n} \\frac{x_i}{\\sigma_i^2} \\;\\;\\; S_y = \\sum_{i=1}^{n} \\frac{y_i}{\\sigma_i^2} \\;\\;\\; S_{xx} = \\sum_{i=1}^{n} \\frac{x_i^2}{\\sigma_i^2} \\;\\;\\; S_{xy} = \\sum_{i=1}^{n} \\frac{x_i y_i}{\\sigma_i^2} $$\n",
      "\n",
      "Using these definitions, the former two equations become:\n",
      "\n",
      "$$ S_y \\:\\: = aS + bS_x $$\n",
      "\n",
      "$$ S_{xy} = aS_x + bS_{xx} $$\n",
      "\n",
      "And solving these two equations with two unknowns:\n",
      "\n",
      "$$ a = \\frac{S_{xx}S_y - S_x S_{xy}}{\\Delta} $$\n",
      "\n",
      "$$ b = \\frac{S S_{xy} - S_x S_y}{\\Delta} $$  \n",
      "\n",
      "Where:\n",
      "\n",
      "$$ \\Delta = S S_{xx} - S_x^2 $$\n",
      "\n",
      "With the parameters above, the straight line will be the best fit in the sense that the sum of the squared residuals are minimum. A rough estimate of the goodness of fit is the value of $\\chi^2$; a good fit should have $\\chi^2 \\approx n-m$.\n",
      "\n",
      "**Estimating the uncertainty of the parameters**\n",
      "\n",
      "$$ \\sigma_a^2 = \\frac{Sxx}{\\Delta} $$\n",
      "\n",
      "$$ \\sigma_b^2 = \\frac{S}{\\Delta} $$\n",
      "\n",
      "\n",
      "$$ Cov(a,b) = \\frac{-S_x}{{\\Delta}} $$\n",
      "\n",
      "$$ r_{ab} = \\frac{-S_x}{\\sqrt{SS_{xx}}} $$"
     ]
    },
    {
     "cell_type": "heading",
     "level": 2,
     "metadata": {},
     "source": [
      "Computing the curve fitting"
     ]
    },
    {
     "cell_type": "markdown",
     "metadata": {},
     "source": [
      "Evidently, Python and the ecosystem for scientific computing have plenty of programs ready available for curve fitting. Instead of writting our own program to implement the formula above, let's use the programs available which will cover many more cases (general polynomials, nonlinear functions, etc.).\n",
      "\n",
      "First, if we only want to fit polynomials, we can use the Numpy polyfit function:   \n",
      "\n",
      "    polyfit(x, y, deg, rcond=None, full=False, w=None, cov=False)   \n",
      "        Least squares polynomial fit.   \n",
      "        \n",
      "        Fit a polynomial ``p(x) = p[0] * x**deg + ... + p[deg]`` of degree `deg`   \n",
      "        to points `(x, y)`. Returns a vector of coefficients `p` that minimises   \n",
      "        the squared error.  \n",
      "        \n",
      "Let's demonstrate how polyfit works:"
     ]
    },
    {
     "cell_type": "code",
     "collapsed": false,
     "input": [
      "# Import the necessary libraries\n",
      "from __future__ import division, print_function\n",
      "import numpy as np\n",
      "import matplotlib.pyplot as plt\n",
      "%matplotlib inline"
     ],
     "language": "python",
     "metadata": {},
     "outputs": [],
     "prompt_number": 1
    },
    {
     "cell_type": "code",
     "collapsed": false,
     "input": [
      "n = 50\n",
      "x = np.arange(1, n+1)\n",
      "y = x + 10*np.random.randn(n) + 10\n",
      "yerr = np.abs(10*np.random.randn(n)) + 1\n",
      "\n",
      "p, V = np.polyfit(x, y, 1, w=1/yerr, cov=True)  # coefficients and covariance matrix\n",
      "\n",
      "perr = np.sqrt(np.diag(V))       # standard-deviation estimates for each coefficient\n",
      "yfit = np.polyval(p, x)          # evaluate the polynomial at x\n",
      "r = np.corrcoef(x, y)[0, 1]      # correlation coefficient between x and y\n",
      "resid = y - yfit\n",
      "chi2 = np.sum( (resid/yerr)**2 )\n",
      "\n",
      "plt.errorbar(x, y, yerr=yerr, fmt = 'bo', ecolor='b', capsize=0)\n",
      "plt.plot(x, yfit, 'r', linewidth=3, color=[1, 0, 0, .5])\n",
      "plt.xlabel('x', fontsize=12)\n",
      "plt.ylabel('y', fontsize=12)\n",
      "plt.title('$y = %.2f \\pm %.2f + (%.2f \\pm %.2f)x \\; (r=%.2f)$'\n",
      "          %(p[1], perr[1], p[0], perr[0], r), fontsize=16, color=[1, 0, 0])  \n",
      "plt.xlim((0, n+1))\n",
      "plt.show()"
     ],
     "language": "python",
     "metadata": {},
     "outputs": [
      {
       "metadata": {},
       "output_type": "display_data",
       "png": "[encoded data removed]",
       "text": [
        "<matplotlib.figure.Figure at 0x7208358>"
       ]
      }
     ],
     "prompt_number": 2
    },
    {
     "cell_type": "markdown",
     "metadata": {},
     "source": [
      "According to our assumptions, the residuals should be normally distributed:"
     ]
    },
    {
     "cell_type": "code",
     "collapsed": false,
     "input": [
      "fig, ax = plt.subplots(1, 2, figsize=(13, 4))\n",
      "ax[0].plot(x, resid, 'ro')\n",
      "ax[0].plot([0, n+1], [0, 0], 'k')\n",
      "ax[0].set_xlabel('x', fontsize=12)\n",
      "ax[0].set_ylabel('Residuals', fontsize=12)\n",
      "ax[0].set_xlim((0, n+1))\n",
      "ax[1].hist(resid, bins=10)\n",
      "ax[1].set_xlabel('Bins', fontsize=12)\n",
      "ax[1].set_ylabel('Frequency', fontsize=12)\n",
      "ax[1].set_title('Histogram of the residuals')\n",
      "plt.show()"
     ],
     "language": "python",
     "metadata": {},
     "outputs": [
      {
       "metadata": {},
       "output_type": "display_data",
       "png": "[encoded data removed]",
       "text": [
        "<matplotlib.figure.Figure at 0x721ff60>"
       ]
      }
     ],
     "prompt_number": 3
    },
    {
     "cell_type": "markdown",
     "metadata": {},
     "source": [
      "We could apply a statistical test to verify if the data above is normallly distributed, but for now, by visual inspection, the residuals indeed seem to be normallly distributed.\n",
      "\n",
      "A more general curve fitting function is the scipy.optimize.curve_fit:\n",
      "\n",
      "    scipy.optimize.curve_fit(f, xdata, ydata, p0=None, sigma=None, **kw)[source]\n",
      "        Use non-linear least squares to fit a function, f, to data.\n",
      "        \n",
      "..."
     ]
    },
    {
     "cell_type": "heading",
     "level": 2,
     "metadata": {},
     "source": [
      "References"
     ]
    },
    {
     "cell_type": "markdown",
     "metadata": {},
     "source": [
      "- [Bevington and Robinson (2002) Data Reduction and Error Analysis for the Physical Science. McGraw-Hill Science/Engineering/Math; 3rd edition](https://www.mcgraw-hill.co.uk/html/0071199268.html).\n",
      "- [Press et al. (2007) Numerical Recipes 3rd Edition: The Art of Scientific Computing. Cambridge University Press](http://www.nr.com/)."
     ]
    }
   ],
   "metadata": {}
  }
 ]
}