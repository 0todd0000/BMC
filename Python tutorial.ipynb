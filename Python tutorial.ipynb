{
 "metadata": {
  "name": ""
 },
 "nbformat": 3,
 "nbformat_minor": 0,
 "worksheets": [
  {
   "cells": [
    {
     "cell_type": "heading",
     "level": 1,
     "metadata": {},
     "source": [
      "Tutorial on Python for scientific computing"
     ]
    },
    {
     "cell_type": "markdown",
     "metadata": {},
     "source": [
      "Marcos Duarte"
     ]
    },
    {
     "cell_type": "markdown",
     "metadata": {},
     "source": [
      "This tutorial is a short introduction to programming and a demonstration of the basic features of Python for scientific computing.\n",
      "\n",
      "To use Python for scientific computing we need the Python program itself with its main modules and specific packages for scientific computing. See this notebook on how to install Python for scientific computing.\n",
      "\n",
      "Once you get Python and the necessary packages for scientific computing ready to work, there are different ways to run Python, the main ones are:\n",
      "\n",
      "- open a terminal window in your computer and type `python` or `ipython` that the Python interpreter will start\n",
      "- run the IPython notebook and start working with Python in a browser\n",
      "- run Spyder, an interactive development environment (IDE)\n",
      "- run the IPython qtconsole, a more featured terminal\n",
      "- run IPython completely in the cloud with for example, [https://www.wakari.io](https://www.wakari.io)\n",
      "- run Python online in a website such as [https://www.pythonanywhere.com/](https://www.pythonanywhere.com/)\n",
      "- run Python using any other Python editor or IDE\n",
      " \n",
      "We will use the IPython notebook for this tutorial but you can run almost all the things we will see here using the other forms listed above."
     ]
    },
    {
     "cell_type": "heading",
     "level": 2,
     "metadata": {},
     "source": [
      "Python as a calculator"
     ]
    },
    {
     "cell_type": "markdown",
     "metadata": {},
     "source": [
      "Once in the IPython notebook, if you type a simple mathematical expression and press `Shift+Enter` it will give the result of the expression:"
     ]
    },
    {
     "cell_type": "code",
     "collapsed": false,
     "input": [
      "1+2-3"
     ],
     "language": "python",
     "metadata": {},
     "outputs": [
      {
       "metadata": {},
       "output_type": "pyout",
       "prompt_number": 1,
       "text": [
        "0"
       ]
      }
     ],
     "prompt_number": 1
    },
    {
     "cell_type": "code",
     "collapsed": false,
     "input": [
      "4/5"
     ],
     "language": "python",
     "metadata": {},
     "outputs": [
      {
       "metadata": {},
       "output_type": "pyout",
       "prompt_number": 2,
       "text": [
        "0"
       ]
      }
     ],
     "prompt_number": 2
    },
    {
     "cell_type": "markdown",
     "metadata": {},
     "source": [
      "If you are using Python version 2.x instead of Python 3.x, you should have got 0 as the result of 4 divided by 5, which is wrong! The problem is that for Python versions up to 2.x, the operator '/' performs division with integers and the result will also be an integer (this behavior was changed in version 3.x).  \n",
      "\n",
      "If you want the normal behavior for division, in Python 2.x you have two options: tell Python that at least one of the numbers is not an integer or import the new division operator, let's see these two options:"
     ]
    },
    {
     "cell_type": "code",
     "collapsed": false,
     "input": [
      "4/5."
     ],
     "language": "python",
     "metadata": {},
     "outputs": [
      {
       "metadata": {},
       "output_type": "pyout",
       "prompt_number": 3,
       "text": [
        "0.8"
       ]
      }
     ],
     "prompt_number": 3
    },
    {
     "cell_type": "code",
     "collapsed": false,
     "input": [
      "from __future__ import division"
     ],
     "language": "python",
     "metadata": {},
     "outputs": [],
     "prompt_number": 4
    },
    {
     "cell_type": "code",
     "collapsed": false,
     "input": [
      "4/5"
     ],
     "language": "python",
     "metadata": {},
     "outputs": [
      {
       "metadata": {},
       "output_type": "pyout",
       "prompt_number": 5,
       "text": [
        "0.8"
       ]
      }
     ],
     "prompt_number": 5
    },
    {
     "cell_type": "markdown",
     "metadata": {},
     "source": [
      "I prefer to use the import division option (from future!); if we put this statement in the beginning of a file or IPython notebook, it will work for all subsequent commands.\n",
      "\n",
      "Another command that changed its behavior from Python 2.x to 3.x is the `print` command.   \n",
      "In Python 2.x, the print command could be used as a statement:"
     ]
    },
    {
     "cell_type": "code",
     "collapsed": false,
     "input": [
      "print 4/5"
     ],
     "language": "python",
     "metadata": {},
     "outputs": [
      {
       "output_type": "stream",
       "stream": "stdout",
       "text": [
        "0.8\n"
       ]
      }
     ],
     "prompt_number": 6
    },
    {
     "cell_type": "markdown",
     "metadata": {},
     "source": [
      "With Python 3.x, the print command bahaves as a true function and has to be called with parentheses. Let's also import this future command to Python 2.x and use it from now on:"
     ]
    },
    {
     "cell_type": "code",
     "collapsed": false,
     "input": [
      "from __future__ import print_function"
     ],
     "language": "python",
     "metadata": {},
     "outputs": [],
     "prompt_number": 7
    },
    {
     "cell_type": "code",
     "collapsed": false,
     "input": [
      "print(4/5)"
     ],
     "language": "python",
     "metadata": {},
     "outputs": [
      {
       "output_type": "stream",
       "stream": "stdout",
       "text": [
        "0.8\n"
       ]
      }
     ],
     "prompt_number": 8
    },
    {
     "cell_type": "markdown",
     "metadata": {},
     "source": [
      "With the `print` function, let's explore the mathematical operations available in Python:"
     ]
    },
    {
     "cell_type": "code",
     "collapsed": false,
     "input": [
      "print('1+2 = ', 1+2, '\\n', '4*5 = ', 4*5, '\\n', '6/7 = ', 6/7, '\\n', '8**2 = ', 8**2, sep='')"
     ],
     "language": "python",
     "metadata": {},
     "outputs": [
      {
       "output_type": "stream",
       "stream": "stdout",
       "text": [
        "1+2 = 3\n",
        "4*5 = 20\n",
        "6/7 = 0.857142857143\n",
        "8**2 = 64\n"
       ]
      }
     ],
     "prompt_number": 9
    },
    {
     "cell_type": "markdown",
     "metadata": {},
     "source": [
      "And if we want the square-root of a number:"
     ]
    },
    {
     "cell_type": "code",
     "collapsed": false,
     "input": [
      "sqrt(9)"
     ],
     "language": "python",
     "metadata": {},
     "outputs": [
      {
       "ename": "NameError",
       "evalue": "name 'sqrt' is not defined",
       "output_type": "pyerr",
       "traceback": [
        "\u001b[1;31m---------------------------------------------------------------------------\u001b[0m\n\u001b[1;31mNameError\u001b[0m                                 Traceback (most recent call last)",
        "\u001b[1;32m<ipython-input-10-c836dfef5db4>\u001b[0m in \u001b[0;36m<module>\u001b[1;34m()\u001b[0m\n\u001b[1;32m----> 1\u001b[1;33m \u001b[0msqrt\u001b[0m\u001b[1;33m(\u001b[0m\u001b[1;36m9\u001b[0m\u001b[1;33m)\u001b[0m\u001b[1;33m\u001b[0m\u001b[0m\n\u001b[0m",
        "\u001b[1;31mNameError\u001b[0m: name 'sqrt' is not defined"
       ]
      }
     ],
     "prompt_number": 10
    },
    {
     "cell_type": "markdown",
     "metadata": {},
     "source": [
      "We get an error message saying that the `sqrt` function if not defined. This is because `sqrt` and other mathematical functions are available with the `math` module:"
     ]
    },
    {
     "cell_type": "code",
     "collapsed": false,
     "input": [
      "import math"
     ],
     "language": "python",
     "metadata": {},
     "outputs": [],
     "prompt_number": 11
    },
    {
     "cell_type": "code",
     "collapsed": false,
     "input": [
      "math.sqrt(9)"
     ],
     "language": "python",
     "metadata": {},
     "outputs": [
      {
       "metadata": {},
       "output_type": "pyout",
       "prompt_number": 12,
       "text": [
        "3.0"
       ]
      }
     ],
     "prompt_number": 12
    },
    {
     "cell_type": "heading",
     "level": 2,
     "metadata": {},
     "source": [
      "\n",
      "\n",
      "\n",
      "\n",
      "\n",
      "\n",
      "\n",
      "\n",
      "\n",
      "\n",
      "\n",
      "\n",
      "\n",
      "\n",
      "\n",
      "\n",
      "\n",
      "\n",
      "The import function"
     ]
    },
    {
     "cell_type": "markdown",
     "metadata": {},
     "source": [
      "We used the command '`import`' to be able to call certain functions. In Python functions are organized in modules and packages and they have to be imported in order to be used.   \n",
      "\n",
      "A module is a file containing Python definitions (e.g., functions) and statements. Packages are a way of structuring Python\u2019s module namespace by using \u201cdotted module names\u201d. For example, the module name A.B designates a submodule named B in a package named A. To be used, modules and packages have to be imported in Python with the import function.   \n",
      "\n",
      "Namespace is a container for a set of identifiers (names), and allows the disambiguation of homonym identifiers residing in different namespaces. For example, with the command import math, we will have all the functions and statements defined in this module in the namespace '`math.`', for example, '`math.pi`' is the \u03c0 constant and '`math.cos()`', the cosine function."
     ]
    },
    {
     "cell_type": "markdown",
     "metadata": {},
     "source": [
      "By the way, to know which Python version you are running, we can use one of the following modules:"
     ]
    },
    {
     "cell_type": "code",
     "collapsed": false,
     "input": [
      "import sys\n",
      "sys.version"
     ],
     "language": "python",
     "metadata": {},
     "outputs": [
      {
       "metadata": {},
       "output_type": "pyout",
       "prompt_number": 13,
       "text": [
        "'2.7.5 |Anaconda 1.8.0 (64-bit)| (default, Jul  1 2013, 12:37:52) [MSC v.1500 64 bit (AMD64)]'"
       ]
      }
     ],
     "prompt_number": 13
    },
    {
     "cell_type": "markdown",
     "metadata": {},
     "source": [
      "And if you are in an IPython session:"
     ]
    },
    {
     "cell_type": "code",
     "collapsed": false,
     "input": [
      "from IPython import sys_info\n",
      "print(sys_info())"
     ],
     "language": "python",
     "metadata": {},
     "outputs": [
      {
       "output_type": "stream",
       "stream": "stdout",
       "text": [
        "{'codename': 'An Afternoon Hack',\n",
        " 'commit_hash': '7c2ea3a',\n",
        " 'commit_source': 'installation',\n",
        " 'default_encoding': 'cp1252',\n",
        " 'ipython_path': 'C:\\\\Anaconda\\\\lib\\\\site-packages\\\\IPython',\n",
        " 'ipython_version': '1.1.0',\n",
        " 'os_name': 'nt',\n",
        " 'platform': 'Windows-7-6.1.7601-SP1',\n",
        " 'sys_executable': 'C:\\\\Anaconda\\\\python.exe',\n",
        " 'sys_platform': 'win32',\n",
        " 'sys_version': '2.7.5 |Anaconda 1.8.0 (64-bit)| (default, Jul  1 2013, 12:37:52) [MSC v.1500 64 bit (AMD64)]'}\n"
       ]
      }
     ],
     "prompt_number": 14
    },
    {
     "cell_type": "markdown",
     "metadata": {},
     "source": [
      "The first option gives information about the Python version; the latter also includes the IPython version, operating system, etc."
     ]
    },
    {
     "cell_type": "heading",
     "level": 2,
     "metadata": {},
     "source": [
      "Object-oriented programming"
     ]
    },
    {
     "cell_type": "markdown",
     "metadata": {},
     "source": [
      "Python is designed as an object-oriented programming (OOP) language. OOP is a paradigm that represents concepts as \"objects\" that have data fields (attributes that describe the object) and associated procedures known as methods.\n",
      "\n",
      "This means that all elements in Python are objects and they have attributes which can be acessed with the dot (.) operator after the name of the object. We already experimented with that when we imported the module `sys`, it became an object, and we acessed one of its attribute: `sys.version`.\n",
      "\n",
      "OOP as a paradigm is much more than defining objects, attributes, and methods, but for now this is enough to get going with Python."
     ]
    },
    {
     "cell_type": "heading",
     "level": 2,
     "metadata": {},
     "source": [
      "Python and IPython help"
     ]
    },
    {
     "cell_type": "markdown",
     "metadata": {},
     "source": [
      "To get help about any Python command, use `help()`:"
     ]
    },
    {
     "cell_type": "code",
     "collapsed": false,
     "input": [
      "help(math.degrees)"
     ],
     "language": "python",
     "metadata": {},
     "outputs": [
      {
       "output_type": "stream",
       "stream": "stdout",
       "text": [
        "Help on built-in function degrees in module math:\n",
        "\n",
        "degrees(...)\n",
        "    degrees(x)\n",
        "    \n",
        "    Convert angle x from radians to degrees.\n",
        "\n"
       ]
      }
     ],
     "prompt_number": 15
    },
    {
     "cell_type": "markdown",
     "metadata": {},
     "source": [
      "Or if you are in the IPython environment, simply add '?' to the function that a window will open at the bottom of your browser with the same help content:"
     ]
    },
    {
     "cell_type": "code",
     "collapsed": false,
     "input": [
      "math.degrees?"
     ],
     "language": "python",
     "metadata": {},
     "outputs": [],
     "prompt_number": 16
    },
    {
     "cell_type": "markdown",
     "metadata": {},
     "source": [
      "And if you add a second '?' to the statement you get access to the original script file of the function (an advantage of an open source language), unless that function is a built-in function that does not have a script file, which is the case of the standard modules in Python (but you can access the Python source code if you want; it just does not come with the standard program for installation).\n",
      "\n",
      "So, let's see this feature with another function:"
     ]
    },
    {
     "cell_type": "code",
     "collapsed": false,
     "input": [
      "import scipy.fftpack\n",
      "scipy.fftpack.fft??"
     ],
     "language": "python",
     "metadata": {},
     "outputs": [],
     "prompt_number": 17
    },
    {
     "cell_type": "markdown",
     "metadata": {},
     "source": [
      "To know all the attributes of an object, for example all the functions available in `math`, we can use the function `dir`:"
     ]
    },
    {
     "cell_type": "code",
     "collapsed": false,
     "input": [
      "print(dir(math))"
     ],
     "language": "python",
     "metadata": {},
     "outputs": [
      {
       "output_type": "stream",
       "stream": "stdout",
       "text": [
        "['__doc__', '__name__', '__package__', 'acos', 'acosh', 'asin', 'asinh', 'atan', 'atan2', 'atanh', 'ceil', 'copysign', 'cos', 'cosh', 'degrees', 'e', 'erf', 'erfc', 'exp', 'expm1', 'fabs', 'factorial', 'floor', 'fmod', 'frexp', 'fsum', 'gamma', 'hypot', 'isinf', 'isnan', 'ldexp', 'lgamma', 'log', 'log10', 'log1p', 'modf', 'pi', 'pow', 'radians', 'sin', 'sinh', 'sqrt', 'tan', 'tanh', 'trunc']\n"
       ]
      }
     ],
     "prompt_number": 18
    },
    {
     "cell_type": "heading",
     "level": 3,
     "metadata": {},
     "source": [
      "Tab completion in IPython"
     ]
    },
    {
     "cell_type": "markdown",
     "metadata": {},
     "source": [
      "IPython has tab completion: start typing the name of the command (object) and press `tab` to see the names of objects available with these initials letters. When the name of the object is typed followed by a dot (`math.`), pressing `tab` will show all available attribites, scroll down to the desired attribute and press `Enter` to select it."
     ]
    },
    {
     "cell_type": "heading",
     "level": 3,
     "metadata": {},
     "source": [
      "The four most helpful commands in IPython"
     ]
    },
    {
     "cell_type": "markdown",
     "metadata": {},
     "source": [
      "These are the most helpful commands in IPython (from [IPython tutorial](http://ipython.org/ipython-doc/dev/interactive/tutorial.html)):\n",
      "\n",
      " - `?` : Introduction and overview of IPython\u2019s features.\n",
      " - `%quickref` : Quick reference.\n",
      " - `help` : Python\u2019s own help system.\n",
      " - `object?` : Details about \u2018object\u2019, use \u2018object??\u2019 for extra details.\n",
      " \n",
      "[See these IPython Notebooks for more on IPython and the Notebook capabilities](https://github.com/ipython/ipython/tree/master/examples/notebooks)."
     ]
    },
    {
     "cell_type": "heading",
     "level": 3,
     "metadata": {},
     "source": [
      "Comments"
     ]
    },
    {
     "cell_type": "markdown",
     "metadata": {},
     "source": [
      "Comments in Python start with the hash character, #, and extend to the end of the physical line:"
     ]
    },
    {
     "cell_type": "code",
     "collapsed": false,
     "input": [
      "# Import the math library to access more math stuff\n",
      "import math\n",
      "math.pi  # this is the pi constant; a useless comment since this is obvious"
     ],
     "language": "python",
     "metadata": {},
     "outputs": [
      {
       "metadata": {},
       "output_type": "pyout",
       "prompt_number": 19,
       "text": [
        "3.141592653589793"
       ]
      }
     ],
     "prompt_number": 19
    },
    {
     "cell_type": "markdown",
     "metadata": {},
     "source": [
      "To insert comments spanning more than one line, use a multi-line string with a pair of matching triple-quotes: `\"\"\"` or `'''` (we will see the string data type later). A typical use of a multi-line comment is as documentation strings and are meant for anyone reading the code:"
     ]
    },
    {
     "cell_type": "code",
     "collapsed": false,
     "input": [
      "\"\"\"Documentation strings are typically written like that.\n",
      "\n",
      "A docstring is a string literal that occurs as the first statement\n",
      "in a module, function, class, or method definition.\n",
      "\n",
      "\"\"\""
     ],
     "language": "python",
     "metadata": {},
     "outputs": [
      {
       "metadata": {},
       "output_type": "pyout",
       "prompt_number": 20,
       "text": [
        "'Documentation strings are typically written like that.\\n\\nA docstring is a string literal that occurs as the first statement\\nin a module, function, class, or method definition.\\n\\n'"
       ]
      }
     ],
     "prompt_number": 20
    },
    {
     "cell_type": "markdown",
     "metadata": {},
     "source": [
      "A docstring like above is useless and its output as a standalone statement looks uggly in IPython Notebook, but you will see its real importance when reading and writting codes.\n",
      "\n",
      "Commenting a programming code is an important step to make the code more readable, which Python cares a lot.   \n",
      "There is a style guide for writting Python code ([PEP 8](http://www.python.org/dev/peps/pep-0008/)) with a session about [how to write comments](http://www.python.org/dev/peps/pep-0008/#comments)."
     ]
    },
    {
     "cell_type": "heading",
     "level": 3,
     "metadata": {},
     "source": [
      "Magic functions"
     ]
    },
    {
     "cell_type": "markdown",
     "metadata": {},
     "source": [
      "IPython has a set of predefined \u2018magic functions\u2019 that you can call with a command line style syntax.   \n",
      "There are two kinds of magics, line-oriented and cell-oriented.   \n",
      "Line magics are prefixed with the % character and work much like OS command-line calls: they get as an argument the rest of the line, where arguments are passed without parentheses or quotes.   \n",
      "Cell magics are prefixed with a double %%, and they are functions that get as an argument not only the rest of the line, but also the lines below it in a separate argument."
     ]
    },
    {
     "cell_type": "heading",
     "level": 2,
     "metadata": {},
     "source": [
      "Assignment and expressions"
     ]
    },
    {
     "cell_type": "markdown",
     "metadata": {},
     "source": [
      "The equal sign ('=') is used to assign a value to a variable. Afterwards, no result is displayed before the next interactive prompt:"
     ]
    },
    {
     "cell_type": "code",
     "collapsed": false,
     "input": [
      "x = 1"
     ],
     "language": "python",
     "metadata": {},
     "outputs": [],
     "prompt_number": 21
    },
    {
     "cell_type": "markdown",
     "metadata": {},
     "source": [
      "Spaces between the statements are optional but it helps for readability.\n",
      "\n",
      "To see the value of the variable, call it again or use the print function:"
     ]
    },
    {
     "cell_type": "code",
     "collapsed": false,
     "input": [
      "x"
     ],
     "language": "python",
     "metadata": {},
     "outputs": [
      {
       "metadata": {},
       "output_type": "pyout",
       "prompt_number": 22,
       "text": [
        "1"
       ]
      }
     ],
     "prompt_number": 22
    },
    {
     "cell_type": "code",
     "collapsed": false,
     "input": [
      "print(x)"
     ],
     "language": "python",
     "metadata": {},
     "outputs": [
      {
       "output_type": "stream",
       "stream": "stdout",
       "text": [
        "1\n"
       ]
      }
     ],
     "prompt_number": 23
    },
    {
     "cell_type": "markdown",
     "metadata": {},
     "source": [
      "Of course, the last assignment is that holds:"
     ]
    },
    {
     "cell_type": "code",
     "collapsed": false,
     "input": [
      "x = 2\n",
      "x = 3\n",
      "x"
     ],
     "language": "python",
     "metadata": {},
     "outputs": [
      {
       "metadata": {},
       "output_type": "pyout",
       "prompt_number": 24,
       "text": [
        "3"
       ]
      }
     ],
     "prompt_number": 24
    },
    {
     "cell_type": "markdown",
     "metadata": {},
     "source": [
      "In mathematics '=' is the symbol for identity, but in computer programming '=' is used for assignment, it means that the right part of the expresssion is assigned to its left part.   \n",
      "For example, 'x=x+1' does not make sense in mathematics but it does in computer programming:"
     ]
    },
    {
     "cell_type": "code",
     "collapsed": false,
     "input": [
      "x = 1\n",
      "print(x)\n",
      "x = x + 1\n",
      "print(x)"
     ],
     "language": "python",
     "metadata": {},
     "outputs": [
      {
       "output_type": "stream",
       "stream": "stdout",
       "text": [
        "1\n",
        "2\n"
       ]
      }
     ],
     "prompt_number": 25
    },
    {
     "cell_type": "markdown",
     "metadata": {},
     "source": [
      "A value can be assigned to several variables simultaneously:"
     ]
    },
    {
     "cell_type": "code",
     "collapsed": false,
     "input": [
      "x = y = 4\n",
      "print(x)\n",
      "print(y)"
     ],
     "language": "python",
     "metadata": {},
     "outputs": [
      {
       "output_type": "stream",
       "stream": "stdout",
       "text": [
        "4\n",
        "4\n"
       ]
      }
     ],
     "prompt_number": 26
    },
    {
     "cell_type": "markdown",
     "metadata": {},
     "source": [
      "Several values can be assigned to several variables at once:"
     ]
    },
    {
     "cell_type": "code",
     "collapsed": false,
     "input": [
      "x, y = 5, 6\n",
      "print(x)\n",
      "print(y)"
     ],
     "language": "python",
     "metadata": {},
     "outputs": [
      {
       "output_type": "stream",
       "stream": "stdout",
       "text": [
        "5\n",
        "6\n"
       ]
      }
     ],
     "prompt_number": 27
    },
    {
     "cell_type": "markdown",
     "metadata": {},
     "source": [
      "And with that, you can do (!):"
     ]
    },
    {
     "cell_type": "code",
     "collapsed": false,
     "input": [
      "x, y = y, x\n",
      "print(x)\n",
      "print(y)"
     ],
     "language": "python",
     "metadata": {},
     "outputs": [
      {
       "output_type": "stream",
       "stream": "stdout",
       "text": [
        "6\n",
        "5\n"
       ]
      }
     ],
     "prompt_number": 28
    },
    {
     "cell_type": "markdown",
     "metadata": {},
     "source": [
      "Variables must be \u201cdefined\u201d (assigned a value) before they can be used, or an error will occur:"
     ]
    },
    {
     "cell_type": "code",
     "collapsed": false,
     "input": [
      "x = z"
     ],
     "language": "python",
     "metadata": {},
     "outputs": [
      {
       "ename": "NameError",
       "evalue": "name 'z' is not defined",
       "output_type": "pyerr",
       "traceback": [
        "\u001b[1;31m---------------------------------------------------------------------------\u001b[0m\n\u001b[1;31mNameError\u001b[0m                                 Traceback (most recent call last)",
        "\u001b[1;32m<ipython-input-29-cfba4031bce1>\u001b[0m in \u001b[0;36m<module>\u001b[1;34m()\u001b[0m\n\u001b[1;32m----> 1\u001b[1;33m \u001b[0mx\u001b[0m \u001b[1;33m=\u001b[0m \u001b[0mz\u001b[0m\u001b[1;33m\u001b[0m\u001b[0m\n\u001b[0m",
        "\u001b[1;31mNameError\u001b[0m: name 'z' is not defined"
       ]
      }
     ],
     "prompt_number": 29
    },
    {
     "cell_type": "heading",
     "level": 2,
     "metadata": {},
     "source": [
      "Variables and types"
     ]
    },
    {
     "cell_type": "markdown",
     "metadata": {},
     "source": [
      "There are different types of built-in objects in Python (and remember that everything in Python is an object):"
     ]
    },
    {
     "cell_type": "code",
     "collapsed": false,
     "input": [
      "import types\n",
      "print(dir(types))"
     ],
     "language": "python",
     "metadata": {},
     "outputs": [
      {
       "output_type": "stream",
       "stream": "stdout",
       "text": [
        "['BooleanType', 'BufferType', 'BuiltinFunctionType', 'BuiltinMethodType', 'ClassType', 'CodeType', 'ComplexType', 'DictProxyType', 'DictType', 'DictionaryType', 'EllipsisType', 'FileType', 'FloatType', 'FrameType', 'FunctionType', 'GeneratorType', 'GetSetDescriptorType', 'InstanceType', 'IntType', 'LambdaType', 'ListType', 'LongType', 'MemberDescriptorType', 'MethodType', 'ModuleType', 'NoneType', 'NotImplementedType', 'ObjectType', 'SliceType', 'StringType', 'StringTypes', 'TracebackType', 'TupleType', 'TypeType', 'UnboundMethodType', 'UnicodeType', 'XRangeType', '__builtins__', '__doc__', '__file__', '__name__', '__package__']\n"
       ]
      }
     ],
     "prompt_number": 30
    },
    {
     "cell_type": "markdown",
     "metadata": {},
     "source": [
      "Let's see some of them now."
     ]
    },
    {
     "cell_type": "heading",
     "level": 3,
     "metadata": {},
     "source": [
      "Numbers: int, long, float, complex"
     ]
    },
    {
     "cell_type": "markdown",
     "metadata": {},
     "source": [
      "Numbers can an integer (int), long (large integer), float, and complex (with imaginary part).   \n",
      "Let's use the function `type` to show the type of number (and later for any other object):"
     ]
    },
    {
     "cell_type": "code",
     "collapsed": false,
     "input": [
      "type(6)"
     ],
     "language": "python",
     "metadata": {},
     "outputs": [
      {
       "metadata": {},
       "output_type": "pyout",
       "prompt_number": 31,
       "text": [
        "int"
       ]
      }
     ],
     "prompt_number": 31
    },
    {
     "cell_type": "markdown",
     "metadata": {},
     "source": [
      "The maximum (unsigned) possible integer (beyond that it is a `long`) is available in:"
     ]
    },
    {
     "cell_type": "code",
     "collapsed": false,
     "input": [
      "sys.maxint"
     ],
     "language": "python",
     "metadata": {},
     "outputs": [
      {
       "metadata": {},
       "output_type": "pyout",
       "prompt_number": 32,
       "text": [
        "2147483647"
       ]
      }
     ],
     "prompt_number": 32
    },
    {
     "cell_type": "markdown",
     "metadata": {},
     "source": [
      "And the minimum interger is `-sys.maxint - 1`.   \n",
      "Which corresponds to almost 10 to the power of 19 (10\\**19).   \n",
      "So, any number bigger than that will be represented as a long with a 'L' at the end of the number:"
     ]
    },
    {
     "cell_type": "code",
     "collapsed": false,
     "input": [
      "10**19"
     ],
     "language": "python",
     "metadata": {},
     "outputs": [
      {
       "metadata": {},
       "output_type": "pyout",
       "prompt_number": 33,
       "text": [
        "10000000000000000000L"
       ]
      }
     ],
     "prompt_number": 33
    },
    {
     "cell_type": "markdown",
     "metadata": {},
     "source": [
      "A float is a non-integer number:"
     ]
    },
    {
     "cell_type": "code",
     "collapsed": false,
     "input": [
      "math.pi"
     ],
     "language": "python",
     "metadata": {},
     "outputs": [
      {
       "metadata": {},
       "output_type": "pyout",
       "prompt_number": 34,
       "text": [
        "3.141592653589793"
       ]
      }
     ],
     "prompt_number": 34
    },
    {
     "cell_type": "code",
     "collapsed": false,
     "input": [
      "type(math.pi)"
     ],
     "language": "python",
     "metadata": {},
     "outputs": [
      {
       "metadata": {},
       "output_type": "pyout",
       "prompt_number": 35,
       "text": [
        "float"
       ]
      }
     ],
     "prompt_number": 35
    },
    {
     "cell_type": "markdown",
     "metadata": {},
     "source": [
      "Python (IPython) is showing `math.pi` with only 11 decimal cases, but internally a float is represented with higher precision.   \n",
      "Floating point numbers in Python are implemented using a double (eight bytes) word; the precison and internal representation of floating point numbers are machine specific and are available in:"
     ]
    },
    {
     "cell_type": "code",
     "collapsed": false,
     "input": [
      "sys.float_info"
     ],
     "language": "python",
     "metadata": {},
     "outputs": [
      {
       "metadata": {},
       "output_type": "pyout",
       "prompt_number": 36,
       "text": [
        "sys.float_info(max=1.7976931348623157e+308, max_exp=1024, max_10_exp=308, min=2.2250738585072014e-308, min_exp=-1021, min_10_exp=-307, dig=15, mant_dig=53, epsilon=2.220446049250313e-16, radix=2, rounds=1)"
       ]
      }
     ],
     "prompt_number": 36
    },
    {
     "cell_type": "markdown",
     "metadata": {},
     "source": [
      "Be aware that floating-point numbers can be trick in computers:"
     ]
    },
    {
     "cell_type": "code",
     "collapsed": false,
     "input": [
      "0.1 + 0.2"
     ],
     "language": "python",
     "metadata": {},
     "outputs": [
      {
       "metadata": {},
       "output_type": "pyout",
       "prompt_number": 37,
       "text": [
        "0.30000000000000004"
       ]
      }
     ],
     "prompt_number": 37
    },
    {
     "cell_type": "code",
     "collapsed": false,
     "input": [
      "0.1 + 0.2 - 0.3"
     ],
     "language": "python",
     "metadata": {},
     "outputs": [
      {
       "metadata": {},
       "output_type": "pyout",
       "prompt_number": 38,
       "text": [
        "5.551115123125783e-17"
       ]
      }
     ],
     "prompt_number": 38
    },
    {
     "cell_type": "markdown",
     "metadata": {},
     "source": [
      "These results are not correct (and the problem is not due to Python).   \n",
      "The error arises from the fact that floating-point numbers are represented in computer hardware as base 2 (binary) fractions and most decimal fractions cannot be represented exactly as binary fractions.   \n",
      "As consequence, decimal floating-point numbers are only approximated by the binary floating-point numbers actually stored in the machine.   \n",
      "[See here for more on this issue](http://docs.python.org/2/tutorial/floatingpoint.html)."
     ]
    },
    {
     "cell_type": "markdown",
     "metadata": {},
     "source": [
      "A complex number has real and imaginary parts:"
     ]
    },
    {
     "cell_type": "code",
     "collapsed": false,
     "input": [
      "1+2j"
     ],
     "language": "python",
     "metadata": {},
     "outputs": [
      {
       "metadata": {},
       "output_type": "pyout",
       "prompt_number": 39,
       "text": [
        "(1+2j)"
       ]
      }
     ],
     "prompt_number": 39
    },
    {
     "cell_type": "code",
     "collapsed": false,
     "input": [
      "print(type(1+2j))"
     ],
     "language": "python",
     "metadata": {},
     "outputs": [
      {
       "output_type": "stream",
       "stream": "stdout",
       "text": [
        "<type 'complex'>\n"
       ]
      }
     ],
     "prompt_number": 40
    },
    {
     "cell_type": "markdown",
     "metadata": {},
     "source": [
      "Each part of a complex number is represented as a floating-point number. We can see them using the attributes `.real` and `.imag`:"
     ]
    },
    {
     "cell_type": "code",
     "collapsed": false,
     "input": [
      "print((1+2j).real)\n",
      "print((1+2j).imag)"
     ],
     "language": "python",
     "metadata": {},
     "outputs": [
      {
       "output_type": "stream",
       "stream": "stdout",
       "text": [
        "1.0\n",
        "2.0\n"
       ]
      }
     ],
     "prompt_number": 41
    },
    {
     "cell_type": "heading",
     "level": 3,
     "metadata": {},
     "source": [
      "Strings"
     ]
    },
    {
     "cell_type": "markdown",
     "metadata": {},
     "source": [
      "Strings can be enclosed in single quotes or double quotes:"
     ]
    },
    {
     "cell_type": "code",
     "collapsed": false,
     "input": [
      "s = 'string (str) is a built-in type in Python'\n",
      "s"
     ],
     "language": "python",
     "metadata": {},
     "outputs": [
      {
       "metadata": {},
       "output_type": "pyout",
       "prompt_number": 42,
       "text": [
        "'string (str) is a built-in type in Python'"
       ]
      }
     ],
     "prompt_number": 42
    },
    {
     "cell_type": "code",
     "collapsed": false,
     "input": [
      "type(s)"
     ],
     "language": "python",
     "metadata": {},
     "outputs": [
      {
       "metadata": {},
       "output_type": "pyout",
       "prompt_number": 43,
       "text": [
        "str"
       ]
      }
     ],
     "prompt_number": 43
    },
    {
     "cell_type": "markdown",
     "metadata": {},
     "source": [
      "String enclosed with single and double quotes are equal, but it may be easier to use one instead of the other:"
     ]
    },
    {
     "cell_type": "code",
     "collapsed": false,
     "input": [
      "'string (str) is a Python's built-in type'"
     ],
     "language": "python",
     "metadata": {},
     "outputs": [
      {
       "ename": "SyntaxError",
       "evalue": "invalid syntax (<ipython-input-44-ca70e9285fe4>, line 1)",
       "output_type": "pyerr",
       "traceback": [
        "\u001b[1;36m  File \u001b[1;32m\"<ipython-input-44-ca70e9285fe4>\"\u001b[1;36m, line \u001b[1;32m1\u001b[0m\n\u001b[1;33m    'string (str) is a Python's built-in type'\u001b[0m\n\u001b[1;37m                              ^\u001b[0m\n\u001b[1;31mSyntaxError\u001b[0m\u001b[1;31m:\u001b[0m invalid syntax\n"
       ]
      }
     ],
     "prompt_number": 44
    },
    {
     "cell_type": "code",
     "collapsed": false,
     "input": [
      "\"string (str) is a Python's built-in type\""
     ],
     "language": "python",
     "metadata": {},
     "outputs": [
      {
       "metadata": {},
       "output_type": "pyout",
       "prompt_number": 45,
       "text": [
        "\"string (str) is a Python's built-in type\""
       ]
      }
     ],
     "prompt_number": 45
    },
    {
     "cell_type": "markdown",
     "metadata": {},
     "source": [
      "But you could have done that using the Python escape character '\\':"
     ]
    },
    {
     "cell_type": "code",
     "collapsed": false,
     "input": [
      "'string (str) is a Python\\'s built-in type'"
     ],
     "language": "python",
     "metadata": {},
     "outputs": [
      {
       "metadata": {},
       "output_type": "pyout",
       "prompt_number": 46,
       "text": [
        "\"string (str) is a Python's built-in type\""
       ]
      }
     ],
     "prompt_number": 46
    },
    {
     "cell_type": "markdown",
     "metadata": {},
     "source": [
      "Strings can be concatenated (glued together) with the + operator, and repeated with *:"
     ]
    },
    {
     "cell_type": "code",
     "collapsed": false,
     "input": [
      "s = 'P' + 'y' + 't' + 'h' + 'o' + 'n'\n",
      "print(s)\n",
      "print(s*5)"
     ],
     "language": "python",
     "metadata": {},
     "outputs": [
      {
       "output_type": "stream",
       "stream": "stdout",
       "text": [
        "Python\n",
        "PythonPythonPythonPythonPython\n"
       ]
      }
     ],
     "prompt_number": 47
    },
    {
     "cell_type": "markdown",
     "metadata": {},
     "source": [
      "Strings can be subscripted (indexed); like in C, the first character of a string has subscript (index) 0:"
     ]
    },
    {
     "cell_type": "code",
     "collapsed": false,
     "input": [
      "print('s[0] = ', s[0], '  (s[index], start at 0)')\n",
      "print('s[5] = ', s[5])\n",
      "print('s[-1] = ', s[-1], '  (last element)')\n",
      "print('s[:] = ', s[:], '  (all elements)')\n",
      "print('s[1:] = ', s[1:], '  (from this index (inclusive) till the last (inclusive))')\n",
      "print('s[2:4] = ', s[2:4], '  (from first index (inclusive) till second index (exclusive))')\n",
      "print('s[:2] = ', s[:2], '  (till this index, exclusive)')\n",
      "print('s[:10] = ', s[:10], '  (Python handles the index if it is larger than the string length)')\n",
      "print('s[-10:] = ', s[-10:])\n",
      "print('s[0:5:2] = ', s[0:5:2], '  (s[ini:end:step])')\n",
      "print('s[::2] = ', s[::2], '  (s[::step], initial and final indexes can be omitted)')\n",
      "print('s[0:5:-1] = ', s[::-1], '  (s[::-step] reverses the string)')\n",
      "print('s[:2] + s[2:] = ', s[:2] + s[2:], '  (because of Python indexing, this sounds natural)')"
     ],
     "language": "python",
     "metadata": {},
     "outputs": [
      {
       "output_type": "stream",
       "stream": "stdout",
       "text": [
        "s[0] =  P   (s[index], start at 0)\n",
        "s[5] =  n\n",
        "s[-1] =  n   (last element)\n",
        "s[:] =  Python   (all elements)\n",
        "s[1:] =  ython   (from this index (inclusive) till the last (inclusive))\n",
        "s[2:4] =  th   (from first index (inclusive) till second index (exclusive))\n",
        "s[:2] =  Py   (till this index, exclusive)\n",
        "s[:10] =  Python   (Python handles the index if it is larger than the string length)\n",
        "s[-10:] =  Python\n",
        "s[0:5:2] =  Pto   (s[ini:end:step])\n",
        "s[::2] =  Pto   (s[::step], initial and final indexes can be omitted)\n",
        "s[0:5:-1] =  nohtyP   (s[::-step] reverses the string)\n",
        "s[:2] + s[2:] =  Python   (because of Python indexing, this sounds natural)\n"
       ]
      }
     ],
     "prompt_number": 48
    },
    {
     "cell_type": "heading",
     "level": 3,
     "metadata": {},
     "source": [
      "len()"
     ]
    },
    {
     "cell_type": "markdown",
     "metadata": {},
     "source": [
      "Python has a built-in functon to get the number of itens of a sequence:"
     ]
    },
    {
     "cell_type": "code",
     "collapsed": false,
     "input": [
      "help(len)"
     ],
     "language": "python",
     "metadata": {},
     "outputs": [
      {
       "output_type": "stream",
       "stream": "stdout",
       "text": [
        "Help on built-in function len in module __builtin__:\n",
        "\n",
        "len(...)\n",
        "    len(object) -> integer\n",
        "    \n",
        "    Return the number of items of a sequence or mapping.\n",
        "\n"
       ]
      }
     ],
     "prompt_number": 49
    },
    {
     "cell_type": "code",
     "collapsed": false,
     "input": [
      "s = 'Python'\n",
      "len(s)"
     ],
     "language": "python",
     "metadata": {},
     "outputs": [
      {
       "metadata": {},
       "output_type": "pyout",
       "prompt_number": 50,
       "text": [
        "6"
       ]
      }
     ],
     "prompt_number": 50
    },
    {
     "cell_type": "markdown",
     "metadata": {},
     "source": [
      "The function len() helps to understand how the backward indexing works in Python.    \n",
      "The index s[-i] should be understood as s[len(s) - i] rather than accessing directly the i-th element from back to front. This is why the last element of a string is s[-1]:"
     ]
    },
    {
     "cell_type": "code",
     "collapsed": false,
     "input": [
      "print('s = ', s)\n",
      "print('len(s) = ', len(s))\n",
      "print('len(s)-1 = ',len(s) - 1)\n",
      "print('s[-1] = ', s[-1])\n",
      "print('s[len(s) - 1] = ', s[len(s) - 1])"
     ],
     "language": "python",
     "metadata": {},
     "outputs": [
      {
       "output_type": "stream",
       "stream": "stdout",
       "text": [
        "s =  Python\n",
        "len(s) =  6\n",
        "len(s)-1 =  5\n",
        "s[-1] =  n\n",
        "s[len(s) - 1] =  n\n"
       ]
      }
     ],
     "prompt_number": 51
    },
    {
     "cell_type": "markdown",
     "metadata": {},
     "source": [
      "Or, strings can be surrounded in a pair of matching triple-quotes: \"\"\" or '''. End of lines do not need to be escaped when using triple-quotes, but they will be included in the string. This is how we created a multi-line comment earlier:"
     ]
    },
    {
     "cell_type": "code",
     "collapsed": false,
     "input": [
      "\"\"\"Strings can be surrounded in a pair of matching triple-quotes: \\\"\"\" or '''.\n",
      "\n",
      "End of lines do not need to be escaped when using triple-quotes,\n",
      "but they will be included in the string.\n",
      "\n",
      "\"\"\""
     ],
     "language": "python",
     "metadata": {},
     "outputs": [
      {
       "metadata": {},
       "output_type": "pyout",
       "prompt_number": 52,
       "text": [
        "'Strings can be surrounded in a pair of matching triple-quotes: \"\"\" or \\'\\'\\'.\\n\\nEnd of lines do not need to be escaped when using triple-quotes,\\nbut they will be included in the string.\\n\\n'"
       ]
      }
     ],
     "prompt_number": 52
    },
    {
     "cell_type": "heading",
     "level": 3,
     "metadata": {},
     "source": [
      "Lists"
     ]
    },
    {
     "cell_type": "markdown",
     "metadata": {},
     "source": [
      "Values can be grouped together using different types, one of them is list, which can be written as a list of comma-separated values between square brackets. List items need not all have the same type:"
     ]
    },
    {
     "cell_type": "code",
     "collapsed": false,
     "input": [
      "x = ['spam', 'eggs', 100, 1234]\n",
      "x"
     ],
     "language": "python",
     "metadata": {},
     "outputs": [
      {
       "metadata": {},
       "output_type": "pyout",
       "prompt_number": 53,
       "text": [
        "['spam', 'eggs', 100, 1234]"
       ]
      }
     ],
     "prompt_number": 53
    },
    {
     "cell_type": "markdown",
     "metadata": {},
     "source": [
      "Lists can be indexed and the same indexing rules we saw for strings are applied:"
     ]
    },
    {
     "cell_type": "code",
     "collapsed": false,
     "input": [
      "x[0]"
     ],
     "language": "python",
     "metadata": {},
     "outputs": [
      {
       "metadata": {},
       "output_type": "pyout",
       "prompt_number": 54,
       "text": [
        "'spam'"
       ]
      }
     ],
     "prompt_number": 54
    },
    {
     "cell_type": "markdown",
     "metadata": {},
     "source": [
      "The function len() works for lists:"
     ]
    },
    {
     "cell_type": "code",
     "collapsed": false,
     "input": [
      "len(x)"
     ],
     "language": "python",
     "metadata": {},
     "outputs": [
      {
       "metadata": {},
       "output_type": "pyout",
       "prompt_number": 55,
       "text": [
        "4"
       ]
      }
     ],
     "prompt_number": 55
    },
    {
     "cell_type": "heading",
     "level": 3,
     "metadata": {},
     "source": [
      "Tuples"
     ]
    },
    {
     "cell_type": "markdown",
     "metadata": {},
     "source": [
      "A tuple consists of a number of values separated by commas, for instance:"
     ]
    },
    {
     "cell_type": "code",
     "collapsed": false,
     "input": [
      "t = ('spam', 'eggs', 100, 1234)\n",
      "t"
     ],
     "language": "python",
     "metadata": {},
     "outputs": [
      {
       "metadata": {},
       "output_type": "pyout",
       "prompt_number": 56,
       "text": [
        "('spam', 'eggs', 100, 1234)"
       ]
      }
     ],
     "prompt_number": 56
    },
    {
     "cell_type": "markdown",
     "metadata": {},
     "source": [
      "The type tuple is why multiple assignments in a single line works; elements separated by commas (with or without surrounding parentheses) are a tuple and in an expression with an '=', the right-side tuple is attributed to the left-side tuple: "
     ]
    },
    {
     "cell_type": "code",
     "collapsed": false,
     "input": [
      "a, b = 1, 2\n",
      "print('a = ', a, '\\nb = ', b)"
     ],
     "language": "python",
     "metadata": {},
     "outputs": [
      {
       "output_type": "stream",
       "stream": "stdout",
       "text": [
        "a =  1 \n",
        "b =  2\n"
       ]
      }
     ],
     "prompt_number": 57
    },
    {
     "cell_type": "markdown",
     "metadata": {},
     "source": [
      "Is the same as:"
     ]
    },
    {
     "cell_type": "code",
     "collapsed": false,
     "input": [
      "(a, b) = (1, 2)\n",
      "print('a = ', a, '\\nb = ', b)"
     ],
     "language": "python",
     "metadata": {},
     "outputs": [
      {
       "output_type": "stream",
       "stream": "stdout",
       "text": [
        "a =  1 \n",
        "b =  2\n"
       ]
      }
     ],
     "prompt_number": 58
    },
    {
     "cell_type": "heading",
     "level": 3,
     "metadata": {},
     "source": [
      "Sets"
     ]
    },
    {
     "cell_type": "markdown",
     "metadata": {},
     "source": [
      "Python also includes a data type for sets. A set is an unordered collection with no duplicate elements."
     ]
    },
    {
     "cell_type": "code",
     "collapsed": false,
     "input": [
      "basket = ['apple', 'orange', 'apple', 'pear', 'orange', 'banana']\n",
      "fruit = set(basket)  # create a set without duplicates\n",
      "fruit"
     ],
     "language": "python",
     "metadata": {},
     "outputs": [
      {
       "metadata": {},
       "output_type": "pyout",
       "prompt_number": 59,
       "text": [
        "{'apple', 'banana', 'orange', 'pear'}"
       ]
      }
     ],
     "prompt_number": 59
    },
    {
     "cell_type": "markdown",
     "metadata": {},
     "source": [
      "As set is an unordered collection, it can not be indexed as lists and tuples."
     ]
    },
    {
     "cell_type": "code",
     "collapsed": false,
     "input": [
      "set(['orange', 'pear', 'apple', 'banana'])\n",
      "'orange' in fruit  # fast membership testing"
     ],
     "language": "python",
     "metadata": {},
     "outputs": [
      {
       "metadata": {},
       "output_type": "pyout",
       "prompt_number": 60,
       "text": [
        "True"
       ]
      }
     ],
     "prompt_number": 60
    },
    {
     "cell_type": "heading",
     "level": 3,
     "metadata": {},
     "source": [
      "Dictionaries"
     ]
    },
    {
     "cell_type": "markdown",
     "metadata": {},
     "source": [
      "Dictionary is a collection of elements organized keys and values. Unlike lists and tuples, which are indexed by a range of numbers, dictionaries are indexed by their keys:"
     ]
    },
    {
     "cell_type": "code",
     "collapsed": false,
     "input": [
      "tel = {'jack': 4098, 'sape': 4139}\n",
      "tel"
     ],
     "language": "python",
     "metadata": {},
     "outputs": [
      {
       "metadata": {},
       "output_type": "pyout",
       "prompt_number": 61,
       "text": [
        "{'jack': 4098, 'sape': 4139}"
       ]
      }
     ],
     "prompt_number": 61
    },
    {
     "cell_type": "code",
     "collapsed": false,
     "input": [
      "tel['guido'] = 4127\n",
      "tel"
     ],
     "language": "python",
     "metadata": {},
     "outputs": [
      {
       "metadata": {},
       "output_type": "pyout",
       "prompt_number": 62,
       "text": [
        "{'guido': 4127, 'jack': 4098, 'sape': 4139}"
       ]
      }
     ],
     "prompt_number": 62
    },
    {
     "cell_type": "code",
     "collapsed": false,
     "input": [
      "tel['jack']"
     ],
     "language": "python",
     "metadata": {},
     "outputs": [
      {
       "metadata": {},
       "output_type": "pyout",
       "prompt_number": 63,
       "text": [
        "4098"
       ]
      }
     ],
     "prompt_number": 63
    },
    {
     "cell_type": "code",
     "collapsed": false,
     "input": [
      "del tel['sape']\n",
      "tel['irv'] = 4127\n",
      "tel"
     ],
     "language": "python",
     "metadata": {},
     "outputs": [
      {
       "metadata": {},
       "output_type": "pyout",
       "prompt_number": 64,
       "text": [
        "{'guido': 4127, 'irv': 4127, 'jack': 4098}"
       ]
      }
     ],
     "prompt_number": 64
    },
    {
     "cell_type": "code",
     "collapsed": false,
     "input": [
      "tel.keys()"
     ],
     "language": "python",
     "metadata": {},
     "outputs": [
      {
       "metadata": {},
       "output_type": "pyout",
       "prompt_number": 65,
       "text": [
        "['jack', 'irv', 'guido']"
       ]
      }
     ],
     "prompt_number": 65
    },
    {
     "cell_type": "code",
     "collapsed": false,
     "input": [
      "'guido' in tel"
     ],
     "language": "python",
     "metadata": {},
     "outputs": [
      {
       "metadata": {},
       "output_type": "pyout",
       "prompt_number": 66,
       "text": [
        "True"
       ]
      }
     ],
     "prompt_number": 66
    },
    {
     "cell_type": "markdown",
     "metadata": {},
     "source": [
      "The dict() constructor builds dictionaries directly from sequences of key-value pairs:"
     ]
    },
    {
     "cell_type": "code",
     "collapsed": false,
     "input": [
      "tel = dict([('sape', 4139), ('guido', 4127), ('jack', 4098)])\n",
      "tel"
     ],
     "language": "python",
     "metadata": {},
     "outputs": [
      {
       "metadata": {},
       "output_type": "pyout",
       "prompt_number": 67,
       "text": [
        "{'guido': 4127, 'jack': 4098, 'sape': 4139}"
       ]
      }
     ],
     "prompt_number": 67
    },
    {
     "cell_type": "heading",
     "level": 2,
     "metadata": {},
     "source": [
      "Built-in Constants"
     ]
    },
    {
     "cell_type": "markdown",
     "metadata": {},
     "source": [
      "- **False** : false value of the bool type\n",
      "- **True** : true value of the bool type\n",
      "- **None** : sole value of types.NoneType. None is frequently used to represent the absence of a value."
     ]
    },
    {
     "cell_type": "markdown",
     "metadata": {},
     "source": [
      "In computer science, the Boolean or logical data type is composed by two values, true and false, intended to represent the values of logic and Boolean algebra. In Python, 1 and 0 can also be used in most situations as equivalent to the Boolean values."
     ]
    },
    {
     "cell_type": "heading",
     "level": 2,
     "metadata": {},
     "source": [
      "Logical (Boolean) operators"
     ]
    },
    {
     "cell_type": "heading",
     "level": 3,
     "metadata": {},
     "source": [
      "and, or, not"
     ]
    },
    {
     "cell_type": "markdown",
     "metadata": {},
     "source": [
      "- **and** : logical AND operator. If both the operands are true then condition becomes true.\t (a and b) is true.\n",
      "- **or** : logical OR Operator. If any of the two operands are non zero then condition becomes true.\t (a or b) is true.\n",
      "- **not** : logical NOT Operator. Reverses the logical state of its operand. If a condition is true then logical NOT operator will make false."
     ]
    },
    {
     "cell_type": "heading",
     "level": 3,
     "metadata": {},
     "source": [
      "Comparisons"
     ]
    },
    {
     "cell_type": "markdown",
     "metadata": {},
     "source": [
      "The following comparison operations are supported by objects in Python:\n",
      "\n",
      "- **==** : equal\n",
      "- **!=** : not equal\n",
      "- **<**\t: strictly less than\n",
      "- **<=** : less than or equal\n",
      "- **\\>** : strictly greater than\n",
      "- **\\>=** : greater than or equal\n",
      "- **is** : object identity\n",
      "- **is not** : negated object identity"
     ]
    },
    {
     "cell_type": "code",
     "collapsed": false,
     "input": [
      "True == False"
     ],
     "language": "python",
     "metadata": {},
     "outputs": [
      {
       "metadata": {},
       "output_type": "pyout",
       "prompt_number": 68,
       "text": [
        "False"
       ]
      }
     ],
     "prompt_number": 68
    },
    {
     "cell_type": "code",
     "collapsed": false,
     "input": [
      "not True == False"
     ],
     "language": "python",
     "metadata": {},
     "outputs": [
      {
       "metadata": {},
       "output_type": "pyout",
       "prompt_number": 69,
       "text": [
        "True"
       ]
      }
     ],
     "prompt_number": 69
    },
    {
     "cell_type": "code",
     "collapsed": false,
     "input": [
      "1 < 2 > 1"
     ],
     "language": "python",
     "metadata": {},
     "outputs": [
      {
       "metadata": {},
       "output_type": "pyout",
       "prompt_number": 70,
       "text": [
        "True"
       ]
      }
     ],
     "prompt_number": 70
    },
    {
     "cell_type": "code",
     "collapsed": false,
     "input": [
      "True != (False or True)"
     ],
     "language": "python",
     "metadata": {},
     "outputs": [
      {
       "metadata": {},
       "output_type": "pyout",
       "prompt_number": 71,
       "text": [
        "False"
       ]
      }
     ],
     "prompt_number": 71
    },
    {
     "cell_type": "code",
     "collapsed": false,
     "input": [
      "True != False or True"
     ],
     "language": "python",
     "metadata": {},
     "outputs": [
      {
       "metadata": {},
       "output_type": "pyout",
       "prompt_number": 72,
       "text": [
        "True"
       ]
      }
     ],
     "prompt_number": 72
    },
    {
     "cell_type": "heading",
     "level": 2,
     "metadata": {},
     "source": [
      "Indentation and whitespace"
     ]
    },
    {
     "cell_type": "markdown",
     "metadata": {},
     "source": [
      "In Python, statement grouping is done by indentation (this is mandatory), which are done by inserting whitespaces, not tabs. Indentation is also recommended for alignment of function calling that span more than one line for better clarity.   \n",
      "We will see examples of indentation in the next session."
     ]
    },
    {
     "cell_type": "heading",
     "level": 2,
     "metadata": {},
     "source": [
      "Control of flow"
     ]
    },
    {
     "cell_type": "heading",
     "level": 3,
     "metadata": {},
     "source": [
      "`if`...`elif`...`else`"
     ]
    },
    {
     "cell_type": "markdown",
     "metadata": {},
     "source": [
      "Conditional statements (to peform something if another thing is True or False) can be implemmented using the `if` statement:"
     ]
    },
    {
     "cell_type": "markdown",
     "metadata": {},
     "source": [
      "    if expression:\n",
      "       statement\n",
      "    elif:\n",
      "       statement     \n",
      "    else:\n",
      "       statement"
     ]
    },
    {
     "cell_type": "markdown",
     "metadata": {},
     "source": [
      "`elif` (one or more) and `else` are optionals.   \n",
      "The indentation is obligatory.   \n",
      "For example:"
     ]
    },
    {
     "cell_type": "code",
     "collapsed": false,
     "input": [
      "if True:\n",
      "    pass"
     ],
     "language": "python",
     "metadata": {},
     "outputs": [],
     "prompt_number": 73
    },
    {
     "cell_type": "markdown",
     "metadata": {},
     "source": [
      "Which does nothing useful.   \n",
      "\n",
      "Let's use the `if`...`elif`...`else` statements to categorize the body mass index of a person (http://en.wikipedia.org/wiki/Body_mass_index):"
     ]
    },
    {
     "cell_type": "code",
     "collapsed": false,
     "input": [
      "# body mass index\n",
      "weight = 100  # kg\n",
      "height = 1.70  # m\n",
      "bmi = weight / height**2"
     ],
     "language": "python",
     "metadata": {},
     "outputs": [],
     "prompt_number": 74
    },
    {
     "cell_type": "code",
     "collapsed": false,
     "input": [
      "if bmi < 15:\n",
      "    c = 'very severely underweight'\n",
      "elif 15 <= bmi < 16:\n",
      "    c = 'severely underweight'\n",
      "elif 16 <= bmi < 18.5:\n",
      "    c = 'underweight'\n",
      "elif 18.5 <= bmi < 25:\n",
      "    c = 'normal'\n",
      "elif 25 <= bmi < 30:\n",
      "    c = 'overweight'\n",
      "elif 30 <= bmi < 35:\n",
      "    c = 'moderately obese'\n",
      "elif 35 <= bmi < 40:\n",
      "    c = 'severely obese'\n",
      "else:\n",
      "    c = 'very severely obese'\n",
      "    \n",
      "print('For a weight of {0:.1f} kg and a height of {1:.2f} m,\\n\\\n",
      "the body mass index (bmi) is {2:.1f} kg/m2,\\nwhich is considered {3:s}.'\\\n",
      "      .format(weight, height, bmi, c))"
     ],
     "language": "python",
     "metadata": {},
     "outputs": [
      {
       "output_type": "stream",
       "stream": "stdout",
       "text": [
        "For a weight of 100.0 kg and a height of 1.70 m,\n",
        "the body mass index (bmi) is 34.6 kg/m2,\n",
        "which is considered moderately obese.\n"
       ]
      }
     ],
     "prompt_number": 75
    },
    {
     "cell_type": "heading",
     "level": 3,
     "metadata": {},
     "source": [
      "for"
     ]
    },
    {
     "cell_type": "markdown",
     "metadata": {},
     "source": [
      "The `for` statement iterates over a sequence to perform operations (a loop event)."
     ]
    },
    {
     "cell_type": "markdown",
     "metadata": {},
     "source": [
      "    for iterating_var in sequence:\n",
      "       statements"
     ]
    },
    {
     "cell_type": "code",
     "collapsed": false,
     "input": [
      "for i in [3, 2, 1, 'go!']:\n",
      "    print(i),"
     ],
     "language": "python",
     "metadata": {},
     "outputs": [
      {
       "output_type": "stream",
       "stream": "stdout",
       "text": [
        "3\n",
        "2\n",
        "1\n",
        "go!\n"
       ]
      }
     ],
     "prompt_number": 77
    },
    {
     "cell_type": "code",
     "collapsed": false,
     "input": [
      "for letter in 'Python':\n",
      "    print(letter),"
     ],
     "language": "python",
     "metadata": {},
     "outputs": [
      {
       "output_type": "stream",
       "stream": "stdout",
       "text": [
        "P\n",
        "y\n",
        "t\n",
        "h\n",
        "o\n",
        "n\n"
       ]
      }
     ],
     "prompt_number": 78
    },
    {
     "cell_type": "heading",
     "level": 4,
     "metadata": {},
     "source": [
      "The `range()` function"
     ]
    },
    {
     "cell_type": "markdown",
     "metadata": {},
     "source": [
      "The built-in function range() is useful if we need to create a sequence of numbers, for example, to iterate over this list. It generates lists containing arithmetic progressions:"
     ]
    },
    {
     "cell_type": "code",
     "collapsed": false,
     "input": [
      "help(range)"
     ],
     "language": "python",
     "metadata": {},
     "outputs": [
      {
       "output_type": "stream",
       "stream": "stdout",
       "text": [
        "Help on built-in function range in module __builtin__:\n",
        "\n",
        "range(...)\n",
        "    range(stop) -> list of integers\n",
        "    range(start, stop[, step]) -> list of integers\n",
        "    \n",
        "    Return a list containing an arithmetic progression of integers.\n",
        "    range(i, j) returns [i, i+1, i+2, ..., j-1]; start (!) defaults to 0.\n",
        "    When step is given, it specifies the increment (or decrement).\n",
        "    For example, range(4) returns [0, 1, 2, 3].  The end point is omitted!\n",
        "    These are exactly the valid indices for a list of 4 elements.\n",
        "\n"
       ]
      }
     ],
     "prompt_number": 79
    },
    {
     "cell_type": "code",
     "collapsed": false,
     "input": [
      "range(10)"
     ],
     "language": "python",
     "metadata": {},
     "outputs": [
      {
       "metadata": {},
       "output_type": "pyout",
       "prompt_number": 80,
       "text": [
        "[0, 1, 2, 3, 4, 5, 6, 7, 8, 9]"
       ]
      }
     ],
     "prompt_number": 80
    },
    {
     "cell_type": "code",
     "collapsed": false,
     "input": [
      "range(1, 10, 2)"
     ],
     "language": "python",
     "metadata": {},
     "outputs": [
      {
       "metadata": {},
       "output_type": "pyout",
       "prompt_number": 81,
       "text": [
        "[1, 3, 5, 7, 9]"
       ]
      }
     ],
     "prompt_number": 81
    },
    {
     "cell_type": "code",
     "collapsed": false,
     "input": [
      "for i in range(10):\n",
      "    n2 = i**2\n",
      "    print(n2),"
     ],
     "language": "python",
     "metadata": {},
     "outputs": [
      {
       "output_type": "stream",
       "stream": "stdout",
       "text": [
        "0\n",
        "1\n",
        "4\n",
        "9\n",
        "16\n",
        "25\n",
        "36\n",
        "49\n",
        "64\n",
        "81\n"
       ]
      }
     ],
     "prompt_number": 82
    },
    {
     "cell_type": "heading",
     "level": 3,
     "metadata": {},
     "source": [
      "while"
     ]
    },
    {
     "cell_type": "markdown",
     "metadata": {},
     "source": [
      "The `while` statement is used for repeating sections of code in a loop until a condition is met (this different than the `for` statement which executes n times):"
     ]
    },
    {
     "cell_type": "markdown",
     "metadata": {},
     "source": [
      "    while expression:\n",
      "        statement"
     ]
    },
    {
     "cell_type": "markdown",
     "metadata": {},
     "source": [
      "Let's generate the Fibonacci series using a `while` loop:"
     ]
    },
    {
     "cell_type": "code",
     "collapsed": false,
     "input": [
      "# Fibonacci series: the sum of two elements defines the next\n",
      "a, b = 0, 1\n",
      "while b < 1000:\n",
      "    print(b, end='   ')\n",
      "    a, b = b, a+b"
     ],
     "language": "python",
     "metadata": {},
     "outputs": [
      {
       "output_type": "stream",
       "stream": "stdout",
       "text": [
        "1   1   2   3   5   8   13   21   34   55   89   144   233   377   610   987   "
       ]
      }
     ],
     "prompt_number": 83
    },
    {
     "cell_type": "heading",
     "level": 2,
     "metadata": {},
     "source": [
      "Function definition"
     ]
    },
    {
     "cell_type": "markdown",
     "metadata": {},
     "source": [
      "A function in a programming language is a piece of code that performs a specific task. Functions are used to reduce duplication of code making easier to reuse it and to decompose complex problems into simpler parts. The use of functions contribute to the clarity of the code.\n",
      "\n",
      "A function is created with the `def` keyword and the statements in the block of the function must be indented:"
     ]
    },
    {
     "cell_type": "code",
     "collapsed": false,
     "input": [
      "def function():\n",
      "    pass"
     ],
     "language": "python",
     "metadata": {},
     "outputs": [],
     "prompt_number": 84
    },
    {
     "cell_type": "markdown",
     "metadata": {},
     "source": [
      "As per construction, this function does nothing when called:"
     ]
    },
    {
     "cell_type": "code",
     "collapsed": false,
     "input": [
      "function()"
     ],
     "language": "python",
     "metadata": {},
     "outputs": [],
     "prompt_number": 85
    },
    {
     "cell_type": "markdown",
     "metadata": {},
     "source": [
      "The general syntax of a function definition is:"
     ]
    },
    {
     "cell_type": "markdown",
     "metadata": {},
     "source": [
      "    def function_name( parameters ):\n",
      "       \"\"\"Function docstring.\n",
      "       \n",
      "       The help for the function\n",
      "       \n",
      "       \"\"\"\n",
      "        \n",
      "       function body\n",
      "    \n",
      "       return variables"
     ]
    },
    {
     "cell_type": "markdown",
     "metadata": {},
     "source": [
      "A more useful function:"
     ]
    },
    {
     "cell_type": "code",
     "collapsed": false,
     "input": [
      "def fibo(N):\n",
      "    \"\"\"Fibonacci series: the sum of two elements defines the next.\n",
      "    \n",
      "    The series is calculated till the input parameter N and\n",
      "    returned as an ouput variable.\n",
      "    \n",
      "    \"\"\"\n",
      "    \n",
      "    a, b, c = 0, 1, []\n",
      "    while b < N:\n",
      "        c.append(b)\n",
      "        a, b = b, a + b\n",
      "        \n",
      "    return c"
     ],
     "language": "python",
     "metadata": {},
     "outputs": [],
     "prompt_number": 87
    },
    {
     "cell_type": "code",
     "collapsed": false,
     "input": [
      "fibo(100)"
     ],
     "language": "python",
     "metadata": {},
     "outputs": [
      {
       "metadata": {},
       "output_type": "pyout",
       "prompt_number": 88,
       "text": [
        "[1, 1, 2, 3, 5, 8, 13, 21, 34, 55, 89]"
       ]
      }
     ],
     "prompt_number": 88
    },
    {
     "cell_type": "markdown",
     "metadata": {},
     "source": [
      "Let's implemment the body mass index calculus and categorization as a function:"
     ]
    },
    {
     "cell_type": "code",
     "collapsed": false,
     "input": [
      "def bmi(weight, height):\n",
      "    \"\"\"Body mass index calculus and categorization.\n",
      "    \n",
      "    Enter the weight in kg and the height in m.\n",
      "    See http://en.wikipedia.org/wiki/Body_mass_index\n",
      "    \n",
      "    \"\"\"\n",
      "    \n",
      "    bmi = weight / height**2\n",
      "    \n",
      "    if bmi < 15:\n",
      "        c = 'very severely underweight'\n",
      "    elif 15 <= bmi < 16:\n",
      "        c = 'severely underweight'\n",
      "    elif 16 <= bmi < 18.5:\n",
      "        c = 'underweight'\n",
      "    elif 18.5 <= bmi < 25:\n",
      "        c = 'normal'\n",
      "    elif 25 <= bmi < 30:\n",
      "        c = 'overweight'\n",
      "    elif 30 <= bmi < 35:\n",
      "        c = 'moderately obese'\n",
      "    elif 35 <= bmi < 40:\n",
      "        c = 'severely obese'\n",
      "    else:\n",
      "        c = 'very severely obese'\n",
      "     \n",
      "    s = 'For a weight of {0:.1f} kg and a height of {1:.2f} m,\\n\\\n",
      "    the body mass index (bmi) is {2:.1f} kg/m2,\\n\\\n",
      "    which is considered {3:s}.'\\\n",
      "    .format(weight, height, bmi, c)\n",
      "    \n",
      "    print(s)"
     ],
     "language": "python",
     "metadata": {},
     "outputs": [],
     "prompt_number": 89
    },
    {
     "cell_type": "code",
     "collapsed": false,
     "input": [
      "bmi(75, 1.70)"
     ],
     "language": "python",
     "metadata": {},
     "outputs": [
      {
       "output_type": "stream",
       "stream": "stdout",
       "text": [
        "For a weight of 75.0 kg and a height of 1.70 m,\n",
        "    the body mass index (bmi) is 26.0 kg/m2,\n",
        "    which is considered overweight.\n"
       ]
      }
     ],
     "prompt_number": 90
    },
    {
     "cell_type": "heading",
     "level": 2,
     "metadata": {},
     "source": [
      "Numeric data manipulation with Numpy"
     ]
    },
    {
     "cell_type": "markdown",
     "metadata": {},
     "source": [
      "Numpy is the fundamental package for scientific computing in Python and has a N-dimensional array package convenient to work with numerical data.   \n",
      "With Numpy it's much easier and faster to work with numbers grouped as 1-D arrays (a vector), 2-D arrays (like a table or matrix), or higher dimensions.\n",
      "\n",
      "Let's create 1-D and 2-D arrays in Numpy:"
     ]
    },
    {
     "cell_type": "code",
     "collapsed": false,
     "input": [
      "import numpy as np"
     ],
     "language": "python",
     "metadata": {},
     "outputs": [],
     "prompt_number": 91
    },
    {
     "cell_type": "code",
     "collapsed": false,
     "input": [
      "x1d = np.array([1, 2, 3, 4, 5, 6])\n",
      "print(type(x1d))\n",
      "x1d"
     ],
     "language": "python",
     "metadata": {},
     "outputs": [
      {
       "output_type": "stream",
       "stream": "stdout",
       "text": [
        "<type 'numpy.ndarray'>\n"
       ]
      },
      {
       "metadata": {},
       "output_type": "pyout",
       "prompt_number": 92,
       "text": [
        "array([1, 2, 3, 4, 5, 6])"
       ]
      }
     ],
     "prompt_number": 92
    },
    {
     "cell_type": "code",
     "collapsed": false,
     "input": [
      "x2d = np.array([[1, 2, 3], [4, 5, 6]])\n",
      "x2d"
     ],
     "language": "python",
     "metadata": {},
     "outputs": [
      {
       "metadata": {},
       "output_type": "pyout",
       "prompt_number": 93,
       "text": [
        "array([[1, 2, 3],\n",
        "       [4, 5, 6]])"
       ]
      }
     ],
     "prompt_number": 93
    },
    {
     "cell_type": "markdown",
     "metadata": {},
     "source": [
      "len() and the Numpy functions size() and shape() give information aboout the number of elements and the structure of the Numpy array:"
     ]
    },
    {
     "cell_type": "code",
     "collapsed": false,
     "input": [
      "print('1-d array:')\n",
      "print(x1d)\n",
      "print('len(x1d) = ', len(x1d))\n",
      "print('np.size(x1d) = ', np.size(x1d))\n",
      "print('np.shape(x1d) = ', np.shape(x1d))\n",
      "print('np.ndim(x1d) = ', np.ndim(x1d))\n",
      "print('\\n2-d array:')\n",
      "print(x2d)\n",
      "print('len(x2d) = ', len(x2d))\n",
      "print('np.size(x2d) = ', np.size(x2d))\n",
      "print('np.shape(x2d) = ', np.shape(x2d))\n",
      "print('np.ndim(x2d) = ', np.ndim(x2d))"
     ],
     "language": "python",
     "metadata": {},
     "outputs": [
      {
       "output_type": "stream",
       "stream": "stdout",
       "text": [
        "1-d array:\n",
        "[1 2 3 4 5 6]\n",
        "len(x1d) =  6\n",
        "np.size(x1d) =  6\n",
        "np.shape(x1d) =  (6L,)\n",
        "np.ndim(x1d) =  1\n",
        "\n",
        "2-d array:\n",
        "[[1 2 3]\n",
        " [4 5 6]]\n",
        "len(x2d) =  2\n",
        "np.size(x2d) =  6\n",
        "np.shape(x2d) =  (2L, 3L)\n",
        "np.ndim(x2d) =  2\n"
       ]
      }
     ],
     "prompt_number": 94
    },
    {
     "cell_type": "markdown",
     "metadata": {},
     "source": [
      "Create random data"
     ]
    },
    {
     "cell_type": "code",
     "collapsed": false,
     "input": [
      "x = np.random.randn(4,3)\n",
      "x"
     ],
     "language": "python",
     "metadata": {},
     "outputs": [
      {
       "metadata": {},
       "output_type": "pyout",
       "prompt_number": 95,
       "text": [
        "array([[-0.55247147, -1.15967927, -0.34010378],\n",
        "       [ 1.32769549,  2.03958007, -0.32553595],\n",
        "       [ 0.29231917,  0.39552742,  0.12174305],\n",
        "       [ 1.62782012,  1.7518856 ,  1.13067981]])"
       ]
      }
     ],
     "prompt_number": 95
    },
    {
     "cell_type": "markdown",
     "metadata": {},
     "source": [
      "Joining (stacking together) arrays"
     ]
    },
    {
     "cell_type": "code",
     "collapsed": false,
     "input": [
      "x = np.random.randint(0, 5, size=(2, 3))\n",
      "print(x)\n",
      "y = np.random.randint(5, 10, size=(2, 3))\n",
      "print(y)"
     ],
     "language": "python",
     "metadata": {},
     "outputs": [
      {
       "output_type": "stream",
       "stream": "stdout",
       "text": [
        "[[4 3 4]\n",
        " [1 1 1]]\n",
        "[[7 8 6]\n",
        " [6 9 8]]\n"
       ]
      }
     ],
     "prompt_number": 96
    },
    {
     "cell_type": "code",
     "collapsed": false,
     "input": [
      "np.vstack((x,y))"
     ],
     "language": "python",
     "metadata": {},
     "outputs": [
      {
       "metadata": {},
       "output_type": "pyout",
       "prompt_number": 97,
       "text": [
        "array([[4, 3, 4],\n",
        "       [1, 1, 1],\n",
        "       [7, 8, 6],\n",
        "       [6, 9, 8]])"
       ]
      }
     ],
     "prompt_number": 97
    },
    {
     "cell_type": "code",
     "collapsed": false,
     "input": [
      "np.hstack((x,y))"
     ],
     "language": "python",
     "metadata": {},
     "outputs": [
      {
       "metadata": {},
       "output_type": "pyout",
       "prompt_number": 98,
       "text": [
        "array([[4, 3, 4, 7, 8, 6],\n",
        "       [1, 1, 1, 6, 9, 8]])"
       ]
      }
     ],
     "prompt_number": 98
    },
    {
     "cell_type": "markdown",
     "metadata": {},
     "source": [
      "Create equally spaced data"
     ]
    },
    {
     "cell_type": "code",
     "collapsed": false,
     "input": [
      "np.arange(start = 1, stop = 10, step = 2)"
     ],
     "language": "python",
     "metadata": {},
     "outputs": [
      {
       "metadata": {},
       "output_type": "pyout",
       "prompt_number": 99,
       "text": [
        "array([1, 3, 5, 7, 9])"
       ]
      }
     ],
     "prompt_number": 99
    },
    {
     "cell_type": "code",
     "collapsed": false,
     "input": [
      "np.linspace(start = 0, stop = 1, num = 11)"
     ],
     "language": "python",
     "metadata": {},
     "outputs": [
      {
       "metadata": {},
       "output_type": "pyout",
       "prompt_number": 100,
       "text": [
        "array([ 0. ,  0.1,  0.2,  0.3,  0.4,  0.5,  0.6,  0.7,  0.8,  0.9,  1. ])"
       ]
      }
     ],
     "prompt_number": 100
    },
    {
     "cell_type": "markdown",
     "metadata": {},
     "source": [
      "Interpolation\n",
      "\n",
      "Consider the following data:"
     ]
    },
    {
     "cell_type": "code",
     "collapsed": false,
     "input": [
      "y = [5,  4, 10,  8,  1, 10,  2,  7,  1,  3]"
     ],
     "language": "python",
     "metadata": {},
     "outputs": [],
     "prompt_number": 101
    },
    {
     "cell_type": "markdown",
     "metadata": {},
     "source": [
      "Suppose we want to create data in between the given data points (interpolation); for instance, let's try to double the resolution of the data by generating twice as many data:"
     ]
    },
    {
     "cell_type": "code",
     "collapsed": false,
     "input": [
      "t = np.linspace(0, len(y), len(y))       # time vector for the original data\n",
      "tn = np.linspace(0, len(y), 2 * len(y))  # new time vector for the new time-normalized data\n",
      "yn = np.interp(tn, t, y)                 # new time-normalized data\n",
      "yn"
     ],
     "language": "python",
     "metadata": {},
     "outputs": [
      {
       "metadata": {},
       "output_type": "pyout",
       "prompt_number": 102,
       "text": [
        "array([ 5.        ,  4.52631579,  4.05263158,  6.52631579,  9.36842105,\n",
        "        9.26315789,  8.31578947,  5.78947368,  2.47368421,  3.36842105,\n",
        "        7.63157895,  8.31578947,  4.52631579,  2.78947368,  5.15789474,\n",
        "        6.36842105,  3.52631579,  1.10526316,  2.05263158,  3.        ])"
       ]
      }
     ],
     "prompt_number": 102
    },
    {
     "cell_type": "markdown",
     "metadata": {},
     "source": [
      "The key is the Numpy `interp` function, from its help:   \n",
      "\n",
      "    interp(x, xp, fp, left=None, right=None)       \n",
      "    One-dimensional linear interpolation.   \n",
      "    Returns the one-dimensional piecewise linear interpolant to a function with given values at discrete data-points.\n",
      "\n",
      "A plot of the data will show what we have done:"
     ]
    },
    {
     "cell_type": "code",
     "collapsed": false,
     "input": [
      "%matplotlib inline\n",
      "import matplotlib.pyplot as plt\n",
      "plt.figure(figsize=(10,5))\n",
      "plt.plot(t, y, 'bo-', lw=2, label='original data')\n",
      "plt.plot(tn, yn, '.-', color=[1, 0, 0, .5], lw=2, label='interpolated')\n",
      "plt.legend(loc='best', framealpha=.5)\n",
      "plt.show()"
     ],
     "language": "python",
     "metadata": {},
     "outputs": [
      {
       "metadata": {},
       "output_type": "display_data",
       "png": "[encoded data removed]",
       "text": [
        "<matplotlib.figure.Figure at 0x25c4f60>"
       ]
      }
     ],
     "prompt_number": 103
    },
    {
     "cell_type": "markdown",
     "metadata": {},
     "source": [
      "For more about Numpy, see [http://wiki.scipy.org/Tentative_NumPy_Tutorial](http://wiki.scipy.org/Tentative_NumPy_Tutorial)."
     ]
    },
    {
     "cell_type": "heading",
     "level": 2,
     "metadata": {},
     "source": [
      "Read and save files"
     ]
    },
    {
     "cell_type": "markdown",
     "metadata": {},
     "source": [
      "There are two kinds of computer files: text files and binary files:\n",
      "> Text file: computer file where the content is structured as a sequence of lines of electronic text. Text files can contain plain text (letters, numbers, and symbols) but they are not limited to such. The type of content in the text file is defined by the Unicode encoding (a computing industry standard for the consistent encoding, representation and handling of text expressed in most of the world's writing systems).   \n",
      ">\n",
      "> Binary file: computer file where the content is encoded in binary form, a sequence of integers representing byte values."
     ]
    },
    {
     "cell_type": "markdown",
     "metadata": {},
     "source": [
      "Let's see how to save and read numeric data stored in a text file:"
     ]
    },
    {
     "cell_type": "heading",
     "level": 3,
     "metadata": {},
     "source": [
      "Using plain Python"
     ]
    },
    {
     "cell_type": "code",
     "collapsed": false,
     "input": [
      "f = open(\"newfile.txt\", \"w\")           # open file for writing\n",
      "f.write(\"This is a test\\n\")            # save to file\n",
      "f.write(\"And here is another line\\n\")  # save to file\n",
      "f.close()\n",
      "f = open('newfile.txt', 'r')           # open file for reading\n",
      "f = f.read()                           # read from file\n",
      "print(f)"
     ],
     "language": "python",
     "metadata": {},
     "outputs": [
      {
       "output_type": "stream",
       "stream": "stdout",
       "text": [
        "This is a test\n",
        "And here is another line\n",
        "\n"
       ]
      }
     ],
     "prompt_number": 104
    },
    {
     "cell_type": "code",
     "collapsed": false,
     "input": [
      "help(open)"
     ],
     "language": "python",
     "metadata": {},
     "outputs": [
      {
       "output_type": "stream",
       "stream": "stdout",
       "text": [
        "Help on built-in function open in module __builtin__:\n",
        "\n",
        "open(...)\n",
        "    open(name[, mode[, buffering]]) -> file object\n",
        "    \n",
        "    Open a file using the file() type, returns a file object.  This is the\n",
        "    preferred way to open a file.  See file.__doc__ for further information.\n",
        "\n"
       ]
      }
     ],
     "prompt_number": 105
    },
    {
     "cell_type": "heading",
     "level": 3,
     "metadata": {},
     "source": [
      "Using Numpy"
     ]
    },
    {
     "cell_type": "code",
     "collapsed": false,
     "input": [
      "import numpy as np\n",
      "data = np.random.randn(3,3)\n",
      "np.savetxt('myfile.txt', data, fmt=\"%12.6G\")    # save to file\n",
      "data = np.genfromtxt('myfile.txt', unpack=True) # read from file\n",
      "data"
     ],
     "language": "python",
     "metadata": {},
     "outputs": [
      {
       "metadata": {},
       "output_type": "pyout",
       "prompt_number": 106,
       "text": [
        "array([[-0.053985 , -0.0909645, -0.214457 ],\n",
        "       [-0.385276 ,  0.666049 ,  0.18829  ],\n",
        "       [-0.31616  ,  0.262843 ,  0.045996 ]])"
       ]
      }
     ],
     "prompt_number": 106
    },
    {
     "cell_type": "markdown",
     "metadata": {},
     "source": [
      "## Ploting with matplotlib"
     ]
    },
    {
     "cell_type": "markdown",
     "metadata": {},
     "source": [
      "Matplotlib is the most-widely used packge for plotting data in Python. Let's see some examples of it."
     ]
    },
    {
     "cell_type": "code",
     "collapsed": false,
     "input": [
      "import numpy as np\n",
      "import matplotlib.pyplot as plt"
     ],
     "language": "python",
     "metadata": {},
     "outputs": [],
     "prompt_number": 107
    },
    {
     "cell_type": "markdown",
     "metadata": {},
     "source": [
      "Use the IPython magic `%matplotlib inline` to plot a figure inline in the notebook with the rest of the text:"
     ]
    },
    {
     "cell_type": "code",
     "collapsed": false,
     "input": [
      "%matplotlib inline"
     ],
     "language": "python",
     "metadata": {},
     "outputs": [],
     "prompt_number": 108
    },
    {
     "cell_type": "code",
     "collapsed": false,
     "input": [
      "t = np.linspace(0, 0.99, 100)\n",
      "x = np.sin(2 * np.pi * 2 * t) \n",
      "n = np.random.randn(100) / 5\n",
      "plt.Figure(figsize=(8,5))\n",
      "plt.plot(t, x, label='sine', linewidth=2)\n",
      "plt.plot(t, x + n, label='noisy sine', linewidth=2)\n",
      "plt.annotate(s='$sin(4 \\pi t)$', xy=(.2, 1), fontsize=20, color=[0, 0, 1])\n",
      "plt.legend(loc='best', framealpha=.5)\n",
      "plt.xlabel('Time [s]')\n",
      "plt.ylabel('Amplitude')\n",
      "plt.title('Data plotting using matplotlib')\n",
      "plt.show()"
     ],
     "language": "python",
     "metadata": {},
     "outputs": [
      {
       "metadata": {},
       "output_type": "display_data",
       "png": "[encoded data removed]",
       "text": [
        "<matplotlib.figure.Figure at 0x6e9bac8>"
       ]
      }
     ],
     "prompt_number": 109
    },
    {
     "cell_type": "markdown",
     "metadata": {},
     "source": [
      "Use the IPython magic `%matplotlib qt` to plot a figure in a separate window (from where you will be able to change some of the figure proprerties):"
     ]
    },
    {
     "cell_type": "code",
     "collapsed": false,
     "input": [
      "%matplotlib qt"
     ],
     "language": "python",
     "metadata": {},
     "outputs": [],
     "prompt_number": 110
    },
    {
     "cell_type": "code",
     "collapsed": false,
     "input": [
      "mu, sigma = 10, 2\n",
      "x = mu + sigma * np.random.randn(1000)\n",
      "fig, (ax1, ax2) = plt.subplots(1, 2, figsize=(12, 4))\n",
      "ax1.plot(x, 'ro')\n",
      "ax1.set_title('Data')\n",
      "ax1.grid()\n",
      "\n",
      "n, bins, patches = ax2.hist(x, 25, normed=True, facecolor='r') # histogram\n",
      "ax2.set_xlabel('Bins')\n",
      "ax2.set_ylabel('Probability')\n",
      "ax2.set_title('Histogram')\n",
      "fig.suptitle('Another example using matplotlib', fontsize=18, y=1)\n",
      "ax2.grid()\n",
      "\n",
      "plt.tight_layout()\n",
      "plt.show()"
     ],
     "language": "python",
     "metadata": {},
     "outputs": [],
     "prompt_number": 111
    },
    {
     "cell_type": "markdown",
     "metadata": {},
     "source": [
      "And a window with the following figure should appear:"
     ]
    },
    {
     "cell_type": "code",
     "collapsed": false,
     "input": [
      "from IPython.display import Image\n",
      "Image(url=\"files/images/plot.png\")"
     ],
     "language": "python",
     "metadata": {},
     "outputs": [
      {
       "html": [
        "<img src=\"files/images/plot.png\"/>"
       ],
       "metadata": {},
       "output_type": "pyout",
       "prompt_number": 112,
       "text": [
        "<IPython.core.display.Image at 0xa74f518>"
       ]
      }
     ],
     "prompt_number": 112
    },
    {
     "cell_type": "markdown",
     "metadata": {},
     "source": [
      "You can switch back and forth between inline and separate figure using the `%matplotlib` magic commands used above.\n",
      "\n",
      "There are plenty more examples with the source code in the [matplotlib gallery](http://matplotlib.org/gallery.html)."
     ]
    },
    {
     "cell_type": "code",
     "collapsed": false,
     "input": [
      "# get back the inline plot\n",
      "%matplotlib inline"
     ],
     "language": "python",
     "metadata": {},
     "outputs": [],
     "prompt_number": 113
    },
    {
     "cell_type": "heading",
     "level": 3,
     "metadata": {},
     "source": [
      "A ggplot-like plot"
     ]
    },
    {
     "cell_type": "markdown",
     "metadata": {},
     "source": [
      "You might want to have similar plots to [ggplot2](http://docs.ggplot2.org/), the main plotting library for [R](http://www.r-project.org/). There is a Python package to reproduce such behavior: [ggplot](https://github.com/yhat/ggplot/).   \n",
      "The ggplot package is not available with a standard Python distribution such as Anaconda and you will have to install it using for example easy_install or pip.   \n",
      "For instance, open a terminal window and type (if you already have pip, and you do have it if you are using Anaconda):\n",
      "\n",
      "    pip install ggplot\n",
      "\n",
      "And wait for the installation."
     ]
    },
    {
     "cell_type": "markdown",
     "metadata": {},
     "source": [
      "Let's try one of the examples of ggplot:"
     ]
    },
    {
     "cell_type": "code",
     "collapsed": false,
     "input": [
      "import matplotlib\n",
      "%matplotlib inline\n",
      "import pandas as pd\n",
      "import ggplot as gg"
     ],
     "language": "python",
     "metadata": {},
     "outputs": []
    },
    {
     "cell_type": "code",
     "collapsed": false,
     "input": [
      "gg.ggplot(gg.aes(x='date', y='beef'), data=gg.meat) + \\\n",
      "          gg.geom_point(alpha=0.3) + \\\n",
      "          gg.stat_smooth(colour=\"blue\", se=True)"
     ],
     "language": "python",
     "metadata": {},
     "outputs": []
    },
    {
     "cell_type": "markdown",
     "metadata": {},
     "source": [
      "A distinctive characteristic of the ggplot style is that some of the plot characteristics are inputted with the '+' sign as above."
     ]
    },
    {
     "cell_type": "code",
     "collapsed": false,
     "input": [
      "# get back matplotlib default values\n",
      "import matplotlib.pyplot as plt\n",
      "plt.rcdefaults()\n",
      "plt.rcParams['figure.facecolor'] = '1'"
     ],
     "language": "python",
     "metadata": {},
     "outputs": []
    },
    {
     "cell_type": "heading",
     "level": 3,
     "metadata": {},
     "source": [
      "Bokeh - a new plotting package"
     ]
    },
    {
     "cell_type": "markdown",
     "metadata": {},
     "source": [
      "> \"[Bokeh](https://github.com/ContinuumIO/Bokeh) is a Python interactive visualization library for large datasets that natively uses the latest web technologies. Its goal is to provide elegant, concise construction of novel graphics in the style of Protovis/D3, while delivering high-performance interactivity over large data to thin clients.\"\n",
      "\n",
      "If you installed Python for scientific computing using Anaconda, you already have Bokeh installed; if not, take a look at its webpage to install it.   \n",
      "Let's see an example with Bokeh, but be aware that Bokeh will inject about 600 KB of code when you run the lines below in a IPython Notebook:"
     ]
    },
    {
     "cell_type": "code",
     "collapsed": false,
     "input": [
      "import numpy as np\n",
      "import bokeh.plotting as plot\n",
      "plot.output_notebook()"
     ],
     "language": "python",
     "metadata": {},
     "outputs": []
    },
    {
     "cell_type": "markdown",
     "metadata": {},
     "source": [
      "Now, execute the following cell:"
     ]
    },
    {
     "cell_type": "code",
     "collapsed": false,
     "input": [
      "x = np.linspace(0, 4*np.pi, 100)\n",
      "y = np.sin(x)\n",
      "plot.line(x, y, color=\"#0000FF\", tools=\"pan,zoom,resize\")\n",
      "plot.show()"
     ],
     "language": "python",
     "metadata": {},
     "outputs": []
    },
    {
     "cell_type": "markdown",
     "metadata": {},
     "source": [
      "If everything went well, you should have seen a nice plot with buttons at the top-left corner with which you can pan, zoom, and resize the plot above."
     ]
    },
    {
     "cell_type": "heading",
     "level": 2,
     "metadata": {},
     "source": [
      "Signal processing with Scipy"
     ]
    },
    {
     "cell_type": "markdown",
     "metadata": {},
     "source": [
      "The Scipy package has a lot of functions for signal processing, among them: Integration (scipy.integrate), Optimization (scipy.optimize), Interpolation (scipy.interpolate), Fourier Transforms (scipy.fftpack), Signal Processing (scipy.signal), Linear Algebra (scipy.linalg), and Statistics (scipy.stats).\n",
      "\n",
      "As an example, let's see how to use a low-pass Butterworth filter to attenuate high-frequency noise and how the differentiation process of a signal affects the signal-to-noise content.\n",
      "We will also calculate the Fourier transform of these data to look at their frequencies content."
     ]
    },
    {
     "cell_type": "code",
     "collapsed": false,
     "input": [
      "from scipy.signal import butter, filtfilt\n",
      "import scipy.fftpack\n",
      "freq = 100.\n",
      "t = np.arange(0,1,.01);\n",
      "w = 2*np.pi*1 # 1 Hz\n",
      "y = np.sin(w*t)+0.1*np.sin(10*w*t)\n",
      "# Butterworth filter\n",
      "b, a = butter(4, (5/(freq/2)), btype = 'low')\n",
      "y2 = filtfilt(b, a, y)\n",
      "# 2nd derivative of the data\n",
      "ydd = np.diff(y,2)*freq*freq   # raw data\n",
      "y2dd = np.diff(y2,2)*freq*freq # filtered data\n",
      "# frequency content \n",
      "yfft = np.abs(scipy.fftpack.fft(y))/(y.size/2);   # raw data\n",
      "y2fft = np.abs(scipy.fftpack.fft(y2))/(y.size/2); # filtered data\n",
      "freqs = scipy.fftpack.fftfreq(y.size, 1./freq)\n",
      "yddfft = np.abs(scipy.fftpack.fft(ydd))/(ydd.size/2);\n",
      "y2ddfft = np.abs(scipy.fftpack.fft(y2dd))/(ydd.size/2);\n",
      "freqs2 = scipy.fftpack.fftfreq(ydd.size, 1./freq)"
     ],
     "language": "python",
     "metadata": {},
     "outputs": [],
     "prompt_number": 114
    },
    {
     "cell_type": "markdown",
     "metadata": {},
     "source": [
      "And the plots:"
     ]
    },
    {
     "cell_type": "code",
     "collapsed": false,
     "input": [
      "fig, ((ax1,ax2),(ax3,ax4)) = plt.subplots(2, 2, figsize=(10, 4))\n",
      "\n",
      "ax1.set_title('Temporal domain', fontsize=14)\n",
      "ax1.plot(t, y, 'r', linewidth=2, label = 'raw data')\n",
      "ax1.plot(t, y2, 'b', linewidth=2, label = 'filtered @ 5 Hz')\n",
      "ax1.set_ylabel('f')\n",
      "ax1.legend(frameon=False, fontsize=12)\n",
      "\n",
      "ax2.set_title('Frequency domain', fontsize=14)\n",
      "ax2.plot(freqs[:yfft.size/4], yfft[:yfft.size/4],'r',  lw=2,label='raw data')\n",
      "ax2.plot(freqs[:yfft.size/4],y2fft[:yfft.size/4],'b--',lw=2,label='filtered @ 5 Hz')\n",
      "ax2.set_ylabel('FFT(f)')\n",
      "ax2.legend(frameon=False, fontsize=12)\n",
      "\n",
      "ax3.plot(t[:-2], ydd, 'r', linewidth=2, label = 'raw')\n",
      "ax3.plot(t[:-2], y2dd, 'b', linewidth=2, label = 'filtered @ 5 Hz')\n",
      "ax3.set_xlabel('Time [s]'); ax3.set_ylabel(\"f ''\")\n",
      "\n",
      "ax4.plot(freqs[:yddfft.size/4], yddfft[:yddfft.size/4], 'r', lw=2, label = 'raw')\n",
      "ax4.plot(freqs[:yddfft.size/4],y2ddfft[:yddfft.size/4],'b--',lw=2, label='filtered @ 5 Hz')\n",
      "ax4.set_xlabel('Frequency [Hz]'); ax4.set_ylabel(\"FFT(f '')\")\n",
      "plt.show()"
     ],
     "language": "python",
     "metadata": {},
     "outputs": [
      {
       "metadata": {},
       "output_type": "display_data",
       "png": "[encoded data removed]",
       "text": [
        "<matplotlib.figure.Figure at 0xaf63c88>"
       ]
      }
     ],
     "prompt_number": 115
    },
    {
     "cell_type": "markdown",
     "metadata": {},
     "source": [
      "For more about Scipy, see [http://docs.scipy.org/doc/scipy/reference/tutorial/](http://docs.scipy.org/doc/scipy/reference/tutorial/)."
     ]
    },
    {
     "cell_type": "heading",
     "level": 2,
     "metadata": {},
     "source": [
      "Symbolic mathematics with Sympy"
     ]
    },
    {
     "cell_type": "markdown",
     "metadata": {},
     "source": [
      "Sympy is a package to perform symbolic mathematics in Python.   \n",
      "Let's see some of its features:"
     ]
    },
    {
     "cell_type": "code",
     "collapsed": false,
     "input": [
      "import numpy as np\n",
      "from IPython.display import display\n",
      "import sympy as sym\n",
      "from sympy.interactive import printing\n",
      "printing.init_printing()"
     ],
     "language": "python",
     "metadata": {},
     "outputs": [],
     "prompt_number": 116
    },
    {
     "cell_type": "markdown",
     "metadata": {},
     "source": [
      "Define some symbols and the create a second-order polynomial function (a.k.a., parabola):"
     ]
    },
    {
     "cell_type": "code",
     "collapsed": false,
     "input": [
      "x, y = sym.symbols('x y')\n",
      "y = x**2 - 2*x - 3\n",
      "y"
     ],
     "language": "python",
     "metadata": {},
     "outputs": [
      {
       "latex": [
        "$$x^{2} - 2 x - 3$$"
       ],
       "metadata": {},
       "output_type": "pyout",
       "prompt_number": 117,
       "text": [
        " 2          \n",
        "x  - 2\u22c5x - 3"
       ]
      }
     ],
     "prompt_number": 117
    },
    {
     "cell_type": "markdown",
     "metadata": {},
     "source": [
      "Plot the parabola at some given range:"
     ]
    },
    {
     "cell_type": "code",
     "collapsed": false,
     "input": [
      "from sympy.plotting import plot\n",
      "%matplotlib inline\n",
      "plot(y, (x, -3, 5));"
     ],
     "language": "python",
     "metadata": {},
     "outputs": [
      {
       "metadata": {},
       "output_type": "display_data",
       "png": "[encoded data removed]",
       "text": [
        "<matplotlib.figure.Figure at 0xa74f240>"
       ]
      }
     ],
     "prompt_number": 118
    },
    {
     "cell_type": "markdown",
     "metadata": {},
     "source": [
      "And the roots of the parabola are given by: "
     ]
    },
    {
     "cell_type": "code",
     "collapsed": false,
     "input": [
      "sym.solve(y, x)"
     ],
     "language": "python",
     "metadata": {},
     "outputs": [
      {
       "latex": [
        "$$\\begin{bmatrix}-1, & 3\\end{bmatrix}$$"
       ],
       "metadata": {},
       "output_type": "pyout",
       "prompt_number": 119,
       "text": [
        "[-1, 3]"
       ]
      }
     ],
     "prompt_number": 119
    },
    {
     "cell_type": "markdown",
     "metadata": {},
     "source": [
      "We cal also do symbolic differentiation and integration:"
     ]
    },
    {
     "cell_type": "code",
     "collapsed": false,
     "input": [
      "dy = sym.diff(y, x)\n",
      "dy"
     ],
     "language": "python",
     "metadata": {},
     "outputs": [
      {
       "latex": [
        "$$2 x - 2$$"
       ],
       "metadata": {},
       "output_type": "pyout",
       "prompt_number": 120,
       "text": [
        "2\u22c5x - 2"
       ]
      }
     ],
     "prompt_number": 120
    },
    {
     "cell_type": "code",
     "collapsed": false,
     "input": [
      "sym.integrate(dy, x)"
     ],
     "language": "python",
     "metadata": {},
     "outputs": [
      {
       "latex": [
        "$$x^{2} - 2 x$$"
       ],
       "metadata": {},
       "output_type": "pyout",
       "prompt_number": 121,
       "text": [
        " 2      \n",
        "x  - 2\u22c5x"
       ]
      }
     ],
     "prompt_number": 121
    },
    {
     "cell_type": "markdown",
     "metadata": {},
     "source": [
      "For example, let's use Sympy to represent three-dimensional rotations.   \n",
      "Consider the problem of a coordinate system xyz rotated in relation to other coordinate system XYZ.   \n",
      "The single rotations around each axis are illustrated by:"
     ]
    },
    {
     "cell_type": "code",
     "collapsed": false,
     "input": [
      "from IPython.display import Image\n",
      "Image(url=\"files/images/rotations.png\")"
     ],
     "language": "python",
     "metadata": {},
     "outputs": [
      {
       "html": [
        "<img src=\"files/images/rotations.png\"/>"
       ],
       "metadata": {},
       "output_type": "pyout",
       "prompt_number": 122,
       "text": [
        "<IPython.core.display.Image at 0x6eb6b38>"
       ]
      }
     ],
     "prompt_number": 122
    },
    {
     "cell_type": "markdown",
     "metadata": {},
     "source": [
      "The single 3D rotation matrices around Z, Y, and X axes can be expressed in Sympy:"
     ]
    },
    {
     "cell_type": "code",
     "collapsed": false,
     "input": [
      "from IPython.core.display import Math\n",
      "from sympy import symbols, cos, sin, Matrix, latex\n",
      "a, b, g = symbols('alpha beta gamma')\n",
      "\n",
      "RX = Matrix([[1, 0, 0], [0, cos(a), -sin(a)], [0, sin(a), cos(a)]])\n",
      "display(Math(latex('\\\\mathbf{R_{X}}=') + latex(RX, mat_str = 'matrix')))\n",
      "\n",
      "RY = Matrix([[cos(b), 0, sin(b)], [0, 1, 0], [-sin(b), 0, cos(b)]])\n",
      "display(Math(latex('\\\\mathbf{R_{Y}}=') + latex(RY, mat_str = 'matrix')))\n",
      "\n",
      "RZ = Matrix([[cos(g), -sin(g), 0], [sin(g), cos(g), 0], [0, 0, 1]])\n",
      "display(Math(latex('\\\\mathbf{R_{Z}}=') + latex(RZ, mat_str = 'matrix')))"
     ],
     "language": "python",
     "metadata": {},
     "outputs": [
      {
       "latex": [
        "$$\\mathbf{R_{X}}=\\left[\\begin{matrix}{}1 & 0 & 0\\\\0 & \\cos{\\left (\\alpha \\right )} & - \\sin{\\left (\\alpha \\right )}\\\\0 & \\sin{\\left (\\alpha \\right )} & \\cos{\\left (\\alpha \\right )}\\end{matrix}\\right]$$"
       ],
       "metadata": {},
       "output_type": "display_data",
       "text": [
        "<IPython.core.display.Math at 0x1541f7f0>"
       ]
      },
      {
       "latex": [
        "$$\\mathbf{R_{Y}}=\\left[\\begin{matrix}{}\\cos{\\left (\\beta \\right )} & 0 & \\sin{\\left (\\beta \\right )}\\\\0 & 1 & 0\\\\- \\sin{\\left (\\beta \\right )} & 0 & \\cos{\\left (\\beta \\right )}\\end{matrix}\\right]$$"
       ],
       "metadata": {},
       "output_type": "display_data",
       "text": [
        "<IPython.core.display.Math at 0x1541f7f0>"
       ]
      },
      {
       "latex": [
        "$$\\mathbf{R_{Z}}=\\left[\\begin{matrix}{}\\cos{\\left (\\gamma \\right )} & - \\sin{\\left (\\gamma \\right )} & 0\\\\\\sin{\\left (\\gamma \\right )} & \\cos{\\left (\\gamma \\right )} & 0\\\\0 & 0 & 1\\end{matrix}\\right]$$"
       ],
       "metadata": {},
       "output_type": "display_data",
       "text": [
        "<IPython.core.display.Math at 0x1541f7f0>"
       ]
      }
     ],
     "prompt_number": 123
    },
    {
     "cell_type": "markdown",
     "metadata": {},
     "source": [
      "And using Sympy, a sequence of elementary rotations around X, Y, Z axes is given by:"
     ]
    },
    {
     "cell_type": "code",
     "collapsed": false,
     "input": [
      "RXYZ = RZ*RY*RX\n",
      "display(Math(latex('\\\\mathbf{R_{XYZ}}=') + latex(RXYZ, mat_str = 'matrix')))"
     ],
     "language": "python",
     "metadata": {},
     "outputs": [
      {
       "latex": [
        "$$\\mathbf{R_{XYZ}}=\\left[\\begin{matrix}{}\\cos{\\left (\\beta \\right )} \\cos{\\left (\\gamma \\right )} & \\sin{\\left (\\alpha \\right )} \\sin{\\left (\\beta \\right )} \\cos{\\left (\\gamma \\right )} - \\sin{\\left (\\gamma \\right )} \\cos{\\left (\\alpha \\right )} & \\sin{\\left (\\alpha \\right )} \\sin{\\left (\\gamma \\right )} + \\sin{\\left (\\beta \\right )} \\cos{\\left (\\alpha \\right )} \\cos{\\left (\\gamma \\right )}\\\\\\sin{\\left (\\gamma \\right )} \\cos{\\left (\\beta \\right )} & \\sin{\\left (\\alpha \\right )} \\sin{\\left (\\beta \\right )} \\sin{\\left (\\gamma \\right )} + \\cos{\\left (\\alpha \\right )} \\cos{\\left (\\gamma \\right )} & - \\sin{\\left (\\alpha \\right )} \\cos{\\left (\\gamma \\right )} + \\sin{\\left (\\beta \\right )} \\sin{\\left (\\gamma \\right )} \\cos{\\left (\\alpha \\right )}\\\\- \\sin{\\left (\\beta \\right )} & \\sin{\\left (\\alpha \\right )} \\cos{\\left (\\beta \\right )} & \\cos{\\left (\\alpha \\right )} \\cos{\\left (\\beta \\right )}\\end{matrix}\\right]$$"
       ],
       "metadata": {},
       "output_type": "display_data",
       "text": [
        "<IPython.core.display.Math at 0x15424c50>"
       ]
      }
     ],
     "prompt_number": 124
    },
    {
     "cell_type": "markdown",
     "metadata": {},
     "source": [
      "Suppose there is a rotation only around X ($\\alpha$) by $\\pi/2$; we can get the numerical value of the rotation matrix by substituing the angle values:"
     ]
    },
    {
     "cell_type": "code",
     "collapsed": false,
     "input": [
      "r = RXYZ.subs({a: np.pi/2, b: 0, g: 0})\n",
      "r"
     ],
     "language": "python",
     "metadata": {},
     "outputs": [
      {
       "latex": [
        "$$\\left[\\begin{smallmatrix}{}1 & 0 & 0\\\\0 & 6.12323399573677 \\cdot 10^{-17} & -1.0\\\\0 & 1.0 & 6.12323399573677 \\cdot 10^{-17}\\end{smallmatrix}\\right]$$"
       ],
       "metadata": {},
       "output_type": "pyout",
       "prompt_number": 125,
       "text": [
        "\u23a11           0                     0          \u23a4\n",
        "\u23a2                                             \u23a5\n",
        "\u23a20  6.12323399573677e-17          -1.0        \u23a5\n",
        "\u23a2                                             \u23a5\n",
        "\u23a30          1.0           6.12323399573677e-17\u23a6"
       ]
      }
     ],
     "prompt_number": 125
    },
    {
     "cell_type": "markdown",
     "metadata": {},
     "source": [
      "And we can prettify this result:"
     ]
    },
    {
     "cell_type": "code",
     "collapsed": false,
     "input": [
      "display(Math(latex(r'\\mathbf{R_{(\\alpha=\\pi/2)}}=') +\n",
      "             latex(r.n(chop=True, prec=3), mat_str = 'matrix')))"
     ],
     "language": "python",
     "metadata": {},
     "outputs": [
      {
       "latex": [
        "$$\\mathbf{R_{(\\alpha=\\pi/2)}}=\\left[\\begin{matrix}{}1.0 & 0 & 0\\\\0 & 0 & -1.0\\\\0 & 1.0 & 0\\end{matrix}\\right]$$"
       ],
       "metadata": {},
       "output_type": "display_data",
       "text": [
        "<IPython.core.display.Math at 0x14108780>"
       ]
      }
     ],
     "prompt_number": 126
    },
    {
     "cell_type": "markdown",
     "metadata": {},
     "source": [
      "For more about Sympy, see [http://docs.sympy.org/latest/tutorial/](http://docs.sympy.org/latest/tutorial/)."
     ]
    },
    {
     "cell_type": "heading",
     "level": 2,
     "metadata": {},
     "source": [
      "Data analysis with pandas"
     ]
    },
    {
     "cell_type": "markdown",
     "metadata": {},
     "source": [
      "> \"[pandas](http://pandas.pydata.org/) is a Python package providing fast, flexible, and expressive data structures designed to make working with \u201crelational\u201d or \u201clabeled\u201d data both easy and intuitive. It aims to be the fundamental high-level building block for doing practical, real world data analysis in Python.\"\n",
      "\n",
      "To work with labellled data, pandas has a type called DataFrame (basically, a matrix where columns and rows have may names and may be of different types) and it is also the main type of the software [R](http://www.r-project.org/).\n",
      "\n",
      "Fo ezample,"
     ]
    },
    {
     "cell_type": "code",
     "collapsed": false,
     "input": [
      "import pandas as pd\n",
      "import numpy as np\n",
      "import matplotlib.pyplot as plt\n",
      "%matplotlib inline"
     ],
     "language": "python",
     "metadata": {},
     "outputs": [],
     "prompt_number": 127
    },
    {
     "cell_type": "code",
     "collapsed": false,
     "input": [
      "x = 5*['A'] + 5*['B']\n",
      "x"
     ],
     "language": "python",
     "metadata": {},
     "outputs": [
      {
       "metadata": {},
       "output_type": "pyout",
       "prompt_number": 128,
       "text": [
        "['A', 'A', 'A', 'A', 'A', 'B', 'B', 'B', 'B', 'B']"
       ]
      }
     ],
     "prompt_number": 128
    },
    {
     "cell_type": "code",
     "collapsed": false,
     "input": [
      "df = pd.DataFrame(np.random.rand(10,2), columns=['Level 1', 'Level 2'] )\n",
      "df['Group'] = pd.Series(['A']*5 + ['B']*5)\n",
      "plot = df.boxplot(by='Group')"
     ],
     "language": "python",
     "metadata": {},
     "outputs": [
      {
       "metadata": {},
       "output_type": "display_data",
       "png": "[encoded data removed]",
       "text": [
        "<matplotlib.figure.Figure at 0x15a15908>"
       ]
      }
     ],
     "prompt_number": 129
    },
    {
     "cell_type": "code",
     "collapsed": false,
     "input": [
      "from pandas.tools.plotting import scatter_matrix\n",
      "df = pd.DataFrame(np.random.randn(100, 3), columns=['A', 'B', 'C'])\n",
      "plot = scatter_matrix(df, alpha=0.5, figsize=(8, 6), diagonal='kde')"
     ],
     "language": "python",
     "metadata": {},
     "outputs": [
      {
       "metadata": {},
       "output_type": "display_data",
       "png": "[encoded data removed]",
       "text": [
        "<matplotlib.figure.Figure at 0x15a707f0>"
       ]
      }
     ],
     "prompt_number": 130
    },
    {
     "cell_type": "markdown",
     "metadata": {},
     "source": [
      "pandas is aware the data is structured and give you basic statistics considerint that and nicely formatted:"
     ]
    },
    {
     "cell_type": "code",
     "collapsed": false,
     "input": [
      "df.describe()"
     ],
     "language": "python",
     "metadata": {},
     "outputs": [
      {
       "html": [
        "<div style=\"max-height:1000px;max-width:1500px;overflow:auto;\">\n",
        "<table border=\"1\" class=\"dataframe\">\n",
        "  <thead>\n",
        "    <tr style=\"text-align: right;\">\n",
        "      <th></th>\n",
        "      <th>A</th>\n",
        "      <th>B</th>\n",
        "      <th>C</th>\n",
        "    </tr>\n",
        "  </thead>\n",
        "  <tbody>\n",
        "    <tr>\n",
        "      <th>count</th>\n",
        "      <td> 100.000000</td>\n",
        "      <td> 100.000000</td>\n",
        "      <td> 100.000000</td>\n",
        "    </tr>\n",
        "    <tr>\n",
        "      <th>mean</th>\n",
        "      <td>   0.049157</td>\n",
        "      <td>  -0.148737</td>\n",
        "      <td>  -0.064361</td>\n",
        "    </tr>\n",
        "    <tr>\n",
        "      <th>std</th>\n",
        "      <td>   1.118940</td>\n",
        "      <td>   0.862341</td>\n",
        "      <td>   0.983074</td>\n",
        "    </tr>\n",
        "    <tr>\n",
        "      <th>min</th>\n",
        "      <td>  -2.255010</td>\n",
        "      <td>  -1.914821</td>\n",
        "      <td>  -2.415042</td>\n",
        "    </tr>\n",
        "    <tr>\n",
        "      <th>25%</th>\n",
        "      <td>  -0.669995</td>\n",
        "      <td>  -0.806196</td>\n",
        "      <td>  -0.698206</td>\n",
        "    </tr>\n",
        "    <tr>\n",
        "      <th>50%</th>\n",
        "      <td>  -0.013778</td>\n",
        "      <td>  -0.153377</td>\n",
        "      <td>  -0.050395</td>\n",
        "    </tr>\n",
        "    <tr>\n",
        "      <th>75%</th>\n",
        "      <td>   0.533715</td>\n",
        "      <td>   0.510236</td>\n",
        "      <td>   0.543155</td>\n",
        "    </tr>\n",
        "    <tr>\n",
        "      <th>max</th>\n",
        "      <td>   2.643339</td>\n",
        "      <td>   1.712916</td>\n",
        "      <td>   2.648364</td>\n",
        "    </tr>\n",
        "  </tbody>\n",
        "</table>\n",
        "</div>"
       ],
       "metadata": {},
       "output_type": "pyout",
       "prompt_number": 131,
       "text": [
        "                A           B           C\n",
        "count  100.000000  100.000000  100.000000\n",
        "mean     0.049157   -0.148737   -0.064361\n",
        "std      1.118940    0.862341    0.983074\n",
        "min     -2.255010   -1.914821   -2.415042\n",
        "25%     -0.669995   -0.806196   -0.698206\n",
        "50%     -0.013778   -0.153377   -0.050395\n",
        "75%      0.533715    0.510236    0.543155\n",
        "max      2.643339    1.712916    2.648364"
       ]
      }
     ],
     "prompt_number": 131
    },
    {
     "cell_type": "markdown",
     "metadata": {},
     "source": [
      "For more on pandas, see this tutorial: [http://pandas.pydata.org/pandas-docs/stable/10min.html](http://pandas.pydata.org/pandas-docs/stable/10min.html)."
     ]
    },
    {
     "cell_type": "heading",
     "level": 2,
     "metadata": {},
     "source": [
      "More stuff on Python for scientific computing"
     ]
    },
    {
     "cell_type": "markdown",
     "metadata": {},
     "source": [
      "All the rest of notebooks here are examples on how to use Python to analyze data in Biomechanics and Motor Control. If you want to read more general tutorials, see the following:\n",
      "\n",
      " - [Python Scientific Lecture Notes](http://scipy-lectures.github.io/) (lecture notes)\n",
      " - [Lectures on scientific computing with Python](https://github.com/jrjohansson/scientific-python-lectures#lectures-on-scientific-computing-with-python) (lecture notes)\n",
      " - [IPython in depth: high-productivity interactive and parallel python](http://youtu.be/bP8ydKBCZiY) (video lectures with [material available on github](https://github.com/ipython/ipython-in-depth))\n",
      " - [Notebooks about the basic functionalities of IPython Notebook](https://github.com/ipython/ipython/tree/master/examples/notebooks)"
     ]
    }
   ],
   "metadata": {}
  }
 ]
}