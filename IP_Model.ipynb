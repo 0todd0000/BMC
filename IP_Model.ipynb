{
 "metadata": {
  "name": "",
  "signature": "sha256:13b8d63e7d44053b9112a75b086f59f58eea44320d9e5fc5b56f8a4ac678cd79"
 },
 "nbformat": 3,
 "nbformat_minor": 0,
 "worksheets": [
  {
   "cells": [
    {
     "cell_type": "heading",
     "level": 1,
     "metadata": {},
     "source": [
      "The inverted pendulum model of the human standing posture"
     ]
    },
    {
     "cell_type": "markdown",
     "metadata": {},
     "source": [
      "Marcos Duarte"
     ]
    },
    {
     "cell_type": "markdown",
     "metadata": {},
     "source": [
      "Despite the enormous complexity of the human body, part of the mechanical behavior of the human body during the standing still posture, namely the displacements of the center of gravity ($COG$) and center of pressure ($COP$) in the anterior-posterior direction, can be elegantly portraied by a physical-mathematical model of an inverted pendulum with rigid segments articulated by joints.   \n",
      "In the most simple version of the model, the human body in the sagittal plane is reduced to a two-link body with a single inverted pendulum articulated by only one joint (representing the feet, with the rest of the body articulated by the ankle joint).  \n",
      "Let's deduce the equations for such inverted pendulum model as the representation at the sagital plane of the human standing still posture.   \n",
      "The inverted pendulum model and the correspondent free-body diagrams (FBDs) are shown in Figure 1.\n",
      "\n",
      "<div><figure><img src=\"files/images/invpendulum.png\" width=600 alt=\"onelink\"/><figcaption><b>Figure 1.</b> <i>Model of a two-link inverted pendulum and the external forces acting on it for the representation at the sagital plane of the human standing still posture and the corresponding free-body diagrams. $COG$: body center of gravity; $COG_v$: $COG$ vertical projection (at the horizontal plane) in relation to the ankle joint; $COP$: body center of pressure in relation to the ankle joint; $GRF$: ground reaction force (typically measured by a force plate); $\\alpha$: angle of the body in relation to the vertical direction; $m$: mass of the body minus feet; $g$: acceleration of gravity; $F_a$ and $T_a$: resultant force and torque at the ankle joint; $h$: height of the $COG$ in relation to the ankle joint; $m_f$ and $h_f$: mass and height of the feet.</i></figcaption></figure></div>"
     ]
    },
    {
     "cell_type": "markdown",
     "metadata": {},
     "source": [
      "The equations of motion for each FBD of the feet and rest-of-body segments at the sagittal plane ($xy$ plane) can be expressed in the form of the Newton-Euler equations.  \n",
      "<br>\n",
      "<div style=\"background-color:#FBFBEF;border:1px solid black;padding:10px;\">\n",
      "<b>The Newton-Euler equations</b>\n",
      "<br />\n",
      "The [Newton-Euler equations](http://en.wikipedia.org/wiki/Newton%E2%80%93Euler_equations) are a formalism to describe the combined translational and rotational dynamics of a rigid body.  \n",
      "For a two-dimensional (at the $xy$ plane) movement, their general form are given by:  \n",
      "<br />\n",
      "$$ \\sum \\mathbf{F} = m \\mathbf{\\ddot{r}}_{cm} $$  \n",
      "\n",
      "$$ \\sum \\mathbf{T}_z = I_{cm} \\mathbf{\\ddot{\\alpha}}_z $$  \n",
      "\n",
      "Where the movement is considered around the center of mass ($cm$) of the body, $\\mathbf{F}$ and $\\mathbf{T}$ are, respectively, the forces and torques acting on the body, $\\mathbf{\\ddot{r}}$ and $\\mathbf{\\ddot{\\alpha}}$ are, respectively, the linear and angular accelerations, and $I$ is the body moment of inertia around the $z$ axis passing through the body center of mass.   \n",
      "It can be convenient to describe the rotation of the body around other point than the center of mass. In such cases, we express the moment of inertia around a reference point $o$ instead of around the body center of mass and we will have an additional term to the equation for the torque:  \n",
      "<br />\n",
      "$$ \\sum \\mathbf{T}_{z,O} = I_{o} \\mathbf{\\ddot{\\alpha}}_z + \\mathbf{r}_{cm,o}\\times m \\mathbf{\\ddot{r}}_o $$  \n",
      "\n",
      "Where $\\mathbf{r}_{cm,o}$ is the position vector of the center of mass in relation to the reference point $o$ and $\\mathbf{\\ddot{r}}_o$ is the linear acceleration of this reference point.  \n",
      "[See this notebook about free-body diagram](http://nbviewer.ipython.org/github/duartexyz/BMC/blob/master/FreeBodyDiagram.ipynb).  \n",
      "</div>\n",
      "\n",
      "<br>\n",
      "For the case of an inverted pendulum representing at the sagittal plane the body at the standing still posture, let's solve the Newton-Euler equations considering the rotation around the ankle joint (because it will simplify the problem) and let's adopt the simplifications that the feet don't move (including the ankle, so $\\mathbf{\\ddot{r}}_o=0$ in the Newton-Euler equation) and their mass are neglegible in relation to the mass of the rest of the body.   \n",
      "\n",
      "For the feet, we have:\n",
      "$$ -F_{ax} + GRF_x = 0 $$  \n",
      "$$ -F_{ay} + GRF_y = 0 $$  \n",
      "$$ -T_a + COP \\cdot GRF_y + h_f \\cdot GRF_x = 0 $$  \n",
      "And for the rest of the body:  \n",
      "$$ F_{ax} = m\\ddot{r}_{cm,x} $$  \n",
      "$$ F_{ay} - mg = m\\ddot{r}_{cm,y} $$  \n",
      "$$ T_a - COG_v \\cdot mg = I_a \\ddot{\\alpha} $$  \n",
      "\n",
      "Where $I_a$ is the moment of inertia of the whole body around the ankle joint.  \n",
      "During the standing still posture, the $GRF$ horizontal component is typically much smaller than the $GRF$ vertical component and the torque of the former can be neglected. In addition, the magnitude of the $GRF$ vertical component is approximately constant and equal to the body weight.   \n",
      "Considering these approximations, the ankle joint torque using the equation for the feet is given by:  \n",
      "\n",
      "$$ T_a \\approx COP \\cdot mg $$  \n",
      "\n",
      "If now we substitute the ankle joint torque term in the equation for the torques calculated for the rest-of-body segment, we have:  \n",
      "\n",
      "$$ COP - COG_v \\approx \\frac{I_a}{mg} \\ddot{\\alpha} $$  \n",
      "\n",
      "That is, the angular acceleration of the body is proportional to the difference between $COP$ and $COG_v$ displacements (with respect to the ankle joint position).  \n",
      "\n",
      "We can continue with the deduction and now substitute the angular displacement by a term proportional to $COG_v$ if we use the following trignometric relation (see figure above): $sin \\alpha=COG_v/h$. But, during the standing still posture $\\alpha$ is typicall very small and we can approximate $ sin\\alpha \\approx \\alpha $ and $\\alpha \\approx COG_v/h$. However, bear in mind that $\\alpha$ is defined as counterclockwise positive while $COG_v$ is positive when pointing to the right direction. This means that in fact $\\alpha \\approx -COG_v/h$. As $h$ is constant, the second derivative of $\\alpha$ with respect to time is simply the second derivative of $COG_v$ divided by $h$. \n",
      "\n",
      "Finally, the last equation can be expressed in the following form:\n",
      "\n",
      "$$ COG_v - COP \\approx \\frac{I_a}{mgh} \\ddot{COG}_v $$  \n",
      "\n",
      "Or simply:  \n",
      "\n",
      "$$ COG_v - COP \\approx k \\, \\ddot{COG}_v $$  \n",
      "\n",
      "Where $k = I_a/(mgh)$.  \n",
      "If the human body is represented as a rigid bar, its moment of inertia will be approximately equal to $1.33mh^2$, so $k \\approx 1.33h/g$.  \n",
      "In turn, from the Newton-Euler equations, the horizontal acceleration of $COG$ is equal to the horizontal component of $GRF$ divided by the body mass and the equation above can be expressed as:  \n",
      "\n",
      "$$ COG_v - COP \\approx \\frac{k}{m} GRF_x $$  "
     ]
    },
    {
     "cell_type": "heading",
     "level": 2,
     "metadata": {},
     "source": [
      "Implications of the inverted pendulum model"
     ]
    },
    {
     "cell_type": "markdown",
     "metadata": {},
     "source": [
      "These two last equations express a very simple relation between body segment parameters, $COG_v$, $COP$, body acceleration, and horizontal force.   \n",
      "Solely based on these equations it is possible to predict some interesting relations among the variables in these equations, which have been experimentally observed:  \n",
      " -\t$COG_v-COP$ is positively correlated with the horizontal ground reaction force in the anterior-posterior direction (Winter et al. 1998; Morasso and Schieppati 1999; Zatsiorsky and Duarte 2000);  \n",
      " -\t$COG_v$ behaves as a low-pass filtered version of the $COP$ signal and this fact has been used in a method to derive $COG_v$ from the $COP$ signal (Winter 1995; Caron et al. 1997; Morasso and Schieppati 1999). This method produces similar results as other methods (Lafond et al. 2004);   \n",
      " -\tFor a continuously regulated inverted pendulum (like the standing still posture), the common frequencies of $COG_v$ and $COP$ signals are in phase (Morasso and Schieppati 1999);  \n",
      " -\tWhen the horizontal force is zero, $COG_v$ and $COP$ coincide and this fact has been used as a method to derive $COG_v$ from the $COP$ displacement and the horizontal $GRF$ (King and Zatsiorsky 1997; Zatsiorsky and Duarte 2000).  \n",
      " \n",
      "Note that the four predictions made above are based entirely on the mechanical derivation of the inverted pendulum model. Nothing has been said about what type of neural control is being used for the regulation of the standing posture. This means that the statements above are consequence of the mechanical nature of the modeled phenomenon.\n",
      "\n",
      "Obviously, the most straightforward prediction of the single inverted pendulum model concerning the **kinematics of the segments** of the human body would be that we should observe merely the motion at the ankle joint and nothing in the other joints. This prediction has not been observed (see for example, Pinter et al. 2008 and Gunther et al. 2009). During standing still, we seem to use all our joints and this is task dependent.   \n",
      "However, one important point to consider is that even if the inverted pendulum fails as a suitable model of the **kinematics of the segments**, the inverted pendulum succeds as a model of the **kinematics of global body variables**, such as $COG_v$ and $COP$, and their relation to kinetic variables, the external forces acting on the body.   \n",
      "\n",
      "Certainly everyone agrees that the inverted pendulum model is insufficient to capture all the essential characteristics of the posture during standing. Nevertheless, the greatest power of the single inverted pendulum model is its simplicity, and it is somewhat surprising to note how much this simple model can capture the of the investigated phenomenon."
     ]
    },
    {
     "cell_type": "heading",
     "level": 2,
     "metadata": {},
     "source": [
      "Estimation of COGv from the COP signal"
     ]
    },
    {
     "cell_type": "markdown",
     "metadata": {},
     "source": [
      "Based on the inverted pendulum model, it's possible to estimate the $COG_v$ displacement from the $COP$ displacement after some mathematical manipulation we show next.  \n",
      "Back to the relation between $COG_v$ and $COP$ displacements, it has the form:  \n",
      "\n",
      "$$ y(t) - x(t) = k\\,\\ddot{y}(t) $$  \n",
      "\n",
      "Where $y(t)$ stands for the $COG_v$ signal and $x(t)$ for the $COP$ signal, which are functions of time, and $k = I_a/(mgh)$.  \n",
      "The equation above is a linear ordinary differential equation of second order. This equation is solvable in the time domain, but if we transform it to the frequency domain using the Fourier transform, we will find a simpler relation between $COG_v$ and $COP$. \n",
      "\n",
      "<br>\n",
      "<div style=\"background-color:#FBFBEF;border:1px solid black;padding:10px;\">\n",
      "<b>The Fourier transform</b>  \n",
      "The [Fourier transform](http://en.wikipedia.org/wiki/Fourier_transform) is a mathematical operation to transform a signal which is function of time, $g(t)$, into a signal which is function of frequency, $G(f)$, and it is defined by:  \n",
      "<br />\n",
      "$$ \\mathcal{F}[g(t)] = G(f) = \\int_{-\\infty}^{\\infty} g(t) e^{-i2\\pi ft} dt $$  \n",
      "\n",
      "Its inverse operation is:  \n",
      "<br />\n",
      "$$ \\mathcal{F}^{-1}[G(f)] = g(t) = \\int_{-\\infty}^{\\infty} G(f) e^{i2\\pi ft} df $$  \n",
      "\n",
      "The function $G(f)$ is the representation in the frequency domain of the time-domain signal, $g(t)$, and vice-versa. The functions $g(t)$ and $G(f)$ are referred to as a Fourier integral pair, or Fourier transform pair, or simply the Fourier pair.  \n",
      "[See here for an introduction to Fourier transform](http://www.thefouriertransform.com/transform/fourier.php) and [see here for the use of Fourier transform to solve differential equations](http://www.thefouriertransform.com/applications/differentialequations.php).\n",
      "</div>\n",
      "\n",
      "<br>\n",
      "Let's apply the Fourier transform to the differential equation with $COG_v$ and $COP$:  \n",
      "\n",
      "$$ Y(j\\omega) - X(j\\omega) = -k\\,\\omega^2Y(j\\omega) $$  \n",
      "\n",
      "Where we defined $y(t) \\Leftrightarrow Y(j\\omega)$ and $x(t) \\Leftrightarrow X(j\\omega)$ as the Fourier pairs, $j$ is the imaginary unit, and $\\omega$ is the angular frequency, $2\\pi f$.   \n",
      "The reason why we use the Fourier transform is because we started with a second order differential equation and ended with the simple algebraic equation above.\n",
      "\n",
      "Rearranging the equation above:  \n",
      "\n",
      "$$ \\frac{Y(j\\omega)}{X(j\\omega)} = \\frac{\\omega_0^2}{\\omega_0^2 + \\omega^2} $$  \n",
      "\n",
      "Where $ \\omega_0 = 1/\\sqrt{k}$.  \n",
      "If we imagine a system where the $COP$ is the input and the $COG_v$ the output, the right side of the equation above is known as the [transfer function](http://en.wikipedia.org/wiki/Transfer_function) of such system, the ratio between the output and the input.   \n",
      "Analysing the transfer function given in the equation above, we see that it is of the type of a low-pass filter; because of that, we can say that the $COGv$ signal is a low-pass filtered version of the $COP$ signal.\n",
      "\n",
      "We can implement such low-pass filter in order to determine the $COG_v$ using the $COP$ signal. For that, we simply have to estimate the Fourier transform of the $COP$ signal, multiply by the transfer function (the right side of the equation above), and calculate the inverse Fourier transform of this result.   \n",
      "The function `cogve.py` (code shown at the end of this text) estimates the $COG_v$ using the $COP$ data based on this algorithm.   \n",
      "Let's test this function:"
     ]
    },
    {
     "cell_type": "code",
     "collapsed": false,
     "input": [
      "import sys\n",
      "sys.path.insert(1, r'./functions')\n",
      "from cogve import cogve\n",
      "help(cogve)"
     ],
     "language": "python",
     "metadata": {},
     "outputs": [
      {
       "output_type": "stream",
       "stream": "stdout",
       "text": [
        "Help on function cogve in module cogve:\n",
        "\n",
        "cogve(COP, freq, mass, height, show=False, ax=None)\n",
        "    COGv estimation using COP data based on the inverted pendulum model.\n",
        "    \n",
        "    See [1]_ for a detailed description of the sngle inverted pendulum model as\n",
        "    a representation at the sagital plane of the human standing still posture.\n",
        "    \n",
        "    Parameters\n",
        "    ----------\n",
        "    COP    : 1D array_like\n",
        "             center of pressure data [cm]\n",
        "    freq   : float\n",
        "             sampling frequency of the COP data\n",
        "    mass   : float\n",
        "             body mass of the subject [kg]\n",
        "    height : float\n",
        "             height of the subject [cm]\n",
        "    show   : bool, optional (default = False)\n",
        "             True (1) plots data and results in a matplotlib figure\n",
        "             False (0) to not plot\n",
        "    ax     : a matplotlib.axes.Axes instance (default = None)\n",
        "    \n",
        "    Returns\n",
        "    -------\n",
        "    COGv   : 1D array\n",
        "             center of gravity vertical projection data [cm]\n",
        "    \n",
        "    References\n",
        "    ----------\n",
        "    .. [1] http://nbviewer.ipython.org/github/duartexyz/BMC/blob/master/IP_Model.ipynb\n",
        "    \n",
        "    Examples\n",
        "    --------\n",
        "    >>> import numpy as np\n",
        "    >>> y = np.cumsum(np.random.randn(3000))/50\n",
        "    >>> cogv = cogve(y, freq=100, mass=70, height=170, show=True)\n",
        "\n"
       ]
      }
     ],
     "prompt_number": 1
    },
    {
     "cell_type": "code",
     "collapsed": false,
     "input": [
      "# Import the necessary libraries\n",
      "from __future__ import division, print_function\n",
      "import numpy as np\n",
      "import matplotlib.pyplot as plt\n",
      "%matplotlib inline"
     ],
     "language": "python",
     "metadata": {},
     "outputs": [],
     "prompt_number": 2
    },
    {
     "cell_type": "markdown",
     "metadata": {},
     "source": [
      "Let's use stabilographic data found in the internet:"
     ]
    },
    {
     "cell_type": "code",
     "collapsed": false,
     "input": [
      "import pandas as pd  # use Pandas to read data from a website\n",
      "fileUrl = 'http://www.udel.edu/biology/rosewc/kaap686/reserve/cop/copdata.txt'\n",
      "COP = pd.read_table(fileUrl, skipinitialspace=True, sep=None)  # Pandas dataframe\n",
      "COP = COP.values / 10  # mm to cm\n",
      "freq = 100\n",
      "print('COP shape: ', COP.shape)"
     ],
     "language": "python",
     "metadata": {},
     "outputs": [
      {
       "output_type": "stream",
       "stream": "stdout",
       "text": [
        "Using Python parser to sniff delimiter\n",
        "COP shape:  (4095, 2)\n"
       ]
      }
     ],
     "prompt_number": 3
    },
    {
     "cell_type": "code",
     "collapsed": false,
     "input": [
      "fig, ax = plt.subplots(1, 1, figsize=(10, 5))\n",
      "cogv = cogve(COP[:, 0], freq=100, mass=70, height=175, ax=ax, show=True)  # guessing mass and height"
     ],
     "language": "python",
     "metadata": {},
     "outputs": [
      {
       "metadata": {},
       "output_type": "display_data",
       "png": "[encoded data removed]",
       "text": [
        "<matplotlib.figure.Figure at 0x7c5dda0>"
       ]
      }
     ],
     "prompt_number": 4
    },
    {
     "cell_type": "heading",
     "level": 2,
     "metadata": {},
     "source": [
      "References"
     ]
    },
    {
     "cell_type": "markdown",
     "metadata": {},
     "source": [
      " - Caron, O., B. Faure, et al. (1997). Estimating the centre of gravity of the body on the basis of the centre of pressure in standing posture. J. Biomech. 30, 1169-1171.   \n",
      " - Lafond, D., M. Duarte, et al. (2004). Comparison of three methods to estimate the center of mass during balance assessment. J. Biomech. 37, 1421-1426.\n",
      " - King, D. L. and V. M. Zatsiorsky (1997). Extracting gravity line displacement from stabilographic recordings. Gait & Posture 6, 27-38.   \n",
      " - Morasso, P. G., G. Spada, et al. (1999). Computing the COM from the COP in postural sway movements. Human Movement Science 18, 759-767.   \n",
      " - Winter, D. A. (1995). A.B.C. (Anatomy, Biomechanics and Control) of Balance during Standing and Walking. Waterloo, Waterloo Biomechanics.   \n",
      " - Winter, D. A., A. E. Patla, et al. (1998). Stiffness control of balance in quiet standing. J. Neurophysiol. 80, 1211-1221.  \n",
      " - Zatsiorsky, V. M. and M. Duarte (2000). Rambling and trembling in quiet standing. Motor Control 4, 185-200."
     ]
    },
    {
     "cell_type": "heading",
     "level": 2,
     "metadata": {},
     "source": [
      "Function cogve.py"
     ]
    },
    {
     "cell_type": "code",
     "collapsed": false,
     "input": [
      "%load 'functions/cogve.py'"
     ],
     "language": "python",
     "metadata": {},
     "outputs": [],
     "prompt_number": 5
    },
    {
     "cell_type": "code",
     "collapsed": false,
     "input": [
      "#!/usr/bin/env python\n",
      "\n",
      "\"\"\"COGv estimation using COP data based on the inverted pendulum model.\"\"\"\n",
      "\n",
      "from __future__ import division, print_function\n",
      "import numpy as np\n",
      "\n",
      "__author__ = 'Marcos Duarte <duartexyz@gmail.com>'\n",
      "__version__ = 'cogve.py v.1 2013/08/10'\n",
      "\n",
      "\n",
      "def cogve(COP, freq, mass, height, show=False, ax=None):\n",
      "    \"\"\"COGv estimation using COP data based on the inverted pendulum model.\n",
      "\n",
      "    See [1]_ for a detailed description of the sngle inverted pendulum model as\n",
      "    a representation at the sagital plane of the human standing still posture.\n",
      "\n",
      "    Parameters\n",
      "    ----------\n",
      "    COP    : 1D array_like\n",
      "             center of pressure data [cm]\n",
      "    freq   : float\n",
      "             sampling frequency of the COP data\n",
      "    mass   : float\n",
      "             body mass of the subject [kg]\n",
      "    height : float\n",
      "             height of the subject [cm]\n",
      "    show   : bool, optional (default = False)\n",
      "             True (1) plots data and results in a matplotlib figure\n",
      "             False (0) to not plot\n",
      "    ax     : a matplotlib.axes.Axes instance (default = None)\n",
      " \n",
      "    Returns\n",
      "    -------\n",
      "    COGv   : 1D array\n",
      "             center of gravity vertical projection data [cm]\n",
      "\n",
      "    References\n",
      "    ----------\n",
      "    .. [1] http://nbviewer.ipython.org/github/duartexyz/BMC/blob/master/IP_Model.ipynb\n",
      "\n",
      "    Examples\n",
      "    --------\n",
      "    >>> import numpy as np\n",
      "    >>> y = np.cumsum(np.random.randn(3000))/50\n",
      "    >>> cogv = cogve(y, freq=100, mass=70, height=170, show=True)\n",
      "    \"\"\"\n",
      "\n",
      "    from scipy.signal._arraytools import odd_ext\n",
      "    import scipy.fftpack\n",
      "\n",
      "    COP = np.asarray(COP)\n",
      "    height = height / 100  # cm to m\n",
      "    g = 9.8  # gravity acceleration in m/s2\n",
      "    # height of the COG w.r.t. ankle (McGinnis, 2005; Winter, 2005)\n",
      "    hcog = 0.56 * height - 0.039 * height\n",
      "    # body moment of inertia around the ankle\n",
      "    # (Breniere, 1996), (0.0572 for the ml direction)\n",
      "    I = mass * 0.0533 * height ** 2 + mass * hcog ** 2\n",
      "    # Newton-Euler equation of motion for the inverted pendulum\n",
      "    # COGv'' = w02*(COGv - COP)\n",
      "    # where w02 is the squared pendulum natural frequency\n",
      "    w02 = mass * g * hcog / I\n",
      "    # add (pad) data and remove mean to avoid problems at the extremities\n",
      "    COP = odd_ext(COP, n=freq)\n",
      "    COPm = np.mean(COP)\n",
      "    COP = COP - COPm\n",
      "    # COGv is estimated by filtering the COP data in the frequency domain\n",
      "    # using the transfer function for the inverted pendulum equation of motion\n",
      "    N = COP.size\n",
      "    COPfft = scipy.fftpack.fft(COP, n=N) / N  # COP fft\n",
      "    w = 2 * np.pi * scipy.fftpack.fftfreq(n=N, d=1 / freq)  # angular frequency\n",
      "    # transfer function\n",
      "    TF = w02 / (w02 + w ** 2)\n",
      "    COGv = np.real(scipy.fftpack.ifft(TF * COPfft) * N)\n",
      "    COGv = COGv[0: N]\n",
      "    # get back the mean and pad off data\n",
      "    COP, COGv = COP + COPm, COGv + COPm\n",
      "    COP, COGv = COP[freq: -freq], COGv[freq: -freq]\n",
      "\n",
      "    if show:\n",
      "        _plot(COP, COGv, freq, ax)\n",
      "\n",
      "    return COGv\n",
      "\n",
      "\n",
      "def _plot(COP, COGv, freq, ax):\n",
      "    \"\"\"Plot results of the cogve function, see its help.\"\"\"\n",
      "    try:\n",
      "        import matplotlib.pyplot as plt\n",
      "    except ImportError:\n",
      "        print('matplotlib is not available.')\n",
      "    else:\n",
      "        time = np.linspace(0, COP.size / freq, COP.size)\n",
      "        if ax is None:\n",
      "            fig, ax = plt.subplots(1, 1)\n",
      "        ax.plot(time, COP, color=[0, 0, 1, .8], lw=2, label='COP')\n",
      "        ax.plot(time, COGv, color=[1, 0, 0, .8], lw=2, label='COGv')\n",
      "        ax.legend(fontsize=14, loc='best', framealpha=.5)\n",
      "        ax.set_xlabel('Time [s]', fontsize=14)\n",
      "        ax.set_ylabel('Amplitude [cm]', fontsize=14)\n",
      "        ax.set_title('COGv estimation using the COP data', fontsize=16)\n",
      "        ax.set_xlim(time[0], time[-1])\n",
      "        plt.grid()\n",
      "        plt.show()\n"
     ],
     "language": "python",
     "metadata": {},
     "outputs": []
    }
   ],
   "metadata": {}
  }
 ]
}