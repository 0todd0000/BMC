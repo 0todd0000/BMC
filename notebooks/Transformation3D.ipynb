{
 "metadata": {
  "name": ""
 },
 "nbformat": 3,
 "nbformat_minor": 0,
 "worksheets": [
  {
   "cells": [
    {
     "cell_type": "heading",
     "level": 1,
     "metadata": {},
     "source": [
      "Rigid-body transformations (three-dimensional)"
     ]
    },
    {
     "cell_type": "markdown",
     "metadata": {},
     "source": [
      "Marcos Duarte"
     ]
    },
    {
     "cell_type": "markdown",
     "metadata": {},
     "source": [
      "The kinematics of a rigid body is completely described by its pose, i.e., its position and orientation in space. In a three-dimensional space, three coordinates and three angles are necessary to describe the pose of the rigid body, totalizing six degrees of freedom for a rigid body.\n",
      "\n",
      "In motion analysis, to describe a translation and rotation of a rigid body with respect to a coordinate system, typically we attach another coordinate system to the rigid body and determine a rigid transformation between these two coordinate systems. \n",
      "\n",
      "A transformation is any function mapping a set to another set. For the description of the kinematics of rigid bodies, we are interested only in what is called rigid or Euclidean transformations (denoted as SE(3) for the three-dimensional space) because they preserve the distance between every pair of points of the body (which is rigid by definition). Translations and rotations are examples of rigid transformations (a reflection is also an example of rigid transformation but this changes the right-hand axis convention to a left hand, which usually is not of interest). Examples of other (non-rigid) transformations are shear and similarity transformation (which preserves angles but not lengths). \n",
      "\n",
      "We will follow the same rationale adopted in the text [Rigid-body transformations in a plane (2D)](http://nbviewer.ipython.org/github/demotu/BMC/blob/master/notebooks/Transformation2D.ipynb) and we will skip the fundamental concepts already covered there. So, you if haven't done yet, you should read that text before continuing here."
     ]
    },
    {
     "cell_type": "heading",
     "level": 2,
     "metadata": {},
     "source": [
      "Translation"
     ]
    },
    {
     "cell_type": "markdown",
     "metadata": {},
     "source": [
      "A pure three-dimensional translation of a rigid body (or a coordinate system attached to it) in relation to other rigid body (with other coordinate system) is illustrated in the figure below:\n",
      "\n",
      "<div class='center-align'><figure><img src='./../images/translation3D.png' alt='translation 3D'/> <figcaption><center><i>A point in three-dimensional space represented in two coordinate systems, with one coordinate system translated.</i></center></figcaption> </figure></div>\n",
      "\n",
      "The position of point $\\mathbf{P}$ originally described in the $xyz$ (local) coordinate system but now described in the $\\mathbf{XYZ}$ (Global) coordinate system in vector form is:\n",
      "\n",
      "$$ \\mathbf{P_G} = \\mathbf{L_G} + \\mathbf{P_l} $$\n",
      "\n",
      "Or in terms of its components:\n",
      "\n",
      "$$ \\begin{array}{}\n",
      "\\mathbf{P_X} =& \\mathbf{L_X} + \\mathbf{P}_x \\\\\n",
      "\\mathbf{P_Y} =& \\mathbf{L_Y} + \\mathbf{P}_y \\\\\n",
      "\\mathbf{P_Z} =& \\mathbf{L_Z} + \\mathbf{P}_z \n",
      "\\end{array} $$\n",
      "\n",
      "And in matrix form:\n",
      "\n",
      "$$ \\begin{bmatrix}\n",
      "\\mathbf{P_X} \\\\\n",
      "\\mathbf{P_Y} \\\\\n",
      "\\mathbf{P_Z} \n",
      "\\end{bmatrix} =\n",
      "\\begin{bmatrix}\n",
      "\\mathbf{L_X} \\\\\n",
      "\\mathbf{L_Y} \\\\\n",
      "\\mathbf{L_Z} \n",
      "\\end{bmatrix} +\n",
      "\\begin{bmatrix}\n",
      "\\mathbf{P}_x \\\\\n",
      "\\mathbf{P}_y \\\\\n",
      "\\mathbf{P}_z \n",
      "\\end{bmatrix} $$\n",
      "\n",
      "From classical mechanics, this is an example of [Galilean transformation](http://en.wikipedia.org/wiki/Galilean_transformation).   \n",
      "\n",
      "Let's use Python to compute some numeric examples:"
     ]
    },
    {
     "cell_type": "code",
     "collapsed": false,
     "input": [
      "# Import the necessary libraries\n",
      "from __future__ import division, print_function  # for version compatibility\n",
      "import numpy as np\n",
      "# suppress scientific notation for small numbers:\n",
      "np.set_printoptions(precision=4, suppress=True)"
     ],
     "language": "python",
     "metadata": {},
     "outputs": [],
     "prompt_number": 1
    },
    {
     "cell_type": "markdown",
     "metadata": {},
     "source": [
      "For example, if the local coordinate system is translated by $\\mathbf{L_G}=[1, 2, 3]$ in relation to the Global coordinate system, a point with coordinates $\\mathbf{P_l}=[4, 5, 6]$ at the local coordinate system will have the position $\\mathbf{P_G}=[5, 7, 9]$ at the Global coordinate system:"
     ]
    },
    {
     "cell_type": "code",
     "collapsed": false,
     "input": [
      "LG = np.array([1, 2, 3])  # Numpy array\n",
      "Pl = np.array([4, 5, 6])\n",
      "PG = LG + Pl\n",
      "PG"
     ],
     "language": "python",
     "metadata": {},
     "outputs": [
      {
       "metadata": {},
       "output_type": "pyout",
       "prompt_number": 2,
       "text": [
        "array([5, 7, 9])"
       ]
      }
     ],
     "prompt_number": 2
    },
    {
     "cell_type": "markdown",
     "metadata": {},
     "source": [
      "This operation also works if we have more than one point (NumPy knows how to handle vectors with different dimensions):"
     ]
    },
    {
     "cell_type": "code",
     "collapsed": false,
     "input": [
      "Pl = np.array([[1, 2, 3], [4, 5, 6], [7, 8, 9]])  # 2D array with 3 rows and 2 columns\n",
      "PG = LG + Pl\n",
      "PG"
     ],
     "language": "python",
     "metadata": {},
     "outputs": [
      {
       "metadata": {},
       "output_type": "pyout",
       "prompt_number": 3,
       "text": [
        "array([[ 2,  4,  6],\n",
        "       [ 5,  7,  9],\n",
        "       [ 8, 10, 12]])"
       ]
      }
     ],
     "prompt_number": 3
    },
    {
     "cell_type": "heading",
     "level": 2,
     "metadata": {},
     "source": [
      "Rotation"
     ]
    },
    {
     "cell_type": "markdown",
     "metadata": {},
     "source": [
      "A pure three-dimensional rotation of a $xyz$ (local) coordinate system in relation to other $\\mathbf{XYZ}$ (Global) coordinate system and the position of a point in these two coordinate systems are illustrated in the figure below.\n",
      "\n",
      "<div class='center-align'><figure><img src='./../images/rotation3D.png' alt='rotation 3D'/> <figcaption><center><i>A point in three-dimensional space represented in two coordinate systems, with one system rotated.</i></center></figcaption> </figure></div>\n",
      "\n",
      "In analogy to the rotation in two dimensions, we can calculate the rotation matrix that describes the rotation of the $xyz$ (local) coordinate system in relation to the $\\mathbf{XYZ}$ (Global) coordinate system using the direction cosines between the axes of the two coordinate systems:\n",
      "\n",
      "$$ \\mathbf{R_{Gl}} = \\begin{bmatrix}\n",
      "cos\\mathbf{X}x & cos\\mathbf{X}y & cos\\mathbf{X}z \\\\\n",
      "cos\\mathbf{Y}x & cos\\mathbf{Y}y & cos\\mathbf{Y}z \\\\\n",
      "cos\\mathbf{Z}x & cos\\mathbf{Z}y & cos\\mathbf{Z}z\n",
      "\\end{bmatrix} $$\n",
      "\n",
      "Note however that for rotations around more than one axis, these angles will not lie in the main planes ($\\mathbf{XY, YZ, ZX}$) of the $\\mathbf{XYZ}$ coordinate system, as illustrated in the figure below for the direction angles of the *y* axis only. Thus the determination of these angles by simple inspection, as we have done for the two-dimensional case, would not be simple.\n",
      "\n",
      "<div class='center-align'><figure><img src='./../images/directioncosine3D.png' width=260 alt='direction angles 3D'/> <figcaption><center><i>Definition of direction angles for the $y$ axis of the local coordinate system in relation to the $\\mathbf{XYZ}$ Global coordinate system.</i></center></figcaption> </figure></div>\n",
      "\n",
      "Note that the nine angles shown in the matrix above for the direction cosines are obviously redundant since only three angles are necessary to describe the orientation of a rigid body in the three-dimensional space. \n",
      "\n",
      "An important characteristic of angles in the three-dimensional space is that angles cannot be treated as vectors: the result of a sequence of rotations of a rigid body around different axes depends on the order of the rotations, as illustrated in the next figure.\n",
      "\n",
      "<div class='center-align'><figure><img src='./../images/rotationsseqs2.png' alt='rotations'/> <figcaption><center><i>The result of a sequence of rotations around different axes of a coordinate system depends on the order of the rotations. In the first example (first row), the rotations are around a Global (fixed) coordinate system. In the second example (second row), the rotations are around a local (rotating) coordinate system.</i></center></figcaption> </figure></div>"
     ]
    },
    {
     "cell_type": "heading",
     "level": 3,
     "metadata": {},
     "source": [
      "Euler angles"
     ]
    },
    {
     "cell_type": "markdown",
     "metadata": {},
     "source": [
      "One solution to handle rotations in the three-dimensional space is to use Euler (or Eulerian) angles.\n",
      "\n",
      "Leonhard Euler in the XVIII century showed that two three-dimensional coordinate systems with a common origin can be related by a sequence of up to three elemental rotations about the axes of the local coordinate system, where no two successive rotations may be about the same axis, known as [Euler angles](http://en.wikipedia.org/wiki/Euler_angles).   \n",
      "\n",
      "**Elemental rotations**\n",
      "\n",
      "First, let's see rotations around the fixed Global coordinate system as we did for the two-dimensional case. The figure below illustrates elemental rotations of the local coordinate system around each axis of the fixed Global coordinate system.\n",
      "\n",
      "<div class='center-align'><figure><img src='./../images/rotations.png' alt='rotations'/> <figcaption><center><i>Elemental rotations of the $xyz$ coordinate system around each axis, $\\mathbf{X}$, $\\mathbf{Y}$, and $\\mathbf{Z}$, of the fixed $\\mathbf{XYZ}$ coordinate system. Note that for better clarity, the axis around where the rotation occurs is shown perpencular to this page for each elemental rotation.</i></center></figcaption> </figure></div>\n",
      "\n",
      "The rotation matrices for the elemental rotations around each axis of the fixed $\\mathbf{XYZ}$ coordinate system (rotations of the local coordinate system in relation to the Global coordinate system) are shown next.\n",
      "\n",
      "Around $\\mathbf{X}$ axis: \n",
      "\n",
      "$$ \\mathbf{R_{Gl,\\:X}} = \n",
      "\\begin{bmatrix}\n",
      "1 & 0 & 0 \\\\\n",
      "0 & cos\\alpha & -sin\\alpha \\\\\n",
      "0 & sin\\alpha & cos\\alpha\n",
      "\\end{bmatrix} $$\n",
      "\n",
      "Around $\\mathbf{Y}$ axis: \n",
      "\n",
      "$$ \\mathbf{R_{Gl,\\:Y}} = \n",
      "\\begin{bmatrix}\n",
      "cos\\beta & 0 & sin\\beta \\\\\n",
      "0 & 1 & 0 \\\\\n",
      "-sin\\beta & 0 & cos\\beta\n",
      "\\end{bmatrix} $$\n",
      "\n",
      "Around $\\mathbf{Z}$ axis: \n",
      "\n",
      "$$ \\mathbf{R_{Gl,\\:Z}} = \n",
      "\\begin{bmatrix}\n",
      "cos\\gamma & -sin\\gamma & 0\\\\\n",
      "sin\\gamma & cos\\gamma & 0 \\\\\n",
      "0 & 0 & 1\n",
      "\\end{bmatrix} $$\n",
      "\n",
      "These matrices are the rotation matrix for the case of two-dimensional coordinate systems plus the corresponding terms for the third axes of the local and Global coordinate systems, which are pararel.   \n",
      "To understand why the terms for the third axes are 1's or 0's, for instance, remember they represent the cosine directors. The cosines between $\\mathbf{X}x$, $\\mathbf{Y}y$, and $\\mathbf{Z}z$ for the elemental rotations around respectively the $\\mathbf{X}$, $\\mathbf{Y}$, and $\\mathbf{Z}$ axes are all 1 because $\\mathbf{X}x$, $\\mathbf{Y}y$, and $\\mathbf{Z}z$ are pararel ($cos 0^o$). The cosines of the other elements are zero because the axis around where each rotation occurs is perpendicular to the other axes of the coordinate systems ($cos 90^o$).\n",
      "\n",
      "The rotation matrices for the elemental rotations this time around each axis of the $xyz$ coordinate system (rotations of the Global coordinate system in relation to the local coordinate system), similarly to the two-dimensional case, are simplily the transpose of the above matrices as shown next.\n",
      "\n",
      "Around $x$ axis: \n",
      "\n",
      "$$ \\mathbf{R}_{\\mathbf{lG},\\;x} = \n",
      "\\begin{bmatrix}\n",
      "1 & 0 & 0 \\\\\n",
      "0 & cos\\alpha & sin\\alpha \\\\\n",
      "0 & -sin\\alpha & cos\\alpha\n",
      "\\end{bmatrix} $$\n",
      "\n",
      "Around $y$ axis: \n",
      "\n",
      "$$ \\mathbf{R}_{\\mathbf{lG},\\;y} = \n",
      "\\begin{bmatrix}\n",
      "cos\\beta & 0 & -sin\\beta \\\\\n",
      "0 & 1 & 0 \\\\\n",
      "sin\\beta & 0 & cos\\beta\n",
      "\\end{bmatrix} $$\n",
      "\n",
      "Around $z$ axis: \n",
      "\n",
      "$$ \\mathbf{R}_{\\mathbf{lG},\\;z} = \n",
      "\\begin{bmatrix}\n",
      "cos\\gamma & sin\\gamma & 0\\\\\n",
      "-sin\\gamma & cos\\gamma & 0 \\\\\n",
      "0 & 0 & 1\n",
      "\\end{bmatrix} $$\n",
      "\n",
      "Notice this is equivalent to instead of rotating the local coordinate system by $\\alpha, \\beta, \\gamma$ in relation to axes of the Global coordinate system, to rotate the Global coordinate system by $-\\alpha, -\\beta, -\\gamma$ in relation to the axes of the local coordinate system; remember that $cos(-\\:\\cdot)=cos(\\cdot)$ and $sin(-\\:\\cdot)=-sin(\\cdot)$.\n",
      "\n",
      "The fact that we chose to rotate the local coordinate system by a counterclockwise (positive) angle in relation to the Global coordinate system is just a matter of convention."
     ]
    },
    {
     "cell_type": "markdown",
     "metadata": {},
     "source": [
      "**Sequence rotations**\n",
      "\n",
      "Consider now a sequence of elemental rotations around the $\\mathbf{X}$, $\\mathbf{Y}$, and $\\mathbf{Z}$ axes of the fixed $\\mathbf{XYZ}$ coordinate system illustrated in the figure below. \n",
      "\n",
      "<div class='center-align'><figure><img src='./../images/rotations_XYZ.png' alt='rotations'/> <figcaption><center><i>Sequence of elemental rotations of the $xyz$ coordinate system around each axis, $\\mathbf{X}$, $\\mathbf{Y}$, and $\\mathbf{Z}$, of the fixed $\\mathbf{XYZ}$ coordinate system.</i></center></figcaption> </figure></div>\n",
      "\n",
      "This sequence of elemental rotations (each one of the local coordinate system with respect to the fixed Global coordinate system) is mathematically represented by a multiplication between the rotation matrices:\n",
      "\n",
      "$$ \\begin{array}{l l}\n",
      "\\mathbf{R_{Gl,\\;XYZ}} & = \\mathbf{R_{Z}} \\mathbf{R_{Y}} \\mathbf{R_{X}} \\\\\n",
      "& = \\begin{bmatrix}\n",
      "cos\\gamma & -sin\\gamma & 0\\\\\n",
      "sin\\gamma & cos\\gamma & 0 \\\\\n",
      "0 & 0 & 1\n",
      "\\end{bmatrix}\n",
      "\\begin{bmatrix}\n",
      "cos\\beta & 0 & sin\\beta \\\\\n",
      "0 & 1 & 0 \\\\\n",
      "-sin\\beta & 0 & cos\\beta\n",
      "\\end{bmatrix}\n",
      "\\begin{bmatrix}\n",
      "1 & 0 & 0 \\\\\n",
      "0 & cos\\alpha & -sin\\alpha \\\\\n",
      "0 & sin\\alpha & cos\\alpha\n",
      "\\end{bmatrix} \\\\\n",
      "& =\n",
      "\\begin{bmatrix}\n",
      "cos\\beta\\:cos\\gamma \\;&\\;\n",
      "sin\\alpha\\:sin\\beta\\:cos\\gamma-cos\\alpha\\:sin\\gamma \\;&\\;\n",
      "cos\\alpha\\:sin\\beta\\:cos\\gamma+sin\\alpha\\:sin\\gamma \\;\\;\\; \\\\\n",
      "cos\\beta\\:sin\\gamma \\;&\\;\n",
      "sin\\alpha\\:sin\\beta\\:sin\\gamma+cos\\alpha\\:cos\\gamma \\;&\\;\n",
      "cos\\alpha\\:sin\\beta\\:sin\\gamma-sin\\alpha\\:cos\\gamma \\;\\;\\;  \\\\\n",
      "-sin\\beta \\;&\\; sin\\alpha\\:cos\\beta \\;&\\; cos\\alpha\\:cos\\beta \\;\\;\\;\n",
      "\\end{bmatrix} \n",
      "\\end{array} $$\n",
      "\n",
      "Note that the order of the multiplication of the matrices is from right to left (first the second rightmost matrix times the rightmost matrix, then the leftmost matrix times this result).   \n",
      "\n",
      "We can check this matrix multiplication using [Sympy](http://sympy.org/en/index.html):"
     ]
    },
    {
     "cell_type": "code",
     "collapsed": false,
     "input": [
      "#import the necessary libraries\n",
      "from IPython.core.display import Math, display\n",
      "import sympy as sym\n",
      "cos, sin = sym.cos, sym.sin\n",
      "\n",
      "a, b, g = sym.symbols('alpha, beta, gamma')\n",
      "\n",
      "# Elemental rotation matrices of xyz in relation to XYZ:\n",
      "RX = sym.Matrix([[1, 0, 0], [0, cos(a), -sin(a)], [0, sin(a), cos(a)]])\n",
      "RY = sym.Matrix([[cos(b), 0, sin(b)], [0, 1, 0], [-sin(b), 0, cos(b)]])\n",
      "RZ = sym.Matrix([[cos(g), -sin(g), 0], [sin(g), cos(g), 0], [0, 0, 1]])\n",
      "\n",
      "# Rotation matrix of xyz in relation to XYZ:\n",
      "RXYZ = RZ*RY*RX\n",
      "\n",
      "display(Math(sym.latex(r'\\mathbf{R_{Gl,\\;XYZ}}=') + sym.latex(RXYZ, mat_str='matrix')))"
     ],
     "language": "python",
     "metadata": {},
     "outputs": [
      {
       "latex": [
        "$$\\mathbf{R_{Gl,\\;XYZ}}=\\left[\\begin{matrix}\\cos{\\left (\\beta \\right )} \\cos{\\left (\\gamma \\right )} & \\sin{\\left (\\alpha \\right )} \\sin{\\left (\\beta \\right )} \\cos{\\left (\\gamma \\right )} - \\sin{\\left (\\gamma \\right )} \\cos{\\left (\\alpha \\right )} & \\sin{\\left (\\alpha \\right )} \\sin{\\left (\\gamma \\right )} + \\sin{\\left (\\beta \\right )} \\cos{\\left (\\alpha \\right )} \\cos{\\left (\\gamma \\right )}\\\\\\sin{\\left (\\gamma \\right )} \\cos{\\left (\\beta \\right )} & \\sin{\\left (\\alpha \\right )} \\sin{\\left (\\beta \\right )} \\sin{\\left (\\gamma \\right )} + \\cos{\\left (\\alpha \\right )} \\cos{\\left (\\gamma \\right )} & - \\sin{\\left (\\alpha \\right )} \\cos{\\left (\\gamma \\right )} + \\sin{\\left (\\beta \\right )} \\sin{\\left (\\gamma \\right )} \\cos{\\left (\\alpha \\right )}\\\\- \\sin{\\left (\\beta \\right )} & \\sin{\\left (\\alpha \\right )} \\cos{\\left (\\beta \\right )} & \\cos{\\left (\\alpha \\right )} \\cos{\\left (\\beta \\right )}\\end{matrix}\\right]$$"
       ],
       "metadata": {},
       "output_type": "display_data",
       "text": [
        "<IPython.core.display.Math at 0x6a59e10>"
       ]
      }
     ],
     "prompt_number": 4
    },
    {
     "cell_type": "markdown",
     "metadata": {},
     "source": [
      "For instance, we can calculate the numerical rotation matrix for these sequential elemental rotations by $90^o$ around $\\mathbf{X,Y,Z}$:"
     ]
    },
    {
     "cell_type": "code",
     "collapsed": false,
     "input": [
      "R = sym.lambdify((a, b, g), RXYZ, 'numpy')\n",
      "R = R(np.pi/2, np.pi/2, np.pi/2)\n",
      "display(Math(r'\\mathbf{R_{Gl,\\;XYZ}}(90^o, 90^o, 90^o) =' + \\\n",
      "             sym.latex(sym.Matrix(R).n(chop=True, prec=3))))"
     ],
     "language": "python",
     "metadata": {},
     "outputs": [
      {
       "latex": [
        "$$\\mathbf{R_{Gl,\\;XYZ}}(90^o, 90^o, 90^o) =\\left[\\begin{matrix}0 & 0 & 1.0\\\\0 & 1.0 & 0\\\\-1.0 & 0 & 0\\end{matrix}\\right]$$"
       ],
       "metadata": {},
       "output_type": "display_data",
       "text": [
        "<IPython.core.display.Math at 0x441ba58>"
       ]
      }
     ],
     "prompt_number": 5
    },
    {
     "cell_type": "markdown",
     "metadata": {},
     "source": [
      "Examining the matrix above and the correspondent figure above, one can see they agree: the rotated $x$ axis (first column of the above matrix) has value -1 in the $\\mathbf{Z}$ direction $[0,0,-1]$, the rotated $y$ axis (second column) is at the $\\mathbf{Y}$ direction $[0,1,0]$, and the rotated $z$ axis (third column) is at the $\\mathbf{X}$ direction $[1,0,0]$."
     ]
    },
    {
     "cell_type": "markdown",
     "metadata": {},
     "source": [
      "We also can calculate the sequence of elemental rotations around the $x$, $y$, and $z$ axes of the rotating $xyz$ coordinate system illustrated in the figure below. \n",
      "\n",
      "<div class='center-align'><figure><img src='./../images/rotations_xyz2.png' alt='rotations'/> <figcaption><center><i>Sequence of elemental rotations of a second $xyz$ local coordinate system around each axis, $x$, $y$, and $z$, of the rotating $xyz$ coordinate system.</i></center></figcaption> </figure></div>\n",
      "\n",
      "Likewise, this sequence of elemental rotations (each one of the local coordinate system with respect to the rotating local coordinate system) is mathematically represented by a multiplication between the rotation matrices (which are the inverse of the matrices for the rotations around $\\mathbf{X,Y,Z}$ as we saw earlier):\n",
      "\n",
      "$$ \\begin{array}{l l}\n",
      "\\mathbf{R}_{\\mathbf{lG},\\;xyz} & = \\mathbf{R_{z}} \\mathbf{R_{y}} \\mathbf{R_{x}} \\\\\n",
      "& = \\begin{bmatrix}\n",
      "cos\\gamma & sin\\gamma & 0\\\\\n",
      "-sin\\gamma & cos\\gamma & 0 \\\\\n",
      "0 & 0 & 1\n",
      "\\end{bmatrix}\n",
      "\\begin{bmatrix}\n",
      "cos\\beta & 0 & -sin\\beta \\\\\n",
      "0 & 1 & 0 \\\\\n",
      "sin\\beta & 0 & cos\\beta\n",
      "\\end{bmatrix}\n",
      "\\begin{bmatrix}\n",
      "1 & 0 & 0 \\\\\n",
      "0 & cos\\alpha & sin\\alpha \\\\\n",
      "0 & -sin\\alpha & cos\\alpha\n",
      "\\end{bmatrix} \\\\\n",
      "& =\n",
      "\\begin{bmatrix}\n",
      "cos\\beta\\:cos\\gamma \\;&\\;\n",
      "sin\\alpha\\:sin\\beta\\:cos\\gamma+cos\\alpha\\:sin\\gamma \\;&\\;\n",
      "cos\\alpha\\:sin\\beta\\:cos\\gamma-sin\\alpha\\:sin\\gamma \\;\\;\\; \\\\\n",
      "-cos\\beta\\:sin\\gamma \\;&\\;\n",
      "-sin\\alpha\\:sin\\beta\\:sin\\gamma+cos\\alpha\\:cos\\gamma \\;&\\;\n",
      "cos\\alpha\\:sin\\beta\\:sin\\gamma+sin\\alpha\\:cos\\gamma \\;\\;\\;  \\\\\n",
      "sin\\beta \\;&\\; -sin\\alpha\\:cos\\beta \\;&\\; cos\\alpha\\:cos\\beta \\;\\;\\;\n",
      "\\end{bmatrix} \n",
      "\\end{array} $$\n",
      "\n",
      "As before, the order of the multiplication of the matrices is from right to left (first the second rightmost matrix times the rightmost matrix, then the leftmost matrix times this result).   \n",
      "\n",
      "Once again, we can check this matrix multiplication using [Sympy](http://sympy.org/en/index.html):"
     ]
    },
    {
     "cell_type": "code",
     "collapsed": false,
     "input": [
      "a, b, g = sym.symbols('alpha, beta, gamma')\n",
      "# Elemental rotation matrices of xyz (local):\n",
      "Rx = sym.Matrix([[1, 0, 0], [0, cos(a), sin(a)], [0, -sin(a), cos(a)]])\n",
      "Ry = sym.Matrix([[cos(b), 0, -sin(b)], [0, 1, 0], [sin(b), 0, cos(b)]])\n",
      "Rz = sym.Matrix([[cos(g), sin(g), 0], [-sin(g), cos(g), 0], [0, 0, 1]])\n",
      "# Rotation matrix of xyz' in relation to xyz:\n",
      "Rxyz = Rz*Ry*Rx\n",
      "Math(sym.latex(r'\\mathbf{R}_{\\mathbf{lG},\\;xyz}=') + sym.latex(Rxyz, mat_str='matrix'))"
     ],
     "language": "python",
     "metadata": {},
     "outputs": [
      {
       "latex": [
        "$$\\mathbf{R}_{\\mathbf{lG},\\;xyz}=\\left[\\begin{matrix}\\cos{\\left (\\beta \\right )} \\cos{\\left (\\gamma \\right )} & \\sin{\\left (\\alpha \\right )} \\sin{\\left (\\beta \\right )} \\cos{\\left (\\gamma \\right )} + \\sin{\\left (\\gamma \\right )} \\cos{\\left (\\alpha \\right )} & \\sin{\\left (\\alpha \\right )} \\sin{\\left (\\gamma \\right )} - \\sin{\\left (\\beta \\right )} \\cos{\\left (\\alpha \\right )} \\cos{\\left (\\gamma \\right )}\\\\- \\sin{\\left (\\gamma \\right )} \\cos{\\left (\\beta \\right )} & - \\sin{\\left (\\alpha \\right )} \\sin{\\left (\\beta \\right )} \\sin{\\left (\\gamma \\right )} + \\cos{\\left (\\alpha \\right )} \\cos{\\left (\\gamma \\right )} & \\sin{\\left (\\alpha \\right )} \\cos{\\left (\\gamma \\right )} + \\sin{\\left (\\beta \\right )} \\sin{\\left (\\gamma \\right )} \\cos{\\left (\\alpha \\right )}\\\\\\sin{\\left (\\beta \\right )} & - \\sin{\\left (\\alpha \\right )} \\cos{\\left (\\beta \\right )} & \\cos{\\left (\\alpha \\right )} \\cos{\\left (\\beta \\right )}\\end{matrix}\\right]$$"
       ],
       "metadata": {},
       "output_type": "pyout",
       "prompt_number": 6,
       "text": [
        "<IPython.core.display.Math at 0x6dd4160>"
       ]
      }
     ],
     "prompt_number": 6
    },
    {
     "cell_type": "markdown",
     "metadata": {},
     "source": [
      "For instance, let's calculate the numerical rotation matrix for these sequential elemental rotations by $90^o$ around $x,y,z$:"
     ]
    },
    {
     "cell_type": "code",
     "collapsed": false,
     "input": [
      "R = sym.lambdify((a, b, g), Rxyz, 'numpy')\n",
      "R = R(np.pi/2, np.pi/2, np.pi/2)\n",
      "display(Math(r'\\mathbf{R}_{\\mathbf{lG},\\;xyz}(90^o, 90^o, 90^o) =' + \\\n",
      "             sym.latex(sym.Matrix(R).n(chop=True, prec=3))))"
     ],
     "language": "python",
     "metadata": {},
     "outputs": [
      {
       "latex": [
        "$$\\mathbf{R}_{\\mathbf{lG},\\;xyz}(90^o, 90^o, 90^o) =\\left[\\begin{matrix}0 & 0 & 1.0\\\\0 & -1.0 & 0\\\\1.0 & 0 & 0\\end{matrix}\\right]$$"
       ],
       "metadata": {},
       "output_type": "display_data",
       "text": [
        "<IPython.core.display.Math at 0x441bf98>"
       ]
      }
     ],
     "prompt_number": 7
    },
    {
     "cell_type": "markdown",
     "metadata": {},
     "source": [
      "Examining the above matrix and the correspondent above figure, one can see they also agree: the rotated $x$ axis (first column of the above matrix) is at the $\\mathbf{Z}$ direction $[0,0,1]$, the rotated $y$ axis (second column) is at the $\\mathbf{-Y}$ direction $[0,-1,0]$, and the rotated $z$ axis (third column) is at the $\\mathbf{X}$ direction $[1,0,0]$."
     ]
    },
    {
     "cell_type": "markdown",
     "metadata": {},
     "source": [
      "Examining the $\\mathbf{R_{Gl,\\;XYZ}}$ and $\\mathbf{R}_{lG,\\;xyz}$ matrices one can see that negating the angles from one of the matrices results in the other matrix. That is, the rotations of $xyz$ in relation to $\\mathbf{XYZ}$ by $\\alpha, \\beta, \\gamma$ result in the same matrix as the rotations of $\\mathbf{XYZ}$ in relation to $xyz$  by $-\\alpha, -\\beta, -\\gamma$, as we saw for the elemental rotations.   \n",
      "Let's check that:"
     ]
    },
    {
     "cell_type": "code",
     "collapsed": false,
     "input": [
      "# Rotation matrix of xyz in relation to XYZ:\n",
      "display(Math(sym.latex(r'\\mathbf{R_{GL,\\;XYZ}}(\\alpha,\\beta,\\gamma)\\;\\;\\;\\;\\:=') + \\\n",
      "             sym.latex(RXYZ, mat_str='matrix')))\n",
      "\n",
      "# Elemental rotation matrices of XYZ in relation to xyz and negate all the angles:\n",
      "Rx_n = sym.Matrix([[1, 0, 0], [0, cos(-a), -sin(-a)], [0, sin(-a), cos(-a)]]).T\n",
      "Ry_n = sym.Matrix([[cos(-b), 0, sin(-b)], [0, 1, 0], [-sin(-b), 0, cos(-b)]]).T\n",
      "Rz_n = sym.Matrix([[cos(-g), -sin(-g), 0], [sin(-g), cos(-g), 0], [0, 0, 1]]).T\n",
      "\n",
      "# Rotation matrix of XYZ in relation to xyz:\n",
      "Rxyz_n = Rz_n*Ry_n*Rx_n\n",
      "display(Math(sym.latex(r'\\mathbf{R}_{\\mathbf{lG},\\;xyz}(-\\alpha,-\\beta,-\\gamma)=') + \\\n",
      "                       sym.latex(Rxyz_n, mat_str='matrix')))\n",
      "\n",
      "# Check that the two matrices are equal:\n",
      "display(Math(sym.latex(r'\\mathbf{R_{GL,\\;XYZ}}(\\alpha,\\beta,\\gamma) \\;==\\;' + \\\n",
      "                       r'\\mathbf{R}_{\\mathbf{lG},\\;xyz}(-\\alpha,-\\beta,-\\gamma)')))\n",
      "RXYZ == Rxyz_n"
     ],
     "language": "python",
     "metadata": {},
     "outputs": [
      {
       "latex": [
        "$$\\mathbf{R_{GL,\\;XYZ}}(\\alpha,\\beta,\\gamma)\\;\\;\\;\\;\\:=\\left[\\begin{matrix}\\cos{\\left (\\beta \\right )} \\cos{\\left (\\gamma \\right )} & \\sin{\\left (\\alpha \\right )} \\sin{\\left (\\beta \\right )} \\cos{\\left (\\gamma \\right )} - \\sin{\\left (\\gamma \\right )} \\cos{\\left (\\alpha \\right )} & \\sin{\\left (\\alpha \\right )} \\sin{\\left (\\gamma \\right )} + \\sin{\\left (\\beta \\right )} \\cos{\\left (\\alpha \\right )} \\cos{\\left (\\gamma \\right )}\\\\\\sin{\\left (\\gamma \\right )} \\cos{\\left (\\beta \\right )} & \\sin{\\left (\\alpha \\right )} \\sin{\\left (\\beta \\right )} \\sin{\\left (\\gamma \\right )} + \\cos{\\left (\\alpha \\right )} \\cos{\\left (\\gamma \\right )} & - \\sin{\\left (\\alpha \\right )} \\cos{\\left (\\gamma \\right )} + \\sin{\\left (\\beta \\right )} \\sin{\\left (\\gamma \\right )} \\cos{\\left (\\alpha \\right )}\\\\- \\sin{\\left (\\beta \\right )} & \\sin{\\left (\\alpha \\right )} \\cos{\\left (\\beta \\right )} & \\cos{\\left (\\alpha \\right )} \\cos{\\left (\\beta \\right )}\\end{matrix}\\right]$$"
       ],
       "metadata": {},
       "output_type": "display_data",
       "text": [
        "<IPython.core.display.Math at 0x6df8630>"
       ]
      },
      {
       "latex": [
        "$$\\mathbf{R}_{\\mathbf{lG},\\;xyz}(-\\alpha,-\\beta,-\\gamma)=\\left[\\begin{matrix}\\cos{\\left (\\beta \\right )} \\cos{\\left (\\gamma \\right )} & \\sin{\\left (\\alpha \\right )} \\sin{\\left (\\beta \\right )} \\cos{\\left (\\gamma \\right )} - \\sin{\\left (\\gamma \\right )} \\cos{\\left (\\alpha \\right )} & \\sin{\\left (\\alpha \\right )} \\sin{\\left (\\gamma \\right )} + \\sin{\\left (\\beta \\right )} \\cos{\\left (\\alpha \\right )} \\cos{\\left (\\gamma \\right )}\\\\\\sin{\\left (\\gamma \\right )} \\cos{\\left (\\beta \\right )} & \\sin{\\left (\\alpha \\right )} \\sin{\\left (\\beta \\right )} \\sin{\\left (\\gamma \\right )} + \\cos{\\left (\\alpha \\right )} \\cos{\\left (\\gamma \\right )} & - \\sin{\\left (\\alpha \\right )} \\cos{\\left (\\gamma \\right )} + \\sin{\\left (\\beta \\right )} \\sin{\\left (\\gamma \\right )} \\cos{\\left (\\alpha \\right )}\\\\- \\sin{\\left (\\beta \\right )} & \\sin{\\left (\\alpha \\right )} \\cos{\\left (\\beta \\right )} & \\cos{\\left (\\alpha \\right )} \\cos{\\left (\\beta \\right )}\\end{matrix}\\right]$$"
       ],
       "metadata": {},
       "output_type": "display_data",
       "text": [
        "<IPython.core.display.Math at 0x6df8748>"
       ]
      },
      {
       "latex": [
        "$$\\mathbf{R_{GL,\\;XYZ}}(\\alpha,\\beta,\\gamma) \\;==\\;\\mathbf{R}_{\\mathbf{lG},\\;xyz}(-\\alpha,-\\beta,-\\gamma)$$"
       ],
       "metadata": {},
       "output_type": "display_data",
       "text": [
        "<IPython.core.display.Math at 0x6df88d0>"
       ]
      },
      {
       "metadata": {},
       "output_type": "pyout",
       "prompt_number": 8,
       "text": [
        "True"
       ]
      }
     ],
     "prompt_number": 8
    },
    {
     "cell_type": "markdown",
     "metadata": {},
     "source": [
      "There is another property of the rotation matrices for the different coordinate systems: the rotation matrix, for example from the Global to the local coordinate system for the $xyz$ sequence, is just the transpose of the rotation matrix for the inverse operation (from the local to the Global coordinate system) of the inverse sequence ($\\mathbf{ZYX}$) and vice-versa:"
     ]
    },
    {
     "cell_type": "code",
     "collapsed": false,
     "input": [
      "RZYX = RX*RY*RZ\n",
      "display(Math(sym.latex(r'\\mathbf{R_{Gl,\\;ZYX}^T}=') + sym.latex(RZYX.T, mat_str='matrix')))\n",
      "display(Math(sym.latex(r'\\mathbf{R}_{\\mathbf{lG},\\;xyz}(\\alpha,\\beta,\\gamma) \\;==\\;' + \\\n",
      "                       r'\\mathbf{R_{Gl,\\;ZYX}^T}(\\gamma,\\beta,\\alpha)')))\n",
      "Rxyz == RZYX.T"
     ],
     "language": "python",
     "metadata": {},
     "outputs": [
      {
       "latex": [
        "$$\\mathbf{R_{Gl,\\;ZYX}^T}=\\left[\\begin{matrix}\\cos{\\left (\\beta \\right )} \\cos{\\left (\\gamma \\right )} & \\sin{\\left (\\alpha \\right )} \\sin{\\left (\\beta \\right )} \\cos{\\left (\\gamma \\right )} + \\sin{\\left (\\gamma \\right )} \\cos{\\left (\\alpha \\right )} & \\sin{\\left (\\alpha \\right )} \\sin{\\left (\\gamma \\right )} - \\sin{\\left (\\beta \\right )} \\cos{\\left (\\alpha \\right )} \\cos{\\left (\\gamma \\right )}\\\\- \\sin{\\left (\\gamma \\right )} \\cos{\\left (\\beta \\right )} & - \\sin{\\left (\\alpha \\right )} \\sin{\\left (\\beta \\right )} \\sin{\\left (\\gamma \\right )} + \\cos{\\left (\\alpha \\right )} \\cos{\\left (\\gamma \\right )} & \\sin{\\left (\\alpha \\right )} \\cos{\\left (\\gamma \\right )} + \\sin{\\left (\\beta \\right )} \\sin{\\left (\\gamma \\right )} \\cos{\\left (\\alpha \\right )}\\\\\\sin{\\left (\\beta \\right )} & - \\sin{\\left (\\alpha \\right )} \\cos{\\left (\\beta \\right )} & \\cos{\\left (\\alpha \\right )} \\cos{\\left (\\beta \\right )}\\end{matrix}\\right]$$"
       ],
       "metadata": {},
       "output_type": "display_data",
       "text": [
        "<IPython.core.display.Math at 0x440a7b8>"
       ]
      },
      {
       "latex": [
        "$$\\mathbf{R}_{\\mathbf{lG},\\;xyz}(\\alpha,\\beta,\\gamma) \\;==\\;\\mathbf{R_{Gl,\\;ZYX}^T}(\\gamma,\\beta,\\alpha)$$"
       ],
       "metadata": {},
       "output_type": "display_data",
       "text": [
        "<IPython.core.display.Math at 0x440a4a8>"
       ]
      },
      {
       "metadata": {},
       "output_type": "pyout",
       "prompt_number": 9,
       "text": [
        "True"
       ]
      }
     ],
     "prompt_number": 9
    },
    {
     "cell_type": "markdown",
     "metadata": {},
     "source": [
      "**The 12 different sequences of Euler angles**\n",
      "\n",
      "The Euler angles are defined in terms of rotations around a rotating local coordinate system. As we saw for the sequence of rotations around $x, y, z$, the axes of the local rotated coordinate system are not fixed in space because after the first elemental rotation, the other two axes rotate. \n",
      "\n",
      "Other sequences of rotations could be produced; without combining axes of the two different coordinate systems (Global and local) for the definition of the rotation axes. There is a total of 12 different sequences of three elemental rotations that are valid and may be used for describing the rotation of a coordinate system with respect to another coordinate system:\n",
      "\n",
      "$$ xyz \\quad xzy \\quad yzx \\quad yxz \\quad zxy \\quad zyx  $$\n",
      "\n",
      "$$ xyx \\quad xzx \\quad yzy \\quad yxy \\quad zxz \\quad zyz  $$\n",
      "\n",
      "The first six sequences (first row) are all around different axes, they are usually referred as Cardan or Tait\u2013Bryan angles. The other six sequences (second row) have the first and third rotations around the same axis, but keep in mind that the axis for the third rotation is not at the same place anymore because it changed its orientation after the second rotation. The sequences with repeated axes are known as proper or classic Euler angles.\n",
      "\n",
      "Which order to use, it is a matter of convention, and because the order affects the results, it's fundamental to follow a convention and report it. In Engeneering Mechanics (including Biomechanics), the $xyz$ order is more common; in Physics the $zxz$ order is more common (but the letters chosen to refer to axes are arbirtrary, what matters is the directions they represent). In Biomechanics, the order for the Cardan angles is most often based on the angle of most interest or of most reliable measure. Accordingly, the axis of flexion/extension is typically selected as the first axis, the axis for abduction/adduction is the second, and the axis for internal/external rotation is the last one. We will see about that later.\n",
      "\n",
      "If instead of rotations around the rotating local coordinate system we perform rotations around the fixed Global coordinate system, we will have other 12 different sequences of three elemental rotations, these are called simply rotation angles. So, in total there are 24 possible different sequences of three elemental rotations, but the 24 orders are not independent; with the 12 different sequences of Euler angles at the local coordinate system we can obtain the other 12 sequences at the Global coordinate system.\n",
      "\n",
      "The Python function `euler_rotmat.py` (code at the end of this text) determines the rotation matrix in algebraic form for any of the 24 different sequences (and sequences with only one or two axes can be inputed). This function also determines the rotation matrix in numeric form if a list of up to three angles are inputed.\n",
      "\n",
      "For instance, the rotation matrix in algebraic form for the $zxz$ order of Euler angles at the local coordinate system and the correspondent rotation matrix in numeric form after three elemental rotations by $90^o$ each are:"
     ]
    },
    {
     "cell_type": "code",
     "collapsed": false,
     "input": [
      "import sys\n",
      "sys.path.insert(1, r'./../functions')\n",
      "from euler_rotmat import euler_rotmat"
     ],
     "language": "python",
     "metadata": {},
     "outputs": [],
     "prompt_number": 10
    },
    {
     "cell_type": "code",
     "collapsed": false,
     "input": [
      "Ra, Rn = euler_rotmat(order='zxz', frame='local', angles=[90, 90, 90])"
     ],
     "language": "python",
     "metadata": {},
     "outputs": [
      {
       "latex": [
        "$$\\mathbf{R}_{local}( z:\\alpha,x:\\beta,z:\\gamma) =\\left[\\begin{matrix}- \\sin{\\left (\\alpha \\right )} \\sin{\\left (\\gamma \\right )} \\cos{\\left (\\beta \\right )} + \\cos{\\left (\\alpha \\right )} \\cos{\\left (\\gamma \\right )} & \\sin{\\left (\\alpha \\right )} \\cos{\\left (\\gamma \\right )} + \\sin{\\left (\\gamma \\right )} \\cos{\\left (\\alpha \\right )} \\cos{\\left (\\beta \\right )} & \\sin{\\left (\\beta \\right )} \\sin{\\left (\\gamma \\right )}\\\\- \\sin{\\left (\\alpha \\right )} \\cos{\\left (\\beta \\right )} \\cos{\\left (\\gamma \\right )} - \\sin{\\left (\\gamma \\right )} \\cos{\\left (\\alpha \\right )} & - \\sin{\\left (\\alpha \\right )} \\sin{\\left (\\gamma \\right )} + \\cos{\\left (\\alpha \\right )} \\cos{\\left (\\beta \\right )} \\cos{\\left (\\gamma \\right )} & \\sin{\\left (\\beta \\right )} \\cos{\\left (\\gamma \\right )}\\\\\\sin{\\left (\\alpha \\right )} \\sin{\\left (\\beta \\right )} & - \\sin{\\left (\\beta \\right )} \\cos{\\left (\\alpha \\right )} & \\cos{\\left (\\beta \\right )}\\end{matrix}\\right]$$"
       ],
       "metadata": {},
       "output_type": "display_data",
       "text": [
        "<IPython.core.display.Math at 0x6df8518>"
       ]
      },
      {
       "latex": [
        "$$\\mathbf{R}_{local}(z:\\alpha=90^o,\\;x:\\beta=90^o,\\;z:\\gamma=90^o)=\\left[\\begin{matrix}0 & 0 & 1.0\\\\0 & -1.0 & 0\\\\1.0 & 0 & 0\\end{matrix}\\right]$$"
       ],
       "metadata": {},
       "output_type": "display_data",
       "text": [
        "<IPython.core.display.Math at 0x6df8518>"
       ]
      }
     ],
     "prompt_number": 11
    },
    {
     "cell_type": "markdown",
     "metadata": {},
     "source": [
      "**Line of nodes**  \n",
      "\n",
      "The second axis of rotation in the rotating coordinate system is also referred as the nodal axis or line of nodes; this axis coincides with the intersection of two perpendicular planes, one from each Global (fixed) and local (rotating) coordinate systems. The figure below shows an example of rotations and the nodal axis for the $xyz$ sequence of the Cardan angles.\n",
      "\n",
      "<div class='center-align'><figure><img src='./../images/Node.png' alt='rotations'/> <figcaption><center><i>Example of rotations for the $xyz$ sequence of the Cardan angles (first row). The Global (fixed) $XYZ$ coordinate system is shown in green, the local (rotating) $xyz$ coordinate system is shown in blue. The nodal axis (**N**, shown in red) is defined by the intersection of the $YZ$ and $xy$ planes and all rotations can be described in relation to this nodal axis or to a perpendicaular axis to it. Note that the line of nodes coincides with the $y$ axis for the second rotation.\n",
      "Starting from no rotation, the local coordinate system is rotated by $\\alpha$ around the $x$ axis (second plot), then by $\\beta$ around the rotated $y$ axis (third plot), and finally by $\\gamma$ around the twice rotated $z$ axis (second row).</i></center></figcaption> </figure></div>"
     ]
    },
    {
     "cell_type": "markdown",
     "metadata": {},
     "source": [
      "**Determination of the Euler angles**\n",
      "\n",
      "Once a convention is adopted, the correspoding three Euler angles of rotation can be found.   \n",
      "For example, for the $\\mathbf{R}_{xyz}$ rotation matrix:"
     ]
    },
    {
     "cell_type": "code",
     "collapsed": false,
     "input": [
      "R = euler_rotmat(order='xyz', frame='local')"
     ],
     "language": "python",
     "metadata": {},
     "outputs": [
      {
       "latex": [
        "$$\\mathbf{R}_{local}( x:\\alpha,y:\\beta,z:\\gamma) =\\left[\\begin{matrix}\\cos{\\left (\\beta \\right )} \\cos{\\left (\\gamma \\right )} & \\sin{\\left (\\alpha \\right )} \\sin{\\left (\\beta \\right )} \\cos{\\left (\\gamma \\right )} + \\sin{\\left (\\gamma \\right )} \\cos{\\left (\\alpha \\right )} & \\sin{\\left (\\alpha \\right )} \\sin{\\left (\\gamma \\right )} - \\sin{\\left (\\beta \\right )} \\cos{\\left (\\alpha \\right )} \\cos{\\left (\\gamma \\right )}\\\\- \\sin{\\left (\\gamma \\right )} \\cos{\\left (\\beta \\right )} & - \\sin{\\left (\\alpha \\right )} \\sin{\\left (\\beta \\right )} \\sin{\\left (\\gamma \\right )} + \\cos{\\left (\\alpha \\right )} \\cos{\\left (\\gamma \\right )} & \\sin{\\left (\\alpha \\right )} \\cos{\\left (\\gamma \\right )} + \\sin{\\left (\\beta \\right )} \\sin{\\left (\\gamma \\right )} \\cos{\\left (\\alpha \\right )}\\\\\\sin{\\left (\\beta \\right )} & - \\sin{\\left (\\alpha \\right )} \\cos{\\left (\\beta \\right )} & \\cos{\\left (\\alpha \\right )} \\cos{\\left (\\beta \\right )}\\end{matrix}\\right]$$"
       ],
       "metadata": {},
       "output_type": "display_data",
       "text": [
        "<IPython.core.display.Math at 0x441b2e8>"
       ]
      }
     ],
     "prompt_number": 12
    },
    {
     "cell_type": "markdown",
     "metadata": {},
     "source": [
      "The correspoding Cardan angles for the `xyz` sequence can be given by:\n",
      "\n",
      "$$ \\begin{array}{}\n",
      "\\alpha = arctan\\left(\\frac{sin(\\alpha)}{cos(\\alpha)}\\right) = arctan\\left(\\frac{-\\mathbf{R}_{21}}{\\;\\;\\;\\mathbf{R}_{22}}\\right) \\\\\n",
      "\\\\\n",
      "\\beta = arctan\\left(\\frac{sin(\\beta)}{cos(\\beta)}\\right) = arctan\\left(\\frac{\\mathbf{R}_{20}}{\\sqrt{\\mathbf{R}_{00}^2+\\mathbf{R}_{10}^2}}\\right) \\\\  \n",
      "\\\\\n",
      "\\gamma = arctan\\left(\\frac{sin(\\gamma)}{cos(\\gamma)}\\right) = arctan\\left(\\frac{-\\mathbf{R}_{10}}{\\;\\;\\;\\mathbf{R}_{00}}\\right)\n",
      "\\end{array} $$\n",
      "\n",
      "Note that we prefer to use the mathematical function `arctan` rather than simply `arcsin` because the latter cannot distinguish $45^o$ from $135^o$ for example and also for better numerical accuracy. See the text [Angular kinematics in a plane (2D)](http://nbviewer.ipython.org/github/demotu/BMC/blob/master/notebooks/AngularKinematics2D.ipynb) for more on these issues.\n",
      "\n",
      "And here is a Python function to compute the Euler angles of rotations from the Global to the local coordinate system for the $xyz$ Cardan sequence: "
     ]
    },
    {
     "cell_type": "code",
     "collapsed": false,
     "input": [
      "def euler_angles_from_rot_xyz(rot_matrix, unit='deg'):\n",
      "    \"\"\" Compute Euler angles from rotation matrix in the xyz sequence.\"\"\"\n",
      "    \n",
      "    import numpy as np\n",
      "\n",
      "    R = np.array(rot_matrix, dtype=np.float64, copy=False)[:3, :3]\n",
      "    angles = np.zeros(3)\n",
      "    \n",
      "    angles[0] = np.arctan2(-R[2, 1], R[2, 2])\n",
      "    angles[1] = np.arctan2( R[2, 0], np.sqrt(R[0, 0]**2 + R[1, 0]**2))\n",
      "    angles[2] = np.arctan2(-R[1, 0], R[0, 0])\n",
      "\n",
      "    if unit[:3].lower() == 'deg': # convert from rad to degree\n",
      "        angles = np.rad2deg(angles)\n",
      "\n",
      "    return angles"
     ],
     "language": "python",
     "metadata": {},
     "outputs": [],
     "prompt_number": 13
    },
    {
     "cell_type": "markdown",
     "metadata": {},
     "source": [
      "For instance, consider sequential rotations of 45$^o$ around $x,y,z$. The resultant rotation matrix is:"
     ]
    },
    {
     "cell_type": "code",
     "collapsed": false,
     "input": [
      "Ra, Rn = euler_rotmat(order='xyz', frame='local', angles=[45, 45, 45], showA=False)"
     ],
     "language": "python",
     "metadata": {},
     "outputs": [
      {
       "latex": [
        "$$\\mathbf{R}_{local}(x:\\alpha=45^o,\\;y:\\beta=45^o,\\;z:\\gamma=45^o)=\\left[\\begin{matrix}0.5 & 0.8536 & 0.1464\\\\-0.5 & 0.1464 & 0.8536\\\\0.7071 & -0.5 & 0.5\\end{matrix}\\right]$$"
       ],
       "metadata": {},
       "output_type": "display_data",
       "text": [
        "<IPython.core.display.Math at 0x6fdaeb8>"
       ]
      }
     ],
     "prompt_number": 14
    },
    {
     "cell_type": "markdown",
     "metadata": {},
     "source": [
      "Let's check that calculating back the Cardan angles from this rotation matrix using the `euler_angles_from_rot_xyz()` function:"
     ]
    },
    {
     "cell_type": "code",
     "collapsed": false,
     "input": [
      "euler_angles_from_rot_xyz(Rn, unit='deg')"
     ],
     "language": "python",
     "metadata": {},
     "outputs": [
      {
       "metadata": {},
       "output_type": "pyout",
       "prompt_number": 15,
       "text": [
        "array([ 45.,  45.,  45.])"
       ]
      }
     ],
     "prompt_number": 15
    },
    {
     "cell_type": "markdown",
     "metadata": {},
     "source": [
      "We could implement a function to calculate the Euler angles for any of the 12 sequences (in fact, plus another 12 sequences if we consider all the rotations from and to the two coordinate systems), but this is tedious. There is a smarter solution using the concept of [quaternion](http://en.wikipedia.org/wiki/Quaternion) and we will see that later. First, let's see a problem with using Euler angles known as gimbal lock."
     ]
    },
    {
     "cell_type": "heading",
     "level": 3,
     "metadata": {},
     "source": [
      "Gimbal lock"
     ]
    },
    {
     "cell_type": "markdown",
     "metadata": {},
     "source": [
      "[Gimbal lock](http://en.wikipedia.org/wiki/Gimbal_lock) is the loss of one degree of freedom in a three-dimensional coordinate system that occurs when an axis of rotation is placed parallel with another previous axis of rotation and two of the three rotations will be around the same direction given a certain convention of the Euler angles. This \"locks\" the system into rotations in a degenerate two-dimensional space. The system is not really locked in the sense it can't be moved or reach the other degree of freedom, but it will need an extra rotation for that.   \n",
      "\n",
      "For instance, let's look at the $zxz$ sequence of rotations by the angles $\\alpha, \\beta, \\gamma$:\n",
      "\n",
      "$$ \\begin{array}{l l}\n",
      "\\mathbf{R}_{zxz} & = \\mathbf{R_{z}} \\mathbf{R_{x}} \\mathbf{R_{z}} \\\\\n",
      "& = \n",
      "\\begin{bmatrix}\n",
      "cos\\gamma & sin\\gamma & 0\\\\\n",
      "-sin\\gamma & cos\\gamma & 0 \\\\\n",
      "0 & 0 & 1\n",
      "\\end{bmatrix}\n",
      "\\begin{bmatrix}\n",
      "1 & 0 & 0 \\\\\n",
      "0 & cos\\beta & sin\\beta \\\\\n",
      "0 & -sin\\beta & cos\\beta\n",
      "\\end{bmatrix}\n",
      "\\begin{bmatrix}\n",
      "cos\\alpha & sin\\alpha & 0\\\\\n",
      "-sin\\alpha & cos\\alpha & 0 \\\\\n",
      "0 & 0 & 1\n",
      "\\end{bmatrix}\n",
      "\\end{array} $$\n",
      "\n",
      "Which results in:"
     ]
    },
    {
     "cell_type": "code",
     "collapsed": false,
     "input": [
      "a, b, g = sym.symbols('alpha, beta, gamma')\n",
      "# Elemental rotation matrices of xyz (local):\n",
      "Rz = sym.Matrix([[cos(a), sin(a), 0], [-sin(a), cos(a), 0], [0, 0, 1]])\n",
      "Rx = sym.Matrix([[1, 0, 0], [0, cos(b), sin(b)], [0, -sin(b), cos(b)]])\n",
      "Rz2 = sym.Matrix([[cos(g), sin(g), 0], [-sin(g), cos(g), 0], [0, 0, 1]])\n",
      "# Rotation matrix for the zxz sequence:\n",
      "Rzxz = Rz2*Rx*Rz\n",
      "Math(sym.latex(r'\\mathbf{R}_{zxz}=') + sym.latex(Rzxz, mat_str='matrix'))"
     ],
     "language": "python",
     "metadata": {},
     "outputs": [
      {
       "latex": [
        "$$\\mathbf{R}_{zxz}=\\left[\\begin{matrix}- \\sin{\\left (\\alpha \\right )} \\sin{\\left (\\gamma \\right )} \\cos{\\left (\\beta \\right )} + \\cos{\\left (\\alpha \\right )} \\cos{\\left (\\gamma \\right )} & \\sin{\\left (\\alpha \\right )} \\cos{\\left (\\gamma \\right )} + \\sin{\\left (\\gamma \\right )} \\cos{\\left (\\alpha \\right )} \\cos{\\left (\\beta \\right )} & \\sin{\\left (\\beta \\right )} \\sin{\\left (\\gamma \\right )}\\\\- \\sin{\\left (\\alpha \\right )} \\cos{\\left (\\beta \\right )} \\cos{\\left (\\gamma \\right )} - \\sin{\\left (\\gamma \\right )} \\cos{\\left (\\alpha \\right )} & - \\sin{\\left (\\alpha \\right )} \\sin{\\left (\\gamma \\right )} + \\cos{\\left (\\alpha \\right )} \\cos{\\left (\\beta \\right )} \\cos{\\left (\\gamma \\right )} & \\sin{\\left (\\beta \\right )} \\cos{\\left (\\gamma \\right )}\\\\\\sin{\\left (\\alpha \\right )} \\sin{\\left (\\beta \\right )} & - \\sin{\\left (\\beta \\right )} \\cos{\\left (\\alpha \\right )} & \\cos{\\left (\\beta \\right )}\\end{matrix}\\right]$$"
       ],
       "metadata": {},
       "output_type": "pyout",
       "prompt_number": 16,
       "text": [
        "<IPython.core.display.Math at 0x6ff53c8>"
       ]
      }
     ],
     "prompt_number": 16
    },
    {
     "cell_type": "markdown",
     "metadata": {},
     "source": [
      "\n",
      "Let's examine what happens with this rotation matrix when the rotation around the second axis ($x$) by $\\beta$ is zero:\n",
      "\n",
      "$$ \\begin{array}{l l}\n",
      "\\mathbf{R}_{zxz}(\\alpha, \\beta=0, \\gamma) = \n",
      "\\begin{bmatrix}\n",
      "cos\\gamma & sin\\gamma & 0\\\\\n",
      "-sin\\gamma & cos\\gamma & 0 \\\\\n",
      "0 & 0 & 1\n",
      "\\end{bmatrix}\n",
      "\\begin{bmatrix}\n",
      "1 & 0 & 0 \\\\\n",
      "0 & 1 & 0 \\\\\n",
      "0 & 0 & 1\n",
      "\\end{bmatrix}\n",
      "\\begin{bmatrix}\n",
      "cos\\alpha & sin\\alpha & 0\\\\\n",
      "-sin\\alpha & cos\\alpha & 0 \\\\\n",
      "0 & 0 & 1\n",
      "\\end{bmatrix}\n",
      "\\end{array} $$\n",
      "\n",
      "The second matrix is the identity matrix and has no effect on the product of the matrices, which will be:"
     ]
    },
    {
     "cell_type": "code",
     "collapsed": false,
     "input": [
      "Rzxz = Rz2*Rz\n",
      "Math(sym.latex(r'\\mathbf{R}_{xyz}(\\alpha, \\beta=0, \\gamma)=') + \\\n",
      "     sym.latex(Rzxz, mat_str='matrix'))"
     ],
     "language": "python",
     "metadata": {},
     "outputs": [
      {
       "latex": [
        "$$\\mathbf{R}_{xyz}(\\alpha, \\beta=0, \\gamma)=\\left[\\begin{matrix}- \\sin{\\left (\\alpha \\right )} \\sin{\\left (\\gamma \\right )} + \\cos{\\left (\\alpha \\right )} \\cos{\\left (\\gamma \\right )} & \\sin{\\left (\\alpha \\right )} \\cos{\\left (\\gamma \\right )} + \\sin{\\left (\\gamma \\right )} \\cos{\\left (\\alpha \\right )} & 0\\\\- \\sin{\\left (\\alpha \\right )} \\cos{\\left (\\gamma \\right )} - \\sin{\\left (\\gamma \\right )} \\cos{\\left (\\alpha \\right )} & - \\sin{\\left (\\alpha \\right )} \\sin{\\left (\\gamma \\right )} + \\cos{\\left (\\alpha \\right )} \\cos{\\left (\\gamma \\right )} & 0\\\\0 & 0 & 1\\end{matrix}\\right]$$"
       ],
       "metadata": {},
       "output_type": "pyout",
       "prompt_number": 17,
       "text": [
        "<IPython.core.display.Math at 0x440a828>"
       ]
      }
     ],
     "prompt_number": 17
    },
    {
     "cell_type": "markdown",
     "metadata": {},
     "source": [
      "Which simplifies to:"
     ]
    },
    {
     "cell_type": "code",
     "collapsed": false,
     "input": [
      "Rzxz = sym.simplify(Rzxz)\n",
      "Math(sym.latex(r'\\mathbf{R}_{xyz}(\\alpha, \\beta=0, \\gamma)=') + \\\n",
      "     sym.latex(Rzxz, mat_str='matrix'))"
     ],
     "language": "python",
     "metadata": {},
     "outputs": [
      {
       "latex": [
        "$$\\mathbf{R}_{xyz}(\\alpha, \\beta=0, \\gamma)=\\left[\\begin{matrix}\\cos{\\left (\\alpha + \\gamma \\right )} & \\sin{\\left (\\alpha + \\gamma \\right )} & 0\\\\- \\sin{\\left (\\alpha + \\gamma \\right )} & \\cos{\\left (\\alpha + \\gamma \\right )} & 0\\\\0 & 0 & 1\\end{matrix}\\right]$$"
       ],
       "metadata": {},
       "output_type": "pyout",
       "prompt_number": 18,
       "text": [
        "<IPython.core.display.Math at 0x6fdaeb8>"
       ]
      }
     ],
     "prompt_number": 18
    },
    {
     "cell_type": "markdown",
     "metadata": {},
     "source": [
      "Despite different values of $\\alpha$ and $\\gamma$ the result is a single rotation around the $z$ axis given by the sum $\\alpha+\\gamma$. In this case, of the three degrees of freedom one was lost (the other degree of freedom was set by $\\beta=0$). For movement analysis, this means for example that one angle will be indetermined because everything we know is the sum of the two angles obtained from the rotation matrix. We can set the unknown angle to zero but this is arbitrary.\n",
      "\n",
      "In fact, we already dealt with another example of gimbal lock when we looked at the $xyz$ sequence with rotations by $90^o$. See the figure representing these rotations again and perceive that the first and third rotations were around the same axis because the second rotation was by $90^o$. Let's do the matrix multiplication replacing only the second angle by $90^o$ (and let's use the `euler_rotmat.py`:"
     ]
    },
    {
     "cell_type": "code",
     "collapsed": false,
     "input": [
      "Ra, Rn = euler_rotmat(order='xyz', frame='local', angles=[None, 90., None], showA=False)"
     ],
     "language": "python",
     "metadata": {},
     "outputs": [
      {
       "latex": [
        "$$\\mathbf{R}_{local}(x:\\alpha,\\;y:\\beta=90^o,\\;z:\\gamma)=\\left[\\begin{matrix}0 & \\sin{\\left (\\alpha + \\gamma \\right )} & - \\cos{\\left (\\alpha + \\gamma \\right )}\\\\0 & \\cos{\\left (\\alpha + \\gamma \\right )} & \\sin{\\left (\\alpha + \\gamma \\right )}\\\\1.0 & 0 & 0\\end{matrix}\\right]$$"
       ],
       "metadata": {},
       "output_type": "display_data",
       "text": [
        "<IPython.core.display.Math at 0x6effac8>"
       ]
      }
     ],
     "prompt_number": 19
    },
    {
     "cell_type": "markdown",
     "metadata": {},
     "source": [
      "Once again, one degree of freedom was lost and we will not be able to uniquely determine the three angles for the given rotation matrix and sequence.\n",
      "\n",
      "Possible solutions to avoid the gimbal lock are: choose a different sequence, do not rotate the system by the angle that puts the system in gimbal lock (in the examples above, avoid $\\beta=90^o$), or add an extra fourth parameter in the description of the rotation angles.   \n",
      "\n",
      "But if we have a physical system where we measure or specify exactly three Euler angles in a fixed sequence to describe or control it, and we can't avoid the system to assume certain angles, then we might have to say \"Houston, we have a problem\".  \n",
      "This is an actual conversation between crew and mission control during the Apollo 13 mission (Corke, 2011):\n",
      "\n",
      ">Mission clock: 02 08 12 47      \n",
      "Flight: *Go, Guidance.*    \n",
      "Guido: *He\u2019s getting close to gimbal lock there.*    \n",
      "Flight: *Roger. CapCom, recommend he bring up C3, C4, B3, B4, C1 and C2 thrusters, and advise he\u2019s getting close to gimbal lock.*   \n",
      "CapCom: *Roger.*    \n",
      "\n",
      "Of note, it was not a gimbal lock that caused the accident with the the Apollo 13 mission, the problem was an oxygen tank explosion."
     ]
    },
    {
     "cell_type": "heading",
     "level": 2,
     "metadata": {},
     "source": [
      "Determination of the rotation matrix"
     ]
    },
    {
     "cell_type": "markdown",
     "metadata": {},
     "source": [
      "A typical way to determine the rotation matrix for a rigid body in biomechanics is to use motion analysis to measure the position of at least three non-colinear markers placed on the rigid body, and then calculate a basis with these positions, analogue to what we have described in the text [Rigid-body transformations in a plane (2D)](http://nbviewer.ipython.org/github/demotu/BMC/blob/master/notebooks/Transformation2D.ipynb)."
     ]
    },
    {
     "cell_type": "heading",
     "level": 3,
     "metadata": {},
     "source": [
      "Basis"
     ]
    },
    {
     "cell_type": "markdown",
     "metadata": {},
     "source": [
      "If we have the position of three markers: **m1**, **m2**, **m3**, a basis (formed by three orthogonal versors) can be found as:   \n",
      "\n",
      " - First axis, **v1**, the vector **m2-m1**;   \n",
      " - Second axis, **v2**, the cross product between the vectors **v1** and **m3-m1**;   \n",
      " - Third axis, **v3**, the cross product between the vectors **v1** and **v2**.  \n",
      " \n",
      "Then, each of these vectors are normalized resulting in three othogonal versors.   \n",
      "\n",
      "For example, given the positions m1 = [1,0,0], m2 = [0,1,0], m3 = [0,0,1], a basis can be found:"
     ]
    },
    {
     "cell_type": "code",
     "collapsed": false,
     "input": [
      "m1 = np.array([1, 0, 0])\n",
      "m2 = np.array([0, 1, 0])\n",
      "m3 = np.array([0, 0, 1])\n",
      "\n",
      "v1 = m2 - m1\n",
      "v2 = np.cross(v1, m3 - m1)\n",
      "v3 = np.cross(v1, v2)\n",
      "\n",
      "print('Versors:')\n",
      "v1 = v1/np.linalg.norm(v1)\n",
      "print('v1 =', v1)\n",
      "\n",
      "v2 = v2/np.linalg.norm(v2)\n",
      "print('v2 =', v2)\n",
      "\n",
      "v3 = v3/np.linalg.norm(v3)\n",
      "print('v3 =', v3)\n",
      "\n",
      "print('\\nNorm of each versor:\\n',\n",
      "      np.linalg.norm(np.cross(v1, v2)),\n",
      "      np.linalg.norm(np.cross(v1, v3)),\n",
      "      np.linalg.norm(np.cross(v2, v3)))"
     ],
     "language": "python",
     "metadata": {},
     "outputs": [
      {
       "output_type": "stream",
       "stream": "stdout",
       "text": [
        "Versors:\n",
        "v1 ="
       ]
      },
      {
       "output_type": "stream",
       "stream": "stdout",
       "text": [
        " [-0.7071  0.7071  0.    ]\n",
        "v2 ="
       ]
      },
      {
       "output_type": "stream",
       "stream": "stdout",
       "text": [
        " [ 0.5774  0.5774  0.5774]\n",
        "v3 ="
       ]
      },
      {
       "output_type": "stream",
       "stream": "stdout",
       "text": [
        " [ 0.4082  0.4082 -0.8165]\n",
        "\n",
        "Norm of each versor:\n"
       ]
      },
      {
       "output_type": "stream",
       "stream": "stdout",
       "text": [
        " 1.0 1.0 1.0\n"
       ]
      }
     ],
     "prompt_number": 20
    },
    {
     "cell_type": "markdown",
     "metadata": {},
     "source": [
      "Remember from the text [Rigid-body transformations in a plane (2D)](http://nbviewer.ipython.org/github/demotu/BMC/blob/master/notebooks/Transformation2D.ipynb) that the versors of this basis are the columns of the $\\mathbf{R_{Gl}}$ and the rows of the $\\mathbf{R_{lG}}$ rotation matrices, for instance:"
     ]
    },
    {
     "cell_type": "code",
     "collapsed": false,
     "input": [
      "RlG = np.array([v1, v2, v3])\n",
      "print('Rotation matrix from Global to local coordinate system:\\n', RlG)"
     ],
     "language": "python",
     "metadata": {},
     "outputs": [
      {
       "output_type": "stream",
       "stream": "stdout",
       "text": [
        "Rotation matrix from Global to local coordinate system:\n",
        " [[-0.7071  0.7071  0.    ]\n",
        " [ 0.5774  0.5774  0.5774]\n",
        " [ 0.4082  0.4082 -0.8165]]\n"
       ]
      }
     ],
     "prompt_number": 21
    },
    {
     "cell_type": "markdown",
     "metadata": {},
     "source": [
      "And the corresponding angles of rotation using the $xyz$ sequence are:"
     ]
    },
    {
     "cell_type": "code",
     "collapsed": false,
     "input": [
      "euler_angles_from_rot_xyz(RlG)"
     ],
     "language": "python",
     "metadata": {},
     "outputs": [
      {
       "metadata": {},
       "output_type": "pyout",
       "prompt_number": 22,
       "text": [
        "array([-153.4349,   24.0948, -140.7685])"
       ]
      }
     ],
     "prompt_number": 22
    },
    {
     "cell_type": "markdown",
     "metadata": {},
     "source": [
      "These angles don't mean anything now because they are angles of the axes of the arbitrary basis we computed. In biomechanics, if we want an anatomical interpretation of the coordinate system orientation, we define the versors of the basis oriented with anatomical axes (e.g., for the shoulder, one versor would be aligned with the long axis of the upperarm).   \n",
      "We will see how to perform this computation later. Now we will combine translation and rotation in a single transformation."
     ]
    },
    {
     "cell_type": "heading",
     "level": 2,
     "metadata": {},
     "source": [
      "Translation and Rotation"
     ]
    },
    {
     "cell_type": "markdown",
     "metadata": {},
     "source": [
      "Consider the case where the local coordinate system is translated and rotated in relation to the Global coordinate system as illustrated in the figure below:\n",
      "\n",
      "<div class='center-align'><figure><img src='./../images/transrot3D.png' alt='translation and rotation 3D'/> <figcaption><center><i>A point in three-dimensional space represented in two coordinate systems, with one system translated and rotated.</i></center></figcaption> </figure></div>\n",
      "\n",
      "The position of point $\\mathbf{P}$ originally described in the local coordinate system, but now described in the Global coordinate system in vector form is:\n",
      "\n",
      "$$ \\mathbf{P_G} = \\mathbf{L_G} + \\mathbf{R_{Gl}}\\mathbf{P_l} $$\n",
      "\n",
      "This means that we first *disrotate* the local coordinate system and then correct for the translation between the two coordinate systems. Note that we can't invert this order: the point position is expressed in the local coordinate system and we can't add this vector to another vector expressed in the Global coordinate system, first we have to convert the vectors to the same coordinate system.\n",
      "\n",
      "If now we want to find the position of a point at the local coordinate system given its position in the Global coordinate system, the rotation matrix and the translation vector, we have to invert the expression above:\n",
      "\n",
      "$$ \\begin{array}{l l}\n",
      "\\mathbf{P_G} = \\mathbf{L_G} + \\mathbf{R_{Gl}}\\mathbf{P_l} \\implies \\\\\n",
      "\\\\\n",
      "\\mathbf{R_{Gl}^{-1}}\\cdot\\mathbf{P_G} = \\mathbf{R_{Gl}^{-1}}\\left(\\mathbf{L_G} + \\mathbf{R_{Gl}}\\mathbf{P_l}\\right) \\implies \\\\\n",
      "\\\\\n",
      "\\mathbf{R_{Gl}^{-1}}\\mathbf{P_G} = \\mathbf{R_{Gl}^{-1}}\\mathbf{L_G} + \\mathbf{R_{Gl}^{-1}}\\mathbf{R_{Gl}}\\mathbf{P_l} \\implies \\\\\n",
      "\\\\\n",
      "\\mathbf{P_l} = \\mathbf{R_{Gl}^{-1}}\\left(\\mathbf{P_G}-\\mathbf{L_G}\\right) =  \\mathbf{R_{Gl}^T}\\left(\\mathbf{P_G}-\\mathbf{L_G}\\right) \\;\\;\\;\\;\\; \\text{or} \\;\\;\\;\\;\\; \\mathbf{P_l} = \\mathbf{R_{lG}}\\left(\\mathbf{P_G}-\\mathbf{L_G}\\right) \n",
      "\\end{array} $$\n",
      "\n",
      "The expression above indicates that to perform the inverse operation, to go from the Global to the local coordinate system, we first translate and then rotate the coordinate system."
     ]
    },
    {
     "cell_type": "heading",
     "level": 3,
     "metadata": {},
     "source": [
      "Transformation matrix"
     ]
    },
    {
     "cell_type": "markdown",
     "metadata": {},
     "source": [
      "It is possible to combine the translation and rotation operations in only one matrix, called the transformation matrix:\n",
      "\n",
      "$$ \\begin{bmatrix}\n",
      "\\mathbf{P_X} \\\\\n",
      "\\mathbf{P_Y} \\\\\n",
      "\\mathbf{P_Z} \\\\\n",
      "1\n",
      "\\end{bmatrix} =\n",
      "\\begin{bmatrix}\n",
      ". & . & . & \\mathbf{L_{X}} \\\\\n",
      ". & \\mathbf{R_{Gl}} & .  & \\mathbf{L_{Y}} \\\\\n",
      ". & . & .  & \\mathbf{L_{Z}} \\\\\n",
      "0 & 0 & 0 & 1\n",
      "\\end{bmatrix}\n",
      "\\begin{bmatrix}\n",
      "\\mathbf{P}_x \\\\\n",
      "\\mathbf{P}_y \\\\\n",
      "\\mathbf{P}_z \\\\\n",
      "1\n",
      "\\end{bmatrix} $$\n",
      "\n",
      "Or simply:\n",
      "\n",
      "$$ \\mathbf{P_G} = \\mathbf{T_{Gl}}\\mathbf{P_l} $$\n",
      "\n",
      "Remember that in general the transformation matrix is not orthonormal, i.e., its inverse is not equal to its transpose.\n",
      "\n",
      "The inverse operation, to express the position at the local coordinate system in terms of the Global reference system, is:\n",
      "\n",
      "$$ \\mathbf{P_l} = \\mathbf{T_{Gl}^{-1}}\\mathbf{P_G} \\;\\;\\;\\;\\; \\text{or} \\;\\;\\;\\;\\; \\mathbf{P_l} = \\mathbf{T_{Gl}^T}\\mathbf{P_G} $$\n",
      "\n",
      "And in matrix form:\n",
      "\n",
      "$$ \\begin{bmatrix}\n",
      "\\mathbf{P_x} \\\\\n",
      "\\mathbf{P_y} \\\\\n",
      "\\mathbf{P_z} \\\\\n",
      "1\n",
      "\\end{bmatrix} =\n",
      "\\begin{bmatrix}\n",
      "\\cdot & \\cdot & \\cdot & \\cdot \\\\\n",
      "\\cdot & \\mathbf{R^{-1}_{Gl}} & \\cdot  & -\\mathbf{R^{-1}_{Gl}}\\:\\mathbf{L_G} \\\\\n",
      "\\cdot & \\cdot & \\cdot  & \\cdot \\\\\n",
      "0 & 0 & 0 & 1\n",
      "\\end{bmatrix}\n",
      "\\begin{bmatrix}\n",
      "\\mathbf{P_X} \\\\\n",
      "\\mathbf{P_Y} \\\\\n",
      "\\mathbf{P_Z} \\\\\n",
      "1\n",
      "\\end{bmatrix} $$"
     ]
    },
    {
     "cell_type": "heading",
     "level": 2,
     "metadata": {},
     "source": [
      "Problems"
     ]
    },
    {
     "cell_type": "markdown",
     "metadata": {},
     "source": [
      "1. Consider the following marker positions placed on a leg (described in the laboratory coordinate system with coordinates $x, y, z$ in cm, the $x$ axis points forward and the $y$ axes points upward): lateral malleolus (**lm** = [2.92, 10.10, 18.85]), medial malleolus (**mm** = [2.71, 10.22, 26.52]), fibular head (**fh** = [5.05, 41.90, 15.41]), and medial condyle (**mc** = [8.29, 41.88, 26.52]). Define the ankle joint center as the centroid between the **lm** and **mm** markers and the knee joint center as the centroid between the **fh** and **mc** markers. An anatomical coordinate system for the leg can be defined as: the quasi-vertical axis ($y$) passes through the ankle and knee joint centers; a temporary medio-lateral axis ($z$) passes through the two markers on the malleolus, an anterior-posterior as the cross product between the two former calculated orthogonal axes, and the origin at the ankle joint center.   \n",
      " a) Calculate the anatomical coordinate system for the leg as described above.   \n",
      " b) Calculate the rotation matrix and the translation vector for the transformation from the anatomical to the laboratory coordinate system.   \n",
      " c) Calculate the position of each marker and of each joint center at the anatomical coordinate system.  \n",
      " d) Calculate the Cardan angles using the $zxy$ sequence for the orientation of the leg with respect to the laboratory (but remember that the letters chosen to refer to axes are arbirtrary, what matters is the directions they represent)."
     ]
    },
    {
     "cell_type": "heading",
     "level": 2,
     "metadata": {},
     "source": [
      "References"
     ]
    },
    {
     "cell_type": "markdown",
     "metadata": {},
     "source": [
      "- Corke P (2011) [Robotics, Vision and Control: Fundamental Algorithms in MATLAB](http://www.petercorke.com/RVC/). Springer-Verlag Berlin.\n",
      "- Siciliano B, Sciavicco L, Villani L, Oriolo G (2009) [Robotics - Modelling, Planning and Control](http://books.google.com.br/books/about/Robotics.html?hl=pt-BR&id=jPCAFmE-logC). Springer-Verlag London.\n",
      "- Winter DA (2009) [Biomechanics and motor control of human movement](http://books.google.com.br/books?id=_bFHL08IWfwC). 4 ed. Hoboken, EUA: Wiley.   \n",
      "- Zatsiorsky VM (1997) [Kinematics of Human Motion](http://books.google.com.br/books/about/Kinematics_of_Human_Motion.html?id=Pql_xXdbrMcC&redir_esc=y). Champaign, Human Kinetics."
     ]
    },
    {
     "cell_type": "heading",
     "level": 2,
     "metadata": {},
     "source": [
      "Function `euler_rotmatrix.py`"
     ]
    },
    {
     "cell_type": "code",
     "collapsed": false,
     "input": [
      "%loadpy ./../functions/euler_rotmat.py"
     ],
     "language": "python",
     "metadata": {},
     "outputs": [],
     "prompt_number": 1
    },
    {
     "cell_type": "code",
     "collapsed": false,
     "input": [
      "#!/usr/bin/env python\n",
      "\n",
      "\"\"\"Euler rotation matrix given sequence, frame, and angles.\"\"\"\n",
      "\n",
      "from __future__ import division, print_function\n",
      "\n",
      "__author__ = 'Marcos Duarte, https://github.com/demotu/BMC'\n",
      "__version__ = 'euler_rotmat.py v.1 2014/03/10'\n",
      "\n",
      "\n",
      "def euler_rotmat(order='xyz', frame='local', angles=None, unit='deg',\n",
      "                 str_symbols=None, showA=True, showN=True):\n",
      "    \"\"\"Euler rotation matrix given sequence, frame, and angles.\n",
      "    \n",
      "    This function calculates the algebraic rotation matrix (3x3) for a given\n",
      "    sequence ('order' argument) of up to three elemental rotations of a given\n",
      "    coordinate system ('frame' argument) around another coordinate system, the\n",
      "    Euler (or Eulerian) angles [1]_.\n",
      "\n",
      "    This function also calculates the numerical values of the rotation matrix\n",
      "    when numerical values for the angles are inputed for each rotation axis.\n",
      "    Use None as value if the rotation angle for the particular axis is unknown.\n",
      "\n",
      "    The symbols for the angles are: alpha, beta, and gamma for the first,\n",
      "    second, and third rotations, respectively.\n",
      "    The matrix product is calulated from right to left and in the specified\n",
      "    sequence for the Euler angles. The first letter will be the first rotation.\n",
      "    \n",
      "    The function will print and return the algebraic rotation matrix and the\n",
      "    numerical rotation matrix if angles were inputed.\n",
      "\n",
      "    Parameters\n",
      "    ----------\n",
      "    order  : string, optional (default = 'xyz')\n",
      "             Sequence for the Euler angles, any combination of the letters\n",
      "             x, y, and z with 1 to 3 letters is accepted to denote the\n",
      "             elemental rotations. The first letter will be the first rotation.\n",
      "\n",
      "    frame  : string, optional (default = 'local')\n",
      "             Coordinate system for which the rotations are calculated.\n",
      "             Valid values are 'local' or 'global'.\n",
      "\n",
      "    angles : list, array, or bool, optional (default = None)\n",
      "             Numeric values of the rotation angles ordered as the 'order'\n",
      "             parameter. Enter None for a rotation whith unknown value.\n",
      "\n",
      "    unit   : str, optional (default = 'deg')\n",
      "             Unit of the input angles.\n",
      "    \n",
      "    str_symbols : list of strings, optional (default = None)\n",
      "             New symbols for the angles, for instance, ['theta', 'phi', 'psi']\n",
      "             \n",
      "    showA  : bool, optional (default = True)\n",
      "             True (1) displays the Algebraic rotation matrix in rich format.\n",
      "             False (0) to not display.\n",
      "\n",
      "    showN  : bool, optional (default = True)\n",
      "             True (1) displays the Numeric rotation matrix in rich format.\n",
      "             False (0) to not display.\n",
      "             \n",
      "    Returns\n",
      "    -------\n",
      "    R     :  Matrix Sympy object\n",
      "             Rotation matrix (3x3) in algebraic format.\n",
      "\n",
      "    Rn    :  Numpy array or Matrix Sympy object (only if angles are inputed)\n",
      "             Numeric rotation matrix (if values for all angles were inputed) or\n",
      "             a algebraic matrix with some of the algebraic angles substituted\n",
      "             by the corresponding inputed numeric values.\n",
      "\n",
      "    Notes\n",
      "    -----\n",
      "    This code uses Sympy, the Python library for symbolic mathematics, to\n",
      "    calculate the algebraic rotation matrix and shows this matrix in latex form\n",
      "    possibly for using with the IPython Notebook, see [1]_.\n",
      "\n",
      "    References\n",
      "    ----------\n",
      "    .. [1] http://nbviewer.ipython.org/github/demotu/BMC/blob/master/notebooks/Transformation3D.ipynb\n",
      "\n",
      "    Examples\n",
      "    --------\n",
      "    >>> # import function\n",
      "    >>> from euler_rotmat import euler_rotmat\n",
      "    >>> # Default options: xyz sequence, local frame and show matrix\n",
      "    >>> R = euler_rotmat()\n",
      "    >>> # XYZ sequence (around global (fixed) coordinate system)\n",
      "    >>> R = euler_rotmat(frame='global')\n",
      "    >>> # Enter numeric values for all angles and show both matrices\n",
      "    >>> R, Rn = euler_rotmat(angles=[90, 90, 90])\n",
      "    >>> # show what is returned\n",
      "    >>> euler_rotmat(angles=[90, 90, 90])\n",
      "    >>> # show only the rotation matrix for the elemental rotation at x axis\n",
      "    >>> R = euler_rotmat(order='x')\n",
      "    >>> # zxz sequence and numeric value for only one angle\n",
      "    >>> R, Rn = euler_rotmat(order='zxz', angles=[None, 0, None])\n",
      "    >>> # input values in radians:\n",
      "    >>> import numpy as np\n",
      "    >>> R, Rn = euler_rotmat(order='zxz', angles=[None, np.pi, None], unit='rad')\n",
      "    >>> # shows only the numeric matrix\n",
      "    >>> R, Rn = euler_rotmat(order='zxz', angles=[90, 0, None], showA='False')\n",
      "    >>> # Change the angles' symbols\n",
      "    >>> R = euler_rotmat(order='zxz', str_symbols=['theta', 'phi', 'psi'])\n",
      "    >>> # Negativate the angles' symbols\n",
      "    >>> R = euler_rotmat(order='zxz', str_symbols=['-theta', '-phi', '-psi'])\n",
      "    >>> # all algebraic matrices for all possible sequences for the local frame\n",
      "    >>> s=['xyz','xzy','yzx','yxz','zxy','zyx','xyx','xzx','yzy','yxy','zxz','zyz']\n",
      "    >>> for seq in s: R = euler_rotmat(order=seq)\n",
      "    >>> # all algebraic matrices for all possible sequences for the global frame\n",
      "    >>> for seq in s: R = euler_rotmat(order=seq, frame='global')\n",
      "    \"\"\"\n",
      "\n",
      "    import numpy as np\n",
      "    import sympy as sym\n",
      "    try:\n",
      "        from IPython.core.display import Math, display\n",
      "        ipython = True\n",
      "    except:\n",
      "        ipython = False\n",
      "\n",
      "    angles = np.asarray(np.atleast_1d(angles), dtype=np.float64)\n",
      "    if ~np.isnan(angles).all():        \n",
      "        if len(order) != angles.size:\n",
      "            raise ValueError(\"Parameters 'order' and 'angles' (when \" + \n",
      "                             \"different from None) must have the same size.\")\n",
      "\n",
      "    x, y, z = sym.symbols('x, y, z')\n",
      "    sig = [1, 1, 1]\n",
      "    if str_symbols is None:\n",
      "        a, b, g = sym.symbols('alpha, beta, gamma')\n",
      "    else:\n",
      "        s = str_symbols\n",
      "        if s[0][0] == '-': s[0] = s[0][1:]; sig[0] = -1\n",
      "        if s[1][0] == '-': s[1] = s[1][1:]; sig[1] = -1\n",
      "        if s[2][0] == '-': s[2] = s[2][1:]; sig[2] = -1        \n",
      "        a, b, g = sym.symbols(s)\n",
      "\n",
      "    var = {'x': x, 'y': y, 'z': z, 0: a, 1: b, 2: g}\n",
      "    # Elemental rotation matrices for xyz (local)\n",
      "    cos, sin = sym.cos, sym.sin\n",
      "    Rx = sym.Matrix([[1, 0, 0], [0, cos(x), sin(x)], [0, -sin(x), cos(x)]])\n",
      "    Ry = sym.Matrix([[cos(y), 0, -sin(y)], [0, 1, 0], [sin(y), 0, cos(y)]])\n",
      "    Rz = sym.Matrix([[cos(z), sin(z), 0], [-sin(z), cos(z), 0], [0, 0, 1]])\n",
      "\n",
      "    if frame.lower() == 'global':\n",
      "        Rs = {'x': Rx.T, 'y': Ry.T, 'z': Rz.T}\n",
      "        order = order.upper()\n",
      "    else:\n",
      "        Rs = {'x': Rx, 'y': Ry, 'z': Rz}\n",
      "        order = order.lower()\n",
      "\n",
      "    R = Rn = sym.Matrix(sym.Identity(3))\n",
      "    str1 = r'\\mathbf{R}_{%s}( ' %frame  # last space needed for order=''\n",
      "    #str2 = [r'\\%s'%var[0], r'\\%s'%var[1], r'\\%s'%var[2]]\n",
      "    str2 = [1, 1, 1]        \n",
      "    for i in range(len(order)):\n",
      "        Ri = Rs[order[i].lower()].subs(var[order[i].lower()], sig[i] * var[i]) \n",
      "        R = Ri * R\n",
      "        if sig[i] > 0:\n",
      "            str2[i] = '%s:%s' %(order[i], sym.latex(var[i]))\n",
      "        else:\n",
      "            str2[i] = '%s:-%s' %(order[i], sym.latex(var[i]))\n",
      "        str1 = str1 + str2[i] + ','\n",
      "        if ~np.isnan(angles).all() and ~np.isnan(angles[i]):\n",
      "            if unit[:3].lower() == 'deg':\n",
      "                angles[i] = np.deg2rad(angles[i])\n",
      "            Rn = Ri.subs(var[i], angles[i]) * Rn\n",
      "            #Rn = sym.lambdify(var[i], Ri, 'numpy')(angles[i]) * Rn\n",
      "            str2[i] = str2[i] + '=%.0f^o' %np.around(np.rad2deg(angles[i]), 0)\n",
      "        else:\n",
      "            Rn = Ri * Rn\n",
      "\n",
      "    Rn = sym.simplify(Rn)  # for trigonometric relations\n",
      "\n",
      "    try:\n",
      "        # nsimplify only works if there are symbols\n",
      "        Rn2 = sym.latex(sym.nsimplify(Rn, tolerance=1e-8).n(chop=True, prec=4))\n",
      "    except:\n",
      "        Rn2 = sym.latex(Rn.n(chop=True, prec=4))\n",
      "        # there are no symbols, pass it as Numpy array\n",
      "        Rn = np.asarray(Rn)\n",
      "    \n",
      "    if showA and ipython:\n",
      "        display(Math(str1[:-1] + ') =' + sym.latex(R, mat_str='matrix')))\n",
      "\n",
      "    if showN and ~np.isnan(angles).all() and ipython:\n",
      "            str2 = ',\\;'.join(str2[:angles.size])\n",
      "            display(Math(r'\\mathbf{R}_{%s}(%s)=%s' %(frame, str2, Rn2)))\n",
      "\n",
      "    if np.isnan(angles).all():\n",
      "        return R\n",
      "    else:\n",
      "        return R, Rn\n"
     ],
     "language": "python",
     "metadata": {},
     "outputs": []
    }
   ],
   "metadata": {}
  }
 ]
}