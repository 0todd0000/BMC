{
 "metadata": {
  "name": "",
  "signature": "sha256:725141b909c045620906c40b2484884e89f3bc1de3c035e0c9da3429100b4ae1"
 },
 "nbformat": 3,
 "nbformat_minor": 0,
 "worksheets": [
  {
   "cells": [
    {
     "cell_type": "heading",
     "level": 1,
     "metadata": {},
     "source": [
      "The minimum jerk hypothesis"
     ]
    },
    {
     "cell_type": "markdown",
     "metadata": {},
     "source": [
      "Marcos Duarte"
     ]
    },
    {
     "cell_type": "markdown",
     "metadata": {},
     "source": [
      "Hogan and Flash (1984, 1985), based on observations of voluntary movements in primates, suggested that movements are performed (organized) with the smoothest trajectory possible. In this organizing principle, the endpoint trajectory is such that the mean squared-jerk across time of this movement is minimum.   \n",
      "\n",
      "Jerk is the derivative of acceleration and the observation of the minimum-jerk trajectory is for the endpoint in the extracorporal coordinates (not for joint angles) and according to Flash and Hogan (1985), the minimum-jerk trajectory of a planar movement is such that minimizes the following objective function:\n",
      "\n",
      "$$ C=\\frac{1}{2} \\int\\limits_{t_{i}}^{t_{f}}\\;\\left[\\left(\\frac{d^{3}x}{dt^{3}}\\right)^2+\\left(\\frac{d^{3}y}{dt^{3}}\\right)^2\\right]\\:\\mathrm{d}t $$\n",
      "\n",
      "Hogan (1984) found that the solution for that is a fifth-order polynomial trajectory (but see Shadmehr and Wise (2004) for a simpler proof): \n",
      "\n",
      "$$ \\begin{array}{l l}\n",
      "x(t) = a_0+a_1t+a_2t^2+a_3t^3+a_4t^4+a_5t^5 \\\\\n",
      "y(t) = b_0+b_1t+b_2t^2+b_3t^3+b_4t^4+b_5t^5\n",
      "\\end{array} $$\n",
      "\n",
      "With the following boundary conditions for $ x(t) $ and $ y(t) $: initial and final positions are $ (x_i,y_i) $ and $ (x_f,y_f) $ and initial and final velocities and accelerations are zero.\n",
      "\n",
      "Let's employ [Sympy](http://sympy.org/en/index.html) to find the solution for the minimum jerk trajectory using symbolic algebra."
     ]
    },
    {
     "cell_type": "code",
     "collapsed": false,
     "input": [
      "# import the necessary libraries\n",
      "from __future__ import division, print_function\n",
      "import numpy as np\n",
      "import matplotlib.pyplot as plt\n",
      "%matplotlib inline\n",
      "from IPython.display import display, Math, Latex\n",
      "from sympy import symbols, Matrix, latex, Eq, collect, solve, diff, simplify\n",
      "from sympy.utilities.lambdify import lambdify"
     ],
     "language": "python",
     "metadata": {},
     "outputs": [],
     "prompt_number": 1
    },
    {
     "cell_type": "markdown",
     "metadata": {},
     "source": [
      "Using Sympy, the equation for minimum jerk trajectory for x is:"
     ]
    },
    {
     "cell_type": "code",
     "collapsed": false,
     "input": [
      "# declare the symbolic variables\n",
      "x, xi, xf, y, yi, yf, d, t = symbols('x, x_i, x_f, y, y_i, y_f, d, t')\n",
      "a0, a1, a2, a3, a4, a5 = symbols('a_0:6')\n",
      "x = a0 + a1*t + a2*t**2 + a3*t**3 + a4*t**4 + a5*t**5\n",
      "display(Math(latex('x(t)=') + latex(x)))"
     ],
     "language": "python",
     "metadata": {},
     "outputs": [
      {
       "latex": [
        "$$x(t)=a_{0} + a_{1} t + a_{2} t^{2} + a_{3} t^{3} + a_{4} t^{4} + a_{5} t^{5}$$"
       ],
       "metadata": {},
       "output_type": "display_data",
       "text": [
        "<IPython.core.display.Math at 0x4f9e588>"
       ]
      }
     ],
     "prompt_number": 2
    },
    {
     "cell_type": "markdown",
     "metadata": {},
     "source": [
      "Without loss of generality, consider $ t_i=0 $ and let's use $ d $ for movement duration ($ d=t_f $). The system of equations with the boundary conditions for $ x $ is:"
     ]
    },
    {
     "cell_type": "code",
     "collapsed": false,
     "input": [
      "# define the system of equations\n",
      "s = Matrix([Eq(x.subs(t,0)          , xi),\n",
      "            Eq(diff(x,t,1).subs(t,0),  0),\n",
      "            Eq(diff(x,t,2).subs(t,0),  0),\n",
      "            Eq(x.subs(t,d)          , xf),\n",
      "            Eq(diff(x,t,1).subs(t,d),  0),\n",
      "            Eq(diff(x,t,2).subs(t,d),  0)])\n",
      "display(Math(latex(s, mat_str='matrix', mat_delim='[')))"
     ],
     "language": "python",
     "metadata": {},
     "outputs": [
      {
       "latex": [
        "$$\\left[\\begin{matrix}a_{0} = x_{i}\\\\a_{1} = 0\\\\2 a_{2} = 0\\\\a_{0} + a_{1} d + a_{2} d^{2} + a_{3} d^{3} + a_{4} d^{4} + a_{5} d^{5} = x_{f}\\\\a_{1} + 2 a_{2} d + 3 a_{3} d^{2} + 4 a_{4} d^{3} + 5 a_{5} d^{4} = 0\\\\2 a_{2} + 6 a_{3} d + 12 a_{4} d^{2} + 20 a_{5} d^{3} = 0\\end{matrix}\\right]$$"
       ],
       "metadata": {},
       "output_type": "display_data",
       "text": [
        "<IPython.core.display.Math at 0x83dd588>"
       ]
      }
     ],
     "prompt_number": 18
    },
    {
     "cell_type": "markdown",
     "metadata": {},
     "source": [
      "Which gives the following solution:"
     ]
    },
    {
     "cell_type": "code",
     "collapsed": false,
     "input": [
      "# algebraically solve the system of equations\n",
      "sol = solve(s, [a0, a1, a2, a3, a4, a5])\n",
      "display(Math(latex(sol)))"
     ],
     "language": "python",
     "metadata": {},
     "outputs": [
      {
       "latex": [
        "$$\\begin{Bmatrix}a_{0} : x_{i}, & a_{1} : 0, & a_{2} : 0, & a_{3} : \\frac{1}{d^{3}} \\left(10 x_{f} - 10 x_{i}\\right), & a_{4} : \\frac{1}{d^{4}} \\left(- 15 x_{f} + 15 x_{i}\\right), & a_{5} : \\frac{1}{d^{5}} \\left(6 x_{f} - 6 x_{i}\\right)\\end{Bmatrix}$$"
       ],
       "metadata": {},
       "output_type": "display_data",
       "text": [
        "<IPython.core.display.Math at 0x4425cf8>"
       ]
      }
     ],
     "prompt_number": 4
    },
    {
     "cell_type": "markdown",
     "metadata": {},
     "source": [
      "Substituting this solution in the fifth order polynomial trajectory equation, we have the actual displacement trajectories:"
     ]
    },
    {
     "cell_type": "code",
     "collapsed": false,
     "input": [
      "# substitute the equation parameters by the solution\n",
      "x2 = x.subs(sol)\n",
      "x2 = collect(simplify(x2, ratio=1), xf-xi)\n",
      "display(Math(latex('x(t)=') + latex(x2)))\n",
      "y2 = x2.subs([(xi, yi), (xf, yf)])\n",
      "display(Math(latex('y(t)=') + latex(y2)))"
     ],
     "language": "python",
     "metadata": {},
     "outputs": [
      {
       "latex": [
        "$$x(t)=x_{i} + \\left(x_{f} - x_{i}\\right) \\left(\\frac{10 t^{3}}{d^{3}} - \\frac{15 t^{4}}{d^{4}} + \\frac{6 t^{5}}{d^{5}}\\right)$$"
       ],
       "metadata": {},
       "output_type": "display_data",
       "text": [
        "<IPython.core.display.Math at 0x507c2b0>"
       ]
      },
      {
       "latex": [
        "$$y(t)=y_{i} + \\left(y_{f} - y_{i}\\right) \\left(\\frac{10 t^{3}}{d^{3}} - \\frac{15 t^{4}}{d^{4}} + \\frac{6 t^{5}}{d^{5}}\\right)$$"
       ],
       "metadata": {},
       "output_type": "display_data",
       "text": [
        "<IPython.core.display.Math at 0x50717f0>"
       ]
      }
     ],
     "prompt_number": 5
    },
    {
     "cell_type": "markdown",
     "metadata": {},
     "source": [
      "And for the velocity, acceleration, and jerk trajectories in x:"
     ]
    },
    {
     "cell_type": "code",
     "collapsed": false,
     "input": [
      "# symbolic differentiation\n",
      "vx = x2.diff(t, 1)\n",
      "display(Math(latex('v_x(t)=') + latex(vx)))\n",
      "ax = x2.diff(t, 2)\n",
      "display(Math(latex('a_x(t)=') + latex(ax)))\n",
      "jx = x2.diff(t, 3)\n",
      "display(Math(latex('j_x(t)=') + latex(jx)))"
     ],
     "language": "python",
     "metadata": {},
     "outputs": [
      {
       "latex": [
        "$$v_x(t)=\\left(x_{f} - x_{i}\\right) \\left(\\frac{30 t^{2}}{d^{3}} - \\frac{60 t^{3}}{d^{4}} + \\frac{30 t^{4}}{d^{5}}\\right)$$"
       ],
       "metadata": {},
       "output_type": "display_data",
       "text": [
        "<IPython.core.display.Math at 0x5082748>"
       ]
      },
      {
       "latex": [
        "$$a_x(t)=\\frac{60 t}{d^{3}} \\left(x_{f} - x_{i}\\right) \\left(1 - \\frac{3 t}{d} + \\frac{2 t^{2}}{d^{2}}\\right)$$"
       ],
       "metadata": {},
       "output_type": "display_data",
       "text": [
        "<IPython.core.display.Math at 0x5082ac8>"
       ]
      },
      {
       "latex": [
        "$$j_x(t)=\\frac{60}{d^{3}} \\left(x_{f} - x_{i}\\right) \\left(1 - \\frac{6 t}{d} + \\frac{6 t^{2}}{d^{2}}\\right)$$"
       ],
       "metadata": {},
       "output_type": "display_data",
       "text": [
        "<IPython.core.display.Math at 0x5082748>"
       ]
      }
     ],
     "prompt_number": 6
    },
    {
     "cell_type": "markdown",
     "metadata": {},
     "source": [
      "Let's plot the minimum jerk trajectory for x and its velocity, acceleration, and jerk considering $x_i=0,x_f=1,d=1$:"
     ]
    },
    {
     "cell_type": "code",
     "collapsed": false,
     "input": [
      "# substitute by the numerical values\n",
      "x2  = x2.subs([(xi, 0), (xf, 1), (d, 1)])\n",
      "\n",
      "#create functions for calculation of numerical values\n",
      "xfu = lambdify(t, diff(x2, t, 0), 'numpy')\n",
      "vfu = lambdify(t, diff(x2, t, 1), 'numpy')\n",
      "afu = lambdify(t, diff(x2, t, 2), 'numpy')\n",
      "jfu = lambdify(t, diff(x2, t, 3), 'numpy')\n",
      "\n",
      "#plots using matplotlib\n",
      "ts = np.arange(0, 1.01, .01)\n",
      "font = {'weight':'normal', 'size':12}\n",
      "plt.matplotlib.rc('font', **font)\n",
      "fig, ax = plt.subplots(1, 4, figsize=(10, 4), sharex=True, squeeze=True)\n",
      "\n",
      "ax[0].plot(ts, xfu(ts), linewidth=3)\n",
      "ax[0].set_xlabel('Time [s]', fontsize=14)\n",
      "ax[0].set_title('Displacement [$\\mathrm{m}$]')\n",
      "ax[0].grid()\n",
      "\n",
      "ax[1].plot(ts, vfu(ts), linewidth=3)\n",
      "ax[1].set_xlabel('Time [s]', fontsize=14)\n",
      "ax[1].set_title('Velocity [$\\mathrm{m/s}$]')\n",
      "ax[1].grid()\n",
      "\n",
      "ax[2].plot(ts, afu(ts), linewidth=3)\n",
      "ax[2].set_xlabel('Time [s]', fontsize=14)\n",
      "ax[2].set_title('Acceleration [$\\mathrm{m/s^2}$]')\n",
      "ax[2].grid()\n",
      "\n",
      "ax[3].plot(ts, jfu(ts), linewidth=3)\n",
      "ax[3].set_xlabel('Time [s]', fontsize=14)\n",
      "ax[3].set_title('Jerk [$\\mathrm{m/s^3}$]')\n",
      "ax[3].grid()\n",
      "\n",
      "fig.suptitle('Minimum jerk trajectory kinematics', fontsize=20, y=1.03)\n",
      "fig.tight_layout()\n",
      "plt.show()"
     ],
     "language": "python",
     "metadata": {},
     "outputs": [
      {
       "metadata": {},
       "output_type": "display_data",
       "png": "[encoded data removed]",
       "text": [
        "<matplotlib.figure.Figure at 0x811c240>"
       ]
      }
     ],
     "prompt_number": 15
    },
    {
     "cell_type": "markdown",
     "metadata": {},
     "source": [
      "At the the minimum jerk trajectory, initial and final values of both velocity and acceleration are zero, but not for the jerk."
     ]
    },
    {
     "cell_type": "heading",
     "level": 2,
     "metadata": {},
     "source": [
      "Problems"
     ]
    },
    {
     "cell_type": "markdown",
     "metadata": {},
     "source": [
      "1. Calculate and plot the position, velocity, acceleration, and jerk trajectories for different movement speeds (for example, consider always a displacement of 1 m lasting 1, 2, and 4 s).  \n",
      "2. For the data in the previous item, calculate the ratio peak speed to average speed. Shadmehr and  Wise (2004) argue that psychophysical experiments show that reaching movements with the hand have this ratio equals to 1.75. Compare with the calculted values."
     ]
    },
    {
     "cell_type": "heading",
     "level": 2,
     "metadata": {},
     "source": [
      "References"
     ]
    },
    {
     "cell_type": "markdown",
     "metadata": {},
     "source": [
      "- Flash T, Hogan N (1985) [The coordination of arm movements: an experimentally confirmed mathematical model](http://www.jneurosci.org/cgi/reprint/5/7/1688.pdf). Journal of Neuroscience, 5, 1688-1703.   \n",
      "- Hogan N (1984) [An organizing principle for a class of voluntary movements](http://www.jneurosci.org/content/4/11/2745.full.pdf). Journal of Neuroscience, 4, 2745-2754.\n",
      "- Shadmehr R, Wise S (2004) [The Computational Neurobiology of Reaching and Pointing: A Foundation for Motor Learning](http://www.shadmehrlab.org/book/). A Bradford Book.\n",
      "- Zatsiorsky VM (1998) [Kinematics of Human Motion](http://books.google.com.br/books/about/Kinematics_of_Human_Motion.html?id=Pql_xXdbrMcC&redir_esc=y). Champaign, Human Kinetics."
     ]
    }
   ],
   "metadata": {}
  }
 ]
}