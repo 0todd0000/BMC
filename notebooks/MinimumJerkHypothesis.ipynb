{
 "cells": [
  {
   "cell_type": "markdown",
   "metadata": {},
   "source": [
    "# The minimum jerk hypothesis\n",
    "\n",
    "> Marcos Duarte  \n",
    "> Laboratory of Biomechanics and Motor Control ([http://demotu.org/](http://demotu.org/))  \n",
    "> Federal University of ABC, Brazil"
   ]
  },
  {
   "cell_type": "markdown",
   "metadata": {},
   "source": [
    "Hogan and Flash (1984, 1985), based on observations of voluntary movements in primates, suggested that movements are performed (organized) with the smoothest trajectory possible. In this organizing principle, the endpoint trajectory is such that the mean squared-jerk across time of this movement is minimum.   \n",
    "\n",
    "Jerk is the derivative of acceleration and the observation of the minimum-jerk trajectory is for the endpoint in the extracorporal coordinates (not for joint angles) and according to Flash and Hogan (1985), the minimum-jerk trajectory of a planar movement is such that minimizes the following objective function:\n",
    "\n",
    "$$ C=\\frac{1}{2} \\int\\limits_{t_{i}}^{t_{f}}\\;\\left[\\left(\\frac{d^{3}x}{dt^{3}}\\right)^2+\\left(\\frac{d^{3}y}{dt^{3}}\\right)^2\\right]\\:\\mathrm{d}t $$\n",
    "\n",
    "Hogan (1984) found that the solution for this objective function is a fifth-order polynomial trajectory (see Shadmehr and Wise (2004) for a simpler proof): \n",
    "\n",
    "$$ \\begin{array}{l l}\n",
    "x(t) = a_0+a_1t+a_2t^2+a_3t^3+a_4t^4+a_5t^5 \\\\\n",
    "y(t) = b_0+b_1t+b_2t^2+b_3t^3+b_4t^4+b_5t^5\n",
    "\\end{array} $$\n",
    "\n",
    "With the following boundary conditions for $ x(t) $ and $ y(t) $: initial and final positions are $ (x_i,y_i) $ and $ (x_f,y_f) $ and initial and final velocities and accelerations are zero.\n",
    "\n",
    "Let's employ [Sympy](http://sympy.org/en/index.html) to find the solution for the minimum jerk trajectory using symbolic algebra."
   ]
  },
  {
   "cell_type": "code",
   "execution_count": 1,
   "metadata": {
    "collapsed": true
   },
   "outputs": [],
   "source": [
    "import numpy as np\n",
    "import matplotlib.pyplot as plt\n",
    "%matplotlib inline\n",
    "import seaborn as sns\n",
    "sns.set_context(\"notebook\", font_scale=1.2, rc={\"lines.linewidth\": 2, \"lines.markersize\": 10})\n",
    "from IPython.display import display, Math, Latex\n",
    "from sympy import symbols, Matrix, latex, Eq, collect, solve, diff, simplify\n",
    "from sympy.utilities.lambdify import lambdify"
   ]
  },
  {
   "cell_type": "markdown",
   "metadata": {},
   "source": [
    "Using Sympy, the equation for minimum jerk trajectory for x is:"
   ]
  },
  {
   "cell_type": "code",
   "execution_count": 2,
   "metadata": {},
   "outputs": [
    {
     "data": {
      "text/latex": [
       "$$x(t)=a_{0} + a_{1} t + a_{2} t^{2} + a_{3} t^{3} + a_{4} t^{4} + a_{5} t^{5}$$"
      ],
      "text/plain": [
       "<IPython.core.display.Math object>"
      ]
     },
     "metadata": {},
     "output_type": "display_data"
    }
   ],
   "source": [
    "# declare the symbolic variables\n",
    "x, xi, xf, y, yi, yf, d, t = symbols('x, x_i, x_f, y, y_i, y_f, d, t')\n",
    "a0, a1, a2, a3, a4, a5 = symbols('a_0:6')\n",
    "x = a0 + a1*t + a2*t**2 + a3*t**3 + a4*t**4 + a5*t**5\n",
    "display(Math(latex('x(t)=') + latex(x)))"
   ]
  },
  {
   "cell_type": "markdown",
   "metadata": {},
   "source": [
    "Without loss of generality, consider $ t_i=0 $ and let's use $ d $ for movement duration ($ d=t_f $). The system of equations with the boundary conditions for $ x $ is:"
   ]
  },
  {
   "cell_type": "code",
   "execution_count": 3,
   "metadata": {},
   "outputs": [
    {
     "data": {
      "text/latex": [
       "$$\\left[\\begin{matrix}a_{0} = x_{i}\\\\a_{1} = 0\\\\2 a_{2} = 0\\\\a_{0} + a_{1} d + a_{2} d^{2} + a_{3} d^{3} + a_{4} d^{4} + a_{5} d^{5} = x_{f}\\\\a_{1} + 2 a_{2} d + 3 a_{3} d^{2} + 4 a_{4} d^{3} + 5 a_{5} d^{4} = 0\\\\2 a_{2} + 6 a_{3} d + 12 a_{4} d^{2} + 20 a_{5} d^{3} = 0\\end{matrix}\\right]$$"
      ],
      "text/plain": [
       "<IPython.core.display.Math object>"
      ]
     },
     "metadata": {},
     "output_type": "display_data"
    }
   ],
   "source": [
    "# define the system of equations\n",
    "s = Matrix([Eq(x.subs(t,0)          , xi),\n",
    "            Eq(diff(x,t,1).subs(t,0),  0),\n",
    "            Eq(diff(x,t,2).subs(t,0),  0),\n",
    "            Eq(x.subs(t,d)          , xf),\n",
    "            Eq(diff(x,t,1).subs(t,d),  0),\n",
    "            Eq(diff(x,t,2).subs(t,d),  0)])\n",
    "display(Math(latex(s, mat_str='matrix', mat_delim='[')))"
   ]
  },
  {
   "cell_type": "markdown",
   "metadata": {},
   "source": [
    "Which gives the following solution:"
   ]
  },
  {
   "cell_type": "code",
   "execution_count": 4,
   "metadata": {},
   "outputs": [
    {
     "data": {
      "text/latex": [
       "$$\\left \\{ a_{0} : x_{i}, \\quad a_{1} : 0, \\quad a_{2} : 0, \\quad a_{3} : \\frac{10}{d^{3}} \\left(x_{f} - x_{i}\\right), \\quad a_{4} : \\frac{15}{d^{4}} \\left(- x_{f} + x_{i}\\right), \\quad a_{5} : \\frac{6}{d^{5}} \\left(x_{f} - x_{i}\\right)\\right \\}$$"
      ],
      "text/plain": [
       "<IPython.core.display.Math object>"
      ]
     },
     "metadata": {},
     "output_type": "display_data"
    }
   ],
   "source": [
    "# algebraically solve the system of equations\n",
    "sol = solve(s, [a0, a1, a2, a3, a4, a5])\n",
    "display(Math(latex(sol)))"
   ]
  },
  {
   "cell_type": "markdown",
   "metadata": {},
   "source": [
    "Substituting this solution in the fifth order polynomial trajectory equation, we have the actual displacement trajectories:"
   ]
  },
  {
   "cell_type": "code",
   "execution_count": 5,
   "metadata": {},
   "outputs": [
    {
     "data": {
      "text/latex": [
       "$$x(t)=x_{i} + \\left(x_{f} - x_{i}\\right) \\left(\\frac{10 t^{3}}{d^{3}} - \\frac{15 t^{4}}{d^{4}} + \\frac{6 t^{5}}{d^{5}}\\right)$$"
      ],
      "text/plain": [
       "<IPython.core.display.Math object>"
      ]
     },
     "metadata": {},
     "output_type": "display_data"
    },
    {
     "data": {
      "text/latex": [
       "$$y(t)=y_{i} + \\left(y_{f} - y_{i}\\right) \\left(\\frac{10 t^{3}}{d^{3}} - \\frac{15 t^{4}}{d^{4}} + \\frac{6 t^{5}}{d^{5}}\\right)$$"
      ],
      "text/plain": [
       "<IPython.core.display.Math object>"
      ]
     },
     "metadata": {},
     "output_type": "display_data"
    }
   ],
   "source": [
    "# substitute the equation parameters by the solution\n",
    "x2 = x.subs(sol)\n",
    "x2 = collect(simplify(x2, ratio=1), xf-xi)\n",
    "display(Math(latex('x(t)=') + latex(x2)))\n",
    "y2 = x2.subs([(xi, yi), (xf, yf)])\n",
    "display(Math(latex('y(t)=') + latex(y2)))"
   ]
  },
  {
   "cell_type": "markdown",
   "metadata": {},
   "source": [
    "And for the velocity, acceleration, and jerk trajectories in x:"
   ]
  },
  {
   "cell_type": "code",
   "execution_count": 6,
   "metadata": {},
   "outputs": [
    {
     "data": {
      "text/latex": [
       "$$v_x(t)=\\left(x_{f} - x_{i}\\right) \\left(\\frac{30 t^{2}}{d^{3}} - \\frac{60 t^{3}}{d^{4}} + \\frac{30 t^{4}}{d^{5}}\\right)$$"
      ],
      "text/plain": [
       "<IPython.core.display.Math object>"
      ]
     },
     "metadata": {},
     "output_type": "display_data"
    },
    {
     "data": {
      "text/latex": [
       "$$a_x(t)=\\frac{60 t}{d^{3}} \\left(x_{f} - x_{i}\\right) \\left(1 - \\frac{3 t}{d} + \\frac{2 t^{2}}{d^{2}}\\right)$$"
      ],
      "text/plain": [
       "<IPython.core.display.Math object>"
      ]
     },
     "metadata": {},
     "output_type": "display_data"
    },
    {
     "data": {
      "text/latex": [
       "$$j_x(t)=\\frac{60}{d^{3}} \\left(x_{f} - x_{i}\\right) \\left(1 - \\frac{6 t}{d} + \\frac{6 t^{2}}{d^{2}}\\right)$$"
      ],
      "text/plain": [
       "<IPython.core.display.Math object>"
      ]
     },
     "metadata": {},
     "output_type": "display_data"
    }
   ],
   "source": [
    "# symbolic differentiation\n",
    "vx = x2.diff(t, 1)\n",
    "display(Math(latex('v_x(t)=') + latex(vx)))\n",
    "ax = x2.diff(t, 2)\n",
    "display(Math(latex('a_x(t)=') + latex(ax)))\n",
    "jx = x2.diff(t, 3)\n",
    "display(Math(latex('j_x(t)=') + latex(jx)))"
   ]
  },
  {
   "cell_type": "markdown",
   "metadata": {},
   "source": [
    "Let's plot the minimum jerk trajectory for x and its velocity, acceleration, and jerk considering $x_i=0,x_f=1,d=1$:"
   ]
  },
  {
   "cell_type": "code",
   "execution_count": 7,
   "metadata": {
    "code_folding": []
   },
   "outputs": [
    {
     "data": {
      "image/png": "[encoded data removed]",
      "text/plain": [
       "<matplotlib.figure.Figure at 0x112296470>"
      ]
     },
     "metadata": {},
     "output_type": "display_data"
    }
   ],
   "source": [
    "# substitute by the numerical values\n",
    "x2  = x2.subs([(xi, 0), (xf, 1), (d, 1)])\n",
    "#create functions for calculation of numerical values\n",
    "xfu = lambdify(t, diff(x2, t, 0), 'numpy')\n",
    "vfu = lambdify(t, diff(x2, t, 1), 'numpy')\n",
    "afu = lambdify(t, diff(x2, t, 2), 'numpy')\n",
    "jfu = lambdify(t, diff(x2, t, 3), 'numpy')\n",
    "#plots using matplotlib\n",
    "ts = np.arange(0, 1.01, .01)\n",
    "fig, axs = plt.subplots(1, 4, figsize=(12, 5), sharex=True, squeeze=True)\n",
    "axs[0].plot(ts, xfu(ts), linewidth=3)\n",
    "axs[0].set_title('Displacement [$\\mathrm{m}$]')\n",
    "axs[1].plot(ts, vfu(ts), linewidth=3)\n",
    "axs[1].set_title('Velocity [$\\mathrm{m/s}$]')\n",
    "axs[2].plot(ts, afu(ts), linewidth=3)\n",
    "axs[2].set_title('Acceleration [$\\mathrm{m/s^2}$]')\n",
    "axs[3].plot(ts, jfu(ts), linewidth=3)\n",
    "axs[3].set_title('Jerk [$\\mathrm{m/s^3}$]')\n",
    "\n",
    "for axi in axs:\n",
    "    axi.set_xlabel('Time [s]', fontsize=14)\n",
    "    axi.grid(True)\n",
    "\n",
    "fig.suptitle('Minimum jerk trajectory kinematics', fontsize=20, y=1.03)\n",
    "fig.tight_layout()\n",
    "plt.show()"
   ]
  },
  {
   "cell_type": "markdown",
   "metadata": {},
   "source": [
    "Note that for the minimum jerk trajectory, initial and final values of both velocity and acceleration are zero, but not for the jerk.  \n",
    "\n",
    "Read more about the minimum jerk trajectory hypothesis in the [Shadmehr and Wise's book companion site](http://www.shadmehrlab.org/book/minimum_jerk/minimumjerk.htm) and in [Paul Gribble's website](http://www.gribblelab.org/compneuro/4_Computational_Motor_Control_Kinematics.html#sec-5-1)."
   ]
  },
  {
   "cell_type": "markdown",
   "metadata": {},
   "source": [
    "## Problems\n",
    "\n",
    "1. What is your opinion on the the minimum jerk hypothesis? Do you think humans control movement based on this principle? (Think about what biomechanical and neurophysiological properties are not considered on this hypothesis.)\n",
    "2. Calculate and plot the position, velocity, acceleration, and jerk trajectories for different movement speeds (for example, consider always a displacement of 1 m and movement durations of 0.5, 1, and 2 s).  \n",
    "3. For the data in the previous item, calculate the ratio peak speed to average speed. Shadmehr and  Wise (2004) argue that psychophysical experiments show that reaching movements with the hand have this ratio equals to 1.75. Compare with the calculted values.  \n",
    "4. Can you propose alternative hypotheses for the control of movement?  "
   ]
  },
  {
   "cell_type": "markdown",
   "metadata": {},
   "source": [
    "## References\n",
    "\n",
    "- Flash T, Hogan N (1985) [The coordination of arm movements: an experimentally confirmed mathematical model](http://www.jneurosci.org/cgi/reprint/5/7/1688.pdf). Journal of Neuroscience, 5, 1688-1703.   \n",
    "- Hogan N (1984) [An organizing principle for a class of voluntary movements](http://www.jneurosci.org/content/4/11/2745.full.pdf). Journal of Neuroscience, 4, 2745-2754.\n",
    "- Shadmehr R, Wise S (2004) [The Computational Neurobiology of Reaching and Pointing: A Foundation for Motor Learning](http://www.shadmehrlab.org/book/). A Bradford Book. [Companion site](http://www.shadmehrlab.org/book/).\n",
    "- Zatsiorsky VM (1998) [Kinematics of Human Motion](http://books.google.com.br/books/about/Kinematics_of_Human_Motion.html?id=Pql_xXdbrMcC&redir_esc=y). Champaign, Human Kinetics."
   ]
  }
 ],
 "metadata": {
  "anaconda-cloud": {},
  "hide_input": false,
  "kernelspec": {
   "display_name": "Python 3",
   "language": "python",
   "name": "python3"
  },
  "language_info": {
   "codemirror_mode": {
    "name": "ipython",
    "version": 3
   },
   "file_extension": ".py",
   "mimetype": "text/x-python",
   "name": "python",
   "nbconvert_exporter": "python",
   "pygments_lexer": "ipython3",
   "version": "3.6.2"
  }
 },
 "nbformat": 4,
 "nbformat_minor": 1
}
