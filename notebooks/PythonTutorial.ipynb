{
 "cells": [
  {
   "cell_type": "markdown",
   "metadata": {},
   "source": [
    "# Tutorial on Python for scientific computing\n",
    "\n",
    "Marcos Duarte"
   ]
  },
  {
   "cell_type": "markdown",
   "metadata": {},
   "source": [
    "This tutorial is a short introduction to programming and a demonstration of the basic features of Python for scientific computing. To use Python for scientific computing we need the Python program itself with its main modules and specific packages for scientific computing. [See this notebook on how to install Python for scientific computing](http://nbviewer.ipython.org/github/demotu/BMC/blob/master/notebooks/PythonInstallation.ipynb).  \n",
    "Once you get Python and the necessary packages for scientific computing ready to work, there are different ways to run Python, the main ones are:\n",
    "\n",
    "- open a terminal window in your computer and type `python` or `ipython` that the Python interpreter will start\n",
    "- run the IPython notebook and start working with Python in a browser\n",
    "- run Spyder, an interactive development environment (IDE)\n",
    "- run the IPython qtconsole, a more featured terminal\n",
    "- run IPython completely in the cloud with for example, [https://cloud.sagemath.com](https://cloud.sagemath.com) or [https://www.wakari.io](https://www.wakari.io)\n",
    "- run Python online in a website such as [https://www.pythonanywhere.com/](https://www.pythonanywhere.com/)\n",
    "- run Python using any other Python editor or IDE\n",
    " \n",
    "We will use the IPython Notebook for this tutorial but you can run almost all the things we will see here using the other forms listed above."
   ]
  },
  {
   "cell_type": "markdown",
   "metadata": {},
   "source": [
    "## Python as a calculator\n",
    "\n",
    "Once in the IPython notebook, if you type a simple mathematical expression and press `Shift+Enter` it will give the result of the expression:"
   ]
  },
  {
   "cell_type": "code",
   "execution_count": 1,
   "metadata": {
    "collapsed": false
   },
   "outputs": [
    {
     "data": {
      "text/plain": [
       "-27"
      ]
     },
     "execution_count": 1,
     "metadata": {},
     "output_type": "execute_result"
    }
   ],
   "source": [
    "1 + 2 - 30"
   ]
  },
  {
   "cell_type": "code",
   "execution_count": 2,
   "metadata": {
    "collapsed": false
   },
   "outputs": [
    {
     "data": {
      "text/plain": [
       "0.8"
      ]
     },
     "execution_count": 2,
     "metadata": {},
     "output_type": "execute_result"
    }
   ],
   "source": [
    "4/5"
   ]
  },
  {
   "cell_type": "markdown",
   "metadata": {},
   "source": [
    "If you are using Python version 2.x instead of Python 3.x, you should have got 0 as the result of 4 divided by 5, which is wrong! The problem is that for Python versions up to 2.x, the operator '/' performs division with integers and the result will also be an integer (this behavior was changed in version 3.x).  \n",
    "\n",
    "If you want the normal behavior for division, in Python 2.x you have two options: tell Python that at least one of the numbers is not an integer or import the new division operator (which is inoffensive if you are already using Python 3), let's see these two options:"
   ]
  },
  {
   "cell_type": "code",
   "execution_count": 3,
   "metadata": {
    "collapsed": false
   },
   "outputs": [
    {
     "data": {
      "text/plain": [
       "0.8"
      ]
     },
     "execution_count": 3,
     "metadata": {},
     "output_type": "execute_result"
    }
   ],
   "source": [
    "4/5."
   ]
  },
  {
   "cell_type": "code",
   "execution_count": 4,
   "metadata": {
    "collapsed": false
   },
   "outputs": [],
   "source": [
    "from __future__ import division"
   ]
  },
  {
   "cell_type": "code",
   "execution_count": 5,
   "metadata": {
    "collapsed": false
   },
   "outputs": [
    {
     "data": {
      "text/plain": [
       "0.8"
      ]
     },
     "execution_count": 5,
     "metadata": {},
     "output_type": "execute_result"
    }
   ],
   "source": [
    "4/5"
   ]
  },
  {
   "cell_type": "markdown",
   "metadata": {},
   "source": [
    "I prefer to use the import division option (from future!); if we put this statement in the beginning of a file or IPython notebook, it will work for all subsequent commands.\n",
    "\n",
    "Another command that changed its behavior from Python 2.x to 3.x is the `print` command.   \n",
    "In Python 2.x, the print command could be used as a statement:"
   ]
  },
  {
   "cell_type": "code",
   "execution_count": 6,
   "metadata": {
    "collapsed": false
   },
   "outputs": [
    {
     "ename": "SyntaxError",
     "evalue": "invalid syntax (<ipython-input-6-cdea43a24122>, line 1)",
     "output_type": "error",
     "traceback": [
      "\u001b[1;36m  File \u001b[1;32m\"<ipython-input-6-cdea43a24122>\"\u001b[1;36m, line \u001b[1;32m1\u001b[0m\n\u001b[1;33m    print 4/5\u001b[0m\n\u001b[1;37m          ^\u001b[0m\n\u001b[1;31mSyntaxError\u001b[0m\u001b[1;31m:\u001b[0m invalid syntax\n"
     ]
    }
   ],
   "source": [
    "print 4/5"
   ]
  },
  {
   "cell_type": "markdown",
   "metadata": {},
   "source": [
    "With Python 3.x, the print command bahaves as a true function and has to be called with parentheses. Let's also import this future command to Python 2.x and use it from now on:"
   ]
  },
  {
   "cell_type": "code",
   "execution_count": 7,
   "metadata": {
    "collapsed": false
   },
   "outputs": [],
   "source": [
    "from __future__ import print_function"
   ]
  },
  {
   "cell_type": "code",
   "execution_count": 8,
   "metadata": {
    "collapsed": false
   },
   "outputs": [
    {
     "name": "stdout",
     "output_type": "stream",
     "text": [
      "0.8\n"
     ]
    }
   ],
   "source": [
    "print(4/5)"
   ]
  },
  {
   "cell_type": "markdown",
   "metadata": {},
   "source": [
    "With the `print` function, let's explore the mathematical operations available in Python:"
   ]
  },
  {
   "cell_type": "code",
   "execution_count": 9,
   "metadata": {
    "collapsed": false
   },
   "outputs": [
    {
     "name": "stdout",
     "output_type": "stream",
     "text": [
      "1+2 = 3\n",
      "4*5 = 20\n",
      "6/7 = 0.8571428571428571\n",
      "8**2 = 64\n"
     ]
    }
   ],
   "source": [
    "print('1+2 = ', 1+2, '\\n', '4*5 = ', 4*5, '\\n', '6/7 = ', 6/7, '\\n', '8**2 = ', 8**2, sep='')"
   ]
  },
  {
   "cell_type": "markdown",
   "metadata": {},
   "source": [
    "And if we want the square-root of a number:"
   ]
  },
  {
   "cell_type": "code",
   "execution_count": 3,
   "metadata": {
    "collapsed": false
   },
   "outputs": [
    {
     "ename": "NameError",
     "evalue": "name 'sqrt' is not defined",
     "output_type": "error",
     "traceback": [
      "\u001b[0;31m---------------------------------------------------------------------------\u001b[0m\n\u001b[0;31mNameError\u001b[0m                                 Traceback (most recent call last)",
      "\u001b[0;32m<ipython-input-3-c836dfef5db4>\u001b[0m in \u001b[0;36m<module>\u001b[0;34m()\u001b[0m\n\u001b[0;32m----> 1\u001b[0;31m \u001b[0msqrt\u001b[0m\u001b[0;34m(\u001b[0m\u001b[0;36m9\u001b[0m\u001b[0;34m)\u001b[0m\u001b[0;34m\u001b[0m\u001b[0m\n\u001b[0m",
      "\u001b[0;31mNameError\u001b[0m: name 'sqrt' is not defined"
     ]
    }
   ],
   "source": [
    "sqrt(9)"
   ]
  },
  {
   "cell_type": "markdown",
   "metadata": {},
   "source": [
    "We get an error message saying that the `sqrt` function if not defined. This is because `sqrt` and other mathematical functions are available with the `math` module:"
   ]
  },
  {
   "cell_type": "code",
   "execution_count": 11,
   "metadata": {
    "collapsed": false
   },
   "outputs": [],
   "source": [
    "import math"
   ]
  },
  {
   "cell_type": "code",
   "execution_count": 12,
   "metadata": {
    "collapsed": false
   },
   "outputs": [
    {
     "data": {
      "text/plain": [
       "3.0"
      ]
     },
     "execution_count": 12,
     "metadata": {},
     "output_type": "execute_result"
    }
   ],
   "source": [
    "math.sqrt(9)"
   ]
  },
  {
   "cell_type": "code",
   "execution_count": 5,
   "metadata": {
    "collapsed": false
   },
   "outputs": [],
   "source": [
    "from math import sqrt"
   ]
  },
  {
   "cell_type": "code",
   "execution_count": 6,
   "metadata": {
    "collapsed": false
   },
   "outputs": [
    {
     "data": {
      "text/plain": [
       "3.0"
      ]
     },
     "execution_count": 6,
     "metadata": {},
     "output_type": "execute_result"
    }
   ],
   "source": [
    "sqrt(9)"
   ]
  },
  {
   "cell_type": "markdown",
   "metadata": {},
   "source": [
    "## The import function\n",
    "\n",
    "We used the command '`import`' to be able to call certain functions. In Python functions are organized in modules and packages and they have to be imported in order to be used.   \n",
    "\n",
    "A module is a file containing Python definitions (e.g., functions) and statements. Packages are a way of structuring Python’s module namespace by using “dotted module names”. For example, the module name A.B designates a submodule named B in a package named A. To be used, modules and packages have to be imported in Python with the import function.   \n",
    "\n",
    "Namespace is a container for a set of identifiers (names), and allows the disambiguation of homonym identifiers residing in different namespaces. For example, with the command import math, we will have all the functions and statements defined in this module in the namespace '`math.`', for example, '`math.pi`' is the π constant and '`math.cos()`', the cosine function."
   ]
  },
  {
   "cell_type": "markdown",
   "metadata": {},
   "source": [
    "By the way, to know which Python version you are running, we can use one of the following modules:"
   ]
  },
  {
   "cell_type": "code",
   "execution_count": 13,
   "metadata": {
    "collapsed": false
   },
   "outputs": [
    {
     "data": {
      "text/plain": [
       "'3.4.1 |Anaconda 2.0.1 (64-bit)| (default, May 19 2014, 13:02:30) [MSC v.1600 64 bit (AMD64)]'"
      ]
     },
     "execution_count": 13,
     "metadata": {},
     "output_type": "execute_result"
    }
   ],
   "source": [
    "import sys\n",
    "sys.version"
   ]
  },
  {
   "cell_type": "markdown",
   "metadata": {},
   "source": [
    "And if you are in an IPython session:"
   ]
  },
  {
   "cell_type": "code",
   "execution_count": 14,
   "metadata": {
    "collapsed": false
   },
   "outputs": [
    {
     "name": "stdout",
     "output_type": "stream",
     "text": [
      "{'commit_hash': '681fd77',\n",
      " 'commit_source': 'installation',\n",
      " 'default_encoding': 'cp1252',\n",
      " 'ipython_path': 'C:\\\\Anaconda3\\\\lib\\\\site-packages\\\\IPython',\n",
      " 'ipython_version': '2.1.0',\n",
      " 'os_name': 'nt',\n",
      " 'platform': 'Windows-7-6.1.7601-SP1',\n",
      " 'sys_executable': 'C:\\\\Anaconda3\\\\python.exe',\n",
      " 'sys_platform': 'win32',\n",
      " 'sys_version': '3.4.1 |Anaconda 2.0.1 (64-bit)| (default, May 19 2014, '\n",
      "                '13:02:30) [MSC v.1600 64 bit (AMD64)]'}\n"
     ]
    }
   ],
   "source": [
    "from IPython import sys_info\n",
    "print(sys_info())"
   ]
  },
  {
   "cell_type": "markdown",
   "metadata": {},
   "source": [
    "The first option gives information about the Python version; the latter also includes the IPython version, operating system, etc."
   ]
  },
  {
   "cell_type": "markdown",
   "metadata": {},
   "source": [
    "## Object-oriented programming\n",
    "\n",
    "Python is designed as an object-oriented programming (OOP) language. OOP is a paradigm that represents concepts as \"objects\" that have data fields (attributes that describe the object) and associated procedures known as methods.\n",
    "\n",
    "This means that all elements in Python are objects and they have attributes which can be acessed with the dot (.) operator after the name of the object. We already experimented with that when we imported the module `sys`, it became an object, and we acessed one of its attribute: `sys.version`.\n",
    "\n",
    "OOP as a paradigm is much more than defining objects, attributes, and methods, but for now this is enough to get going with Python."
   ]
  },
  {
   "cell_type": "markdown",
   "metadata": {},
   "source": [
    "## Python and IPython help\n",
    "\n",
    "To get help about any Python command, use `help()`:"
   ]
  },
  {
   "cell_type": "code",
   "execution_count": 15,
   "metadata": {
    "collapsed": false
   },
   "outputs": [
    {
     "name": "stdout",
     "output_type": "stream",
     "text": [
      "Help on built-in function degrees in module math:\n",
      "\n",
      "degrees(...)\n",
      "    degrees(x)\n",
      "    \n",
      "    Convert angle x from radians to degrees.\n",
      "\n"
     ]
    }
   ],
   "source": [
    "help(math.degrees)"
   ]
  },
  {
   "cell_type": "markdown",
   "metadata": {},
   "source": [
    "Or if you are in the IPython environment, simply add '?' to the function that a window will open at the bottom of your browser with the same help content:"
   ]
  },
  {
   "cell_type": "code",
   "execution_count": 16,
   "metadata": {
    "collapsed": false
   },
   "outputs": [],
   "source": [
    "math.degrees?"
   ]
  },
  {
   "cell_type": "markdown",
   "metadata": {},
   "source": [
    "And if you add a second '?' to the statement you get access to the original script file of the function (an advantage of an open source language), unless that function is a built-in function that does not have a script file, which is the case of the standard modules in Python (but you can access the Python source code if you want; it just does not come with the standard program for installation).\n",
    "\n",
    "So, let's see this feature with another function:"
   ]
  },
  {
   "cell_type": "code",
   "execution_count": 17,
   "metadata": {
    "collapsed": false
   },
   "outputs": [],
   "source": [
    "import scipy.fftpack\n",
    "scipy.fftpack.fft??"
   ]
  },
  {
   "cell_type": "markdown",
   "metadata": {},
   "source": [
    "To know all the attributes of an object, for example all the functions available in `math`, we can use the function `dir`:"
   ]
  },
  {
   "cell_type": "code",
   "execution_count": 18,
   "metadata": {
    "collapsed": false
   },
   "outputs": [
    {
     "name": "stdout",
     "output_type": "stream",
     "text": [
      "['__doc__', '__loader__', '__name__', '__package__', '__spec__', 'acos', 'acosh', 'asin', 'asinh', 'atan', 'atan2', 'atanh', 'ceil', 'copysign', 'cos', 'cosh', 'degrees', 'e', 'erf', 'erfc', 'exp', 'expm1', 'fabs', 'factorial', 'floor', 'fmod', 'frexp', 'fsum', 'gamma', 'hypot', 'isfinite', 'isinf', 'isnan', 'ldexp', 'lgamma', 'log', 'log10', 'log1p', 'log2', 'modf', 'pi', 'pow', 'radians', 'sin', 'sinh', 'sqrt', 'tan', 'tanh', 'trunc']\n"
     ]
    }
   ],
   "source": [
    "print(dir(math))"
   ]
  },
  {
   "cell_type": "markdown",
   "metadata": {},
   "source": [
    "### Tab completion in IPython\n",
    "\n",
    "IPython has tab completion: start typing the name of the command (object) and press `tab` to see the names of objects available with these initials letters. When the name of the object is typed followed by a dot (`math.`), pressing `tab` will show all available attribites, scroll down to the desired attribute and press `Enter` to select it."
   ]
  },
  {
   "cell_type": "markdown",
   "metadata": {},
   "source": [
    "### The four most helpful commands in IPython\n",
    "\n",
    "These are the most helpful commands in IPython (from [IPython tutorial](http://ipython.org/ipython-doc/dev/interactive/tutorial.html)):\n",
    "\n",
    " - `?` : Introduction and overview of IPython’s features.\n",
    " - `%quickref` : Quick reference.\n",
    " - `help` : Python’s own help system.\n",
    " - `object?` : Details about ‘object’, use ‘object??’ for extra details.\n",
    " \n",
    "[See these IPython Notebooks for more on IPython and the Notebook capabilities](http://nbviewer.ipython.org/github/ipython/ipython/tree/master/examples/Notebook/)."
   ]
  },
  {
   "cell_type": "markdown",
   "metadata": {},
   "source": [
    "### Comments\n",
    "\n",
    "Comments in Python start with the hash character, #, and extend to the end of the physical line:"
   ]
  },
  {
   "cell_type": "code",
   "execution_count": 19,
   "metadata": {
    "collapsed": false
   },
   "outputs": [
    {
     "data": {
      "text/plain": [
       "3.141592653589793"
      ]
     },
     "execution_count": 19,
     "metadata": {},
     "output_type": "execute_result"
    }
   ],
   "source": [
    "# Import the math library to access more math stuff\n",
    "import math\n",
    "math.pi  # this is the pi constant; a useless comment since this is obvious"
   ]
  },
  {
   "cell_type": "markdown",
   "metadata": {},
   "source": [
    "To insert comments spanning more than one line, use a multi-line string with a pair of matching triple-quotes: `\"\"\"` or `'''` (we will see the string data type later). A typical use of a multi-line comment is as documentation strings and are meant for anyone reading the code:"
   ]
  },
  {
   "cell_type": "code",
   "execution_count": 20,
   "metadata": {
    "collapsed": false
   },
   "outputs": [
    {
     "data": {
      "text/plain": [
       "'Documentation strings are typically written like that.\\n\\nA docstring is a string literal that occurs as the first statement\\nin a module, function, class, or method definition.\\n\\n'"
      ]
     },
     "execution_count": 20,
     "metadata": {},
     "output_type": "execute_result"
    }
   ],
   "source": [
    "\"\"\"Documentation strings are typically written like that.\n",
    "\n",
    "A docstring is a string literal that occurs as the first statement\n",
    "in a module, function, class, or method definition.\n",
    "\n",
    "\"\"\""
   ]
  },
  {
   "cell_type": "markdown",
   "metadata": {},
   "source": [
    "A docstring like above is useless and its output as a standalone statement looks uggly in IPython Notebook, but you will see its real importance when reading and writting codes.\n",
    "\n",
    "Commenting a programming code is an important step to make the code more readable, which Python cares a lot.   \n",
    "There is a style guide for writting Python code ([PEP 8](http://www.python.org/dev/peps/pep-0008/)) with a session about [how to write comments](http://www.python.org/dev/peps/pep-0008/#comments)."
   ]
  },
  {
   "cell_type": "markdown",
   "metadata": {},
   "source": [
    "### Magic functions\n",
    "\n",
    "IPython has a set of predefined ‘magic functions’ that you can call with a command line style syntax.   \n",
    "There are two kinds of magics, line-oriented and cell-oriented.   \n",
    "Line magics are prefixed with the % character and work much like OS command-line calls: they get as an argument the rest of the line, where arguments are passed without parentheses or quotes.   \n",
    "Cell magics are prefixed with a double %%, and they are functions that get as an argument not only the rest of the line, but also the lines below it in a separate argument."
   ]
  },
  {
   "cell_type": "markdown",
   "metadata": {},
   "source": [
    "## Assignment and expressions\n",
    "\n",
    "The equal sign ('=') is used to assign a value to a variable. Afterwards, no result is displayed before the next interactive prompt:"
   ]
  },
  {
   "cell_type": "code",
   "execution_count": 3,
   "metadata": {
    "collapsed": false
   },
   "outputs": [],
   "source": [
    "x = 1"
   ]
  },
  {
   "cell_type": "markdown",
   "metadata": {},
   "source": [
    "Spaces between the statements are optional but it helps for readability.\n",
    "\n",
    "To see the value of the variable, call it again or use the print function:"
   ]
  },
  {
   "cell_type": "code",
   "execution_count": 4,
   "metadata": {
    "collapsed": false
   },
   "outputs": [
    {
     "data": {
      "text/plain": [
       "1"
      ]
     },
     "execution_count": 4,
     "metadata": {},
     "output_type": "execute_result"
    }
   ],
   "source": [
    "x"
   ]
  },
  {
   "cell_type": "code",
   "execution_count": 5,
   "metadata": {
    "collapsed": false
   },
   "outputs": [
    {
     "name": "stdout",
     "output_type": "stream",
     "text": [
      "1\n"
     ]
    }
   ],
   "source": [
    "print(x)"
   ]
  },
  {
   "cell_type": "markdown",
   "metadata": {},
   "source": [
    "Of course, the last assignment is that holds:"
   ]
  },
  {
   "cell_type": "code",
   "execution_count": 6,
   "metadata": {
    "collapsed": false
   },
   "outputs": [
    {
     "data": {
      "text/plain": [
       "3"
      ]
     },
     "execution_count": 6,
     "metadata": {},
     "output_type": "execute_result"
    }
   ],
   "source": [
    "x = 2\n",
    "x = 3\n",
    "x"
   ]
  },
  {
   "cell_type": "markdown",
   "metadata": {},
   "source": [
    "In mathematics '=' is the symbol for identity, but in computer programming '=' is used for assignment, it means that the right part of the expresssion is assigned to its left part.   \n",
    "For example, 'x=x+1' does not make sense in mathematics but it does in computer programming:"
   ]
  },
  {
   "cell_type": "code",
   "execution_count": 7,
   "metadata": {
    "collapsed": false
   },
   "outputs": [
    {
     "name": "stdout",
     "output_type": "stream",
     "text": [
      "1\n",
      "2\n"
     ]
    }
   ],
   "source": [
    "x = 1\n",
    "print(x)\n",
    "x = x + 1\n",
    "print(x)"
   ]
  },
  {
   "cell_type": "markdown",
   "metadata": {},
   "source": [
    "A value can be assigned to several variables simultaneously:"
   ]
  },
  {
   "cell_type": "code",
   "execution_count": 8,
   "metadata": {
    "collapsed": false
   },
   "outputs": [
    {
     "name": "stdout",
     "output_type": "stream",
     "text": [
      "4\n",
      "4\n"
     ]
    }
   ],
   "source": [
    "x = y = 4\n",
    "print(x)\n",
    "print(y)"
   ]
  },
  {
   "cell_type": "markdown",
   "metadata": {},
   "source": [
    "Several values can be assigned to several variables at once:"
   ]
  },
  {
   "cell_type": "code",
   "execution_count": 9,
   "metadata": {
    "collapsed": false
   },
   "outputs": [
    {
     "name": "stdout",
     "output_type": "stream",
     "text": [
      "5\n",
      "6\n"
     ]
    }
   ],
   "source": [
    "x, y = 5, 6\n",
    "print(x)\n",
    "print(y)"
   ]
  },
  {
   "cell_type": "markdown",
   "metadata": {},
   "source": [
    "And with that, you can do (!):"
   ]
  },
  {
   "cell_type": "code",
   "execution_count": 10,
   "metadata": {
    "collapsed": false
   },
   "outputs": [
    {
     "name": "stdout",
     "output_type": "stream",
     "text": [
      "6\n",
      "5\n"
     ]
    }
   ],
   "source": [
    "x, y = y, x\n",
    "print(x)\n",
    "print(y)"
   ]
  },
  {
   "cell_type": "markdown",
   "metadata": {},
   "source": [
    "Variables must be “defined” (assigned a value) before they can be used, or an error will occur:"
   ]
  },
  {
   "cell_type": "code",
   "execution_count": 11,
   "metadata": {
    "collapsed": false
   },
   "outputs": [
    {
     "ename": "NameError",
     "evalue": "name 'z' is not defined",
     "output_type": "error",
     "traceback": [
      "\u001b[1;31m---------------------------------------------------------------------------\u001b[0m",
      "\u001b[1;31mNameError\u001b[0m                                 Traceback (most recent call last)",
      "\u001b[1;32m<ipython-input-11-cfba4031bce1>\u001b[0m in \u001b[0;36m<module>\u001b[1;34m()\u001b[0m\n\u001b[1;32m----> 1\u001b[1;33m \u001b[0mx\u001b[0m \u001b[1;33m=\u001b[0m \u001b[0mz\u001b[0m\u001b[1;33m\u001b[0m\u001b[0m\n\u001b[0m",
      "\u001b[1;31mNameError\u001b[0m: name 'z' is not defined"
     ]
    }
   ],
   "source": [
    "x = z"
   ]
  },
  {
   "cell_type": "markdown",
   "metadata": {},
   "source": [
    "## Variables and types\n",
    "\n",
    "There are different types of built-in objects in Python (and remember that everything in Python is an object):"
   ]
  },
  {
   "cell_type": "code",
   "execution_count": 30,
   "metadata": {
    "collapsed": false
   },
   "outputs": [
    {
     "name": "stdout",
     "output_type": "stream",
     "text": [
      "['BuiltinFunctionType', 'BuiltinMethodType', 'CodeType', 'DynamicClassAttribute', 'FrameType', 'FunctionType', 'GeneratorType', 'GetSetDescriptorType', 'LambdaType', 'MappingProxyType', 'MemberDescriptorType', 'MethodType', 'ModuleType', 'SimpleNamespace', 'TracebackType', '__builtins__', '__cached__', '__doc__', '__file__', '__loader__', '__name__', '__package__', '__spec__', '_calculate_meta', 'new_class', 'prepare_class']\n"
     ]
    }
   ],
   "source": [
    "import types\n",
    "print(dir(types))"
   ]
  },
  {
   "cell_type": "markdown",
   "metadata": {},
   "source": [
    "Let's see some of them now."
   ]
  },
  {
   "cell_type": "markdown",
   "metadata": {},
   "source": [
    "### Numbers: int, float, complex\n",
    "\n",
    "Numbers can an integer (int), float, and complex (with imaginary part).   \n",
    "Let's use the function `type` to show the type of number (and later for any other object):"
   ]
  },
  {
   "cell_type": "code",
   "execution_count": 31,
   "metadata": {
    "collapsed": false
   },
   "outputs": [
    {
     "data": {
      "text/plain": [
       "int"
      ]
     },
     "execution_count": 31,
     "metadata": {},
     "output_type": "execute_result"
    }
   ],
   "source": [
    "type(6)"
   ]
  },
  {
   "cell_type": "markdown",
   "metadata": {},
   "source": [
    "A float is a non-integer number:"
   ]
  },
  {
   "cell_type": "code",
   "execution_count": 32,
   "metadata": {
    "collapsed": false
   },
   "outputs": [
    {
     "data": {
      "text/plain": [
       "3.141592653589793"
      ]
     },
     "execution_count": 32,
     "metadata": {},
     "output_type": "execute_result"
    }
   ],
   "source": [
    "math.pi"
   ]
  },
  {
   "cell_type": "code",
   "execution_count": 33,
   "metadata": {
    "collapsed": false
   },
   "outputs": [
    {
     "data": {
      "text/plain": [
       "float"
      ]
     },
     "execution_count": 33,
     "metadata": {},
     "output_type": "execute_result"
    }
   ],
   "source": [
    "type(math.pi)"
   ]
  },
  {
   "cell_type": "markdown",
   "metadata": {},
   "source": [
    "Python (IPython) is showing `math.pi` with only 15 decimal cases, but internally a float is represented with higher precision.   \n",
    "Floating point numbers in Python are implemented using a double (eight bytes) word; the precison and internal representation of floating point numbers are machine specific and are available in:"
   ]
  },
  {
   "cell_type": "code",
   "execution_count": 34,
   "metadata": {
    "collapsed": false
   },
   "outputs": [
    {
     "data": {
      "text/plain": [
       "sys.float_info(max=1.7976931348623157e+308, max_exp=1024, max_10_exp=308, min=2.2250738585072014e-308, min_exp=-1021, min_10_exp=-307, dig=15, mant_dig=53, epsilon=2.220446049250313e-16, radix=2, rounds=1)"
      ]
     },
     "execution_count": 34,
     "metadata": {},
     "output_type": "execute_result"
    }
   ],
   "source": [
    "sys.float_info"
   ]
  },
  {
   "cell_type": "markdown",
   "metadata": {},
   "source": [
    "Be aware that floating-point numbers can be trick in computers:"
   ]
  },
  {
   "cell_type": "code",
   "execution_count": 35,
   "metadata": {
    "collapsed": false
   },
   "outputs": [
    {
     "data": {
      "text/plain": [
       "0.30000000000000004"
      ]
     },
     "execution_count": 35,
     "metadata": {},
     "output_type": "execute_result"
    }
   ],
   "source": [
    "0.1 + 0.2"
   ]
  },
  {
   "cell_type": "code",
   "execution_count": 36,
   "metadata": {
    "collapsed": false
   },
   "outputs": [
    {
     "data": {
      "text/plain": [
       "5.551115123125783e-17"
      ]
     },
     "execution_count": 36,
     "metadata": {},
     "output_type": "execute_result"
    }
   ],
   "source": [
    "0.1 + 0.2 - 0.3"
   ]
  },
  {
   "cell_type": "markdown",
   "metadata": {},
   "source": [
    "These results are not correct (and the problem is not due to Python). The error arises from the fact that floating-point numbers are represented in computer hardware as base 2 (binary) fractions and most decimal fractions cannot be represented exactly as binary fractions. As consequence, decimal floating-point numbers are only approximated by the binary floating-point numbers actually stored in the machine. [See here for more on this issue](http://docs.python.org/2/tutorial/floatingpoint.html)."
   ]
  },
  {
   "cell_type": "markdown",
   "metadata": {},
   "source": [
    "A complex number has real and imaginary parts:"
   ]
  },
  {
   "cell_type": "code",
   "execution_count": 37,
   "metadata": {
    "collapsed": false
   },
   "outputs": [
    {
     "data": {
      "text/plain": [
       "(1+2j)"
      ]
     },
     "execution_count": 37,
     "metadata": {},
     "output_type": "execute_result"
    }
   ],
   "source": [
    "1+2j"
   ]
  },
  {
   "cell_type": "code",
   "execution_count": 38,
   "metadata": {
    "collapsed": false
   },
   "outputs": [
    {
     "name": "stdout",
     "output_type": "stream",
     "text": [
      "<class 'complex'>\n"
     ]
    }
   ],
   "source": [
    "print(type(1+2j))"
   ]
  },
  {
   "cell_type": "markdown",
   "metadata": {},
   "source": [
    "Each part of a complex number is represented as a floating-point number. We can see them using the attributes `.real` and `.imag`:"
   ]
  },
  {
   "cell_type": "code",
   "execution_count": 39,
   "metadata": {
    "collapsed": false
   },
   "outputs": [
    {
     "name": "stdout",
     "output_type": "stream",
     "text": [
      "1.0\n",
      "2.0\n"
     ]
    }
   ],
   "source": [
    "print((1+2j).real)\n",
    "print((1+2j).imag)"
   ]
  },
  {
   "cell_type": "markdown",
   "metadata": {},
   "source": [
    "### Strings\n",
    "\n",
    "Strings can be enclosed in single quotes or double quotes:"
   ]
  },
  {
   "cell_type": "code",
   "execution_count": 40,
   "metadata": {
    "collapsed": false
   },
   "outputs": [
    {
     "data": {
      "text/plain": [
       "'string (str) is a built-in type in Python'"
      ]
     },
     "execution_count": 40,
     "metadata": {},
     "output_type": "execute_result"
    }
   ],
   "source": [
    "s = 'string (str) is a built-in type in Python'\n",
    "s"
   ]
  },
  {
   "cell_type": "code",
   "execution_count": 41,
   "metadata": {
    "collapsed": false
   },
   "outputs": [
    {
     "data": {
      "text/plain": [
       "str"
      ]
     },
     "execution_count": 41,
     "metadata": {},
     "output_type": "execute_result"
    }
   ],
   "source": [
    "type(s)"
   ]
  },
  {
   "cell_type": "markdown",
   "metadata": {},
   "source": [
    "String enclosed with single and double quotes are equal, but it may be easier to use one instead of the other:"
   ]
  },
  {
   "cell_type": "code",
   "execution_count": 42,
   "metadata": {
    "collapsed": false
   },
   "outputs": [
    {
     "ename": "SyntaxError",
     "evalue": "invalid syntax (<ipython-input-42-ca70e9285fe4>, line 1)",
     "output_type": "error",
     "traceback": [
      "\u001b[1;36m  File \u001b[1;32m\"<ipython-input-42-ca70e9285fe4>\"\u001b[1;36m, line \u001b[1;32m1\u001b[0m\n\u001b[1;33m    'string (str) is a Python's built-in type'\u001b[0m\n\u001b[1;37m                              ^\u001b[0m\n\u001b[1;31mSyntaxError\u001b[0m\u001b[1;31m:\u001b[0m invalid syntax\n"
     ]
    }
   ],
   "source": [
    "'string (str) is a Python's built-in type'"
   ]
  },
  {
   "cell_type": "code",
   "execution_count": 43,
   "metadata": {
    "collapsed": false
   },
   "outputs": [
    {
     "data": {
      "text/plain": [
       "\"string (str) is a Python's built-in type\""
      ]
     },
     "execution_count": 43,
     "metadata": {},
     "output_type": "execute_result"
    }
   ],
   "source": [
    "\"string (str) is a Python's built-in type\""
   ]
  },
  {
   "cell_type": "markdown",
   "metadata": {},
   "source": [
    "But you could have done that using the Python escape character '\\':"
   ]
  },
  {
   "cell_type": "code",
   "execution_count": 44,
   "metadata": {
    "collapsed": false
   },
   "outputs": [
    {
     "data": {
      "text/plain": [
       "\"string (str) is a Python's built-in type\""
      ]
     },
     "execution_count": 44,
     "metadata": {},
     "output_type": "execute_result"
    }
   ],
   "source": [
    "'string (str) is a Python\\'s built-in type'"
   ]
  },
  {
   "cell_type": "markdown",
   "metadata": {},
   "source": [
    "Strings can be concatenated (glued together) with the + operator, and repeated with *:"
   ]
  },
  {
   "cell_type": "code",
   "execution_count": 45,
   "metadata": {
    "collapsed": false
   },
   "outputs": [
    {
     "name": "stdout",
     "output_type": "stream",
     "text": [
      "Python\n",
      "PythonPythonPythonPythonPython\n"
     ]
    }
   ],
   "source": [
    "s = 'P' + 'y' + 't' + 'h' + 'o' + 'n'\n",
    "print(s)\n",
    "print(s*5)"
   ]
  },
  {
   "cell_type": "markdown",
   "metadata": {},
   "source": [
    "Strings can be subscripted (indexed); like in C, the first character of a string has subscript (index) 0:"
   ]
  },
  {
   "cell_type": "code",
   "execution_count": 46,
   "metadata": {
    "collapsed": false
   },
   "outputs": [
    {
     "name": "stdout",
     "output_type": "stream",
     "text": [
      "s[0] =  P   (s[index], start at 0)\n",
      "s[5] =  n\n",
      "s[-1] =  n   (last element)\n",
      "s[:] =  Python   (all elements)\n",
      "s[1:] =  ython   (from this index (inclusive) till the last (inclusive))\n",
      "s[2:4] =  th   (from first index (inclusive) till second index (exclusive))\n",
      "s[:2] =  Py   (till this index, exclusive)\n",
      "s[:10] =  Python   (Python handles the index if it is larger than the string length)\n",
      "s[-10:] =  Python\n",
      "s[0:5:2] =  Pto   (s[ini:end:step])\n",
      "s[::2] =  Pto   (s[::step], initial and final indexes can be omitted)\n",
      "s[0:5:-1] =  nohtyP   (s[::-step] reverses the string)\n",
      "s[:2] + s[2:] =  Python   (because of Python indexing, this sounds natural)\n"
     ]
    }
   ],
   "source": [
    "print('s[0] = ', s[0], '  (s[index], start at 0)')\n",
    "print('s[5] = ', s[5])\n",
    "print('s[-1] = ', s[-1], '  (last element)')\n",
    "print('s[:] = ', s[:], '  (all elements)')\n",
    "print('s[1:] = ', s[1:], '  (from this index (inclusive) till the last (inclusive))')\n",
    "print('s[2:4] = ', s[2:4], '  (from first index (inclusive) till second index (exclusive))')\n",
    "print('s[:2] = ', s[:2], '  (till this index, exclusive)')\n",
    "print('s[:10] = ', s[:10], '  (Python handles the index if it is larger than the string length)')\n",
    "print('s[-10:] = ', s[-10:])\n",
    "print('s[0:5:2] = ', s[0:5:2], '  (s[ini:end:step])')\n",
    "print('s[::2] = ', s[::2], '  (s[::step], initial and final indexes can be omitted)')\n",
    "print('s[0:5:-1] = ', s[::-1], '  (s[::-step] reverses the string)')\n",
    "print('s[:2] + s[2:] = ', s[:2] + s[2:], '  (because of Python indexing, this sounds natural)')"
   ]
  },
  {
   "cell_type": "markdown",
   "metadata": {},
   "source": [
    "### len()\n",
    "\n",
    "Python has a built-in functon to get the number of itens of a sequence:"
   ]
  },
  {
   "cell_type": "code",
   "execution_count": 47,
   "metadata": {
    "collapsed": false
   },
   "outputs": [
    {
     "name": "stdout",
     "output_type": "stream",
     "text": [
      "Help on built-in function len in module builtins:\n",
      "\n",
      "len(...)\n",
      "    len(object)\n",
      "    \n",
      "    Return the number of items of a sequence or mapping.\n",
      "\n"
     ]
    }
   ],
   "source": [
    "help(len)"
   ]
  },
  {
   "cell_type": "code",
   "execution_count": 48,
   "metadata": {
    "collapsed": false
   },
   "outputs": [
    {
     "data": {
      "text/plain": [
       "6"
      ]
     },
     "execution_count": 48,
     "metadata": {},
     "output_type": "execute_result"
    }
   ],
   "source": [
    "s = 'Python'\n",
    "len(s)"
   ]
  },
  {
   "cell_type": "markdown",
   "metadata": {},
   "source": [
    "The function len() helps to understand how the backward indexing works in Python.    \n",
    "The index s[-i] should be understood as s[len(s) - i] rather than accessing directly the i-th element from back to front. This is why the last element of a string is s[-1]:"
   ]
  },
  {
   "cell_type": "code",
   "execution_count": 49,
   "metadata": {
    "collapsed": false
   },
   "outputs": [
    {
     "name": "stdout",
     "output_type": "stream",
     "text": [
      "s =  Python\n",
      "len(s) =  6\n",
      "len(s)-1 =  5\n",
      "s[-1] =  n\n",
      "s[len(s) - 1] =  n\n"
     ]
    }
   ],
   "source": [
    "print('s = ', s)\n",
    "print('len(s) = ', len(s))\n",
    "print('len(s)-1 = ',len(s) - 1)\n",
    "print('s[-1] = ', s[-1])\n",
    "print('s[len(s) - 1] = ', s[len(s) - 1])"
   ]
  },
  {
   "cell_type": "markdown",
   "metadata": {},
   "source": [
    "Or, strings can be surrounded in a pair of matching triple-quotes: \"\"\" or '''. End of lines do not need to be escaped when using triple-quotes, but they will be included in the string. This is how we created a multi-line comment earlier:"
   ]
  },
  {
   "cell_type": "code",
   "execution_count": 50,
   "metadata": {
    "collapsed": false
   },
   "outputs": [
    {
     "data": {
      "text/plain": [
       "'Strings can be surrounded in a pair of matching triple-quotes: \"\"\" or \\'\\'\\'.\\n\\nEnd of lines do not need to be escaped when using triple-quotes,\\nbut they will be included in the string.\\n\\n'"
      ]
     },
     "execution_count": 50,
     "metadata": {},
     "output_type": "execute_result"
    }
   ],
   "source": [
    "\"\"\"Strings can be surrounded in a pair of matching triple-quotes: \\\"\"\" or '''.\n",
    "\n",
    "End of lines do not need to be escaped when using triple-quotes,\n",
    "but they will be included in the string.\n",
    "\n",
    "\"\"\""
   ]
  },
  {
   "cell_type": "markdown",
   "metadata": {},
   "source": [
    "### Lists\n",
    "\n",
    "Values can be grouped together using different types, one of them is list, which can be written as a list of comma-separated values between square brackets. List items need not all have the same type:"
   ]
  },
  {
   "cell_type": "code",
   "execution_count": 51,
   "metadata": {
    "collapsed": false
   },
   "outputs": [
    {
     "data": {
      "text/plain": [
       "['spam', 'eggs', 100, 1234]"
      ]
     },
     "execution_count": 51,
     "metadata": {},
     "output_type": "execute_result"
    }
   ],
   "source": [
    "x = ['spam', 'eggs', 100, 1234]\n",
    "x"
   ]
  },
  {
   "cell_type": "markdown",
   "metadata": {},
   "source": [
    "Lists can be indexed and the same indexing rules we saw for strings are applied:"
   ]
  },
  {
   "cell_type": "code",
   "execution_count": 52,
   "metadata": {
    "collapsed": false
   },
   "outputs": [
    {
     "data": {
      "text/plain": [
       "'spam'"
      ]
     },
     "execution_count": 52,
     "metadata": {},
     "output_type": "execute_result"
    }
   ],
   "source": [
    "x[0]"
   ]
  },
  {
   "cell_type": "markdown",
   "metadata": {},
   "source": [
    "The function len() works for lists:"
   ]
  },
  {
   "cell_type": "code",
   "execution_count": 53,
   "metadata": {
    "collapsed": false
   },
   "outputs": [
    {
     "data": {
      "text/plain": [
       "4"
      ]
     },
     "execution_count": 53,
     "metadata": {},
     "output_type": "execute_result"
    }
   ],
   "source": [
    "len(x)"
   ]
  },
  {
   "cell_type": "markdown",
   "metadata": {},
   "source": [
    "### Tuples\n",
    "\n",
    "A tuple consists of a number of values separated by commas, for instance:"
   ]
  },
  {
   "cell_type": "code",
   "execution_count": 54,
   "metadata": {
    "collapsed": false
   },
   "outputs": [
    {
     "data": {
      "text/plain": [
       "('spam', 'eggs', 100, 1234)"
      ]
     },
     "execution_count": 54,
     "metadata": {},
     "output_type": "execute_result"
    }
   ],
   "source": [
    "t = ('spam', 'eggs', 100, 1234)\n",
    "t"
   ]
  },
  {
   "cell_type": "markdown",
   "metadata": {},
   "source": [
    "The type tuple is why multiple assignments in a single line works; elements separated by commas (with or without surrounding parentheses) are a tuple and in an expression with an '=', the right-side tuple is attributed to the left-side tuple: "
   ]
  },
  {
   "cell_type": "code",
   "execution_count": 55,
   "metadata": {
    "collapsed": false
   },
   "outputs": [
    {
     "name": "stdout",
     "output_type": "stream",
     "text": [
      "a =  1 \n",
      "b =  2\n"
     ]
    }
   ],
   "source": [
    "a, b = 1, 2\n",
    "print('a = ', a, '\\nb = ', b)"
   ]
  },
  {
   "cell_type": "markdown",
   "metadata": {},
   "source": [
    "Is the same as:"
   ]
  },
  {
   "cell_type": "code",
   "execution_count": 56,
   "metadata": {
    "collapsed": false
   },
   "outputs": [
    {
     "name": "stdout",
     "output_type": "stream",
     "text": [
      "a =  1 \n",
      "b =  2\n"
     ]
    }
   ],
   "source": [
    "(a, b) = (1, 2)\n",
    "print('a = ', a, '\\nb = ', b)"
   ]
  },
  {
   "cell_type": "markdown",
   "metadata": {},
   "source": [
    "### Sets\n",
    "\n",
    "Python also includes a data type for sets. A set is an unordered collection with no duplicate elements."
   ]
  },
  {
   "cell_type": "code",
   "execution_count": 57,
   "metadata": {
    "collapsed": false
   },
   "outputs": [
    {
     "data": {
      "text/plain": [
       "{'apple', 'banana', 'orange', 'pear'}"
      ]
     },
     "execution_count": 57,
     "metadata": {},
     "output_type": "execute_result"
    }
   ],
   "source": [
    "basket = ['apple', 'orange', 'apple', 'pear', 'orange', 'banana']\n",
    "fruit = set(basket)  # create a set without duplicates\n",
    "fruit"
   ]
  },
  {
   "cell_type": "markdown",
   "metadata": {},
   "source": [
    "As set is an unordered collection, it can not be indexed as lists and tuples."
   ]
  },
  {
   "cell_type": "code",
   "execution_count": 58,
   "metadata": {
    "collapsed": false
   },
   "outputs": [
    {
     "data": {
      "text/plain": [
       "True"
      ]
     },
     "execution_count": 58,
     "metadata": {},
     "output_type": "execute_result"
    }
   ],
   "source": [
    "set(['orange', 'pear', 'apple', 'banana'])\n",
    "'orange' in fruit  # fast membership testing"
   ]
  },
  {
   "cell_type": "markdown",
   "metadata": {},
   "source": [
    "### Dictionaries\n",
    "\n",
    "Dictionary is a collection of elements organized keys and values. Unlike lists and tuples, which are indexed by a range of numbers, dictionaries are indexed by their keys:"
   ]
  },
  {
   "cell_type": "code",
   "execution_count": 59,
   "metadata": {
    "collapsed": false
   },
   "outputs": [
    {
     "data": {
      "text/plain": [
       "{'sape': 4139, 'jack': 4098}"
      ]
     },
     "execution_count": 59,
     "metadata": {},
     "output_type": "execute_result"
    }
   ],
   "source": [
    "tel = {'jack': 4098, 'sape': 4139}\n",
    "tel"
   ]
  },
  {
   "cell_type": "code",
   "execution_count": 60,
   "metadata": {
    "collapsed": false
   },
   "outputs": [
    {
     "data": {
      "text/plain": [
       "{'guido': 4127, 'sape': 4139, 'jack': 4098}"
      ]
     },
     "execution_count": 60,
     "metadata": {},
     "output_type": "execute_result"
    }
   ],
   "source": [
    "tel['guido'] = 4127\n",
    "tel"
   ]
  },
  {
   "cell_type": "code",
   "execution_count": 61,
   "metadata": {
    "collapsed": false
   },
   "outputs": [
    {
     "data": {
      "text/plain": [
       "4098"
      ]
     },
     "execution_count": 61,
     "metadata": {},
     "output_type": "execute_result"
    }
   ],
   "source": [
    "tel['jack']"
   ]
  },
  {
   "cell_type": "code",
   "execution_count": 62,
   "metadata": {
    "collapsed": false
   },
   "outputs": [
    {
     "data": {
      "text/plain": [
       "{'guido': 4127, 'irv': 4127, 'jack': 4098}"
      ]
     },
     "execution_count": 62,
     "metadata": {},
     "output_type": "execute_result"
    }
   ],
   "source": [
    "del tel['sape']\n",
    "tel['irv'] = 4127\n",
    "tel"
   ]
  },
  {
   "cell_type": "code",
   "execution_count": 63,
   "metadata": {
    "collapsed": false
   },
   "outputs": [
    {
     "data": {
      "text/plain": [
       "dict_keys(['guido', 'irv', 'jack'])"
      ]
     },
     "execution_count": 63,
     "metadata": {},
     "output_type": "execute_result"
    }
   ],
   "source": [
    "tel.keys()"
   ]
  },
  {
   "cell_type": "code",
   "execution_count": 64,
   "metadata": {
    "collapsed": false
   },
   "outputs": [
    {
     "data": {
      "text/plain": [
       "True"
      ]
     },
     "execution_count": 64,
     "metadata": {},
     "output_type": "execute_result"
    }
   ],
   "source": [
    "'guido' in tel"
   ]
  },
  {
   "cell_type": "markdown",
   "metadata": {},
   "source": [
    "The dict() constructor builds dictionaries directly from sequences of key-value pairs:"
   ]
  },
  {
   "cell_type": "code",
   "execution_count": 65,
   "metadata": {
    "collapsed": false
   },
   "outputs": [
    {
     "data": {
      "text/plain": [
       "{'guido': 4127, 'sape': 4139, 'jack': 4098}"
      ]
     },
     "execution_count": 65,
     "metadata": {},
     "output_type": "execute_result"
    }
   ],
   "source": [
    "tel = dict([('sape', 4139), ('guido', 4127), ('jack', 4098)])\n",
    "tel"
   ]
  },
  {
   "cell_type": "markdown",
   "metadata": {},
   "source": [
    "## Built-in Constants\n",
    "\n",
    "- **False** : false value of the bool type\n",
    "- **True** : true value of the bool type\n",
    "- **None** : sole value of types.NoneType. None is frequently used to represent the absence of a value."
   ]
  },
  {
   "cell_type": "markdown",
   "metadata": {},
   "source": [
    "In computer science, the Boolean or logical data type is composed by two values, true and false, intended to represent the values of logic and Boolean algebra. In Python, 1 and 0 can also be used in most situations as equivalent to the Boolean values."
   ]
  },
  {
   "cell_type": "markdown",
   "metadata": {},
   "source": [
    "## Logical (Boolean) operators"
   ]
  },
  {
   "cell_type": "markdown",
   "metadata": {},
   "source": [
    "### and, or, not"
   ]
  },
  {
   "cell_type": "markdown",
   "metadata": {},
   "source": [
    "- **and** : logical AND operator. If both the operands are true then condition becomes true.\t (a and b) is true.\n",
    "- **or** : logical OR Operator. If any of the two operands are non zero then condition becomes true.\t (a or b) is true.\n",
    "- **not** : logical NOT Operator. Reverses the logical state of its operand. If a condition is true then logical NOT operator will make false."
   ]
  },
  {
   "cell_type": "markdown",
   "metadata": {},
   "source": [
    "### Comparisons\n",
    "\n",
    "The following comparison operations are supported by objects in Python:\n",
    "\n",
    "- **==** : equal\n",
    "- **!=** : not equal\n",
    "- **<**\t: strictly less than\n",
    "- **<=** : less than or equal\n",
    "- **\\>** : strictly greater than\n",
    "- **\\>=** : greater than or equal\n",
    "- **is** : object identity\n",
    "- **is not** : negated object identity"
   ]
  },
  {
   "cell_type": "code",
   "execution_count": 66,
   "metadata": {
    "collapsed": false
   },
   "outputs": [
    {
     "data": {
      "text/plain": [
       "False"
      ]
     },
     "execution_count": 66,
     "metadata": {},
     "output_type": "execute_result"
    }
   ],
   "source": [
    "True == False"
   ]
  },
  {
   "cell_type": "code",
   "execution_count": 67,
   "metadata": {
    "collapsed": false
   },
   "outputs": [
    {
     "data": {
      "text/plain": [
       "True"
      ]
     },
     "execution_count": 67,
     "metadata": {},
     "output_type": "execute_result"
    }
   ],
   "source": [
    "not True == False"
   ]
  },
  {
   "cell_type": "code",
   "execution_count": 68,
   "metadata": {
    "collapsed": false
   },
   "outputs": [
    {
     "data": {
      "text/plain": [
       "True"
      ]
     },
     "execution_count": 68,
     "metadata": {},
     "output_type": "execute_result"
    }
   ],
   "source": [
    "1 < 2 > 1"
   ]
  },
  {
   "cell_type": "code",
   "execution_count": 69,
   "metadata": {
    "collapsed": false
   },
   "outputs": [
    {
     "data": {
      "text/plain": [
       "False"
      ]
     },
     "execution_count": 69,
     "metadata": {},
     "output_type": "execute_result"
    }
   ],
   "source": [
    "True != (False or True)"
   ]
  },
  {
   "cell_type": "code",
   "execution_count": 70,
   "metadata": {
    "collapsed": false
   },
   "outputs": [
    {
     "data": {
      "text/plain": [
       "True"
      ]
     },
     "execution_count": 70,
     "metadata": {},
     "output_type": "execute_result"
    }
   ],
   "source": [
    "True != False or True"
   ]
  },
  {
   "cell_type": "markdown",
   "metadata": {},
   "source": [
    "## Indentation and whitespace\n",
    "\n",
    "In Python, statement grouping is done by indentation (this is mandatory), which are done by inserting whitespaces, not tabs. Indentation is also recommended for alignment of function calling that span more than one line for better clarity.   \n",
    "We will see examples of indentation in the next session."
   ]
  },
  {
   "cell_type": "markdown",
   "metadata": {},
   "source": [
    "## Control of flow\n",
    "\n",
    "### `if`...`elif`...`else`\n",
    "\n",
    "Conditional statements (to peform something if another thing is True or False) can be implemmented using the `if` statement:\n",
    "```\n",
    "if expression:\n",
    "   statement\n",
    "elif:\n",
    "   statement     \n",
    "else:\n",
    "   statement\n",
    "```\n",
    "`elif` (one or more) and `else` are optionals.   \n",
    "The indentation is obligatory.   \n",
    "For example:"
   ]
  },
  {
   "cell_type": "code",
   "execution_count": 71,
   "metadata": {
    "collapsed": false
   },
   "outputs": [],
   "source": [
    "if True:\n",
    "    pass"
   ]
  },
  {
   "cell_type": "markdown",
   "metadata": {},
   "source": [
    "Which does nothing useful.   \n",
    "\n",
    "Let's use the `if`...`elif`...`else` statements to categorize the [body mass index](http://en.wikipedia.org/wiki/Body_mass_index) of a person:"
   ]
  },
  {
   "cell_type": "code",
   "execution_count": 72,
   "metadata": {
    "collapsed": false
   },
   "outputs": [],
   "source": [
    "# body mass index\n",
    "weight = 100  # kg\n",
    "height = 1.70  # m\n",
    "bmi = weight / height**2"
   ]
  },
  {
   "cell_type": "code",
   "execution_count": 73,
   "metadata": {
    "collapsed": false
   },
   "outputs": [
    {
     "name": "stdout",
     "output_type": "stream",
     "text": [
      "For a weight of 100.0 kg and a height of 1.70 m,\n",
      "the body mass index (bmi) is 34.6 kg/m2,\n",
      "which is considered moderately obese.\n"
     ]
    }
   ],
   "source": [
    "if bmi < 15:\n",
    "    c = 'very severely underweight'\n",
    "elif 15 <= bmi < 16:\n",
    "    c = 'severely underweight'\n",
    "elif 16 <= bmi < 18.5:\n",
    "    c = 'underweight'\n",
    "elif 18.5 <= bmi < 25:\n",
    "    c = 'normal'\n",
    "elif 25 <= bmi < 30:\n",
    "    c = 'overweight'\n",
    "elif 30 <= bmi < 35:\n",
    "    c = 'moderately obese'\n",
    "elif 35 <= bmi < 40:\n",
    "    c = 'severely obese'\n",
    "else:\n",
    "    c = 'very severely obese'\n",
    "    \n",
    "print('For a weight of {0:.1f} kg and a height of {1:.2f} m,\\n\\\n",
    "the body mass index (bmi) is {2:.1f} kg/m2,\\nwhich is considered {3:s}.'\\\n",
    "      .format(weight, height, bmi, c))"
   ]
  },
  {
   "cell_type": "markdown",
   "metadata": {},
   "source": [
    "### for\n",
    "\n",
    "The `for` statement iterates over a sequence to perform operations (a loop event).\n",
    "```\n",
    "for iterating_var in sequence:\n",
    "    statements\n",
    "```"
   ]
  },
  {
   "cell_type": "code",
   "execution_count": 12,
   "metadata": {
    "collapsed": false
   },
   "outputs": [
    {
     "name": "stdout",
     "output_type": "stream",
     "text": [
      "3\n",
      "2\n",
      "1\n",
      "go!\n"
     ]
    }
   ],
   "source": [
    "for i in [3, 2, 1, 'go!']:\n",
    "    print(i),"
   ]
  },
  {
   "cell_type": "code",
   "execution_count": 13,
   "metadata": {
    "collapsed": false
   },
   "outputs": [
    {
     "name": "stdout",
     "output_type": "stream",
     "text": [
      "P\n",
      "y\n",
      "t\n",
      "h\n",
      "o\n",
      "n\n"
     ]
    }
   ],
   "source": [
    "for letter in 'Python':\n",
    "    print(letter),"
   ]
  },
  {
   "cell_type": "markdown",
   "metadata": {},
   "source": [
    "#### The `range()` function\n",
    "\n",
    "The built-in function range() is useful if we need to create a sequence of numbers, for example, to iterate over this list. It generates lists containing arithmetic progressions:"
   ]
  },
  {
   "cell_type": "code",
   "execution_count": 14,
   "metadata": {
    "collapsed": false
   },
   "outputs": [
    {
     "name": "stdout",
     "output_type": "stream",
     "text": [
      "Help on class range in module builtins:\n",
      "\n",
      "class range(object)\n",
      " |  range(stop) -> range object\n",
      " |  range(start, stop[, step]) -> range object\n",
      " |  \n",
      " |  Return a sequence of numbers from start to stop by step.\n",
      " |  \n",
      " |  Methods defined here:\n",
      " |  \n",
      " |  __contains__(self, key, /)\n",
      " |      Return key in self.\n",
      " |  \n",
      " |  __eq__(self, value, /)\n",
      " |      Return self==value.\n",
      " |  \n",
      " |  __ge__(self, value, /)\n",
      " |      Return self>=value.\n",
      " |  \n",
      " |  __getattribute__(self, name, /)\n",
      " |      Return getattr(self, name).\n",
      " |  \n",
      " |  __getitem__(self, key, /)\n",
      " |      Return self[key].\n",
      " |  \n",
      " |  __gt__(self, value, /)\n",
      " |      Return self>value.\n",
      " |  \n",
      " |  __hash__(self, /)\n",
      " |      Return hash(self).\n",
      " |  \n",
      " |  __iter__(self, /)\n",
      " |      Implement iter(self).\n",
      " |  \n",
      " |  __le__(self, value, /)\n",
      " |      Return self<=value.\n",
      " |  \n",
      " |  __len__(self, /)\n",
      " |      Return len(self).\n",
      " |  \n",
      " |  __lt__(self, value, /)\n",
      " |      Return self<value.\n",
      " |  \n",
      " |  __ne__(self, value, /)\n",
      " |      Return self!=value.\n",
      " |  \n",
      " |  __new__(*args, **kwargs) from builtins.type\n",
      " |      Create and return a new object.  See help(type) for accurate signature.\n",
      " |  \n",
      " |  __reduce__(...)\n",
      " |  \n",
      " |  __repr__(self, /)\n",
      " |      Return repr(self).\n",
      " |  \n",
      " |  __reversed__(...)\n",
      " |      Return a reverse iterator.\n",
      " |  \n",
      " |  count(...)\n",
      " |      rangeobject.count(value) -> integer -- return number of occurrences of value\n",
      " |  \n",
      " |  index(...)\n",
      " |      rangeobject.index(value, [start, [stop]]) -> integer -- return index of value.\n",
      " |      Raise ValueError if the value is not present.\n",
      " |  \n",
      " |  ----------------------------------------------------------------------\n",
      " |  Data descriptors defined here:\n",
      " |  \n",
      " |  start\n",
      " |  \n",
      " |  step\n",
      " |  \n",
      " |  stop\n",
      "\n"
     ]
    }
   ],
   "source": [
    "help(range)"
   ]
  },
  {
   "cell_type": "code",
   "execution_count": 15,
   "metadata": {
    "collapsed": false
   },
   "outputs": [
    {
     "data": {
      "text/plain": [
       "range(0, 10)"
      ]
     },
     "execution_count": 15,
     "metadata": {},
     "output_type": "execute_result"
    }
   ],
   "source": [
    "range(10)"
   ]
  },
  {
   "cell_type": "code",
   "execution_count": 16,
   "metadata": {
    "collapsed": false
   },
   "outputs": [
    {
     "data": {
      "text/plain": [
       "range(1, 10, 2)"
      ]
     },
     "execution_count": 16,
     "metadata": {},
     "output_type": "execute_result"
    }
   ],
   "source": [
    "range(1, 10, 2)"
   ]
  },
  {
   "cell_type": "code",
   "execution_count": 17,
   "metadata": {
    "collapsed": false
   },
   "outputs": [
    {
     "name": "stdout",
     "output_type": "stream",
     "text": [
      "0\n",
      "1\n",
      "4\n",
      "9\n",
      "16\n",
      "25\n",
      "36\n",
      "49\n",
      "64\n",
      "81\n"
     ]
    }
   ],
   "source": [
    "for i in range(10):\n",
    "    n2 = i**2\n",
    "    print(n2),"
   ]
  },
  {
   "cell_type": "markdown",
   "metadata": {},
   "source": [
    "### while\n",
    "\n",
    "The `while` statement is used for repeating sections of code in a loop until a condition is met (this different than the `for` statement which executes n times):\n",
    "```\n",
    "while expression:\n",
    "    statement\n",
    "```\n",
    "Let's generate the Fibonacci series using a `while` loop:"
   ]
  },
  {
   "cell_type": "code",
   "execution_count": 18,
   "metadata": {
    "collapsed": false
   },
   "outputs": [
    {
     "name": "stdout",
     "output_type": "stream",
     "text": [
      "1   1   2   3   5   8   13   21   34   55   89   144   233   377   610   987   "
     ]
    }
   ],
   "source": [
    "# Fibonacci series: the sum of two elements defines the next\n",
    "a, b = 0, 1\n",
    "while b < 1000:\n",
    "    print(b, end='   ')\n",
    "    a, b = b, a+b"
   ]
  },
  {
   "cell_type": "markdown",
   "metadata": {},
   "source": [
    "## Function definition\n",
    "\n",
    "A function in a programming language is a piece of code that performs a specific task. Functions are used to reduce duplication of code making easier to reuse it and to decompose complex problems into simpler parts. The use of functions contribute to the clarity of the code.\n",
    "\n",
    "A function is created with the `def` keyword and the statements in the block of the function must be indented:"
   ]
  },
  {
   "cell_type": "code",
   "execution_count": 19,
   "metadata": {
    "collapsed": false
   },
   "outputs": [],
   "source": [
    "def function():\n",
    "    pass"
   ]
  },
  {
   "cell_type": "markdown",
   "metadata": {},
   "source": [
    "As per construction, this function does nothing when called:"
   ]
  },
  {
   "cell_type": "code",
   "execution_count": 21,
   "metadata": {
    "collapsed": false
   },
   "outputs": [],
   "source": [
    "function()"
   ]
  },
  {
   "cell_type": "markdown",
   "metadata": {},
   "source": [
    "The general syntax of a function definition is:\n",
    "```\n",
    "def function_name( parameters ):\n",
    "   \"\"\"Function docstring.\n",
    "\n",
    "   The help for the function\n",
    "\n",
    "   \"\"\"\n",
    "\n",
    "   function body\n",
    "\n",
    "   return variables\n",
    "```\n",
    "A more useful function:"
   ]
  },
  {
   "cell_type": "code",
   "execution_count": 22,
   "metadata": {
    "collapsed": false
   },
   "outputs": [],
   "source": [
    "def fibo(N):\n",
    "    \"\"\"Fibonacci series: the sum of two elements defines the next.\n",
    "    \n",
    "    The series is calculated till the input parameter N and\n",
    "    returned as an ouput variable.\n",
    "    \n",
    "    \"\"\"\n",
    "    \n",
    "    a, b, c = 0, 1, []\n",
    "    while b < N:\n",
    "        c.append(b)\n",
    "        a, b = b, a + b\n",
    "        \n",
    "    return c"
   ]
  },
  {
   "cell_type": "code",
   "execution_count": 23,
   "metadata": {
    "collapsed": false
   },
   "outputs": [
    {
     "data": {
      "text/plain": [
       "[1, 1, 2, 3, 5, 8, 13, 21, 34, 55, 89]"
      ]
     },
     "execution_count": 23,
     "metadata": {},
     "output_type": "execute_result"
    }
   ],
   "source": [
    "fibo(100)"
   ]
  },
  {
   "cell_type": "code",
   "execution_count": 24,
   "metadata": {
    "collapsed": false
   },
   "outputs": [
    {
     "name": "stdout",
     "output_type": "stream",
     "text": [
      "teste\n"
     ]
    }
   ],
   "source": [
    "if 3 > 2:\n",
    "       print('teste')"
   ]
  },
  {
   "cell_type": "markdown",
   "metadata": {},
   "source": [
    "Let's implemment the body mass index calculus and categorization as a function:"
   ]
  },
  {
   "cell_type": "code",
   "execution_count": 12,
   "metadata": {
    "collapsed": false
   },
   "outputs": [],
   "source": [
    "def bmi(weight, height):\n",
    "    \"\"\"Body mass index calculus and categorization.\n",
    "    \n",
    "    Enter the weight in kg and the height in m.\n",
    "    See http://en.wikipedia.org/wiki/Body_mass_index\n",
    "    \n",
    "    \"\"\"\n",
    "    \n",
    "    bmi = weight / height**2\n",
    "    \n",
    "    if bmi < 15:\n",
    "     c = 'very severely underweight'\n",
    "    elif 15 <= bmi < 16:\n",
    "        c = 'severely underweight'\n",
    "    elif 16 <= bmi < 18.5:\n",
    "        c = 'underweight'\n",
    "    elif 18.5 <= bmi < 25:\n",
    "        c = 'normal'\n",
    "    elif 25 <= bmi < 30:\n",
    "      c = 'overweight'\n",
    "    elif 30 <= bmi < 35:\n",
    "        c = 'moderately obese'\n",
    "    elif 35 <= bmi < 40:\n",
    "        c = 'severely obese'\n",
    "    else:\n",
    "        c = 'very severely obese'\n",
    "     \n",
    "    s = 'For a weight of {0:.1f} kg and a height of {1:.2f} m,\\\n",
    "    the body mass index (bmi) is {2:.1f} kg/m2,\\\n",
    "    which is considered {3:s}.'\\\n",
    "    .format(weight, height, bmi, c)\n",
    "    \n",
    "    print(s)"
   ]
  },
  {
   "cell_type": "code",
   "execution_count": 13,
   "metadata": {
    "collapsed": false
   },
   "outputs": [
    {
     "name": "stdout",
     "output_type": "stream",
     "text": [
      "For a weight of 73.0 kg and a height of 1.70 m,    the body mass index (bmi) is 25.3 kg/m2,    which is considered overweight.\n"
     ]
    }
   ],
   "source": [
    "bmi(73, 1.70)"
   ]
  },
  {
   "cell_type": "markdown",
   "metadata": {},
   "source": [
    "## Numeric data manipulation with Numpy\n",
    "\n",
    "Numpy is the fundamental package for scientific computing in Python and has a N-dimensional array package convenient to work with numerical data. With Numpy it's much easier and faster to work with numbers grouped as 1-D arrays (a vector), 2-D arrays (like a table or matrix), or higher dimensions. Let's create 1-D and 2-D arrays in Numpy:"
   ]
  },
  {
   "cell_type": "code",
   "execution_count": 87,
   "metadata": {
    "collapsed": false,
    "run_control": {
     "breakpoint": false
    }
   },
   "outputs": [],
   "source": [
    "import numpy as np"
   ]
  },
  {
   "cell_type": "code",
   "execution_count": 88,
   "metadata": {
    "collapsed": false,
    "run_control": {
     "breakpoint": false
    }
   },
   "outputs": [
    {
     "name": "stdout",
     "output_type": "stream",
     "text": [
      "<class 'numpy.ndarray'>\n"
     ]
    },
    {
     "data": {
      "text/plain": [
       "array([1, 2, 3, 4, 5, 6])"
      ]
     },
     "execution_count": 88,
     "metadata": {},
     "output_type": "execute_result"
    }
   ],
   "source": [
    "x1d = np.array([1, 2, 3, 4, 5, 6])\n",
    "print(type(x1d))\n",
    "x1d"
   ]
  },
  {
   "cell_type": "code",
   "execution_count": 89,
   "metadata": {
    "collapsed": false,
    "run_control": {
     "breakpoint": false
    }
   },
   "outputs": [
    {
     "data": {
      "text/plain": [
       "array([[1, 2, 3],\n",
       "       [4, 5, 6]])"
      ]
     },
     "execution_count": 89,
     "metadata": {},
     "output_type": "execute_result"
    }
   ],
   "source": [
    "x2d = np.array([[1, 2, 3], [4, 5, 6]])\n",
    "x2d"
   ]
  },
  {
   "cell_type": "markdown",
   "metadata": {},
   "source": [
    "len() and the Numpy functions size() and shape() give information aboout the number of elements and the structure of the Numpy array:"
   ]
  },
  {
   "cell_type": "code",
   "execution_count": 90,
   "metadata": {
    "collapsed": false,
    "run_control": {
     "breakpoint": false
    }
   },
   "outputs": [
    {
     "name": "stdout",
     "output_type": "stream",
     "text": [
      "1-d array:\n",
      "[1 2 3 4 5 6]\n",
      "len(x1d) =  6\n",
      "np.size(x1d) =  6\n",
      "np.shape(x1d) =  (6,)\n",
      "np.ndim(x1d) =  1\n",
      "\n",
      "2-d array:\n",
      "[[1 2 3]\n",
      " [4 5 6]]\n",
      "len(x2d) =  2\n",
      "np.size(x2d) =  6\n",
      "np.shape(x2d) =  (2, 3)\n",
      "np.ndim(x2d) =  2\n"
     ]
    }
   ],
   "source": [
    "print('1-d array:')\n",
    "print(x1d)\n",
    "print('len(x1d) = ', len(x1d))\n",
    "print('np.size(x1d) = ', np.size(x1d))\n",
    "print('np.shape(x1d) = ', np.shape(x1d))\n",
    "print('np.ndim(x1d) = ', np.ndim(x1d))\n",
    "print('\\n2-d array:')\n",
    "print(x2d)\n",
    "print('len(x2d) = ', len(x2d))\n",
    "print('np.size(x2d) = ', np.size(x2d))\n",
    "print('np.shape(x2d) = ', np.shape(x2d))\n",
    "print('np.ndim(x2d) = ', np.ndim(x2d))"
   ]
  },
  {
   "cell_type": "markdown",
   "metadata": {},
   "source": [
    "Create random data"
   ]
  },
  {
   "cell_type": "code",
   "execution_count": 91,
   "metadata": {
    "collapsed": false,
    "run_control": {
     "breakpoint": false
    }
   },
   "outputs": [
    {
     "data": {
      "text/plain": [
       "array([[-0.84313748,  0.7128172 ,  0.26805518],\n",
       "       [ 1.66552011,  0.81119094,  0.72512201],\n",
       "       [-2.6924966 ,  1.75984096,  0.58488695],\n",
       "       [ 0.64630267, -0.8719821 , -0.8510621 ]])"
      ]
     },
     "execution_count": 91,
     "metadata": {},
     "output_type": "execute_result"
    }
   ],
   "source": [
    "x = np.random.randn(4,3)\n",
    "x"
   ]
  },
  {
   "cell_type": "markdown",
   "metadata": {},
   "source": [
    "Joining (stacking together) arrays"
   ]
  },
  {
   "cell_type": "code",
   "execution_count": 92,
   "metadata": {
    "collapsed": false,
    "run_control": {
     "breakpoint": false
    }
   },
   "outputs": [
    {
     "name": "stdout",
     "output_type": "stream",
     "text": [
      "[[0 4 0]\n",
      " [3 1 2]]\n",
      "[[6 9 6]\n",
      " [6 5 5]]\n"
     ]
    }
   ],
   "source": [
    "x = np.random.randint(0, 5, size=(2, 3))\n",
    "print(x)\n",
    "y = np.random.randint(5, 10, size=(2, 3))\n",
    "print(y)"
   ]
  },
  {
   "cell_type": "code",
   "execution_count": 93,
   "metadata": {
    "collapsed": false,
    "run_control": {
     "breakpoint": false
    }
   },
   "outputs": [
    {
     "data": {
      "text/plain": [
       "array([[0, 4, 0],\n",
       "       [3, 1, 2],\n",
       "       [6, 9, 6],\n",
       "       [6, 5, 5]])"
      ]
     },
     "execution_count": 93,
     "metadata": {},
     "output_type": "execute_result"
    }
   ],
   "source": [
    "np.vstack((x,y))"
   ]
  },
  {
   "cell_type": "code",
   "execution_count": 94,
   "metadata": {
    "collapsed": false,
    "run_control": {
     "breakpoint": false
    }
   },
   "outputs": [
    {
     "data": {
      "text/plain": [
       "array([[0, 4, 0, 6, 9, 6],\n",
       "       [3, 1, 2, 6, 5, 5]])"
      ]
     },
     "execution_count": 94,
     "metadata": {},
     "output_type": "execute_result"
    }
   ],
   "source": [
    "np.hstack((x,y))"
   ]
  },
  {
   "cell_type": "markdown",
   "metadata": {},
   "source": [
    "Create equally spaced data"
   ]
  },
  {
   "cell_type": "code",
   "execution_count": 95,
   "metadata": {
    "collapsed": false,
    "run_control": {
     "breakpoint": false
    }
   },
   "outputs": [
    {
     "data": {
      "text/plain": [
       "array([1, 3, 5, 7, 9])"
      ]
     },
     "execution_count": 95,
     "metadata": {},
     "output_type": "execute_result"
    }
   ],
   "source": [
    "np.arange(start = 1, stop = 10, step = 2)"
   ]
  },
  {
   "cell_type": "code",
   "execution_count": 96,
   "metadata": {
    "collapsed": false,
    "run_control": {
     "breakpoint": false
    }
   },
   "outputs": [
    {
     "data": {
      "text/plain": [
       "array([ 0. ,  0.1,  0.2,  0.3,  0.4,  0.5,  0.6,  0.7,  0.8,  0.9,  1. ])"
      ]
     },
     "execution_count": 96,
     "metadata": {},
     "output_type": "execute_result"
    }
   ],
   "source": [
    "np.linspace(start = 0, stop = 1, num = 11)"
   ]
  },
  {
   "cell_type": "markdown",
   "metadata": {},
   "source": [
    "### Interpolation\n",
    "\n",
    "Consider the following data:"
   ]
  },
  {
   "cell_type": "code",
   "execution_count": 97,
   "metadata": {
    "collapsed": false,
    "run_control": {
     "breakpoint": false
    }
   },
   "outputs": [],
   "source": [
    "y = [5,  4, 10,  8,  1, 10,  2,  7,  1,  3]"
   ]
  },
  {
   "cell_type": "markdown",
   "metadata": {},
   "source": [
    "Suppose we want to create data in between the given data points (interpolation); for instance, let's try to double the resolution of the data by generating twice as many data:"
   ]
  },
  {
   "cell_type": "code",
   "execution_count": 98,
   "metadata": {
    "collapsed": false,
    "run_control": {
     "breakpoint": false
    }
   },
   "outputs": [
    {
     "data": {
      "text/plain": [
       "array([ 5.        ,  4.52631579,  4.05263158,  6.52631579,  9.36842105,\n",
       "        9.26315789,  8.31578947,  5.78947368,  2.47368421,  3.36842105,\n",
       "        7.63157895,  8.31578947,  4.52631579,  2.78947368,  5.15789474,\n",
       "        6.36842105,  3.52631579,  1.10526316,  2.05263158,  3.        ])"
      ]
     },
     "execution_count": 98,
     "metadata": {},
     "output_type": "execute_result"
    }
   ],
   "source": [
    "t = np.linspace(0, len(y), len(y))       # time vector for the original data\n",
    "tn = np.linspace(0, len(y), 2 * len(y))  # new time vector for the new time-normalized data\n",
    "yn = np.interp(tn, t, y)                 # new time-normalized data\n",
    "yn"
   ]
  },
  {
   "cell_type": "markdown",
   "metadata": {},
   "source": [
    "The key is the Numpy `interp` function, from its help:   \n",
    "\n",
    "    interp(x, xp, fp, left=None, right=None)       \n",
    "    One-dimensional linear interpolation.   \n",
    "    Returns the one-dimensional piecewise linear interpolant to a function with given values at discrete data-points.\n",
    "\n",
    "A plot of the data will show what we have done:"
   ]
  },
  {
   "cell_type": "code",
   "execution_count": 99,
   "metadata": {
    "collapsed": false,
    "run_control": {
     "breakpoint": false
    }
   },
   "outputs": [
    {
     "data": {
      "image/png": "[encoded data removed]",
      "text/plain": [
       "<matplotlib.figure.Figure at 0x5cd3860>"
      ]
     },
     "metadata": {},
     "output_type": "display_data"
    }
   ],
   "source": [
    "%matplotlib inline\n",
    "import matplotlib.pyplot as plt\n",
    "plt.figure(figsize=(10,5))\n",
    "plt.plot(t, y, 'bo-', lw=2, label='original data')\n",
    "plt.plot(tn, yn, '.-', color=[1, 0, 0, .5], lw=2, label='interpolated')\n",
    "plt.legend(loc='best', framealpha=.5)\n",
    "plt.show()"
   ]
  },
  {
   "cell_type": "markdown",
   "metadata": {},
   "source": [
    "For more about Numpy, see [http://wiki.scipy.org/Tentative_NumPy_Tutorial](http://wiki.scipy.org/Tentative_NumPy_Tutorial)."
   ]
  },
  {
   "cell_type": "markdown",
   "metadata": {},
   "source": [
    "## Read and save files\n",
    "\n",
    "There are two kinds of computer files: text files and binary files:\n",
    "> Text file: computer file where the content is structured as a sequence of lines of electronic text. Text files can contain plain text (letters, numbers, and symbols) but they are not limited to such. The type of content in the text file is defined by the Unicode encoding (a computing industry standard for the consistent encoding, representation and handling of text expressed in most of the world's writing systems).   \n",
    ">\n",
    "> Binary file: computer file where the content is encoded in binary form, a sequence of integers representing byte values.\n",
    "\n",
    "Let's see how to save and read numeric data stored in a text file:\n",
    "\n",
    "**Using plain Python**"
   ]
  },
  {
   "cell_type": "code",
   "execution_count": 100,
   "metadata": {
    "collapsed": false,
    "run_control": {
     "breakpoint": false
    }
   },
   "outputs": [
    {
     "name": "stdout",
     "output_type": "stream",
     "text": [
      "This is a test\n",
      "And here is another line\n",
      "\n"
     ]
    }
   ],
   "source": [
    "f = open(\"newfile.txt\", \"w\")           # open file for writing\n",
    "f.write(\"This is a test\\n\")            # save to file\n",
    "f.write(\"And here is another line\\n\")  # save to file\n",
    "f.close()\n",
    "f = open('newfile.txt', 'r')           # open file for reading\n",
    "f = f.read()                           # read from file\n",
    "print(f)"
   ]
  },
  {
   "cell_type": "code",
   "execution_count": 101,
   "metadata": {
    "collapsed": false,
    "run_control": {
     "breakpoint": false
    }
   },
   "outputs": [
    {
     "name": "stdout",
     "output_type": "stream",
     "text": [
      "Help on built-in function open in module io:\n",
      "\n",
      "open(...)\n",
      "    open(file, mode='r', buffering=-1, encoding=None,\n",
      "         errors=None, newline=None, closefd=True, opener=None) -> file object\n",
      "    \n",
      "    Open file and return a stream.  Raise IOError upon failure.\n",
      "    \n",
      "    file is either a text or byte string giving the name (and the path\n",
      "    if the file isn't in the current working directory) of the file to\n",
      "    be opened or an integer file descriptor of the file to be\n",
      "    wrapped. (If a file descriptor is given, it is closed when the\n",
      "    returned I/O object is closed, unless closefd is set to False.)\n",
      "    \n",
      "    mode is an optional string that specifies the mode in which the file\n",
      "    is opened. It defaults to 'r' which means open for reading in text\n",
      "    mode.  Other common values are 'w' for writing (truncating the file if\n",
      "    it already exists), 'x' for creating and writing to a new file, and\n",
      "    'a' for appending (which on some Unix systems, means that all writes\n",
      "    append to the end of the file regardless of the current seek position).\n",
      "    In text mode, if encoding is not specified the encoding used is platform\n",
      "    dependent: locale.getpreferredencoding(False) is called to get the\n",
      "    current locale encoding. (For reading and writing raw bytes use binary\n",
      "    mode and leave encoding unspecified.) The available modes are:\n",
      "    \n",
      "    ========= ===============================================================\n",
      "    Character Meaning\n",
      "    --------- ---------------------------------------------------------------\n",
      "    'r'       open for reading (default)\n",
      "    'w'       open for writing, truncating the file first\n",
      "    'x'       create a new file and open it for writing\n",
      "    'a'       open for writing, appending to the end of the file if it exists\n",
      "    'b'       binary mode\n",
      "    't'       text mode (default)\n",
      "    '+'       open a disk file for updating (reading and writing)\n",
      "    'U'       universal newline mode (deprecated)\n",
      "    ========= ===============================================================\n",
      "    \n",
      "    The default mode is 'rt' (open for reading text). For binary random\n",
      "    access, the mode 'w+b' opens and truncates the file to 0 bytes, while\n",
      "    'r+b' opens the file without truncation. The 'x' mode implies 'w' and\n",
      "    raises an `FileExistsError` if the file already exists.\n",
      "    \n",
      "    Python distinguishes between files opened in binary and text modes,\n",
      "    even when the underlying operating system doesn't. Files opened in\n",
      "    binary mode (appending 'b' to the mode argument) return contents as\n",
      "    bytes objects without any decoding. In text mode (the default, or when\n",
      "    't' is appended to the mode argument), the contents of the file are\n",
      "    returned as strings, the bytes having been first decoded using a\n",
      "    platform-dependent encoding or using the specified encoding if given.\n",
      "    \n",
      "    'U' mode is deprecated and will raise an exception in future versions\n",
      "    of Python.  It has no effect in Python 3.  Use newline to control\n",
      "    universal newlines mode.\n",
      "    \n",
      "    buffering is an optional integer used to set the buffering policy.\n",
      "    Pass 0 to switch buffering off (only allowed in binary mode), 1 to select\n",
      "    line buffering (only usable in text mode), and an integer > 1 to indicate\n",
      "    the size of a fixed-size chunk buffer.  When no buffering argument is\n",
      "    given, the default buffering policy works as follows:\n",
      "    \n",
      "    * Binary files are buffered in fixed-size chunks; the size of the buffer\n",
      "      is chosen using a heuristic trying to determine the underlying device's\n",
      "      \"block size\" and falling back on `io.DEFAULT_BUFFER_SIZE`.\n",
      "      On many systems, the buffer will typically be 4096 or 8192 bytes long.\n",
      "    \n",
      "    * \"Interactive\" text files (files for which isatty() returns True)\n",
      "      use line buffering.  Other text files use the policy described above\n",
      "      for binary files.\n",
      "    \n",
      "    encoding is the name of the encoding used to decode or encode the\n",
      "    file. This should only be used in text mode. The default encoding is\n",
      "    platform dependent, but any encoding supported by Python can be\n",
      "    passed.  See the codecs module for the list of supported encodings.\n",
      "    \n",
      "    errors is an optional string that specifies how encoding errors are to\n",
      "    be handled---this argument should not be used in binary mode. Pass\n",
      "    'strict' to raise a ValueError exception if there is an encoding error\n",
      "    (the default of None has the same effect), or pass 'ignore' to ignore\n",
      "    errors. (Note that ignoring encoding errors can lead to data loss.)\n",
      "    See the documentation for codecs.register or run 'help(codecs.Codec)'\n",
      "    for a list of the permitted encoding error strings.\n",
      "    \n",
      "    newline controls how universal newlines works (it only applies to text\n",
      "    mode). It can be None, '', '\\n', '\\r', and '\\r\\n'.  It works as\n",
      "    follows:\n",
      "    \n",
      "    * On input, if newline is None, universal newlines mode is\n",
      "      enabled. Lines in the input can end in '\\n', '\\r', or '\\r\\n', and\n",
      "      these are translated into '\\n' before being returned to the\n",
      "      caller. If it is '', universal newline mode is enabled, but line\n",
      "      endings are returned to the caller untranslated. If it has any of\n",
      "      the other legal values, input lines are only terminated by the given\n",
      "      string, and the line ending is returned to the caller untranslated.\n",
      "    \n",
      "    * On output, if newline is None, any '\\n' characters written are\n",
      "      translated to the system default line separator, os.linesep. If\n",
      "      newline is '' or '\\n', no translation takes place. If newline is any\n",
      "      of the other legal values, any '\\n' characters written are translated\n",
      "      to the given string.\n",
      "    \n",
      "    If closefd is False, the underlying file descriptor will be kept open\n",
      "    when the file is closed. This does not work when a file name is given\n",
      "    and must be True in that case.\n",
      "    \n",
      "    A custom opener can be used by passing a callable as *opener*. The\n",
      "    underlying file descriptor for the file object is then obtained by\n",
      "    calling *opener* with (*file*, *flags*). *opener* must return an open\n",
      "    file descriptor (passing os.open as *opener* results in functionality\n",
      "    similar to passing None).\n",
      "    \n",
      "    open() returns a file object whose type depends on the mode, and\n",
      "    through which the standard file operations such as reading and writing\n",
      "    are performed. When open() is used to open a file in a text mode ('w',\n",
      "    'r', 'wt', 'rt', etc.), it returns a TextIOWrapper. When used to open\n",
      "    a file in a binary mode, the returned class varies: in read binary\n",
      "    mode, it returns a BufferedReader; in write binary and append binary\n",
      "    modes, it returns a BufferedWriter, and in read/write mode, it returns\n",
      "    a BufferedRandom.\n",
      "    \n",
      "    It is also possible to use a string or bytearray as a file for both\n",
      "    reading and writing. For strings StringIO can be used like a file\n",
      "    opened in a text mode, and for bytes a BytesIO can be used like a file\n",
      "    opened in a binary mode.\n",
      "\n"
     ]
    }
   ],
   "source": [
    "help(open)"
   ]
  },
  {
   "cell_type": "markdown",
   "metadata": {},
   "source": [
    "**Using Numpy**"
   ]
  },
  {
   "cell_type": "code",
   "execution_count": 102,
   "metadata": {
    "collapsed": false,
    "run_control": {
     "breakpoint": false
    }
   },
   "outputs": [
    {
     "data": {
      "text/plain": [
       "array([[-0.113108,  0.510521, -0.240193],\n",
       "       [-0.448538, -0.348518, -1.97899 ],\n",
       "       [ 0.21628 , -0.572211, -1.49621 ]])"
      ]
     },
     "execution_count": 102,
     "metadata": {},
     "output_type": "execute_result"
    }
   ],
   "source": [
    "import numpy as np\n",
    "data = np.random.randn(3,3)\n",
    "np.savetxt('myfile.txt', data, fmt=\"%12.6G\")    # save to file\n",
    "data = np.genfromtxt('myfile.txt', unpack=True) # read from file\n",
    "data"
   ]
  },
  {
   "cell_type": "markdown",
   "metadata": {},
   "source": [
    "## Ploting with matplotlib\n",
    "\n",
    "Matplotlib is the most-widely used packge for plotting data in Python. Let's see some examples of it."
   ]
  },
  {
   "cell_type": "code",
   "execution_count": 25,
   "metadata": {
    "collapsed": false,
    "run_control": {
     "breakpoint": false
    }
   },
   "outputs": [],
   "source": [
    "import matplotlib.pyplot as plt"
   ]
  },
  {
   "cell_type": "markdown",
   "metadata": {},
   "source": [
    "Use the IPython magic `%matplotlib inline` to plot a figure inline in the notebook with the rest of the text:"
   ]
  },
  {
   "cell_type": "code",
   "execution_count": 27,
   "metadata": {
    "collapsed": false,
    "run_control": {
     "breakpoint": false
    }
   },
   "outputs": [
    {
     "name": "stderr",
     "output_type": "stream",
     "text": [
      "C:\\Miniconda3\\lib\\site-packages\\IPython\\kernel\\__init__.py:13: ShimWarning: The `IPython.kernel` package has been deprecated. You should import from ipykernel or jupyter_client instead.\n",
      "  \"You should import from ipykernel or jupyter_client instead.\", ShimWarning)\n"
     ]
    }
   ],
   "source": [
    "%matplotlib notebook"
   ]
  },
  {
   "cell_type": "code",
   "execution_count": 28,
   "metadata": {
    "collapsed": false
   },
   "outputs": [],
   "source": [
    "import numpy as np"
   ]
  },
  {
   "cell_type": "code",
   "execution_count": 29,
   "metadata": {
    "collapsed": false,
    "run_control": {
     "breakpoint": false
    }
   },
   "outputs": [
    {
     "data": {
      "application/javascript": [
       "/* Put everything inside the global mpl namespace */\n",
       "window.mpl = {};\n",
       "\n",
       "mpl.get_websocket_type = function() {\n",
       "    if (typeof(WebSocket) !== 'undefined') {\n",
       "        return WebSocket;\n",
       "    } else if (typeof(MozWebSocket) !== 'undefined') {\n",
       "        return MozWebSocket;\n",
       "    } else {\n",
       "        alert('Your browser does not have WebSocket support.' +\n",
       "              'Please try Chrome, Safari or Firefox ≥ 6. ' +\n",
       "              'Firefox 4 and 5 are also supported but you ' +\n",
       "              'have to enable WebSockets in about:config.');\n",
       "    };\n",
       "}\n",
       "\n",
       "mpl.figure = function(figure_id, websocket, ondownload, parent_element) {\n",
       "    this.id = figure_id;\n",
       "\n",
       "    this.ws = websocket;\n",
       "\n",
       "    this.supports_binary = (this.ws.binaryType != undefined);\n",
       "\n",
       "    if (!this.supports_binary) {\n",
       "        var warnings = document.getElementById(\"mpl-warnings\");\n",
       "        if (warnings) {\n",
       "            warnings.style.display = 'block';\n",
       "            warnings.textContent = (\n",
       "                \"This browser does not support binary websocket messages. \" +\n",
       "                    \"Performance may be slow.\");\n",
       "        }\n",
       "    }\n",
       "\n",
       "    this.imageObj = new Image();\n",
       "\n",
       "    this.context = undefined;\n",
       "    this.message = undefined;\n",
       "    this.canvas = undefined;\n",
       "    this.rubberband_canvas = undefined;\n",
       "    this.rubberband_context = undefined;\n",
       "    this.format_dropdown = undefined;\n",
       "\n",
       "    this.image_mode = 'full';\n",
       "\n",
       "    this.root = $('<div/>');\n",
       "    this._root_extra_style(this.root)\n",
       "    this.root.attr('style', 'display: inline-block');\n",
       "\n",
       "    $(parent_element).append(this.root);\n",
       "\n",
       "    this._init_header(this);\n",
       "    this._init_canvas(this);\n",
       "    this._init_toolbar(this);\n",
       "\n",
       "    var fig = this;\n",
       "\n",
       "    this.waiting = false;\n",
       "\n",
       "    this.ws.onopen =  function () {\n",
       "            fig.send_message(\"supports_binary\", {value: fig.supports_binary});\n",
       "            fig.send_message(\"send_image_mode\", {});\n",
       "            fig.send_message(\"refresh\", {});\n",
       "        }\n",
       "\n",
       "    this.imageObj.onload = function() {\n",
       "            if (fig.image_mode == 'full') {\n",
       "                // Full images could contain transparency (where diff images\n",
       "                // almost always do), so we need to clear the canvas so that\n",
       "                // there is no ghosting.\n",
       "                fig.context.clearRect(0, 0, fig.canvas.width, fig.canvas.height);\n",
       "            }\n",
       "            fig.context.drawImage(fig.imageObj, 0, 0);\n",
       "            fig.waiting = false;\n",
       "        };\n",
       "\n",
       "    this.imageObj.onunload = function() {\n",
       "        this.ws.close();\n",
       "    }\n",
       "\n",
       "    this.ws.onmessage = this._make_on_message_function(this);\n",
       "\n",
       "    this.ondownload = ondownload;\n",
       "}\n",
       "\n",
       "mpl.figure.prototype._init_header = function() {\n",
       "    var titlebar = $(\n",
       "        '<div class=\"ui-dialog-titlebar ui-widget-header ui-corner-all ' +\n",
       "        'ui-helper-clearfix\"/>');\n",
       "    var titletext = $(\n",
       "        '<div class=\"ui-dialog-title\" style=\"width: 100%; ' +\n",
       "        'text-align: center; padding: 3px;\"/>');\n",
       "    titlebar.append(titletext)\n",
       "    this.root.append(titlebar);\n",
       "    this.header = titletext[0];\n",
       "}\n",
       "\n",
       "\n",
       "\n",
       "mpl.figure.prototype._canvas_extra_style = function(canvas_div) {\n",
       "\n",
       "}\n",
       "\n",
       "\n",
       "mpl.figure.prototype._root_extra_style = function(canvas_div) {\n",
       "\n",
       "}\n",
       "\n",
       "mpl.figure.prototype._init_canvas = function() {\n",
       "    var fig = this;\n",
       "\n",
       "    var canvas_div = $('<div/>');\n",
       "\n",
       "    canvas_div.attr('style', 'position: relative; clear: both; outline: 0');\n",
       "\n",
       "    function canvas_keyboard_event(event) {\n",
       "        return fig.key_event(event, event['data']);\n",
       "    }\n",
       "\n",
       "    canvas_div.keydown('key_press', canvas_keyboard_event);\n",
       "    canvas_div.keyup('key_release', canvas_keyboard_event);\n",
       "    this.canvas_div = canvas_div\n",
       "    this._canvas_extra_style(canvas_div)\n",
       "    this.root.append(canvas_div);\n",
       "\n",
       "    var canvas = $('<canvas/>');\n",
       "    canvas.addClass('mpl-canvas');\n",
       "    canvas.attr('style', \"left: 0; top: 0; z-index: 0; outline: 0\")\n",
       "\n",
       "    this.canvas = canvas[0];\n",
       "    this.context = canvas[0].getContext(\"2d\");\n",
       "\n",
       "    var rubberband = $('<canvas/>');\n",
       "    rubberband.attr('style', \"position: absolute; left: 0; top: 0; z-index: 1;\")\n",
       "\n",
       "    var pass_mouse_events = true;\n",
       "\n",
       "    canvas_div.resizable({\n",
       "        start: function(event, ui) {\n",
       "            pass_mouse_events = false;\n",
       "        },\n",
       "        resize: function(event, ui) {\n",
       "            fig.request_resize(ui.size.width, ui.size.height);\n",
       "        },\n",
       "        stop: function(event, ui) {\n",
       "            pass_mouse_events = true;\n",
       "            fig.request_resize(ui.size.width, ui.size.height);\n",
       "        },\n",
       "    });\n",
       "\n",
       "    function mouse_event_fn(event) {\n",
       "        if (pass_mouse_events)\n",
       "            return fig.mouse_event(event, event['data']);\n",
       "    }\n",
       "\n",
       "    rubberband.mousedown('button_press', mouse_event_fn);\n",
       "    rubberband.mouseup('button_release', mouse_event_fn);\n",
       "    // Throttle sequential mouse events to 1 every 20ms.\n",
       "    rubberband.mousemove('motion_notify', mouse_event_fn);\n",
       "\n",
       "    rubberband.mouseenter('figure_enter', mouse_event_fn);\n",
       "    rubberband.mouseleave('figure_leave', mouse_event_fn);\n",
       "\n",
       "    canvas_div.on(\"wheel\", function (event) {\n",
       "        event = event.originalEvent;\n",
       "        event['data'] = 'scroll'\n",
       "        if (event.deltaY < 0) {\n",
       "            event.step = 1;\n",
       "        } else {\n",
       "            event.step = -1;\n",
       "        }\n",
       "        mouse_event_fn(event);\n",
       "    });\n",
       "\n",
       "    canvas_div.append(canvas);\n",
       "    canvas_div.append(rubberband);\n",
       "\n",
       "    this.rubberband = rubberband;\n",
       "    this.rubberband_canvas = rubberband[0];\n",
       "    this.rubberband_context = rubberband[0].getContext(\"2d\");\n",
       "    this.rubberband_context.strokeStyle = \"#000000\";\n",
       "\n",
       "    this._resize_canvas = function(width, height) {\n",
       "        // Keep the size of the canvas, canvas container, and rubber band\n",
       "        // canvas in synch.\n",
       "        canvas_div.css('width', width)\n",
       "        canvas_div.css('height', height)\n",
       "\n",
       "        canvas.attr('width', width);\n",
       "        canvas.attr('height', height);\n",
       "\n",
       "        rubberband.attr('width', width);\n",
       "        rubberband.attr('height', height);\n",
       "    }\n",
       "\n",
       "    // Set the figure to an initial 600x600px, this will subsequently be updated\n",
       "    // upon first draw.\n",
       "    this._resize_canvas(600, 600);\n",
       "\n",
       "    // Disable right mouse context menu.\n",
       "    $(this.rubberband_canvas).bind(\"contextmenu\",function(e){\n",
       "        return false;\n",
       "    });\n",
       "\n",
       "    function set_focus () {\n",
       "        canvas.focus();\n",
       "        canvas_div.focus();\n",
       "    }\n",
       "\n",
       "    window.setTimeout(set_focus, 100);\n",
       "}\n",
       "\n",
       "mpl.figure.prototype._init_toolbar = function() {\n",
       "    var fig = this;\n",
       "\n",
       "    var nav_element = $('<div/>')\n",
       "    nav_element.attr('style', 'width: 100%');\n",
       "    this.root.append(nav_element);\n",
       "\n",
       "    // Define a callback function for later on.\n",
       "    function toolbar_event(event) {\n",
       "        return fig.toolbar_button_onclick(event['data']);\n",
       "    }\n",
       "    function toolbar_mouse_event(event) {\n",
       "        return fig.toolbar_button_onmouseover(event['data']);\n",
       "    }\n",
       "\n",
       "    for(var toolbar_ind in mpl.toolbar_items) {\n",
       "        var name = mpl.toolbar_items[toolbar_ind][0];\n",
       "        var tooltip = mpl.toolbar_items[toolbar_ind][1];\n",
       "        var image = mpl.toolbar_items[toolbar_ind][2];\n",
       "        var method_name = mpl.toolbar_items[toolbar_ind][3];\n",
       "\n",
       "        if (!name) {\n",
       "            // put a spacer in here.\n",
       "            continue;\n",
       "        }\n",
       "        var button = $('<button/>');\n",
       "        button.addClass('ui-button ui-widget ui-state-default ui-corner-all ' +\n",
       "                        'ui-button-icon-only');\n",
       "        button.attr('role', 'button');\n",
       "        button.attr('aria-disabled', 'false');\n",
       "        button.click(method_name, toolbar_event);\n",
       "        button.mouseover(tooltip, toolbar_mouse_event);\n",
       "\n",
       "        var icon_img = $('<span/>');\n",
       "        icon_img.addClass('ui-button-icon-primary ui-icon');\n",
       "        icon_img.addClass(image);\n",
       "        icon_img.addClass('ui-corner-all');\n",
       "\n",
       "        var tooltip_span = $('<span/>');\n",
       "        tooltip_span.addClass('ui-button-text');\n",
       "        tooltip_span.html(tooltip);\n",
       "\n",
       "        button.append(icon_img);\n",
       "        button.append(tooltip_span);\n",
       "\n",
       "        nav_element.append(button);\n",
       "    }\n",
       "\n",
       "    var fmt_picker_span = $('<span/>');\n",
       "\n",
       "    var fmt_picker = $('<select/>');\n",
       "    fmt_picker.addClass('mpl-toolbar-option ui-widget ui-widget-content');\n",
       "    fmt_picker_span.append(fmt_picker);\n",
       "    nav_element.append(fmt_picker_span);\n",
       "    this.format_dropdown = fmt_picker[0];\n",
       "\n",
       "    for (var ind in mpl.extensions) {\n",
       "        var fmt = mpl.extensions[ind];\n",
       "        var option = $(\n",
       "            '<option/>', {selected: fmt === mpl.default_extension}).html(fmt);\n",
       "        fmt_picker.append(option)\n",
       "    }\n",
       "\n",
       "    // Add hover states to the ui-buttons\n",
       "    $( \".ui-button\" ).hover(\n",
       "        function() { $(this).addClass(\"ui-state-hover\");},\n",
       "        function() { $(this).removeClass(\"ui-state-hover\");}\n",
       "    );\n",
       "\n",
       "    var status_bar = $('<span class=\"mpl-message\"/>');\n",
       "    nav_element.append(status_bar);\n",
       "    this.message = status_bar[0];\n",
       "}\n",
       "\n",
       "mpl.figure.prototype.request_resize = function(x_pixels, y_pixels) {\n",
       "    // Request matplotlib to resize the figure. Matplotlib will then trigger a resize in the client,\n",
       "    // which will in turn request a refresh of the image.\n",
       "    this.send_message('resize', {'width': x_pixels, 'height': y_pixels});\n",
       "}\n",
       "\n",
       "mpl.figure.prototype.send_message = function(type, properties) {\n",
       "    properties['type'] = type;\n",
       "    properties['figure_id'] = this.id;\n",
       "    this.ws.send(JSON.stringify(properties));\n",
       "}\n",
       "\n",
       "mpl.figure.prototype.send_draw_message = function() {\n",
       "    if (!this.waiting) {\n",
       "        this.waiting = true;\n",
       "        this.ws.send(JSON.stringify({type: \"draw\", figure_id: this.id}));\n",
       "    }\n",
       "}\n",
       "\n",
       "\n",
       "mpl.figure.prototype.handle_save = function(fig, msg) {\n",
       "    var format_dropdown = fig.format_dropdown;\n",
       "    var format = format_dropdown.options[format_dropdown.selectedIndex].value;\n",
       "    fig.ondownload(fig, format);\n",
       "}\n",
       "\n",
       "\n",
       "mpl.figure.prototype.handle_resize = function(fig, msg) {\n",
       "    var size = msg['size'];\n",
       "    if (size[0] != fig.canvas.width || size[1] != fig.canvas.height) {\n",
       "        fig._resize_canvas(size[0], size[1]);\n",
       "        fig.send_message(\"refresh\", {});\n",
       "    };\n",
       "}\n",
       "\n",
       "mpl.figure.prototype.handle_rubberband = function(fig, msg) {\n",
       "    var x0 = msg['x0'];\n",
       "    var y0 = fig.canvas.height - msg['y0'];\n",
       "    var x1 = msg['x1'];\n",
       "    var y1 = fig.canvas.height - msg['y1'];\n",
       "    x0 = Math.floor(x0) + 0.5;\n",
       "    y0 = Math.floor(y0) + 0.5;\n",
       "    x1 = Math.floor(x1) + 0.5;\n",
       "    y1 = Math.floor(y1) + 0.5;\n",
       "    var min_x = Math.min(x0, x1);\n",
       "    var min_y = Math.min(y0, y1);\n",
       "    var width = Math.abs(x1 - x0);\n",
       "    var height = Math.abs(y1 - y0);\n",
       "\n",
       "    fig.rubberband_context.clearRect(\n",
       "        0, 0, fig.canvas.width, fig.canvas.height);\n",
       "\n",
       "    fig.rubberband_context.strokeRect(min_x, min_y, width, height);\n",
       "}\n",
       "\n",
       "mpl.figure.prototype.handle_figure_label = function(fig, msg) {\n",
       "    // Updates the figure title.\n",
       "    fig.header.textContent = msg['label'];\n",
       "}\n",
       "\n",
       "mpl.figure.prototype.handle_cursor = function(fig, msg) {\n",
       "    var cursor = msg['cursor'];\n",
       "    switch(cursor)\n",
       "    {\n",
       "    case 0:\n",
       "        cursor = 'pointer';\n",
       "        break;\n",
       "    case 1:\n",
       "        cursor = 'default';\n",
       "        break;\n",
       "    case 2:\n",
       "        cursor = 'crosshair';\n",
       "        break;\n",
       "    case 3:\n",
       "        cursor = 'move';\n",
       "        break;\n",
       "    }\n",
       "    fig.rubberband_canvas.style.cursor = cursor;\n",
       "}\n",
       "\n",
       "mpl.figure.prototype.handle_message = function(fig, msg) {\n",
       "    fig.message.textContent = msg['message'];\n",
       "}\n",
       "\n",
       "mpl.figure.prototype.handle_draw = function(fig, msg) {\n",
       "    // Request the server to send over a new figure.\n",
       "    fig.send_draw_message();\n",
       "}\n",
       "\n",
       "mpl.figure.prototype.handle_image_mode = function(fig, msg) {\n",
       "    fig.image_mode = msg['mode'];\n",
       "}\n",
       "\n",
       "mpl.figure.prototype.updated_canvas_event = function() {\n",
       "    // Called whenever the canvas gets updated.\n",
       "    this.send_message(\"ack\", {});\n",
       "}\n",
       "\n",
       "// A function to construct a web socket function for onmessage handling.\n",
       "// Called in the figure constructor.\n",
       "mpl.figure.prototype._make_on_message_function = function(fig) {\n",
       "    return function socket_on_message(evt) {\n",
       "        if (evt.data instanceof Blob) {\n",
       "            /* FIXME: We get \"Resource interpreted as Image but\n",
       "             * transferred with MIME type text/plain:\" errors on\n",
       "             * Chrome.  But how to set the MIME type?  It doesn't seem\n",
       "             * to be part of the websocket stream */\n",
       "            evt.data.type = \"image/png\";\n",
       "\n",
       "            /* Free the memory for the previous frames */\n",
       "            if (fig.imageObj.src) {\n",
       "                (window.URL || window.webkitURL).revokeObjectURL(\n",
       "                    fig.imageObj.src);\n",
       "            }\n",
       "\n",
       "            fig.imageObj.src = (window.URL || window.webkitURL).createObjectURL(\n",
       "                evt.data);\n",
       "            fig.updated_canvas_event();\n",
       "            return;\n",
       "        }\n",
       "        else if (typeof evt.data === 'string' && evt.data.slice(0, 21) == \"data:image/png;base64\") {\n",
       "            fig.imageObj.src = evt.data;\n",
       "            fig.updated_canvas_event();\n",
       "            return;\n",
       "        }\n",
       "\n",
       "        var msg = JSON.parse(evt.data);\n",
       "        var msg_type = msg['type'];\n",
       "\n",
       "        // Call the  \"handle_{type}\" callback, which takes\n",
       "        // the figure and JSON message as its only arguments.\n",
       "        try {\n",
       "            var callback = fig[\"handle_\" + msg_type];\n",
       "        } catch (e) {\n",
       "            console.log(\"No handler for the '\" + msg_type + \"' message type: \", msg);\n",
       "            return;\n",
       "        }\n",
       "\n",
       "        if (callback) {\n",
       "            try {\n",
       "                // console.log(\"Handling '\" + msg_type + \"' message: \", msg);\n",
       "                callback(fig, msg);\n",
       "            } catch (e) {\n",
       "                console.log(\"Exception inside the 'handler_\" + msg_type + \"' callback:\", e, e.stack, msg);\n",
       "            }\n",
       "        }\n",
       "    };\n",
       "}\n",
       "\n",
       "// from http://stackoverflow.com/questions/1114465/getting-mouse-location-in-canvas\n",
       "mpl.findpos = function(e) {\n",
       "    //this section is from http://www.quirksmode.org/js/events_properties.html\n",
       "    var targ;\n",
       "    if (!e)\n",
       "        e = window.event;\n",
       "    if (e.target)\n",
       "        targ = e.target;\n",
       "    else if (e.srcElement)\n",
       "        targ = e.srcElement;\n",
       "    if (targ.nodeType == 3) // defeat Safari bug\n",
       "        targ = targ.parentNode;\n",
       "\n",
       "    // jQuery normalizes the pageX and pageY\n",
       "    // pageX,Y are the mouse positions relative to the document\n",
       "    // offset() returns the position of the element relative to the document\n",
       "    var x = e.pageX - $(targ).offset().left;\n",
       "    var y = e.pageY - $(targ).offset().top;\n",
       "\n",
       "    return {\"x\": x, \"y\": y};\n",
       "};\n",
       "\n",
       "mpl.figure.prototype.mouse_event = function(event, name) {\n",
       "    var canvas_pos = mpl.findpos(event)\n",
       "\n",
       "    if (name === 'button_press')\n",
       "    {\n",
       "        this.canvas.focus();\n",
       "        this.canvas_div.focus();\n",
       "    }\n",
       "\n",
       "    var x = canvas_pos.x;\n",
       "    var y = canvas_pos.y;\n",
       "\n",
       "    this.send_message(name, {x: x, y: y, button: event.button,\n",
       "                             step: event.step});\n",
       "\n",
       "    /* This prevents the web browser from automatically changing to\n",
       "     * the text insertion cursor when the button is pressed.  We want\n",
       "     * to control all of the cursor setting manually through the\n",
       "     * 'cursor' event from matplotlib */\n",
       "    event.preventDefault();\n",
       "    return false;\n",
       "}\n",
       "\n",
       "mpl.figure.prototype._key_event_extra = function(event, name) {\n",
       "    // Handle any extra behaviour associated with a key event\n",
       "}\n",
       "\n",
       "mpl.figure.prototype.key_event = function(event, name) {\n",
       "\n",
       "    // Prevent repeat events\n",
       "    if (name == 'key_press')\n",
       "    {\n",
       "        if (event.which === this._key)\n",
       "            return;\n",
       "        else\n",
       "            this._key = event.which;\n",
       "    }\n",
       "    if (name == 'key_release')\n",
       "        this._key = null;\n",
       "\n",
       "    var value = '';\n",
       "    if (event.ctrlKey && event.which != 17)\n",
       "        value += \"ctrl+\";\n",
       "    if (event.altKey && event.which != 18)\n",
       "        value += \"alt+\";\n",
       "    if (event.shiftKey && event.which != 16)\n",
       "        value += \"shift+\";\n",
       "\n",
       "    value += 'k';\n",
       "    value += event.which.toString();\n",
       "\n",
       "    this._key_event_extra(event, name);\n",
       "\n",
       "    this.send_message(name, {key: value});\n",
       "    return false;\n",
       "}\n",
       "\n",
       "mpl.figure.prototype.toolbar_button_onclick = function(name) {\n",
       "    if (name == 'download') {\n",
       "        this.handle_save(this, null);\n",
       "    } else {\n",
       "        this.send_message(\"toolbar_button\", {name: name});\n",
       "    }\n",
       "};\n",
       "\n",
       "mpl.figure.prototype.toolbar_button_onmouseover = function(tooltip) {\n",
       "    this.message.textContent = tooltip;\n",
       "};\n",
       "mpl.toolbar_items = [[\"Home\", \"Reset original view\", \"fa fa-home icon-home\", \"home\"], [\"Back\", \"Back to  previous view\", \"fa fa-arrow-left icon-arrow-left\", \"back\"], [\"Forward\", \"Forward to next view\", \"fa fa-arrow-right icon-arrow-right\", \"forward\"], [\"\", \"\", \"\", \"\"], [\"Pan\", \"Pan axes with left mouse, zoom with right\", \"fa fa-arrows icon-move\", \"pan\"], [\"Zoom\", \"Zoom to rectangle\", \"fa fa-square-o icon-check-empty\", \"zoom\"], [\"\", \"\", \"\", \"\"], [\"Download\", \"Download plot\", \"fa fa-floppy-o icon-save\", \"download\"]];\n",
       "\n",
       "mpl.extensions = [\"eps\", \"jpeg\", \"pdf\", \"png\", \"ps\", \"raw\", \"svg\", \"tif\"];\n",
       "\n",
       "mpl.default_extension = \"png\";var comm_websocket_adapter = function(comm) {\n",
       "    // Create a \"websocket\"-like object which calls the given IPython comm\n",
       "    // object with the appropriate methods. Currently this is a non binary\n",
       "    // socket, so there is still some room for performance tuning.\n",
       "    var ws = {};\n",
       "\n",
       "    ws.close = function() {\n",
       "        comm.close()\n",
       "    };\n",
       "    ws.send = function(m) {\n",
       "        //console.log('sending', m);\n",
       "        comm.send(m);\n",
       "    };\n",
       "    // Register the callback with on_msg.\n",
       "    comm.on_msg(function(msg) {\n",
       "        //console.log('receiving', msg['content']['data'], msg);\n",
       "        // Pass the mpl event to the overriden (by mpl) onmessage function.\n",
       "        ws.onmessage(msg['content']['data'])\n",
       "    });\n",
       "    return ws;\n",
       "}\n",
       "\n",
       "mpl.mpl_figure_comm = function(comm, msg) {\n",
       "    // This is the function which gets called when the mpl process\n",
       "    // starts-up an IPython Comm through the \"matplotlib\" channel.\n",
       "\n",
       "    var id = msg.content.data.id;\n",
       "    // Get hold of the div created by the display call when the Comm\n",
       "    // socket was opened in Python.\n",
       "    var element = $(\"#\" + id);\n",
       "    var ws_proxy = comm_websocket_adapter(comm)\n",
       "\n",
       "    function ondownload(figure, format) {\n",
       "        window.open(figure.imageObj.src);\n",
       "    }\n",
       "\n",
       "    var fig = new mpl.figure(id, ws_proxy,\n",
       "                           ondownload,\n",
       "                           element.get(0));\n",
       "\n",
       "    // Call onopen now - mpl needs it, as it is assuming we've passed it a real\n",
       "    // web socket which is closed, not our websocket->open comm proxy.\n",
       "    ws_proxy.onopen();\n",
       "\n",
       "    fig.parent_element = element.get(0);\n",
       "    fig.cell_info = mpl.find_output_cell(\"<div id='\" + id + \"'></div>\");\n",
       "    if (!fig.cell_info) {\n",
       "        console.error(\"Failed to find cell for figure\", id, fig);\n",
       "        return;\n",
       "    }\n",
       "\n",
       "    var output_index = fig.cell_info[2]\n",
       "    var cell = fig.cell_info[0];\n",
       "\n",
       "};\n",
       "\n",
       "mpl.figure.prototype.handle_close = function(fig, msg) {\n",
       "    // Update the output cell to use the data from the current canvas.\n",
       "    fig.push_to_output();\n",
       "    var dataURL = fig.canvas.toDataURL();\n",
       "    // Re-enable the keyboard manager in IPython - without this line, in FF,\n",
       "    // the notebook keyboard shortcuts fail.\n",
       "    IPython.keyboard_manager.enable()\n",
       "    $(fig.parent_element).html('<img src=\"' + dataURL + '\">');\n",
       "    fig.send_message('closing', {});\n",
       "    fig.ws.close()\n",
       "}\n",
       "\n",
       "mpl.figure.prototype.push_to_output = function(remove_interactive) {\n",
       "    // Turn the data on the canvas into data in the output cell.\n",
       "    var dataURL = this.canvas.toDataURL();\n",
       "    this.cell_info[1]['text/html'] = '<img src=\"' + dataURL + '\">';\n",
       "}\n",
       "\n",
       "mpl.figure.prototype.updated_canvas_event = function() {\n",
       "    // Tell IPython that the notebook contents must change.\n",
       "    IPython.notebook.set_dirty(true);\n",
       "    this.send_message(\"ack\", {});\n",
       "    var fig = this;\n",
       "    // Wait a second, then push the new image to the DOM so\n",
       "    // that it is saved nicely (might be nice to debounce this).\n",
       "    setTimeout(function () { fig.push_to_output() }, 1000);\n",
       "}\n",
       "\n",
       "mpl.figure.prototype._init_toolbar = function() {\n",
       "    var fig = this;\n",
       "\n",
       "    var nav_element = $('<div/>')\n",
       "    nav_element.attr('style', 'width: 100%');\n",
       "    this.root.append(nav_element);\n",
       "\n",
       "    // Define a callback function for later on.\n",
       "    function toolbar_event(event) {\n",
       "        return fig.toolbar_button_onclick(event['data']);\n",
       "    }\n",
       "    function toolbar_mouse_event(event) {\n",
       "        return fig.toolbar_button_onmouseover(event['data']);\n",
       "    }\n",
       "\n",
       "    for(var toolbar_ind in mpl.toolbar_items){\n",
       "        var name = mpl.toolbar_items[toolbar_ind][0];\n",
       "        var tooltip = mpl.toolbar_items[toolbar_ind][1];\n",
       "        var image = mpl.toolbar_items[toolbar_ind][2];\n",
       "        var method_name = mpl.toolbar_items[toolbar_ind][3];\n",
       "\n",
       "        if (!name) { continue; };\n",
       "\n",
       "        var button = $('<button class=\"btn btn-default\" href=\"#\" title=\"' + name + '\"><i class=\"fa ' + image + ' fa-lg\"></i></button>');\n",
       "        button.click(method_name, toolbar_event);\n",
       "        button.mouseover(tooltip, toolbar_mouse_event);\n",
       "        nav_element.append(button);\n",
       "    }\n",
       "\n",
       "    // Add the status bar.\n",
       "    var status_bar = $('<span class=\"mpl-message\" style=\"text-align:right; float: right;\"/>');\n",
       "    nav_element.append(status_bar);\n",
       "    this.message = status_bar[0];\n",
       "\n",
       "    // Add the close button to the window.\n",
       "    var buttongrp = $('<div class=\"btn-group inline pull-right\"></div>');\n",
       "    var button = $('<button class=\"btn btn-mini btn-danger\" href=\"#\" title=\"Close figure\"><i class=\"fa fa-times icon-remove icon-large\"></i></button>');\n",
       "    button.click(function (evt) { fig.handle_close(fig, {}); } );\n",
       "    button.mouseover('Close figure', toolbar_mouse_event);\n",
       "    buttongrp.append(button);\n",
       "    var titlebar = this.root.find($('.ui-dialog-titlebar'));\n",
       "    titlebar.prepend(buttongrp);\n",
       "}\n",
       "\n",
       "\n",
       "mpl.figure.prototype._canvas_extra_style = function(el){\n",
       "    // this is important to make the div 'focusable\n",
       "    el.attr('tabindex', 0)\n",
       "    // reach out to IPython and tell the keyboard manager to turn it's self\n",
       "    // off when our div gets focus\n",
       "\n",
       "    // location in version 3\n",
       "    if (IPython.notebook.keyboard_manager) {\n",
       "        IPython.notebook.keyboard_manager.register_events(el);\n",
       "    }\n",
       "    else {\n",
       "        // location in version 2\n",
       "        IPython.keyboard_manager.register_events(el);\n",
       "    }\n",
       "\n",
       "}\n",
       "\n",
       "mpl.figure.prototype._key_event_extra = function(event, name) {\n",
       "    var manager = IPython.notebook.keyboard_manager;\n",
       "    if (!manager)\n",
       "        manager = IPython.keyboard_manager;\n",
       "\n",
       "    // Check for shift+enter\n",
       "    if (event.shiftKey && event.which == 13) {\n",
       "        this.canvas_div.blur();\n",
       "        event.shiftKey = false;\n",
       "        // Send a \"J\" for go to next cell\n",
       "        event.which = 74;\n",
       "        event.keyCode = 74;\n",
       "        manager.command_mode();\n",
       "        manager.handle_keydown(event);\n",
       "    }\n",
       "}\n",
       "\n",
       "mpl.figure.prototype.handle_save = function(fig, msg) {\n",
       "    fig.ondownload(fig, null);\n",
       "}\n",
       "\n",
       "\n",
       "mpl.find_output_cell = function(html_output) {\n",
       "    // Return the cell and output element which can be found *uniquely* in the notebook.\n",
       "    // Note - this is a bit hacky, but it is done because the \"notebook_saving.Notebook\"\n",
       "    // IPython event is triggered only after the cells have been serialised, which for\n",
       "    // our purposes (turning an active figure into a static one), is too late.\n",
       "    var cells = IPython.notebook.get_cells();\n",
       "    var ncells = cells.length;\n",
       "    for (var i=0; i<ncells; i++) {\n",
       "        var cell = cells[i];\n",
       "        if (cell.cell_type === 'code'){\n",
       "            for (var j=0; j<cell.output_area.outputs.length; j++) {\n",
       "                var data = cell.output_area.outputs[j];\n",
       "                if (data.data) {\n",
       "                    // IPython >= 3 moved mimebundle to data attribute of output\n",
       "                    data = data.data;\n",
       "                }\n",
       "                if (data['text/html'] == html_output) {\n",
       "                    return [cell, data, j];\n",
       "                }\n",
       "            }\n",
       "        }\n",
       "    }\n",
       "}\n",
       "\n",
       "// Register the function which deals with the matplotlib target/channel.\n",
       "// The kernel may be null if the page has been refreshed.\n",
       "if (IPython.notebook.kernel != null) {\n",
       "    IPython.notebook.kernel.comm_manager.register_target('matplotlib', mpl.mpl_figure_comm);\n",
       "}\n"
      ],
      "text/plain": [
       "<IPython.core.display.Javascript object>"
      ]
     },
     "metadata": {},
     "output_type": "display_data"
    },
    {
     "data": {
      "text/html": [
       "<img src=\"data:image/png;base64,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\">"
      ],
      "text/plain": [
       "<IPython.core.display.HTML object>"
      ]
     },
     "metadata": {},
     "output_type": "display_data"
    }
   ],
   "source": [
    "t = np.linspace(0, 0.99, 100)\n",
    "x = np.sin(2 * np.pi * 2 * t) \n",
    "n = np.random.randn(100) / 5\n",
    "plt.Figure(figsize=(12,8))\n",
    "plt.plot(t, x, label='sine', linewidth=2)\n",
    "plt.plot(t, x + n, label='noisy sine', linewidth=2)\n",
    "plt.annotate(s='$sin(4 \\pi t)$', xy=(.2, 1), fontsize=20, color=[0, 0, 1])\n",
    "plt.legend(loc='best', framealpha=.5)\n",
    "plt.xlabel('Time [s]')\n",
    "plt.ylabel('Amplitude')\n",
    "plt.title('Data plotting using matplotlib')\n",
    "plt.show()"
   ]
  },
  {
   "cell_type": "markdown",
   "metadata": {},
   "source": [
    "Use the IPython magic `%matplotlib qt` to plot a figure in a separate window (from where you will be able to change some of the figure proprerties):"
   ]
  },
  {
   "cell_type": "code",
   "execution_count": 23,
   "metadata": {
    "collapsed": false,
    "run_control": {
     "breakpoint": false
    }
   },
   "outputs": [],
   "source": [
    "%matplotlib qt"
   ]
  },
  {
   "cell_type": "code",
   "execution_count": 24,
   "metadata": {
    "collapsed": false,
    "run_control": {
     "breakpoint": false
    }
   },
   "outputs": [],
   "source": [
    "mu, sigma = 10, 2\n",
    "x = mu + sigma * np.random.randn(1000)\n",
    "fig, (ax1, ax2) = plt.subplots(1, 2, figsize=(12, 4))\n",
    "ax1.plot(x, 'ro')\n",
    "ax1.set_title('Data')\n",
    "ax1.grid()\n",
    "\n",
    "n, bins, patches = ax2.hist(x, 25, normed=True, facecolor='r') # histogram\n",
    "ax2.set_xlabel('Bins')\n",
    "ax2.set_ylabel('Probability')\n",
    "ax2.set_title('Histogram')\n",
    "fig.suptitle('Another example using matplotlib', fontsize=18, y=1)\n",
    "ax2.grid()\n",
    "\n",
    "plt.tight_layout()\n",
    "plt.show()"
   ]
  },
  {
   "cell_type": "markdown",
   "metadata": {},
   "source": [
    "And a window with the following figure should appear:"
   ]
  },
  {
   "cell_type": "code",
   "execution_count": 110,
   "metadata": {
    "collapsed": false,
    "run_control": {
     "breakpoint": false
    }
   },
   "outputs": [
    {
     "data": {
      "text/html": [
       "<img src=\"./../images/plot.png\"/>"
      ],
      "text/plain": [
       "<IPython.core.display.Image at 0xa235588>"
      ]
     },
     "execution_count": 110,
     "metadata": {},
     "output_type": "execute_result"
    }
   ],
   "source": [
    "from IPython.display import Image\n",
    "Image(url=\"./../images/plot.png\")"
   ]
  },
  {
   "cell_type": "markdown",
   "metadata": {},
   "source": [
    "You can switch back and forth between inline and separate figure using the `%matplotlib` magic commands used above. There are plenty more examples with the source code in the [matplotlib gallery](http://matplotlib.org/gallery.html)."
   ]
  },
  {
   "cell_type": "code",
   "execution_count": 25,
   "metadata": {
    "collapsed": false,
    "run_control": {
     "breakpoint": false
    }
   },
   "outputs": [],
   "source": [
    "# get back the inline plot\n",
    "%matplotlib inline"
   ]
  },
  {
   "cell_type": "markdown",
   "metadata": {},
   "source": [
    "## Signal processing with Scipy\n",
    "\n",
    "The Scipy package has a lot of functions for signal processing, among them: Integration (scipy.integrate), Optimization (scipy.optimize), Interpolation (scipy.interpolate), Fourier Transforms (scipy.fftpack), Signal Processing (scipy.signal), Linear Algebra (scipy.linalg), and Statistics (scipy.stats). As an example, let's see how to use a low-pass Butterworth filter to attenuate high-frequency noise and how the differentiation process of a signal affects the signal-to-noise content. We will also calculate the Fourier transform of these data to look at their frequencies content."
   ]
  },
  {
   "cell_type": "code",
   "execution_count": 112,
   "metadata": {
    "collapsed": false,
    "run_control": {
     "breakpoint": false
    }
   },
   "outputs": [],
   "source": [
    "from scipy.signal import butter, filtfilt\n",
    "import scipy.fftpack\n",
    "freq = 100.\n",
    "t = np.arange(0,1,.01);\n",
    "w = 2*np.pi*1 # 1 Hz\n",
    "y = np.sin(w*t)+0.1*np.sin(10*w*t)\n",
    "# Butterworth filter\n",
    "b, a = butter(4, (5/(freq/2)), btype = 'low')\n",
    "y2 = filtfilt(b, a, y)\n",
    "# 2nd derivative of the data\n",
    "ydd = np.diff(y,2)*freq*freq   # raw data\n",
    "y2dd = np.diff(y2,2)*freq*freq # filtered data\n",
    "# frequency content \n",
    "yfft = np.abs(scipy.fftpack.fft(y))/(y.size/2);   # raw data\n",
    "y2fft = np.abs(scipy.fftpack.fft(y2))/(y.size/2); # filtered data\n",
    "freqs = scipy.fftpack.fftfreq(y.size, 1./freq)\n",
    "yddfft = np.abs(scipy.fftpack.fft(ydd))/(ydd.size/2);\n",
    "y2ddfft = np.abs(scipy.fftpack.fft(y2dd))/(ydd.size/2);\n",
    "freqs2 = scipy.fftpack.fftfreq(ydd.size, 1./freq)"
   ]
  },
  {
   "cell_type": "markdown",
   "metadata": {},
   "source": [
    "And the plots:"
   ]
  },
  {
   "cell_type": "code",
   "execution_count": 115,
   "metadata": {
    "collapsed": false,
    "run_control": {
     "breakpoint": false
    }
   },
   "outputs": [
    {
     "data": {
      "image/png": "[encoded data removed]",
      "text/plain": [
       "<matplotlib.figure.Figure at 0x9cda550>"
      ]
     },
     "metadata": {},
     "output_type": "display_data"
    }
   ],
   "source": [
    "fig, ((ax1,ax2),(ax3,ax4)) = plt.subplots(2, 2, figsize=(10, 4))\n",
    "\n",
    "ax1.set_title('Temporal domain', fontsize=14)\n",
    "ax1.plot(t, y, 'r', linewidth=2, label = 'raw data')\n",
    "ax1.plot(t, y2, 'b', linewidth=2, label = 'filtered @ 5 Hz')\n",
    "ax1.set_ylabel('f')\n",
    "ax1.legend(frameon=False, fontsize=12)\n",
    "\n",
    "ax2.set_title('Frequency domain', fontsize=14)\n",
    "ax2.plot(freqs[:yfft.size/4], yfft[:yfft.size/4],'r',  lw=2,label='raw data')\n",
    "ax2.plot(freqs[:yfft.size/4],y2fft[:yfft.size/4],'b--',lw=2,label='filtered @ 5 Hz')\n",
    "ax2.set_ylabel('FFT(f)')\n",
    "ax2.legend(frameon=False, fontsize=12)\n",
    "\n",
    "ax3.plot(t[:-2], ydd, 'r', linewidth=2, label = 'raw')\n",
    "ax3.plot(t[:-2], y2dd, 'b', linewidth=2, label = 'filtered @ 5 Hz')\n",
    "ax3.set_xlabel('Time [s]'); ax3.set_ylabel(\"f ''\")\n",
    "\n",
    "ax4.plot(freqs[:yddfft.size/4], yddfft[:yddfft.size/4], 'r', lw=2, label = 'raw')\n",
    "ax4.plot(freqs[:yddfft.size/4],y2ddfft[:yddfft.size/4],'b--',lw=2, label='filtered @ 5 Hz')\n",
    "ax4.set_xlabel('Frequency [Hz]'); ax4.set_ylabel(\"FFT(f '')\")\n",
    "plt.show()"
   ]
  },
  {
   "cell_type": "markdown",
   "metadata": {},
   "source": [
    "For more about Scipy, see [http://docs.scipy.org/doc/scipy/reference/tutorial/](http://docs.scipy.org/doc/scipy/reference/tutorial/)."
   ]
  },
  {
   "cell_type": "markdown",
   "metadata": {},
   "source": [
    "## Symbolic mathematics with Sympy\n",
    "\n",
    "Sympy is a package to perform symbolic mathematics in Python. Let's see some of its features:"
   ]
  },
  {
   "cell_type": "code",
   "execution_count": 19,
   "metadata": {
    "collapsed": false,
    "run_control": {
     "breakpoint": false
    }
   },
   "outputs": [],
   "source": [
    "from IPython.display import display\n",
    "import sympy as sym\n",
    "from sympy.interactive import printing\n",
    "printing.init_printing()"
   ]
  },
  {
   "cell_type": "markdown",
   "metadata": {},
   "source": [
    "Define some symbols and the create a second-order polynomial function (a.k.a., parabola):"
   ]
  },
  {
   "cell_type": "code",
   "execution_count": 20,
   "metadata": {
    "collapsed": false,
    "run_control": {
     "breakpoint": false
    }
   },
   "outputs": [
    {
     "data": {
      "image/png": "[encoded data removed]",
      "text/latex": [
       "$$x^{2} - 2 x - 3$$"
      ],
      "text/plain": [
       " 2          \n",
       "x  - 2⋅x - 3"
      ]
     },
     "execution_count": 20,
     "metadata": {},
     "output_type": "execute_result"
    }
   ],
   "source": [
    "x, y = sym.symbols('x y')\n",
    "y = x**2 - 2*x - 3\n",
    "y"
   ]
  },
  {
   "cell_type": "markdown",
   "metadata": {},
   "source": [
    "Plot the parabola at some given range:"
   ]
  },
  {
   "cell_type": "code",
   "execution_count": 21,
   "metadata": {
    "collapsed": false,
    "run_control": {
     "breakpoint": false
    }
   },
   "outputs": [
    {
     "data": {
      "image/png": "[encoded data removed]",
      "text/plain": [
       "<matplotlib.figure.Figure at 0x10fc89ba8>"
      ]
     },
     "metadata": {},
     "output_type": "display_data"
    }
   ],
   "source": [
    "from sympy.plotting import plot\n",
    "%matplotlib inline\n",
    "plot(y, (x, -3, 5));"
   ]
  },
  {
   "cell_type": "markdown",
   "metadata": {},
   "source": [
    "And the roots of the parabola are given by: "
   ]
  },
  {
   "cell_type": "code",
   "execution_count": 120,
   "metadata": {
    "collapsed": false,
    "run_control": {
     "breakpoint": false
    }
   },
   "outputs": [
    {
     "data": {
      "text/latex": [
       "$$\\begin{bmatrix}-1, & 3\\end{bmatrix}$$"
      ],
      "text/plain": [
       "[-1, 3]"
      ]
     },
     "execution_count": 120,
     "metadata": {},
     "output_type": "execute_result"
    }
   ],
   "source": [
    "sym.solve(y, x)"
   ]
  },
  {
   "cell_type": "markdown",
   "metadata": {},
   "source": [
    "We can also do symbolic differentiation and integration:"
   ]
  },
  {
   "cell_type": "code",
   "execution_count": 121,
   "metadata": {
    "collapsed": false,
    "run_control": {
     "breakpoint": false
    }
   },
   "outputs": [
    {
     "data": {
      "image/png": "[encoded data removed]",
      "text/latex": [
       "$$2 x - 2$$"
      ],
      "text/plain": [
       "2⋅x - 2"
      ]
     },
     "execution_count": 121,
     "metadata": {},
     "output_type": "execute_result"
    }
   ],
   "source": [
    "dy = sym.diff(y, x)\n",
    "dy"
   ]
  },
  {
   "cell_type": "code",
   "execution_count": 122,
   "metadata": {
    "collapsed": false,
    "run_control": {
     "breakpoint": false
    }
   },
   "outputs": [
    {
     "data": {
      "image/png": "[encoded data removed]",
      "text/latex": [
       "$$x^{2} - 2 x$$"
      ],
      "text/plain": [
       " 2      \n",
       "x  - 2⋅x"
      ]
     },
     "execution_count": 122,
     "metadata": {},
     "output_type": "execute_result"
    }
   ],
   "source": [
    "sym.integrate(dy, x)"
   ]
  },
  {
   "cell_type": "markdown",
   "metadata": {},
   "source": [
    "For example, let's use Sympy to represent three-dimensional rotations. Consider the problem of a coordinate system xyz rotated in relation to other coordinate system XYZ. The single rotations around each axis are illustrated by:"
   ]
  },
  {
   "cell_type": "code",
   "execution_count": 123,
   "metadata": {
    "collapsed": false,
    "run_control": {
     "breakpoint": false
    }
   },
   "outputs": [
    {
     "data": {
      "text/html": [
       "<img src=\"./../images/rotations.png\"/>"
      ],
      "text/plain": [
       "<IPython.core.display.Image at 0xa5bc1d0>"
      ]
     },
     "execution_count": 123,
     "metadata": {},
     "output_type": "execute_result"
    }
   ],
   "source": [
    "from IPython.display import Image\n",
    "Image(url=\"./../images/rotations.png\")"
   ]
  },
  {
   "cell_type": "markdown",
   "metadata": {},
   "source": [
    "The single 3D rotation matrices around Z, Y, and X axes can be expressed in Sympy:"
   ]
  },
  {
   "cell_type": "code",
   "execution_count": 124,
   "metadata": {
    "collapsed": false,
    "run_control": {
     "breakpoint": false
    }
   },
   "outputs": [
    {
     "data": {
      "text/latex": [
       "$$\\mathbf{R_{X}}=\\left[\\begin{matrix}1 & 0 & 0\\\\0 & \\cos{\\left (\\alpha \\right )} & - \\sin{\\left (\\alpha \\right )}\\\\0 & \\sin{\\left (\\alpha \\right )} & \\cos{\\left (\\alpha \\right )}\\end{matrix}\\right]$$"
      ],
      "text/plain": [
       "<IPython.core.display.Math at 0xa592e10>"
      ]
     },
     "metadata": {},
     "output_type": "display_data"
    },
    {
     "data": {
      "text/latex": [
       "$$\\mathbf{R_{Y}}=\\left[\\begin{matrix}\\cos{\\left (\\beta \\right )} & 0 & \\sin{\\left (\\beta \\right )}\\\\0 & 1 & 0\\\\- \\sin{\\left (\\beta \\right )} & 0 & \\cos{\\left (\\beta \\right )}\\end{matrix}\\right]$$"
      ],
      "text/plain": [
       "<IPython.core.display.Math at 0xa592e10>"
      ]
     },
     "metadata": {},
     "output_type": "display_data"
    },
    {
     "data": {
      "text/latex": [
       "$$\\mathbf{R_{Z}}=\\left[\\begin{matrix}\\cos{\\left (\\gamma \\right )} & - \\sin{\\left (\\gamma \\right )} & 0\\\\\\sin{\\left (\\gamma \\right )} & \\cos{\\left (\\gamma \\right )} & 0\\\\0 & 0 & 1\\end{matrix}\\right]$$"
      ],
      "text/plain": [
       "<IPython.core.display.Math at 0xa592e10>"
      ]
     },
     "metadata": {},
     "output_type": "display_data"
    }
   ],
   "source": [
    "from IPython.core.display import Math\n",
    "from sympy import symbols, cos, sin, Matrix, latex\n",
    "a, b, g = symbols('alpha beta gamma')\n",
    "\n",
    "RX = Matrix([[1, 0, 0], [0, cos(a), -sin(a)], [0, sin(a), cos(a)]])\n",
    "display(Math(latex('\\\\mathbf{R_{X}}=') + latex(RX, mat_str = 'matrix')))\n",
    "\n",
    "RY = Matrix([[cos(b), 0, sin(b)], [0, 1, 0], [-sin(b), 0, cos(b)]])\n",
    "display(Math(latex('\\\\mathbf{R_{Y}}=') + latex(RY, mat_str = 'matrix')))\n",
    "\n",
    "RZ = Matrix([[cos(g), -sin(g), 0], [sin(g), cos(g), 0], [0, 0, 1]])\n",
    "display(Math(latex('\\\\mathbf{R_{Z}}=') + latex(RZ, mat_str = 'matrix')))"
   ]
  },
  {
   "cell_type": "markdown",
   "metadata": {},
   "source": [
    "And using Sympy, a sequence of elementary rotations around X, Y, Z axes is given by:"
   ]
  },
  {
   "cell_type": "code",
   "execution_count": 125,
   "metadata": {
    "collapsed": false,
    "run_control": {
     "breakpoint": false
    }
   },
   "outputs": [
    {
     "data": {
      "text/latex": [
       "$$\\mathbf{R_{XYZ}}=\\left[\\begin{matrix}\\cos{\\left (\\beta \\right )} \\cos{\\left (\\gamma \\right )} & \\sin{\\left (\\alpha \\right )} \\sin{\\left (\\beta \\right )} \\cos{\\left (\\gamma \\right )} - \\sin{\\left (\\gamma \\right )} \\cos{\\left (\\alpha \\right )} & \\sin{\\left (\\alpha \\right )} \\sin{\\left (\\gamma \\right )} + \\sin{\\left (\\beta \\right )} \\cos{\\left (\\alpha \\right )} \\cos{\\left (\\gamma \\right )}\\\\\\sin{\\left (\\gamma \\right )} \\cos{\\left (\\beta \\right )} & \\sin{\\left (\\alpha \\right )} \\sin{\\left (\\beta \\right )} \\sin{\\left (\\gamma \\right )} + \\cos{\\left (\\alpha \\right )} \\cos{\\left (\\gamma \\right )} & - \\sin{\\left (\\alpha \\right )} \\cos{\\left (\\gamma \\right )} + \\sin{\\left (\\beta \\right )} \\sin{\\left (\\gamma \\right )} \\cos{\\left (\\alpha \\right )}\\\\- \\sin{\\left (\\beta \\right )} & \\sin{\\left (\\alpha \\right )} \\cos{\\left (\\beta \\right )} & \\cos{\\left (\\alpha \\right )} \\cos{\\left (\\beta \\right )}\\end{matrix}\\right]$$"
      ],
      "text/plain": [
       "<IPython.core.display.Math at 0xa5ad710>"
      ]
     },
     "metadata": {},
     "output_type": "display_data"
    }
   ],
   "source": [
    "RXYZ = RZ*RY*RX\n",
    "display(Math(latex('\\\\mathbf{R_{XYZ}}=') + latex(RXYZ, mat_str = 'matrix')))"
   ]
  },
  {
   "cell_type": "markdown",
   "metadata": {},
   "source": [
    "Suppose there is a rotation only around X ($\\alpha$) by $\\pi/2$; we can get the numerical value of the rotation matrix by substituing the angle values:"
   ]
  },
  {
   "cell_type": "code",
   "execution_count": 127,
   "metadata": {
    "collapsed": false,
    "run_control": {
     "breakpoint": false
    }
   },
   "outputs": [
    {
     "data": {
      "text/latex": [
       "$$\\left[\\begin{matrix}1 & 0 & 0\\\\0 & 6.12323399573677 \\cdot 10^{-17} & -1.0\\\\0 & 1.0 & 6.12323399573677 \\cdot 10^{-17}\\end{matrix}\\right]$$"
      ],
      "text/plain": [
       "⎡1           0                     0          ⎤\n",
       "⎢                                             ⎥\n",
       "⎢0  6.12323399573677e-17          -1.0        ⎥\n",
       "⎢                                             ⎥\n",
       "⎣0          1.0           6.12323399573677e-17⎦"
      ]
     },
     "execution_count": 127,
     "metadata": {},
     "output_type": "execute_result"
    }
   ],
   "source": [
    "r = RXYZ.subs({a: np.pi/2, b: 0, g: 0})\n",
    "r"
   ]
  },
  {
   "cell_type": "markdown",
   "metadata": {},
   "source": [
    "And we can prettify this result:"
   ]
  },
  {
   "cell_type": "code",
   "execution_count": 128,
   "metadata": {
    "collapsed": false,
    "run_control": {
     "breakpoint": false
    }
   },
   "outputs": [
    {
     "data": {
      "text/latex": [
       "$$\\mathbf{R_{(\\alpha=\\pi/2)}}=\\left[\\begin{matrix}1.0 & 0 & 0\\\\0 & 0 & -1.0\\\\0 & 1.0 & 0\\end{matrix}\\right]$$"
      ],
      "text/plain": [
       "<IPython.core.display.Math at 0x434ef60>"
      ]
     },
     "metadata": {},
     "output_type": "display_data"
    }
   ],
   "source": [
    "display(Math(latex(r'\\mathbf{R_{(\\alpha=\\pi/2)}}=') +\n",
    "             latex(r.n(chop=True, prec=3), mat_str = 'matrix')))"
   ]
  },
  {
   "cell_type": "markdown",
   "metadata": {},
   "source": [
    "For more about Sympy, see [http://docs.sympy.org/latest/tutorial/](http://docs.sympy.org/latest/tutorial/)."
   ]
  },
  {
   "cell_type": "markdown",
   "metadata": {},
   "source": [
    "## Data analysis with pandas\n",
    "\n",
    "> \"[pandas](http://pandas.pydata.org/) is a Python package providing fast, flexible, and expressive data structures designed to make working with “relational” or “labeled” data both easy and intuitive. It aims to be the fundamental high-level building block for doing practical, real world data analysis in Python.\"\n",
    "\n",
    "To work with labellled data, pandas has a type called DataFrame (basically, a matrix where columns and rows have may names and may be of different types) and it is also the main type of the software [R](http://www.r-project.org/). Fo ezample:"
   ]
  },
  {
   "cell_type": "code",
   "execution_count": 129,
   "metadata": {
    "collapsed": false,
    "run_control": {
     "breakpoint": false
    }
   },
   "outputs": [],
   "source": [
    "import pandas as pd"
   ]
  },
  {
   "cell_type": "code",
   "execution_count": 130,
   "metadata": {
    "collapsed": false,
    "run_control": {
     "breakpoint": false
    }
   },
   "outputs": [
    {
     "data": {
      "text/plain": [
       "['A', 'A', 'A', 'A', 'A', 'B', 'B', 'B', 'B', 'B']"
      ]
     },
     "execution_count": 130,
     "metadata": {},
     "output_type": "execute_result"
    }
   ],
   "source": [
    "x = 5*['A'] + 5*['B']\n",
    "x"
   ]
  },
  {
   "cell_type": "code",
   "execution_count": 131,
   "metadata": {
    "collapsed": false,
    "run_control": {
     "breakpoint": false
    }
   },
   "outputs": [
    {
     "data": {
      "image/png": "[encoded data removed]",
      "text/plain": [
       "<matplotlib.figure.Figure at 0xce06898>"
      ]
     },
     "metadata": {},
     "output_type": "display_data"
    }
   ],
   "source": [
    "df = pd.DataFrame(np.random.rand(10,2), columns=['Level 1', 'Level 2'] )\n",
    "df['Group'] = pd.Series(['A']*5 + ['B']*5)\n",
    "plot = df.boxplot(by='Group')"
   ]
  },
  {
   "cell_type": "code",
   "execution_count": 132,
   "metadata": {
    "collapsed": false,
    "run_control": {
     "breakpoint": false
    }
   },
   "outputs": [
    {
     "data": {
      "image/png": "[encoded data removed]",
      "text/plain": [
       "<matplotlib.figure.Figure at 0xa5adb70>"
      ]
     },
     "metadata": {},
     "output_type": "display_data"
    }
   ],
   "source": [
    "from pandas.tools.plotting import scatter_matrix\n",
    "df = pd.DataFrame(np.random.randn(100, 3), columns=['A', 'B', 'C'])\n",
    "plot = scatter_matrix(df, alpha=0.5, figsize=(8, 6), diagonal='kde')"
   ]
  },
  {
   "cell_type": "markdown",
   "metadata": {},
   "source": [
    "pandas is aware the data is structured and give you basic statistics considerint that and nicely formatted:"
   ]
  },
  {
   "cell_type": "code",
   "execution_count": 133,
   "metadata": {
    "collapsed": false,
    "run_control": {
     "breakpoint": false
    }
   },
   "outputs": [
    {
     "data": {
      "text/html": [
       "<div style=\"max-height:1000px;max-width:1500px;overflow:auto;\">\n",
       "<table border=\"1\" class=\"dataframe\">\n",
       "  <thead>\n",
       "    <tr style=\"text-align: right;\">\n",
       "      <th></th>\n",
       "      <th>A</th>\n",
       "      <th>B</th>\n",
       "      <th>C</th>\n",
       "    </tr>\n",
       "  </thead>\n",
       "  <tbody>\n",
       "    <tr>\n",
       "      <th>count</th>\n",
       "      <td> 100.000000</td>\n",
       "      <td> 100.000000</td>\n",
       "      <td> 100.000000</td>\n",
       "    </tr>\n",
       "    <tr>\n",
       "      <th>mean</th>\n",
       "      <td>   0.176822</td>\n",
       "      <td>  -0.028189</td>\n",
       "      <td>   0.079938</td>\n",
       "    </tr>\n",
       "    <tr>\n",
       "      <th>std</th>\n",
       "      <td>   0.962097</td>\n",
       "      <td>   1.056000</td>\n",
       "      <td>   0.955360</td>\n",
       "    </tr>\n",
       "    <tr>\n",
       "      <th>min</th>\n",
       "      <td>  -1.909003</td>\n",
       "      <td>  -2.515748</td>\n",
       "      <td>  -2.564882</td>\n",
       "    </tr>\n",
       "    <tr>\n",
       "      <th>25%</th>\n",
       "      <td>  -0.434171</td>\n",
       "      <td>  -0.851826</td>\n",
       "      <td>  -0.531646</td>\n",
       "    </tr>\n",
       "    <tr>\n",
       "      <th>50%</th>\n",
       "      <td>   0.113800</td>\n",
       "      <td>   0.053892</td>\n",
       "      <td>   0.088606</td>\n",
       "    </tr>\n",
       "    <tr>\n",
       "      <th>75%</th>\n",
       "      <td>   0.661160</td>\n",
       "      <td>   0.782833</td>\n",
       "      <td>   0.600897</td>\n",
       "    </tr>\n",
       "    <tr>\n",
       "      <th>max</th>\n",
       "      <td>   2.673605</td>\n",
       "      <td>   1.989213</td>\n",
       "      <td>   2.621580</td>\n",
       "    </tr>\n",
       "  </tbody>\n",
       "</table>\n",
       "</div>"
      ],
      "text/plain": [
       "                A           B           C\n",
       "count  100.000000  100.000000  100.000000\n",
       "mean     0.176822   -0.028189    0.079938\n",
       "std      0.962097    1.056000    0.955360\n",
       "min     -1.909003   -2.515748   -2.564882\n",
       "25%     -0.434171   -0.851826   -0.531646\n",
       "50%      0.113800    0.053892    0.088606\n",
       "75%      0.661160    0.782833    0.600897\n",
       "max      2.673605    1.989213    2.621580"
      ]
     },
     "execution_count": 133,
     "metadata": {},
     "output_type": "execute_result"
    }
   ],
   "source": [
    "df.describe()"
   ]
  },
  {
   "cell_type": "markdown",
   "metadata": {},
   "source": [
    "For more on pandas, see this tutorial: [http://pandas.pydata.org/pandas-docs/stable/10min.html](http://pandas.pydata.org/pandas-docs/stable/10min.html)."
   ]
  },
  {
   "cell_type": "markdown",
   "metadata": {},
   "source": [
    "## To learn more about Python\n",
    "\n",
    "There is a lot of good material in the internet about Python for scientific computing, here is a small list of interesting stuff:  \n",
    "\n",
    " - [How To Think Like A Computer Scientist](http://www.openbookproject.net/thinkcs/python/english2e/) or [the interactive edition](http://interactivepython.org/courselib/static/thinkcspy/index.html) (book)\n",
    " - [Python Scientific Lecture Notes](http://scipy-lectures.github.io/) (lecture notes)\n",
    " - [Lectures on scientific computing with Python](https://github.com/jrjohansson/scientific-python-lectures#lectures-on-scientific-computing-with-python) (lecture notes)\n",
    " - [IPython in depth: high-productivity interactive and parallel python](http://youtu.be/bP8ydKBCZiY) (video lectures)"
   ]
  }
 ],
 "metadata": {
  "kernelspec": {
   "display_name": "Python 3",
   "language": "python",
   "name": "python3"
  },
  "language_info": {
   "codemirror_mode": {
    "name": "ipython",
    "version": 3
   },
   "file_extension": ".py",
   "mimetype": "text/x-python",
   "name": "python",
   "nbconvert_exporter": "python",
   "pygments_lexer": "ipython3",
   "version": "3.4.3"
  }
 },
 "nbformat": 4,
 "nbformat_minor": 0
}
