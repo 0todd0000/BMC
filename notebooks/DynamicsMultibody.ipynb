{
 "cells": [
  {
   "cell_type": "markdown",
   "metadata": {},
   "source": [
    "# Dynamics of planar systems with one and two links\n",
    "\n",
    "Marcos Duarte"
   ]
  },
  {
   "cell_type": "markdown",
   "metadata": {},
   "source": [
    "A multibody system is composed of multiple interconnected bodies (rigid or flexible) and each body may have translational and rotational movement. For instance, the human body is often modeled as multiple rigid bodies articulated by different types of joints.  \n",
    "\n",
    "There are different approaches to deduce the kinematics and dynamics of multibody systems, the most common are the [Newton-Euler](http://en.wikipedia.org/wiki/Newton%E2%80%93Euler_equations) and the [Langrangian](http://en.wikipedia.org/wiki/Lagrangian_mechanics) formalisms. The Newton-Euler formalism is based on the well known Newton-Euler equations. The Langrangian formalism uses the [principle of least action](http://en.wikipedia.org/wiki/Principle_of_least_action) and describes the movement based on [generalized coordinates](http://en.wikipedia.org/wiki/Generalized_coordinates), a set of parameters (typically a convenient minimum set) to describe the configuration of the system, taking into account its constraints. For a system with multiple bodies and several constraints, e.g., the human body, it is easier to describe the dynamics of such system using the Langrangian formalism. \n",
    "\n",
    "For now, we will study two simple problems of multibody dynamics which we can handle well using the Newton-Euler approach: planar systems with one and two links.\n",
    "\n",
    "## Newton-Euler equations\n",
    "\n",
    "For a two-dimensional movement in the $XY$ plane, the general form of the Newton-Euler equations are:  \n",
    "\n",
    "$$ \\left\\{ \\begin{array}{l l}\n",
    "\\sum F_X = m \\ddot{x}_{cm} \\\\\n",
    "\\\\\n",
    "\\sum F_Y = m \\ddot{y}_{cm} \\\\\n",
    "\\\\\n",
    "\\sum M_Z = I_{cm} \\ddot{\\alpha}_Z\n",
    "\\end{array} \\right.$$  \n",
    "\n",
    "Where the movement is described around the body center of mass ($cm$). $(F_X,\\,F_Y)$ and $M_Z$ are, respectively, the forces and moment of forces (torques) acting on the body, $(\\ddot{x}_{cm},\\,\\ddot{y}_{cm})$ and $\\ddot{\\alpha}_Z$ are, respectively, the linear and angular accelerations, and $I_{cm}$ is the body moment of inertia around the $Z$ axis passing through the body center of mass.  \n",
    "\n",
    "Let's use Sympy to derive some of the characteristics of the systems."
   ]
  },
  {
   "cell_type": "code",
   "execution_count": 1,
   "metadata": {
    "collapsed": false
   },
   "outputs": [],
   "source": [
    "import numpy as np\n",
    "from IPython.display import display, Math\n",
    "from sympy import Symbol, symbols, cos, sin, Matrix, simplify\n",
    "from sympy.physics.mechanics import dynamicsymbols, mlatex, init_vprinting\n",
    "init_vprinting()"
   ]
  },
  {
   "cell_type": "markdown",
   "metadata": {},
   "source": [
    "## One-link system\n",
    "\n",
    "Let's study the dynamics of a planar inverted pendulum (see Figure 1).\n",
    "\n",
    "<div class='center-align'><figure><img src=\"./../images/invpend1.png\" width=450 alt=\"Inverted pendulum\"/><figcaption><i><center>Figure 1. Planar inverted pendulum and corresponding free body diagram. See text for notation convention.</center></i></figcaption></div>  \n",
    "\n",
    "The following notation convention will be used for this problem:  \n",
    " - $L$ is the length of the segment.  \n",
    " - $d$ is the distance from the joint of the segment to its center of mass position.  \n",
    " - $m$ is the mass of the segment. \n",
    " - $g$ is the gravitational acceleration (+).   \n",
    " - $r$ is the linear position, with coordinates $(x,\\,y)$, of the center of mass of the segment, and $\\ddot{r}$ is the corresponding linear acceleration.\n",
    " - $\\alpha$ is the angular position of the joint w.r.t. horizontal, $\\ddot{\\alpha_i}$ is the corresponding angular acceleration.  \n",
    " - $I$ is the moment of inertia of the segment around its center of mass position.  \n",
    " - $F_{r}$ is the joint reaction force.  \n",
    " - $T$ is the joint moment of force (torque). \n",
    " \n",
    "### Kinematics\n",
    "\n",
    "If the angular position $\\alpha(t)$ is known, the coordinates $x(t)$ and $y(t)$ and their derivatives can be readily determined (a process referred as forward kinematics):"
   ]
  },
  {
   "cell_type": "code",
   "execution_count": 2,
   "metadata": {
    "collapsed": false
   },
   "outputs": [],
   "source": [
    "t = Symbol('t')\n",
    "d, L = symbols('d L', positive=True)\n",
    "a = dynamicsymbols('alpha')"
   ]
  },
  {
   "cell_type": "code",
   "execution_count": 3,
   "metadata": {
    "collapsed": false
   },
   "outputs": [
    {
     "data": {
      "text/latex": [
       "$$x=d \\operatorname{cos}\\left(\\alpha\\right)$$"
      ],
      "text/plain": [
       "<IPython.core.display.Math object>"
      ]
     },
     "metadata": {},
     "output_type": "display_data"
    },
    {
     "data": {
      "text/latex": [
       "$$\\dot{x}=- d \\operatorname{sin}\\left(\\alpha\\right) \\dot{\\alpha}$$"
      ],
      "text/plain": [
       "<IPython.core.display.Math object>"
      ]
     },
     "metadata": {},
     "output_type": "display_data"
    },
    {
     "data": {
      "text/latex": [
       "$$\\ddot{x}=- d \\operatorname{sin}\\left(\\alpha\\right) \\ddot{\\alpha} - d \\operatorname{cos}\\left(\\alpha\\right) \\left(\\dot{\\alpha}\\right)^{2}$$"
      ],
      "text/plain": [
       "<IPython.core.display.Math object>"
      ]
     },
     "metadata": {},
     "output_type": "display_data"
    },
    {
     "data": {
      "text/latex": [
       "$$y=d \\operatorname{sin}\\left(\\alpha\\right)$$"
      ],
      "text/plain": [
       "<IPython.core.display.Math object>"
      ]
     },
     "metadata": {},
     "output_type": "display_data"
    },
    {
     "data": {
      "text/latex": [
       "$$\\dot{y}=d \\operatorname{cos}\\left(\\alpha\\right) \\dot{\\alpha}$$"
      ],
      "text/plain": [
       "<IPython.core.display.Math object>"
      ]
     },
     "metadata": {},
     "output_type": "display_data"
    },
    {
     "data": {
      "text/latex": [
       "$$\\ddot{y}=- d \\operatorname{sin}\\left(\\alpha\\right) \\left(\\dot{\\alpha}\\right)^{2} + d \\operatorname{cos}\\left(\\alpha\\right) \\ddot{\\alpha}$$"
      ],
      "text/plain": [
       "<IPython.core.display.Math object>"
      ]
     },
     "metadata": {},
     "output_type": "display_data"
    }
   ],
   "source": [
    "x, y = d*cos(a), d*sin(a)\n",
    "xd, yd = x.diff(t), y.diff(t)\n",
    "xdd, ydd = xd.diff(t), yd.diff(t)\n",
    "\n",
    "display(Math(mlatex('x=') + mlatex(x)))\n",
    "display(Math(mlatex('\\dot{x}=') + mlatex(xd)))\n",
    "display(Math(mlatex('\\ddot{x}=') + mlatex(xdd)))\n",
    "display(Math(mlatex('y=') + mlatex(y)))\n",
    "display(Math(mlatex('\\dot{y}=') + mlatex(yd)))\n",
    "display(Math(mlatex('\\ddot{y}=') + mlatex(ydd)))"
   ]
  },
  {
   "cell_type": "markdown",
   "metadata": {},
   "source": [
    "### Dynamics\n",
    " \n",
    "From the free body diagram, the Newton-Euler equations for the planar inverted pendulum are:\n",
    "\n",
    "$$ \\begin{array}{l l}\n",
    "F_{r,x} = m\\ddot{x} \\\\\n",
    "\\\\\n",
    "F_{r,y} - mg = m\\ddot{y} \\\\\n",
    "\\\\\n",
    "T + dF_{r,x}\\sin\\alpha - dF_{r,y}\\cos\\alpha = I\\ddot{\\alpha}\n",
    "\\end{array}$$  \n",
    "\n",
    "We can rewrite the equation for the moments of force in a form that doesn't explicitly envolve the joint reaction force expressing the moments of force around the joint center:\n",
    "\n",
    "$$ T - mgd \\cos \\alpha = I_o\\ddot{\\alpha} $$\n",
    "\n",
    "Where $I_o$ is the moment of inertia around the joint, $I_o=I_{cm}+md^2$, using the parallel axis theorem.  \n",
    "If we want to determine the joint torque and we know the kinematics, we perform inverse dynamics:\n",
    "\n",
    "$$ T = I_o\\ddot{\\alpha} + mgd \\cos \\alpha $$ \n",
    "\n",
    "If we want to determine the kinematics and we know the joint torque, we perform direct dynamics:\n",
    "\n",
    "$$ \\ddot{\\alpha} = I_o^{-1}[T - mgd \\cos \\alpha ] $$  \n",
    "\n",
    "The equation above is a second-order differential equation which typically is solved numerically."
   ]
  },
  {
   "cell_type": "markdown",
   "metadata": {},
   "source": [
    "## Two-link system\n",
    "\n",
    "Let's study the dynamics of a planar double inverted pendulum (see Figure 2).\n",
    "\n",
    "<div class='center-align'><figure><img src=\"./../images/invpend2.png\" alt=\"Inverted pendulum\"/><figcaption><i><center>Figure 2. Planar double inverted pendulum and corresponding free body diagrams. See text for notation convention.</center></i></figcaption></div>  \n",
    "\n",
    "The following notation convention will be used for this problem:  \n",
    " - Subscript $i$ runs 1 or 2 meaning first (most proximal) or second joint when referring to angles, joint moments, or joint reaction forces, or meaning first or second segment when referring to everything else.  \n",
    " - $L_i$ is the length of segment $i$.  \n",
    " - $d_i$ is the distance from the proximal joint of segment $i$ to its center of mass position.  \n",
    " - $m_i$ is the mass of segment $i$. \n",
    " - $g$ is the gravitational acceleration (+).   \n",
    " - $r_i$ is the linear position, with coordinates $(x_i,\\,y_i)$, of the center of mass of segment $i$, and $\\ddot{r}_i$ is the corresponding linear acceleration.\n",
    " - $\\alpha_i$ is the angular position of joint $i$ in the joint space, $\\ddot{\\alpha_i}$ is the corresponding angular acceleration.\n",
    " - $\\theta_i$ is the angular position of joint $i$ in the segment space w.r.t. horizontal, $\\theta_1=\\alpha_1$ and $\\theta_2=\\alpha_1+\\alpha_2$.  \n",
    " - $I_i$ is the moment of inertia of segment $i$ around its center of mass position.  \n",
    " - $F_{ri}$ is the reaction force of joint $i$.  \n",
    " - $T_i$ is the moment of force (torque) of joint $i$.  \n",
    "\n",
    "### Kinematics\n",
    "\n",
    "Once again, if the angular positions $\\alpha_1(t)$ and $\\alpha_2(t)$ are known, the coordinates $(x_1(t), y_1(t))$ and $(x_2(t), y_2(t))$ and their derivatives can be readily determined (by forward kinematics):\n",
    "\n",
    "#### Link 1"
   ]
  },
  {
   "cell_type": "code",
   "execution_count": 4,
   "metadata": {
    "collapsed": true
   },
   "outputs": [],
   "source": [
    "t = Symbol('t')\n",
    "d1, d2, L1, L2 = symbols('d1, d2, L_1 L_2', positive=True)\n",
    "a1, a2, q1, q2 = dynamicsymbols('alpha1 alpha2 theta1 theta2')\n",
    "a1d, a2d = a1.diff(t), a2.diff(t)\n",
    "a1dd, a2dd = a1.diff(t, 2), a2.diff(t, 2)"
   ]
  },
  {
   "cell_type": "code",
   "execution_count": 5,
   "metadata": {
    "collapsed": false
   },
   "outputs": [
    {
     "data": {
      "text/latex": [
       "$$x_1=d_{1} \\operatorname{cos}\\left(\\alpha_{1}\\right)$$"
      ],
      "text/plain": [
       "<IPython.core.display.Math object>"
      ]
     },
     "metadata": {},
     "output_type": "display_data"
    },
    {
     "data": {
      "text/latex": [
       "$$\\dot{x}_1=- d_{1} \\operatorname{sin}\\left(\\alpha_{1}\\right) \\dot{\\alpha}_{1}$$"
      ],
      "text/plain": [
       "<IPython.core.display.Math object>"
      ]
     },
     "metadata": {},
     "output_type": "display_data"
    },
    {
     "data": {
      "text/latex": [
       "$$\\ddot{x}_1=- d_{1} \\operatorname{sin}\\left(\\alpha_{1}\\right) \\ddot{\\alpha}_{1} - d_{1} \\operatorname{cos}\\left(\\alpha_{1}\\right) \\left(\\dot{\\alpha}_{1}\\right)^{2}$$"
      ],
      "text/plain": [
       "<IPython.core.display.Math object>"
      ]
     },
     "metadata": {},
     "output_type": "display_data"
    },
    {
     "data": {
      "text/latex": [
       "$$y_1=d_{1} \\operatorname{sin}\\left(\\alpha_{1}\\right)$$"
      ],
      "text/plain": [
       "<IPython.core.display.Math object>"
      ]
     },
     "metadata": {},
     "output_type": "display_data"
    },
    {
     "data": {
      "text/latex": [
       "$$\\dot{y}_1=d_{1} \\operatorname{cos}\\left(\\alpha_{1}\\right) \\dot{\\alpha}_{1}$$"
      ],
      "text/plain": [
       "<IPython.core.display.Math object>"
      ]
     },
     "metadata": {},
     "output_type": "display_data"
    },
    {
     "data": {
      "text/latex": [
       "$$\\ddot{y}_1=- d_{1} \\operatorname{sin}\\left(\\alpha_{1}\\right) \\left(\\dot{\\alpha}_{1}\\right)^{2} + d_{1} \\operatorname{cos}\\left(\\alpha_{1}\\right) \\ddot{\\alpha}_{1}$$"
      ],
      "text/plain": [
       "<IPython.core.display.Math object>"
      ]
     },
     "metadata": {},
     "output_type": "display_data"
    }
   ],
   "source": [
    "x1, y1 = d1*cos(a1), d1*sin(a1)\n",
    "x1d, y1d = x1.diff(t), y1.diff(t)\n",
    "x1dd, y1dd = x1d.diff(t), y1d.diff(t)\n",
    "\n",
    "display(Math(mlatex('x_1=') + mlatex(x1)))\n",
    "display(Math(mlatex('\\dot{x}_1=') + mlatex(x1d)))\n",
    "display(Math(mlatex('\\ddot{x}_1=') + mlatex(x1dd)))\n",
    "display(Math(mlatex('y_1=') + mlatex(y1)))\n",
    "display(Math(mlatex('\\dot{y}_1=') + mlatex(y1d)))\n",
    "display(Math(mlatex('\\ddot{y}_1=') + mlatex(y1dd)))"
   ]
  },
  {
   "cell_type": "markdown",
   "metadata": {},
   "source": [
    "#### Link 2"
   ]
  },
  {
   "cell_type": "code",
   "execution_count": 6,
   "metadata": {
    "collapsed": false
   },
   "outputs": [
    {
     "data": {
      "text/latex": [
       "$$x_2=L_{1} \\operatorname{cos}\\left(\\alpha_{1}\\right) + d_{2} \\operatorname{cos}\\left(\\alpha_{1} + \\alpha_{2}\\right)$$"
      ],
      "text/plain": [
       "<IPython.core.display.Math object>"
      ]
     },
     "metadata": {},
     "output_type": "display_data"
    },
    {
     "data": {
      "text/latex": [
       "$$\\dot{x}_2=- L_{1} \\operatorname{sin}\\left(\\alpha_{1}\\right) \\dot{\\alpha}_{1} - d_{2} \\left(\\dot{\\alpha}_{1} + \\dot{\\alpha}_{2}\\right) \\operatorname{sin}\\left(\\alpha_{1} + \\alpha_{2}\\right)$$"
      ],
      "text/plain": [
       "<IPython.core.display.Math object>"
      ]
     },
     "metadata": {},
     "output_type": "display_data"
    },
    {
     "data": {
      "text/latex": [
       "$$\\ddot{x}_2=- L_{1} \\operatorname{sin}\\left(\\alpha_{1}\\right) \\ddot{\\alpha}_{1} - L_{1} \\operatorname{cos}\\left(\\alpha_{1}\\right) \\left(\\dot{\\alpha}_{1}\\right)^{2} - d_{2} \\left(\\dot{\\alpha}_{1} + \\dot{\\alpha}_{2}\\right)^{2} \\operatorname{cos}\\left(\\alpha_{1} + \\alpha_{2}\\right) - d_{2} \\left(\\ddot{\\alpha}_{1} + \\ddot{\\alpha}_{2}\\right) \\operatorname{sin}\\left(\\alpha_{1} + \\alpha_{2}\\right)$$"
      ],
      "text/plain": [
       "<IPython.core.display.Math object>"
      ]
     },
     "metadata": {},
     "output_type": "display_data"
    },
    {
     "data": {
      "text/latex": [
       "$$y_2=L_{1} \\operatorname{sin}\\left(\\alpha_{1}\\right) + d_{2} \\operatorname{sin}\\left(\\alpha_{1} + \\alpha_{2}\\right)$$"
      ],
      "text/plain": [
       "<IPython.core.display.Math object>"
      ]
     },
     "metadata": {},
     "output_type": "display_data"
    },
    {
     "data": {
      "text/latex": [
       "$$\\dot{y}_2=L_{1} \\operatorname{cos}\\left(\\alpha_{1}\\right) \\dot{\\alpha}_{1} + d_{2} \\left(\\dot{\\alpha}_{1} + \\dot{\\alpha}_{2}\\right) \\operatorname{cos}\\left(\\alpha_{1} + \\alpha_{2}\\right)$$"
      ],
      "text/plain": [
       "<IPython.core.display.Math object>"
      ]
     },
     "metadata": {},
     "output_type": "display_data"
    },
    {
     "data": {
      "text/latex": [
       "$$\\ddot{y}_2=- L_{1} \\operatorname{sin}\\left(\\alpha_{1}\\right) \\left(\\dot{\\alpha}_{1}\\right)^{2} + L_{1} \\operatorname{cos}\\left(\\alpha_{1}\\right) \\ddot{\\alpha}_{1} - d_{2} \\left(\\dot{\\alpha}_{1} + \\dot{\\alpha}_{2}\\right)^{2} \\operatorname{sin}\\left(\\alpha_{1} + \\alpha_{2}\\right) + d_{2} \\left(\\ddot{\\alpha}_{1} + \\ddot{\\alpha}_{2}\\right) \\operatorname{cos}\\left(\\alpha_{1} + \\alpha_{2}\\right)$$"
      ],
      "text/plain": [
       "<IPython.core.display.Math object>"
      ]
     },
     "metadata": {},
     "output_type": "display_data"
    }
   ],
   "source": [
    "x2, y2 = L1*cos(a1) + d2*cos(a1+a2), L1*sin(a1) + d2*sin(a1+a2)\n",
    "x2d, y2d = x2.diff(t), y2.diff(t)\n",
    "x2dd, y2dd = x2d.diff(t), y2d.diff(t)\n",
    "\n",
    "display(Math(mlatex('x_2=') + mlatex(x2)))\n",
    "display(Math(mlatex('\\dot{x}_2=') + mlatex(x2d)))\n",
    "display(Math(mlatex('\\ddot{x}_2=') + mlatex(x2dd)))\n",
    "display(Math(mlatex('y_2=') + mlatex(y2)))\n",
    "display(Math(mlatex('\\dot{y}_2=') + mlatex(y2d)))\n",
    "display(Math(mlatex('\\ddot{y}_2=') + mlatex(y2dd)))"
   ]
  },
  {
   "cell_type": "markdown",
   "metadata": {},
   "source": [
    "### Dynamics\n",
    "\n",
    "From the free body diagrams, the Newton-Euler equations for the planar double inverted pendulum are:\n",
    "\n",
    "#### Link 2\n",
    " \n",
    "$$ \\begin{array}{l l}\n",
    "F_{r2x} = m_2\\ddot{x}_{2} & \\\\\n",
    "\\\\\n",
    "F_{r2y} - m_2g = m_2\\ddot{y}_{2} & \\\\\n",
    "\\\\\n",
    "T_2 + d_2F_{r2x}\\sin(\\alpha_1+\\alpha_2) - d_2F_{r2y}\\cos(\\alpha_1+\\alpha_2) = I_{2}(\\ddot{\\alpha}_1+\\ddot{\\alpha}_2)\n",
    "\\end{array} $$  \n",
    "\n",
    "#### Link 1\n",
    " \n",
    "$$ \\begin{array}{l l}\n",
    "F_{r1x} - F_{r2x} = m_1\\ddot{x}_{1} \\\\\n",
    "\\\\\n",
    "F_{r1y} - F_{r2y} - m_1g = m_1\\ddot{y}_{1} \\\\\n",
    "\\\\\n",
    "T_1 - T_2 + d_1F_{r1x}\\sin\\alpha_1 - d_1F_{r1y}\\cos\\alpha_1 + (L_1-d_1)F_{r2x}\\sin\\alpha_1 - (L_1-d_1)F_{r2y}\\cos\\alpha_1 = I_{1}\\ddot{\\alpha}_1\n",
    "\\end{array} $$  \n",
    "\n",
    "If we want to determine the joint torques and we know the kinematics of the links, the inverse dynamics approach, we isolate the joint torques in the equations above, start solving for link 2 and then link 1. To determine the kinematics knowing the joint torques, the direct dynamics approach, we isolate the joint angular accelerations in the equations above and solve the ordinary differential equations.\n",
    "\n",
    "Let's express the equations for the moments of force substituing the terms we know:"
   ]
  },
  {
   "cell_type": "code",
   "execution_count": 7,
   "metadata": {
    "collapsed": true
   },
   "outputs": [],
   "source": [
    "m1, m2, I1, I2, g = symbols('m_1, m_2, I_1 I_2 g', positive=True)"
   ]
  },
  {
   "cell_type": "code",
   "execution_count": 8,
   "metadata": {
    "collapsed": false
   },
   "outputs": [],
   "source": [
    "# link 2\n",
    "Fr2x = m2*x2dd\n",
    "Fr2y = m2*y2dd + m2*g\n",
    "T2 = I2*(a1dd+a2dd) - d2*Fr2x*sin(a1+a2) + d2*Fr2y*cos(a1+a2)\n",
    "# link 1\n",
    "Fr1x = m1*x1dd + Fr2x\n",
    "Fr1y = m1*y1dd + Fr2y + m1*g\n",
    "T1 = I1*a1dd + T2 - d1*Fr1x*sin(a1) + d1*Fr1y*cos(a1) - (L1-d1)*Fr2x*sin(a1) + (L1-d1)*Fr2y*cos(a1)"
   ]
  },
  {
   "cell_type": "markdown",
   "metadata": {},
   "source": [
    "The expressions for the joint moments of force are:"
   ]
  },
  {
   "cell_type": "code",
   "execution_count": 9,
   "metadata": {
    "collapsed": false
   },
   "outputs": [
    {
     "data": {
      "text/latex": [
       "$$T_1=I_{1} \\ddot{\\alpha}_{1} + I_{2} \\ddot{\\alpha}_{1} + I_{2} \\ddot{\\alpha}_{2} + L_{1}^{2} m_{2} \\ddot{\\alpha}_{1} - 2 L_{1} d_{2} m_{2} \\operatorname{sin}\\left(\\alpha_{2}\\right) \\dot{\\alpha}_{1} \\dot{\\alpha}_{2} - L_{1} d_{2} m_{2} \\operatorname{sin}\\left(\\alpha_{2}\\right) \\left(\\dot{\\alpha}_{2}\\right)^{2} + 2 L_{1} d_{2} m_{2} \\operatorname{cos}\\left(\\alpha_{2}\\right) \\ddot{\\alpha}_{1} + L_{1} d_{2} m_{2} \\operatorname{cos}\\left(\\alpha_{2}\\right) \\ddot{\\alpha}_{2} + L_{1} g m_{2} \\operatorname{cos}\\left(\\alpha_{1}\\right) + d_{1}^{2} m_{1} \\ddot{\\alpha}_{1} + d_{1} g m_{1} \\operatorname{cos}\\left(\\alpha_{1}\\right) + d_{2}^{2} m_{2} \\ddot{\\alpha}_{1} + d_{2}^{2} m_{2} \\ddot{\\alpha}_{2} + d_{2} g m_{2} \\operatorname{cos}\\left(\\alpha_{1} + \\alpha_{2}\\right)$$"
      ],
      "text/plain": [
       "<IPython.core.display.Math object>"
      ]
     },
     "metadata": {},
     "output_type": "display_data"
    },
    {
     "data": {
      "text/latex": [
       "$$T_2=I_{2} \\ddot{\\alpha}_{1} + I_{2} \\ddot{\\alpha}_{2} + L_{1} d_{2} m_{2} \\operatorname{sin}\\left(\\alpha_{2}\\right) \\left(\\dot{\\alpha}_{1}\\right)^{2} + L_{1} d_{2} m_{2} \\operatorname{cos}\\left(\\alpha_{2}\\right) \\ddot{\\alpha}_{1} + d_{2}^{2} m_{2} \\ddot{\\alpha}_{1} + d_{2}^{2} m_{2} \\ddot{\\alpha}_{2} + d_{2} g m_{2} \\operatorname{cos}\\left(\\alpha_{1} + \\alpha_{2}\\right)$$"
      ],
      "text/plain": [
       "<IPython.core.display.Math object>"
      ]
     },
     "metadata": {},
     "output_type": "display_data"
    }
   ],
   "source": [
    "display(Math(mlatex('T_1=') + mlatex(simplify(T1))))\n",
    "display(Math(mlatex('T_2=') + mlatex(simplify(T2))))"
   ]
  },
  {
   "cell_type": "markdown",
   "metadata": {},
   "source": [
    "These equations are too lengthy for the understanding of each term. There is an elegant way to display these equations if we express them in matrix form and collect the terms proportional to common forces (see for example, page 180 of Craig (2005) or page 383 of Zatsiorsky (2002)):\n",
    "\n",
    "$$ \\boldsymbol{\\tau} = \\mathbf{M}(\\alpha)\\boldsymbol{\\ddot{\\alpha}} + \\mathbf{V}(\\alpha,\\dot{\\alpha}) + \\mathbf{G}(\\alpha) $$\n",
    "\n",
    "Where $\\boldsymbol{\\tau}$ is a matrix (2x1) of the joint torques; $\\mathbf{M}$ is the mass or inertia matrix (2x2); $\\boldsymbol{\\ddot{\\alpha}}$ is a matrix (2x1) of the angular accelerations; $\\mathbf{V}$ is a matrix (2x1) of the torques due to the centipetal and Coriolis forces; and $\\mathbf{G}$ is a matrix (2x1) of the gravitational torques. Let's collect all these terms and show these matrices:"
   ]
  },
  {
   "cell_type": "code",
   "execution_count": 10,
   "metadata": {
    "collapsed": false
   },
   "outputs": [
    {
     "data": {
      "text/latex": [
       "$$\\boldsymbol{\\tau}\\quad\\quad\\;\\;\\;=\\left[\\begin{matrix}\\tau_{1}\\\\\\tau_{2}\\end{matrix}\\right]$$"
      ],
      "text/plain": [
       "<IPython.core.display.Math object>"
      ]
     },
     "metadata": {},
     "output_type": "display_data"
    },
    {
     "data": {
      "text/latex": [
       "$$\\mathbf{M}(\\alpha)\\quad=\\left[\\begin{matrix}I_{1} + I_{2} + L_{1}^{2} m_{2} + 2 L_{1} d_{2} m_{2} \\operatorname{cos}\\left(\\alpha_{2}\\right) + d_{1}^{2} m_{1} + d_{2}^{2} m_{2} & I_{2} + L_{1} d_{2} m_{2} \\operatorname{cos}\\left(\\alpha_{2}\\right) + d_{2}^{2} m_{2}\\\\I_{2} + L_{1} d_{2} m_{2} \\operatorname{cos}\\left(\\alpha_{2}\\right) + d_{2}^{2} m_{2} & I_{2} + d_{2}^{2} m_{2}\\end{matrix}\\right]$$"
      ],
      "text/plain": [
       "<IPython.core.display.Math object>"
      ]
     },
     "metadata": {},
     "output_type": "display_data"
    },
    {
     "data": {
      "text/latex": [
       "$$\\boldsymbol{\\ddot{\\alpha}}\\quad\\quad\\;\\;\\,=\\left[\\begin{matrix}\\ddot{\\alpha}_{1}\\\\\\ddot{\\alpha}_{2}\\end{matrix}\\right]$$"
      ],
      "text/plain": [
       "<IPython.core.display.Math object>"
      ]
     },
     "metadata": {},
     "output_type": "display_data"
    },
    {
     "data": {
      "text/latex": [
       "$$\\mathbf{V}(\\alpha,\\dot{\\alpha})=\\left[\\begin{matrix}- L_{1} d_{2} m_{2} \\left(2 \\dot{\\alpha}_{1} + \\dot{\\alpha}_{2}\\right) \\operatorname{sin}\\left(\\alpha_{2}\\right) \\dot{\\alpha}_{2}\\\\L_{1} d_{2} m_{2} \\operatorname{sin}\\left(\\alpha_{2}\\right) \\left(\\dot{\\alpha}_{1}\\right)^{2}\\end{matrix}\\right]$$"
      ],
      "text/plain": [
       "<IPython.core.display.Math object>"
      ]
     },
     "metadata": {},
     "output_type": "display_data"
    },
    {
     "data": {
      "text/latex": [
       "$$\\mathbf{G}(\\alpha)\\quad=\\left[\\begin{matrix}g \\left(L_{1} m_{2} \\operatorname{cos}\\left(\\alpha_{1}\\right) + d_{1} m_{1} \\operatorname{cos}\\left(\\alpha_{1}\\right) + d_{2} m_{2} \\operatorname{cos}\\left(\\alpha_{1} + \\alpha_{2}\\right)\\right)\\\\d_{2} g m_{2} \\operatorname{cos}\\left(\\alpha_{1} + \\alpha_{2}\\right)\\end{matrix}\\right]$$"
      ],
      "text/plain": [
       "<IPython.core.display.Math object>"
      ]
     },
     "metadata": {},
     "output_type": "display_data"
    }
   ],
   "source": [
    "T1 = T1.expand()\n",
    "T2 = T2.expand()\n",
    "\n",
    "tau1, tau2 = symbols('tau_1, tau_2')\n",
    "tau = Matrix((tau1, tau2))\n",
    "\n",
    "M11 = simplify(T1.coeff(a1dd))\n",
    "M12 = simplify(T1.coeff(a2dd))\n",
    "M21 = simplify(T2.coeff(a1dd))\n",
    "M22 = simplify(T2.coeff(a2dd))\n",
    "M = Matrix(((M11, M12), (M21, M22)))\n",
    "\n",
    "V1 = simplify(T1.coeff(a1d**2)*a1d**2 + T1.coeff(a2d**2)*a2d**2 + T1.coeff(a1d*a2d)*a1d*a2d)\n",
    "V2 = simplify(T2.coeff(a1d**2)*a1d**2 + T2.coeff(a2d**2)*a2d**2 + T2.coeff(a1d*a2d)*a1d*a2d)\n",
    "V = Matrix((V1, V2))\n",
    "\n",
    "G1 = simplify(T1.coeff(g)*g)\n",
    "G2 = simplify(T2.coeff(g)*g)\n",
    "G = Matrix((G1, G2))\n",
    "\n",
    "display(Math(mlatex(r'\\boldsymbol{\\tau}\\quad\\quad\\;\\;\\;=') + mlatex(tau)))\n",
    "display(Math(mlatex(r'\\mathbf{M}(\\alpha)\\quad=') + mlatex(M)))\n",
    "display(Math(mlatex(r'\\boldsymbol{\\ddot{\\alpha}}\\quad\\quad\\;\\;\\,=') + mlatex(Matrix((a1dd, a2dd)))))\n",
    "display(Math(mlatex(r'\\mathbf{V}(\\alpha,\\dot{\\alpha})=') + mlatex(V)))\n",
    "display(Math(mlatex(r'\\mathbf{G}(\\alpha)\\quad=') + mlatex(G)))"
   ]
  },
  {
   "cell_type": "markdown",
   "metadata": {},
   "source": [
    "With this convention, to perform inverse dynamics:\n",
    "\n",
    "$$ \\boldsymbol{\\tau} = \\mathbf{M}(\\alpha)\\boldsymbol{\\ddot{\\alpha}} + \\mathbf{V}(\\alpha,\\dot{\\alpha}) + \\mathbf{G}(\\alpha) $$\n",
    "\n",
    "And for direct dynamics:\n",
    "\n",
    "$$ \\boldsymbol{\\ddot{\\alpha}} = \\mathbf{M}(\\alpha)^{-1} \\left[\\boldsymbol{\\tau} -\\mathbf{V}(\\alpha,\\dot{\\alpha}) - \\mathbf{G}(\\alpha) \\right] $$\n",
    "\n",
    "The advantage of calculating analytically the derivatives of the position vector as function of the joint angles and using the notation above is that each term that contributes to each joint torque or acceleration can be easily identified. \n",
    "\n",
    "#### Coupling (or interaction) effects\n",
    "\n",
    "The terms off the main diagonal in the inertia matrix $\\mathbf{M}(1,2)$ and $\\mathbf{M}(2,1)$ and the centripetal and Coriolis terms represent the effects of the movement (nonzero acceleration and velocity) of one joint over the other. These torques are referred as coupling or interaction effects (see for example Hollerbach and Flash (1982) for an application of this concept in the study of the motor control of the upper limb movement).\n",
    "\n",
    "#### Planar double pendulum\n",
    "\n",
    "Using the same equations above, one can represent a planar double pendulum (hanging from the top, not inverted) considering the angles $\\alpha_1$ and $\\alpha_2$ negative, i.e., at $\\alpha_1=-90^o$ and $\\alpha_2=0$ the pendulum is hanging vertical."
   ]
  },
  {
   "cell_type": "markdown",
   "metadata": {},
   "source": [
    "## Exercises\n",
    "\n",
    "1. Derive the equations of motion for a single pendulum (not inverted).  \n",
    "2. Derive the equations of motion for a double pendulum (not inverted).  \n",
    "3. Consider the double pendulum moving in the horizontal plane, $g=0$. Find out the type of movement and which torque terms are changed when:   \n",
    "  a) $\\dot{\\alpha}_1=0^o$  \n",
    "  b) $\\alpha_2=0^o$  \n",
    "  c) $\\dot{\\alpha}_2=0^o$  \n",
    "  d) $2\\alpha_1+\\alpha_2=180^o$ (hint: a two-link system with this configuration is called polar manipulator)\n",
    "4. Derive the equations of motion and the torque terms using angles in the segment space $(\\theta_1,\\,\\theta_2)$."
   ]
  },
  {
   "cell_type": "markdown",
   "metadata": {},
   "source": [
    "##References\n",
    "\n",
    "- Craig JJ (2005) [Introduction to Robotics: Mechanics and Control](http://books.google.com.br/books?id=MqMeAQAAIAAJ). 3rd Edition. Prentice Hall.  \n",
    "- Hollerbach JM, Flash T (1982) [Dynamic interactions between limb segments during planar arm movement](http://link.springer.com/article/10.1007%2FBF00353957). Biological Cybernetics, 44, 67-77.\n",
    "- Zatsiorsky VM (2002) [Kinetics of human motion](http://books.google.com.br/books?id=wp3zt7oF8a0C). Human Kinetics."
   ]
  }
 ],
 "metadata": {
  "kernelspec": {
   "display_name": "Python 3",
   "language": "python",
   "name": "python3"
  },
  "language_info": {
   "codemirror_mode": {
    "name": "ipython",
    "version": 3
   },
   "file_extension": ".py",
   "mimetype": "text/x-python",
   "name": "python",
   "nbconvert_exporter": "python",
   "pygments_lexer": "ipython3",
   "version": "3.4.1"
  }
 },
 "nbformat": 4,
 "nbformat_minor": 0
}
