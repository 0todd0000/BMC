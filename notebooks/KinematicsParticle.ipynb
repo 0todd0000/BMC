{
 "metadata": {
  "name": "",
  "signature": "sha256:022476c0e5ca5b8336d4310999e5202a9665f72c2ab547b360ee84ee9f7934a3"
 },
 "nbformat": 3,
 "nbformat_minor": 0,
 "worksheets": [
  {
   "cells": [
    {
     "cell_type": "heading",
     "level": 1,
     "metadata": {},
     "source": [
      "Kinematics of a particle"
     ]
    },
    {
     "cell_type": "markdown",
     "metadata": {},
     "source": [
      "Marcos Duarte"
     ]
    },
    {
     "cell_type": "markdown",
     "metadata": {},
     "source": [
      "**Kinematics** is the branch of classical mechanics that describes the motion of objects without consideration of the causes of motion ([Wikipedia](http://en.wikipedia.org/wiki/Kinematics)). Kinematics of a particle is the description of the motion when the object is considered a particle. A particle as a physical object does not exist in nature; it is a simplification to understand the motion of a body or it is a conceptual definition such as the center of mass of a system of objects."
     ]
    },
    {
     "cell_type": "heading",
     "level": 2,
     "metadata": {},
     "source": [
      "Position"
     ]
    },
    {
     "cell_type": "markdown",
     "metadata": {},
     "source": [
      "Consider a point in the three-dimensional Euclidean space described in a Cartesian coordinate system:\n",
      "\n",
      "<div class='center-align'><figure><img src=\"http://upload.wikimedia.org/wikipedia/commons/thumb/6/69/Coord_system_CA_0.svg/240px-Coord_system_CA_0.svg.png\" width=\"400\" alt=\"three-dimensional Euclidean space\"/><figcaption><i>A point in the three-dimensional Euclidean space described in a Cartesian coordinate system (<a href=\"http://en.wikipedia.org/wiki/Euclidean_space\" target=\"_blank\">from Wikipedia</a>).</i></figcaption> </figure></div>\n",
      "\n",
      "The position of this point in space can be represented as a triple of values each representing the coordinate at each axis of the Cartesian coordinate system following the $ \\mathbf{X, Y, Z} $ convention order (which is omitted):\n",
      "\n",
      "$$ (x,\\: y,\\: z) $$   \n",
      "\n",
      "The position of a particle in space can also be represented by a vector in the Cartesian coordinate system, with the origin of the vector at the origin of the coordinate system and the tip of the vector at the point position:\n",
      "\n",
      "$$ \\mathbf{r}(t) = x\\:\\mathbf{i} + y\\:\\mathbf{j} + z\\:\\mathbf{k} $$\n",
      "\n",
      "Where $ \\mathbf{i,\\: j,\\: k} $ are unit vectors in the directions of the axes $ \\mathbf{X, Y, Z} $. \n",
      "\n",
      "For a review on vectors, see the notebook [Scalar and vector](http://nbviewer.ipython.org/github/demotu/BMC/blob/master/notebooks/ScalarVector.ipynb).\n",
      "\n",
      "With this new notation, the coordinates of a point representing the position of a particle that vary with time would be expressed by the following position vector $ \\mathbf{r}(t)$:   \n",
      "\n",
      "$$ \\mathbf{r}(t) = x(t)\\:\\mathbf{i} + y(t)\\:\\mathbf{j} + z(t)\\:\\mathbf{k} $$\n",
      "\n",
      "A vector can also be represented in matrix form:\n",
      "\n",
      "$$ \\mathbf{r}(t) = \\begin{bmatrix} x(t) \\\\y(t) \\\\z(t) \\end{bmatrix}$$\n",
      "\n",
      "And the unit vectors in each Cartesian coordinate in matrix form are given by:\n",
      "\n",
      "$$ \\mathbf{i}= \\begin{bmatrix}1\\\\0\\\\0 \\end{bmatrix},\\; \\mathbf{j}=\\begin{bmatrix}0\\\\1\\\\0 \\end{bmatrix},\\; \\mathbf{k}=\\begin{bmatrix} 0 \\\\ 0 \\\\ 1 \\end{bmatrix}$$\n",
      "\n",
      "In [linear algebra](http://en.wikipedia.org/wiki/Linear_algebra), a set of unit linearly independent vectors as the three vectors above (orthogonal in the Euclidean space) that can represent any vector via [linear combination](http://en.wikipedia.org/wiki/Linear_combination) is called a basis. A basis is the foundation of creating a reference frame and we will study how to do that other time. "
     ]
    },
    {
     "cell_type": "heading",
     "level": 3,
     "metadata": {},
     "source": [
      "Displacement"
     ]
    },
    {
     "cell_type": "markdown",
     "metadata": {},
     "source": [
      "The shortest distance from the initial to the final position of a particle. As the difference between two vectors; displacement is also a vector quantity."
     ]
    },
    {
     "cell_type": "heading",
     "level": 2,
     "metadata": {},
     "source": [
      "Velocity"
     ]
    },
    {
     "cell_type": "markdown",
     "metadata": {},
     "source": [
      "Velocity is the rate (with respect to time) of change of the position of a particle:\n",
      "\n",
      "$$ \\mathbf{v}(t) = \\frac{\\mathbf{r}(t_2)-\\mathbf{r}(t_1)}{t_2-t_1} = \\frac{\\Delta \\mathbf{r}}{\\Delta t}$$\n",
      "\n",
      "The instantaneous velocity of the particle is obtained when $\\Delta t\\;$ approaches to zero, which from calculus is the first-order [derivative](http://en.wikipedia.org/wiki/Derivative) of the position vector. The derivative of a vector is obtained by differentiating each vector component:   \n",
      "\n",
      "$$ \\mathbf{v}(t) = \\frac{\\mathrm{d}\\mathbf{r}(t)}{dt} = \\frac{\\mathrm{d}x(t)}{\\mathrm{d}t}\\mathbf{i} + \\frac{\\mathrm{d}y(t)}{\\mathrm{d}t}\\mathbf{j} + \\frac{\\mathrm{d}z(t)}{\\mathrm{d}t}\\mathbf{k} $$\n",
      "\n",
      "And in matrix form:\n",
      "\n",
      "$$ \\mathbf{v}(t) = \\begin{bmatrix}\n",
      "\\frac{\\mathrm{d}x(t)}{\\mathrm{d}t} \\\\\n",
      "\\frac{\\mathrm{d}y(t)}{\\mathrm{d}t} \\\\\n",
      "\\frac{\\mathrm{d}z(t)}{\\mathrm{d}t}\n",
      "\\end{bmatrix}$$"
     ]
    },
    {
     "cell_type": "heading",
     "level": 2,
     "metadata": {},
     "source": [
      "Acceleration  "
     ]
    },
    {
     "cell_type": "markdown",
     "metadata": {},
     "source": [
      "Acceleration is the rate (with respect to time) of change of the velocity of a particle, which can also be given by the second-order rate of change of the position:\n",
      "\n",
      "$$ \\mathbf{a}(t) = \\frac{\\mathbf{v}(t_2)-\\mathbf{v}(t_1)}{t_2-t_1} = \\frac{\\Delta \\mathbf{v}}{\\Delta t} = \\frac{\\Delta^2 \\mathbf{r}}{\\Delta t^2}$$\n",
      "\n",
      "Likewise, acceleration is the first-order derivative of the velocity or the second-order derivative of the position vector:   \n",
      "\n",
      "$$ \\mathbf{a}(t) = \\frac{\\mathrm{d}\\mathbf{v}(t)}{\\mathrm{d}t} = \\frac{\\mathrm{d}^2\\mathbf{r}(t)}{\\mathrm{d}t^2} = \\frac{\\mathrm{d}^2x(t)}{\\mathrm{d}t^2}\\mathbf{i} + \\frac{\\mathrm{d}^2y(t)}{\\mathrm{d}t^2}\\mathbf{j} + \\frac{\\mathrm{d}^2z(t)}{\\mathrm{d}t^2}\\mathbf{k} $$\n",
      "\n",
      "And in matrix form:\n",
      "\n",
      "$$ \\mathbf{a}(t) = \\begin{bmatrix}\n",
      "\\frac{\\mathrm{d}^2x(t)}{\\mathrm{d}t^2} \\\\\n",
      "\\frac{\\mathrm{d}^2y(t)}{\\mathrm{d}t^2} \\\\\n",
      "\\frac{\\mathrm{d}^2z(t)}{\\mathrm{d}t^2} \n",
      "\\end{bmatrix}$$"
     ]
    },
    {
     "cell_type": "heading",
     "level": 2,
     "metadata": {},
     "source": [
      "The antiderivative"
     ]
    },
    {
     "cell_type": "markdown",
     "metadata": {},
     "source": [
      "As the acceleration is the derivative of the velocity which is the derivative of position, the inverse mathematical operation is the [antiderivative](http://en.wikipedia.org/wiki/Antiderivative) (or integral):\n",
      "\n",
      "$$ \\begin{array}{l l}\n",
      "\\mathbf{r}(t) = \\mathbf{r}_0 + \\int \\mathbf{v}(t) \\:\\mathrm{d}t \\\\\n",
      "\\mathbf{v}(t) = \\mathbf{v}_0 + \\int \\mathbf{a}(t) \\:\\mathrm{d}t \n",
      "\\end{array} $$"
     ]
    },
    {
     "cell_type": "heading",
     "level": 2,
     "metadata": {},
     "source": [
      "Some cases of motion of a particle"
     ]
    },
    {
     "cell_type": "markdown",
     "metadata": {},
     "source": [
      "#### Particle at rest\n",
      "\n",
      "$$ \\begin{array}{l l}\n",
      "\\mathbf{a}(t) = 0 \\\\\n",
      "\\mathbf{v}(t) = 0 \\\\\n",
      "\\mathbf{r}(t) = \\mathbf{r}_0\n",
      "\\end{array} $$\n",
      "\n",
      "#### Particle at constant speed\n",
      "\n",
      "$$ \\begin{array}{l l}\n",
      "\\mathbf{a}(t) = 0 \\\\\n",
      "\\mathbf{v}(t) = \\mathbf{v}_0 \\\\\n",
      "\\mathbf{r}(t) = \\mathbf{r}_0 + \\mathbf{v}_0t\n",
      "\\end{array} $$\n",
      "\n",
      "#### Particle at constant acceleration\n",
      "\n",
      "$$ \\begin{array}{l l}\n",
      "\\mathbf{a}(t) = \\mathbf{a}_0 \\\\\n",
      "\\mathbf{v}(t) = \\mathbf{v}_0 + \\mathbf{a}_0t \\\\\n",
      "\\mathbf{r}(t) = \\mathbf{r}_0 + \\mathbf{v}_0t + \\frac{\\mathbf{a}_0t^2}{2} \n",
      "\\end{array} $$"
     ]
    },
    {
     "cell_type": "heading",
     "level": 3,
     "metadata": {},
     "source": [
      "Visual representation of these cases"
     ]
    },
    {
     "cell_type": "code",
     "collapsed": false,
     "input": [
      "# Import the necessary libraries\n",
      "from __future__ import division, print_function\n",
      "import numpy as np\n",
      "import matplotlib.pyplot as plt\n",
      "%matplotlib inline\n",
      "\n",
      "t = np.arange(0, 2.0, 0.02)\n",
      "r0 = 1; v0 = 2; a0 = 4\n",
      "\n",
      "plt.rc('axes',  labelsize=14,  titlesize=14) \n",
      "plt.rc('xtick', labelsize=10)\n",
      "plt.rc('ytick', labelsize=10) \n",
      "f, axarr = plt.subplots(3, 3, sharex = True, sharey = True, figsize=(14,7))\n",
      "plt.suptitle('Kinematics of a particle', fontsize=20);\n",
      "\n",
      "tones = np.ones(np.size(t))\n",
      "\n",
      "axarr[0, 0].set_title('at rest', fontsize=14);\n",
      "axarr[0, 0].plot(t, r0*tones, 'g', linewidth=4, label='$r(t)=1$')\n",
      "axarr[1, 0].plot(t,  0*tones, 'b', linewidth=4, label='$v(t)=0$')\n",
      "axarr[2, 0].plot(t,  0*tones, 'r', linewidth=4, label='$a(t)=0$')\n",
      "axarr[0, 0].set_ylabel('r(t) [m]')\n",
      "axarr[1, 0].set_ylabel('v(t) [m/s]')\n",
      "axarr[2, 0].set_ylabel('a(t) [m/s$^2$]')\n",
      "\n",
      "axarr[0, 1].set_title('at constant speed');\n",
      "axarr[0, 1].plot(t, r0*tones+v0*t, 'g', linewidth=4, label='$r(t)=1+2t$')\n",
      "axarr[1, 1].plot(t, v0*tones,      'b', linewidth=4, label='$v(t)=2$')\n",
      "axarr[2, 1].plot(t,  0*tones,      'r', linewidth=4, label='$a(t)=0$')\n",
      "\n",
      "axarr[0, 2].set_title('at constant acceleration');\n",
      "axarr[0, 2].plot(t, r0*tones+v0*t+1/2.*a0*t**2,'g', linewidth=4,\n",
      "                 label='$r(t)=1+2t+\\\\frac{1}{2}4t^2$')\n",
      "axarr[1, 2].plot(t, v0*tones+a0*t,             'b', linewidth=4,\n",
      "                 label='$v(t)=2+4t$')\n",
      "axarr[2, 2].plot(t, a0*tones,                  'r', linewidth=4,\n",
      "                 label='$a(t)=4$')\n",
      "\n",
      "for i in range(3): \n",
      "    axarr[2, i].set_xlabel('Time [s]');\n",
      "    for j in range(3):\n",
      "        axarr[i,j].grid()\n",
      "        axarr[i,j].set_ylim((-.2, 10))\n",
      "        axarr[i,j].legend(loc = 'upper left', framealpha = 0.9, fontsize=16)\n",
      "        \n",
      "plt.subplots_adjust(hspace=0.09, wspace=0.07)"
     ],
     "language": "python",
     "metadata": {},
     "outputs": [
      {
       "metadata": {},
       "output_type": "display_data",
       "png": "[encoded data removed]",
       "text": [
        "<matplotlib.figure.Figure at 0x4483390>"
       ]
      }
     ],
     "prompt_number": 1
    },
    {
     "cell_type": "heading",
     "level": 2,
     "metadata": {},
     "source": [
      "Kinematics of human movement"
     ]
    },
    {
     "cell_type": "markdown",
     "metadata": {},
     "source": [
      "An example where the analysis of some aspects of the human body movement can be reduced to the analysis of a particle is the study of the biomechanics of the 100-metre race. Watch the video below to understand how this can be done."
     ]
    },
    {
     "cell_type": "code",
     "collapsed": false,
     "input": [
      "from IPython.display import IFrame\n",
      "IFrame('http://video.mit.edu/embed/12042/', width=640, height=360)"
     ],
     "language": "python",
     "metadata": {},
     "outputs": [
      {
       "html": [
        "\n",
        "        <iframe\n",
        "            width=\"640\"\n",
        "            height=360\"\n",
        "            src=\"http://video.mit.edu/embed/12042/\"\n",
        "            frameborder=\"0\"\n",
        "            allowfullscreen\n",
        "        ></iframe>\n",
        "        "
       ],
       "metadata": {},
       "output_type": "pyout",
       "prompt_number": 24,
       "text": [
        "<IPython.lib.display.IFrame at 0x8f529e8>"
       ]
      }
     ],
     "prompt_number": 24
    },
    {
     "cell_type": "markdown",
     "metadata": {},
     "source": [
      "A technical report with the kinematic data for the 100-m world record by Usain Bolt discussed in the video above can be downloaded from the [website for Research Projects](http://www.iaaf.org/development/research) from the International Association of Athletics Federations. [Here is a direct link for that report](http://www.iaaf.org/download/download?filename=76ade5f9-75a0-4fda-b9bf-1b30be6f60d2.pdf&urlSlug=1-biomechanics-report-wc-berlin-2009-sprint). In particular, the following table shows the data for the three medalists in that race:\n",
      "\n",
      "<div class='center-align'><figure><img src=\"./../images/Berlin2009_100m.png\" alt=\"partial times of the 100m-race at Berlin 2009\"/><figcaption><i>Data from the three medalists of the 100-m dash in Berlin, 2009 (<a href=\"http://www.iaaf.org/download/download?filename=76ade5f9-75a0-4fda-b9bf-1b30be6f60d2.pdf&urlSlug=1-biomechanics-report-wc-berlin-2009-sprint)\">IAAF report</a>)</i>.</figcaption></figure></div>\n",
      "\n",
      "The article [A Kinematics Analysis Of Three Best 100 M Performances Ever](http://www.ncbi.nlm.nih.gov/pmc/articles/PMC3661886/) by Krzysztof and Mero presents a detailed kinematic analysis of 100-m races. "
     ]
    },
    {
     "cell_type": "heading",
     "level": 2,
     "metadata": {},
     "source": [
      "Problems"
     ]
    },
    {
     "cell_type": "markdown",
     "metadata": {},
     "source": [
      "1. Consider the data for the for three medalists of the 100-m dash in Berlin, 2009, shown previously.  \n",
      " a. Calculate the instantaneous velocity and acceleration.   \n",
      " b. Plot the graphs for the displacement, velocity, and acceleration versus time.   \n",
      " c. Plot the graphs velocity and acceleration versus partial distance (every 20m).   \n",
      " d. Calculate the mean velocity and mean acceleration and the instants and values of the peak velocity and peak acceleration.  \n",
      "\n",
      "2. A body attached to a spring has its position (in cm) described by the equation $x(t) = 2\\sin(4\\pi t + \\pi/4)$.   \n",
      " a. Calculate the equation for the body velocity and acceleration.   \n",
      " b. Plot the position, velocity, and acceleration in the interval [0, 1] s.  "
     ]
    },
    {
     "cell_type": "heading",
     "level": 2,
     "metadata": {},
     "source": [
      "References"
     ]
    },
    {
     "cell_type": "markdown",
     "metadata": {},
     "source": [
      "- Krzysztof M, Antti Mero A (2013) [A Kinematics Analysis Of Three Best 100 M Performances Ever](http://www.ncbi.nlm.nih.gov/pmc/articles/PMC3661886/). Journal of Human Kinetics, 36, 149\u2013160.\n",
      "- [Research Projects](http://www.iaaf.org/development/research) from the International Association of Athletics Federations."
     ]
    },
    {
     "cell_type": "markdown",
     "metadata": {},
     "source": [
      "> This page was written in the [IPython Notebook](http://ipython.org/notebook.html).  \n",
      "To download the notebook click on this option at the top menu or get it from the [github repo](https://github.com/demotu/BMC)."
     ]
    }
   ],
   "metadata": {}
  }
 ]
}