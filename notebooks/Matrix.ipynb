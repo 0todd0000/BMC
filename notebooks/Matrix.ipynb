{
 "metadata": {
  "name": "",
  "signature": "sha256:e9c0f9aab0711372497acfcb62b466a91a3c4a533d8e8f30be3995044be9c618"
 },
 "nbformat": 3,
 "nbformat_minor": 0,
 "worksheets": [
  {
   "cells": [
    {
     "cell_type": "heading",
     "level": 1,
     "metadata": {},
     "source": [
      "Matrix"
     ]
    },
    {
     "cell_type": "markdown",
     "metadata": {},
     "source": [
      "Marcos Duarte"
     ]
    },
    {
     "cell_type": "markdown",
     "metadata": {},
     "source": [
      "> A matrix is a square or rectangular array of numbers or symbols (termed elements), arranged in rows and columns.   \n",
      "\n",
      "For instance:\n",
      "\n",
      "$$ \n",
      "\\mathbf{A} = \n",
      "\\begin{bmatrix} \n",
      "a_{1,1} & a_{1,2} & a_{1,3} \\\\\n",
      "a_{2,1} & a_{2,2} & a_{2,3} \n",
      "\\end{bmatrix}\n",
      "$$\n",
      "\n",
      "$$ \n",
      "\\mathbf{A} = \n",
      "\\begin{bmatrix} \n",
      "1 & 2 & 3 \\\\\n",
      "4 & 5 & 6 \n",
      "\\end{bmatrix}\n",
      "$$\n",
      "\n",
      "The matrix $\\mathbf{A}$ above has two rows and three columns, it is a 2x3 matrix.\n",
      "\n",
      "In NumPy:"
     ]
    },
    {
     "cell_type": "code",
     "collapsed": false,
     "input": [
      "# Import the necessary libraries\n",
      "from __future__ import division, print_function\n",
      "import numpy as np\n",
      "from IPython.display import display\n",
      "np.set_printoptions(precision=4)  # number of digits of precision for floating point"
     ],
     "language": "python",
     "metadata": {},
     "outputs": [],
     "prompt_number": 1
    },
    {
     "cell_type": "code",
     "collapsed": false,
     "input": [
      "A = np.array([[1, 2, 3], [4, 5, 6]])\n",
      "A"
     ],
     "language": "python",
     "metadata": {},
     "outputs": [
      {
       "metadata": {},
       "output_type": "pyout",
       "prompt_number": 2,
       "text": [
        "array([[1, 2, 3],\n",
        "       [4, 5, 6]])"
       ]
      }
     ],
     "prompt_number": 2
    },
    {
     "cell_type": "markdown",
     "metadata": {},
     "source": [
      "To get information about the number of elements and the structure of the matrix (in fact, a NumPy array), we can use:"
     ]
    },
    {
     "cell_type": "code",
     "collapsed": false,
     "input": [
      "print('A = ', A)\n",
      "print('len(A) = ', len(A))\n",
      "print('np.size(A) = ', np.size(A))\n",
      "print('np.shape(A) = ', np.shape(A))\n",
      "print('np.ndim(A) = ', np.ndim(A))"
     ],
     "language": "python",
     "metadata": {},
     "outputs": [
      {
       "output_type": "stream",
       "stream": "stdout",
       "text": [
        "A =  [[1 2 3]\n",
        " [4 5 6]]\n",
        "len(A) =  2\n",
        "np.size(A) =  6\n",
        "np.shape(A) =  (2, 3)\n",
        "np.ndim(A) =  2\n"
       ]
      }
     ],
     "prompt_number": 3
    },
    {
     "cell_type": "markdown",
     "metadata": {},
     "source": [
      "We could also have accessed this information with the correspondent methods:"
     ]
    },
    {
     "cell_type": "code",
     "collapsed": false,
     "input": [
      "print('A.size = ', A.size)\n",
      "print('A.shape = ', A.shape)\n",
      "print('A.ndim = ', A.ndim)"
     ],
     "language": "python",
     "metadata": {},
     "outputs": [
      {
       "output_type": "stream",
       "stream": "stdout",
       "text": [
        "A.size =  6\n",
        "A.shape =  (2, 3)\n",
        "A.ndim =  2\n"
       ]
      }
     ],
     "prompt_number": 4
    },
    {
     "cell_type": "markdown",
     "metadata": {},
     "source": [
      "We used the array function in NumPy to represent a matrix. A [NumPy array is in fact different than a matrix](http://www.scipy.org/NumPy_for_Matlab_Users), if we want to use explicit matrices in Numpy, we have to use the function `mat`:"
     ]
    },
    {
     "cell_type": "code",
     "collapsed": false,
     "input": [
      "B = np.mat([[1, 2, 3], [4, 5, 6]])\n",
      "B"
     ],
     "language": "python",
     "metadata": {},
     "outputs": [
      {
       "metadata": {},
       "output_type": "pyout",
       "prompt_number": 5,
       "text": [
        "matrix([[1, 2, 3],\n",
        "        [4, 5, 6]])"
       ]
      }
     ],
     "prompt_number": 5
    },
    {
     "cell_type": "markdown",
     "metadata": {},
     "source": [
      "Both array and matrix types work in NumPy, but you should choose only one type and not mix them; the array is preferred because it is [the standard vector/matrix/tensor type of NumPy](http://www.scipy.org/NumPy_for_Matlab_Users). So, let's use the array type for the rest of this text."
     ]
    },
    {
     "cell_type": "heading",
     "level": 2,
     "metadata": {},
     "source": [
      "Addition and multiplication"
     ]
    },
    {
     "cell_type": "markdown",
     "metadata": {},
     "source": [
      "The sum of two m-by-n matrices $\\mathbf{A}$ and $\\mathbf{B}$ is another m-by-n matrix:"
     ]
    },
    {
     "cell_type": "markdown",
     "metadata": {},
     "source": [
      "$$ \n",
      "\\mathbf{A} = \n",
      "\\begin{bmatrix} \n",
      "a_{1,1} & a_{1,2} & a_{1,3} \\\\\n",
      "a_{2,1} & a_{2,2} & a_{2,3} \n",
      "\\end{bmatrix}\n",
      "\\;\\;\\; \\text{and} \\;\\;\\;\n",
      "\\mathbf{B} =\n",
      "\\begin{bmatrix} \n",
      "b_{1,1} & b_{1,2} & b_{1,3} \\\\\n",
      "b_{2,1} & b_{2,2} & b_{2,3} \n",
      "\\end{bmatrix}\n",
      "$$\n",
      "\n",
      "$$\n",
      "\\mathbf{A} + \\mathbf{B} = \n",
      "\\begin{bmatrix} \n",
      "a_{1,1}+b_{1,1} & a_{1,2}+b_{1,2} & a_{1,3}+b_{1,3} \\\\\n",
      "a_{2,1}+b_{2,1} & a_{2,2}+b_{2,2} & a_{2,3}+b_{2,3} \n",
      "\\end{bmatrix}\n",
      "$$\n",
      "\n",
      "In NumPy:"
     ]
    },
    {
     "cell_type": "code",
     "collapsed": false,
     "input": [
      "A = np.array([[1, 2, 3], [4, 5, 6]])\n",
      "B = np.array([[7, 8, 9], [10, 11, 12]])\n",
      "print('A ='), display(A)\n",
      "print('B ='), display(B)\n",
      "print('A + B ='), display(A+B);"
     ],
     "language": "python",
     "metadata": {},
     "outputs": [
      {
       "output_type": "stream",
       "stream": "stdout",
       "text": [
        "A =\n"
       ]
      },
      {
       "metadata": {},
       "output_type": "display_data",
       "text": [
        "array([[1, 2, 3],\n",
        "       [4, 5, 6]])"
       ]
      },
      {
       "output_type": "stream",
       "stream": "stdout",
       "text": [
        "B =\n"
       ]
      },
      {
       "metadata": {},
       "output_type": "display_data",
       "text": [
        "array([[ 7,  8,  9],\n",
        "       [10, 11, 12]])"
       ]
      },
      {
       "output_type": "stream",
       "stream": "stdout",
       "text": [
        "A + B =\n"
       ]
      },
      {
       "metadata": {},
       "output_type": "display_data",
       "text": [
        "array([[ 8, 10, 12],\n",
        "       [14, 16, 18]])"
       ]
      }
     ],
     "prompt_number": 6
    },
    {
     "cell_type": "markdown",
     "metadata": {},
     "source": [
      "The multiplication of the m-by-n matrix $\\mathbf{A}$ by the n-by-p matrix $\\mathbf{B}$ is a m-by-p matrix:\n",
      "\n",
      "$$ \n",
      "\\mathbf{A} = \n",
      "\\begin{bmatrix} \n",
      "a_{1,1} & a_{1,2} \\\\\n",
      "a_{2,1} & a_{2,2} \n",
      "\\end{bmatrix}\n",
      "\\;\\;\\; \\text{and} \\;\\;\\;\n",
      "\\mathbf{B} =\n",
      "\\begin{bmatrix} \n",
      "b_{1,1} & b_{1,2} & b_{1,3} \\\\\n",
      "b_{2,1} & b_{2,2} & b_{2,3} \n",
      "\\end{bmatrix}\n",
      "$$\n",
      "\n",
      "$$\n",
      "\\mathbf{A} \\mathbf{B} = \n",
      "\\begin{bmatrix} \n",
      "a_{1,1}b_{1,1} + a_{1,2}b_{2,1} & a_{1,1}b_{1,2} + a_{1,2}b_{2,2} & a_{1,1}b_{1,3} + a_{1,2}b_{2,3} \\\\\n",
      "a_{2,1}b_{1,1} + a_{2,2}b_{2,1} & a_{2,1}b_{1,2} + a_{2,2}b_{2,2} & a_{2,1}b_{1,3} + a_{2,2}b_{2,3}\n",
      "\\end{bmatrix}\n",
      "$$\n",
      "\n",
      "In NumPy:"
     ]
    },
    {
     "cell_type": "code",
     "collapsed": false,
     "input": [
      "A = np.array([[1, 2], [3, 4]])\n",
      "B = np.array([[5, 6, 7], [8, 9, 10]])\n",
      "print('A ='), display(A)\n",
      "print('B ='), display(B)\n",
      "print('AB ='), display(np.dot(A, B));"
     ],
     "language": "python",
     "metadata": {},
     "outputs": [
      {
       "output_type": "stream",
       "stream": "stdout",
       "text": [
        "A =\n"
       ]
      },
      {
       "metadata": {},
       "output_type": "display_data",
       "text": [
        "array([[1, 2],\n",
        "       [3, 4]])"
       ]
      },
      {
       "output_type": "stream",
       "stream": "stdout",
       "text": [
        "B =\n"
       ]
      },
      {
       "metadata": {},
       "output_type": "display_data",
       "text": [
        "array([[ 5,  6,  7],\n",
        "       [ 8,  9, 10]])"
       ]
      },
      {
       "output_type": "stream",
       "stream": "stdout",
       "text": [
        "AB =\n"
       ]
      },
      {
       "metadata": {},
       "output_type": "display_data",
       "text": [
        "array([[21, 24, 27],\n",
        "       [47, 54, 61]])"
       ]
      }
     ],
     "prompt_number": 7
    },
    {
     "cell_type": "markdown",
     "metadata": {},
     "source": [
      "Note that because the array type is not truly a matrix type, we used the dot product to calculate matrix multiplication.   \n",
      "We can use the matrix type to show the equivalent:"
     ]
    },
    {
     "cell_type": "code",
     "collapsed": false,
     "input": [
      "A = np.mat(A)\n",
      "B = np.mat(B)\n",
      "print('A ='), display(A)\n",
      "print('B ='), display(B)\n",
      "print('AB ='), display(A*B);"
     ],
     "language": "python",
     "metadata": {},
     "outputs": [
      {
       "output_type": "stream",
       "stream": "stdout",
       "text": [
        "A =\n"
       ]
      },
      {
       "metadata": {},
       "output_type": "display_data",
       "text": [
        "matrix([[1, 2],\n",
        "        [3, 4]])"
       ]
      },
      {
       "output_type": "stream",
       "stream": "stdout",
       "text": [
        "B =\n"
       ]
      },
      {
       "metadata": {},
       "output_type": "display_data",
       "text": [
        "matrix([[ 5,  6,  7],\n",
        "        [ 8,  9, 10]])"
       ]
      },
      {
       "output_type": "stream",
       "stream": "stdout",
       "text": [
        "AB =\n"
       ]
      },
      {
       "metadata": {},
       "output_type": "display_data",
       "text": [
        "matrix([[21, 24, 27],\n",
        "        [47, 54, 61]])"
       ]
      }
     ],
     "prompt_number": 8
    },
    {
     "cell_type": "markdown",
     "metadata": {},
     "source": [
      "Same result as before.\n",
      "\n",
      "The order in multiplication matters, $\\mathbf{AB} \\neq \\mathbf{BA}$:"
     ]
    },
    {
     "cell_type": "code",
     "collapsed": false,
     "input": [
      "A = np.array([[1, 2], [3, 4]])\n",
      "B = np.array([[5, 6], [7, 8]])\n",
      "print('A ='), display(A)\n",
      "print('B ='), display(B)\n",
      "print('AB ='), display(np.dot(A, B))\n",
      "print('BA ='), display(np.dot(B, A));"
     ],
     "language": "python",
     "metadata": {},
     "outputs": [
      {
       "output_type": "stream",
       "stream": "stdout",
       "text": [
        "A =\n"
       ]
      },
      {
       "metadata": {},
       "output_type": "display_data",
       "text": [
        "array([[1, 2],\n",
        "       [3, 4]])"
       ]
      },
      {
       "output_type": "stream",
       "stream": "stdout",
       "text": [
        "B =\n"
       ]
      },
      {
       "metadata": {},
       "output_type": "display_data",
       "text": [
        "array([[5, 6],\n",
        "       [7, 8]])"
       ]
      },
      {
       "output_type": "stream",
       "stream": "stdout",
       "text": [
        "AB =\n"
       ]
      },
      {
       "metadata": {},
       "output_type": "display_data",
       "text": [
        "array([[19, 22],\n",
        "       [43, 50]])"
       ]
      },
      {
       "output_type": "stream",
       "stream": "stdout",
       "text": [
        "BA =\n"
       ]
      },
      {
       "metadata": {},
       "output_type": "display_data",
       "text": [
        "array([[23, 34],\n",
        "       [31, 46]])"
       ]
      }
     ],
     "prompt_number": 9
    },
    {
     "cell_type": "markdown",
     "metadata": {},
     "source": [
      "The addition or multiplication of a scalar (a single number) to a matrix is performed over all the elements of the matrix:"
     ]
    },
    {
     "cell_type": "code",
     "collapsed": false,
     "input": [
      "A = np.array([[1, 2], [3, 4]])\n",
      "c = 10\n",
      "print('A ='), display(A)\n",
      "print('c =', c)\n",
      "print('c + A ='), display(c+A)\n",
      "print('cA ='), display(c*A);"
     ],
     "language": "python",
     "metadata": {},
     "outputs": [
      {
       "output_type": "stream",
       "stream": "stdout",
       "text": [
        "A =\n"
       ]
      },
      {
       "metadata": {},
       "output_type": "display_data",
       "text": [
        "array([[1, 2],\n",
        "       [3, 4]])"
       ]
      },
      {
       "output_type": "stream",
       "stream": "stdout",
       "text": [
        "c = 10\n",
        "c + A =\n"
       ]
      },
      {
       "metadata": {},
       "output_type": "display_data",
       "text": [
        "array([[11, 12],\n",
        "       [13, 14]])"
       ]
      },
      {
       "output_type": "stream",
       "stream": "stdout",
       "text": [
        "cA =\n"
       ]
      },
      {
       "metadata": {},
       "output_type": "display_data",
       "text": [
        "array([[10, 20],\n",
        "       [30, 40]])"
       ]
      }
     ],
     "prompt_number": 10
    },
    {
     "cell_type": "heading",
     "level": 2,
     "metadata": {},
     "source": [
      "Transposition"
     ]
    },
    {
     "cell_type": "markdown",
     "metadata": {},
     "source": [
      "The transpose of the matrix $\\mathbf{A}$ is the matrix $\\mathbf{A^T}$ turning all the rows of matrix $\\mathbf{A}$ into columns (or columns into rows):\n",
      "\n",
      "$$ \n",
      "\\mathbf{A} = \n",
      "\\begin{bmatrix} \n",
      "a & b & c \\\\\n",
      "d & e & f \\end{bmatrix}\n",
      "\\;\\;\\;\\;\\;\\;\\iff\\;\\;\\;\\;\\;\\;\n",
      "\\mathbf{A^T} = \n",
      "\\begin{bmatrix} \n",
      "a & d \\\\\n",
      "b & e \\\\\n",
      "c & f\n",
      "\\end{bmatrix} $$\n",
      "\n",
      "In NumPy, the transpose operator can be used as a method or function:"
     ]
    },
    {
     "cell_type": "code",
     "collapsed": false,
     "input": [
      "A = np.array([[1, 2], [3, 4]])\n",
      "print('A ='), display(A)\n",
      "print('A.T ='), display(A.T)\n",
      "print('np.transpose(A) ='), display(np.transpose(A));"
     ],
     "language": "python",
     "metadata": {},
     "outputs": [
      {
       "output_type": "stream",
       "stream": "stdout",
       "text": [
        "A =\n"
       ]
      },
      {
       "metadata": {},
       "output_type": "display_data",
       "text": [
        "array([[1, 2],\n",
        "       [3, 4]])"
       ]
      },
      {
       "output_type": "stream",
       "stream": "stdout",
       "text": [
        "A.T =\n"
       ]
      },
      {
       "metadata": {},
       "output_type": "display_data",
       "text": [
        "array([[1, 3],\n",
        "       [2, 4]])"
       ]
      },
      {
       "output_type": "stream",
       "stream": "stdout",
       "text": [
        "np.transpose(A) =\n"
       ]
      },
      {
       "metadata": {},
       "output_type": "display_data",
       "text": [
        "array([[1, 3],\n",
        "       [2, 4]])"
       ]
      }
     ],
     "prompt_number": 11
    },
    {
     "cell_type": "heading",
     "level": 2,
     "metadata": {},
     "source": [
      "Determinant"
     ]
    },
    {
     "cell_type": "markdown",
     "metadata": {},
     "source": [
      "The determinant is a number associated with a square matrix.\n",
      "\n",
      "The determinant of the following matrix: \n",
      "\n",
      "$$ \\left[  \\begin{array}{ccc}\n",
      "a & b & c \\\\\n",
      "d & e & f \\\\\n",
      "g & h & i \\end{array} \\right] $$\n",
      "\n",
      "is written as:\n",
      "\n",
      "$$ \\left|  \\begin{array}{ccc}\n",
      "a & b & c \\\\\n",
      "d & e & f \\\\\n",
      "g & h & i \\end{array} \\right| $$\n",
      "\n",
      "And has the value:\n",
      "\n",
      "$$ (aei + bfg + cdh) - (ceg + bdi + afh) $$\n",
      "\n",
      "One way to manually calculate the determinant of a matrix is to use the [rule of Sarrus](http://en.wikipedia.org/wiki/Rule_of_Sarrus): we repeat the last columns (all columns but the first one) in the right side of the matrix and calulate the sum of the products of three diagonal north-west to south-east lines of matrix elements, minus the sum of the products of three diagonal south-west to north-east lines of elements as illustrated in the following figure:\n",
      "\n",
      "<div class='center-align'><figure><img src='http://upload.wikimedia.org/wikipedia/commons/6/66/Sarrus_rule.svg' width=300 alt='Rule of Sarrus'/> <figcaption><i>[Rule of Sarrus](http://en.wikipedia.org/wiki/Rule_of_Sarrus): the sum of the products of the solid diagonals minus the sum of the products of the dashed diagonals.</i></figcaption> </figure></div>\n",
      "\n",
      "In NumPy, the determinant is computed with the `linalg.det` function:"
     ]
    },
    {
     "cell_type": "code",
     "collapsed": false,
     "input": [
      "A = np.array([[1, 2], [3, 4]])\n",
      "print('A ='), display(A);"
     ],
     "language": "python",
     "metadata": {},
     "outputs": [
      {
       "output_type": "stream",
       "stream": "stdout",
       "text": [
        "A =\n"
       ]
      },
      {
       "metadata": {},
       "output_type": "display_data",
       "text": [
        "array([[1, 2],\n",
        "       [3, 4]])"
       ]
      }
     ],
     "prompt_number": 12
    },
    {
     "cell_type": "code",
     "collapsed": false,
     "input": [
      "print('Determinant of A =')\n",
      "print(np.linalg.det(A))"
     ],
     "language": "python",
     "metadata": {},
     "outputs": [
      {
       "output_type": "stream",
       "stream": "stdout",
       "text": [
        "Determinant of A =\n",
        "-2.0\n"
       ]
      }
     ],
     "prompt_number": 13
    },
    {
     "cell_type": "heading",
     "level": 2,
     "metadata": {},
     "source": [
      "Identity"
     ]
    },
    {
     "cell_type": "markdown",
     "metadata": {},
     "source": [
      "The identity matrix $\\mathbf{I}$ is a matrix with ones in the main diagonal and zeros otherwise. The 3x3 identity matrix is:   \n",
      "\n",
      "$$ \\mathbf{I} = \n",
      "\\begin{bmatrix} \n",
      "1 & 0 & 0 \\\\\n",
      "0 & 1 & 0 \\\\\n",
      "0 & 0 & 1 \\end{bmatrix} $$\n",
      "\n",
      "In Numpy, instead of manually creating this matrix we can use the function `eye`:"
     ]
    },
    {
     "cell_type": "code",
     "collapsed": false,
     "input": [
      "np.eye(3)  # identity 3x3 array"
     ],
     "language": "python",
     "metadata": {},
     "outputs": [
      {
       "metadata": {},
       "output_type": "pyout",
       "prompt_number": 14,
       "text": [
        "array([[ 1.,  0.,  0.],\n",
        "       [ 0.,  1.,  0.],\n",
        "       [ 0.,  0.,  1.]])"
       ]
      }
     ],
     "prompt_number": 14
    },
    {
     "cell_type": "heading",
     "level": 2,
     "metadata": {},
     "source": [
      "Inverse"
     ]
    },
    {
     "cell_type": "markdown",
     "metadata": {},
     "source": [
      "The inverse of the matrix $\\mathbf{A}$ is the matrix $\\mathbf{A^{-1}}$ such that the product between these two matrices is the identity matrix:\n",
      "\n",
      "$$ \\mathbf{A}\\cdot\\mathbf{A^{-1}} = \\mathbf{I} $$\n",
      "\n",
      "The calculation of the inverse of a matrix is usually not simple (the inverse of the matrix $\\mathbf{A}$ is not $1/\\mathbf{A}$; there is no division operation between matrices).  The Numpy function `linalg.inv` computes the inverse of a square matrix:   \n",
      "\n",
      "    numpy.linalg.inv(a)\n",
      "    Compute the (multiplicative) inverse of a matrix.\n",
      "    Given a square matrix a, return the matrix ainv satisfying dot(a, ainv) = dot(ainv, a) = eye(a.shape[0])."
     ]
    },
    {
     "cell_type": "code",
     "collapsed": false,
     "input": [
      "A = np.array([[1, 2], [3, 4]])\n",
      "print('A ='), display(A)\n",
      "Ainv = np.linalg.inv(A)\n",
      "print('Inverse of A ='), display(Ainv);"
     ],
     "language": "python",
     "metadata": {},
     "outputs": [
      {
       "output_type": "stream",
       "stream": "stdout",
       "text": [
        "A =\n"
       ]
      },
      {
       "metadata": {},
       "output_type": "display_data",
       "text": [
        "array([[1, 2],\n",
        "       [3, 4]])"
       ]
      },
      {
       "output_type": "stream",
       "stream": "stdout",
       "text": [
        "Inverse of A =\n"
       ]
      },
      {
       "metadata": {},
       "output_type": "display_data",
       "text": [
        "array([[-2. ,  1. ],\n",
        "       [ 1.5, -0.5]])"
       ]
      }
     ],
     "prompt_number": 15
    },
    {
     "cell_type": "heading",
     "level": 2,
     "metadata": {},
     "source": [
      "Orthogonality"
     ]
    },
    {
     "cell_type": "markdown",
     "metadata": {},
     "source": [
      "A square matrix is said to be orthogonal if:\n",
      "\n",
      "1. There is no linear combination of one of the lines or columns of the matrix that would lead to the other row or column.   \n",
      "2. Its columns or rows form a basis of (independent) unit vectors (versors).\n",
      "\n",
      "As consequence:\n",
      "\n",
      "1. Its determinant is equal to 1 or -1.\n",
      "2. Its inverse is equal to its transpose.\n",
      "\n",
      "However, keep in mind that not all matrices with determinant equals to one are orthogonal, for example, the matrix:\n",
      "\n",
      "$$ \\begin{bmatrix}\n",
      "3 & 2 \\\\\n",
      "4 & 3 \n",
      "\\end{bmatrix} $$\n",
      "\n",
      "Has determinant equals to one but it is not orthogonal (the columns or rows don't have norm equals to one)."
     ]
    },
    {
     "cell_type": "heading",
     "level": 2,
     "metadata": {},
     "source": [
      "Linear equations"
     ]
    },
    {
     "cell_type": "markdown",
     "metadata": {},
     "source": [
      "> A linear equation is an algebraic equation in which each term is either a constant or the product of a constant and (the first power of) a single variable ([Wikipedia](http://en.wikipedia.org/wiki/Linear_equation)).\n",
      "\n",
      "We are interested in solving a set of linear equations where two or more variables are unknown, for instance:\n",
      "\n",
      "$$ x + 2y = 4 $$\n",
      "\n",
      "$$ 3x + 4y = 10 $$\n",
      "\n",
      "Let's see how to employ the matrix formalism to solve these equations (even that we know the solution is `x=2` and `y=1`).   \n",
      "Let's express this set of equations in matrix form:\n",
      "\n",
      "$$ \n",
      "\\begin{bmatrix} \n",
      "1 & 2 \\\\\n",
      "3 & 4 \\end{bmatrix}\n",
      "\\begin{bmatrix} \n",
      "x \\\\\n",
      "y \\end{bmatrix}\n",
      "= \\begin{bmatrix} \n",
      "4 \\\\\n",
      "10 \\end{bmatrix}\n",
      "$$\n",
      "\n",
      "And for the general case:\n",
      "\n",
      "$$ \\mathbf{Av} = \\mathbf{c} $$\n",
      "\n",
      "Where $\\mathbf{A, v, c}$ are the marices above and we want to find the values `x,y` for the matrix $\\mathbf{v}$.   \n",
      "Because there is no division of matrices, we can use the inverse of $\\mathbf{A}$ to solve for $\\mathbf{v}$:\n",
      "\n",
      "$$ \\mathbf{A}^{-1}\\mathbf{Av} = \\mathbf{A}^{-1}\\mathbf{c} \\implies $$\n",
      "\n",
      "$$ \\mathbf{v} = \\mathbf{A}^{-1}\\mathbf{c} $$\n",
      "\n",
      "As we know how to compute the inverse of $\\mathbf{A}$, the solution is:"
     ]
    },
    {
     "cell_type": "code",
     "collapsed": false,
     "input": [
      "Ainv = np.linalg.inv(A)\n",
      "c = np.array([4, 10])\n",
      "v = np.dot(Ainv, c)\n",
      "print('v ='), display(v);"
     ],
     "language": "python",
     "metadata": {},
     "outputs": [
      {
       "output_type": "stream",
       "stream": "stdout",
       "text": [
        "v =\n"
       ]
      },
      {
       "metadata": {},
       "output_type": "display_data",
       "text": [
        "array([ 2.,  1.])"
       ]
      }
     ],
     "prompt_number": 16
    },
    {
     "cell_type": "markdown",
     "metadata": {},
     "source": [
      "What we expected.\n",
      "\n",
      "However, the use of the inverse of a matrix to solve equations is computationally inefficient.   \n",
      "Instead, we should use `linalg.solve` for a determined system (same number of equations and unknowns) or `linalg.lstsq` otherwise:   \n",
      "From the help for `solve`:   \n",
      "\n",
      "    numpy.linalg.solve(a, b)[source]\n",
      "    Solve a linear matrix equation, or system of linear scalar equations.\n",
      "    Computes the \u201cexact\u201d solution, x, of the well-determined, i.e., full rank, linear matrix equation ax = b."
     ]
    },
    {
     "cell_type": "code",
     "collapsed": false,
     "input": [
      "v = np.linalg.solve(A, c)\n",
      "print('Using solve:')\n",
      "print('v ='), display(v);"
     ],
     "language": "python",
     "metadata": {},
     "outputs": [
      {
       "output_type": "stream",
       "stream": "stdout",
       "text": [
        "Using solve:\n",
        "v =\n"
       ]
      },
      {
       "metadata": {},
       "output_type": "display_data",
       "text": [
        "array([ 2.,  1.])"
       ]
      }
     ],
     "prompt_number": 17
    },
    {
     "cell_type": "markdown",
     "metadata": {},
     "source": [
      "And from the help for `lstsq`:\n",
      "\n",
      "    numpy.linalg.lstsq(a, b, rcond=-1)[source]\n",
      "    Return the least-squares solution to a linear matrix equation.\n",
      "    Solves the equation a x = b by computing a vector x that minimizes the Euclidean 2-norm || b - a x ||^2. The equation may be under-, well-, or over- determined (i.e., the number of linearly independent rows of a can be less than, equal to, or greater than its number of linearly independent columns). If a is square and of full rank, then x (but for round-off error) is the \u201cexact\u201d solution of the equation."
     ]
    },
    {
     "cell_type": "code",
     "collapsed": false,
     "input": [
      "v = np.linalg.lstsq(A, c)[0]\n",
      "print('Using lstsq:')\n",
      "print('v ='), display(v);"
     ],
     "language": "python",
     "metadata": {},
     "outputs": [
      {
       "output_type": "stream",
       "stream": "stdout",
       "text": [
        "Using lstsq:\n",
        "v =\n"
       ]
      },
      {
       "metadata": {},
       "output_type": "display_data",
       "text": [
        "array([ 2.,  1.])"
       ]
      }
     ],
     "prompt_number": 18
    },
    {
     "cell_type": "markdown",
     "metadata": {},
     "source": [
      "Same solutions, of course.\n",
      "\n",
      "When a system of equations has a unique solution, the determinant of the **square** matrix associated to this system of equations is nonzero.   \n",
      "When the determinant is zero there are either no solutions or many solutions to the system of equations.\n",
      "\n",
      "But if we have an overdetermined system:\n",
      "\n",
      "$$ x + 2y = 4 $$\n",
      "\n",
      "$$ 3x + 4y = 10 $$\n",
      "\n",
      "$$ 5x + 6y = 15 $$\n",
      "\n",
      "(Note that the possible solution for this set of equations is not exact because the last equation should be equal to 16.)\n",
      "\n",
      "Let's try to solve it:"
     ]
    },
    {
     "cell_type": "code",
     "collapsed": false,
     "input": [
      "A = np.array([[1, 2], [3, 4], [5, 6]])\n",
      "print('A ='), display(A)\n",
      "c = np.array([4, 10, 15])\n",
      "print('c ='), display(c);"
     ],
     "language": "python",
     "metadata": {},
     "outputs": [
      {
       "output_type": "stream",
       "stream": "stdout",
       "text": [
        "A =\n"
       ]
      },
      {
       "metadata": {},
       "output_type": "display_data",
       "text": [
        "array([[1, 2],\n",
        "       [3, 4],\n",
        "       [5, 6]])"
       ]
      },
      {
       "output_type": "stream",
       "stream": "stdout",
       "text": [
        "c =\n"
       ]
      },
      {
       "metadata": {},
       "output_type": "display_data",
       "text": [
        "array([ 4, 10, 15])"
       ]
      }
     ],
     "prompt_number": 19
    },
    {
     "cell_type": "markdown",
     "metadata": {},
     "source": [
      "Because the matix $\\mathbf{A}$ is not squared, the only function that will work is `linalg.lstsq`:"
     ]
    },
    {
     "cell_type": "code",
     "collapsed": false,
     "input": [
      "v = np.linalg.lstsq(A, c)[0]\n",
      "print('Using lstsq:')\n",
      "print('v ='), display(v);"
     ],
     "language": "python",
     "metadata": {},
     "outputs": [
      {
       "output_type": "stream",
       "stream": "stdout",
       "text": [
        "Using lstsq:\n",
        "v =\n"
       ]
      },
      {
       "metadata": {},
       "output_type": "display_data",
       "text": [
        "array([ 1.3333,  1.4167])"
       ]
      }
     ],
     "prompt_number": 20
    },
    {
     "cell_type": "markdown",
     "metadata": {},
     "source": [
      "The functions `inv` and `solve` failed bacause the matrix $\\mathbf{A}$ was not square (overdetermined system). The function `lstsq` not only was able to handle an overdetermined system but was also able to find the best approximate solution.\n",
      "\n",
      "And if the the set of equations was undetermined, `lstsq` would also work. For instance, consider the system:\n",
      "\n",
      "$$ x + 2y + 2z = 10 $$\n",
      "\n",
      "$$ 3x + 4y + z = 13 $$\n",
      "\n",
      "And in matrix form:\n",
      "\n",
      "$$ \n",
      "\\begin{bmatrix} \n",
      "1 & 2 & 2 \\\\\n",
      "3 & 4 & 1 \\end{bmatrix}\n",
      "\\begin{bmatrix} \n",
      "x \\\\\n",
      "y \\\\\n",
      "z \\end{bmatrix}\n",
      "= \\begin{bmatrix} \n",
      "10 \\\\\n",
      "13 \\end{bmatrix}\n",
      "$$\n",
      "\n",
      "A possible solution would be `x=2,y=1,z=3`, but other values would also satisfy this set of equations.\n",
      "\n",
      "Let's try to solve using `lstsq`:"
     ]
    },
    {
     "cell_type": "code",
     "collapsed": false,
     "input": [
      "A = np.array([[1, 2, 2], [3, 4, 1]])\n",
      "print('A ='), display(A)\n",
      "c = np.array([10, 13])\n",
      "print('c ='), display(c);"
     ],
     "language": "python",
     "metadata": {},
     "outputs": [
      {
       "output_type": "stream",
       "stream": "stdout",
       "text": [
        "A =\n"
       ]
      },
      {
       "metadata": {},
       "output_type": "display_data",
       "text": [
        "array([[1, 2, 2],\n",
        "       [3, 4, 1]])"
       ]
      },
      {
       "output_type": "stream",
       "stream": "stdout",
       "text": [
        "c =\n"
       ]
      },
      {
       "metadata": {},
       "output_type": "display_data",
       "text": [
        "array([10, 13])"
       ]
      }
     ],
     "prompt_number": 21
    },
    {
     "cell_type": "code",
     "collapsed": false,
     "input": [
      "v = np.linalg.lstsq(A, c)[0]\n",
      "print('Using lstsq:')\n",
      "print('v ='), display(v);"
     ],
     "language": "python",
     "metadata": {},
     "outputs": [
      {
       "output_type": "stream",
       "stream": "stdout",
       "text": [
        "Using lstsq:\n",
        "v =\n"
       ]
      },
      {
       "metadata": {},
       "output_type": "display_data",
       "text": [
        "array([ 0.8,  2. ,  2.6])"
       ]
      }
     ],
     "prompt_number": 22
    },
    {
     "cell_type": "markdown",
     "metadata": {},
     "source": [
      "This is an appoximated solution and as explained in the help of `solve`, this solution, `v`, is the one that minimizes the Euclidean norm $|| \\mathbf{c - A v} ||^2$."
     ]
    }
   ],
   "metadata": {}
  }
 ]
}