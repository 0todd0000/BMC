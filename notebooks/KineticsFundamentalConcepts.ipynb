{
 "cells": [
  {
   "cell_type": "markdown",
   "metadata": {},
   "source": [
    "# Kinetics: fundamental concepts\n",
    "\n",
    "Marcos Duarte"
   ]
  },
  {
   "cell_type": "markdown",
   "metadata": {},
   "source": [
    "Kinetics is the branch of classical mechanics that is concerned with the relationship between the motion of bodies and its causes, namely forces and torques ([Wikipedia](http://en.wikipedia.org/wiki/Kinetics_(physics))."
   ]
  },
  {
   "cell_type": "markdown",
   "metadata": {},
   "source": [
    "## Newton's laws of motion\n",
    "\n",
    "The Newton's laws of motion describe the relationship between the forces acting on a body and the resultant linear motion due to those forces:\n",
    "\n",
    "- **First law**: An object will remain at rest or in uniform motion in a straight line unless an external force acts on the body.\n",
    "- **Second law**: The acceleration of an object is directly proportional to the net force acting on the object and inversely proportional to the mass of the object: $\\mathbf{F} = m\\mathbf{a}.$\n",
    "- **Third law**: Whenever an object exerts a force $\\mathbf{F}_1$ (action) on a second object, this second object simultaneously exerts a force $\\mathbf{F}_2$ on the first object with the same magnitude but opposite direction (reaction): $\\mathbf{F}_2 = −\\mathbf{F}_1.$\n",
    "\n",
    "These three statements are astonishing in their simplicity and how much of knowledge they empower.   \n",
    "Isaac Newton was born in 1943 and his works that resulted in these equations and other discoveries were mostly done in the years of 1666 and 1667, when he was only 24 years old!   \n",
    "However, these works were only published in 1687, twenty years later. So, if your adviser is pressing you to publish your work, you can tell her or him that even Newton took 20 years to publish! But be prepared if your adviser warns you that your work might not be of that level...\n",
    "\n",
    "Here are these three laws in Newton's own words (from page 83 of Book I in the first American edition of the [*Philosophiæ Naturalis Principia Mathematica*](http://archive.org/details/newtonspmathema00newtrich):\n",
    "\n",
    "> LAW I.    \n",
    "> *Every body perseveres in its state of rest, or of uniform motion in a right line, unless it is compelled to change that state by forces impressed thereon.*   \n",
    "> LAW II.    \n",
    "> *The alteration of motion is ever proportional to the motive force impressed; and is made in the direction of the right line in which that force is impressed.*   \n",
    "> LAW III.   \n",
    "> *To every action there is always opposed an equal reaction: or the mutual actions of two bodies upon each other are always equal, and directed to contrary parts.*   \n",
    "\n",
    "And Newton carefully defined mass, motion, and force in the first page of the book I (page 73 of the [*Principia*](http://archive.org/details/newtonspmathema00newtrich)):  \n",
    "\n",
    "> DEFINITION I.   \n",
    "> *The quantity of matter is the measure of the same, arising from its density and bulk conjunctly.*   \n",
    "> ...It is this quantity that I mean hereafter everywhere under the name of body or mass.   \n",
    "> DEFINITION II.   \n",
    "> *The quantity of motion is the measure of the same, arising from the velocity and quantity of matter conjunctly.*    \n",
    "> The motion of the whole is the sum of the motions of all the parts; and therefore in a body double in quantity, with equal velocity, the motion is double; with twice the velocity, it is quadruple.   \n",
    "> DEFINITION IV.   \n",
    "> *An impressed force is an action exerted upon a body, in order to change its state, either of rest, or of moving uniformly forward in a right line.*"
   ]
  },
  {
   "cell_type": "markdown",
   "metadata": {},
   "source": [
    "## Linear momentum\n",
    "\n",
    "From Definition II above, we can see that Newton defined as motion what we know today as linear momentum, the product between mass and velocity:\n",
    "\n",
    "$$ \\mathbf{p} = m\\mathbf{v} $$\n",
    "\n",
    "So, in his second law, *alteration of motion is ever proportional to the motive force impressed*, if we understand that it was implicit that the *alteration* occurs in a certain time (or we can understand *force impressed* as force during a certain  time), Newton actually stated:\n",
    "\n",
    "$$ \\mathbf{F} = \\frac{\\Delta\\mathbf{p}}{\\Delta t} \\;\\;\\;\\;\\;\\; \\text{or}\\;\\;\\;\\;\\;\\; \\mathbf{F}\\Delta t = \\Delta\\mathbf{p}$$\n",
    "\n",
    "What is equivalent to $\\mathbf{F}=m\\mathbf{a}\\; $ if mass is constant.\n",
    "$$ \\mathbf{i} = \\int_t \\mathbf{F}(t)dt $$\n",
    "\n",
    "The concept of impulse due to a force that varies with time is often applied in biomechanics because it is common to measure forces (for example, with force plates) during human movement. When such varying force is measured, the impulse can be calculated as the area under the force-versus-time curve:"
   ]
  },
  {
   "cell_type": "markdown",
   "metadata": {},
   "source": [
    "## Impulse\n",
    "\n",
    "The mechanical linear impulse is a related concept and it can be derived from the second law of motion:\n",
    "\n",
    "$$ \\mathbf{i} = \\mathbf{F}\\Delta t = m\\Delta\\mathbf{v} $$\n",
    "\n",
    "And if the force varies with time:\n",
    "\n",
    "$$ \\mathbf{i} = \\sum_t \\mathbf{F}(t)\\Delta t $$\n",
    "\n",
    "or using [infinitesimal calculus](http://en.wikipedia.org/wiki/Infinitesimal_calculus) (that it was independently developed by Newton himself and Leibniz):"
   ]
  },
  {
   "cell_type": "code",
   "execution_count": 1,
   "metadata": {
    "collapsed": false
   },
   "outputs": [],
   "source": [
    "# Import the necessary libraries\n",
    "import numpy as np\n",
    "import matplotlib.pyplot as plt\n",
    "%matplotlib inline"
   ]
  },
  {
   "cell_type": "code",
   "execution_count": 2,
   "metadata": {
    "collapsed": false
   },
   "outputs": [
    {
     "data": {
      "image/png": "[encoded data removed]",
      "text/plain": [
       "<matplotlib.figure.Figure at 0x7691d30>"
      ]
     },
     "metadata": {},
     "output_type": "display_data"
    }
   ],
   "source": [
    "# simulate some data:\n",
    "t = np.arange(0, 1.01, 0.01)\n",
    "f = 1000*(-t**3+t**2)\n",
    "# plot:\n",
    "plt.rc('axes',  labelsize=16) \n",
    "plt.rc('xtick', labelsize=14) \n",
    "plt.rc('ytick', labelsize=14)\n",
    "hfig, hax = plt.subplots(1,1, figsize=(8,5))\n",
    "hax.plot(t, f, linewidth=3)\n",
    "hax.set_xlim(-.1, 1.1)\n",
    "hax.grid()\n",
    "hax.set_ylabel('Force [N]')\n",
    "hax.set_xlabel('Time [s]')\n",
    "plt.fill(t, f, 'b', alpha=0.3)\n",
    "# area (impulse) with the trapz numerical integration method:\n",
    "from scipy.integrate import trapz\n",
    "imp = trapz(f, t)\n",
    "# plot a rectangle for the mean impulse value:\n",
    "plt.fill(np.array([t[0], t[0], t[-1], t[-1]]),\n",
    "         np.array([0, imp, imp, 0]/(t[-1]-t[0])), 'r', alpha=0.3)\n",
    "s = '$i=F\\Delta t = %.1f Ns$'%imp \n",
    "plt.text(.4, 40, s, fontsize=18,\n",
    "         bbox=dict(facecolor='white', edgecolor='white'));"
   ]
  },
  {
   "cell_type": "markdown",
   "metadata": {},
   "source": [
    "The plot above shows the area (impulse) of the force-versus-time curve (blue) and the equivalent rectangle area for the mean force (red) with the same impluse value."
   ]
  },
  {
   "cell_type": "markdown",
   "metadata": {},
   "source": [
    "## Force\n",
    "\n",
    "There are many manifestations of force we may experience during movement: gravitational, friction, ground reaction force, muscle force, buoyancy, elastic force, and other less visible such as electromagnetic, nuclear, etc. But in reality, all these different forces can be grouped in only four fundamental forces:\n",
    "\n",
    "- Strong force: hold the nucleus of an atom together. Range of action is $10^{-15}$ m. \n",
    "- Weak force: force acting between particles of the nucleus. Range of action is $10^{-18}$ m.\n",
    "- Electromagnetic force: forces between electrical charges and the magnetic forces.\n",
    "- Gravity force: forces between masses; is the weakest of the four fundamental forces.\n",
    "\n",
    "In mechanics, forces can be classified as either contact or body forces. The contact force acts at the point of contact between two bodies. The body force acts on the entire body with no contact (e.g., gravity and electromagnetic forces).   \n",
    "In biomechanics, another useful classification is to divide the forces in either external or internal in relation to the human body. External forces result from interactions with an external body or environment (e.g., gravity and ground reaction forces). Internal forces result from interactions inside the body (e.g., the forces between bones)."
   ]
  },
  {
   "cell_type": "markdown",
   "metadata": {},
   "source": [
    "### Gravity force\n",
    "\n",
    "The gravitational force between two masses $m_1$ and $m_2$ is given by:\n",
    "\n",
    "$$ \\mathbf{F} = -G\\frac{m_1\\:m_2}{r_{1-2}^2}\\mathbf{\\hat{r}}  $$ \n",
    "\n",
    "Where $G = 6.67.10^{\\:-11} Nm^2/kg^2$.  \n",
    "The minus sign means is an attractive force in the direction of the radius connecting the two bodies.   \n",
    "At the surface of the Earth, $m_1 = 5.9736\\times10\\:^{24}\\:kg\\;\\;\\text{and}\\;\\;r_{1-2} = 6.371\\times10\\:^6\\:m$.\n",
    "\n",
    "$$ \\mathbf{F} = -mg $$\n",
    "\n",
    "Where $g \\approx 9.8 m/s^2\\;$ in the vertical direction and points donwards due to the minus sign.\n",
    "\n",
    "If the only force acting on the body is the gravity force, using the second law of motion, the equation of movement for the body is:\n",
    "\n",
    "$$ \\mathbf{F} = m\\mathbf{a} $$\n",
    "\n",
    "$$ -mg = ma $$\n",
    "\n",
    "$$ a = -g $$\n",
    "\n",
    "$$ r(t) = -\\int_t dt' \\int_t g\\:dt $$\n",
    "\n",
    "$$ r(t) = r_0 + v_0t - \\frac{gt^2}{2} $$"
   ]
  },
  {
   "cell_type": "markdown",
   "metadata": {},
   "source": [
    "### Elastic force\n",
    "\n",
    "The force of a spring is proportional to its deformation, x:\n",
    "\n",
    "$$ \\mathbf{F} = -Kx $$\n",
    "\n",
    "Where K is a constant characteristic of the spring known as stiffness.   \n",
    "The minus sign means that it is a restoring force and the spring acts to restore the body to the resting position of the spring (no deformation).\n",
    "\n",
    "If the only force acting on the body is the spring force, using the second law of motion, the equation of movement for the body is:\n",
    "\n",
    "$$ \\mathbf{F} = m\\mathbf{a} $$\n",
    "\n",
    "$$ -Kx = ma $$\n",
    "\n",
    "$$ a = -\\frac{K}{m}x $$\n",
    "\n",
    "$$ x(t) = -\\int_t dt' \\int_t Kx\\:dt $$\n",
    "\n",
    "$$ x(t) = A_0cos(\\omega t + \\phi) $$\n",
    "\n",
    "Where $A_0$ is the maximum amplitude of deformation on the spring, $\\phi$ is a phase, and $\\omega$ is the angular frequency of this oscilatory system:   \n",
    " \n",
    "$$ \\omega = \\sqrt{\\frac{K}{m}} \\;\\;\\; \\text{and} \\;\\;\\; \\omega = 2\\pi f $$"
   ]
  },
  {
   "cell_type": "markdown",
   "metadata": {},
   "source": [
    "## Work\n",
    "\n",
    "The mechanical work of a force done on a body is the product between the component of the force in the direction of the resultant motion and the displacement: \n",
    "\n",
    "$$ \\tau = \\mathbf{F} \\cdot \\Delta\\mathbf{x} $$\n",
    "\n",
    "Where the symbol $\\cdot$ stands for the [scallar product](http://nbviewer.ipython.org/github/demotu/BMC/blob/master/notebooks/ScalarVector.ipynb) mathematical function.\n",
    "\n",
    "Mechanical work can also be understood as the amount of mechanical energy transferred into or out of a system."
   ]
  },
  {
   "cell_type": "markdown",
   "metadata": {},
   "source": [
    "## Mechanical energy\n",
    "\n",
    "Mechanical energy is the sum of kinetic and potential energies.\n",
    "\n",
    "### Kinetic energy\n",
    "\n",
    "$$ E_k = \\frac{1}{2}mv^2 $$\n",
    "\n",
    "The linear momentum and the kinetic energy are related by:\n",
    "\n",
    "$$ \\mathbf{p} = \\frac{\\partial E_k}{\\partial\\mathbf{v}} $$\n",
    "\n",
    "### Potential energy\n",
    "\n",
    "The potential energy due to the gravitational force at the Earth's surface is:\n",
    "\n",
    "$$ E_p = mgh $$\n",
    "\n",
    "The potential energy stored in a spring is:\n",
    "\n",
    "$$ E_p = \\frac{1}{2}Kx^2 $$\n",
    "\n",
    "### Power \n",
    " \n",
    "$$ P = \\frac{\\Delta E}{\\Delta t} \\quad \\text{and} \\quad P = \\mathbf{F}\\mathbf{v} $$"
   ]
  },
  {
   "cell_type": "markdown",
   "metadata": {},
   "source": [
    "## Angular momentum\n",
    "\n",
    "In analogy to the linear momentum, the angular momentum is the quantity of movement of a particle rotating around an axis at a distance $\\mathbf{r}:$\n",
    "\n",
    "$$ \\mathbf{L} = \\mathbf{r} \\times \\mathbf{p} $$\n",
    "\n",
    "For a rigid body rotating around a fixed axis of symmetry, the angular momentum can be expressed as:\n",
    "\n",
    "$$ \\mathbf{L} = I\\mathbf{\\omega} $$\n",
    "\n",
    "Where $I$ is the rotational inertia or moment of inertia of the body.\n",
    "\n",
    "For a rigid body rotating around its own center of mass and also rotating around another axis, the total angular momentum is the sum of the two angular momenta  around each axis:   \n",
    "\n",
    "$$ \\mathbf{L} = \\mathbf{r_{cm}} \\times \\mathbf{p_{cm}} + I \\mathbf{\\omega} $$"
   ]
  },
  {
   "cell_type": "markdown",
   "metadata": {},
   "source": [
    "## Torque (moment of force)\n",
    "\n",
    "In analogy to the second Newton's law for the linear case, torque or moment of force (or simply moment) is the time derivative of angular momentum:\n",
    "\n",
    "$$ \\mathbf{M} = \\frac{d\\mathbf{L}}{dt} = \\frac{d}{dt}(\\mathbf{\\mathbf{r} \\times \\mathbf{p}}) = \\frac{d\\mathbf{r}}{dt} \\times \\mathbf{p} + \\mathbf{r} \\times \\frac{d\\mathbf{p}}{dt} = 0 + \\mathbf{r} \\times \\mathbf{F} $$\n",
    "\n",
    "$$ \\mathbf{M} = \\mathbf{r} \\times \\mathbf{F} $$\n",
    "\n",
    "$$ \\mathbf{M} = (r_x\\:\\mathbf{\\hat{i}}+r_y\\:\\mathbf{\\hat{j}}+r_z\\:\\mathbf{\\hat{k}}) \\times  (F_x\\:\\mathbf{\\hat{i}}+F_y\\:\\mathbf{\\hat{j}}+F_z\\:\\mathbf{\\hat{k}}) $$\n",
    "\n",
    "Where the symbol $\\times$ stands for the [cross product](http://nbviewer.ipython.org/github/demotu/BMC/blob/master/notebooks/ScalarVector.ipynb) mathematical function.   \n",
    "The moment of force can be calculated as the determinant of the following matrix:\n",
    "\n",
    "$$ \\mathbf{M} = \\begin{bmatrix}\n",
    "\\mathbf{\\hat{i}} & \\mathbf{\\hat{j}} & \\mathbf{\\hat{k}} \\\\ \n",
    "r_x & r_y & r_z \\\\\n",
    "F_x & F_y & F_z \n",
    "\\end{bmatrix} $$\n",
    "\n",
    "$$ \\mathbf{M} = (r_yF_z-r_zF_y)\\mathbf{\\hat{i}}+(r_zF_x-r_xF_z)\\mathbf{\\hat{j}}+(r_xF_y-r_yF_x)\\mathbf{\\hat{k}} $$\n",
    "\n",
    "The moment of force can also be calculated by the geometric equivalent formula:\n",
    "\n",
    "$$ \\mathbf{M} = \\mathbf{r} \\times \\mathbf{F} = ||\\mathbf{r}||\\:||\\mathbf{F}||\\:sin(\\theta) $$\n",
    "\n",
    "Where $\\theta$ is the angle between the vectors $\\mathbf{r}$ and $\\mathbf{F}$. \n",
    "\n",
    "The animation below (from [Wikipedia](http://en.wikipedia.org/wiki/File:Torque_animation.gif)) illustrates the relationship between force ($\\mathbf{F}$), torque ($\\tau$), and momentum vectors ($\\mathbf{p}$ and $\\mathbf{L}$):   \n",
    "\n",
    "<figure><img src=\"http://upload.wikimedia.org/wikipedia/commons/0/09/Torque_animation.gif\" alt=\"Torque animation\" width=\"300\"/><figcaption><center><i>Figure. Relationship between force ($\\mathbf{F}$), torque ($\\tau$), and momentum vectors ($\\mathbf{p}$ and $\\mathbf{L}$) (from [Wikipedia](http://en.wikipedia.org/wiki/File:Torque_animation.gif)).</i></center></figcaption></figure>"
   ]
  },
  {
   "cell_type": "markdown",
   "metadata": {},
   "source": [
    "### Varignon's Theorem (Principle of Moments)\n",
    "\n",
    "> *The moment of a force about a point is equal to the sum of moments of the components of the force about the same point.*   \n",
    "Note that the components of the force don't need to be orthogonal."
   ]
  },
  {
   "cell_type": "markdown",
   "metadata": {},
   "source": [
    "### Principle of transmissibility\n",
    "\n",
    "> *For rigid bodies with no deformation, an external force can be applied at any point on its line of action without changing the resultant effect of the force.*\n",
    "\n",
    "**Example** (From Meriam 1997). For the figure below, calculate the magnitude of the moment about the base point *O* of the 600-N force in five different ways[.](http://ebm.ufabc.edu.br/wp-content/uploads/2013/02/torque.png)\n",
    "\n",
    "<figure><img src=\"http://ebm.ufabc.edu.br/wp-content/uploads/2013/02/torque2.jpg\" alt=\"Torque\" width=\"250\"/><figcaption><center><i>Figure. Can you calculate the torque of the force above by five different ways?</i></center></figcaption></figure>\n",
    "\n",
    "One way:"
   ]
  },
  {
   "cell_type": "code",
   "execution_count": 3,
   "metadata": {
    "collapsed": false
   },
   "outputs": [
    {
     "name": "stdout",
     "output_type": "stream",
     "text": [
      "The magnitude of the moment of force is: 2610 Nm\n"
     ]
    }
   ],
   "source": [
    "M = np.cross([2,4,0], [600*np.cos(40*np.pi/180),\n",
    "                       -600*np.sin(40*np.pi/180),0])\n",
    "print(\"The magnitude of the moment of force is: %d Nm\"\n",
    "      %np.around(np.linalg.norm(M)))"
   ]
  },
  {
   "cell_type": "markdown",
   "metadata": {},
   "source": [
    "## Euler's laws of motion (for a rigid body)\n",
    "\n",
    "Euler's laws of motion extend Newton's laws of motion for particles for the motion of a rigid body:\n",
    "\n",
    "**First law**: The linear momentum of a body is equal to the product of the mass of the body and the velocity of its center of mass:   \n",
    "\n",
    "$$ \\mathbf{p} = m\\mathbf{v}_{cm} $$   \n",
    "\n",
    "The equation above is true for a rigid body because the internal forces, between the particles of the body, do not contribute to changing the total momentum of the body.   \n",
    "And from this equation (considering $m$ constant):\n",
    "\n",
    "$$ \\mathbf{F} = m\\mathbf{a}_{cm} $$   \n",
    "\n",
    "**Second law**: The rate of change of angular momentum about an axis is equal to the sum of the external moments of force (torques) about that point:\n",
    "\n",
    "$$ \\mathbf{M} = \\frac{d\\mathbf{L}}{dt} $$ \n",
    "\n",
    "If we describe the rotation of a rigid body using a rotating reference frame with axes parallel to the principal axes of inertia of the body, the Euler's second law becomes:   \n",
    "\n",
    "$$ M_1 = I_1\\dot{\\omega_1} + (I_3-I_2)\\omega_2\\omega_3 $$\n",
    "\n",
    "$$ M_2 = I_2\\dot{\\omega_2} + (I_1-I_3)\\omega_3\\omega_1 $$\n",
    "\n",
    "$$ M_3 = I_3\\dot{\\omega_3} + (I_2-I_1)\\omega_1\\omega_2 $$ \n",
    "\n",
    "For a two-dimensional case, where the rigid body rotates around its own center of mass and also rotates around another parallel axis, this second law simplifies to:   \n",
    "\n",
    "$$ \\mathbf{M} = \\mathbf{r_{cm}} \\times m\\mathbf{a_{cm}} + I \\mathbf{\\alpha} $$"
   ]
  },
  {
   "cell_type": "markdown",
   "metadata": {},
   "source": [
    "## Mechanical energy for angular motion\n",
    " \n",
    "### Kinetic energy\n",
    " \n",
    "$$ E_k = \\frac{1}{2}I\\omega^2 $$\n",
    "\n",
    "### Work\n",
    " \n",
    "$$ \\tau = \\mathbf{M} \\cdot \\Delta\\mathbf{\\theta} $$\n",
    " \n",
    "### Power\n",
    " \n",
    "$$ P = \\frac{\\Delta E}{\\Delta t} \\quad \\text{and} \\quad P = \\mathbf{M}\\mathbf{\\omega} $$"
   ]
  },
  {
   "cell_type": "markdown",
   "metadata": {},
   "source": [
    "## Principles of conservation\n",
    "\n",
    "### Principle of conservation of linear momentum\n",
    "\n",
    "> *In a closed system with no external forces acting upon it, the total linear momentum of this system is constant.*\n",
    "\n",
    "### Principle of conservation of angular momentum\n",
    "\n",
    "> *In a closed system with no external forces acting upon it, the total angular momentum of this system is constant.*\n",
    "\n",
    "### Principle of conservation of mechanical energy\n",
    "\n",
    "> *In a closed system with no external forces acting upon it, the mechanical energy of this system is constant if only conservative forces act in this system.*"
   ]
  },
  {
   "cell_type": "markdown",
   "metadata": {},
   "source": [
    "### Conservative forces\n",
    "\n",
    "A force is said to be conservative if this force produces the same work regardless of its trajectory between two points, if not the force is said to be non-conservative.   \n",
    "Mathematically, the force $\\mathbf{F}$ is conservative if:\n",
    "\n",
    "$$ \\oint \\mathbf{F} \\cdot d\\mathbf{s} = 0 $$\n",
    "\n",
    "The gravitational force and the elastic force of an ideal spring are examples of conservative forces but friction force is not conservative. The forces generated by our muscles are also not conservative."
   ]
  },
  {
   "cell_type": "markdown",
   "metadata": {},
   "source": [
    "## References\n",
    "\n",
    "- Hibbeler RC (2012) [Engineering Mechanics: Statics](http://books.google.com.br/books?id=PSEvAAAAQBAJ). Prentice Hall; 13 edition.  \n",
    "- Hibbeler RC (2012) [Engineering Mechanics: Dynamics](http://books.google.com.br/books?id=mTIrAAAAQBAJ). Prentice Hall; 13 edition.  \n",
    "- Ruina A, Rudra P (2013) [Introduction to Statics and Dynamics](http://ruina.tam.cornell.edu/Book/index.html). Oxford University Press."
   ]
  }
 ],
 "metadata": {
  "kernelspec": {
   "display_name": "Python 3",
   "language": "python",
   "name": "python3"
  },
  "language_info": {
   "codemirror_mode": {
    "name": "ipython",
    "version": 3
   },
   "file_extension": ".py",
   "mimetype": "text/x-python",
   "name": "python",
   "nbconvert_exporter": "python",
   "pygments_lexer": "ipython3",
   "version": "3.4.3"
  }
 },
 "nbformat": 4,
 "nbformat_minor": 0
}
