{
 "metadata": {
  "name": "",
  "signature": "sha256:8860ec62b06863bbbbf4ac98b9f5d537f22fe8ad108f492d57a9c1eca9fc1329"
 },
 "nbformat": 3,
 "nbformat_minor": 0,
 "worksheets": [
  {
   "cells": [
    {
     "cell_type": "heading",
     "level": 1,
     "metadata": {},
     "source": [
      "Frame of reference"
     ]
    },
    {
     "cell_type": "markdown",
     "metadata": {},
     "source": [
      "Marcos Duarte"
     ]
    },
    {
     "cell_type": "markdown",
     "metadata": {},
     "source": [
      "<a href=\"http://en.wikipedia.org/wiki/Motion_(physics)\">Motion</a> (a change of position in space with respect to time) is not an absolute concept; a reference is needed to describe the motion of the object in relation to this reference. Likewise, the state of such reference cannot be absolute in space and so motion is relative.    \n",
      "A [frame of reference](http://en.wikipedia.org/wiki/Frame_of_reference) is the place with respect to we choose to describe the motion of an object. In this reference frame, we define a [coordinate system](http://en.wikipedia.org/wiki/Coordinate_system) (a set of axes) within which we measure the motion of an object (but frame of reference and coordinate system are often used interchangeably).  \n",
      "\n",
      "Often, the choice of reference frame and coordinate system is made by convenience. However, there is an important distinction between reference frames when we deal with the dynamics of motion, where we are interested to understand the forces related to the motion of the object. In dynamics, we refer to [inertial frame of reference](http://en.wikipedia.org/wiki/Inertial_frame_of_reference) (a.k.a., Galilean reference frame) when the Newton's laws of motion in their simple form are valid in this frame and to non-inertial frame of reference when the Newton's laws in their simple form are not valid (in such reference frame, fictitious accelerations/forces appear). An inertial reference frame is at rest or moves at constant speed (because there is no absolut rest!), whereas a non-inertial reference frame is under acceleration (with respect to an inertial reference frame).\n",
      "\n",
      "The concept of frame of reference has changed drastically since Aristotle, Galileo, Newton, and Einstein. To read more about that and its philosophical implications, see [Space and Time: Inertial Frames](http://plato.stanford.edu/entries/spacetime-iframes/)."
     ]
    },
    {
     "cell_type": "heading",
     "level": 2,
     "metadata": {},
     "source": [
      "Frame of reference for human motion analysis"
     ]
    },
    {
     "cell_type": "markdown",
     "metadata": {},
     "source": [
      "In anatomy, we use a simplified reference frame composed by perpendicular planes to provide a standard reference for qualitatively describing the structures and movements of the human body, as shown in the next figure.\n",
      "\n",
      "<div class='center-align'><figure><img src=\"http://upload.wikimedia.org/wikipedia/commons/3/34/BodyPlanes.jpg\" width=\"300\" alt=\"Anatomical body position\"/><figcaption><i>Anatomical body position and body planes (<a href=\"http://en.wikipedia.org/wiki/Human_anatomical_terms\" target=\"_blank\">from Wikipedia</a>).</i></figcaption> </figure></div> "
     ]
    },
    {
     "cell_type": "heading",
     "level": 2,
     "metadata": {},
     "source": [
      "Cartesian coordinate system"
     ]
    },
    {
     "cell_type": "markdown",
     "metadata": {},
     "source": [
      "As we perceive the surrounding space as three-dimensional, a convenient coordinate system is the [Cartesian coordinate system](http://en.wikipedia.org/wiki/Cartesian_coordinate_system) in the [Euclidean space](http://en.wikipedia.org/wiki/Euclidean_space) with three ortogonal axes as shown below. The axes directions are commonly defined by the [right-hand rule](http://en.wikipedia.org/wiki/Right-hand_rule) and attributed the letters X, Y, Z.\n",
      "\n",
      "<div class='center-align'><figure><img src=\"./../images/CCS.png\" width=350/><figcaption><figcaption><i>A point in three-dimensional Euclidean space described in a Cartesian coordinate system.</i></figcaption> </figure></div> \n",
      "\n",
      "In classical mechanics, the structure of space is assumed to have the [Euclidean geometry](http://en.wikipedia.org/wiki/Euclidean_geometry) and as consequence, the motion in different directions are independent of each other.   "
     ]
    },
    {
     "cell_type": "heading",
     "level": 3,
     "metadata": {},
     "source": [
      "Standardizations"
     ]
    },
    {
     "cell_type": "markdown",
     "metadata": {},
     "source": [
      "The concept of reference frame in biomechanics and motor control is very important and central to the understanding of human motion. For example, do we see, plan and control the movement of our hand with respect to reference frames within our body or in the environment we move? Or a combination of both? For three-dimensional motion analysis in biomechanics, we may use several different references frames for convenience and refer to them as global, laboratory, local, anatomical, or technical reference frames or coordinate systems (we will study this later).\n",
      "\n",
      "There has been proposed different standardizations on how to define frame of references for the main segments and joints of the human body. For instance, the International Society of Biomechanics has a [page listing standardization proposals](http://isbweb.org/information-services/standards) by its standardization committee and subcommittees:"
     ]
    },
    {
     "cell_type": "code",
     "collapsed": false,
     "input": [
      "from IPython.display import IFrame\n",
      "IFrame('http://isbweb.org/information-services/standards', width='100%', height=400)"
     ],
     "language": "python",
     "metadata": {},
     "outputs": [
      {
       "html": [
        "\n",
        "        <iframe\n",
        "            width=\"100%\"\n",
        "            height=400\"\n",
        "            src=\"http://isbweb.org/information-services/standards\"\n",
        "            frameborder=\"0\"\n",
        "            allowfullscreen\n",
        "        ></iframe>\n",
        "        "
       ],
       "metadata": {},
       "output_type": "pyout",
       "prompt_number": 1,
       "text": [
        "<IPython.lib.display.IFrame at 0x440c2e8>"
       ]
      }
     ],
     "prompt_number": 1
    },
    {
     "cell_type": "markdown",
     "metadata": {},
     "source": [
      " Another initiative for the standardization of references frames is from the [Virtual Animation of the Kinematics of the Human for Industrial, Educational and Research Purposes (VAKHUM)](http://www.ulb.ac.be/project/vakhum/public_dataset/Doc/VAKHUM-3-Frame_Convention.pdf) project."
     ]
    },
    {
     "cell_type": "heading",
     "level": 2,
     "metadata": {},
     "source": [
      "Determination of a coordinate system"
     ]
    },
    {
     "cell_type": "markdown",
     "metadata": {},
     "source": [
      "In biomechanics, we may use different coordinate systems for convenience and refer to them as global, laboratory, local, anatomical, or technical reference frames or coordinate systems. For example, in a standard gait analysis, we define a global or laboratory coordinate system and a different coordinate system for each segment of the body to be able to describe the motion of a segment in relation to anatomical axes of another segment. To define this anatomical coordinate system, we need to place markers on anatomical landmarks on each segment. We also may use other markers (technical markers) on the segment to improove the motion analysis and then we will also have to define a technical coordinate system for each segment.\n",
      "\n",
      "As we perceive the surrounding space as three-dimensional, a convenient coordinate system to use is the [Cartesian coordinate system](http://en.wikipedia.org/wiki/Cartesian_coordinate_system) with three ortogonal axes in the [Euclidean space](http://en.wikipedia.org/wiki/Euclidean_space). From [linear algebra](http://en.wikipedia.org/wiki/Linear_algebra), a set of unit linearly independent vectors (orthogonal in the Euclidean space and each with norm (length) equals to one) that can represent any vector via [linear combination](http://en.wikipedia.org/wiki/Linear_combination) is called a <a href=\"http://en.wikipedia.org/wiki/Basis_(linear_algebra)\">basis</a> (or orthonormal basis). The figure below shows a point and its position vector in the Cartesian coordinate system and the corresponding versors (unit vectors) of the basis for this coordinate system. See the notebook [Scalar and vector](http://nbviewer.ipython.org/github/demotu/BMC/blob/master/notebooks/ScalarVector.ipynb) for a description on vectors.\n",
      "\n",
      "<div class='center-align'><figure><img src=\"./../images/vector3Dijk.png\" width=350/><figcaption><i>Representation of a point **P** and its position vector **r** in a Cartesian coordinate system. The versors <b>i, j, k</b> form a basis for this coordinate system and are usually represented in the color sequence RGB (red, green, blue) for easier visualization.</i></figcaption></figure></div> \n",
      "\n",
      "One can see that the versors of the basis shown in the figure above have the following coordinates in the Cartesian coordinate system:\n",
      "\n",
      "$$ \\mathbf{i}= \\begin{bmatrix}1\\\\0\\\\0 \\end{bmatrix}, \\quad \\mathbf{j}=\\begin{bmatrix}0\\\\1\\\\0 \\end{bmatrix}, \\quad \\mathbf{k}=\\begin{bmatrix} 0 \\\\ 0 \\\\ 1 \\end{bmatrix}$$\n",
      "\n",
      "Using the notation described in the figure above, the position vector **r** (or the point **P**) can be expressed as:\n",
      "\n",
      "$$ \\mathbf{r} = x \\mathbf{i} + y \\mathbf{j} + z \\mathbf{k} $$"
     ]
    },
    {
     "cell_type": "heading",
     "level": 3,
     "metadata": {},
     "source": [
      "Definition of a basis"
     ]
    },
    {
     "cell_type": "markdown",
     "metadata": {},
     "source": [
      "The mathematical problem of determination of a coordinate system is to find a basis and an origin for it (a bais is only a set of vectors, with no origin). In the three-dimensional space, given the coordinates of three noncollinear points (points that do not all lie on the same line), **m1**, **m2**, **m3**, which would represent the positions of markers captured from a motion analysis session, a basis can be found following these steps:\n",
      "\n",
      "1. First axis, **v1**, the vector **m2-m1** (or any other vector difference);   \n",
      "2. Second axis, **v2**, the cross or vector product between the vectors **v1** and **m3-m1** (or **m3-m2**);   \n",
      "3. Third axis, **v3**, the cross product between the vectors **v1** and **v2**.  \n",
      "4. Make all vectors to have norm 1 dividing each vector by its norm.\n",
      "\n",
      "The positions of the points used to construct a coordinate system have, by definition, to be specified in relation to an already existing coordinate system. In motion analysis, this coordinate system is the coordinate system from the motion capture system and it is established in the calibration phase. In this phase, the positions of markers placed on an object with perpendicular axes and known distances between the markers are captured and used as the reference (laboratory) coordinate system.\n",
      "\n",
      "For example, given the positions m1 = [1,2,0], m2 = [0,1,3], m3 = [1,0,1], a basis can be found:"
     ]
    },
    {
     "cell_type": "code",
     "collapsed": false,
     "input": [
      "# Import the necessary libraries\n",
      "from __future__ import division, print_function  # version compatibility\n",
      "import numpy as np\n",
      "\n",
      "m1 = np.array([1, 2, 0])\n",
      "m2 = np.array([0, 1, 3])\n",
      "m3 = np.array([1, 0, 1])\n",
      "\n",
      "v1 = m2 - m1                # first axis\n",
      "v2 = np.cross(v1, m3 - m1)  # second axis\n",
      "v3 = np.cross(v1, v2)       # third axis\n",
      "# Vector normalization\n",
      "e1 = v1/np.linalg.norm(v1)\n",
      "e2 = v2/np.linalg.norm(v2)\n",
      "e3 = v3/np.linalg.norm(v3)\n",
      "\n",
      "print('Versors:', '\\ne1 =', e1, '\\ne2 =', e2, '\\ne3 =', e3)\n",
      "print('\\nTest of orthogonality (cross product between versors):',\n",
      "      '\\ne1 x e2:', np.linalg.norm(np.cross(e1, e2)),\n",
      "      '\\ne1 x e3:', np.linalg.norm(np.cross(e1, e3)),\n",
      "      '\\ne2 x e3:', np.linalg.norm(np.cross(e2, e3)))\n",
      "print('\\nNorm of each versor:',\n",
      "      '\\n||e1|| =', np.linalg.norm(e1),\n",
      "      '\\n||e2|| =', np.linalg.norm(e2),\n",
      "      '\\n||e3|| =', np.linalg.norm(e3))"
     ],
     "language": "python",
     "metadata": {},
     "outputs": [
      {
       "output_type": "stream",
       "stream": "stdout",
       "text": [
        "Versors: \n",
        "e1 = [-0.30151134 -0.30151134  0.90453403] \n",
        "e2 = [ 0.91287093  0.18257419  0.36514837] \n",
        "e3 = [-0.27524094  0.9358192   0.22019275]\n",
        "\n",
        "Test of orthogonality (cross product between versors): \n",
        "e1 x e2: 1.0 \n",
        "e1 x e3: 1.0 \n",
        "e2 x e3: 1.0\n",
        "\n",
        "Norm of each versor: \n",
        "||e1|| = 1.0 \n",
        "||e2|| = 1.0 \n",
        "||e3|| = 1.0\n"
       ]
      }
     ],
     "prompt_number": 2
    },
    {
     "cell_type": "markdown",
     "metadata": {},
     "source": [
      "To define a coordinate system using the calculated base, we also need to define an origin. In principle, we could use any point as origin, but if the calculated coordinate system should follow anatomical conventions, e.g., the coordinate system origin should be at a joint center, we will have to calculate the basis and origin according to [standards used in motion analysis](http://nbviewer.ipython.org/github/demotu/BMC/blob/master/notebooks/Frame%20of%20reference.ipynb) as discussed before.   \n",
      "\n",
      "If the coordinate system is a technical basis and not anatomic-based, a common procedure in motion analysis is to define the origin for the coordinate system as the centroid (average) position among the markers at the reference frame. Using the average position across markers pottentially reduces the effect of noise (for example, from soft tissue artifact) on the calculation.  \n",
      "\n",
      "For the markers in the example above, the origin of the coordinate system will be:"
     ]
    },
    {
     "cell_type": "code",
     "collapsed": false,
     "input": [
      "origin = np.mean((m1, m2, m3), axis=0)\n",
      "print('Origin: ', origin)"
     ],
     "language": "python",
     "metadata": {},
     "outputs": [
      {
       "output_type": "stream",
       "stream": "stdout",
       "text": [
        "Origin:  [ 0.66666667  1.          1.33333333]\n"
       ]
      }
     ],
     "prompt_number": 3
    },
    {
     "cell_type": "markdown",
     "metadata": {},
     "source": [
      "Let's plot the coordinate system and the basis using the custom Python function `CCS.py`:"
     ]
    },
    {
     "cell_type": "code",
     "collapsed": false,
     "input": [
      "import sys\n",
      "sys.path.insert(1, r'./../functions')  # add to pythonpath\n",
      "from CCS import CCS"
     ],
     "language": "python",
     "metadata": {},
     "outputs": [],
     "prompt_number": 4
    },
    {
     "cell_type": "code",
     "collapsed": false,
     "input": [
      "markers = np.vstack((m1, m2, m3))\n",
      "basis = np.vstack((e1, e2, e3))"
     ],
     "language": "python",
     "metadata": {},
     "outputs": [],
     "prompt_number": 5
    },
    {
     "cell_type": "markdown",
     "metadata": {},
     "source": [
      "Create figure in this page (inline):"
     ]
    },
    {
     "cell_type": "code",
     "collapsed": false,
     "input": [
      "%matplotlib inline"
     ],
     "language": "python",
     "metadata": {},
     "outputs": [],
     "prompt_number": 6
    },
    {
     "cell_type": "markdown",
     "metadata": {},
     "source": [
      "Or create figure in a window outside the browser:"
     ]
    },
    {
     "cell_type": "code",
     "collapsed": false,
     "input": [
      "%matplotlib qt"
     ],
     "language": "python",
     "metadata": {},
     "outputs": []
    },
    {
     "cell_type": "code",
     "collapsed": false,
     "input": [
      "markers = np.vstack((m1, m2, m3))\n",
      "basis = np.vstack((e1, e2, e3))\n",
      "CCS(xyz='auto', Oijk=origin, ijk=basis, point=markers, vector=True);"
     ],
     "language": "python",
     "metadata": {},
     "outputs": [
      {
       "metadata": {},
       "output_type": "display_data",
       "png": "[encoded data removed]",
       "text": [
        "<matplotlib.figure.Figure at 0x701deb8>"
       ]
      }
     ],
     "prompt_number": 7
    },
    {
     "cell_type": "heading",
     "level": 3,
     "metadata": {},
     "source": [
      "Gram\u2013Schmidt process"
     ]
    },
    {
     "cell_type": "markdown",
     "metadata": {},
     "source": [
      "Another equivalent form to calculate a basis based on vectors is knwon as the [Gram\u2013Schmidt process](http://en.wikipedia.org/wiki/Gram%E2%80%93Schmidt_process), a method for orthonormalising a set of vectors using the inner product (the inner product is the scalar product in an Euclidean space). This algorithm is not difficult to implement but we will not see it here because for an anatomical-based coordinate system we will have to explicitly handle the vectors in order to obtain the basis in the desired directions.  \n",
      "\n",
      "In addition, when we don't want an anatomical-based coordinate system, e.g., if we are calculating a technical basis, it's typical to use more than three markers on the segment to pottentially reduce the effect of the soft tissue artifact and in this case it's used yet another procedure to calculate a basis: the [singular value decomposition (SVD) algorithm](http://nbviewer.ipython.org/github/demotu/BMC/blob/master/notebooks/SVDalgorithm.ipynb), which we will study later."
     ]
    },
    {
     "cell_type": "heading",
     "level": 2,
     "metadata": {},
     "source": [
      "Problems"
     ]
    },
    {
     "cell_type": "markdown",
     "metadata": {},
     "source": [
      "1. Right now, how fast are you moving? In your answer, consider your motion in relation to Earth and in relation to Sun.\n",
      "\n",
      "2. Go to the website [http://www.wisc-online.com/Objects/ViewObject.aspx?ID=AP15305](http://www.wisc-online.com/Objects/ViewObject.aspx?ID=AP15305) and complete the interactive lesson to learn about the anatomical terminology to describe relative position in the human body.\n",
      "\n",
      "3. To learn more about Cartesian coordinate systems go to the website [http://www.mathsisfun.com/data/cartesian-coordinates.html](http://www.mathsisfun.com/data/cartesian-coordinates.html), study the material, and answer the 10 questions at the end.\n",
      "\n",
      "4. Given the points in the 3D space, m1 = [2,2,0], m2 = [0,1,1], m3 = [1,2,0], find an orthonormal basis.\n",
      "\n",
      "5. Determine if the following points form a basis in the 3D space, m1 = [2,2,0], m2 = [1,1,1], m3 = [1,1,0].\n",
      "\n",
      "6. Derive expressions for the three axes of the pelvic basis considering the convention of the [Virtual Animation of the Kinematics of the Human for Industrial, Educational and Research Purposes (VAKHUM)](http://www.ulb.ac.be/project/vakhum/public_dataset/Doc/VAKHUM-3-Frame_Convention.pdf) project (use RASIS, LASIS, RPSIS, and LPSIS as names for the pelvic anatomical landmarks and indicate the expression for each axis).\n",
      "\n",
      "7. Determine the basis for the pelvis following the convention of the [Virtual Animation of the Kinematics of the Human for Industrial, Educational and Research Purposes (VAKHUM)](http://www.ulb.ac.be/project/vakhum/public_dataset/Doc/VAKHUM-3-Frame_Convention.pdf) project for the following anatomical landmark positions (in m): RASIS=[0.5,0.8,0.4], LASIS=[0.55,0.78,0.1], RPSIS=[0.3,0.85,0.2], and LPSIS=[0.29,0.78,0.3]."
     ]
    },
    {
     "cell_type": "heading",
     "level": 2,
     "metadata": {},
     "source": [
      "References"
     ]
    },
    {
     "cell_type": "markdown",
     "metadata": {},
     "source": [
      "- [Standards - International Society of Biomechanics](http://isbweb.org/information-services/standards).  \n",
      "- Stanford Encyclopedia of Philosophy. [Space and Time: Inertial Frames](http://plato.stanford.edu/entries/spacetime-iframes/).  \n",
      "- [Virtual Animation of the Kinematics of the Human for Industrial, Educational and Research Purposes (VAKHUM)](http://www.ulb.ac.be/project/vakhum/).  "
     ]
    },
    {
     "cell_type": "markdown",
     "metadata": {},
     "source": [
      "> This page was written in the [IPython Notebook](http://ipython.org/notebook.html).  \n",
      "To download the notebook click on this option at the top menu or get it from the [github repo](https://github.com/demotu/BMC)."
     ]
    }
   ],
   "metadata": {}
  }
 ]
}