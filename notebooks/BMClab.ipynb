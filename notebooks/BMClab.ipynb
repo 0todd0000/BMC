{
 "cells": [
  {
   "cell_type": "markdown",
   "metadata": {
    "slideshow": {
     "slide_type": "slide"
    },
    "urth": {
     "dashboard": {
      "hidden": true,
      "layout": {}
     }
    }
   },
   "source": [
    "<div class='center-align'><figure><img src=\"./../images/BMClab_header.png\" alt=\"BMClab image header\"/></figure></div>\n",
    "\n",
    "# [BMClab](http://demotu.org)@[UFABC](http://www.ufabc.edu.br/): Why, How, What For?"
   ]
  },
  {
   "cell_type": "code",
   "execution_count": 5,
   "metadata": {
    "collapsed": false,
    "slideshow": {
     "slide_type": "fragment"
    }
   },
   "outputs": [
    {
     "name": "stdout",
     "output_type": "stream",
     "text": [
      "03:00 AM, Wednesday, July 20, 2016\n",
      "Marcos Duarte, http://demotu.org\n"
     ]
    }
   ],
   "source": [
    "from datetime import datetime\n",
    "print(datetime.now().strftime(\"%I:%M %p, %A, %B %d, %Y\"))\n",
    "print('Marcos Duarte, http://demotu.org')"
   ]
  },
  {
   "cell_type": "markdown",
   "metadata": {
    "slideshow": {
     "slide_type": "slide"
    }
   },
   "source": [
    "# Stuff in this talk\n",
    "\n",
    "- [BMClab](http://demotu.org): why and how\n",
    "- [BMClab](http://demotu.org) infrastructure, current and future activities \n",
    "- Open data science and education  \n",
    "- Literate programming & Literate computing\n",
    "- Advocacy for Python (the programming language)"
   ]
  },
  {
   "cell_type": "code",
   "execution_count": 2,
   "metadata": {
    "collapsed": false,
    "slideshow": {
     "slide_type": "slide"
    }
   },
   "outputs": [
    {
     "data": {
      "text/html": [
       "\n",
       "        <iframe\n",
       "            width=\"100%\"\n",
       "            height=\"600\"\n",
       "            src=\"http://demotu.org\"\n",
       "            frameborder=\"0\"\n",
       "            allowfullscreen\n",
       "        ></iframe>\n",
       "        "
      ],
      "text/plain": [
       "<IPython.lib.display.IFrame at 0x106dbeda0>"
      ]
     },
     "execution_count": 2,
     "metadata": {},
     "output_type": "execute_result"
    }
   ],
   "source": [
    "from IPython.display import IFrame\n",
    "IFrame('http://demotu.org', width='100%', height=600)"
   ]
  },
  {
   "cell_type": "markdown",
   "metadata": {
    "slideshow": {
     "slide_type": "slide"
    }
   },
   "source": [
    "# Why the [BMClab](http://demotu.org)\n",
    "\n",
    "**[Biomedical engineering](https://en.wikipedia.org/wiki/Biomedical_engineering)**: the application of engineering principles and design concepts to medicine and biology for healthcare *and well-being* purposes.\n",
    "\n",
    "**[Biomechanics](https://en.wikipedia.org/wiki/Biomechanics) and [Motor Control](https://en.wikipedia.org/wiki/Motor_control)**: the study of the structure and function of biological systems using the knowledge and methods of the Mechanics and the study of how the biological systems control their movements.\n",
    "\n",
    "**[BMClab](http://demotu.org)**: In a broad sense, we are interested in knowing how living beings control and execute their movements. We also work to improve the quality of life in society by offering evaluation services in our laboratory and in the dissemination of scientific knowledge."
   ]
  },
  {
   "cell_type": "markdown",
   "metadata": {
    "slideshow": {
     "slide_type": "slide"
    }
   },
   "source": [
    "# [BMClab](http://demotu.org) lines of research\n",
    "\n",
    "- Postural control in humans  \n",
    "- Clinical gait analysis  \n",
    "- Biomechanics of long distance running  \n",
    "- Biomechanics of wheelchair propulsion  \n",
    "- ..."
   ]
  },
  {
   "cell_type": "markdown",
   "metadata": {
    "slideshow": {
     "slide_type": "slide"
    }
   },
   "source": [
    "# [BMClab](http://demotu.org) financial support\n",
    "\n",
    "The [BMClab](http://demotu.org) was made possible by the financial support from UFABC and from Brazilian research agencies, nominally:  \n",
    "- Project \"Controle do equilíbrio e movimento em adultos jovens e idosos sedentários e corredores\" (FAPESP).  \n",
    "- Project \"Postura e envelhecimento: criação de base de dados pública de sinais de oscilação e simulação computacional de mecanismos de controle\" (FAPESP)."
   ]
  },
  {
   "cell_type": "markdown",
   "metadata": {
    "slideshow": {
     "slide_type": "slide"
    }
   },
   "source": [
    "# [BMClab](http://demotu.org) financial support (II)\n",
    "\n",
    "The [BMClab](http://demotu.org) was made possible by the financial support from UFABC and from Brazilian research agencies, nominally:  \n",
    "- Project \"Estudo do equilíbrio de pessoas com deficiências e idosos: uma base de dados aberta\" (CNPq).  \n",
    "- Project \"Desenvolvimento de simulador de cadeira de rodas e de serviço de avaliação do movimento e postura para deficientes físicos com próteses/órteses e usuários de cadeira de rodas\" (MCTI-SECIS/CNPq).  \n",
    "- Project \"Análise de atletas corredores: estudo multicêntrico para compreensão do movimento com implicação para prevenção de lesão e melhora do rendimento\" (ME/CNPq).  "
   ]
  },
  {
   "cell_type": "markdown",
   "metadata": {
    "slideshow": {
     "slide_type": "slide"
    }
   },
   "source": [
    "# [BMClab](http://demotu.org) infrastructure\n",
    "\n",
    "180-m$^2$ laboratory organized in spaces for:  \n",
    "- Data collection with motion capture system, force plates, etc.   \n",
    "- Data analysis with several computers  \n",
    "- Subject preparation and evaluation  \n",
    "- Machine and electronics assembly"
   ]
  },
  {
   "cell_type": "markdown",
   "metadata": {
    "slideshow": {
     "slide_type": "slide"
    }
   },
   "source": [
    "<div class='center-align'><figure><img src=\"http://demotu.org/wp-content/uploads/2016/01/BMClab4.png\" alt=\"BMClab lab\"/></figure></div>"
   ]
  },
  {
   "cell_type": "markdown",
   "metadata": {
    "slideshow": {
     "slide_type": "slide"
    }
   },
   "source": [
    "# [BMClab](http://demotu.org) equipment\n",
    "\n",
    "- 12-camera Motion capture system  \n",
    "- Six-component instrumented dual-belt treadmill  \n",
    "- Six-component force plates  \n",
    "- Pressure distribution transducers  \n",
    "- Tri-axial accelerometers  \n",
    "- Wheelchair six-component transducers  \n",
    "- Six-component torque transducer  \n",
    "- 10-channel wireless electromyography system  \n",
    "- ..."
   ]
  },
  {
   "cell_type": "code",
   "execution_count": 41,
   "metadata": {
    "collapsed": false,
    "slideshow": {
     "slide_type": "slide"
    }
   },
   "outputs": [
    {
     "data": {
      "image/jpeg": "[encoded data removed]",
      "text/html": [
       "\n",
       "        <iframe\n",
       "            width=\"800\"\n",
       "            height=\"480\"\n",
       "            src=\"https://www.youtube.com/embed/1ZwYlaqvCSw?rel=0\"\n",
       "            frameborder=\"0\"\n",
       "            allowfullscreen\n",
       "        ></iframe>\n",
       "        "
      ],
      "text/plain": [
       "<IPython.lib.display.YouTubeVideo at 0x1da7b23eb70>"
      ]
     },
     "execution_count": 41,
     "metadata": {},
     "output_type": "execute_result"
    }
   ],
   "source": [
    "from IPython.display import YouTubeVideo\n",
    "YouTubeVideo('1ZwYlaqvCSw', width=800, height=480, rel=0)"
   ]
  },
  {
   "cell_type": "markdown",
   "metadata": {
    "slideshow": {
     "slide_type": "slide"
    }
   },
   "source": [
    "# [BMClab](http://demotu.org) services\n",
    "\n",
    "The [BMClab](http://demotu.org) (will) offer services for:\n",
    "\n",
    "- Clinical gait analysis  \n",
    "- Running biomechanics assessment  \n",
    "- Wheelchair propulsion assessment  \n",
    "- General motion capture  \n",
    "- ..."
   ]
  },
  {
   "cell_type": "code",
   "execution_count": 1,
   "metadata": {
    "collapsed": false,
    "slideshow": {
     "slide_type": "slide"
    }
   },
   "outputs": [
    {
     "data": {
      "image/jpeg": "[encoded data removed]",
      "text/html": [
       "\n",
       "        <iframe\n",
       "            width=\"840\"\n",
       "            height=\"630\"\n",
       "            src=\"https://www.youtube.com/embed/5ZKMVWkOyZA?rel=0\"\n",
       "            frameborder=\"0\"\n",
       "            allowfullscreen\n",
       "        ></iframe>\n",
       "        "
      ],
      "text/plain": [
       "<IPython.lib.display.YouTubeVideo at 0x106d59898>"
      ]
     },
     "execution_count": 1,
     "metadata": {},
     "output_type": "execute_result"
    }
   ],
   "source": [
    "from IPython.display import YouTubeVideo\n",
    "YouTubeVideo('5ZKMVWkOyZA', width=840, height=630, rel=0)"
   ]
  },
  {
   "cell_type": "markdown",
   "metadata": {
    "slideshow": {
     "slide_type": "slide"
    }
   },
   "source": [
    "# Open data science\n",
    "\n",
    "> Open science data is a type of open data focused on publishing observations and results of scientific activities available for anyone to analyze and reuse. [[wikipedia.org](https://en.wikipedia.org/wiki/Open_science_data)]\n",
    "\n",
    "**The [BMClab](http://demotu.org) is committed to open science data.**  \n",
    "**[Access our data here](http://demotu.org/datasets/).**"
   ]
  },
  {
   "cell_type": "markdown",
   "metadata": {
    "slideshow": {
     "slide_type": "slide"
    }
   },
   "source": [
    "# Open education\n",
    "\n",
    "> Open education is a collective term to describe institutional practices and programmatic initiatives that broaden access to the learning and training traditionally offered through formal education systems. [[wikipedia.org](https://en.wikipedia.org/wiki/Open_education)]\n",
    "\n",
    "**The [BMClab](http://demotu.org) is committed to open education.**  \n",
    "**[Access our GitHub repository here](https://github.com/demotu/BMC).**"
   ]
  },
  {
   "cell_type": "markdown",
   "metadata": {
    "slideshow": {
     "slide_type": "slide"
    }
   },
   "source": [
    "# Literate programming and literate computing\n",
    "\n",
    "> Literate programming: Instead of imagining that our main task is to instruct a computer what to do, let us concentrate rather on explaining to human beings what we want a computer to do. [[Donald Knuth (1984)](http://www.literateprogramming.com/knuthweb.pdf)]  \n",
    "\n",
    "\n",
    "> Literate computing: A literate computing environment is one that allows users not only to execute commands **interactively** but also to store in a literate document format the results of these commands along with figures and free-form text that can include formatted mathematical expressions. [[Millman KJ and Perez F (2014)](https://osf.io/h9gsd/?action=download&version=1)]"
   ]
  },
  {
   "cell_type": "markdown",
   "metadata": {
    "slideshow": {
     "slide_type": "slide"
    }
   },
   "source": [
    "# Literate computing with [Jupyter Notebook](http://jupyter.org/)\n",
    "\n",
    "> The Jupyter Notebook is a web application that allows you to create and share documents that contain live code, equations, visualizations and explanatory text. [[jupyter.org](http://jupyter.org/)]\n",
    "\n",
    "See examples in [A gallery of interesting IPython Notebooks](https://github.com/ipython/ipython/wiki/A-gallery-of-interesting-IPython-Notebooks)"
   ]
  },
  {
   "cell_type": "markdown",
   "metadata": {
    "slideshow": {
     "slide_type": "slide"
    }
   },
   "source": [
    "# Notice: Contest on assistive technology at UFABC\n",
    "\n",
    "O [Núcleo de Pesquisa em Tecnologia Assistiva da UFABC](http://nta.ufabc.edu.br/) com auxílio das turmas do ano 2016 da disciplina de Engenharia de Reabilitação do curso de Engenharia Biomédica da UFABC lançaram um concurso na área de tecnologia assistiva:  \n",
    "\n",
    "> **[Concurso de tecnologia assistiva de baixo custo do tipo faça você mesmo](http://nta.ufabc.edu.br/?page_id=86)**  \n",
    "\n",
    "Inscrições até dia 30 de agosto e resultados do concurso na primeira semana de outubro de 2016."
   ]
  },
  {
   "cell_type": "markdown",
   "metadata": {
    "slideshow": {
     "slide_type": "slide"
    }
   },
   "source": [
    "# Questions?\n",
    "\n",
    "> [http://demotu.org/](http://demotu.org/)  \n",
    "> E-mail: bmc.ufabc@gmail.com   \n",
    "> Tel.: +55 11 2320-6435   \n",
    "> [Location Map](https://www.google.com.br/maps/place/Federal+University+of+ABC+-+UFABC/@-23.6803572,-46.5647898,14z/data=!4m2!3m1!1s0x0:0xf1a53d9732f7a8c6)"
   ]
  },
  {
   "cell_type": "markdown",
   "metadata": {
    "slideshow": {
     "slide_type": "slide"
    }
   },
   "source": [
    "# About these slides\n",
    "\n",
    "**This document (the webpage version or the slides version) is a *notebook* written using the [Jupyter Notebook](http://jupyter.org/).**\n",
    "\n",
    "> The Jupyter Notebook is a web application that allows you to create and share documents that contain live code, equations, visualizations and explanatory text. [[jupyter.org](http://jupyter.org/)]"
   ]
  }
 ],
 "metadata": {
  "celltoolbar": "Slideshow",
  "kernelspec": {
   "display_name": "Python 3",
   "language": "python",
   "name": "python3"
  },
  "language_info": {
   "codemirror_mode": {
    "name": "ipython",
    "version": 3
   },
   "file_extension": ".py",
   "mimetype": "text/x-python",
   "name": "python",
   "nbconvert_exporter": "python",
   "pygments_lexer": "ipython3",
   "version": "3.5.2"
  },
  "urth": {
   "dashboard": {
    "cellMargin": 10,
    "defaultCellHeight": 20,
    "layout": "grid",
    "maxColumns": 12
   }
  },
  "widgets": {
   "state": {},
   "version": "1.1.2"
  }
 },
 "nbformat": 4,
 "nbformat_minor": 0
}
