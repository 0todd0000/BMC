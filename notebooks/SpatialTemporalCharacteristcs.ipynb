{
 "metadata": {
  "name": "",
  "signature": "sha256:28abb7db036d6f23577b9eda5959f6d85dbd49507f4882e1d063b17ee9700d88"
 },
 "nbformat": 3,
 "nbformat_minor": 0,
 "worksheets": [
  {
   "cells": [
    {
     "cell_type": "heading",
     "level": 1,
     "metadata": {},
     "source": [
      "Spatial and temporal characteristics of a movement pattern"
     ]
    },
    {
     "cell_type": "markdown",
     "metadata": {},
     "source": [
      "Marcos Duarte"
     ]
    },
    {
     "cell_type": "markdown",
     "metadata": {},
     "source": [
      "The measurement of spatial and temporal characteristcs of a movement pattern is an important resource for the characterization of the observed movement. Such variables are typically the first description performed in gait analysis (Whittle, 2007) and also used in the study of other movements and biological systems. The determination of such variables is also an excellent and valuable example of the application of relatively simple concepts of kinematics.\n",
      "\n",
      "Gait is the pattern of movement with the limbs by animals during terrestrial locomotion and for humans, gait consists of walking or running. Gait is typically a repetitive task where the overall pattern of movement repeats after a certain period or cycle. In the context of human gait, the movement of interest, walking or running, can be defined by steps or strides performed with the limbs. A step is the movement of one foot in front of the other and a stride is two consecutive steps with alternation of the limbs, as illustrated next.  \n",
      "\n",
      "<div class='center-align'><figure><img src=\"./../images/gaitstepstride.png\"alt=\"Gait step and stride\"/><figcaption><i>Step and stride in human gait.</i></figcaption></figure></div> \n",
      "\n",
      "<div class='center-align'><figure><img src=\"./../images/gaitcycle.png\" width=720 alt=\"Gait cycle\"/><figcaption><i>The gait cycle of walking and its subphases ([http://www.gla.ac.uk/t4/~fbls/files/fab/](http://www.gla.ac.uk/t4/~fbls/files/fab/)). HS: heel strike. TO: toe off.</i></figcaption></figure></div> "
     ]
    },
    {
     "cell_type": "heading",
     "level": 2,
     "metadata": {},
     "source": [
      "Common measurements of spatial and temporal characteristics"
     ]
    },
    {
     "cell_type": "markdown",
     "metadata": {},
     "source": [
      "The most commonly investigated spatial and temporal characteristics in the context of human gait (walking or running) analysis are:\n",
      "\n",
      "- Step length: distance in the direction of progression between two consecutive similar events with the different limbs. For instance, the distance between two heel strikes, with the right and left limbs.   \n",
      "- Stride length: distance in the direction of progression between two consecutive similar events with the same limb. For instance, the distance between two heel strikes with the right limb.   \n",
      "- Step duration: time duration of the step.   \n",
      "- Stride duration: time duration of the stride.     \n",
      "- Cadence: number of steps per unit of time.   \n",
      "- Velocity: travelled distance divided by the spent time.    \n",
      "- Stance duration: time duration which one limb is in contact with the ground.\n",
      "- Swing duration: time duration which one limb is not in contact with the ground.   \n",
      "- Single support duration: time duration which only one limb is in contact with the ground.  \n",
      "- Double support duration: time duration which the two limbs are in contact with the ground.    \n",
      "- Base of support width: distance in the frontal plane between the two feet when they were in contact with the ground (in different instants of time).\n",
      "\n",
      "Some of these variables can be normalized by a parameter to take into account individual characteristics or to simply make them dimensionless, for instance:   \n",
      "\n",
      "- Dimensionless stride length: stride length divided by lower limb length.\n",
      "- Dimensionless speed: the [Froude number](http://en.wikipedia.org/wiki/Froude_number), $ v/\\sqrt{gL} $, where g is the gravitational acceleration and L is the lower limb length.\n",
      "- Dimensionless stride frequency: stride frequency multiplied by $ \\sqrt{L/g} $.\n",
      "- Duty factor: period of contact of one limb with the ground divided by the stride period.\n",
      "- Stance, swing, single support and double support durations can be expressed as a fraction of the stride duration and multiplied by 100 for percentage values."
     ]
    },
    {
     "cell_type": "heading",
     "level": 2,
     "metadata": {},
     "source": [
      "Problems"
     ]
    },
    {
     "cell_type": "markdown",
     "metadata": {},
     "source": [
      "1. Perform an experiment to measure as many as possible spatial and temporal characteristics during walking at different speeds (slow, normal, and fast) using only a chronometer and a known distance of about 10 m.  \n",
      "2. Use a video camera to measure the characteristics you couldn't measure in the pervious item.  \n",
      "3. Propose different instruments to measure spatial and temporal characteristics in biomechanics.  "
     ]
    },
    {
     "cell_type": "heading",
     "level": 2,
     "metadata": {},
     "source": [
      "References"
     ]
    },
    {
     "cell_type": "markdown",
     "metadata": {},
     "source": [
      "- Whittle M (2007) [Gait Analysis: An Introduction](http://books.google.com.br/books?id=HtNqAAAAMAAJ). Butterworth-Heinemann."
     ]
    }
   ],
   "metadata": {}
  }
 ]
}