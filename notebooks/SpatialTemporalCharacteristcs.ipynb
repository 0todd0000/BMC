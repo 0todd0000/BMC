{
 "cells": [
  {
   "cell_type": "markdown",
   "metadata": {},
   "source": [
    "# Spatial and temporal characteristics of a movement pattern\n",
    "\n",
    "Marcos Duarte"
   ]
  },
  {
   "cell_type": "markdown",
   "metadata": {},
   "source": [
    "The measurement of spatial and temporal characteristcs of a movement pattern is an important resource for the characterization of the observed movement. Such variables are typically the first description performed in gait analysis (Whittle, 2007) and also used in the study of other movements and biological systems. The determination of such variables is also an excellent and valuable example of the application of relatively simple concepts of kinematics.\n",
    "\n",
    "Gait is the pattern of movement with the limbs by animals during terrestrial locomotion and for humans, gait consists of walking or running. Gait is typically a repetitive task where the overall pattern of movement repeats after a certain period or cycle. In the context of human gait, the movement of interest, walking or running, can be defined by steps or strides performed with the limbs. A step is the movement of one foot in front of the other and a stride is two consecutive steps with alternation of the limbs, as illustrated next.  \n",
    "\n",
    "<div class='center-align'><figure><img src=\"./../images/gaitstepstride.png\"alt=\"Gait step and stride\"/><figcaption><center><i>Step and stride in human gait.</i></center></figcaption></figure></div> \n",
    "<br />\n",
    "<div class='center-align'><figure><img src=\"./../images/gaitcycle.png\" width=720 alt=\"Gait cycle\"/><figcaption><center><i>The gait cycle of walking and its subphases ([http://www.gla.ac.uk/t4/~fbls/files/fab/](http://www.gla.ac.uk/t4/~fbls/files/fab/)). HS: heel strike. TO: toe off.</i></center></figcaption></figure></div> "
   ]
  },
  {
   "cell_type": "markdown",
   "metadata": {},
   "source": [
    "## Common measurements of spatial and temporal characteristics\n",
    "\n",
    "The most commonly investigated spatial and temporal characteristics in the context of human gait (walking or running) analysis are:\n",
    "\n",
    "- Step length: distance in the direction of progression between two consecutive similar events with the different limbs. For instance, the distance between two heel strikes, with the right and left limbs.   \n",
    "- Stride length: distance in the direction of progression between two consecutive similar events with the same limb. For instance, the distance between two heel strikes with the right limb.   \n",
    "- Step duration: time duration of the step.   \n",
    "- Stride duration: time duration of the stride.     \n",
    "- Cadence: number of steps per unit of time.   \n",
    "- Velocity: travelled distance divided by the spent time.    \n",
    "- Stance duration: time duration which one limb is in contact with the ground.\n",
    "- Swing duration: time duration which one limb is not in contact with the ground.   \n",
    "- Single support duration: time duration which only one limb is in contact with the ground.  \n",
    "- Double support duration: time duration which the two limbs are in contact with the ground.    \n",
    "- Base of support width: distance in the frontal plane between the two feet when they were in contact with the ground (in different instants of time).\n",
    "\n",
    "Some of these variables can be normalized by a parameter to take into account individual characteristics or to simply make them dimensionless, for instance:   \n",
    "\n",
    "- Dimensionless stride length: stride length divided by lower limb length.\n",
    "- Dimensionless speed: the [Froude number](http://en.wikipedia.org/wiki/Froude_number), $ v/\\sqrt{gL} $, where g is the gravitational acceleration and L is the lower limb length.\n",
    "- Dimensionless stride frequency: stride frequency multiplied by $ \\sqrt{L/g} $.\n",
    "- Duty factor: period of contact of one limb with the ground divided by the stride period.\n",
    "- Stance, swing, single support and double support durations can be expressed as a fraction of the stride duration and multiplied by 100 for percentage values."
   ]
  },
  {
   "cell_type": "markdown",
   "metadata": {},
   "source": [
    "## Examples of use of spatial and temporal characteristics\n",
    "\n",
    "The article [Bipedal animals, and their differences from humans](http://onlinelibrary.wiley.com/doi/10.1111/j.0021-8782.2004.00289.x/abstract) by Alexander describes an interesting comparison of the spatial and temporal characteristics, as well as other biomechanical and physiological variables, of gaits by humans and other animals. Alexander found a lot of similarities across animals, particularly concerning the spatial and temporal characteristics, but at the same time he concludes that no animal walks or runs as we do.\n",
    "\n",
    "With ageing, typically it's observed a decrease in gait speed, an increase in double stance time, and an increase in step width, among other changes. See the website [Gait Disorders in the Elderly](http://www.merckmanuals.com/professional/geriatrics/gait_disorders_in_the_elderly/gait_disorders_in_the_elderly.html) for more details.\n",
    "\n",
    "A study involving 26,802 individuals 60 years and older from 17 different countries found that the simple measurement of gait speed, combined with a kind of memory test, can be used to identify high-risk seniors that will develop dementia ([Verghese et al., 2014](http://www.neurology.org/content/83/8/718))."
   ]
  },
  {
   "cell_type": "markdown",
   "metadata": {},
   "source": [
    "## Problems\n",
    "\n",
    "1. Perform an experiment to measure as many as possible spatial and temporal characteristics during walking at different speeds (slow, normal, and fast) using only a chronometer and a known distance of about 10 m.  \n",
    "2. Use a video camera to measure the characteristics you couldn't measure in the pervious item.  \n",
    "3. Propose different instruments to measure spatial and temporal characteristics in biomechanics.  "
   ]
  },
  {
   "cell_type": "markdown",
   "metadata": {},
   "source": [
    "## References\n",
    "\n",
    "- Alexander RM (2004) [Bipedal animals, and their differences from humans](http://onlinelibrary.wiley.com/doi/10.1111/j.0021-8782.2004.00289.x/abstract). Journal of Anatomy, 204, 5, 321-330.  \n",
    "- [Gait Disorders in the Elderly](http://www.merckmanuals.com/professional/geriatrics/gait_disorders_in_the_elderly/gait_disorders_in_the_elderly.html).  \n",
    "- Verghese J et al. (2014) [Motoric cognitive risk syndrome](http://www.neurology.org/content/83/8/718). Neurology, doi: 10.1212/WNL.0000000000000717.\n",
    "- Whittle M (2007) [Gait Analysis: An Introduction](http://books.google.com.br/books?id=HtNqAAAAMAAJ). Butterworth-Heinemann."
   ]
  }
 ],
 "metadata": {
  "kernelspec": {
   "display_name": "Python 3",
   "language": "python",
   "name": "python3"
  },
  "language_info": {
   "codemirror_mode": {
    "name": "ipython",
    "version": 3
   },
   "file_extension": ".py",
   "mimetype": "text/x-python",
   "name": "python",
   "nbconvert_exporter": "python",
   "pygments_lexer": "ipython3",
   "version": "3.4.3"
  }
 },
 "nbformat": 4,
 "nbformat_minor": 0
}
