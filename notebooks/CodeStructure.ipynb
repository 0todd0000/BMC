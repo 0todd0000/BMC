{
 "metadata": {
  "name": "",
  "signature": "sha256:c491b35303efe70eb61450fc591eb11217d89def855d6dddf8b9ffcface68863"
 },
 "nbformat": 3,
 "nbformat_minor": 0,
 "worksheets": [
  {
   "cells": [
    {
     "cell_type": "heading",
     "level": 1,
     "metadata": {},
     "source": [
      "Code structure for data analysis"
     ]
    },
    {
     "cell_type": "markdown",
     "metadata": {},
     "source": [
      "Marcos Duarte"
     ]
    },
    {
     "cell_type": "markdown",
     "metadata": {},
     "source": [
      "Sometimes data from experiments are stored in different files where each file contains data for different subjects, trials, conditions, etc. This text presents a common and simple solution to write a code to analyze such data.  \n",
      "The basic idea is that the name of the file is created in a structured way and you can use that to run a sequence of procedures inside one or more nested loops.   \n",
      "For instance, consider that the two first letters of the filename encode the initials of the subject's name, the next two letters the different conditions, and the last two characters the trial number. "
     ]
    },
    {
     "cell_type": "code",
     "collapsed": false,
     "input": [
      "subjects   = ['AA', 'AB']\n",
      "conditions = ['c1', 'c2']\n",
      "trials     = ['01', '02', '03']"
     ],
     "language": "python",
     "metadata": {},
     "outputs": [],
     "prompt_number": 1
    },
    {
     "cell_type": "markdown",
     "metadata": {},
     "source": [
      "We could open and process these files with:"
     ]
    },
    {
     "cell_type": "code",
     "collapsed": false,
     "input": [
      "for subject in subjects:\n",
      "    for condition in conditions:\n",
      "        for trial in trials:\n",
      "            filename = subject + condition + trial\n",
      "            print(filename)\n",
      "            # read file, process data, save results"
     ],
     "language": "python",
     "metadata": {},
     "outputs": [
      {
       "output_type": "stream",
       "stream": "stdout",
       "text": [
        "AAc101\n",
        "AAc102\n",
        "AAc103\n",
        "AAc201\n",
        "AAc202\n",
        "AAc203\n",
        "ABc101\n",
        "ABc102\n",
        "ABc103\n",
        "ABc201\n",
        "ABc202\n",
        "ABc203\n"
       ]
      }
     ],
     "prompt_number": 2
    },
    {
     "cell_type": "markdown",
     "metadata": {},
     "source": [
      "The problem with this code is that if one one more files are missing or corrupted (which is typical), it will break. A soluction is to read the file inside a `try` function. The `try...except` handles exceptions such as a failure in reading a file and then we can use a `continue` statement to skip each failed iteration in the inner loop.  \n",
      "Let's create some files and implement this idea."
     ]
    },
    {
     "cell_type": "heading",
     "level": 2,
     "metadata": {},
     "source": [
      "Read and save files"
     ]
    },
    {
     "cell_type": "markdown",
     "metadata": {},
     "source": [
      "If the data is in text ([ASCII](http://en.wikipedia.org/wiki/ASCII)) format, it's easier to read the file with the [`numpy`](http://www.numpy.org/) function [`loadtxt`](http://docs.scipy.org/doc/numpy/reference/generated/numpy.loadtxt.html) or with the [`pandas`](http://pandas.pydata.org/) function [`read_csv`](http://pandas.pydata.org/pandas-docs/stable/generated/pandas.io.parsers.read_csv.html). Both functions behave similarly; they can skip a certain nuimber of first rows, can read files with different column separators, read numbers and letters, etc. `read_csv` tends to be faster but it returns a `pandas` [`DataFrame`](http://pandas.pydata.org/pandas-docs/dev/generated/pandas.DataFrame.html) object, which might not be useful if you are not into `pandas` (but you should be).\n",
      "\n",
      "To save data to a file, we can use the counterpart functions `savetxt` and `to_csv`:"
     ]
    },
    {
     "cell_type": "code",
     "collapsed": false,
     "input": [
      "import numpy as np\n",
      "\n",
      "path = './../data/'\n",
      "extension = '.txt'\n",
      "\n",
      "for subject in subjects:\n",
      "    for condition in conditions:\n",
      "        for trial in trials:\n",
      "            filename = path + subject + condition + trial + extension\n",
      "            data = np.random.randn(5, 3)\n",
      "            header = 'Col A\\tCol B\\tCol C'\n",
      "            np.savetxt(filename, data, fmt='%g',\n",
      "                       delimiter='\\t', header = header, comments = '')\n",
      "            print('File', filename, 'saved')"
     ],
     "language": "python",
     "metadata": {},
     "outputs": [
      {
       "output_type": "stream",
       "stream": "stdout",
       "text": [
        "File ./../data/AAc101.txt saved\n",
        "File ./../data/AAc102.txt saved\n",
        "File ./../data/AAc103.txt saved\n",
        "File ./../data/AAc201.txt saved\n",
        "File ./../data/AAc202.txt saved\n",
        "File ./../data/AAc203.txt saved\n",
        "File ./../data/ABc101.txt saved\n",
        "File ./../data/ABc102.txt saved\n",
        "File ./../data/ABc103.txt saved\n",
        "File ./../data/ABc201.txt saved\n",
        "File ./../data/ABc202.txt saved\n",
        "File ./../data/ABc203.txt saved\n"
       ]
      }
     ],
     "prompt_number": 3
    },
    {
     "cell_type": "markdown",
     "metadata": {},
     "source": [
      "In my case I used the './../' command to move up one directory relatively to my curent directory (see the <a href=\"http://en.wikipedia.org/wiki/Cd_(command)\">cd (command)</a>).  \n",
      "Let's remove one of the files:"
     ]
    },
    {
     "cell_type": "code",
     "collapsed": false,
     "input": [
      "import os\n",
      "os.remove('./../data/AAc202.txt')"
     ],
     "language": "python",
     "metadata": {},
     "outputs": [],
     "prompt_number": 4
    },
    {
     "cell_type": "markdown",
     "metadata": {},
     "source": [
      "Now let's read the data in these files and handle a possible missing or corrupted file:"
     ]
    },
    {
     "cell_type": "code",
     "collapsed": false,
     "input": [
      "for subject in subjects:\n",
      "    for condition in conditions:\n",
      "        for trial in trials:\n",
      "            filename = path + subject + condition + trial + extension\n",
      "            try:\n",
      "                data = np.loadtxt(filename, skiprows=1)\n",
      "            except Exception as err:\n",
      "                print(filename, err)          \n",
      "                continue\n",
      "            else:\n",
      "                print(filename, 'loaded')\n",
      "            \n",
      "            # process data\n",
      "            # ...\n",
      "            # save results"
     ],
     "language": "python",
     "metadata": {},
     "outputs": [
      {
       "output_type": "stream",
       "stream": "stdout",
       "text": [
        "./../data/AAc101.txt loaded\n",
        "./../data/AAc102.txt loaded\n",
        "./../data/AAc103.txt loaded\n",
        "./../data/AAc201.txt loaded\n",
        "./../data/AAc202.txt [Errno 2] No such file or directory: './../data/AAc202.txt'\n",
        "./../data/AAc203.txt loaded\n",
        "./../data/ABc101.txt loaded\n",
        "./../data/ABc102.txt loaded\n",
        "./../data/ABc103.txt loaded\n",
        "./../data/ABc201.txt loaded\n",
        "./../data/ABc202.txt loaded\n",
        "./../data/ABc203.txt loaded\n"
       ]
      }
     ],
     "prompt_number": 5
    },
    {
     "cell_type": "heading",
     "level": 2,
     "metadata": {},
     "source": [
      "Store results"
     ]
    },
    {
     "cell_type": "markdown",
     "metadata": {},
     "source": [
      "The results of the analysis for each file can be stored in a variable in different ways.  \n",
      "We can store the results in a multidimensional variable where each dimension corresponds to the different indices in the loops. With the data above this would produce `results(s, c, t)`, a 2x2x3 array. Or we can store everything in a two-dimensional array where for example each row corresponds to each combination of subject, condition, and trial.   \n",
      "Let's try both ways:"
     ]
    },
    {
     "cell_type": "code",
     "collapsed": false,
     "input": [
      "results = np.empty(shape=(2, 2, 3, 3))*np.NaN\n",
      "for s, subject in enumerate(subjects):\n",
      "    for c, condition in enumerate(conditions):\n",
      "        for t, trial in enumerate(trials):\n",
      "            filename = path + subject + condition + trial + extension\n",
      "            try:\n",
      "                data = np.loadtxt(filename, skiprows=1)\n",
      "            except Exception as err:\n",
      "                #print(filename, err)          \n",
      "                continue\n",
      "            else:\n",
      "                #print(filename, 'loaded')\n",
      "                pass\n",
      "            \n",
      "            results[s, c, t, :] = np.mean(data, axis=0)\n",
      "            \n",
      "print(results.shape)\n",
      "print(results)"
     ],
     "language": "python",
     "metadata": {},
     "outputs": [
      {
       "output_type": "stream",
       "stream": "stdout",
       "text": [
        "(2, 2, 3, 3)\n",
        "[[[[-0.49757448 -0.2692196   0.6739528 ]\n",
        "   [ 0.2925762   0.3684852   0.522114  ]\n",
        "   [-0.11486849  0.2477564  -0.5365558 ]]\n",
        "\n",
        "  [[-0.0768988   0.2418202  -0.3577064 ]\n",
        "   [        nan         nan         nan]\n",
        "   [ 0.39883422  0.1565358  -0.03583156]]]\n",
        "\n",
        "\n",
        " [[[-0.10402126 -0.25288802  0.2824056 ]\n",
        "   [-0.44776056  0.4005756  -0.3517632 ]\n",
        "   [ 0.196913   -0.019765   -0.15877938]]\n",
        "\n",
        "  [[-1.016956    0.615349   -0.4952094 ]\n",
        "   [-1.0465332   0.3817752   0.211719  ]\n",
        "   [ 0.0124684  -0.3307858  -0.0447546 ]]]]\n"
       ]
      }
     ],
     "prompt_number": 6
    },
    {
     "cell_type": "markdown",
     "metadata": {},
     "source": [
      "One problem with this approach is that for many dimensions the data gets convoluted and it might be difficult to read it.  \n",
      "The results for the first subject, condition, and trial are:"
     ]
    },
    {
     "cell_type": "code",
     "collapsed": false,
     "input": [
      "results[0, 0, 0, :]"
     ],
     "language": "python",
     "metadata": {},
     "outputs": [
      {
       "metadata": {},
       "output_type": "pyout",
       "prompt_number": 7,
       "text": [
        "array([-0.49757448, -0.2692196 ,  0.6739528 ])"
       ]
      }
     ],
     "prompt_number": 7
    },
    {
     "cell_type": "markdown",
     "metadata": {},
     "source": [
      "We can use the second approach and store the results in a two-dimensional array:"
     ]
    },
    {
     "cell_type": "code",
     "collapsed": false,
     "input": [
      "results = np.empty(shape=(2*2*3, 3))*np.NaN\n",
      "results2 = np.empty(shape=(2*2*3, 3))*np.NaN\n",
      "ind = 0\n",
      "for s, subject in enumerate(subjects):\n",
      "    for c, condition in enumerate(conditions):\n",
      "        for t, trial in enumerate(trials):\n",
      "            ind += 1\n",
      "            filename = path + subject + condition + trial + extension\n",
      "            try:\n",
      "                data = np.loadtxt(filename, skiprows=1)\n",
      "            except Exception as err:\n",
      "                #print(filename, err)          \n",
      "                continue\n",
      "            else:\n",
      "                #print(filename, 'loaded')\n",
      "                pass\n",
      "            \n",
      "            # 1st way, using an index:\n",
      "            results[ind-1, :] = np.mean(data, axis=0)\n",
      "            # 2nd way, no index:\n",
      "            results2[len(conditions)*len(trials)*s + len(trials)*c + t, :] = np.mean(data, axis=0)\n",
      "            \n",
      "print(results.shape)\n",
      "print(results)\n",
      "print(results2.shape)\n",
      "print(results2)"
     ],
     "language": "python",
     "metadata": {},
     "outputs": [
      {
       "output_type": "stream",
       "stream": "stdout",
       "text": [
        "(12, 3)\n",
        "[[-0.49757448 -0.2692196   0.6739528 ]\n",
        " [ 0.2925762   0.3684852   0.522114  ]\n",
        " [-0.11486849  0.2477564  -0.5365558 ]\n",
        " [-0.0768988   0.2418202  -0.3577064 ]\n",
        " [        nan         nan         nan]\n",
        " [ 0.39883422  0.1565358  -0.03583156]\n",
        " [-0.10402126 -0.25288802  0.2824056 ]\n",
        " [-0.44776056  0.4005756  -0.3517632 ]\n",
        " [ 0.196913   -0.019765   -0.15877938]\n",
        " [-1.016956    0.615349   -0.4952094 ]\n",
        " [-1.0465332   0.3817752   0.211719  ]\n",
        " [ 0.0124684  -0.3307858  -0.0447546 ]]\n",
        "(12, 3)\n",
        "[[-0.49757448 -0.2692196   0.6739528 ]\n",
        " [ 0.2925762   0.3684852   0.522114  ]\n",
        " [-0.11486849  0.2477564  -0.5365558 ]\n",
        " [-0.0768988   0.2418202  -0.3577064 ]\n",
        " [        nan         nan         nan]\n",
        " [ 0.39883422  0.1565358  -0.03583156]\n",
        " [-0.10402126 -0.25288802  0.2824056 ]\n",
        " [-0.44776056  0.4005756  -0.3517632 ]\n",
        " [ 0.196913   -0.019765   -0.15877938]\n",
        " [-1.016956    0.615349   -0.4952094 ]\n",
        " [-1.0465332   0.3817752   0.211719  ]\n",
        " [ 0.0124684  -0.3307858  -0.0447546 ]]\n"
       ]
      }
     ],
     "prompt_number": 8
    },
    {
     "cell_type": "markdown",
     "metadata": {},
     "source": [
      "We can create columns identifying the subject, condition, and trial, which might be useful for running statistical analysis:"
     ]
    },
    {
     "cell_type": "code",
     "collapsed": false,
     "input": [
      "results = np.empty(shape=(2*2*3, 3))*np.NaN\n",
      "ind = 0\n",
      "indexes = []\n",
      "for s, subject in enumerate(subjects):\n",
      "    for c, condition in enumerate(conditions):\n",
      "        for t, trial in enumerate(trials):\n",
      "            ind += 1\n",
      "            indexes.append([s, c, t])\n",
      "            filename = path + subject + condition + trial + extension\n",
      "            try:\n",
      "                data = np.loadtxt(filename, skiprows=1)\n",
      "            except Exception as err:\n",
      "                #print(filename, err)          \n",
      "                continue\n",
      "            else:\n",
      "                #print(filename, 'loaded')\n",
      "                pass\n",
      "            \n",
      "            results[ind-1, :] = np.mean(data, axis=0)\n",
      "  \n",
      "results = np.hstack((np.array(indexes), results))\n",
      "print(results.shape)\n",
      "print(results)"
     ],
     "language": "python",
     "metadata": {},
     "outputs": [
      {
       "output_type": "stream",
       "stream": "stdout",
       "text": [
        "(12, 6)\n",
        "[[ 0.          0.          0.         -0.49757448 -0.2692196   0.6739528 ]\n",
        " [ 0.          0.          1.          0.2925762   0.3684852   0.522114  ]\n",
        " [ 0.          0.          2.         -0.11486849  0.2477564  -0.5365558 ]\n",
        " [ 0.          1.          0.         -0.0768988   0.2418202  -0.3577064 ]\n",
        " [ 0.          1.          1.                 nan         nan         nan]\n",
        " [ 0.          1.          2.          0.39883422  0.1565358  -0.03583156]\n",
        " [ 1.          0.          0.         -0.10402126 -0.25288802  0.2824056 ]\n",
        " [ 1.          0.          1.         -0.44776056  0.4005756  -0.3517632 ]\n",
        " [ 1.          0.          2.          0.196913   -0.019765   -0.15877938]\n",
        " [ 1.          1.          0.         -1.016956    0.615349   -0.4952094 ]\n",
        " [ 1.          1.          1.         -1.0465332   0.3817752   0.211719  ]\n",
        " [ 1.          1.          2.          0.0124684  -0.3307858  -0.0447546 ]]\n"
       ]
      }
     ],
     "prompt_number": 9
    },
    {
     "cell_type": "markdown",
     "metadata": {},
     "source": [
      "These are just some possible generic approaches to analyze data in multiple files.\n",
      "\n",
      "And we can save the results in a file:"
     ]
    },
    {
     "cell_type": "code",
     "collapsed": false,
     "input": [
      "filename = path + 'results.txt'\n",
      "header = 'Subject\\tCondition\\tTrial\\tCol A\\tCol B\\tCol C'\n",
      "np.savetxt(filename, results, fmt='%d\\t%d\\t%d\\t%g\\t%g\\t%g',\n",
      "           delimiter='\\t', header = header, comments = '')\n",
      "print('File', filename, 'saved')"
     ],
     "language": "python",
     "metadata": {},
     "outputs": [
      {
       "output_type": "stream",
       "stream": "stdout",
       "text": [
        "File ./../data/results.txt saved\n"
       ]
      }
     ],
     "prompt_number": 10
    }
   ],
   "metadata": {}
  }
 ]
}