{
 "metadata": {
  "name": "",
  "signature": "sha256:b05a056b19349d3500baf67400b6ceeb64209cf64e450d9855c8a033bdf2ae4d"
 },
 "nbformat": 3,
 "nbformat_minor": 0,
 "worksheets": [
  {
   "cells": [
    {
     "cell_type": "heading",
     "level": 1,
     "metadata": {},
     "source": [
      "Introduction to Biomechanics"
     ]
    },
    {
     "cell_type": "markdown",
     "metadata": {},
     "source": [
      "Marcos Duarte"
     ]
    },
    {
     "cell_type": "markdown",
     "metadata": {},
     "source": [
      "> **Biomechanics** is the study of the structure and function of biological systems by means of the methods of mechanics.   \n",
      "(Herbert Hatze, 1974) \n",
      "\n",
      "Biomechanics is fundamental for all fields of science and technology related to biology and health and it's also relevant for the development of synthetic systems inspired on biological systems, e.g., in robotics.\n",
      "\n",
      "The Wikipedia page on biomechanics is a good place to start:"
     ]
    },
    {
     "cell_type": "code",
     "collapsed": false,
     "input": [
      "from IPython.display import IFrame\n",
      "IFrame('http://en.m.wikipedia.org/wiki/Biomechanics', width='100%', height=400)"
     ],
     "language": "python",
     "metadata": {},
     "outputs": [
      {
       "html": [
        "\n",
        "        <iframe\n",
        "            width=\"100%\"\n",
        "            height=400\"\n",
        "            src=\"http://en.m.wikipedia.org/wiki/Biomechanics\"\n",
        "            frameborder=\"0\"\n",
        "            allowfullscreen\n",
        "        ></iframe>\n",
        "        "
       ],
       "metadata": {},
       "output_type": "pyout",
       "prompt_number": 1,
       "text": [
        "<IPython.lib.display.IFrame at 0x45f5a58>"
       ]
      }
     ],
     "prompt_number": 1
    },
    {
     "cell_type": "markdown",
     "metadata": {},
     "source": [
      "See these introductory videos about biomechanics:"
     ]
    },
    {
     "cell_type": "code",
     "collapsed": false,
     "input": [
      "from IPython.display import YouTubeVideo\n",
      "YouTubeVideo('r3-UuoQ6fbY', width=640, height=360, rel=0)"
     ],
     "language": "python",
     "metadata": {},
     "outputs": [
      {
       "html": [
        "\n",
        "        <iframe\n",
        "            width=\"640\"\n",
        "            height=360\"\n",
        "            src=\"https://www.youtube.com/embed/r3-UuoQ6fbY?rel=0\"\n",
        "            frameborder=\"0\"\n",
        "            allowfullscreen\n",
        "        ></iframe>\n",
        "        "
       ],
       "metadata": {},
       "output_type": "pyout",
       "prompt_number": 2,
       "text": [
        "<IPython.lib.display.YouTubeVideo at 0x45f5e48>"
       ]
      }
     ],
     "prompt_number": 2
    },
    {
     "cell_type": "code",
     "collapsed": false,
     "input": [
      "from IPython.display import YouTubeVideo\n",
      "YouTubeVideo('aWUavsk2djI', width=640, height=360, rel=0)"
     ],
     "language": "python",
     "metadata": {},
     "outputs": [
      {
       "html": [
        "\n",
        "        <iframe\n",
        "            width=\"640\"\n",
        "            height=360\"\n",
        "            src=\"https://www.youtube.com/embed/aWUavsk2djI?rel=0\"\n",
        "            frameborder=\"0\"\n",
        "            allowfullscreen\n",
        "        ></iframe>\n",
        "        "
       ],
       "metadata": {},
       "output_type": "pyout",
       "prompt_number": 3,
       "text": [
        "<IPython.lib.display.YouTubeVideo at 0x45f5f60>"
       ]
      }
     ],
     "prompt_number": 3
    },
    {
     "cell_type": "heading",
     "level": 2,
     "metadata": {},
     "source": [
      "Branches of mechanics (ergo, add bio- for biomechanics)"
     ]
    },
    {
     "cell_type": "markdown",
     "metadata": {},
     "source": [
      "<div class='center-align'><figure><img src=\"http://upload.wikimedia.org/wikipedia/commons/thumb/e/ea/Mechanics_Overview_Table.jpg/800px-Mechanics_Overview_Table.jpg\" alt=\"Branches of mechanics\"/><figcaption><i>Branches of mechanics  ([from Wikipedia](http://en.wikipedia.org/wiki/Mechanics)).</i></figcaption></div>"
     ]
    },
    {
     "cell_type": "markdown",
     "metadata": {},
     "source": [
      "In fact, only a subset of Mechanics matters to Biomechanics,the Classical Mechanics subset, the domain of mechanics for bodies with moderate speeds $(\\ll 3.10^8 m/s!)$ and not very small $(\\gg 3.10^{-9} m!)$ as shown in the following diagram:\n",
      "<div class='center-align'><figure><img src=\"http://upload.wikimedia.org/wikipedia/commons/thumb/f/f0/Physicsdomains.svg/500px-Physicsdomains.svg.png\" alt=\"Domains of mechanics\"/><figcaption><i>Domain of validity for Classical Mechanics  ([from Wikipedia](http://en.wikipedia.org/wiki/Classical_mechanics)).</i></figcaption></div>"
     ]
    },
    {
     "cell_type": "markdown",
     "metadata": {},
     "source": [
      "One may argue that since biomechanics is the application of Mechanics to biological systems, biomechanics is in fact a branch of Engineering Mechanics, rather than from Physics (but yes, the foundations of Engineering Mechanics come from Physics, anyway).\n",
      "\n",
      "The branches of Engineering Mechanics are:\n",
      "\n",
      "<div class='center-align'><figure><img src=\"http://upload.wikimedia.org/wikipedia/commons/thumb/1/1b/Engineering_Mechanics_Overview_2.png/800px-Engineering_Mechanics_Overview_2.png\" alt=\"Branches of Engineering Mechanics \"/><figcaption><i>Branches of Engineering Mechanics ([from Wikibooks](http://en.wikibooks.org/wiki/Engineering_Mechanics)).</i></figcaption></div><br> \n",
      "\n",
      "And just for completeness, here are the main branches of Physics studied in Engineering:\n",
      "\n",
      "<div class='center-align'><figure><img src=\"http://upload.wikimedia.org/wikipedia/commons/thumb/a/a6/Tree_of_Mechanics.svg/640px-Tree_of_Mechanics.svg.png\" alt=\"Main branches of Physics studied in Engineering\"/><figcaption><i>Main branches of Physics studied in Engineering ([from Wikibooks](http://en.wikibooks.org/wiki/Engineering_Mechanics)).</i></figcaption></div>"
     ]
    },
    {
     "cell_type": "heading",
     "level": 2,
     "metadata": {},
     "source": [
      "Biomechanics & Movement Science"
     ]
    },
    {
     "cell_type": "markdown",
     "metadata": {},
     "source": [
      "> Movement  science  will  be  one  of the  most important  and most recognized  science  fields  in the twenty-first  century... The  future discipline  of  movement  science  has a  unique  opportunity  to  become  an important  contributor  to  the  well-being  of  mankind.   \n",
      "Nigg  BM  (1993) [Sport  science  in  the twenty-first  century](http://www.ncbi.nlm.nih.gov/pubmed/8230394). Journal of Sports Sciences, 77, 343-347.\n",
      "\n"
     ]
    },
    {
     "cell_type": "heading",
     "level": 2,
     "metadata": {},
     "source": [
      "History of biomechanics"
     ]
    },
    {
     "cell_type": "code",
     "collapsed": false,
     "input": [
      "from IPython.display import IFrame\n",
      "IFrame('http://courses.washington.edu/bioen520/notes/History_of_Biomechanics_(Martin_1999).pdf',\n",
      "       width='100%', height=400)"
     ],
     "language": "python",
     "metadata": {},
     "outputs": [
      {
       "html": [
        "\n",
        "        <iframe\n",
        "            width=\"100%\"\n",
        "            height=400\"\n",
        "            src=\"http://courses.washington.edu/bioen520/notes/History_of_Biomechanics_(Martin_1999).pdf\"\n",
        "            frameborder=\"0\"\n",
        "            allowfullscreen\n",
        "        ></iframe>\n",
        "        "
       ],
       "metadata": {},
       "output_type": "pyout",
       "prompt_number": 4,
       "text": [
        "<IPython.lib.display.IFrame at 0x45f5f98>"
       ]
      }
     ],
     "prompt_number": 4
    },
    {
     "cell_type": "heading",
     "level": 2,
     "metadata": {},
     "source": [
      "The International Society of Biomechanics"
     ]
    },
    {
     "cell_type": "markdown",
     "metadata": {},
     "source": [
      "The biomechanics community has an official scientific society, the [International Society of Biomechanics](http://isbweb.org/), with a journal, the [Journal of Biomechanics](http://www.jbiomech.com), and an e-mail list:"
     ]
    },
    {
     "cell_type": "code",
     "collapsed": false,
     "input": [
      "from IPython.display import IFrame\n",
      "IFrame('http://biomch-l.isbweb.org/forums/2-General-Discussion', width='100%', height=400)"
     ],
     "language": "python",
     "metadata": {},
     "outputs": [
      {
       "html": [
        "\n",
        "        <iframe\n",
        "            width=\"100%\"\n",
        "            height=400\"\n",
        "            src=\"http://biomch-l.isbweb.org/forums/2-General-Discussion\"\n",
        "            frameborder=\"0\"\n",
        "            allowfullscreen\n",
        "        ></iframe>\n",
        "        "
       ],
       "metadata": {},
       "output_type": "pyout",
       "prompt_number": 5,
       "text": [
        "<IPython.lib.display.IFrame at 0x45f5978>"
       ]
      }
     ],
     "prompt_number": 5
    },
    {
     "cell_type": "heading",
     "level": 2,
     "metadata": {},
     "source": [
      "Topics covered in the Journal of Biomechanics"
     ]
    },
    {
     "cell_type": "code",
     "collapsed": false,
     "input": [
      "from IPython.display import IFrame\n",
      "IFrame('http://www.jbiomech.com/aims', width='100%', height=400)"
     ],
     "language": "python",
     "metadata": {},
     "outputs": [
      {
       "html": [
        "\n",
        "        <iframe\n",
        "            width=\"100%\"\n",
        "            height=400\"\n",
        "            src=\"http://www.jbiomech.com/aims\"\n",
        "            frameborder=\"0\"\n",
        "            allowfullscreen\n",
        "        ></iframe>\n",
        "        "
       ],
       "metadata": {},
       "output_type": "pyout",
       "prompt_number": 6,
       "text": [
        "<IPython.lib.display.IFrame at 0x4614198>"
       ]
      }
     ],
     "prompt_number": 6
    },
    {
     "cell_type": "heading",
     "level": 2,
     "metadata": {},
     "source": [
      "Software and data resources on movement analysis"
     ]
    },
    {
     "cell_type": "markdown",
     "metadata": {},
     "source": [
      " - [International Society of Biomechanics software](http://isbweb.org/software/)\n",
      " - [International Society of Biomechanics data](http://isbweb.org/data/)\n",
      " - [Canadian Society for Biomechanics](http://www.health.uottawa.ca/biomech/csb/software.htm)\n",
      " - Here!, ok ... in the near future."
     ]
    },
    {
     "cell_type": "heading",
     "level": 2,
     "metadata": {},
     "source": [
      "[Biomechanics Classes on the Web](http://pages.uoregon.edu/karduna/biomechanics/)"
     ]
    },
    {
     "cell_type": "heading",
     "level": 2,
     "metadata": {},
     "source": [
      "Some examples in Biomechanics"
     ]
    },
    {
     "cell_type": "markdown",
     "metadata": {},
     "source": [
      "The possibilities of applying Biomechanics to the understanding of living systems are endless.   \n",
      "Let me show a few examples I've been involved with."
     ]
    },
    {
     "cell_type": "heading",
     "level": 3,
     "metadata": {},
     "source": [
      "Biomechanical analysis of long jump"
     ]
    },
    {
     "cell_type": "code",
     "collapsed": false,
     "input": [
      "from IPython.display import IFrame\n",
      "IFrame('http://demotu.org/x/salto/', width='100%', height=400)"
     ],
     "language": "python",
     "metadata": {},
     "outputs": [
      {
       "html": [
        "\n",
        "        <iframe\n",
        "            width=\"100%\"\n",
        "            height=400\"\n",
        "            src=\"http://demotu.org/x/salto/\"\n",
        "            frameborder=\"0\"\n",
        "            allowfullscreen\n",
        "        ></iframe>\n",
        "        "
       ],
       "metadata": {},
       "output_type": "pyout",
       "prompt_number": 7,
       "text": [
        "<IPython.lib.display.IFrame at 0x4614278>"
       ]
      }
     ],
     "prompt_number": 7
    },
    {
     "cell_type": "heading",
     "level": 3,
     "metadata": {},
     "source": [
      "Biomechanics of walking in shallow water"
     ]
    },
    {
     "cell_type": "code",
     "collapsed": false,
     "input": [
      "YouTubeVideo('ahmJeCJX3F8', width=640, height=360, rel=0)"
     ],
     "language": "python",
     "metadata": {},
     "outputs": [
      {
       "html": [
        "\n",
        "        <iframe\n",
        "            width=\"640\"\n",
        "            height=360\"\n",
        "            src=\"https://www.youtube.com/embed/ahmJeCJX3F8?rel=0\"\n",
        "            frameborder=\"0\"\n",
        "            allowfullscreen\n",
        "        ></iframe>\n",
        "        "
       ],
       "metadata": {},
       "output_type": "pyout",
       "prompt_number": 8,
       "text": [
        "<IPython.lib.display.YouTubeVideo at 0x4614128>"
       ]
      }
     ],
     "prompt_number": 8
    },
    {
     "cell_type": "code",
     "collapsed": false,
     "input": [
      "from IPython.display import IFrame\n",
      "IFrame('http://ebm.ufabc.edu.br/publications/md/JB11b.pdf', width='100%', height=400)"
     ],
     "language": "python",
     "metadata": {},
     "outputs": [
      {
       "html": [
        "\n",
        "        <iframe\n",
        "            width=\"100%\"\n",
        "            height=400\"\n",
        "            src=\"http://ebm.ufabc.edu.br/publications/md/JB11b.pdf\"\n",
        "            frameborder=\"0\"\n",
        "            allowfullscreen\n",
        "        ></iframe>\n",
        "        "
       ],
       "metadata": {},
       "output_type": "pyout",
       "prompt_number": 9,
       "text": [
        "<IPython.lib.display.IFrame at 0x4614400>"
       ]
      }
     ],
     "prompt_number": 9
    },
    {
     "cell_type": "heading",
     "level": 3,
     "metadata": {},
     "source": [
      "Biomechanics of the bicycle kick in football"
     ]
    },
    {
     "cell_type": "code",
     "collapsed": false,
     "input": [
      "from IPython.display import IFrame\n",
      "IFrame('http://demotu.org/x/pele/', width='100%', height=400)"
     ],
     "language": "python",
     "metadata": {},
     "outputs": [
      {
       "html": [
        "\n",
        "        <iframe\n",
        "            width=\"100%\"\n",
        "            height=400\"\n",
        "            src=\"http://demotu.org/x/pele/\"\n",
        "            frameborder=\"0\"\n",
        "            allowfullscreen\n",
        "        ></iframe>\n",
        "        "
       ],
       "metadata": {},
       "output_type": "pyout",
       "prompt_number": 10,
       "text": [
        "<IPython.lib.display.IFrame at 0x46144e0>"
       ]
      }
     ],
     "prompt_number": 10
    },
    {
     "cell_type": "code",
     "collapsed": false,
     "input": [
      "from IPython.display import IFrame\n",
      "IFrame('http://ebm.ufabc.edu.br/wp-content/uploads/2011/12/Estadao2002.jpg',\n",
      "       width='100%', height=400)"
     ],
     "language": "python",
     "metadata": {},
     "outputs": [
      {
       "html": [
        "\n",
        "        <iframe\n",
        "            width=\"100%\"\n",
        "            height=400\"\n",
        "            src=\"http://ebm.ufabc.edu.br/wp-content/uploads/2011/12/Estadao2002.jpg\"\n",
        "            frameborder=\"0\"\n",
        "            allowfullscreen\n",
        "        ></iframe>\n",
        "        "
       ],
       "metadata": {},
       "output_type": "pyout",
       "prompt_number": 11,
       "text": [
        "<IPython.lib.display.IFrame at 0x46145c0>"
       ]
      }
     ],
     "prompt_number": 11
    },
    {
     "cell_type": "heading",
     "level": 3,
     "metadata": {},
     "source": [
      "Movement analysis of expert and non-expert samba dancers"
     ]
    },
    {
     "cell_type": "code",
     "collapsed": false,
     "input": [
      "YouTubeVideo('v7MFKQ89NIE', width=640, height=360, rel=0)"
     ],
     "language": "python",
     "metadata": {},
     "outputs": [
      {
       "html": [
        "\n",
        "        <iframe\n",
        "            width=\"640\"\n",
        "            height=360\"\n",
        "            src=\"https://www.youtube.com/embed/v7MFKQ89NIE?rel=0\"\n",
        "            frameborder=\"0\"\n",
        "            allowfullscreen\n",
        "        ></iframe>\n",
        "        "
       ],
       "metadata": {},
       "output_type": "pyout",
       "prompt_number": 12,
       "text": [
        "<IPython.lib.display.YouTubeVideo at 0x4614438>"
       ]
      }
     ],
     "prompt_number": 12
    },
    {
     "cell_type": "code",
     "collapsed": false,
     "input": [
      "from IPython.display import IFrame\n",
      "IFrame('http://ebm.ufabc.edu.br/wp-content/uploads/2011/12/OGlobo060311.pdf',\n",
      "       width='100%', height=400)"
     ],
     "language": "python",
     "metadata": {},
     "outputs": [
      {
       "html": [
        "\n",
        "        <iframe\n",
        "            width=\"100%\"\n",
        "            height=400\"\n",
        "            src=\"http://ebm.ufabc.edu.br/wp-content/uploads/2011/12/OGlobo060311.pdf\"\n",
        "            frameborder=\"0\"\n",
        "            allowfullscreen\n",
        "        ></iframe>\n",
        "        "
       ],
       "metadata": {},
       "output_type": "pyout",
       "prompt_number": 13,
       "text": [
        "<IPython.lib.display.IFrame at 0x4614748>"
       ]
      }
     ],
     "prompt_number": 13
    },
    {
     "cell_type": "heading",
     "level": 2,
     "metadata": {},
     "source": [
      "Problems"
     ]
    },
    {
     "cell_type": "markdown",
     "metadata": {},
     "source": [
      "1. Go to [Biomechanics Classes on the Web](http://pages.uoregon.edu/karduna/biomechanics/) to visit websites of biomechanics classes around the world and find out how biomechanics is studied in different fields.\n",
      "2. Find three more examples of applications of biomechanics in different areas.\n",
      "3. Watch the video [The Weird World of Eadweard Muybridge](http://youtu.be/5Awo-P3t4Ho) to learn about [Eadweard Muybridge](http://en.wikipedia.org/wiki/Eadweard_Muybridge), an important person to the development of instrumentation for biomechanics.\n",
      "4. Think about practical problems in nature that can be studied in biomechanics with simple approaches (simple modeling and low-tech methods) or very complicated approaches (complex modeling and high-tech methods).\n",
      "5. What the study in the biomechanics of athletes, children, elderlies, persons with disabilities, other animals, and computer animation for the cinema industry may have in common and different?\n",
      "6. Is there anything in biomechanics that interests you? How could you pursue this interest?"
     ]
    },
    {
     "cell_type": "heading",
     "level": 2,
     "metadata": {},
     "source": [
      "Notes"
     ]
    },
    {
     "cell_type": "markdown",
     "metadata": {},
     "source": [
      "- This page was created with [IPython Notebook](http://ipython.org/), an interactive environment for scientific programming in [Python](http://python.org/)."
     ]
    },
    {
     "cell_type": "heading",
     "level": 2,
     "metadata": {},
     "source": [
      "References"
     ]
    },
    {
     "cell_type": "markdown",
     "metadata": {},
     "source": [
      "- Hatze, Herbert (1974) [The meaning of the term biomechanics](http://www.ncbi.nlm.nih.gov/pubmed/4837555). Journal of Biomechanics, 7, 189\u2013190.\n",
      "- [Biomechanics - Wikipedia, the free encyclopedia](http://en.wikipedia.org/wiki/Biomechanics)\n",
      "- [Mechanics - Wikipedia, the free encyclopedia](http://en.wikipedia.org/wiki/Mechanics)\n",
      "- [International Society of Biomechanics](http://isbweb.org/)\n",
      "- [Biomech-l, the biomechanics' e-mail list](http://biomch-l.isbweb.org/)\n",
      "- [Journal of Biomechanics' aims](http://www.jbiomech.com/aims)\n",
      "- [Engineering Your Future - Biomechanical Engineer](http://www.youtube.com/watch?feature=player_embedded&v=aWUavsk2djI)\n",
      "- <a href=\"http://courses.washington.edu/bioen520/notes/History_of_Biomechanics_(Martin_1999).pdf\">A Genealogy of Biomechanics</a>\n",
      "- [An\u00e1lise Biomec\u00e2nica do Salto em Dist\u00e2ncia](http://demotu.org/x/salto/)\n",
      "- [Biomechanics of walking in shallow water](http://ebm.ufabc.edu.br/publications/md/JB11b.pdf)\n",
      "- [Biomechanics of the Bicycle Kick](http://demotu.org/x/pele/), [PDF](http://ebm.ufabc.edu.br/wp-content/uploads/2011/12/Estadao2002.jpg)\n",
      "- [An\u00e1lise do movimento de pessoas sambando](http://youtu.be/v7MFKQ89NIE), [PDF](http://ebm.ufabc.edu.br/wp-content/uploads/2011/12/OGlobo060311.pdf)\n",
      "- Fernando P\u00e9rez, Brian E. Granger, [IPython: A System for Interactive Scientific Computing](http://fperez.org/papers/ipython07_pe-gr_cise.pdf). Computing in Science and Engineering, vol. 9, no. 3, pp. 21-29, May/June 2007, doi:10.1109/MCSE.2007.53. URL: [http://ipython.org](http://ipython.org)."
     ]
    }
   ],
   "metadata": {}
  }
 ]
}