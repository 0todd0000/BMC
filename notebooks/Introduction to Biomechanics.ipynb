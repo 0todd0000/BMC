{
 "cells": [
  {
   "cell_type": "markdown",
   "metadata": {},
   "source": [
    "# Introduction to Biomechanics\n",
    "\n",
    "Marcos Duarte"
   ]
  },
  {
   "cell_type": "markdown",
   "metadata": {},
   "source": [
    "> **Biomechanics** is the study of the structure and function of biological systems by means of the methods of mechanics.   \n",
    "(Herbert Hatze, 1974) \n",
    "\n",
    "Biomechanics is fundamental for all fields of science and technology related to biology and health and it's also relevant for the development of synthetic systems inspired on biological systems, e.g., in robotics.\n",
    "\n",
    "The Wikipedia page on biomechanics is a good place to start:"
   ]
  },
  {
   "cell_type": "code",
   "execution_count": 1,
   "metadata": {
    "collapsed": false
   },
   "outputs": [
    {
     "data": {
      "text/html": [
       "\n",
       "        <iframe\n",
       "            width=\"100%\"\n",
       "            height=\"400\"\n",
       "            src=\"http://en.m.wikipedia.org/wiki/Biomechanics\"\n",
       "            frameborder=\"0\"\n",
       "            allowfullscreen\n",
       "        ></iframe>\n",
       "        "
      ],
      "text/plain": [
       "<IPython.lib.display.IFrame at 0x4c07c18>"
      ]
     },
     "execution_count": 1,
     "metadata": {},
     "output_type": "execute_result"
    }
   ],
   "source": [
    "from IPython.display import IFrame\n",
    "IFrame('http://en.m.wikipedia.org/wiki/Biomechanics', width='100%', height=400)"
   ]
  },
  {
   "cell_type": "markdown",
   "metadata": {},
   "source": [
    "See these introductory videos about biomechanics:"
   ]
  },
  {
   "cell_type": "code",
   "execution_count": 2,
   "metadata": {
    "collapsed": false
   },
   "outputs": [
    {
     "data": {
      "text/html": [
       "\n",
       "        <iframe\n",
       "            width=\"640\"\n",
       "            height=360\"\n",
       "            src=\"https://www.youtube.com/embed/r3-UuoQ6fbY?rel=0\"\n",
       "            frameborder=\"0\"\n",
       "            allowfullscreen\n",
       "        ></iframe>\n",
       "        "
      ],
      "text/plain": [
       "<IPython.lib.display.YouTubeVideo at 0x105e2fd68>"
      ]
     },
     "execution_count": 2,
     "metadata": {},
     "output_type": "execute_result"
    }
   ],
   "source": [
    "from IPython.display import YouTubeVideo\n",
    "YouTubeVideo('r3-UuoQ6fbY', width=640, height=360, rel=0)"
   ]
  },
  {
   "cell_type": "code",
   "execution_count": 3,
   "metadata": {
    "collapsed": false
   },
   "outputs": [
    {
     "data": {
      "text/html": [
       "\n",
       "        <iframe\n",
       "            width=\"640\"\n",
       "            height=360\"\n",
       "            src=\"https://www.youtube.com/embed/aWUavsk2djI?rel=0\"\n",
       "            frameborder=\"0\"\n",
       "            allowfullscreen\n",
       "        ></iframe>\n",
       "        "
      ],
      "text/plain": [
       "<IPython.lib.display.YouTubeVideo at 0x105e2feb8>"
      ]
     },
     "execution_count": 3,
     "metadata": {},
     "output_type": "execute_result"
    }
   ],
   "source": [
    "from IPython.display import YouTubeVideo\n",
    "YouTubeVideo('aWUavsk2djI', width=640, height=360, rel=0)"
   ]
  },
  {
   "cell_type": "markdown",
   "metadata": {},
   "source": [
    "## Branches of mechanics (ergo, add bio- for biomechanics)\n",
    "\n",
    "<div class='center-align'><figure><img src=\"http://upload.wikimedia.org/wikipedia/commons/thumb/e/ea/Mechanics_Overview_Table.jpg/800px-Mechanics_Overview_Table.jpg\" alt=\"Branches of mechanics\"/><figcaption><i>Branches of mechanics  ([from Wikipedia](http://en.wikipedia.org/wiki/Mechanics)).</i></figcaption></div>"
   ]
  },
  {
   "cell_type": "markdown",
   "metadata": {},
   "source": [
    "In fact, only a subset of Mechanics matters to Biomechanics,the Classical Mechanics subset, the domain of mechanics for bodies with moderate speeds $(\\ll 3.10^8 m/s!)$ and not very small $(\\gg 3.10^{-9} m!)$ as shown in the following diagram:\n",
    "<div class='center-align'><figure><img src=\"http://upload.wikimedia.org/wikipedia/commons/thumb/f/f0/Physicsdomains.svg/500px-Physicsdomains.svg.png\" alt=\"Domains of mechanics\"/><figcaption><i>Domain of validity for Classical Mechanics  ([from Wikipedia](http://en.wikipedia.org/wiki/Classical_mechanics)).</i></figcaption></div>"
   ]
  },
  {
   "cell_type": "markdown",
   "metadata": {},
   "source": [
    "One may argue that since biomechanics is the application of Mechanics to biological systems, biomechanics is in fact a branch of Engineering Mechanics, rather than from Physics (but yes, the foundations of Engineering Mechanics come from Physics, anyway).\n",
    "\n",
    "The branches of Engineering Mechanics are:\n",
    "\n",
    "<div class='center-align'><figure><img src=\"http://upload.wikimedia.org/wikipedia/commons/thumb/1/1b/Engineering_Mechanics_Overview_2.png/800px-Engineering_Mechanics_Overview_2.png\" alt=\"Branches of Engineering Mechanics \"/><figcaption><i>Branches of Engineering Mechanics ([from Wikibooks](http://en.wikibooks.org/wiki/Engineering_Mechanics)).</i></figcaption></div><br> \n",
    "\n",
    "And just for completeness, here are the main branches of Physics studied in Engineering:\n",
    "\n",
    "<div class='center-align'><figure><img src=\"http://upload.wikimedia.org/wikipedia/commons/thumb/a/a6/Tree_of_Mechanics.svg/640px-Tree_of_Mechanics.svg.png\" alt=\"Main branches of Physics studied in Engineering\"/><figcaption><i>Main branches of Physics studied in Engineering ([from Wikibooks](http://en.wikibooks.org/wiki/Engineering_Mechanics)).</i></figcaption></div>"
   ]
  },
  {
   "cell_type": "markdown",
   "metadata": {},
   "source": [
    "## Biomechanics & Movement Science\n",
    "\n",
    "> Movement  science  will  be  one  of the  most important  and most recognized  science  fields  in the twenty-first  century... The  future discipline  of  movement  science  has a  unique  opportunity  to  become  an important  contributor  to  the  well-being  of  mankind.   \n",
    "Nigg  BM  (1993) [Sport  science  in  the twenty-first  century](http://www.ncbi.nlm.nih.gov/pubmed/8230394). Journal of Sports Sciences, 77, 343-347."
   ]
  },
  {
   "cell_type": "markdown",
   "metadata": {},
   "source": [
    "## History of biomechanics"
   ]
  },
  {
   "cell_type": "code",
   "execution_count": 4,
   "metadata": {
    "collapsed": false
   },
   "outputs": [
    {
     "data": {
      "text/html": [
       "\n",
       "        <iframe\n",
       "            width=\"100%\"\n",
       "            height=400\"\n",
       "            src=\"http://courses.washington.edu/bioen520/notes/History_of_Biomechanics_(Martin_1999).pdf\"\n",
       "            frameborder=\"0\"\n",
       "            allowfullscreen\n",
       "        ></iframe>\n",
       "        "
      ],
      "text/plain": [
       "<IPython.lib.display.IFrame at 0x105e2f2b0>"
      ]
     },
     "execution_count": 4,
     "metadata": {},
     "output_type": "execute_result"
    }
   ],
   "source": [
    "from IPython.display import IFrame\n",
    "IFrame('http://courses.washington.edu/bioen520/notes/History_of_Biomechanics_(Martin_1999).pdf',\n",
    "       width='100%', height=400)"
   ]
  },
  {
   "cell_type": "markdown",
   "metadata": {},
   "source": [
    "## The International Society of Biomechanics\n",
    "\n",
    "The biomechanics community has an official scientific society, the [International Society of Biomechanics](http://isbweb.org/), with a journal, the [Journal of Biomechanics](http://www.jbiomech.com), and an e-mail list:"
   ]
  },
  {
   "cell_type": "code",
   "execution_count": 5,
   "metadata": {
    "collapsed": false
   },
   "outputs": [
    {
     "data": {
      "text/html": [
       "\n",
       "        <iframe\n",
       "            width=\"100%\"\n",
       "            height=400\"\n",
       "            src=\"http://biomch-l.isbweb.org/forums/2-General-Discussion\"\n",
       "            frameborder=\"0\"\n",
       "            allowfullscreen\n",
       "        ></iframe>\n",
       "        "
      ],
      "text/plain": [
       "<IPython.lib.display.IFrame at 0x105e2ff28>"
      ]
     },
     "execution_count": 5,
     "metadata": {},
     "output_type": "execute_result"
    }
   ],
   "source": [
    "from IPython.display import IFrame\n",
    "IFrame('http://biomch-l.isbweb.org/forums/2-General-Discussion', width='100%', height=400)"
   ]
  },
  {
   "cell_type": "markdown",
   "metadata": {},
   "source": [
    "## Topics covered in the Journal of Biomechanics"
   ]
  },
  {
   "cell_type": "code",
   "execution_count": 6,
   "metadata": {
    "collapsed": false
   },
   "outputs": [
    {
     "data": {
      "text/html": [
       "\n",
       "        <iframe\n",
       "            width=\"100%\"\n",
       "            height=400\"\n",
       "            src=\"http://www.jbiomech.com/aims\"\n",
       "            frameborder=\"0\"\n",
       "            allowfullscreen\n",
       "        ></iframe>\n",
       "        "
      ],
      "text/plain": [
       "<IPython.lib.display.IFrame at 0x105e2fd30>"
      ]
     },
     "execution_count": 6,
     "metadata": {},
     "output_type": "execute_result"
    }
   ],
   "source": [
    "from IPython.display import IFrame\n",
    "IFrame('http://www.jbiomech.com/aims', width='100%', height=400)"
   ]
  },
  {
   "cell_type": "markdown",
   "metadata": {},
   "source": [
    "## Software and data resources on movement analysis\n",
    "\n",
    " - [International Society of Biomechanics software](http://isbweb.org/software/)\n",
    " - [International Society of Biomechanics data](http://isbweb.org/data/)\n",
    " - [Canadian Society for Biomechanics](http://www.health.uottawa.ca/biomech/csb/software.htm)\n",
    " - Here!, ok ... in the near future..."
   ]
  },
  {
   "cell_type": "markdown",
   "metadata": {},
   "source": [
    "## [Biomechanics Classes on the Web](http://pages.uoregon.edu/karduna/biomechanics/)"
   ]
  },
  {
   "cell_type": "markdown",
   "metadata": {},
   "source": [
    "## Some examples in Biomechanics\n",
    "\n",
    "The possibilities of applying Biomechanics to the understanding of living systems are endless.   \n",
    "Let me show a few examples I've been involved with."
   ]
  },
  {
   "cell_type": "markdown",
   "metadata": {},
   "source": [
    "### Biomechanics of walking in shallow water"
   ]
  },
  {
   "cell_type": "code",
   "execution_count": 7,
   "metadata": {
    "collapsed": false
   },
   "outputs": [
    {
     "data": {
      "text/html": [
       "\n",
       "        <iframe\n",
       "            width=\"640\"\n",
       "            height=360\"\n",
       "            src=\"https://www.youtube.com/embed/ahmJeCJX3F8?rel=0\"\n",
       "            frameborder=\"0\"\n",
       "            allowfullscreen\n",
       "        ></iframe>\n",
       "        "
      ],
      "text/plain": [
       "<IPython.lib.display.YouTubeVideo at 0x105e4b048>"
      ]
     },
     "execution_count": 7,
     "metadata": {},
     "output_type": "execute_result"
    }
   ],
   "source": [
    "YouTubeVideo('ahmJeCJX3F8', width=640, height=360, rel=0)"
   ]
  },
  {
   "cell_type": "code",
   "execution_count": 8,
   "metadata": {
    "collapsed": false
   },
   "outputs": [
    {
     "data": {
      "text/html": [
       "\n",
       "        <iframe\n",
       "            width=\"100%\"\n",
       "            height=400\"\n",
       "            src=\"http://ebm.ufabc.edu.br/publications/md/JB11b.pdf\"\n",
       "            frameborder=\"0\"\n",
       "            allowfullscreen\n",
       "        ></iframe>\n",
       "        "
      ],
      "text/plain": [
       "<IPython.lib.display.IFrame at 0x105e4b208>"
      ]
     },
     "execution_count": 8,
     "metadata": {},
     "output_type": "execute_result"
    }
   ],
   "source": [
    "from IPython.display import IFrame\n",
    "IFrame('http://ebm.ufabc.edu.br/publications/md/JB11b.pdf', width='100%', height=400)"
   ]
  },
  {
   "cell_type": "markdown",
   "metadata": {},
   "source": [
    "### Biomechanics of the bicycle kick in football"
   ]
  },
  {
   "cell_type": "code",
   "execution_count": 9,
   "metadata": {
    "collapsed": false
   },
   "outputs": [
    {
     "data": {
      "text/html": [
       "\n",
       "        <iframe\n",
       "            width=\"100%\"\n",
       "            height=400\"\n",
       "            src=\"http://demotu.org/x/pele/\"\n",
       "            frameborder=\"0\"\n",
       "            allowfullscreen\n",
       "        ></iframe>\n",
       "        "
      ],
      "text/plain": [
       "<IPython.lib.display.IFrame at 0x105e4b1d0>"
      ]
     },
     "execution_count": 9,
     "metadata": {},
     "output_type": "execute_result"
    }
   ],
   "source": [
    "from IPython.display import IFrame\n",
    "IFrame('http://demotu.org/x/pele/', width='100%', height=400)"
   ]
  },
  {
   "cell_type": "code",
   "execution_count": 10,
   "metadata": {
    "collapsed": false
   },
   "outputs": [
    {
     "data": {
      "text/html": [
       "\n",
       "        <iframe\n",
       "            width=\"100%\"\n",
       "            height=400\"\n",
       "            src=\"http://demotu.org/pubs/CH14.pdf\"\n",
       "            frameborder=\"0\"\n",
       "            allowfullscreen\n",
       "        ></iframe>\n",
       "        "
      ],
      "text/plain": [
       "<IPython.lib.display.IFrame at 0x105e4b2e8>"
      ]
     },
     "execution_count": 10,
     "metadata": {},
     "output_type": "execute_result"
    }
   ],
   "source": [
    "from IPython.display import IFrame\n",
    "IFrame('http://demotu.org/pubs/CH14.pdf', width='100%', height=400)"
   ]
  },
  {
   "cell_type": "markdown",
   "metadata": {},
   "source": [
    "## Problems\n",
    "\n",
    "1. Go to [Biomechanics Classes on the Web](http://pages.uoregon.edu/karduna/biomechanics/) to visit websites of biomechanics classes around the world and find out how biomechanics is studied in different fields.\n",
    "2. Find three more examples of applications of biomechanics in different areas.\n",
    "3. Watch the video [The Weird World of Eadweard Muybridge](http://youtu.be/5Awo-P3t4Ho) to learn about [Eadweard Muybridge](http://en.wikipedia.org/wiki/Eadweard_Muybridge), an important person to the development of instrumentation for biomechanics.\n",
    "4. Think about practical problems in nature that can be studied in biomechanics with simple approaches (simple modeling and low-tech methods) or very complicated approaches (complex modeling and high-tech methods).\n",
    "5. What the study in the biomechanics of athletes, children, elderlies, persons with disabilities, other animals, and computer animation for the cinema industry may have in common and different?\n",
    "6. Is there anything in biomechanics that interests you? How could you pursue this interest?"
   ]
  },
  {
   "cell_type": "markdown",
   "metadata": {},
   "source": [
    "## References\n",
    "\n",
    "- Hatze, Herbert (1974) [The meaning of the term biomechanics](http://www.ncbi.nlm.nih.gov/pubmed/4837555). Journal of Biomechanics, 7, 189–190.\n",
    "- [Biomechanics - Wikipedia, the free encyclopedia](http://en.wikipedia.org/wiki/Biomechanics)\n",
    "- [Mechanics - Wikipedia, the free encyclopedia](http://en.wikipedia.org/wiki/Mechanics)\n",
    "- [International Society of Biomechanics](http://isbweb.org/)\n",
    "- [Biomech-l, the biomechanics' e-mail list](http://biomch-l.isbweb.org/)\n",
    "- [Journal of Biomechanics' aims](http://www.jbiomech.com/aims)\n",
    "- [Engineering Your Future - Biomechanical Engineer](http://www.youtube.com/watch?feature=player_embedded&v=aWUavsk2djI)\n",
    "- <a href=\"http://courses.washington.edu/bioen520/notes/History_of_Biomechanics_(Martin_1999).pdf\">A Genealogy of Biomechanics</a>\n",
    "- Orselli MIV, Duarte M (2011) Joint forces and torques when walking in shallow water. Journal of Biomechanics, 44, 1170-1175. [Supplementary material](http://demotu.org/pubs/JB11b.doc). [PubMed](http://www.ncbi.nlm.nih.gov/pubmed/21334630), [PDF](http://demotu.org/pubs/JB11b.pdf).\n",
    "- [Biomechanics of the Bicycle Kick](http://demotu.org/x/pele/)\n",
    "- Duarte M (2014) A física da bicicleta no futebol. Ciência Hoje, 53, 313, 16-21. [Online](http://cienciahoje.uol.com.br/revista-ch/2014/313/a-fisica-da-bicicleta-no-futebol/view), [PDF](http://demotu.org/pubs/CH14.pdf)."
   ]
  }
 ],
 "metadata": {
  "kernelspec": {
   "display_name": "Python 3",
   "language": "python",
   "name": "python3"
  },
  "language_info": {
   "codemirror_mode": {
    "name": "ipython",
    "version": 3
   },
   "file_extension": ".py",
   "mimetype": "text/x-python",
   "name": "python",
   "nbconvert_exporter": "python",
   "pygments_lexer": "ipython3",
   "version": "3.4.3"
  }
 },
 "nbformat": 4,
 "nbformat_minor": 0
}
