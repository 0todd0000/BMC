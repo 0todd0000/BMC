{
 "cells": [
  {
   "cell_type": "markdown",
   "metadata": {},
   "source": [
    "# Principle of least action\n",
    "\n",
    "\n",
    "> Marcos Duarte  \n",
    "> Laboratory of Biomechanics and Motor Control ([http://demotu.org/](http://demotu.org/))  \n",
    "> Federal University of ABC, Brazil"
   ]
  },
  {
   "cell_type": "markdown",
   "metadata": {},
   "source": [
    "Consider the [Lagrange or Lagrangian function](https://en.wikipedia.org/wiki/Lagrangian_mechanics), defined as the difference between the kinetic and potential energy in the system:\n",
    "\n",
    "\\begin{equation} \n",
    "\\mathcal{L} = T - V \n",
    "\\label{eq_lagrange}\n",
    "\\end{equation}\n",
    "\n",
    "The [Principle of least action](https://en.wikipedia.org/wiki/Principle_of_least_action) applied to mechanics states that the actual path which a system follows between two points in the time interval $t_1$ and $t_2$ is such that the integral\n",
    "\n",
    "\\begin{equation} \n",
    "\\mathcal{S}\\; =\\; \\int _{t_1}^{t_2} \\mathcal{L} \\; dt\n",
    "\\label{eq_action}\n",
    "\\end{equation}\n",
    "\n",
    "is stationary, meaning that $\\delta \\mathcal{S}=0$, and it can be shown in fact that the value of this integral is a minimum for the actual path of the system.\n",
    "\n",
    "The integral above is known as the action integral and $\\mathcal{S}$ is known as the action. The fact this integral is stationary for the actual path of the system is called [Hamilton's principle](https://en.wikipedia.org/wiki/Hamilton%27s_principle)."
   ]
  },
  {
   "cell_type": "markdown",
   "metadata": {},
   "source": [
    "## References\n",
    "\n",
    "- Taylor JR (2005) [Classical Mechanics](https://books.google.com.br/books?id=P1kCtNr-pJsC). University Science Books."
   ]
  }
 ],
 "metadata": {
  "anaconda-cloud": {},
  "hide_input": false,
  "kernelspec": {
   "display_name": "Python 3",
   "language": "python",
   "name": "python3"
  },
  "language_info": {
   "codemirror_mode": {
    "name": "ipython",
    "version": 3
   },
   "file_extension": ".py",
   "mimetype": "text/x-python",
   "name": "python",
   "nbconvert_exporter": "python",
   "pygments_lexer": "ipython3",
   "version": "3.6.4"
  },
  "varInspector": {
   "cols": {
    "lenName": 16,
    "lenType": 16,
    "lenVar": 40
   },
   "kernels_config": {
    "python": {
     "delete_cmd_postfix": "",
     "delete_cmd_prefix": "del ",
     "library": "var_list.py",
     "varRefreshCmd": "print(var_dic_list())"
    },
    "r": {
     "delete_cmd_postfix": ") ",
     "delete_cmd_prefix": "rm(",
     "library": "var_list.r",
     "varRefreshCmd": "cat(var_dic_list()) "
    }
   },
   "types_to_exclude": [
    "module",
    "function",
    "builtin_function_or_method",
    "instance",
    "_Feature"
   ],
   "window_display": false
  }
 },
 "nbformat": 4,
 "nbformat_minor": 1
}
