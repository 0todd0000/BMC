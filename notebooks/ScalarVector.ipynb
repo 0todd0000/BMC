{
 "cells": [
  {
   "cell_type": "markdown",
   "metadata": {},
   "source": [
    "# Scalar and vector\n",
    "\n",
    "> Marcos Duarte  \n",
    "> Laboratory of Biomechanics and Motor Control ([http://demotu.org/](http://demotu.org/))  \n",
    "> Federal University of ABC, Brazil"
   ]
  },
  {
   "cell_type": "markdown",
   "metadata": {},
   "source": [
    "Python handles very well all mathematical operations with numeric scalars and vectors and you can use [Sympy](http://sympy.org) for similar stuff but with abstract symbols. Let's briefly review scalars and vectors and show how to use Python for numerical calculation.  \n",
    "\n",
    "For a review about scalars and vectors, see chapter 2 of [Ruina and Rudra's book](http://ruina.tam.cornell.edu/Book/index.html)."
   ]
  },
  {
   "cell_type": "markdown",
   "metadata": {},
   "source": [
    "## Scalar\n",
    "\n",
    ">A **scalar** is a one-dimensional physical quantity, which can be described by a single real number.  \n",
    "For example, time, mass, and energy are examples of scalars.\n",
    "\n",
    "### Scalar operations in Python\n",
    "\n",
    "Simple arithmetic operations with scalars are indeed simple:"
   ]
  },
  {
   "cell_type": "code",
   "execution_count": 1,
   "metadata": {},
   "outputs": [
    {
     "name": "stdout",
     "output_type": "stream",
     "text": [
      "a = 2 , b = 3\n",
      "a + b = 5\n",
      "a - b = -1\n",
      "a * b = 6\n",
      "a / b = 0.6666666666666666\n",
      "a ** b = 8\n",
      "sqrt(b) = 1.7320508075688772\n"
     ]
    }
   ],
   "source": [
    "import math\n",
    "\n",
    "a = 2\n",
    "b = 3\n",
    "print('a =', a, ', b =', b)\n",
    "print('a + b =', a + b)\n",
    "print('a - b =', a - b)\n",
    "print('a * b =', a * b)\n",
    "print('a / b =', a / b)\n",
    "print('a ** b =', a ** b)\n",
    "print('sqrt(b) =', math.sqrt(b))"
   ]
  },
  {
   "cell_type": "markdown",
   "metadata": {},
   "source": [
    "If you have a set of numbers, or an array, it is probably better to use Numpy; it will be faster for large data sets, and combined with Scipy, has many more mathematical funcions."
   ]
  },
  {
   "cell_type": "code",
   "execution_count": 2,
   "metadata": {},
   "outputs": [
    {
     "name": "stdout",
     "output_type": "stream",
     "text": [
      "a = 2 , b = [3 4 5 6 7 8]\n",
      "a + b = [ 5  6  7  8  9 10]\n",
      "a - b = [-1 -2 -3 -4 -5 -6]\n",
      "a * b = [ 6  8 10 12 14 16]\n",
      "a / b = [ 0.66666667  0.5         0.4         0.33333333  0.28571429  0.25      ]\n",
      "a ** b = [  8  16  32  64 128 256]\n",
      "np.sqrt(b) = [ 1.73205081  2.          2.23606798  2.44948974  2.64575131  2.82842712]\n"
     ]
    }
   ],
   "source": [
    "import numpy as np\n",
    "\n",
    "a = 2\n",
    "b = [3, 4, 5, 6, 7, 8]\n",
    "b = np.array(b)\n",
    "print('a =', a, ', b =', b)\n",
    "print('a + b =', a + b)\n",
    "print('a - b =', a - b)\n",
    "print('a * b =', a * b)\n",
    "print('a / b =', a / b)\n",
    "print('a ** b =', a ** b)\n",
    "print('np.sqrt(b) =', np.sqrt(b))  # use numpy functions for numpy arrays"
   ]
  },
  {
   "cell_type": "markdown",
   "metadata": {},
   "source": [
    "Numpy performs the arithmetic operations of the single number in `a` with all the numbers of the array `b`. This is called broadcasting in computer science.   \n",
    "Even if you have two arrays (but they must have the same size), Numpy handles for you:"
   ]
  },
  {
   "cell_type": "code",
   "execution_count": 3,
   "metadata": {},
   "outputs": [
    {
     "name": "stdout",
     "output_type": "stream",
     "text": [
      "a = [1 2 3] , b = [4 5 6]\n",
      "a + b = [5 7 9]\n",
      "a - b = [-3 -3 -3]\n",
      "a * b = [ 4 10 18]\n",
      "a / b = [ 0.25  0.4   0.5 ]\n",
      "a ** b = [  1  32 729]\n"
     ]
    }
   ],
   "source": [
    "a = np.array([1, 2, 3])\n",
    "b = np.array([4, 5, 6])\n",
    "print('a =', a, ', b =', b)\n",
    "print('a + b =', a + b)\n",
    "print('a - b =', a - b)\n",
    "print('a * b =', a * b)\n",
    "print('a / b =', a / b)\n",
    "print('a ** b =', a ** b)"
   ]
  },
  {
   "cell_type": "markdown",
   "metadata": {},
   "source": [
    "## Vector\n",
    "\n",
    ">A **vector** is a quantity with magnitude (or length) and direction expressed numerically as an ordered list of values according to a coordinate reference system.  \n",
    "For example, position, force, and torque are physical quantities defined by vectors.\n",
    "\n",
    "For instance, consider the position of a point in space represented by a vector:  \n",
    "<br>\n",
    "<figure><img src=\"./../images/vector3D.png\" width=300/><figcaption><center><i>Figure. Position of a point represented by a vector in a Cartesian coordinate system.</i></center></figcaption></figure>  \n",
    "\n",
    "The position of the point (the vector) above can be represented as a tuple of values:\n",
    "\n",
    "$$ (x,\\: y,\\: z) \\; \\Rightarrow \\; (1, 3, 2) $$ \n",
    "\n",
    "or in matrix form:\n",
    "\n",
    "$$ \\begin{bmatrix} x \\\\y \\\\z \\end{bmatrix} \\;\\; \\Rightarrow  \\;\\; \\begin{bmatrix} 1 \\\\3 \\\\2 \\end{bmatrix}$$\n",
    "\n",
    "We can use the Numpy array to represent the components of vectors.   \n",
    "For instance, for the vector above is expressed in Python as:"
   ]
  },
  {
   "cell_type": "code",
   "execution_count": 4,
   "metadata": {},
   "outputs": [
    {
     "name": "stdout",
     "output_type": "stream",
     "text": [
      "a = [1 3 2]\n"
     ]
    }
   ],
   "source": [
    "a = np.array([1, 3, 2])\n",
    "print('a =', a)"
   ]
  },
  {
   "cell_type": "markdown",
   "metadata": {},
   "source": [
    "Exactly like the arrays in the last example for scalars, so all operations we performed will result in the same values, of course.   \n",
    "However, as we are now dealing with vectors, now some of the  operations don't make sense. For example, for vectors there are no multiplication, division, power, and square root in the way we calculated.\n",
    "\n",
    "A vector can also be represented as:\n",
    "\n",
    "$$ \\overrightarrow{\\mathbf{a}} = a_x\\hat{\\mathbf{i}} + a_y\\hat{\\mathbf{j}} + a_z\\hat{\\mathbf{k}} $$  \n",
    "<br>\n",
    "<figure><img src=\"./../images/vector3Dijk.png\" width=300/><figcaption><center><i>Figure. A vector representation in a Cartesian coordinate system. The versors $\\hat{\\mathbf{i}},\\, \\hat{\\mathbf{j}},\\, \\hat{\\mathbf{k}}\\,$ are usually represented in the color sequence <b>rgb</b> (red, green, blue) for easier visualization.</i></center></figcaption></figure>\n",
    "\n",
    "Where $\\hat{\\mathbf{i}},\\, \\hat{\\mathbf{j}},\\, \\hat{\\mathbf{k}}\\,$ are unit vectors, each representing a direction and $ a_x\\hat{\\mathbf{i}},\\: a_y\\hat{\\mathbf{j}},\\: a_z\\hat{\\mathbf{k}} $ are the vector components of the vector $\\overrightarrow{\\mathbf{a}}$.     \n",
    "A unit vector (or versor) is a vector whose length (or norm) is 1.   \n",
    "The unit vector of a non-zero vector $\\overrightarrow{\\mathbf{a}}$ is the unit vector codirectional with $\\overrightarrow{\\mathbf{a}}$:\n",
    "\n",
    "$$ \\mathbf{\\hat{u}} = \\frac{\\overrightarrow{\\mathbf{a}}}{||\\overrightarrow{\\mathbf{a}}||} = \\frac{a_x\\,\\hat{\\mathbf{i}} + a_y\\,\\hat{\\mathbf{j}} + a_z\\, \\hat{\\mathbf{k}}}{\\sqrt{a_x^2+a_y^2+a_z^2}} $$"
   ]
  },
  {
   "cell_type": "markdown",
   "metadata": {},
   "source": [
    "### Magnitude (length or norm) of a vector\n",
    "\n",
    "The magnitude (length) of a vector is often represented by the symbol $||\\;||$, also known as the norm (or Euclidean norm) of a vector and it is defined as:\n",
    "\n",
    "$$ ||\\overrightarrow{\\mathbf{a}}|| = \\sqrt{a_x^2+a_y^2+a_z^2} $$\n",
    "\n",
    "The function `numpy.linalg.norm` calculates the norm:"
   ]
  },
  {
   "cell_type": "code",
   "execution_count": 7,
   "metadata": {},
   "outputs": [
    {
     "name": "stdout",
     "output_type": "stream",
     "text": [
      "Help on function norm in module numpy.linalg.linalg:\n",
      "\n",
      "norm(x, ord=None, axis=None, keepdims=False)\n",
      "    Matrix or vector norm.\n",
      "    \n",
      "    This function is able to return one of eight different matrix norms,\n",
      "    or one of an infinite number of vector norms (described below), depending\n",
      "    on the value of the ``ord`` parameter.\n",
      "    \n",
      "    Parameters\n",
      "    ----------\n",
      "    x : array_like\n",
      "        Input array.  If `axis` is None, `x` must be 1-D or 2-D.\n",
      "    ord : {non-zero int, inf, -inf, 'fro', 'nuc'}, optional\n",
      "        Order of the norm (see table under ``Notes``). inf means numpy's\n",
      "        `inf` object.\n",
      "    axis : {int, 2-tuple of ints, None}, optional\n",
      "        If `axis` is an integer, it specifies the axis of `x` along which to\n",
      "        compute the vector norms.  If `axis` is a 2-tuple, it specifies the\n",
      "        axes that hold 2-D matrices, and the matrix norms of these matrices\n",
      "        are computed.  If `axis` is None then either a vector norm (when `x`\n",
      "        is 1-D) or a matrix norm (when `x` is 2-D) is returned.\n",
      "    keepdims : bool, optional\n",
      "        If this is set to True, the axes which are normed over are left in the\n",
      "        result as dimensions with size one.  With this option the result will\n",
      "        broadcast correctly against the original `x`.\n",
      "    \n",
      "        .. versionadded:: 1.10.0\n",
      "    \n",
      "    Returns\n",
      "    -------\n",
      "    n : float or ndarray\n",
      "        Norm of the matrix or vector(s).\n",
      "    \n",
      "    Notes\n",
      "    -----\n",
      "    For values of ``ord <= 0``, the result is, strictly speaking, not a\n",
      "    mathematical 'norm', but it may still be useful for various numerical\n",
      "    purposes.\n",
      "    \n",
      "    The following norms can be calculated:\n",
      "    \n",
      "    =====  ============================  ==========================\n",
      "    ord    norm for matrices             norm for vectors\n",
      "    =====  ============================  ==========================\n",
      "    None   Frobenius norm                2-norm\n",
      "    'fro'  Frobenius norm                --\n",
      "    'nuc'  nuclear norm                  --\n",
      "    inf    max(sum(abs(x), axis=1))      max(abs(x))\n",
      "    -inf   min(sum(abs(x), axis=1))      min(abs(x))\n",
      "    0      --                            sum(x != 0)\n",
      "    1      max(sum(abs(x), axis=0))      as below\n",
      "    -1     min(sum(abs(x), axis=0))      as below\n",
      "    2      2-norm (largest sing. value)  as below\n",
      "    -2     smallest singular value       as below\n",
      "    other  --                            sum(abs(x)**ord)**(1./ord)\n",
      "    =====  ============================  ==========================\n",
      "    \n",
      "    The Frobenius norm is given by [1]_:\n",
      "    \n",
      "        :math:`||A||_F = [\\sum_{i,j} abs(a_{i,j})^2]^{1/2}`\n",
      "    \n",
      "    The nuclear norm is the sum of the singular values.\n",
      "    \n",
      "    References\n",
      "    ----------\n",
      "    .. [1] G. H. Golub and C. F. Van Loan, *Matrix Computations*,\n",
      "           Baltimore, MD, Johns Hopkins University Press, 1985, pg. 15\n",
      "    \n",
      "    Examples\n",
      "    --------\n",
      "    >>> from numpy import linalg as LA\n",
      "    >>> a = np.arange(9) - 4\n",
      "    >>> a\n",
      "    array([-4, -3, -2, -1,  0,  1,  2,  3,  4])\n",
      "    >>> b = a.reshape((3, 3))\n",
      "    >>> b\n",
      "    array([[-4, -3, -2],\n",
      "           [-1,  0,  1],\n",
      "           [ 2,  3,  4]])\n",
      "    \n",
      "    >>> LA.norm(a)\n",
      "    7.745966692414834\n",
      "    >>> LA.norm(b)\n",
      "    7.745966692414834\n",
      "    >>> LA.norm(b, 'fro')\n",
      "    7.745966692414834\n",
      "    >>> LA.norm(a, np.inf)\n",
      "    4.0\n",
      "    >>> LA.norm(b, np.inf)\n",
      "    9.0\n",
      "    >>> LA.norm(a, -np.inf)\n",
      "    0.0\n",
      "    >>> LA.norm(b, -np.inf)\n",
      "    2.0\n",
      "    \n",
      "    >>> LA.norm(a, 1)\n",
      "    20.0\n",
      "    >>> LA.norm(b, 1)\n",
      "    7.0\n",
      "    >>> LA.norm(a, -1)\n",
      "    -4.6566128774142013e-010\n",
      "    >>> LA.norm(b, -1)\n",
      "    6.0\n",
      "    >>> LA.norm(a, 2)\n",
      "    7.745966692414834\n",
      "    >>> LA.norm(b, 2)\n",
      "    7.3484692283495345\n",
      "    \n",
      "    >>> LA.norm(a, -2)\n",
      "    nan\n",
      "    >>> LA.norm(b, -2)\n",
      "    1.8570331885190563e-016\n",
      "    >>> LA.norm(a, 3)\n",
      "    5.8480354764257312\n",
      "    >>> LA.norm(a, -3)\n",
      "    nan\n",
      "    \n",
      "    Using the `axis` argument to compute vector norms:\n",
      "    \n",
      "    >>> c = np.array([[ 1, 2, 3],\n",
      "    ...               [-1, 1, 4]])\n",
      "    >>> LA.norm(c, axis=0)\n",
      "    array([ 1.41421356,  2.23606798,  5.        ])\n",
      "    >>> LA.norm(c, axis=1)\n",
      "    array([ 3.74165739,  4.24264069])\n",
      "    >>> LA.norm(c, ord=1, axis=1)\n",
      "    array([ 6.,  6.])\n",
      "    \n",
      "    Using the `axis` argument to compute matrix norms:\n",
      "    \n",
      "    >>> m = np.arange(8).reshape(2,2,2)\n",
      "    >>> LA.norm(m, axis=(1,2))\n",
      "    array([  3.74165739,  11.22497216])\n",
      "    >>> LA.norm(m[0, :, :]), LA.norm(m[1, :, :])\n",
      "    (3.7416573867739413, 11.224972160321824)\n",
      "\n"
     ]
    }
   ],
   "source": [
    "help(np.linalg.norm)"
   ]
  },
  {
   "cell_type": "code",
   "execution_count": 8,
   "metadata": {},
   "outputs": [
    {
     "data": {
      "text/plain": [
       "3.7416573867739413"
      ]
     },
     "execution_count": 8,
     "metadata": {},
     "output_type": "execute_result"
    }
   ],
   "source": [
    "a = np.array([1, 2, 3])\n",
    "np.linalg.norm(a)"
   ]
  },
  {
   "cell_type": "markdown",
   "metadata": {},
   "source": [
    "Or we can use the definition and compute directly:"
   ]
  },
  {
   "cell_type": "code",
   "execution_count": 6,
   "metadata": {},
   "outputs": [
    {
     "data": {
      "text/plain": [
       "3.7416573867739413"
      ]
     },
     "execution_count": 6,
     "metadata": {},
     "output_type": "execute_result"
    }
   ],
   "source": [
    "np.sqrt(np.sum(a*a))"
   ]
  },
  {
   "cell_type": "markdown",
   "metadata": {},
   "source": [
    "Then, the versor for the vector $ \\overrightarrow{\\mathbf{a}} = (1, 2, 3) $ is:"
   ]
  },
  {
   "cell_type": "code",
   "execution_count": 7,
   "metadata": {},
   "outputs": [
    {
     "name": "stdout",
     "output_type": "stream",
     "text": [
      "u = [ 0.26726124  0.53452248  0.80178373]\n"
     ]
    }
   ],
   "source": [
    "a = np.array([1, 2, 3])\n",
    "u = a/np.linalg.norm(a)\n",
    "print('u =', u)"
   ]
  },
  {
   "cell_type": "markdown",
   "metadata": {},
   "source": [
    "And we can verify its magnitude is indeed 1:"
   ]
  },
  {
   "cell_type": "code",
   "execution_count": 8,
   "metadata": {},
   "outputs": [
    {
     "data": {
      "text/plain": [
       "1.0"
      ]
     },
     "execution_count": 8,
     "metadata": {},
     "output_type": "execute_result"
    }
   ],
   "source": [
    "np.linalg.norm(u)"
   ]
  },
  {
   "cell_type": "markdown",
   "metadata": {},
   "source": [
    "But the representation of a vector as a tuple of values is only valid for a vector with its origin coinciding with the origin $ (0, 0, 0) $ of the coordinate system we adopted.\n",
    "For instance, consider the following vector:  \n",
    "<br>\n",
    "<figure><img src=\"./../images/vector2.png\" width=260/><figcaption><center><i>Figure. A vector in space.</i></center></figcaption></figure>\n",
    "\n",
    "Such a vector cannot be represented by $ (b_x, b_y, b_z) $ because this would be for the vector from the origin to the point B. To represent exactly this vector we need the two vectors $ \\mathbf{a} $ and $ \\mathbf{b} $. This fact is important when we perform some calculations in Mechanics."
   ]
  },
  {
   "cell_type": "markdown",
   "metadata": {},
   "source": [
    "### Vecton addition and subtraction"
   ]
  },
  {
   "cell_type": "markdown",
   "metadata": {},
   "source": [
    "The addition of two vectors is another vector:\n",
    "\n",
    "$$ \\overrightarrow{\\mathbf{a}} + \\overrightarrow{\\mathbf{b}} = (a_x\\hat{\\mathbf{i}} + a_y\\hat{\\mathbf{j}} + a_z\\hat{\\mathbf{k}}) + (b_x\\hat{\\mathbf{i}} + b_y\\hat{\\mathbf{j}} + b_z\\hat{\\mathbf{k}}) = \n",
    "(a_x+b_x)\\hat{\\mathbf{i}} + (a_y+b_y)\\hat{\\mathbf{j}} + (a_z+b_z)\\hat{\\mathbf{k}} $$"
   ]
  },
  {
   "cell_type": "markdown",
   "metadata": {},
   "source": [
    "<figure><img src=\"http://upload.wikimedia.org/wikipedia/commons/2/28/Vector_addition.svg\" width=300 alt=\"Vector addition\"/><figcaption><center><i>Figure. Vector addition (image from Wikipedia).</i></center></figcaption></figure> "
   ]
  },
  {
   "cell_type": "markdown",
   "metadata": {},
   "source": [
    "The subtraction of two vectors is also another vector:\n",
    "\n",
    "$$ \\overrightarrow{\\mathbf{a}} - \\overrightarrow{\\mathbf{b}} = (a_x\\hat{\\mathbf{i}} + a_y\\hat{\\mathbf{j}} + a_z\\hat{\\mathbf{k}}) + (b_x\\hat{\\mathbf{i}} + b_y\\hat{\\mathbf{j}} + b_z\\hat{\\mathbf{k}}) = \n",
    "(a_x-b_x)\\hat{\\mathbf{i}} + (a_y-b_y)\\hat{\\mathbf{j}} + (a_z-b_z)\\hat{\\mathbf{k}} $$"
   ]
  },
  {
   "cell_type": "markdown",
   "metadata": {},
   "source": [
    "<figure><img src=\"http://upload.wikimedia.org/wikipedia/commons/2/24/Vector_subtraction.svg\" width=160 alt=\"Vector subtraction\"/><figcaption><center><i>Figure. Vector subtraction (image from Wikipedia).</i></center></figcaption></figure></div>  "
   ]
  },
  {
   "cell_type": "markdown",
   "metadata": {},
   "source": [
    "Consider two 2D arrays (rows and columns) representing the position of two objects moving in space. The columns represent the vector components and the rows the values of the position vector in different instants.   \n",
    "Once again, it's easy to perform addition and subtraction with these vectors:"
   ]
  },
  {
   "cell_type": "code",
   "execution_count": 9,
   "metadata": {},
   "outputs": [
    {
     "name": "stdout",
     "output_type": "stream",
     "text": [
      "a = [[1 2 3]\n",
      " [1 1 1]] \n",
      "b = [[4 5 6]\n",
      " [7 8 9]]\n",
      "a + b = [[ 5  7  9]\n",
      " [ 8  9 10]]\n",
      "a - b = [[-3 -3 -3]\n",
      " [-6 -7 -8]]\n"
     ]
    }
   ],
   "source": [
    "a = np.array([[1, 2, 3], [1, 1, 1]])\n",
    "b = np.array([[4, 5, 6], [7, 8, 9]])\n",
    "print('a =', a, '\\nb =', b)\n",
    "print('a + b =', a + b)\n",
    "print('a - b =', a - b)"
   ]
  },
  {
   "cell_type": "markdown",
   "metadata": {},
   "source": [
    "Numpy can handle a N-dimensional array with the size limited by the available memory in your computer.\n",
    "\n",
    "And we can perform operations on each vector, for example, calculate the norm of each one.   \n",
    "First let's check the shape of the variable `a` using the method `shape` or the function `numpy.shape`:"
   ]
  },
  {
   "cell_type": "code",
   "execution_count": 10,
   "metadata": {},
   "outputs": [
    {
     "name": "stdout",
     "output_type": "stream",
     "text": [
      "(2, 3)\n",
      "(2, 3)\n"
     ]
    }
   ],
   "source": [
    "print(a.shape)\n",
    "print(np.shape(a))"
   ]
  },
  {
   "cell_type": "markdown",
   "metadata": {},
   "source": [
    "This means the variable `a` has 2 rows and 3 columns.   \n",
    "We have to tell the function `numpy.norm` to calculate the norm for each vector, i.e., to operate through the columns of the variable `a` using the paraneter `axis`:"
   ]
  },
  {
   "cell_type": "code",
   "execution_count": 11,
   "metadata": {},
   "outputs": [
    {
     "data": {
      "text/plain": [
       "array([ 3.74165739,  1.73205081])"
      ]
     },
     "execution_count": 11,
     "metadata": {},
     "output_type": "execute_result"
    }
   ],
   "source": [
    "np.linalg.norm(a, axis=1)"
   ]
  },
  {
   "cell_type": "markdown",
   "metadata": {},
   "source": [
    "## Dot product\n",
    "\n",
    "Dot product (or scalar product or inner product) between two vectors is a mathematical operation algebraically defined as the sum of the products of the corresponding components (maginitudes in each direction) of the two vectors. The result of the dot product is a single number (a scalar).  \n",
    "The dot product between vectors $\\overrightarrow{\\mathbf{a}}$ and $\\overrightarrow{\\mathbf{b}}$ is:\n",
    "\n",
    "$$ \\overrightarrow{\\mathbf{a}} \\cdot \\overrightarrow{\\mathbf{b}} = (a_x\\,\\hat{\\mathbf{i}}+a_y\\,\\hat{\\mathbf{j}}+a_z\\,\\hat{\\mathbf{k}}) \\cdot (b_x\\,\\hat{\\mathbf{i}}+b_y\\,\\hat{\\mathbf{j}}+b_z\\,\\hat{\\mathbf{k}}) = a_x b_x + a_y b_y + a_z b_z $$\n",
    "\n",
    "Because by definition:\n",
    "\n",
    "$$ \\hat{\\mathbf{i}} \\cdot \\hat{\\mathbf{i}} = \\hat{\\mathbf{j}} \\cdot \\hat{\\mathbf{j}} = \\hat{\\mathbf{k}} \\cdot \\hat{\\mathbf{k}}= 1 \\quad \\text{and} \\quad \\hat{\\mathbf{i}} \\cdot \\hat{\\mathbf{j}} = \\hat{\\mathbf{i}} \\cdot \\hat{\\mathbf{k}} = \\hat{\\mathbf{j}} \\cdot \\hat{\\mathbf{k}} = 0 $$\n",
    "\n",
    "The geometric equivalent of the dot product is the product of the magnitudes of the two vectors and the cosine of the angle between them:\n",
    "\n",
    "$$ \\overrightarrow{\\mathbf{a}} \\cdot \\overrightarrow{\\mathbf{b}} = ||\\overrightarrow{\\mathbf{a}}||\\:||\\overrightarrow{\\mathbf{b}}||\\:cos(\\theta) $$\n",
    "\n",
    "Which is also equivalent to state that the dot product between two vectors $\\overrightarrow{\\mathbf{a}}$ and $\\overrightarrow{\\mathbf{b}}$ is the magnitude of $\\overrightarrow{\\mathbf{a}}$ times the magnitude of the component of $\\overrightarrow{\\mathbf{b}}$ parallel to $\\overrightarrow{\\mathbf{a}}$ (or the magnitude of $\\overrightarrow{\\mathbf{b}}$ times the magnitude of the component of $\\overrightarrow{\\mathbf{a}}$ parallel to $\\overrightarrow{\\mathbf{b}}$).\n",
    "\n",
    "The dot product between two vectors can be visualized in this interactive animation:"
   ]
  },
  {
   "cell_type": "code",
   "execution_count": 16,
   "metadata": {},
   "outputs": [
    {
     "data": {
      "text/html": [
       "\n",
       "        <iframe\n",
       "            width=\"100%\"\n",
       "            height=\"400\"\n",
       "            src=\"https://faraday.physics.utoronto.ca/PVB/Harrison/Flash/Vectors/DotProduct/DotProduct.html\"\n",
       "            frameborder=\"0\"\n",
       "            allowfullscreen\n",
       "        ></iframe>\n",
       "        "
      ],
      "text/plain": [
       "<IPython.lib.display.IFrame at 0x240732844a8>"
      ]
     },
     "execution_count": 16,
     "metadata": {},
     "output_type": "execute_result"
    }
   ],
   "source": [
    "from IPython.display import IFrame\n",
    "IFrame('https://faraday.physics.utoronto.ca/PVB/Harrison/Flash/Vectors/DotProduct/DotProduct.html',\n",
    "       width='100%', height=400)"
   ]
  },
  {
   "cell_type": "markdown",
   "metadata": {},
   "source": [
    "The Numpy function for the dot product is `numpy.dot`:"
   ]
  },
  {
   "cell_type": "code",
   "execution_count": 17,
   "metadata": {},
   "outputs": [
    {
     "name": "stdout",
     "output_type": "stream",
     "text": [
      "a = [1 2 3] \n",
      "b = [4 5 6]\n",
      "np.dot(a, b) = 32\n"
     ]
    }
   ],
   "source": [
    "a = np.array([1, 2, 3])\n",
    "b = np.array([4, 5, 6])\n",
    "print('a =', a, '\\nb =', b)\n",
    "print('np.dot(a, b) =', np.dot(a, b))"
   ]
  },
  {
   "cell_type": "markdown",
   "metadata": {},
   "source": [
    "Or we can use the definition and compute directly:"
   ]
  },
  {
   "cell_type": "code",
   "execution_count": 18,
   "metadata": {},
   "outputs": [
    {
     "data": {
      "text/plain": [
       "32"
      ]
     },
     "execution_count": 18,
     "metadata": {},
     "output_type": "execute_result"
    }
   ],
   "source": [
    "np.sum(a*b)"
   ]
  },
  {
   "cell_type": "markdown",
   "metadata": {},
   "source": [
    "For 2D arrays, the `numpy.dot` function performs matrix multiplication rather than the dot product; so let's use the `numpy.sum` function:"
   ]
  },
  {
   "cell_type": "code",
   "execution_count": 19,
   "metadata": {},
   "outputs": [
    {
     "data": {
      "text/plain": [
       "array([32, 24])"
      ]
     },
     "execution_count": 19,
     "metadata": {},
     "output_type": "execute_result"
    }
   ],
   "source": [
    "a = np.array([[1, 2, 3], [1, 1, 1]])\n",
    "b = np.array([[4, 5, 6], [7, 8, 9]])\n",
    "np.sum(a*b, axis=1)"
   ]
  },
  {
   "cell_type": "markdown",
   "metadata": {},
   "source": [
    "## Vector product\n",
    "\n",
    "Cross product or vector product between two vectors is a mathematical operation in three-dimensional space which results in a vector perpendicular to both of the vectors being multiplied and a length (norm) equal to the product of the perpendicular components of the vectors being multiplied (which is equal to the area of the parallelogram that the vectors span).   \n",
    "The cross product between vectors $\\overrightarrow{\\mathbf{a}}$ and $\\overrightarrow{\\mathbf{b}}$ is:\n",
    "\n",
    "$$ \\overrightarrow{\\mathbf{a}} \\times \\overrightarrow{\\mathbf{b}} = (a_x\\,\\hat{\\mathbf{i}} + a_y\\,\\hat{\\mathbf{j}} + a_z\\,\\hat{\\mathbf{k}}) \\times (b_x\\,\\hat{\\mathbf{i}}+b_y\\,\\hat{\\mathbf{j}}+b_z\\,\\hat{\\mathbf{k}}) = (a_yb_z-a_zb_y)\\hat{\\mathbf{i}} + (a_zb_x-a_xb_z)\\hat{\\mathbf{j}}+(a_xb_y-a_yb_x)\\hat{\\mathbf{k}} $$\n",
    "\n",
    "Because by definition:\n",
    "\n",
    "$$ \\begin{array}{l l}\n",
    "\\hat{\\mathbf{i}} \\times \\hat{\\mathbf{i}} = \\hat{\\mathbf{j}} \\times \\hat{\\mathbf{j}} = \\hat{\\mathbf{k}} \\times \\hat{\\mathbf{k}} = 0 \\\\\n",
    "\\hat{\\mathbf{i}} \\times \\hat{\\mathbf{j}} = \\hat{\\mathbf{k}}, \\quad \\hat{\\mathbf{k}} \\times \\hat{\\mathbf{k}} = \\hat{\\mathbf{i}}, \\quad \\hat{\\mathbf{k}} \\times \\hat{\\mathbf{i}} = \\hat{\\mathbf{j}} \\\\\n",
    "\\hat{\\mathbf{j}} \\times \\hat{\\mathbf{i}} = -\\hat{\\mathbf{k}}, \\quad \\hat{\\mathbf{k}} \\times \\hat{\\mathbf{j}}= -\\hat{\\mathbf{i}}, \\quad \\hat{\\mathbf{i}} \\times \\hat{\\mathbf{k}} = -\\hat{\\mathbf{j}}\n",
    "\\end{array} $$\n",
    "\n",
    "The direction of the vector resulting from the cross product between the vectors $\\overrightarrow{\\mathbf{a}}$ and $\\overrightarrow{\\mathbf{b}}$ is given by the right-hand rule.\n",
    "\n",
    "The geometric equivalent of the cross product is:\n",
    "\n",
    "The geometric equivalent of the cross product is the product of the magnitudes of the two vectors and the sine of the angle between them:\n",
    "\n",
    "$$ \\overrightarrow{\\mathbf{a}} \\times \\overrightarrow{\\mathbf{b}} = ||\\overrightarrow{\\mathbf{a}}||\\:||\\overrightarrow{\\mathbf{b}}||\\:sin(\\theta) $$\n",
    "\n",
    "Which is also eqivalent to state that the cross product between two vectors $\\overrightarrow{\\mathbf{a}}$ and $\\overrightarrow{\\mathbf{b}}$ is the magnitude of $\\overrightarrow{\\mathbf{a}}$ times the magnitude of the component of $\\overrightarrow{\\mathbf{b}}$ perpendicular to $\\overrightarrow{\\mathbf{a}}$ (or the magnitude of $\\overrightarrow{\\mathbf{b}}$ times the magnitude of the component of $\\overrightarrow{\\mathbf{a}}$ perpendicular to $\\overrightarrow{\\mathbf{b}}$).\n",
    "\n",
    "The definition above, also implies that the magnitude of the cross product is the area of the parallelogram spanned by the two vectors:  \n",
    "<br>\n",
    "<figure><img src=\"http://upload.wikimedia.org/wikipedia/commons/4/4e/Cross_product_parallelogram.svg\" width=160 alt=\"Vector subtraction\"/><figcaption><center><i>Figure. Area of a parallelogram as the magnitude of the cross product (image from Wikipedia).</i></center></figcaption></figure> \n",
    "\n",
    "The cross product can also be calculated as the determinant of a matrix:\n",
    "\n",
    "$$ \\overrightarrow{\\mathbf{a}} \\times \\overrightarrow{\\mathbf{b}} = \\left| \\begin{array}{ccc}\n",
    "\\hat{\\mathbf{i}} & \\hat{\\mathbf{j}} & \\hat{\\mathbf{k}} \\\\\n",
    "a_x & a_y & a_z \\\\\n",
    "b_x & b_y & b_z \n",
    "\\end{array} \\right|\n",
    "= a_y b_z \\hat{\\mathbf{i}} + a_z b_x \\hat{\\mathbf{j}} +  a_x b_y \\hat{\\mathbf{k}} - a_y b_x \\hat{\\mathbf{k}}-a_z b_y \\hat{\\mathbf{i}} - a_x b_z \\hat{\\mathbf{j}} \\\\\n",
    "\\overrightarrow{\\mathbf{a}} \\times \\overrightarrow{\\mathbf{b}} = (a_yb_z-a_zb_y)\\hat{\\mathbf{i}} + (a_zb_x-a_xb_z)\\hat{\\mathbf{j}} + (a_xb_y-a_yb_x)\\hat{\\mathbf{k}} $$\n",
    "\n",
    "The same result as before.\n",
    "\n",
    "The cross product between two vectors can be visualized in this interactive animation:"
   ]
  },
  {
   "cell_type": "code",
   "execution_count": 20,
   "metadata": {},
   "outputs": [
    {
     "data": {
      "text/html": [
       "\n",
       "        <iframe\n",
       "            width=\"100%\"\n",
       "            height=\"400\"\n",
       "            src=\"https://faraday.physics.utoronto.ca/PVB/Harrison/Flash/Vectors/CrossProduct/CrossProduct.html\"\n",
       "            frameborder=\"0\"\n",
       "            allowfullscreen\n",
       "        ></iframe>\n",
       "        "
      ],
      "text/plain": [
       "<IPython.lib.display.IFrame at 0x240732845f8>"
      ]
     },
     "execution_count": 20,
     "metadata": {},
     "output_type": "execute_result"
    }
   ],
   "source": [
    "IFrame('https://faraday.physics.utoronto.ca/PVB/Harrison/Flash/Vectors/CrossProduct/CrossProduct.html',\n",
    "       width='100%', height=400)"
   ]
  },
  {
   "cell_type": "markdown",
   "metadata": {},
   "source": [
    "The Numpy function for the cross product is `numpy.cross`:"
   ]
  },
  {
   "cell_type": "code",
   "execution_count": 21,
   "metadata": {},
   "outputs": [
    {
     "name": "stdout",
     "output_type": "stream",
     "text": [
      "a = [[1 2 3]\n",
      " [1 1 1]] \n",
      "b = [[4 5 6]\n",
      " [7 8 9]]\n",
      "np.cross(a, b) = [[-3  6 -3]\n",
      " [ 1 -2  1]]\n"
     ]
    }
   ],
   "source": [
    "print('a =', a, '\\nb =', b)\n",
    "print('np.cross(a, b) =', np.cross(a, b))"
   ]
  },
  {
   "cell_type": "markdown",
   "metadata": {},
   "source": [
    "For 2D arrays with vectors in different rows:"
   ]
  },
  {
   "cell_type": "code",
   "execution_count": 22,
   "metadata": {},
   "outputs": [
    {
     "data": {
      "text/plain": [
       "array([[-3,  6, -3],\n",
       "       [ 1, -2,  1]])"
      ]
     },
     "execution_count": 22,
     "metadata": {},
     "output_type": "execute_result"
    }
   ],
   "source": [
    "a = np.array([[1, 2, 3], [1, 1, 1]])\n",
    "b = np.array([[4, 5, 6], [7, 8, 9]])\n",
    "np.cross(a, b, axis=1)"
   ]
  },
  {
   "cell_type": "markdown",
   "metadata": {},
   "source": [
    "### Gram–Schmidt process\n",
    "\n",
    "The [Gram–Schmidt process](http://en.wikipedia.org/wiki/Gram%E2%80%93Schmidt_process) is a method for orthonormalizing (orthogonal unit versors) a set of vectors using the scalar product. The Gram–Schmidt process works for any number of vectors.   \n",
    "For example, given three vectors, $\\overrightarrow{\\mathbf{a}}, \\overrightarrow{\\mathbf{b}}, \\overrightarrow{\\mathbf{c}}$, in the 3D space, a basis $\\{\\hat{e}_a, \\hat{e}_b, \\hat{e}_c\\}$ can be found using the Gram–Schmidt process by: \n",
    "\n",
    "The first versor is in the $\\overrightarrow{\\mathbf{a}}$ direction (or in the direction of any of the other vectors):  \n",
    "\n",
    "$$ \\hat{e}_a = \\frac{\\overrightarrow{\\mathbf{a}}}{||\\overrightarrow{\\mathbf{a}}||} $$\n",
    "\n",
    "The second versor, orthogonal to $\\hat{e}_a$, can be found considering we can express vector $\\overrightarrow{\\mathbf{b}}$ in terms of the $\\hat{e}_a$ direction as:  \n",
    "\n",
    "$$ \\overrightarrow{\\mathbf{b}} = \\overrightarrow{\\mathbf{b}}^\\| + \\overrightarrow{\\mathbf{b}}^\\bot $$\n",
    "\n",
    "Then:\n",
    "\n",
    "$$ \\overrightarrow{\\mathbf{b}}^\\bot = \\overrightarrow{\\mathbf{b}} - \\overrightarrow{\\mathbf{b}}^\\| = \\overrightarrow{\\mathbf{b}} - (\\overrightarrow{\\mathbf{b}} \\cdot \\hat{e}_a ) \\hat{e}_a $$\n",
    "\n",
    "Finally:\n",
    "\n",
    "$$ \\hat{e}_b = \\frac{\\overrightarrow{\\mathbf{b}}^\\bot}{||\\overrightarrow{\\mathbf{b}}^\\bot||} $$\n",
    "\n",
    "The third versor, orthogonal to $\\{\\hat{e}_a, \\hat{e}_b\\}$, can be found expressing the vector $\\overrightarrow{\\mathbf{C}}$ in terms of $\\hat{e}_a$ and $\\hat{e}_b$ directions as:\n",
    "\n",
    "$$ \\overrightarrow{\\mathbf{c}} = \\overrightarrow{\\mathbf{c}}^\\| + \\overrightarrow{\\mathbf{c}}^\\bot $$\n",
    "\n",
    "Then:\n",
    "\n",
    "$$ \\overrightarrow{\\mathbf{c}}^\\bot = \\overrightarrow{\\mathbf{c}} - \\overrightarrow{\\mathbf{c}}^\\| $$\n",
    "\n",
    "Where:\n",
    "\n",
    "$$ \\overrightarrow{\\mathbf{c}}^\\| = (\\overrightarrow{\\mathbf{c}} \\cdot \\hat{e}_a ) \\hat{e}_a + (\\overrightarrow{\\mathbf{c}} \\cdot \\hat{e}_b ) \\hat{e}_b $$\n",
    "\n",
    "Finally:\n",
    "\n",
    "$$ \\hat{e}_c = \\frac{\\overrightarrow{\\mathbf{c}}^\\bot}{||\\overrightarrow{\\mathbf{c}}^\\bot||} $$"
   ]
  },
  {
   "cell_type": "markdown",
   "metadata": {},
   "source": [
    "Let's implement the Gram–Schmidt process in Python.\n",
    "\n",
    "For example, consider the positions (vectors) $\\overrightarrow{\\mathbf{a}} = [1,2,0], \\overrightarrow{\\mathbf{b}} = [0,1,3], \\overrightarrow{\\mathbf{c}} = [1,0,1]$:"
   ]
  },
  {
   "cell_type": "code",
   "execution_count": 63,
   "metadata": {
    "collapsed": true
   },
   "outputs": [],
   "source": [
    "import numpy as np\n",
    "\n",
    "a = np.array([1, 2, 5])\n",
    "b = np.array([2, 1, 3])\n",
    "c = np.array([1, 0, 1])"
   ]
  },
  {
   "cell_type": "markdown",
   "metadata": {},
   "source": [
    "The first versor is:"
   ]
  },
  {
   "cell_type": "code",
   "execution_count": 64,
   "metadata": {},
   "outputs": [
    {
     "name": "stdout",
     "output_type": "stream",
     "text": [
      "[ 0.18257419  0.36514837  0.91287093]\n"
     ]
    }
   ],
   "source": [
    "ea = a/np.linalg.norm(a)\n",
    "print(ea)"
   ]
  },
  {
   "cell_type": "markdown",
   "metadata": {},
   "source": [
    "The second versor is:"
   ]
  },
  {
   "cell_type": "code",
   "execution_count": 65,
   "metadata": {},
   "outputs": [
    {
     "name": "stdout",
     "output_type": "stream",
     "text": [
      "[ 0.97453451 -0.19015308 -0.11884567]\n"
     ]
    }
   ],
   "source": [
    "eb = b - np.dot(b, ea)*ea\n",
    "eb = eb/np.linalg.norm(eb)\n",
    "print(eb)"
   ]
  },
  {
   "cell_type": "markdown",
   "metadata": {},
   "source": [
    "And the third version is:"
   ]
  },
  {
   "cell_type": "code",
   "execution_count": 66,
   "metadata": {},
   "outputs": [
    {
     "name": "stdout",
     "output_type": "stream",
     "text": [
      "[-0.13018891 -0.91132238  0.39056673]\n"
     ]
    }
   ],
   "source": [
    "ec = c - np.dot(c, ea)*ea - np.dot(c, eb)*eb\n",
    "ec = ec/np.linalg.norm(ec)\n",
    "print(ec)"
   ]
  },
  {
   "cell_type": "markdown",
   "metadata": {},
   "source": [
    "Let's check the orthonormality between these versors:"
   ]
  },
  {
   "cell_type": "code",
   "execution_count": 67,
   "metadata": {},
   "outputs": [
    {
     "name": "stdout",
     "output_type": "stream",
     "text": [
      "Versors: \n",
      "ea = [ 0.18257419  0.36514837  0.91287093] \n",
      "eb = [ 0.97453451 -0.19015308 -0.11884567] \n",
      "ec = [-0.13018891 -0.91132238  0.39056673]\n",
      "\n",
      "Test of orthogonality (scalar product between versors): \n",
      "ea x eb: -1.80411241502e-16 \n",
      "eb x ec: 1.48492329544e-15 \n",
      "ec x ea: 6.66133814775e-16\n",
      "\n",
      "Norm of each versor: \n",
      "||ea|| = 1.0 \n",
      "||eb|| = 1.0 \n",
      "||ec|| = 1.0\n"
     ]
    }
   ],
   "source": [
    "print('Versors:', '\\nea =', ea, '\\neb =', eb, '\\nec =', ec)\n",
    "print('\\nTest of orthogonality (scalar product between versors):',\n",
    "      '\\nea x eb:', np.dot(ea, eb),\n",
    "      '\\neb x ec:', np.dot(eb, ec),\n",
    "      '\\nec x ea:', np.dot(ec, ea))\n",
    "print('\\nNorm of each versor:',\n",
    "      '\\n||ea|| =', np.linalg.norm(ea),\n",
    "      '\\n||eb|| =', np.linalg.norm(eb),\n",
    "      '\\n||ec|| =', np.linalg.norm(ec))"
   ]
  },
  {
   "cell_type": "markdown",
   "metadata": {},
   "source": [
    "Or, we can simply use the built-in QR factorization function from NumPy:"
   ]
  },
  {
   "cell_type": "code",
   "execution_count": 72,
   "metadata": {},
   "outputs": [
    {
     "name": "stdout",
     "output_type": "stream",
     "text": [
      "[[-0.18257419  0.97453451 -0.13018891]\n",
      " [-0.36514837 -0.19015308 -0.91132238]\n",
      " [-0.91287093 -0.11884567  0.39056673]]\n"
     ]
    }
   ],
   "source": [
    "vectors = np.vstack((a,b,c)).T\n",
    "Q, R = np.linalg.qr(vectors)\n",
    "print(Q)"
   ]
  },
  {
   "cell_type": "code",
   "execution_count": 70,
   "metadata": {},
   "outputs": [
    {
     "name": "stdout",
     "output_type": "stream",
     "text": [
      "Versors: \n",
      "ea = [-0.18257419 -0.36514837 -0.91287093] \n",
      "eb = [ 0.97453451 -0.19015308 -0.11884567] \n",
      "ec = [-0.13018891 -0.91132238  0.39056673]\n",
      "\n",
      "Test of orthogonality (scalar product between versors):\n",
      "[[  1.00000000e+00   3.02207991e-16   5.27065007e-18]\n",
      " [  3.02207991e-16   1.00000000e+00  -2.40315431e-16]\n",
      " [  5.27065007e-18  -2.40315431e-16   1.00000000e+00]]\n",
      "\n",
      "Test of orthogonality (scalar product between versors): \n",
      "ea x eb: 3.05311331772e-16 \n",
      "eb x ec: -2.22044604925e-16 \n",
      "ec x ea: 0.0\n",
      "\n",
      "Norm of each versor: \n",
      "||ea|| = 1.0 \n",
      "||eb|| = 1.0 \n",
      "||ec|| = 1.0\n"
     ]
    }
   ],
   "source": [
    "ea, eb, ec = Q[:, 0], Q[:, 1], Q[:, 2]\n",
    "print('Versors:', '\\nea =', ea, '\\neb =', eb, '\\nec =', ec)\n",
    "\n",
    "print('\\nTest of orthogonality (scalar product between versors):')\n",
    "print(np.dot(Q.T, Q))\n",
    "      \n",
    "print('\\nTest of orthogonality (scalar product between versors):',\n",
    "      '\\nea x eb:', np.dot(ea, eb),\n",
    "      '\\neb x ec:', np.dot(eb, ec),\n",
    "      '\\nec x ea:', np.dot(ec, ea))\n",
    "\n",
    "print('\\nNorm of each versor:',\n",
    "      '\\n||ea|| =', np.linalg.norm(ea),\n",
    "      '\\n||eb|| =', np.linalg.norm(eb),\n",
    "      '\\n||ec|| =', np.linalg.norm(ec))"
   ]
  },
  {
   "cell_type": "markdown",
   "metadata": {},
   "source": [
    "Which results in the same basis with exception of the changed signals."
   ]
  },
  {
   "cell_type": "markdown",
   "metadata": {},
   "source": [
    "## Problems\n",
    "\n",
    "1. Given the vectors, $\\overrightarrow{\\mathbf{a}}$=[1, 0, 0] and $\\overrightarrow{\\mathbf{b}}$=[1, 1, 1], calculate the dot product.\n",
    "2. Calculate two unit vectors for [2, −2, 3] and [3, −3, 2] and determine an orthogonal vector for the two.\n",
    "3. Given the vectors $\\overrightarrow{\\mathbf{a}}$=[1, 0, 0] and $\\overrightarrow{\\mathbf{b}}$=[1, 1, 1], calculate $ \\overrightarrow{\\mathbf{a}} \\times \\overrightarrow{\\mathbf{b}} $ and verify that this vector is orthogonal to vectors $\\overrightarrow{\\mathbf{a}}$ and $\\overrightarrow{\\mathbf{b}}$. Also, calculate $\\overrightarrow{\\mathbf{b}} \\times \\overrightarrow{\\mathbf{a}}$ and compare it with $\\overrightarrow{\\mathbf{a}} \\times \\overrightarrow{\\mathbf{b}}$.\n",
    "\n",
    "If you are new to scalars and vectors, you should solve these problems first by hand and then use Python to check the answers."
   ]
  },
  {
   "cell_type": "markdown",
   "metadata": {
    "collapsed": true
   },
   "source": [
    "## References\n",
    "\n",
    "- Ruina A, Rudra P (2015) [Introduction to Statics and Dynamics](http://ruina.tam.cornell.edu/Book/index.html). Oxford University Press.  "
   ]
  }
 ],
 "metadata": {
  "kernelspec": {
   "display_name": "Python 3",
   "language": "python",
   "name": "python3"
  },
  "language_info": {
   "codemirror_mode": {
    "name": "ipython",
    "version": 3
   },
   "file_extension": ".py",
   "mimetype": "text/x-python",
   "name": "python",
   "nbconvert_exporter": "python",
   "pygments_lexer": "ipython3",
   "version": "3.6.2"
  },
  "nbTranslate": {
   "displayLangs": [
    "*"
   ],
   "hotkey": "alt-t",
   "langInMainMenu": true,
   "sourceLang": "en",
   "targetLang": "fr",
   "useGoogleTranslate": true
  }
 },
 "nbformat": 4,
 "nbformat_minor": 1
}
