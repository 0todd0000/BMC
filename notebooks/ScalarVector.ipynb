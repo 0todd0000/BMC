{
 "metadata": {
  "name": "",
  "signature": "sha256:525a88c92f3ac7dd7c0585870e286993fbdcbe08b4a2322e2b51fb230657ff53"
 },
 "nbformat": 3,
 "nbformat_minor": 0,
 "worksheets": [
  {
   "cells": [
    {
     "cell_type": "heading",
     "level": 1,
     "metadata": {},
     "source": [
      "Scalar and vector"
     ]
    },
    {
     "cell_type": "markdown",
     "metadata": {},
     "source": [
      "Marcos Duarte"
     ]
    },
    {
     "cell_type": "markdown",
     "metadata": {},
     "source": [
      "Python handles very well all mathematical operations with numeric scalars and vectors and you can use [Sympy](http://sympy.org) for similar stuff but with symbols (algebra). Let's briefly review about scalars and vectors and show how to use Python for calculations."
     ]
    },
    {
     "cell_type": "heading",
     "level": 2,
     "metadata": {},
     "source": [
      "Scalar"
     ]
    },
    {
     "cell_type": "markdown",
     "metadata": {},
     "source": [
      ">A **scalar** is a one-dimensional physical quantity, which can be described by a single real number. For example, time, mass, and energy are examples of scalars."
     ]
    },
    {
     "cell_type": "heading",
     "level": 3,
     "metadata": {},
     "source": [
      "Scalar operations in Python"
     ]
    },
    {
     "cell_type": "markdown",
     "metadata": {},
     "source": [
      "Simple arithmetic operations with scalars are indeed simple:"
     ]
    },
    {
     "cell_type": "code",
     "collapsed": false,
     "input": [
      "from __future__ import division, print_function\n",
      "import math\n",
      "\n",
      "a = 2\n",
      "b = 3\n",
      "print('a =', a, ', b =', b)\n",
      "print('a + b =', a + b)\n",
      "print('a - b =', a - b)\n",
      "print('a * b =', a * b)\n",
      "print('a / b =', a / b)\n",
      "print('a ** b =', a ** b)\n",
      "print('sqrt(b) =', math.sqrt(b))"
     ],
     "language": "python",
     "metadata": {},
     "outputs": [
      {
       "output_type": "stream",
       "stream": "stdout",
       "text": [
        "a = 2 , b = 3\n",
        "a + b = 5\n",
        "a - b = -1\n",
        "a * b = 6\n",
        "a / b = 0.6666666666666666\n",
        "a ** b = 8\n",
        "sqrt(b) = 1.7320508075688772\n"
       ]
      }
     ],
     "prompt_number": 1
    },
    {
     "cell_type": "markdown",
     "metadata": {},
     "source": [
      "If you have a set of numbers, or an array, it is probably better to use Numpy; it will be faster for large data sets, and combined with Scipy, has many more mathematical funcions."
     ]
    },
    {
     "cell_type": "code",
     "collapsed": false,
     "input": [
      "import numpy as np\n",
      "\n",
      "a = 2\n",
      "b = [3, 4, 5, 6, 7, 8]\n",
      "b = np.array(b)\n",
      "print('a =', a, ', b =', b)\n",
      "print('a + b =', a + b)\n",
      "print('a - b =', a - b)\n",
      "print('a * b =', a * b)\n",
      "print('a / b =', a / b)\n",
      "print('a ** b =', a ** b)\n",
      "print('np.sqrt(b) =', np.sqrt(b))  # use numpy functions for numpy arrays"
     ],
     "language": "python",
     "metadata": {},
     "outputs": [
      {
       "output_type": "stream",
       "stream": "stdout",
       "text": [
        "a = 2 , b = [3 4 5 6 7 8]\n",
        "a + b = [ 5  6  7  8  9 10]\n",
        "a - b = [-1 -2 -3 -4 -5 -6]\n",
        "a * b = [ 6  8 10 12 14 16]\n",
        "a / b = [ 0.66666667  0.5         0.4         0.33333333  0.28571429  0.25      ]\n",
        "a ** b = [  8  16  32  64 128 256]\n",
        "np.sqrt(b) = [ 1.73205081  2.          2.23606798  2.44948974  2.64575131  2.82842712]\n"
       ]
      }
     ],
     "prompt_number": 2
    },
    {
     "cell_type": "markdown",
     "metadata": {},
     "source": [
      "Numpy performs the arithmetic operations of the single number in `a` with all the numbers of the array `b`. This is called broadcasting in computer science.   \n",
      "Even if you have two arrays (but they must have the same size), Numpy handles for you:"
     ]
    },
    {
     "cell_type": "code",
     "collapsed": false,
     "input": [
      "a = np.array([1, 2, 3])\n",
      "b = np.array([4, 5, 6])\n",
      "print('a =', a, ', b =', b)\n",
      "print('a + b =', a + b)\n",
      "print('a - b =', a - b)\n",
      "print('a * b =', a * b)\n",
      "print('a / b =', a / b)\n",
      "print('a ** b =', a ** b)"
     ],
     "language": "python",
     "metadata": {},
     "outputs": [
      {
       "output_type": "stream",
       "stream": "stdout",
       "text": [
        "a = [1 2 3] , b = [4 5 6]\n",
        "a + b = [5 7 9]\n",
        "a - b = [-3 -3 -3]\n",
        "a * b = [ 4 10 18]\n",
        "a / b = [ 0.25  0.4   0.5 ]\n",
        "a ** b = [  1  32 729]\n"
       ]
      }
     ],
     "prompt_number": 3
    },
    {
     "cell_type": "heading",
     "level": 2,
     "metadata": {},
     "source": [
      "Vector"
     ]
    },
    {
     "cell_type": "markdown",
     "metadata": {},
     "source": [
      ">A **vector** is a geometric quantity with magnitude (or length) and direction expressed numerically as an ordered list of values according to a coordinate reference system. For example, position, force, and torque are physical quantities defined by vectors.\n",
      "\n",
      "For instance, consider the position of a point in space represented by a vector:\n",
      "\n",
      "<div class='center-align'><figure><img src=\"./../images/vector3D.png\" width=300/><figcaption><i>Position of a point represented by a vector in a Cartesian coordinate system.</i></figcaption></figure></div> \n",
      "\n",
      "The position of the point (the vector) above can be represented as a tuple of values:\n",
      "\n",
      "$$ (x,\\: y,\\: z) \\; \\Rightarrow \\; (1, 3, 2) $$ \n",
      "\n",
      "or in matrix form:\n",
      "\n",
      "$$ \\begin{bmatrix} x \\\\y \\\\z \\end{bmatrix} \\;\\; \\Rightarrow  \\;\\; \\begin{bmatrix} 1 \\\\3 \\\\2 \\end{bmatrix}$$\n",
      "\n",
      "We can use the Numpy array to represent the components of vectors.   \n",
      "For instance, for the vector above is expressed in Python as:"
     ]
    },
    {
     "cell_type": "code",
     "collapsed": false,
     "input": [
      "a = np.array([1, 3, 2])\n",
      "print('a =', a)"
     ],
     "language": "python",
     "metadata": {},
     "outputs": [
      {
       "output_type": "stream",
       "stream": "stdout",
       "text": [
        "a = [1 3 2]\n"
       ]
      }
     ],
     "prompt_number": 4
    },
    {
     "cell_type": "markdown",
     "metadata": {},
     "source": [
      "Exactly like the arrays in the last example for scalars, so all operations we performed will result in the same values, of course.   \n",
      "However, as we are now dealing with vectors, now some of the  operations don't make sense. For example, for vectors there are no multiplication, division, power, and square root in the way we calculated.\n",
      "\n",
      "A vector can also be represented as:\n",
      "\n",
      "$$ \\mathbf{a} = a_x\\mathbf{i}+a_y\\mathbf{j}+a_z\\mathbf{k} $$\n",
      "\n",
      "<div class='center-align'><figure><img src=\"./../images/vector3Dijk.png\" width=300/><figcaption><i>A vector representation in a Cartesian coordinate system. The versors <b>i, j, k</b> are usually represented in the color sequence <b>rgb</b> (red, green, blue) for easier visualization.</i></figcaption></figure></div> \n",
      "\n",
      "Where $ \\mathbf{i,\\: j,\\: k} $ are unit vectors, each representing a direction and $ a_x\\mathbf{i},\\: a_y\\mathbf{j},\\: a_z\\mathbf{k} $ are the vector components of the vector $ \\mathbf{a} $.     \n",
      "A **unit vector** (or **versor**) is a vector whose length (or norm) is 1.   \n",
      "The unit vector of a non-zero vector $\\mathbf{a}$ is the unit vector codirectional with $\\mathbf{a}$:\n",
      "\n",
      "$$ \\mathbf{\\hat{u}} = \\frac{\\mathbf{a}}{||\\mathbf{a}||} = \\frac{a_x\\:\\mathbf{i} + a_y\\:\\mathbf{j} + a_z\\:\\mathbf{k}}{\\sqrt{a_x^2+a_y^2+a_z^2}} $$\n",
      "\n",
      "Where the symbol $||\\;||$ denotes the norm (magnitude, length or Euclidean norm) of a vector and it is defined as:\n",
      "\n",
      "$$ ||\\mathbf{a}|| = \\sqrt{a_x^2+a_y^2+a_z^2} $$\n",
      "\n",
      "The function `numpy.linalg.norm` calculates the norm:"
     ]
    },
    {
     "cell_type": "code",
     "collapsed": false,
     "input": [
      "a = np.array([1, 2, 3])\n",
      "np.linalg.norm(a)"
     ],
     "language": "python",
     "metadata": {},
     "outputs": [
      {
       "metadata": {},
       "output_type": "pyout",
       "prompt_number": 5,
       "text": [
        "3.7416573867739413"
       ]
      }
     ],
     "prompt_number": 5
    },
    {
     "cell_type": "markdown",
     "metadata": {},
     "source": [
      "Or we can use the definition and compute directly:"
     ]
    },
    {
     "cell_type": "code",
     "collapsed": false,
     "input": [
      "np.sqrt(np.sum(a*a))"
     ],
     "language": "python",
     "metadata": {},
     "outputs": [
      {
       "metadata": {},
       "output_type": "pyout",
       "prompt_number": 6,
       "text": [
        "3.7416573867739413"
       ]
      }
     ],
     "prompt_number": 6
    },
    {
     "cell_type": "markdown",
     "metadata": {},
     "source": [
      "Then, the versor for the vector $ \\mathbf{a} = (1, 2, 3) $ is:"
     ]
    },
    {
     "cell_type": "code",
     "collapsed": false,
     "input": [
      "a = np.array([1, 2, 3])\n",
      "u = a/np.linalg.norm(a)\n",
      "print('u =', u)"
     ],
     "language": "python",
     "metadata": {},
     "outputs": [
      {
       "output_type": "stream",
       "stream": "stdout",
       "text": [
        "u = [ 0.26726124  0.53452248  0.80178373]\n"
       ]
      }
     ],
     "prompt_number": 7
    },
    {
     "cell_type": "markdown",
     "metadata": {},
     "source": [
      "And we can verify its magnitude is indeed 1:"
     ]
    },
    {
     "cell_type": "code",
     "collapsed": false,
     "input": [
      "np.linalg.norm(u)"
     ],
     "language": "python",
     "metadata": {},
     "outputs": [
      {
       "metadata": {},
       "output_type": "pyout",
       "prompt_number": 8,
       "text": [
        "1.0"
       ]
      }
     ],
     "prompt_number": 8
    },
    {
     "cell_type": "markdown",
     "metadata": {},
     "source": [
      "But the representation of a vector as a tuple of values is only valid for a vector with its origin coinciding with the origin $ (0, 0, 0) $ of the coordinate system we adopted.\n",
      "For instance, consider the following vector:\n",
      "\n",
      "<div class='center-align'><figure><img src=\"./../images/vector2.png\" width=260/><figcaption><i>A vector in space.</i></figcaption></figure></div> \n",
      "\n",
      "Such a vector cannot be represented by $ (b_x, b_y, b_z) $ because this would be for the vector from the origin to the point B. To represent exactly this vector we need the two vectors $ \\mathbf{a} $ and $ \\mathbf{b} $. This fact is important when we perform some calculations in Mechanics."
     ]
    },
    {
     "cell_type": "heading",
     "level": 3,
     "metadata": {},
     "source": [
      "Vecton addition and subtraction"
     ]
    },
    {
     "cell_type": "markdown",
     "metadata": {},
     "source": [
      "The addition of two vectors is another vector:\n",
      "\n",
      "$$ \\mathbf{a} + \\mathbf{b} = (a_x\\mathbf{i}+a_y\\mathbf{j}+a_z\\mathbf{k}) + (b_x\\mathbf{i}+b_y\\mathbf{j}+b_z\\mathbf{k}) = \n",
      "(a_x+b_x)\\mathbf{i} + (a_y+b_y)\\mathbf{j} + (a_z+b_z)\\mathbf{k} $$"
     ]
    },
    {
     "cell_type": "markdown",
     "metadata": {},
     "source": [
      "<div class='center-align'><figure><img src=\"http://upload.wikimedia.org/wikipedia/commons/2/28/Vector_addition.svg\" width=300 alt=\"Vector addition\"/><figcaption><i>Vector addition (Wikipedia).</i></figcaption></figure></div>  "
     ]
    },
    {
     "cell_type": "markdown",
     "metadata": {},
     "source": [
      "The subtraction of two vectors is also another vector:\n",
      "\n",
      "$$ \\mathbf{a} - \\mathbf{b} = (a_x\\mathbf{i}+a_y\\mathbf{j}+a_z\\mathbf{k}) + (b_x\\mathbf{i}+b_y\\mathbf{j}+b_z\\mathbf{k}) = \n",
      "(a_x-b_x)\\mathbf{i} + (a_y-b_y)\\mathbf{j} + (a_z-b_z)\\mathbf{k} $$"
     ]
    },
    {
     "cell_type": "markdown",
     "metadata": {},
     "source": [
      "<div class='center-align'><figure><img src=\"http://upload.wikimedia.org/wikipedia/commons/2/24/Vector_subtraction.svg\" width=160 alt=\"Vector subtraction\"/><figcaption><i>Vector subtraction (Wikipedia).</i></figcaption></figure></div>  "
     ]
    },
    {
     "cell_type": "markdown",
     "metadata": {},
     "source": [
      "Consider two 2D arrays (rows and columns) representing the position of two objects moving in space. The columns represent the vector components and the rows the values of the position vector in different instants.   \n",
      "Once again, it's easy to perform addition and subtraction with these vectors:"
     ]
    },
    {
     "cell_type": "code",
     "collapsed": false,
     "input": [
      "import IPython\n",
      "a = np.array([[1, 2, 3], [1, 1, 1]])\n",
      "b = np.array([[4, 5, 6], [7, 8, 9]])\n",
      "print('a =', a, '\\nb =', b)\n",
      "print('a + b =', a + b)\n",
      "print('a - b =', a - b)"
     ],
     "language": "python",
     "metadata": {},
     "outputs": [
      {
       "output_type": "stream",
       "stream": "stdout",
       "text": [
        "a = [[1 2 3]\n",
        " [1 1 1]] \n",
        "b = [[4 5 6]\n",
        " [7 8 9]]\n",
        "a + b = [[ 5  7  9]\n",
        " [ 8  9 10]]\n",
        "a - b = [[-3 -3 -3]\n",
        " [-6 -7 -8]]\n"
       ]
      }
     ],
     "prompt_number": 9
    },
    {
     "cell_type": "markdown",
     "metadata": {},
     "source": [
      "Numpy can handle a N-dimensional array with the size limited by the available memory in your computer.\n",
      "\n",
      "And we can perform operations on each vector, for example, calculate the norm of each one.   \n",
      "First let's check the shape of the variable `a` using the method `shape` or the function `numpy.shape`:"
     ]
    },
    {
     "cell_type": "code",
     "collapsed": false,
     "input": [
      "print(a.shape)\n",
      "print(np.shape(a))"
     ],
     "language": "python",
     "metadata": {},
     "outputs": [
      {
       "output_type": "stream",
       "stream": "stdout",
       "text": [
        "(2, 3)\n",
        "(2, 3)\n"
       ]
      }
     ],
     "prompt_number": 15
    },
    {
     "cell_type": "markdown",
     "metadata": {},
     "source": [
      "This means the variable `a` has 2 rows and 3 columns.   \n",
      "We have to tell the function `numpy.norm` to calculate the norm for each vector, i.e., to operate through the columns of the variable `a` using the paraneter `axis`:"
     ]
    },
    {
     "cell_type": "code",
     "collapsed": false,
     "input": [
      "np.linalg.norm(a, axis=1)"
     ],
     "language": "python",
     "metadata": {},
     "outputs": [
      {
       "metadata": {},
       "output_type": "pyout",
       "prompt_number": 16,
       "text": [
        "array([ 3.74165739,  1.73205081])"
       ]
      }
     ],
     "prompt_number": 16
    },
    {
     "cell_type": "heading",
     "level": 2,
     "metadata": {},
     "source": [
      "Dot product"
     ]
    },
    {
     "cell_type": "markdown",
     "metadata": {},
     "source": [
      "Dot product (or scalar product or inner product) between two vectors is a mathematical operation algebraically defined as the sum of the products of the corresponding components (maginitudes in each direction) of the two vectors. The result of the dot product is a single number (a scalar).  \n",
      "The dot product between vectors $\\mathbf{a}$ and $\\mathbf{b}$ is:\n",
      "\n",
      "$$ \\mathbf{a} \\cdot \\mathbf{b} = (a_x\\:\\mathbf{i}+a_y\\:\\mathbf{j}+a_z\\:\\mathbf{k}) \\cdot (b_x\\:\\mathbf{i}+b_y\\:\\mathbf{j}+b_z\\:\\mathbf{k}) = a_x b_x + a_y b_y + a_z b_z $$\n",
      "\n",
      "Because by definition:\n",
      "\n",
      "$$ \\mathbf{i} \\cdot \\mathbf{i} = \\mathbf{j} \\cdot \\mathbf{j} = \\mathbf{k} \\cdot \\mathbf{k} = 1  \\;\\;\\;\\; \\text{and} \\;\\;\\;\\; \\mathbf{i} \\cdot \\mathbf{j} = \\mathbf{i} \\cdot \\mathbf{k} = \\mathbf{j} \\cdot \\mathbf{k} = 0 $$\n",
      "\n",
      "The geometric equivalent of the dot product is the product of the magnitudes of the two vectors and the cosine of the angle between them:\n",
      "\n",
      "$$ \\mathbf{a} \\cdot \\mathbf{b} = ||\\mathbf{a}||\\:||\\mathbf{b}||\\:cos(\\theta) $$\n",
      "\n",
      "Which is also eqivalent to state that the dot product between two vectors $\\mathbf{a}$ and $\\mathbf{b}$ is the magnitude of $\\mathbf{a}$ times the magnitude of the component of $\\mathbf{b}$ parallel to $\\mathbf{a}$ (or the magnitude of $\\mathbf{b}$ times the magnitude of the component of $\\mathbf{a}$ parallel to $\\mathbf{b}$).\n",
      "\n",
      "The dot product between two vectors can be visualized in this interactive animation:"
     ]
    },
    {
     "cell_type": "code",
     "collapsed": false,
     "input": [
      "from IPython.display import HTML\n",
      "HTML('<iframe src=http://faraday.physics.utoronto.ca/PVB/Harrison/Flash/Vectors/DotProduct/'\n",
      "     'DotProduct.html width=100% height=420></iframe>')"
     ],
     "language": "python",
     "metadata": {},
     "outputs": [
      {
       "html": [
        "<iframe src=http://faraday.physics.utoronto.ca/PVB/Harrison/Flash/Vectors/DotProduct/DotProduct.html width=100% height=420></iframe>"
       ],
       "metadata": {},
       "output_type": "pyout",
       "prompt_number": 2,
       "text": [
        "<IPython.core.display.HTML at 0x43e59e8>"
       ]
      }
     ],
     "prompt_number": 2
    },
    {
     "cell_type": "markdown",
     "metadata": {},
     "source": [
      "The Numpy function for the dot product is `numpy.dot`:"
     ]
    },
    {
     "cell_type": "code",
     "collapsed": false,
     "input": [
      "a = np.array([1, 2, 3])\n",
      "b = np.array([4, 5, 6])\n",
      "print('a =', a, '\\nb =', b)\n",
      "print('np.dot(a, b) =', np.dot(a, b))"
     ],
     "language": "python",
     "metadata": {},
     "outputs": [
      {
       "output_type": "stream",
       "stream": "stdout",
       "text": [
        "a = [1 2 3] \n",
        "b = [4 5 6]\n",
        "np.dot(a, b) = 32\n"
       ]
      }
     ],
     "prompt_number": 10
    },
    {
     "cell_type": "markdown",
     "metadata": {},
     "source": [
      "Or we can use the definition and compute directly:"
     ]
    },
    {
     "cell_type": "code",
     "collapsed": false,
     "input": [
      "np.sum(a*b)"
     ],
     "language": "python",
     "metadata": {},
     "outputs": [
      {
       "metadata": {},
       "output_type": "pyout",
       "prompt_number": 11,
       "text": [
        "32"
       ]
      }
     ],
     "prompt_number": 11
    },
    {
     "cell_type": "markdown",
     "metadata": {},
     "source": [
      "For 2D arrays, the `numpy.dot` function performs matrix multiplication rather than the dot product; so let's use the `numpy.sum` function:"
     ]
    },
    {
     "cell_type": "code",
     "collapsed": false,
     "input": [
      "a = np.array([[1, 2, 3], [1, 1, 1]])\n",
      "b = np.array([[4, 5, 6], [7, 8, 9]])\n",
      "np.sum(a*b, axis=1)"
     ],
     "language": "python",
     "metadata": {},
     "outputs": [
      {
       "metadata": {},
       "output_type": "pyout",
       "prompt_number": 23,
       "text": [
        "array([32, 24])"
       ]
      }
     ],
     "prompt_number": 23
    },
    {
     "cell_type": "heading",
     "level": 2,
     "metadata": {},
     "source": [
      "Vector product"
     ]
    },
    {
     "cell_type": "markdown",
     "metadata": {},
     "source": [
      "Cross product or vector product between two vectors is a mathematical operation in three-dimensional space which results in a vector perpendicular to both of the vectors being multiplied and a length (norm) equal to the product of the perpendicular components of the vectors being multiplied (which is equal to the area of the parallelogram that the vectors span).   \n",
      "The cross product between vectors $\\mathbf{a}$ and $\\mathbf{b}$ is:\n",
      "\n",
      "$$ \\mathbf{a} \\times \\mathbf{b} = (a_x\\:\\mathbf{i}+a_y\\:\\mathbf{j}+a_z\\:\\mathbf{k}) \\times (b_x\\:\\mathbf{i}+b_y\\:\\mathbf{j}+b_z\\:\\mathbf{k}) = (a_yb_z-a_zb_y)\\mathbf{i} + (a_zb_x-a_xb_z)\\mathbf{j}+(a_xb_y-a_yb_x)\\mathbf{k} $$\n",
      "\n",
      "Because by definition:\n",
      "\n",
      "$$ \\begin{array}{l l}\n",
      "\\mathbf{i} \\times \\mathbf{i} = \\mathbf{j} \\times \\mathbf{j} = \\mathbf{k} \\times \\mathbf{k} = 0 \\\\\n",
      "\\mathbf{i} \\times \\mathbf{j} = \\mathbf{k},\\;\\;\\;  \\mathbf{j} \\times \\mathbf{k} = \\mathbf{i},\\;\\;\\; \\mathbf{k} \\times \\mathbf{i} = \\mathbf{j} \\\\\n",
      "\\mathbf{j} \\times \\mathbf{i} = -\\mathbf{k},\\;\\;\\;  \\mathbf{k} \\times \\mathbf{j} = -\\mathbf{i},\\;\\;\\; \\mathbf{i} \\times \\mathbf{k} = -\\mathbf{j}\n",
      "\\end{array} $$\n",
      "\n",
      "The direction of the vector resulting from the cross product between the vectors $\\mathbf{a}$ and $\\mathbf{b}$ is given by the right-hand rule.\n",
      "\n",
      "The geometric equivalent of the cross product is:\n",
      "\n",
      "The geometric equivalent of the cross product is the product of the magnitudes of the two vectors and the sine of the angle between them:\n",
      "\n",
      "$$ \\mathbf{a} \\times \\mathbf{b} = ||\\mathbf{a}||\\:||\\mathbf{b}||\\:sin(\\theta) $$\n",
      "\n",
      "Which is also eqivalent to state that the cross product between two vectors $\\mathbf{a}$ and $\\mathbf{b}$ is the magnitude of $\\mathbf{a}$ times the magnitude of the component of $\\mathbf{b}$ perpendicular to $\\mathbf{a}$ (or the magnitude of $\\mathbf{b}$ times the magnitude of the component of $\\mathbf{a}$ perpendicular to $\\mathbf{b}$).\n",
      "\n",
      "The definition above, also implies that the magnitude of the cross product is the area of the parallelogram spanned by the two vectors:\n",
      "\n",
      "<div class='center-align'><figure><img src=\"http://upload.wikimedia.org/wikipedia/commons/4/4e/Cross_product_parallelogram.svg\" width=160 alt=\"Vector subtraction\"/><figcaption><i>Area of a parallelogram as the magnitude of the cross product (Wikipedia).</i></figcaption></figure></div>  \n",
      "\n",
      "The cross product can also be calculated as the determinant of a matrix:\n",
      "\n",
      "$$ \\mathbf{a} \\times \\mathbf{b} = \\left| \\begin{array}{ccc}\n",
      "\\mathbf{i} & \\mathbf{j} & \\mathbf{k} \\\\\n",
      "a_x & a_y & a_z \\\\\n",
      "b_x & b_y & b_z \n",
      "\\end{array} \\right|\n",
      "= a_y b_z \\mathbf{i} + a_z b_x \\mathbf{j} +  a_x b_y \\mathbf{k} - a_y b_x \\mathbf{k} -a_z b_y \\mathbf{i} - a_x b_z \\mathbf{j} \\\\\n",
      "\\mathbf{a} \\times \\mathbf{b} = (a_yb_z-a_zb_y)\\mathbf{i} + (a_zb_x-a_xb_z)\\mathbf{j}+(a_xb_y-a_yb_x)\\mathbf{k} $$\n",
      "\n",
      "The same result as before.\n",
      "\n",
      "The cross product between two vectors can be visualized in this interactive animation:"
     ]
    },
    {
     "cell_type": "code",
     "collapsed": false,
     "input": [
      "from IPython.display import HTML\n",
      "HTML('<iframe src=http://faraday.physics.utoronto.ca/PVB/Harrison/Flash/Vectors/CrossProduct/'\n",
      "     'CrossProduct.html width=100% height=420></iframe>')"
     ],
     "language": "python",
     "metadata": {},
     "outputs": [
      {
       "html": [
        "<iframe src=http://faraday.physics.utoronto.ca/PVB/Harrison/Flash/Vectors/CrossProduct/CrossProduct.html width=100% height=420></iframe>"
       ],
       "metadata": {},
       "output_type": "pyout",
       "prompt_number": 1,
       "text": [
        "<IPython.core.display.HTML at 0x43e56d8>"
       ]
      }
     ],
     "prompt_number": 1
    },
    {
     "cell_type": "markdown",
     "metadata": {},
     "source": [
      "The Numpy function for the cross product is `numpy.cross`:"
     ]
    },
    {
     "cell_type": "code",
     "collapsed": false,
     "input": [
      "print('a =', a, '\\nb =', b)\n",
      "print('np.cross(a, b) =', np.cross(a, b))"
     ],
     "language": "python",
     "metadata": {},
     "outputs": [
      {
       "output_type": "stream",
       "stream": "stdout",
       "text": [
        "a = [1 2 3] \n",
        "b = [4 5 6]\n",
        "np.cross(a, b) = [-3  6 -3]\n"
       ]
      }
     ],
     "prompt_number": 12
    },
    {
     "cell_type": "markdown",
     "metadata": {},
     "source": [
      "For 2D arrays with vectors in different rows:"
     ]
    },
    {
     "cell_type": "code",
     "collapsed": false,
     "input": [
      "a = np.array([[1, 2, 3], [1, 1, 1]])\n",
      "b = np.array([[4, 5, 6], [7, 8, 9]])\n",
      "np.cross(a, b, axis=1)"
     ],
     "language": "python",
     "metadata": {},
     "outputs": [
      {
       "metadata": {},
       "output_type": "pyout",
       "prompt_number": 24,
       "text": [
        "array([[-3,  6, -3],\n",
        "       [ 1, -2,  1]])"
       ]
      }
     ],
     "prompt_number": 24
    },
    {
     "cell_type": "heading",
     "level": 2,
     "metadata": {},
     "source": [
      "Problems"
     ]
    },
    {
     "cell_type": "markdown",
     "metadata": {},
     "source": [
      "1. Given the vectors, $\\mathbf{a}$=(1, 0, 0) and $\\mathbf{b}$=(1, 1, 1), calculate the dot product.\n",
      "2. Calculate two unit vectors for (2, \u22122, 3) and (3, \u22123, 2) and determine an orthogonal vector for the two.\n",
      "3. Given the vectors $\\mathbf{a}$=(1, 0, 0) and $\\mathbf{b}$=(1, 1, 1), calculate $ \\mathbf{a} \\times \\mathbf{b} $ and verify that this vector is orthogonal to vectors $\\mathbf{a}$ and $\\mathbf{b}$. Also, calculate $ \\mathbf{b} \\times \\mathbf{a} $ and compare it with $ \\mathbf{a} \\times \\mathbf{b} $.\n",
      "\n",
      "If you are new to scalars and vectors, you should solve these problems first by hand and then use Python to check the answers."
     ]
    },
    {
     "cell_type": "markdown",
     "metadata": {},
     "source": [
      "> This page was written in the [IPython Notebook](http://ipython.org/notebook.html).  \n",
      "To download the notebook click on this option at the top menu or get it from the [github repo](https://github.com/demotu/BMC)."
     ]
    }
   ],
   "metadata": {}
  }
 ]
}