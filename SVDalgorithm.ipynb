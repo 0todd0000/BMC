{
 "metadata": {
  "name": ""
 },
 "nbformat": 3,
 "nbformat_minor": 0,
 "worksheets": [
  {
   "cells": [
    {
     "cell_type": "heading",
     "level": 1,
     "metadata": {},
     "source": [
      "Determining rigid body transformation using the SVD algorithm"
     ]
    },
    {
     "cell_type": "markdown",
     "metadata": {},
     "source": [
      "Marcos Duarte"
     ]
    },
    {
     "cell_type": "markdown",
     "metadata": {},
     "source": [
      "Ideally, three non-colinear markers placed on a moving rigid body is everything we need to describe its movement (translation and rotation) in relation to a fixed coordinate system. However, in pratical situations of human motion analysis, markers are placed on the soft tissue of a deformable body and this generates artifacts caused by muscle contraction, skin deformation, marker wobbling, etc. In this situation, the use of only three markers can produce unreliable results. It has been shown that four or more markers on the segment followed by a mathematical procedure to calculate the 'best' rigid-body transformation taking into account all these markers produces more robust results (S\u00f6derkvist & Wedin 1993; Challis 1995; Cappozzo et al. 1997).  \n",
      "\n",
      "One mathematical procedure to calculate the transformation with three or more marker positions envolves the use of the [singular value decomposition](http://en.wikipedia.org/wiki/Singular_value_decomposition) (SVD) algorithm from linear algebra. The SVD algorithm decomposes a matrix $\\mathbf{M}$ (which represents a general transformation between two coordinate systems) into three simple transformations: a rotation $\\mathbf{V^T}$, a scaling factor $\\mathbf{S}$ along the rotated axes and a second rotation $\\mathbf{U}$: \n",
      "\n",
      "$$ \\mathbf{M}= \\mathbf{U\\;S\\;V^T}$$\n",
      "\n",
      "And the rotation matrix is given by:\n",
      "\n",
      "$$ \\mathbf{R}= \\mathbf{U\\:V^T}$$\n",
      "\n",
      "The matrices $\\mathbf{U}$ and $\\mathbf{V}$ are both orthogonal (det = $\\pm$1).\n",
      "\n",
      "For example, if we have registered the position of four markers placed on a moving segment in 100 different instants and the position of these same markers during, what is known in Biomechanics, a static calibration trial, we would use the SVD algorithm to calculate the 100 rotation matrices (between the static trials and the 100 instants) in order to find the Cardan angles for each instant.   \n",
      "\n",
      "Here is a Python function for the determination of the rigid body transformation using the SVD algorithm:"
     ]
    },
    {
     "cell_type": "code",
     "collapsed": false,
     "input": [
      "%load 'functions/svdt.py'"
     ],
     "language": "python",
     "metadata": {},
     "outputs": [],
     "prompt_number": 1
    },
    {
     "cell_type": "code",
     "collapsed": false,
     "input": [
      "#!/usr/bin/env python\n",
      "\n",
      "\"\"\"Calculates the transformation between two coordinate systems using SVD.\"\"\"\n",
      "\n",
      "__author__ = 'Marcos Duarte <duartexyz@gmail.com>'\n",
      "__version__ = 'svdt.py v.1 2013/12/23'\n",
      "\n",
      "import numpy as np\n",
      "\n",
      "def svdt(A, B):\n",
      "    \"\"\"Calculates the transformation between two coordinate systems using SVD.\n",
      "\n",
      "    This function determines the rotation matrix (R) and the translation vector\n",
      "    (L) for a rigid body after the following transformation [1]_, [2]_:\n",
      "    B = R*A + L + err.\n",
      "    Where A and B represents the rigid body in different instants and err is an\n",
      "    aleatory noise. A and B are matrices with the marker coordinates at\n",
      "    different instants (at least three non-collinear markers are necessary to\n",
      "    determine the 3D transformation).\n",
      "    \n",
      "    The matrix A can be thought to represent a local coordinate system (but A\n",
      "    it's not a basis) and matrix B the global coordinate system. The operation\n",
      "    Pg = R*Pl + L calculates the coordinates of the point Pl (expressed in the\n",
      "    local coordinate system) in the global coordinate system (Pg).\n",
      "\n",
      "    Parameters\n",
      "    ----------\n",
      "    A   : 2D Numpy array (Nmarkers x 3)\n",
      "        Coordinates [x,y,z] of at least three markers\n",
      "    B   : 2D Numpy array (Nmarkers x 3)\n",
      "        Coordinates [x,y,z] of at least three markers\n",
      "\n",
      "    Returns\n",
      "    -------\n",
      "    R    : 2D Numpy array (3 x 3)\n",
      "         Rotation matrix between A and B\n",
      "    L    : 1D Numpy array (3)\n",
      "         Translation vector between A and B\n",
      "    RMSE : float\n",
      "         Root-mean-squared error for the rigid body model: B = R*A + L + err\n",
      "         For an ideal rigid body, RMSE is zero.\n",
      "\n",
      "    See Also\n",
      "    --------\n",
      "    numpy.linalg.svd\n",
      "\n",
      "    Notes\n",
      "    -----\n",
      "    The singular value decomposition (SVD) algorithm decomposes a matrix M\n",
      "    (which represents a general transformation between two coordinate systems)\n",
      "    into three simple transformations [3]_: a rotation Vt, a scaling factor S\n",
      "    along the  rotated axes and a second rotation U: M = U*S*Vt.\n",
      "    The rotation matrix is given by: R = U*Vt.\n",
      "\n",
      "    References\n",
      "    ----------\n",
      "    .. [1] Soderkvist, Kedin (1993) Journal of Biomechanics, 26, 1473-1477.\n",
      "    .. [2] http://www.kwon3d.com/theory/jkinem/rotmat.html.\n",
      "    .. [3] http://en.wikipedia.org/wiki/Singular_value_decomposition.\n",
      "\n",
      "\n",
      "    Examples\n",
      "    --------\n",
      "    >>> import numpy as np\n",
      "    >>> A = np.array([[0,0,0], [1,0,0], [ 0,1,0], [ 1,1,0]])  # four markers\n",
      "    >>> B = np.array([[0,0,0], [0,1,0], [-1,0,0], [-1,1,0]])  # four markers\n",
      "    >>> from svdt import svdt\n",
      "    >>> R, L, RMSE = svdt(A, B)\n",
      "    \"\"\"\n",
      "       \n",
      "    Am = np.mean(A, axis=0)           # centroid of m1\n",
      "    Bm = np.mean(B, axis=0)           # centroid of m2\n",
      "    M = np.dot((B - Bm).T, (A - Am))  # considering only rotation\n",
      "    # singular value decomposition\n",
      "    U, S, Vt = np.linalg.svd(M)\n",
      "    # rotation matrix\n",
      "    R = np.dot(U, np.dot(np.diag([1, 1, np.linalg.det(np.dot(U, Vt))]), Vt))  \n",
      "    # translation vector\n",
      "    L = Bm - np.dot(R, Am)\n",
      "    # RMSE\n",
      "    err = 0\n",
      "    for i in range(A.shape[0]):\n",
      "        Bp = np.dot(R, A[i, :]) + L\n",
      "        err += np.sum((Bp - B[i, :])**2)\n",
      "    RMSE = np.sqrt(err/A.shape[0]/3)\n",
      "    \n",
      "    return R, L, RMSE\n",
      "    \n",
      "    \n",
      "def svdts(A, B):\n",
      "    \"\"\"Function to call svdt with markers data of more than one instant.\n",
      "    \n",
      "    See the help of the svdt function.\n",
      "    \n",
      "    A typical use of the svdt function is to calculate the transformation\n",
      "    between A and B (B = R*A + L), where A is the matrix with the markers data\n",
      "    in one instant (the calibration or static trial) and B is the matrix with\n",
      "    the markers data for more than one instant (the dynamic trial).\n",
      "    \n",
      "    Input A as a 1D array [x1,y1,z1,...,xn,yn,zn] where n is the number of\n",
      "    markers and B as a 2D array with the different instants as rows (each row\n",
      "    like in A). The output R has the shape (tn, 3, 3), where tn is the number\n",
      "    of instants, L has the shape (tn, 3), and RMSE has the shape (tn). If tn\n",
      "    is equal to one, the outputs have the same shape as in svdt (the last\n",
      "    dimension of the outputs above is dropped).\n",
      "\n",
      "    See Also\n",
      "    --------\n",
      "    svdt.svdt\n",
      "\n",
      "    Examples\n",
      "    --------\n",
      "    >>> import numpy as np\n",
      "    >>> A = np.array([0,0,0, 1,0,0,  0,1,0,  1,1,0])  # four markers\n",
      "    >>> B = np.array([0,0,0, 0,1,0, -1,0,0, -1,1,0])  # four markers\n",
      "    >>> B = np.vstack((B, B))  # simulate two instants (two rows)\n",
      "    >>> from svdt import svdts\n",
      "    >>> R, L, RMSE = svdts(A, B)\n",
      "    \"\"\"\n",
      "\n",
      "    A = np.reshape(A, (len(A)/3, 3))\n",
      "    B = np.asarray(B)\n",
      "    if B.ndim == 1:\n",
      "        B = np.reshape(B, (len(B)/3, 3))\n",
      "        R, L, RMSE = svdt(A, B)\n",
      "    else:\n",
      "        n = B.shape[0]\n",
      "        R = np.empty((n, 3, 3))\n",
      "        L = np.empty((n, 3))\n",
      "        RMSE = np.empty(n)\n",
      "        for i in range(n):\n",
      "            R[i,:,:], L[i,:], RMSE[i] = svdt(A, np.reshape(B[i, :], A.shape))\n",
      "    \n",
      "    return R, L, RMSE"
     ],
     "language": "python",
     "metadata": {},
     "outputs": []
    },
    {
     "cell_type": "markdown",
     "metadata": {},
     "source": [
      "This function determines the rotation matrix ($R$) and the translation vector ($L$) for a rigid body after the following transformation: $B = R*A + L + err$. Where $A$ and $B$ represents the rigid body in different instants and err is an aleatory noise. $A$ and $B$ are matrices with the marker coordinates at different instants (at least three non-collinear markers are necessary to determine the 3D transformation).   \n",
      "The matrix $A$ can be thought to represent a local coordinate system (but $A$ it's not a basis) and matrix $B$ the global coordinate system. The operation $Pg = R*Pl + L$ calculates the coordinates of the point $Pl$ (expressed in the local coordinate system) in the global coordinate system ($Pg$).\n",
      "    \n",
      "Let's test the `svdt` function:"
     ]
    },
    {
     "cell_type": "code",
     "collapsed": false,
     "input": [
      "# Import the necessary libraries\n",
      "from __future__ import division, print_function\n",
      "import numpy as np\n",
      "import sys\n",
      "sys.path.insert(1, r'./functions')"
     ],
     "language": "python",
     "metadata": {},
     "outputs": [],
     "prompt_number": 2
    },
    {
     "cell_type": "code",
     "collapsed": false,
     "input": [
      "A = np.array([[0,0,0], [1,0,0], [ 0,1,0], [ 1,1,0]])  # four markers\n",
      "B = np.array([[0,0,0], [0,1,0], [-1,0,0], [-1,1,0]])  # four markers\n",
      "from svdt import svdt\n",
      "R, L, RMSE = svdt(A, B)\n",
      "\n",
      "print('Rotation matrix:\\n', np.around(R, 4))\n",
      "print('Translation vector:\\n', np.around(L, 4))\n",
      "print('RMSE:\\n', np.around(RMSE, 4))"
     ],
     "language": "python",
     "metadata": {},
     "outputs": [
      {
       "output_type": "stream",
       "stream": "stdout",
       "text": [
        "Rotation matrix:\n",
        " [[ 0. -1.  0.]\n",
        " [ 1.  0.  0.]\n",
        " [ 0.  0.  1.]]\n",
        "Translation vector:\n",
        " [ 0.  0.  0.]\n",
        "RMSE:\n",
        " 0.0\n"
       ]
      }
     ],
     "prompt_number": 3
    },
    {
     "cell_type": "markdown",
     "metadata": {},
     "source": [
      "For the matrix of a pure rotation around the z axis, the element in the first row and second column is $-sin\\gamma$, which means the rotation was $90^o$, as expected.\n",
      "\n",
      "A typical use of the `svdt` function is to calculate the transformation between $A$ and $B$ ($B = R*A + L$), where $A$ is the matrix with the markers data in one instant (the calibration or static trial) and $B$ is the matrix with the markers data of more than one instant (the dynamic trial).   \n",
      "Input $A$ as a 1D array `[x1,y1,z1,...,xn,yn,zn]` where `n` is the number of markers and $B$ a 2D array with the different instants as rows (like in $A$).   \n",
      "The output $R$ has the shape `(3,3,tn)`, where `tn` is the number of instants, $L$ the shape `(tn,3)`, and $RMSE$ the shape `(tn)`. If `tn` is equal to one, the outputs have the same shape as in `svdt` (the last dimension of the outputs above is dropped).   \n",
      "\n",
      "Let's show this case:"
     ]
    },
    {
     "cell_type": "code",
     "collapsed": false,
     "input": [
      "A = np.array([0,0,0, 1,0,0,  0,1,0,  1,1,0])  # four markers\n",
      "B = np.array([0,0,0, 0,1,0, -1,0,0, -1,1,0])  # four markers\n",
      "B = np.vstack((B, B))  # simulate two instants (two rows)\n",
      "from svdt import svdts\n",
      "R, L, RMSE = svdts(A, B)\n",
      "\n",
      "print('Rotation matrix:\\n', np.around(R, 4))\n",
      "print('Translation vector:\\n', np.around(L, 4))\n",
      "print('RMSE:\\n', np.around(RMSE, 4))"
     ],
     "language": "python",
     "metadata": {},
     "outputs": [
      {
       "output_type": "stream",
       "stream": "stdout",
       "text": [
        "Rotation matrix:\n",
        " [[[ 0. -1.  0.]\n",
        "  [ 1.  0.  0.]\n",
        "  [ 0.  0.  1.]]\n",
        "\n",
        " [[ 0. -1.  0.]\n",
        "  [ 1.  0.  0.]\n",
        "  [ 0.  0.  1.]]]\n",
        "Translation vector:\n",
        " [[ 0.  0.  0.]\n",
        " [ 0.  0.  0.]]\n",
        "RMSE:\n",
        " [ 0.  0.]\n"
       ]
      }
     ],
     "prompt_number": 4
    },
    {
     "cell_type": "heading",
     "level": 2,
     "metadata": {},
     "source": [
      "References"
     ]
    },
    {
     "cell_type": "markdown",
     "metadata": {},
     "source": [
      "- [Cappozzo A, Cappello A, Della Croce U, Pensalfini F (1997) Surface-marker cluster design criteria for 3-D bone movement reconstruction. IEEE Trans Biomed Eng., 44:1165-1174](http://www.ncbi.nlm.nih.gov/pubmed/9401217).\n",
      "- [Challis JH (1995). A procedure for determining rigid body transformation parameters. Journal of Biomechanics, 28, 733-737](http://www.ncbi.nlm.nih.gov/pubmed/7601872).     \n",
      "- [S\u00f6derkvist I, Wedin PA (1993) Determining the movements of the skeleton using well-configured markers. Journal of Biomechanics, 26, 1473-1477](http://www.ncbi.nlm.nih.gov/pubmed/8308052)."
     ]
    }
   ],
   "metadata": {}
  }
 ]
}