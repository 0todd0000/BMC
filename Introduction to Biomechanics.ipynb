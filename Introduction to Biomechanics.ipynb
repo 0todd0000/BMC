{
 "metadata": {
  "name": ""
 },
 "nbformat": 3,
 "nbformat_minor": 0,
 "worksheets": [
  {
   "cells": [
    {
     "cell_type": "heading",
     "level": 1,
     "metadata": {},
     "source": [
      "Introduction to Biomechanics"
     ]
    },
    {
     "cell_type": "markdown",
     "metadata": {},
     "source": [
      "Marcos Duarte"
     ]
    },
    {
     "cell_type": "markdown",
     "metadata": {},
     "source": [
      "> **Biomechanics** is the study of the structure and function of biological systems by means of the methods of mechanics.   \n",
      "(Herbet Hatze, 1974) "
     ]
    },
    {
     "cell_type": "markdown",
     "metadata": {},
     "source": [
      "The Wikipedia page on biomechanics is a good place to start:   \n",
      "\n",
      "<iframe src=http://en.wikipedia.org/wiki/Biomechanics width=890 height=400></iframe>"
     ]
    },
    {
     "cell_type": "markdown",
     "metadata": {},
     "source": [
      "### Branches of mechanics (ergo, add bio- for biomechanics)\n",
      "<div class='center-align'><figure><img src=\"http://upload.wikimedia.org/wikipedia/commons/thumb/e/ea/Mechanics_Overview_Table.jpg/800px-Mechanics_Overview_Table.jpg\" alt=\"Branches of mechanics\"/><figcaption><i>Branches of mechanics  ([from Wikipedia](http://en.wikipedia.org/wiki/Mechanics)).</i></figcaption></div><br> "
     ]
    },
    {
     "cell_type": "markdown",
     "metadata": {},
     "source": [
      "In fact, only a subset of Mechanics matters to Biomechanics,the Classical Mechanics subset, the domain of mechanics for bodies with moderate speeds $(\\ll 3.10^8 m/s!)$ and not very small $(\\gg 3.10^{-9} m!)$ as shown in the following diagram:\n",
      "<div class='center-align'><figure><img src=\"http://upload.wikimedia.org/wikipedia/commons/thumb/f/f0/Physicsdomains.svg/500px-Physicsdomains.svg.png\" alt=\"Domains of mechanics\"/><figcaption><i>Domain of validity for Classical Mechanics  ([from Wikipedia](http://en.wikipedia.org/wiki/Classical_mechanics)).</i></figcaption></div><br> "
     ]
    },
    {
     "cell_type": "markdown",
     "metadata": {},
     "source": [
      "One may argue that since Biomechanics is the application of Mechanics to biological systems, Biomechanics is in fact a branch of Engineering Mechanics, rather than from Physics (yes, the foundations of Engineering Mechanics come from Physics, anyway).\n",
      "\n",
      "So, the branches of Engineering Mechanics are:\n",
      "\n",
      "<div class='center-align'><figure><img src=\"http://upload.wikimedia.org/wikipedia/commons/thumb/1/1b/Engineering_Mechanics_Overview_2.png/800px-Engineering_Mechanics_Overview_2.png\" alt=\"Branches of Engineering Mechanics \"/><figcaption><i>Branches of Engineering Mechanics ([from Wikibooks](http://en.wikibooks.org/wiki/Engineering_Mechanics)).</i></figcaption></div><br> \n",
      "\n",
      "And just for completeness, here are the main branches of Physics studied in Engineering:\n",
      "\n",
      "<div class='center-align'><figure><img src=\"http://upload.wikimedia.org/wikipedia/commons/thumb/a/a6/Tree_of_Mechanics.svg/640px-Tree_of_Mechanics.svg.png\" alt=\"Main branches of Physics studied in Engineering\"/><figcaption><i>Main branches of Physics studied in Engineering ([from Wikibooks](http://en.wikibooks.org/wiki/Engineering_Mechanics)).</i></figcaption></div><br> "
     ]
    },
    {
     "cell_type": "heading",
     "level": 3,
     "metadata": {},
     "source": [
      "Biomechanics & Movement Science"
     ]
    },
    {
     "cell_type": "markdown",
     "metadata": {},
     "source": [
      "> Movement  science  will  be  one  of the  most important  and most recognized  science  fields  in the twenty-first  century... The  future discipline  of  movement  science  has a  unique  opportunity  to  become  an important  contributor  to  the  well-being  of  mankind.   \n",
      "[Nigg  BM  (1993) Sport  science  in  the twenty-first  century. Journal of Sports Sciences, 77, 343-347](http://www.ncbi.nlm.nih.gov/pubmed/8230394)."
     ]
    },
    {
     "cell_type": "markdown",
     "metadata": {},
     "source": [
      "Here are two introductory videos about Biomechanics:"
     ]
    },
    {
     "cell_type": "markdown",
     "metadata": {},
     "source": [
      "<object allowFullScreen='True' allowScriptAccess='always' allowNetworking='all' width='540' height='360'><param name='movie' value='http://www.engineering.com/DesktopModules/UltraVideoGallery/uvg.swf' /><param name='allowFullScreen' value='true' /><param name='flashvars' value='vId=971&portalId=0&baseUrl=http://www.engineering.com/DesktopModules/UltraVideoGallery/' /><embed src='http://www.engineering.com/DesktopModules/UltraVideoGallery/uvg.swf' type='application/x-shockwave-flash' allowFullScreen='True' allowScriptAccess='always' allowNetworking='all' width='540' height='360' flashvars='vId=971&portalId=0&baseUrl=http://www.engineering.com/DesktopModules/UltraVideoGallery/'></embed></object>"
     ]
    },
    {
     "cell_type": "code",
     "collapsed": false,
     "input": [
      "from IPython.display import YouTubeVideo\n",
      "YouTubeVideo('aWUavsk2djI', width=640, height=360, rel=0)"
     ],
     "language": "python",
     "metadata": {},
     "outputs": [
      {
       "html": [
        "\n",
        "        <iframe\n",
        "            width=\"640\"\n",
        "            height=360\"\n",
        "            src=\"http://www.youtube.com/embed/aWUavsk2djI?rel=0\"\n",
        "            frameborder=\"0\"\n",
        "            allowfullscreen\n",
        "        ></iframe>\n",
        "        "
       ],
       "metadata": {},
       "output_type": "pyout",
       "prompt_number": 8,
       "text": [
        "<IPython.lib.display.YouTubeVideo at 0x492f780>"
       ]
      }
     ],
     "prompt_number": 8
    },
    {
     "cell_type": "markdown",
     "metadata": {},
     "source": [
      "### The International Society of Biomechanics\n",
      "The biomechanics community has a scientific society, the [International Society of Biomechanics](http://isbweb.org/), with a journal, the [Journal of Biomechanics](http://www.jbiomech.com), and an e-mail list:   \n",
      "\n",
      "<iframe src=http://biomch-l.isbweb.org/forums/2-General-Discussion width=890 height=400></iframe>"
     ]
    },
    {
     "cell_type": "markdown",
     "metadata": {},
     "source": [
      "### Some of the topics covered in the Journal of Biomechanics\n",
      "<iframe src=http://www.jbiomech.com/aims width=890 height=400></iframe>"
     ]
    },
    {
     "cell_type": "markdown",
     "metadata": {},
     "source": [
      "### History of biomechanics\n",
      "<iframe src=http://www.asbweb.org/html/biomechanics/genealogy/genealogy.htm width=890 height=400></iframe>"
     ]
    },
    {
     "cell_type": "heading",
     "level": 2,
     "metadata": {},
     "source": [
      "Software and data resources on movement analysis"
     ]
    },
    {
     "cell_type": "markdown",
     "metadata": {},
     "source": [
      " - [International Society of Biomechanics software](http://isbweb.org/software/)\n",
      " - [International Society of Biomechanics data](http://isbweb.org/data/)\n",
      " - [Canadian Society for Biomechanics](http://www.health.uottawa.ca/biomech/csb/software.htm)\n",
      " - Here!, ok ... in the near future."
     ]
    },
    {
     "cell_type": "heading",
     "level": 2,
     "metadata": {},
     "source": [
      "[Biomechanics Classes on the Web](http://pages.uoregon.edu/karduna/biomechanics/)"
     ]
    },
    {
     "cell_type": "heading",
     "level": 2,
     "metadata": {},
     "source": [
      "Examples of Biomechanics"
     ]
    },
    {
     "cell_type": "markdown",
     "metadata": {},
     "source": [
      "The possibilities of applying Biomechanics to the understanding of living systems are endless.   \n",
      "Let me show a few examples I've been involved with."
     ]
    },
    {
     "cell_type": "markdown",
     "metadata": {},
     "source": [
      "#### Biomechanical analysis of long jump\n",
      "<iframe src=http://ebm.ufabc.edu.br/leb/salto/ width=890 height=400></iframe>"
     ]
    },
    {
     "cell_type": "markdown",
     "metadata": {},
     "source": [
      "#### Biomechanics of walking in shallow water"
     ]
    },
    {
     "cell_type": "code",
     "collapsed": false,
     "input": [
      "YouTubeVideo('ahmJeCJX3F8', width=640, height=360, rel=0)"
     ],
     "language": "python",
     "metadata": {},
     "outputs": [
      {
       "html": [
        "\n",
        "            <iframe\n",
        "                width=\"640\"\n",
        "                height=\"360\"\n",
        "                src=\"http://www.youtube.com/embed/ahmJeCJX3F8\"\n",
        "                frameborder=\"0\"\n",
        "                allowfullscreen\n",
        "            ></iframe>\n",
        "        "
       ],
       "output_type": "pyout",
       "prompt_number": 9,
       "text": [
        "<IPython.lib.display.YouTubeVideo at 0x3488390>"
       ]
      }
     ],
     "prompt_number": 9
    },
    {
     "cell_type": "markdown",
     "metadata": {},
     "source": [
      "<iframe src=http://ebm.ufabc.edu.br/publications/md/JB11b.pdf width=890 height=400></iframe>"
     ]
    },
    {
     "cell_type": "markdown",
     "metadata": {},
     "source": [
      "### And biomechanics is everywhere..."
     ]
    },
    {
     "cell_type": "markdown",
     "metadata": {},
     "source": [
      "#### Biomechanics of the Bicycle Kick\n",
      "<iframe src=http://ebm.ufabc.edu.br/leb/pele/index.html width=890 height=400></iframe>\n",
      "<iframe src=http://ebm.ufabc.edu.br/wp-content/uploads/2011/12/Estadao2002.jpg width=890 height=400></iframe>"
     ]
    },
    {
     "cell_type": "markdown",
     "metadata": {},
     "source": [
      "#### Movement analysis of expert and non-expert samba dancers"
     ]
    },
    {
     "cell_type": "code",
     "collapsed": false,
     "input": [
      "YouTubeVideo('v7MFKQ89NIE', width=640, height=360, rel=0)"
     ],
     "language": "python",
     "metadata": {},
     "outputs": [
      {
       "html": [
        "\n",
        "            <iframe\n",
        "                width=\"640\"\n",
        "                height=\"360\"\n",
        "                src=\"http://www.youtube.com/embed/v7MFKQ89NIE\"\n",
        "                frameborder=\"0\"\n",
        "                allowfullscreen\n",
        "            ></iframe>\n",
        "        "
       ],
       "output_type": "pyout",
       "prompt_number": 13,
       "text": [
        "<IPython.lib.display.YouTubeVideo at 0x34884d0>"
       ]
      }
     ],
     "prompt_number": 13
    },
    {
     "cell_type": "markdown",
     "metadata": {},
     "source": [
      "<iframe src=http://ebm.ufabc.edu.br/wp-content/uploads/2011/12/OGlobo060311.pdf width=890 height=400></iframe>"
     ]
    },
    {
     "cell_type": "markdown",
     "metadata": {},
     "source": [
      "### References\n",
      "- [Hatze, Herbert (1974) The meaning of the term biomechanics. Journal of Biomechanics, 7: 189\u2013190](http://www.ncbi.nlm.nih.gov/pubmed/4837555)\n",
      "- [Biomechanics - Wikipedia, the free encyclopedia](http://en.wikipedia.org/wiki/Biomechanics)\n",
      "- [Mechanics - Wikipedia, the free encyclopedia](http://en.wikipedia.org/wiki/Mechanics)\n",
      "- [International Society of Biomechanics](http://isbweb.org/)\n",
      "- [Biomech-l, the biomechanics' e-mail list](http://biomch-l.isbweb.org/)\n",
      "- [Journal of Biomechanics' aims](http://www.jbiomech.com/aims)\n",
      "- [Engineering Your Future - Biomechanical Engineer](http://www.youtube.com/watch?feature=player_embedded&v=aWUavsk2djI)\n",
      "- [A Genealogy of Biomechanics](http://www.asbweb.org/html/biomechanics/genealogy/genealogy.htm)\n",
      "- [An\u00e1lise Biomec\u00e2nica do Salto em Dist\u00e2ncia](http://ebm.ufabc.edu.br/leb/salto/)\n",
      "- [Biomechanics of walking in shallow water](http://ebm.ufabc.edu.br/publications/md/JB11b.pdf)\n",
      "- [Biomechanics of the Bicycle Kick](http://ebm.ufabc.edu.br/leb/pele/index.html), [PDF](http://ebm.ufabc.edu.br/wp-content/uploads/2011/12/Estadao2002.jpg)\n",
      "- [An\u00e1lise do movimento de pessoas sambando](http://youtu.be/v7MFKQ89NIE), [PDF](http://ebm.ufabc.edu.br/wp-content/uploads/2011/12/OGlobo060311.pdf)\n",
      "\n",
      "### Notes\n",
      "- This page was created with [IPython Notebook](http://ipython.org/), an interactive environment for scientific programming in [Python](http://python.org/) (Fernando P\u00e9rez, Brian E. Granger, IPython: A System for Interactive Scientific Computing, Computing in Science and Engineering, vol. 9, no. 3, pp. 21-29, May/June 2007, doi:10.1109/MCSE.2007.53. URL: [http://ipython.org](http://ipython.org))."
     ]
    }
   ],
   "metadata": {}
  }
 ]
}