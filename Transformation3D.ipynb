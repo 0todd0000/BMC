{
 "metadata": {
  "name": ""
 },
 "nbformat": 3,
 "nbformat_minor": 0,
 "worksheets": [
  {
   "cells": [
    {
     "cell_type": "heading",
     "level": 1,
     "metadata": {},
     "source": [
      "Rigid-body transformations (three-dimensional)"
     ]
    },
    {
     "cell_type": "markdown",
     "metadata": {},
     "source": [
      "Marcos Duarte"
     ]
    },
    {
     "cell_type": "markdown",
     "metadata": {},
     "source": [
      "We want to describe a translation and rotation of a rigid body in relation to another rigid body in the three-dimensional space. For such, we will attach a coordinate system to each rigid body and determine a rigid transformation between these two coordinate systems. In mathematics, a transformation is any function mapping a set to another set. For the description of the kinematics of rigid bodies, we are interested only in what is called rigid or Euclidean transformations (denoted as SE(3) for the three-dimensional space) because they preserve the distance between every pair of points of the body (which is rigid by definition). Translations and rotations are examples of rigid transformations (a reflection is also an example of rigid transformation but this changes the right-hand axis convention to a left hand, which usually is not of interest). Examples of other (non-rigid) transformations are shear and similarity transformation (which preserves angles but not lengths). \n",
      "\n",
      "For this, we will follow the same rationale adopted in the text [Rigid-body transformations (two-dimensional)](http://nbviewer.ipython.org/urls/raw.github.com/duartexyz/BMC/master/Transformation2D.ipynb) but we will skip the fundamental concepts already covered there. So, you if haven't done yet, you should read that text before continuing here."
     ]
    },
    {
     "cell_type": "heading",
     "level": 2,
     "metadata": {},
     "source": [
      "Translation"
     ]
    },
    {
     "cell_type": "markdown",
     "metadata": {},
     "source": [
      "A pure three-dimensional translation of a rigid body (or a coordinate system attached to it) in relation to other rigid body (with other coordinate system) is illustrated in the figure below:\n",
      "\n",
      "<div class='center-align'><figure><img src='files/images/translation3D.png' alt='translation 3D'/> <figcaption><i>A point in three-dimensional space represented in two coordinate systems, with one system translated.</i></figcaption> </figure></div><br>\n",
      "\n",
      "The position of point **P** originally described in the $xyz$ (local) coordinate system but now described in the $\\mathbf{XYZ}$ (Global) coordinate system in vector form is:\n",
      "\n",
      "$$ \\mathbf{P_G} = \\mathbf{L_G} + \\mathbf{P_l} $$\n",
      "\n",
      "Or in terms of its components:\n",
      "\n",
      "$$ \\mathbf{P_X} = \\mathbf{L_X} + \\mathbf{P}_x $$\n",
      "$$ \\mathbf{P_Y} = \\mathbf{L_Y} + \\mathbf{P}_y $$\n",
      "$$ \\mathbf{P_Z} = \\mathbf{L_Z} + \\mathbf{P}_z $$\n",
      "\n",
      "And in matrix form:\n",
      "\n",
      "$$ \\begin{bmatrix}\n",
      "\\mathbf{P_X} \\\\\n",
      "\\mathbf{P_Y} \\\\\n",
      "\\mathbf{P_Z} \n",
      "\\end{bmatrix} =\n",
      "\\begin{bmatrix}\n",
      "\\mathbf{L_X} \\\\\n",
      "\\mathbf{L_Y} \\\\\n",
      "\\mathbf{L_Z} \n",
      "\\end{bmatrix} +\n",
      "\\begin{bmatrix}\n",
      "\\mathbf{P}_x \\\\\n",
      "\\mathbf{P}_y \\\\\n",
      "\\mathbf{P}_z \n",
      "\\end{bmatrix} $$\n",
      "\n",
      "From classical mechanics, this is an example of [Galilean transformation](http://en.wikipedia.org/wiki/Galilean_transformation).   \n",
      "\n",
      "Let's use Python to compute some numeric examples:"
     ]
    },
    {
     "cell_type": "code",
     "collapsed": false,
     "input": [
      "# Import the necessary libraries\n",
      "from __future__ import division, print_function\n",
      "import numpy as np\n",
      "np.set_printoptions(precision=4, suppress=True)  # suppress scientific notation for small numbers\n",
      "%load_ext autoreload\n",
      "%autoreload 2"
     ],
     "language": "python",
     "metadata": {},
     "outputs": [],
     "prompt_number": 3
    },
    {
     "cell_type": "markdown",
     "metadata": {},
     "source": [
      "For example, if the local coordinate system is translated by $\\mathbf{L_G}=[1, 2, 3]$ in relation to the global coordinate system, a point with coordinates $\\mathbf{P_l}=[4, 5, 6]$ at the local coordinate system will have the position $\\mathbf{P_G}=[5, 7, 9]$ at the global coordinate system:"
     ]
    },
    {
     "cell_type": "code",
     "collapsed": false,
     "input": [
      "LG = np.array([1, 2, 3]) # declare variable as NumPy array (1D array with 2 elements)\n",
      "Pl = np.array([4, 5, 6])\n",
      "PG = LG + Pl\n",
      "PG"
     ],
     "language": "python",
     "metadata": {},
     "outputs": [
      {
       "metadata": {},
       "output_type": "pyout",
       "prompt_number": 4,
       "text": [
        "array([5, 7, 9])"
       ]
      }
     ],
     "prompt_number": 4
    },
    {
     "cell_type": "markdown",
     "metadata": {},
     "source": [
      "This operation also works if we have more than one point (NumPy knows how to handle vectors with different dimensions):"
     ]
    },
    {
     "cell_type": "code",
     "collapsed": false,
     "input": [
      "Pl = np.array([[1, 2, 3], [4, 5, 6], [7, 8, 9]]) # 2D array with 3 rows and two columns\n",
      "PG = LG + Pl\n",
      "PG"
     ],
     "language": "python",
     "metadata": {},
     "outputs": [
      {
       "metadata": {},
       "output_type": "pyout",
       "prompt_number": 5,
       "text": [
        "array([[ 2,  4,  6],\n",
        "       [ 5,  7,  9],\n",
        "       [ 8, 10, 12]])"
       ]
      }
     ],
     "prompt_number": 5
    },
    {
     "cell_type": "heading",
     "level": 2,
     "metadata": {},
     "source": [
      "Rotation"
     ]
    },
    {
     "cell_type": "markdown",
     "metadata": {},
     "source": [
      "A pure three-dimensional rotation of a $xyz$ (local) coordinate system in relation to other $\\mathbf{XYZ}$ (Global) coordinate system and the position of a point in these two coordinate systems are illustrated in the figure below.\n",
      "\n",
      "<div class='center-align'><figure><img src='files/images/rotation3D.png' alt='rotation 3D'/> <figcaption><i>A point in three-dimensional space represented in two coordinate systems, with one system rotated.</i></figcaption> </figure></div><br>\n",
      "\n",
      "In analogy to the rotation in two dimensions, we can calculate the rotation matrix that describes the rotation of the $xyz$ (local) coordinate system in relation to the $\\mathbf{XYZ}$ (Global) coordinate system using the direction cosines between the axes of the two coordinate systems:\n",
      "\n",
      "$$ \\mathbf{R_{Gl}} = \\begin{bmatrix}\n",
      "cos\\mathbf{X}x & cos\\mathbf{X}y & cos\\mathbf{X}z \\\\\n",
      "cos\\mathbf{Y}x & cos\\mathbf{Y}y & cos\\mathbf{Y}z \\\\\n",
      "cos\\mathbf{Z}x & cos\\mathbf{Z}y & cos\\mathbf{Z}z\n",
      "\\end{bmatrix} $$\n",
      "\n",
      "Note however that for rotations around more than one axis, these angles will not lie in the main planes ($\\mathbf{XY, YZ, ZX}$) of the $\\mathbf{XYZ}$ coordinate system, as illustrated in the figure below for the direction angles of the *y* axis only, so the determination of these angles by simple inspection, as we have done for the two-dimensional case, is not simple.\n",
      "\n",
      "<div class='center-align'><figure><img src='files/images/directioncosine3D.png' width=260 alt='direction angles 3D'/> <figcaption><i>Definition of direction angles for the $y$ axis of the local coordinate system in relation to the $\\mathbf{XYZ}$ Global coordinate system.</i></figcaption> </figure></div><br>\n",
      "\n",
      "The nine angles shown in the matrix above are obviously redundant since only three angles are necessary to describe the orientation of a rigid body in the three-dimensional space (and we need other three coordinates to describe its position, totalizing six degrees of freedom for a rigid body in the three-dimensional space). \n",
      "\n",
      "An important characteristic of angles in the three-dimensional space is that angles cannot be treated as vectors: the result of a sequence of rotations of a rigid body around different axes depends on the order of the rotations, as illustrates next.\n",
      "\n",
      "<div class='center-align'><figure><img src='files/images/rotationsseqs.png' alt='rotations'/> <figcaption><i>The result of a sequence of rotations around different axes of a coordinate system depends on the order of the rotations. In the first example (first row), the rotations are around a global (fixed) coordinate system. In the second example (second row), the rotations are around a local (rotating) coordinate system.</i></figcaption> </figure></div><br>"
     ]
    },
    {
     "cell_type": "heading",
     "level": 3,
     "metadata": {},
     "source": [
      "Euler angles"
     ]
    },
    {
     "cell_type": "markdown",
     "metadata": {},
     "source": [
      "One solution to handle rotations in the three-dimensional space is to use Euler (or Eulerian) angles.\n",
      "\n",
      "Leonhard Euler in the XVIII century showed that two three-dimensional coordinate systems with a common origin can be related by a sequence of up to three elemental rotations about the axes of the local coordinate system, where no two successive rotations may be about the same axis, known as [Euler angles](http://en.wikipedia.org/wiki/Euler_angles).   \n",
      "\n",
      "First, let's see rotations around the fixed Global coordinate system as we did for the two-dimensional case. The figure below illustrates elemental rotations of the local coordinate system around each axis of the fixed Global coordinate system.\n",
      "\n",
      "<div class='center-align'><figure><img src='files/images/rotations.png' alt='rotations'/> <figcaption><i>Elemental rotations of the $xyz$ coordinate system around each axis, $\\mathbf{X}$, $\\mathbf{Y}$, and $\\mathbf{Z}$, of the fixed $\\mathbf{XYZ}$ coordinate system. Note that for better clarity, the axis around where the rotation occurs is shown perpencular to this page for each elemental rotation.</i></figcaption> </figure></div><br>\n",
      "\n",
      "The rotation matrices for the elemental rotations around each axis of the fixed $\\mathbf{XYZ}$ coordinate system (rotations of the local coordinate system in relation to the Global coordinate system) are shown next.\n",
      "\n",
      "Around $\\mathbf{X}$ axis: \n",
      "\n",
      "$$ \\mathbf{R_{Gl,\\;X}} = \n",
      "\\begin{bmatrix}\n",
      "1 & 0 & 0 \\\\\n",
      "0 & cos\\alpha & -sin\\alpha \\\\\n",
      "0 & sin\\alpha & cos\\alpha\n",
      "\\end{bmatrix} $$\n",
      "\n",
      "Around $\\mathbf{Y}$ axis: \n",
      "\n",
      "$$ \\mathbf{R_{Gl,\\;Y}} = \n",
      "\\begin{bmatrix}\n",
      "cos\\beta & 0 & sin\\beta \\\\\n",
      "0 & 1 & 0 \\\\\n",
      "-sin\\beta & 0 & cos\\beta\n",
      "\\end{bmatrix} $$\n",
      "\n",
      "Around $\\mathbf{Z}$ axis: \n",
      "\n",
      "$$ \\mathbf{R_{Gl,\\;Z}} = \n",
      "\\begin{bmatrix}\n",
      "cos\\gamma & -sin\\gamma & 0\\\\\n",
      "sin\\gamma & cos\\gamma & 0 \\\\\n",
      "0 & 0 & 1\n",
      "\\end{bmatrix} $$\n",
      "\n",
      "These matrices are the rotation matrix for the case of two-dimensional coordinate systems plus the corresponding terms for the third axes of the local and Global coordinate systems, which are pararel.   \n",
      "To understand why the terms for the third axes are 1's or 0's, for instance, remember they represent the cosine directors. The cosines between $\\mathbf{X}x$, $\\mathbf{Y}y$, and $\\mathbf{Z}z$ for the elemental rotations around respectively the $\\mathbf{X}$, $\\mathbf{Y}$, and $\\mathbf{Z}$ axes are all 1 because $\\mathbf{X}x$, $\\mathbf{Y}y$, and $\\mathbf{Z}z$ are pararel ($cos 0^o$). The cosines of the other elements are zero because the axis around where each rotation occurs is perpendicular to the other axes of the coordinate systems ($cos 90^o$).\n",
      "\n",
      "The rotation matrices for the elemental rotations this time around each axis of the $xyz$ coordinate system (rotations of the Global coordinate system in relation to the local coordinate system), similarly to the two-dimensional case, are simplily the transpose of the above matrices as shown next.\n",
      "\n",
      "Around $x$ axis: \n",
      "\n",
      "$$ \\mathbf{R}_{\\mathbf{lG},\\;x} = \n",
      "\\begin{bmatrix}\n",
      "1 & 0 & 0 \\\\\n",
      "0 & cos\\alpha & sin\\alpha \\\\\n",
      "0 & -sin\\alpha & cos\\alpha\n",
      "\\end{bmatrix} $$\n",
      "\n",
      "Around $y$ axis: \n",
      "\n",
      "$$ \\mathbf{R}_{\\mathbf{lG},\\;y} = \n",
      "\\begin{bmatrix}\n",
      "cos\\beta & 0 & -sin\\beta \\\\\n",
      "0 & 1 & 0 \\\\\n",
      "sin\\beta & 0 & cos\\beta\n",
      "\\end{bmatrix} $$\n",
      "\n",
      "Around $z$ axis: \n",
      "\n",
      "$$ \\mathbf{R}_{\\mathbf{lG},\\;z} = \n",
      "\\begin{bmatrix}\n",
      "cos\\gamma & sin\\gamma & 0\\\\\n",
      "-sin\\gamma & cos\\gamma & 0 \\\\\n",
      "0 & 0 & 1\n",
      "\\end{bmatrix} $$\n",
      "\n",
      "Notice this is equivalent to instead of rotating the local coordinate system by $\\alpha, \\beta, \\gamma$ in relation to axes of the global coordinate system, to rotate the global coordinate system by $-\\alpha, -\\beta, -\\gamma$ in relation to the axes of the local coordinate system; remember that $cos(-\\:\\cdot)=cos(\\cdot)$ and $sin(-\\:\\cdot)=-sin(\\cdot)$.\n",
      "\n",
      "The fact that we chose to rotate the local coordinate system by a counterclockwise (positive) angle in relation to the global coordinate system is just a matter of convention."
     ]
    },
    {
     "cell_type": "markdown",
     "metadata": {},
     "source": [
      "Consider now a sequence of elemental rotations around the $\\mathbf{X}$, $\\mathbf{Y}$, and $\\mathbf{Z}$ axes of the fixed $\\mathbf{XYZ}$ coordinate system illustrated in the figure below. \n",
      "\n",
      "<div class='center-align'><figure><img src='files/images/rotations_XYZ.png' alt='rotations'/> <figcaption><i>Sequence of elemental rotations of the $xyz$ coordinate system around each axis, $\\mathbf{X}$, $\\mathbf{Y}$, and $\\mathbf{Z}$, of the fixed $\\mathbf{XYZ}$ coordinate system.</i></figcaption> </figure></div><br>\n",
      "\n",
      "This sequence of elemental rotations (each one of the local coordinate system with respect to the fixed Global coordinate system) is mathematically represented by a multiplication between the rotation matrices:\n",
      "\n",
      "$$ \\begin{array}{l l}\n",
      "\\mathbf{R_{Gl,\\;XYZ}} & = \\mathbf{R_{Z}} \\mathbf{R_{Y}} \\mathbf{R_{X}} \\\\\n",
      "& = \\begin{bmatrix}\n",
      "cos\\gamma & -sin\\gamma & 0\\\\\n",
      "sin\\gamma & cos\\gamma & 0 \\\\\n",
      "0 & 0 & 1\n",
      "\\end{bmatrix}\n",
      "\\begin{bmatrix}\n",
      "cos\\beta & 0 & sin\\beta \\\\\n",
      "0 & 1 & 0 \\\\\n",
      "-sin\\beta & 0 & cos\\beta\n",
      "\\end{bmatrix}\n",
      "\\begin{bmatrix}\n",
      "1 & 0 & 0 \\\\\n",
      "0 & cos\\alpha & -sin\\alpha \\\\\n",
      "0 & sin\\alpha & cos\\alpha\n",
      "\\end{bmatrix} \\\\\n",
      "& =\n",
      "\\begin{bmatrix}\n",
      "cos\\beta\\:cos\\gamma \\;&\\;\n",
      "sin\\alpha\\:sin\\beta\\:cos\\gamma-cos\\alpha\\:sin\\gamma \\;&\\;\n",
      "cos\\alpha\\:sin\\beta\\:cos\\gamma+sin\\alpha\\:sin\\gamma \\;\\;\\; \\\\\n",
      "cos\\beta\\:sin\\gamma \\;&\\;\n",
      "sin\\alpha\\:sin\\beta\\:sin\\gamma+cos\\alpha\\:cos\\gamma \\;&\\;\n",
      "cos\\alpha\\:sin\\beta\\:sin\\gamma-sin\\alpha\\:cos\\gamma \\;\\;\\;  \\\\\n",
      "-sin\\beta \\;&\\; sin\\alpha\\:cos\\beta \\;&\\; cos\\alpha\\:cos\\beta \\;\\;\\;\n",
      "\\end{bmatrix} \n",
      "\\end{array} $$\n",
      "\n",
      "Note that the order of the multiplication of the matrices is from right to left (first the second rightmost matrix times the rightmost matrix, then the leftmost matrix times this result).   \n",
      "\n",
      "We can check this matrix multiplication using [Sympy](http://sympy.org/en/index.html):"
     ]
    },
    {
     "cell_type": "code",
     "collapsed": false,
     "input": [
      "#import the necessary libraries\n",
      "from IPython.core.display import Math, display\n",
      "import sympy as sym\n",
      "cos, sin = sym.cos, sym.sin\n",
      "\n",
      "a, b, g = sym.symbols('alpha, beta, gamma')\n",
      "\n",
      "# Elemental rotation matrices of xyz in relation to XYZ:\n",
      "RX = sym.Matrix([[1, 0, 0], [0, cos(a), -sin(a)], [0, sin(a), cos(a)]])\n",
      "RY = sym.Matrix([[cos(b), 0, sin(b)], [0, 1, 0], [-sin(b), 0, cos(b)]])\n",
      "RZ = sym.Matrix([[cos(g), -sin(g), 0], [sin(g), cos(g), 0], [0, 0, 1]])\n",
      "\n",
      "# Rotation matrix of xyz in relation to XYZ:\n",
      "RXYZ = RZ*RY*RX\n",
      "\n",
      "display(Math(sym.latex(r'\\mathbf{R_{Gl,\\;XYZ}}=') + sym.latex(RXYZ, mat_str='matrix')))"
     ],
     "language": "python",
     "metadata": {},
     "outputs": [
      {
       "latex": [
        "$$\\mathbf{R_{Gl,\\;XYZ}}=\\left[\\begin{matrix}\\cos{\\left (\\beta \\right )} \\cos{\\left (\\gamma \\right )} & \\sin{\\left (\\alpha \\right )} \\sin{\\left (\\beta \\right )} \\cos{\\left (\\gamma \\right )} - \\sin{\\left (\\gamma \\right )} \\cos{\\left (\\alpha \\right )} & \\sin{\\left (\\alpha \\right )} \\sin{\\left (\\gamma \\right )} + \\sin{\\left (\\beta \\right )} \\cos{\\left (\\alpha \\right )} \\cos{\\left (\\gamma \\right )}\\\\\\sin{\\left (\\gamma \\right )} \\cos{\\left (\\beta \\right )} & \\sin{\\left (\\alpha \\right )} \\sin{\\left (\\beta \\right )} \\sin{\\left (\\gamma \\right )} + \\cos{\\left (\\alpha \\right )} \\cos{\\left (\\gamma \\right )} & - \\sin{\\left (\\alpha \\right )} \\cos{\\left (\\gamma \\right )} + \\sin{\\left (\\beta \\right )} \\sin{\\left (\\gamma \\right )} \\cos{\\left (\\alpha \\right )}\\\\- \\sin{\\left (\\beta \\right )} & \\sin{\\left (\\alpha \\right )} \\cos{\\left (\\beta \\right )} & \\cos{\\left (\\alpha \\right )} \\cos{\\left (\\beta \\right )}\\end{matrix}\\right]$$"
       ],
       "metadata": {},
       "output_type": "display_data",
       "text": [
        "<IPython.core.display.Math at 0x702a4e0>"
       ]
      }
     ],
     "prompt_number": 6
    },
    {
     "cell_type": "markdown",
     "metadata": {},
     "source": [
      "And we can calculate the numerical rotation matrix for these sequential elemental rotations by $90^o$ around $\\mathbf{X,Y,Z}$:"
     ]
    },
    {
     "cell_type": "code",
     "collapsed": false,
     "input": [
      "R = sym.lambdify((a, b, g), RXYZ, 'numpy')\n",
      "R = R(np.pi/2, np.pi/2, np.pi/2)\n",
      "display(Math(r'\\mathbf{R_{Gl,\\;XYZ}}(90^o, 90^o, 90^o) =' + \\\n",
      "             sym.latex(sym.Matrix(R).n(chop=True, prec=3))))"
     ],
     "language": "python",
     "metadata": {},
     "outputs": [
      {
       "latex": [
        "$$\\mathbf{R_{Gl,\\;XYZ}}(90^o, 90^o, 90^o) =\\left[\\begin{matrix}0 & 0 & 1.0\\\\0 & 1.0 & 0\\\\-1.0 & 0 & 0\\end{matrix}\\right]$$"
       ],
       "metadata": {},
       "output_type": "display_data",
       "text": [
        "<IPython.core.display.Math at 0x461ae48>"
       ]
      }
     ],
     "prompt_number": 7
    },
    {
     "cell_type": "markdown",
     "metadata": {},
     "source": [
      "Examining the above matrix and the correspondent above figure, one can see they agree: the rotated $x$ axis (first column of the above matrix) has value -1 in the $\\mathbf{Z}$ direction $[0,0,-1]$, the rotated $y$ axis (second column) is at the $\\mathbf{Y}$ direction $[0,1,0]$, and the rotated $z$ axis (third column) is at the $\\mathbf{X}$ direction $[1,0,0]$."
     ]
    },
    {
     "cell_type": "markdown",
     "metadata": {},
     "source": [
      "We can also calculate the sequence of elemental rotations around the $x$, $y$, and $z$ axes of the rotating $xyz$ coordinate system illustrated in the figure below. \n",
      "\n",
      "<div class='center-align'><figure><img src='files/images/rotations_xyz2.png' alt='rotations'/> <figcaption><i>Sequence of elemental rotations of a second $xyz$ local coordinate system around each axis, $x$, $y$, and $z$, of the rotating $xyz$ coordinate system.</i></figcaption> </figure></div><br>\n",
      "\n",
      "Likewise, this sequence of elemental rotations (each one of the local coordinate system with respect to the rotating local coordinate system) is mathematically represented by a multiplication between the rotation matrices (which are the inverse of the matrices for the rotations around $\\mathbf{X,Y,Z}$ as we saw earlier):\n",
      "\n",
      "$$ \\begin{array}{l l}\n",
      "\\mathbf{R}_{\\mathbf{lG},\\;xyz} & = \\mathbf{R_{z}} \\mathbf{R_{y}} \\mathbf{R_{x}} \\\\\n",
      "& = \\begin{bmatrix}\n",
      "cos\\gamma & sin\\gamma & 0\\\\\n",
      "-sin\\gamma & cos\\gamma & 0 \\\\\n",
      "0 & 0 & 1\n",
      "\\end{bmatrix}\n",
      "\\begin{bmatrix}\n",
      "cos\\beta & 0 & -sin\\beta \\\\\n",
      "0 & 1 & 0 \\\\\n",
      "sin\\beta & 0 & cos\\beta\n",
      "\\end{bmatrix}\n",
      "\\begin{bmatrix}\n",
      "1 & 0 & 0 \\\\\n",
      "0 & cos\\alpha & sin\\alpha \\\\\n",
      "0 & -sin\\alpha & cos\\alpha\n",
      "\\end{bmatrix} \\\\\n",
      "& =\n",
      "\\begin{bmatrix}\n",
      "cos\\beta\\:cos\\gamma \\;&\\;\n",
      "sin\\alpha\\:sin\\beta\\:cos\\gamma+cos\\alpha\\:sin\\gamma \\;&\\;\n",
      "cos\\alpha\\:sin\\beta\\:cos\\gamma-sin\\alpha\\:sin\\gamma \\;\\;\\; \\\\\n",
      "-cos\\beta\\:sin\\gamma \\;&\\;\n",
      "-sin\\alpha\\:sin\\beta\\:sin\\gamma+cos\\alpha\\:cos\\gamma \\;&\\;\n",
      "cos\\alpha\\:sin\\beta\\:sin\\gamma+sin\\alpha\\:cos\\gamma \\;\\;\\;  \\\\\n",
      "sin\\beta \\;&\\; -sin\\alpha\\:cos\\beta \\;&\\; cos\\alpha\\:cos\\beta \\;\\;\\;\n",
      "\\end{bmatrix} \n",
      "\\end{array} $$\n",
      "\n",
      "As before, the order of the multiplication of the matrices is from right to left (first the second rightmost matrix times the rightmost matrix, then the leftmost matrix times this result).   \n",
      "\n",
      "Once again, we can check this matrix multiplication using [Sympy](http://sympy.org/en/index.html):"
     ]
    },
    {
     "cell_type": "code",
     "collapsed": false,
     "input": [
      "a, b, g = sym.symbols('alpha, beta, gamma')\n",
      "# Elemental rotation matrices of xyz (local):\n",
      "Rx = sym.Matrix([[1, 0, 0], [0, cos(a), sin(a)], [0, -sin(a), cos(a)]])\n",
      "Ry = sym.Matrix([[cos(b), 0, -sin(b)], [0, 1, 0], [sin(b), 0, cos(b)]])\n",
      "Rz = sym.Matrix([[cos(g), sin(g), 0], [-sin(g), cos(g), 0], [0, 0, 1]])\n",
      "# Rotation matrix of xyz' in relation to xyz:\n",
      "Rxyz = Rz*Ry*Rx\n",
      "Math(sym.latex(r'\\mathbf{R}_{\\mathbf{lG},\\;xyz}=') + sym.latex(Rxyz, mat_str='matrix'))"
     ],
     "language": "python",
     "metadata": {},
     "outputs": [
      {
       "latex": [
        "$$\\mathbf{R}_{\\mathbf{lG},\\;xyz}=\\left[\\begin{matrix}\\cos{\\left (\\beta \\right )} \\cos{\\left (\\gamma \\right )} & \\sin{\\left (\\alpha \\right )} \\sin{\\left (\\beta \\right )} \\cos{\\left (\\gamma \\right )} + \\sin{\\left (\\gamma \\right )} \\cos{\\left (\\alpha \\right )} & \\sin{\\left (\\alpha \\right )} \\sin{\\left (\\gamma \\right )} - \\sin{\\left (\\beta \\right )} \\cos{\\left (\\alpha \\right )} \\cos{\\left (\\gamma \\right )}\\\\- \\sin{\\left (\\gamma \\right )} \\cos{\\left (\\beta \\right )} & - \\sin{\\left (\\alpha \\right )} \\sin{\\left (\\beta \\right )} \\sin{\\left (\\gamma \\right )} + \\cos{\\left (\\alpha \\right )} \\cos{\\left (\\gamma \\right )} & \\sin{\\left (\\alpha \\right )} \\cos{\\left (\\gamma \\right )} + \\sin{\\left (\\beta \\right )} \\sin{\\left (\\gamma \\right )} \\cos{\\left (\\alpha \\right )}\\\\\\sin{\\left (\\beta \\right )} & - \\sin{\\left (\\alpha \\right )} \\cos{\\left (\\beta \\right )} & \\cos{\\left (\\alpha \\right )} \\cos{\\left (\\beta \\right )}\\end{matrix}\\right]$$"
       ],
       "metadata": {},
       "output_type": "pyout",
       "prompt_number": 8,
       "text": [
        "<IPython.core.display.Math at 0x463a6d8>"
       ]
      }
     ],
     "prompt_number": 8
    },
    {
     "cell_type": "markdown",
     "metadata": {},
     "source": [
      "We can also calculate the numerical rotation matrix for these sequential elemental rotations by $90^o$ around $x,y,z$:"
     ]
    },
    {
     "cell_type": "code",
     "collapsed": false,
     "input": [
      "R = sym.lambdify((a, b, g), Rxyz, 'numpy')\n",
      "R = R(np.pi/2, np.pi/2, np.pi/2)\n",
      "display(Math(r'\\mathbf{R}_{\\mathbf{lG},\\;xyz}(90^o, 90^o, 90^o) =' + \\\n",
      "             sym.latex(sym.Matrix(R).n(chop=True, prec=3))))"
     ],
     "language": "python",
     "metadata": {},
     "outputs": [
      {
       "latex": [
        "$$\\mathbf{R}_{\\mathbf{lG},\\;xyz}(90^o, 90^o, 90^o) =\\left[\\begin{matrix}0 & 0 & 1.0\\\\0 & -1.0 & 0\\\\1.0 & 0 & 0\\end{matrix}\\right]$$"
       ],
       "metadata": {},
       "output_type": "display_data",
       "text": [
        "<IPython.core.display.Math at 0x7496588>"
       ]
      }
     ],
     "prompt_number": 10
    },
    {
     "cell_type": "markdown",
     "metadata": {},
     "source": [
      "Examining the above matrix and the correspondent above figure, one can see they also agree: the rotated $x$ axis (first column of the above matrix) is at the $\\mathbf{Z}$ direction $[0,0,1]$, the rotated $y$ axis (second column) is at the $\\mathbf{-Y}$ direction $[0,-1,0]$, and the rotated $z$ axis (third column) is at the $\\mathbf{X}$ direction $[1,0,0]$."
     ]
    },
    {
     "cell_type": "markdown",
     "metadata": {},
     "source": [
      "Examining the $\\mathbf{R_{Gl,\\;XYZ}}$ and $\\mathbf{R}_{lG,\\;xyz}$ matrices one can see that negating the angles from one of the matrices results in the other matrix. That is, the rotations of $xyz$ in relation to $\\mathbf{XYZ}$ by $\\alpha, \\beta, \\gamma$ result in the same matrix as the rotations of $\\mathbf{XYZ}$ in relation to $xyz$  by $-\\alpha, -\\beta, -\\gamma$, as we saw for the elemental rotations.   \n",
      "Let's check that:"
     ]
    },
    {
     "cell_type": "code",
     "collapsed": false,
     "input": [
      "# Rotation matrix of xyz in relation to XYZ:\n",
      "display(Math(sym.latex(r'\\mathbf{R_{GL,\\;XYZ}}(\\alpha,\\beta,\\gamma)\\;\\;\\;\\;\\:=') + \\\n",
      "             sym.latex(RXYZ, mat_str='matrix')))\n",
      "\n",
      "# Elemental rotation matrices of XYZ in relation to xyz and negate all the angles:\n",
      "Rx_n = sym.Matrix([[1, 0, 0], [0, cos(-a), -sin(-a)], [0, sin(-a), cos(-a)]]).T\n",
      "Ry_n = sym.Matrix([[cos(-b), 0, sin(-b)], [0, 1, 0], [-sin(-b), 0, cos(-b)]]).T\n",
      "Rz_n = sym.Matrix([[cos(-g), -sin(-g), 0], [sin(-g), cos(-g), 0], [0, 0, 1]]).T\n",
      "\n",
      "# Rotation matrix of XYZ in relation to xyz:\n",
      "Rxyz_n = Rz_n*Ry_n*Rx_n\n",
      "display(Math(sym.latex(r'\\mathbf{R}_{\\mathbf{lG},\\;xyz}(-\\alpha,-\\beta,-\\gamma)=') + \\\n",
      "                       sym.latex(Rxyz_n, mat_str='matrix')))\n",
      "\n",
      "# Check that the two matrices are equal:\n",
      "display(Math(sym.latex(r'\\mathbf{R_{GL,\\;XYZ}}(\\alpha,\\beta,\\gamma) \\;==\\;' + \\\n",
      "                       r'\\mathbf{R}_{\\mathbf{lG},\\;xyz}(-\\alpha,-\\beta,-\\gamma)')))\n",
      "RXYZ == Rxyz_n"
     ],
     "language": "python",
     "metadata": {},
     "outputs": [
      {
       "latex": [
        "$$\\mathbf{R_{GL,\\;XYZ}}(\\alpha,\\beta,\\gamma)\\;\\;\\;\\;\\:=\\left[\\begin{matrix}\\cos{\\left (\\beta \\right )} \\cos{\\left (\\gamma \\right )} & \\sin{\\left (\\alpha \\right )} \\sin{\\left (\\beta \\right )} \\cos{\\left (\\gamma \\right )} - \\sin{\\left (\\gamma \\right )} \\cos{\\left (\\alpha \\right )} & \\sin{\\left (\\alpha \\right )} \\sin{\\left (\\gamma \\right )} + \\sin{\\left (\\beta \\right )} \\cos{\\left (\\alpha \\right )} \\cos{\\left (\\gamma \\right )}\\\\\\sin{\\left (\\gamma \\right )} \\cos{\\left (\\beta \\right )} & \\sin{\\left (\\alpha \\right )} \\sin{\\left (\\beta \\right )} \\sin{\\left (\\gamma \\right )} + \\cos{\\left (\\alpha \\right )} \\cos{\\left (\\gamma \\right )} & - \\sin{\\left (\\alpha \\right )} \\cos{\\left (\\gamma \\right )} + \\sin{\\left (\\beta \\right )} \\sin{\\left (\\gamma \\right )} \\cos{\\left (\\alpha \\right )}\\\\- \\sin{\\left (\\beta \\right )} & \\sin{\\left (\\alpha \\right )} \\cos{\\left (\\beta \\right )} & \\cos{\\left (\\alpha \\right )} \\cos{\\left (\\beta \\right )}\\end{matrix}\\right]$$"
       ],
       "metadata": {},
       "output_type": "display_data",
       "text": [
        "<IPython.core.display.Math at 0x74a7c50>"
       ]
      },
      {
       "latex": [
        "$$\\mathbf{R}_{\\mathbf{lG},\\;xyz}(-\\alpha,-\\beta,-\\gamma)=\\left[\\begin{matrix}\\cos{\\left (\\beta \\right )} \\cos{\\left (\\gamma \\right )} & \\sin{\\left (\\alpha \\right )} \\sin{\\left (\\beta \\right )} \\cos{\\left (\\gamma \\right )} - \\sin{\\left (\\gamma \\right )} \\cos{\\left (\\alpha \\right )} & \\sin{\\left (\\alpha \\right )} \\sin{\\left (\\gamma \\right )} + \\sin{\\left (\\beta \\right )} \\cos{\\left (\\alpha \\right )} \\cos{\\left (\\gamma \\right )}\\\\\\sin{\\left (\\gamma \\right )} \\cos{\\left (\\beta \\right )} & \\sin{\\left (\\alpha \\right )} \\sin{\\left (\\beta \\right )} \\sin{\\left (\\gamma \\right )} + \\cos{\\left (\\alpha \\right )} \\cos{\\left (\\gamma \\right )} & - \\sin{\\left (\\alpha \\right )} \\cos{\\left (\\gamma \\right )} + \\sin{\\left (\\beta \\right )} \\sin{\\left (\\gamma \\right )} \\cos{\\left (\\alpha \\right )}\\\\- \\sin{\\left (\\beta \\right )} & \\sin{\\left (\\alpha \\right )} \\cos{\\left (\\beta \\right )} & \\cos{\\left (\\alpha \\right )} \\cos{\\left (\\beta \\right )}\\end{matrix}\\right]$$"
       ],
       "metadata": {},
       "output_type": "display_data",
       "text": [
        "<IPython.core.display.Math at 0x74a7d68>"
       ]
      },
      {
       "latex": [
        "$$\\mathbf{R_{GL,\\;XYZ}}(\\alpha,\\beta,\\gamma) \\;==\\;\\mathbf{R}_{\\mathbf{lG},\\;xyz}(-\\alpha,-\\beta,-\\gamma)$$"
       ],
       "metadata": {},
       "output_type": "display_data",
       "text": [
        "<IPython.core.display.Math at 0x74a7cf8>"
       ]
      },
      {
       "metadata": {},
       "output_type": "pyout",
       "prompt_number": 11,
       "text": [
        "True"
       ]
      }
     ],
     "prompt_number": 11
    },
    {
     "cell_type": "markdown",
     "metadata": {},
     "source": [
      "There is another property of the rotation matrices for the different coordinate systems: the rotation matrix, for example from the Global to the local coordinate system for the $xyz$ sequence, is just the transpose of the rotation matrix for the inverse operation (from the local to the Global coordinate system) of the inverse sequence ($\\mathbf{ZYX}$) and vice-versa:"
     ]
    },
    {
     "cell_type": "code",
     "collapsed": false,
     "input": [
      "RZYX = RX*RY*RZ\n",
      "display(Math(sym.latex(r'\\mathbf{R_{Gl,\\;ZYX}^T}=') + sym.latex(RZYX.T, mat_str='matrix')))\n",
      "\n",
      "display(Math(sym.latex(r'\\mathbf{R}_{\\mathbf{lG},\\;xyz}(\\alpha,\\beta,\\gamma) \\;==\\;' + \\\n",
      "                       r'\\mathbf{R_{Gl,\\;ZYX}^T}(\\gamma,\\beta,\\alpha)')))\n",
      "Rxyz == RZYX.T"
     ],
     "language": "python",
     "metadata": {},
     "outputs": [
      {
       "latex": [
        "$$\\mathbf{R_{Gl,\\;ZYX}^T}=\\left[\\begin{matrix}\\cos{\\left (\\beta \\right )} \\cos{\\left (\\gamma \\right )} & \\sin{\\left (\\alpha \\right )} \\sin{\\left (\\beta \\right )} \\cos{\\left (\\gamma \\right )} + \\sin{\\left (\\gamma \\right )} \\cos{\\left (\\alpha \\right )} & \\sin{\\left (\\alpha \\right )} \\sin{\\left (\\gamma \\right )} - \\sin{\\left (\\beta \\right )} \\cos{\\left (\\alpha \\right )} \\cos{\\left (\\gamma \\right )}\\\\- \\sin{\\left (\\gamma \\right )} \\cos{\\left (\\beta \\right )} & - \\sin{\\left (\\alpha \\right )} \\sin{\\left (\\beta \\right )} \\sin{\\left (\\gamma \\right )} + \\cos{\\left (\\alpha \\right )} \\cos{\\left (\\gamma \\right )} & \\sin{\\left (\\alpha \\right )} \\cos{\\left (\\gamma \\right )} + \\sin{\\left (\\beta \\right )} \\sin{\\left (\\gamma \\right )} \\cos{\\left (\\alpha \\right )}\\\\\\sin{\\left (\\beta \\right )} & - \\sin{\\left (\\alpha \\right )} \\cos{\\left (\\beta \\right )} & \\cos{\\left (\\alpha \\right )} \\cos{\\left (\\beta \\right )}\\end{matrix}\\right]$$"
       ],
       "metadata": {},
       "output_type": "display_data",
       "text": [
        "<IPython.core.display.Math at 0x74a74a8>"
       ]
      },
      {
       "latex": [
        "$$\\mathbf{R}_{\\mathbf{lG},\\;xyz}(\\alpha,\\beta,\\gamma) \\;==\\;\\mathbf{R_{Gl,\\;ZYX}^T}(\\gamma,\\beta,\\alpha)$$"
       ],
       "metadata": {},
       "output_type": "display_data",
       "text": [
        "<IPython.core.display.Math at 0x74a7668>"
       ]
      },
      {
       "metadata": {},
       "output_type": "pyout",
       "prompt_number": 12,
       "text": [
        "True"
       ]
      }
     ],
     "prompt_number": 12
    },
    {
     "cell_type": "markdown",
     "metadata": {},
     "source": [
      "**The 12 different sequences of Euler angles**\n",
      "\n",
      "The Euler angles are defined in terms of rotations around a rotating local coordinate system. As we saw, the axes of the local rotated coordinate system are not fixed in space because after the first elemental rotation, the other two axes rotate. \n",
      "\n",
      "Other sequences of rotations could be produced; without combining axes of the two different coordinate systems (Global and local) for the definition of the rotation axes, there is a total of 12 different sequences of three elemental rotations that are valid and may be used for describing the rotation of a coordinate system with respect to another coordinate system:\n",
      "\n",
      "$$ xyz\\;\\;-\\;\\; xzy\\;\\;-\\;\\; yzx\\;\\;-\\;\\; yxz\\;\\;-\\;\\; zxy\\;\\;-\\;\\; zyx  $$\n",
      "$$ xyx\\;\\;-\\;\\; xzx\\;\\;-\\;\\; yzy\\;\\;-\\;\\; yxy\\;\\;-\\;\\; zxz\\;\\;-\\;\\; zyz  $$\n",
      "\n",
      "The first six sequences (first row) are all around different axes, they are usually referred as Cardan or Tait\u2013Bryan angles. The other six sequences (second row) have the first and third rotations around the same axis, but keep in mind that the axis for the third rotation is not at the same place anymore because it changed its orientation after the second rotation. The sequences with repeated axes are known as proper or classic Euler angles.\n",
      "\n",
      "Which order to use, it is a matter of convention, and because the order affects the results, it's fundamental to follow a convention and report it. In Engeneering Mechanics (including Biomechanics), the $xyz$ order is more common; in Physics the $zxz$ order is more common (but the lettes chosen to refer to an axis are arbirtrary, what matters is the directions they represent). In Biomechanics, the order for the Cardan angles is most often based on the angle of most interest or of most reliable measure. Because of that, the axis of flexion/extension is typically selected as the first axis, the axis for abduction/adduction is the second, and the axis for internal/external rotation is the last one. We will see about that later.\n",
      "\n",
      "If instead of rotations around the rotating local coordinate system we perform rotations around the fixed Global coordinate system, we will have other 12 different sequences of three elemental rotations, these are called simply rotation angles. So, in total there are 24 possible different sequences of three elemental rotations, but the 24 orders are not independent; with the 12 different sequences of Euler angles at the local coordinate system we can obtain the other 12 sequences at the Global coordinate system.\n",
      "\n",
      "The Python function `euler_rot_matrix.py` (code at the end of this text) determines the rotation matrix in algebraic form for any of the 24 different sequences (and sequences with only one or two axes can be inputed). The Python function `euler_rot_matrix_alg_to_num.py` (code at the end of this text) determines the rotation matrix in numeric form given a rotation matrix in algebraic form (outputed by the `euler_rot_matrix.py` function) and a sequence of up to three angles.\n",
      "\n",
      "For instance, the rotation matrix in algebraic form for the $zxz$ order of Euler angles at the local coordinate system and the correspondent rotation matrix in numeric form after three elemental rotations by $90^o$ each are:"
     ]
    },
    {
     "cell_type": "code",
     "collapsed": false,
     "input": [
      "Ra = euler_rot_matrix(order='zxz', frame='local', show=True)"
     ],
     "language": "python",
     "metadata": {},
     "outputs": [
      {
       "latex": [
        "$$\\mathbf{R}_{local}(   z: \\alpha,\\;x: \\beta,\\;z: \\gamma) =\\left[\\begin{matrix}- \\sin{\\left (\\alpha \\right )} \\sin{\\left (\\gamma \\right )} \\cos{\\left (\\beta \\right )} + \\cos{\\left (\\alpha \\right )} \\cos{\\left (\\gamma \\right )} & \\sin{\\left (\\alpha \\right )} \\cos{\\left (\\gamma \\right )} + \\sin{\\left (\\gamma \\right )} \\cos{\\left (\\alpha \\right )} \\cos{\\left (\\beta \\right )} & \\sin{\\left (\\beta \\right )} \\sin{\\left (\\gamma \\right )}\\\\- \\sin{\\left (\\alpha \\right )} \\cos{\\left (\\beta \\right )} \\cos{\\left (\\gamma \\right )} - \\sin{\\left (\\gamma \\right )} \\cos{\\left (\\alpha \\right )} & - \\sin{\\left (\\alpha \\right )} \\sin{\\left (\\gamma \\right )} + \\cos{\\left (\\alpha \\right )} \\cos{\\left (\\beta \\right )} \\cos{\\left (\\gamma \\right )} & \\sin{\\left (\\beta \\right )} \\cos{\\left (\\gamma \\right )}\\\\\\sin{\\left (\\alpha \\right )} \\sin{\\left (\\beta \\right )} & - \\sin{\\left (\\beta \\right )} \\cos{\\left (\\alpha \\right )} & \\cos{\\left (\\beta \\right )}\\end{matrix}\\right]$$"
       ],
       "metadata": {},
       "output_type": "display_data",
       "text": [
        "<IPython.core.display.Math at 0x74a7fd0>"
       ]
      }
     ],
     "prompt_number": 13
    },
    {
     "cell_type": "code",
     "collapsed": false,
     "input": [
      "Rn = euler_rot_matrix_alg_to_num(R=Ra, angles=[90, 90, 90], unit='deg', show=True)"
     ],
     "language": "python",
     "metadata": {},
     "outputs": [
      {
       "latex": [
        "$$\\mathbf{R}(90^o,\\;90^o,\\;90^o) =\\left[\\begin{matrix}0 & 0 & 1.0\\\\0 & -1.0 & 0\\\\1.0 & 0 & 0\\end{matrix}\\right]$$"
       ],
       "metadata": {},
       "output_type": "display_data",
       "text": [
        "<IPython.core.display.Math at 0x74a7400>"
       ]
      }
     ],
     "prompt_number": 14
    },
    {
     "cell_type": "markdown",
     "metadata": {},
     "source": [
      "The second axis of rotation in the rotating coordinate system is also referred as the nodal axis or line of nodes; this axis coincides with the intersection of two perpendicular planes, one from each Global (fixed) and local (rotating) coordinate systems. The figure below shows an example of rotations and the nodal axis for the $xyz$ sequence of the Cardan angles.\n",
      "\n",
      "<div class='center-align'><figure><img src='files/images/Node.png' alt='rotations'/> <figcaption><i>Example of rotations for the $xyz$ sequence of the Cardan angles. The Global (fixed) $XYZ$ coordinate system is shown in green, the local (rotating) $xyz$ coordinate system is shown in blue. Starting from no rotation (leftmost plot), the local coordinate system is rotated by $\\alpha$ around the $x$ axis (second plot), then by $\\beta$ around the rotated $y$ axis (third plot), and finally by $\\gamma$ around the twice rotated $z$ axis (last plot at the first row). The nodal axis (**N**, shown in red) is defined by the intersection of the $YZ$ and $xy$ planes and all rotations can be described in relation to this nodal axis or to a perpendicaular axis to it (last row). Note that the line of nodes coincides with the $y$ axis for the second rotation.</i></figcaption> </figure></div><br>"
     ]
    },
    {
     "cell_type": "markdown",
     "metadata": {},
     "source": [
      "**Determination of the Cardan angles**\n",
      "\n",
      "Once a convention is adopted, the correspoding three Cardan angles of rotation can be found.   \n",
      "For example, for the $\\mathbf{R}_{xyz}$ rotation matrix:"
     ]
    },
    {
     "cell_type": "code",
     "collapsed": false,
     "input": [
      "Rxyz = RZ.T*RY.T*RX.T\n",
      "Math(sym.latex(r'\\mathbf{R}_{\\mathbf{lG},\\;xyz}=') + sym.latex(Rxyz, mat_str = 'matrix'))"
     ],
     "language": "python",
     "metadata": {},
     "outputs": [
      {
       "latex": [
        "$$\\mathbf{R}_{\\mathbf{lG},\\;xyz}=\\left[\\begin{matrix}\\cos{\\left (\\beta \\right )} \\cos{\\left (\\gamma \\right )} & \\sin{\\left (\\alpha \\right )} \\sin{\\left (\\beta \\right )} \\cos{\\left (\\gamma \\right )} + \\sin{\\left (\\gamma \\right )} \\cos{\\left (\\alpha \\right )} & \\sin{\\left (\\alpha \\right )} \\sin{\\left (\\gamma \\right )} - \\sin{\\left (\\beta \\right )} \\cos{\\left (\\alpha \\right )} \\cos{\\left (\\gamma \\right )}\\\\- \\sin{\\left (\\gamma \\right )} \\cos{\\left (\\beta \\right )} & - \\sin{\\left (\\alpha \\right )} \\sin{\\left (\\beta \\right )} \\sin{\\left (\\gamma \\right )} + \\cos{\\left (\\alpha \\right )} \\cos{\\left (\\gamma \\right )} & \\sin{\\left (\\alpha \\right )} \\cos{\\left (\\gamma \\right )} + \\sin{\\left (\\beta \\right )} \\sin{\\left (\\gamma \\right )} \\cos{\\left (\\alpha \\right )}\\\\\\sin{\\left (\\beta \\right )} & - \\sin{\\left (\\alpha \\right )} \\cos{\\left (\\beta \\right )} & \\cos{\\left (\\alpha \\right )} \\cos{\\left (\\beta \\right )}\\end{matrix}\\right]$$"
       ],
       "metadata": {},
       "output_type": "pyout",
       "prompt_number": 15,
       "text": [
        "<IPython.core.display.Math at 0x74a1048>"
       ]
      }
     ],
     "prompt_number": 15
    },
    {
     "cell_type": "markdown",
     "metadata": {},
     "source": [
      "The correspoding Cardan angles for the `xyz` sequence are given by:\n",
      "\n",
      "$$ \\alpha = arctan\\left(\\frac{sin(\\alpha)}{cos(\\alpha)}\\right) = arctan\\left(\\frac{-\\mathbf{R}_{21}}{\\;\\;\\;\\mathbf{R}_{22}}\\right) $$\n",
      "\n",
      "$$ \\beta = arctan\\left(\\frac{sin(\\beta)}{cos(\\beta)}\\right) = arctan\\left(\\frac{\\mathbf{R}_{20}}{\\sqrt{\\mathbf{R}_{00}^2+\\mathbf{R}_{10}^2}}\\right) $$  \n",
      "\n",
      "$$ \\gamma = arctan\\left(\\frac{sin(\\gamma)}{cos(\\gamma)}\\right) = arctan\\left(\\frac{-\\mathbf{R}_{10}}{\\;\\;\\;\\mathbf{R}_{00}}\\right) $$\n",
      "\n",
      "Note that we prefer to use the mathematical function `arctan` rather than simply `arcsin` because the latter cannot distinguish $45^o$ from $135^o$ for example and also for better numerical accuracy. See the text about [angular kinematics](http://nbviewer.ipython.org/github/duartexyz/BMC/blob/master/AngularKinematics2D.ipynb) for more on these issues.\n",
      "\n",
      "And here is a Python function to compute the Cardan angles of rotations from the Global to the local coordinate system for the `xyz` Cardan sequence: "
     ]
    },
    {
     "cell_type": "code",
     "collapsed": false,
     "input": [
      "def euler_angles_from_rot_xyz(rot_matrix, unit='deg'):\n",
      "    \"\"\" Compute Euler angles from rotation matrix in the xyz sequence.\"\"\"\n",
      "    \n",
      "    import numpy as np\n",
      "\n",
      "    R = np.array(rot_matrix, dtype=np.float64, copy=False)[:3, :3]\n",
      "    angles = np.zeros(3)\n",
      "    \n",
      "    angles[0] = np.arctan2(-R[2, 1], R[2, 2])\n",
      "    angles[1] = np.arctan2( R[2, 0], np.sqrt(R[0, 0]**2 + R[1, 0]**2))\n",
      "    angles[2] = np.arctan2(-R[1, 0], R[0, 0])\n",
      "\n",
      "    if unit[:3].lower() == 'deg': # convert from rad to degree\n",
      "        angles = np.rad2deg(angles)\n",
      "\n",
      "    return angles"
     ],
     "language": "python",
     "metadata": {},
     "outputs": [],
     "prompt_number": 16
    },
    {
     "cell_type": "markdown",
     "metadata": {},
     "source": [
      "Consider sequential rotations of 45$^o$ around $x,y,z$. The resultant rotation matrix is:"
     ]
    },
    {
     "cell_type": "code",
     "collapsed": false,
     "input": [
      "Ra = euler_rot_matrix(order='xyz', frame='local', show=False)\n",
      "R = euler_rot_matrix_alg_to_num(R=Ra, angles=[45, 45, 45], unit='deg', show=True)"
     ],
     "language": "python",
     "metadata": {},
     "outputs": [
      {
       "latex": [
        "$$\\mathbf{R}(45^o,\\;45^o,\\;45^o) =\\left[\\begin{matrix}0.5 & 0.854 & 0.146\\\\-0.5 & 0.146 & 0.854\\\\0.707 & -0.5 & 0.5\\end{matrix}\\right]$$"
       ],
       "metadata": {},
       "output_type": "display_data",
       "text": [
        "<IPython.core.display.Math at 0x74a1d68>"
       ]
      }
     ],
     "prompt_number": 17
    },
    {
     "cell_type": "markdown",
     "metadata": {},
     "source": [
      "Let's check that calculating back the Euler angles from this rotation matrix using the `euler_angles_from_rot_xyz()` function:"
     ]
    },
    {
     "cell_type": "code",
     "collapsed": false,
     "input": [
      "euler_angles_from_rot_xyz(R, unit='deg')"
     ],
     "language": "python",
     "metadata": {},
     "outputs": [
      {
       "metadata": {},
       "output_type": "pyout",
       "prompt_number": 18,
       "text": [
        "array([ 45.,  45.,  45.])"
       ]
      }
     ],
     "prompt_number": 18
    },
    {
     "cell_type": "markdown",
     "metadata": {},
     "source": [
      "We could implement a function to calculate the Euler angles for any of the 12 sequences (in fact, plus another 12 sequences if we consider all the rotations from and to the two coordinate systems), but this is tedious. There is a smarter solution using the concept of [quaternion](http://en.wikipedia.org/wiki/Quaternion) and we will see that later. First, let's see a problem with using Euler angles known as gimbal lock."
     ]
    },
    {
     "cell_type": "heading",
     "level": 3,
     "metadata": {},
     "source": [
      "Gimbal lock"
     ]
    },
    {
     "cell_type": "markdown",
     "metadata": {},
     "source": [
      "[Gimbal lock](http://en.wikipedia.org/wiki/Gimbal_lock) is the loss of one degree of freedom in a three-dimensional coordinate system that occurs when an axis of rotation is placed parallel with another previous axis of rotation and two of the three rotations will be around the same direction given a certain convention of the Euler angles. This \"locks\" the system into rotations in a degenerate two-dimensional space. The system is not really locked in the sense it can't be moved or reach the other degree of freedom, but it will need an extra rotation for that.   \n",
      "\n",
      "For instance, let's look at the $zxz$ sequence of rotations by the angles $\\alpha, \\beta, \\gamma$:\n",
      "\n",
      "$$ \\begin{array}{l l}\n",
      "\\mathbf{R}_{zxz} & = \\mathbf{R_{z}} \\mathbf{R_{x}} \\mathbf{R_{z}} \\\\\n",
      "& = \n",
      "\\begin{bmatrix}\n",
      "cos\\gamma & sin\\gamma & 0\\\\\n",
      "-sin\\gamma & cos\\gamma & 0 \\\\\n",
      "0 & 0 & 1\n",
      "\\end{bmatrix}\n",
      "\\begin{bmatrix}\n",
      "1 & 0 & 0 \\\\\n",
      "0 & cos\\beta & sin\\beta \\\\\n",
      "0 & -sin\\beta & cos\\beta\n",
      "\\end{bmatrix}\n",
      "\\begin{bmatrix}\n",
      "cos\\alpha & sin\\alpha & 0\\\\\n",
      "-sin\\alpha & cos\\alpha & 0 \\\\\n",
      "0 & 0 & 1\n",
      "\\end{bmatrix}\n",
      "\\end{array} $$\n",
      "\n",
      "Which results in:"
     ]
    },
    {
     "cell_type": "code",
     "collapsed": false,
     "input": [
      "a, b, g = sym.symbols('alpha, beta, gamma')\n",
      "# Elemental rotation matrices of xyz (local):\n",
      "Rz = sym.Matrix([[cos(a), sin(a), 0], [-sin(a), cos(a), 0], [0, 0, 1]])\n",
      "Rx = sym.Matrix([[1, 0, 0], [0, cos(b), sin(b)], [0, -sin(b), cos(b)]])\n",
      "Rz2 = sym.Matrix([[cos(g), sin(g), 0], [-sin(g), cos(g), 0], [0, 0, 1]])\n",
      "# Rotation matrix for the zxz sequence:\n",
      "Rzxz = Rz2*Rx*Rz\n",
      "Math(sym.latex(r'\\mathbf{R}_{zxz}=') + sym.latex(Rzxz, mat_str='matrix'))"
     ],
     "language": "python",
     "metadata": {},
     "outputs": [
      {
       "latex": [
        "$$\\mathbf{R}_{zxz}=\\left[\\begin{matrix}- \\sin{\\left (\\alpha \\right )} \\sin{\\left (\\gamma \\right )} \\cos{\\left (\\beta \\right )} + \\cos{\\left (\\alpha \\right )} \\cos{\\left (\\gamma \\right )} & \\sin{\\left (\\alpha \\right )} \\cos{\\left (\\gamma \\right )} + \\sin{\\left (\\gamma \\right )} \\cos{\\left (\\alpha \\right )} \\cos{\\left (\\beta \\right )} & \\sin{\\left (\\beta \\right )} \\sin{\\left (\\gamma \\right )}\\\\- \\sin{\\left (\\alpha \\right )} \\cos{\\left (\\beta \\right )} \\cos{\\left (\\gamma \\right )} - \\sin{\\left (\\gamma \\right )} \\cos{\\left (\\alpha \\right )} & - \\sin{\\left (\\alpha \\right )} \\sin{\\left (\\gamma \\right )} + \\cos{\\left (\\alpha \\right )} \\cos{\\left (\\beta \\right )} \\cos{\\left (\\gamma \\right )} & \\sin{\\left (\\beta \\right )} \\cos{\\left (\\gamma \\right )}\\\\\\sin{\\left (\\alpha \\right )} \\sin{\\left (\\beta \\right )} & - \\sin{\\left (\\beta \\right )} \\cos{\\left (\\alpha \\right )} & \\cos{\\left (\\beta \\right )}\\end{matrix}\\right]$$"
       ],
       "metadata": {},
       "output_type": "pyout",
       "prompt_number": 19,
       "text": [
        "<IPython.core.display.Math at 0x74a7a58>"
       ]
      }
     ],
     "prompt_number": 19
    },
    {
     "cell_type": "markdown",
     "metadata": {},
     "source": [
      "\n",
      "Let's examine what happens with this rotation matrix when the rotation around the second axis ($x$) by $\\beta$ is zero:\n",
      "\n",
      "$$ \\begin{array}{l l}\n",
      "\\mathbf{R}_{zxz}(\\alpha, \\beta=0, \\gamma) = \n",
      "\\begin{bmatrix}\n",
      "cos\\gamma & sin\\gamma & 0\\\\\n",
      "-sin\\gamma & cos\\gamma & 0 \\\\\n",
      "0 & 0 & 1\n",
      "\\end{bmatrix}\n",
      "\\begin{bmatrix}\n",
      "1 & 0 & 0 \\\\\n",
      "0 & 1 & 0 \\\\\n",
      "0 & 0 & 1\n",
      "\\end{bmatrix}\n",
      "\\begin{bmatrix}\n",
      "cos\\alpha & sin\\alpha & 0\\\\\n",
      "-sin\\alpha & cos\\alpha & 0 \\\\\n",
      "0 & 0 & 1\n",
      "\\end{bmatrix}\n",
      "\\end{array} $$\n",
      "\n",
      "The second matrix is the identity matrix and has no effect on the product of the matrices, which will be:"
     ]
    },
    {
     "cell_type": "code",
     "collapsed": false,
     "input": [
      "Rzxz = Rz2*Rz\n",
      "Math(sym.latex(r'\\mathbf{R}_{xyz}(\\alpha, \\beta=0, \\gamma)=') + \\\n",
      "     sym.latex(Rzxz, mat_str='matrix'))"
     ],
     "language": "python",
     "metadata": {},
     "outputs": [
      {
       "latex": [
        "$$\\mathbf{R}_{xyz}(\\alpha, \\beta=0, \\gamma)=\\left[\\begin{matrix}- \\sin{\\left (\\alpha \\right )} \\sin{\\left (\\gamma \\right )} + \\cos{\\left (\\alpha \\right )} \\cos{\\left (\\gamma \\right )} & \\sin{\\left (\\alpha \\right )} \\cos{\\left (\\gamma \\right )} + \\sin{\\left (\\gamma \\right )} \\cos{\\left (\\alpha \\right )} & 0\\\\- \\sin{\\left (\\alpha \\right )} \\cos{\\left (\\gamma \\right )} - \\sin{\\left (\\gamma \\right )} \\cos{\\left (\\alpha \\right )} & - \\sin{\\left (\\alpha \\right )} \\sin{\\left (\\gamma \\right )} + \\cos{\\left (\\alpha \\right )} \\cos{\\left (\\gamma \\right )} & 0\\\\0 & 0 & 1\\end{matrix}\\right]$$"
       ],
       "metadata": {},
       "output_type": "pyout",
       "prompt_number": 20,
       "text": [
        "<IPython.core.display.Math at 0x74ab978>"
       ]
      }
     ],
     "prompt_number": 20
    },
    {
     "cell_type": "markdown",
     "metadata": {},
     "source": [
      "Which simplifies to:"
     ]
    },
    {
     "cell_type": "code",
     "collapsed": false,
     "input": [
      "Rzxz = sym.simplify(Rzxz)\n",
      "Math(sym.latex(r'\\mathbf{R}_{xyz}(\\alpha, \\beta=0, \\gamma)=') + \\\n",
      "     sym.latex(Rzxz, mat_str='matrix'))"
     ],
     "language": "python",
     "metadata": {},
     "outputs": [
      {
       "latex": [
        "$$\\mathbf{R}_{xyz}(\\alpha, \\beta=0, \\gamma)=\\left[\\begin{matrix}\\cos{\\left (\\alpha + \\gamma \\right )} & \\sin{\\left (\\alpha + \\gamma \\right )} & 0\\\\- \\sin{\\left (\\alpha + \\gamma \\right )} & \\cos{\\left (\\alpha + \\gamma \\right )} & 0\\\\0 & 0 & 1\\end{matrix}\\right]$$"
       ],
       "metadata": {},
       "output_type": "pyout",
       "prompt_number": 22,
       "text": [
        "<IPython.core.display.Math at 0x461ab38>"
       ]
      }
     ],
     "prompt_number": 22
    },
    {
     "cell_type": "markdown",
     "metadata": {},
     "source": [
      "Despite different values of $\\alpha$ and $\\gamma$ the result is a single rotation around the $z$ axis given by the sum $\\alpha+\\gamma$. In this case, of the three degrees of freedom one was lost (the other degree of freedom was set by $\\beta=0$). For movement analysis, this means for example that one angle value will be indetermined because everything we know is that the sum of the two angles obtained from the rotation matrix. We can set the unknown angle to zero but this is arbitrary.\n",
      "\n",
      "In fact, we already dealt with another example of gimbal lock when we looked at the $xyz$ sequence with rotations by $90^o$. See the figure representing these rotations again and perceive that the first and third rotations were around the same axis because the second rotation was by $90^o$. Let's do the matrix multiplication replacing the second angle by $90^o$:"
     ]
    },
    {
     "cell_type": "code",
     "collapsed": false,
     "input": [
      "Rx = sym.Matrix([[1, 0, 0], [0, cos(a), sin(a)], [0, -sin(a), cos(a)]])\n",
      "Ry = sym.Matrix([[0, 0, -1], [0, 1, 0], [1, 0, 0]])\n",
      "Rz = sym.Matrix([[cos(g), sin(g), 0], [-sin(g), cos(g), 0], [0, 0, 1]])\n",
      "# Rotation matrix of xyz' in relation to xyz:\n",
      "Rxyz = sym.simplify(Rz*Ry*Rx)\n",
      "Math(sym.latex(r'\\mathbf{R}_{xyz}(\\alpha, \\beta=90^o, \\gamma)=') + sym.latex(Rxyz, mat_str='matrix'))"
     ],
     "language": "python",
     "metadata": {},
     "outputs": [
      {
       "latex": [
        "$$\\mathbf{R}_{xyz}(\\alpha, \\beta=90^o, \\gamma)=\\left[\\begin{matrix}0 & \\sin{\\left (\\alpha + \\gamma \\right )} & - \\cos{\\left (\\alpha + \\gamma \\right )}\\\\0 & \\cos{\\left (\\alpha + \\gamma \\right )} & \\sin{\\left (\\alpha + \\gamma \\right )}\\\\1 & 0 & 0\\end{matrix}\\right]$$"
       ],
       "metadata": {},
       "output_type": "pyout",
       "prompt_number": 23,
       "text": [
        "<IPython.core.display.Math at 0x74a7710>"
       ]
      }
     ],
     "prompt_number": 23
    },
    {
     "cell_type": "markdown",
     "metadata": {},
     "source": [
      "Once again, one degree of freedom was lost and we will not be able to uniquely determine the three angle values for the given rotation matrix and sequence.\n",
      "\n",
      "Possible solutions to avoid the gimbal lock are: choose a different sequence,  not rotate the system by the angle that puts the system in gimbal lock (in the examples above, avoid $\\beta=90^o$), or add an extra fourth parameter in the description of the rotation angles.   \n",
      "But if we have a physical system where we measure or specify exactly three Euler angles in a fixed sequence to describe or control it, and we can't avoid the system to assume certain angles, then we might have a problem.\n",
      "\n",
      "This is an actual conversation between crew and mission control during the Apollo 13 mission (Apollo 13, mission control communications loop (1970) (Lovell and Kluger 1994, p 131; NASA 1970) from Peter Corke's Robotics, Vision and Control book:\n",
      "\n",
      ">Mission clock: 02 08 12 47      \n",
      "Flight: *Go, Guidance.*    \n",
      "Guido: *He\u2019s getting close to gimbal lock there.*    \n",
      "Flight: *Roger. CapCom, recommend he bring up C3, C4, B3, B4, C1 and C2 thrusters, and advise he\u2019s getting close to gimbal lock.*   \n",
      "CapCom: *Roger.*    "
     ]
    },
    {
     "cell_type": "heading",
     "level": 2,
     "metadata": {},
     "source": [
      "Determination of the rotation matrix"
     ]
    },
    {
     "cell_type": "markdown",
     "metadata": {},
     "source": [
      "A typical way to determine the rotation matrix for a rigid body in biomechanics is to use motion analysis to measure the position of at least three non-colinear markers placed on the rigid body, and then calculate a basis with these positions, analog to what we have described in [Rigid-body transformations (two-dimensional)](http://nbviewer.ipython.org/urls/raw.github.com/duartexyz/BMC/master/Transformation2D.ipynb)."
     ]
    },
    {
     "cell_type": "heading",
     "level": 3,
     "metadata": {},
     "source": [
      "Basis"
     ]
    },
    {
     "cell_type": "markdown",
     "metadata": {},
     "source": [
      "If we have the position of three markers: **m1**, **m2**, **m3**, a basis (formed by three orthogonal versors) can be found as:   \n",
      "\n",
      " - First axis, **v1**, the vector **m2-m1**;   \n",
      " - Second axis, **v2**, the cross product between the vectors **v1** and **m3-m1**;   \n",
      " - Third axis, **v3**, the cross product between the vectors **v1** and **v2**.  \n",
      " \n",
      "Then, each of these vectors are normalized resulting in three othogonal versors.   \n",
      "\n",
      "For example, given the positions m1 = [1,0,0], m2 = [0,1,0], m3 = [0,0,1], a basis can be found:"
     ]
    },
    {
     "cell_type": "code",
     "collapsed": false,
     "input": [
      "m1 = np.array([1, 0, 0])\n",
      "m2 = np.array([0, 1, 0])\n",
      "m3 = np.array([0, 0, 1])\n",
      "\n",
      "v1 = m2 - m1\n",
      "v2 = np.cross(v1, m3 - m1)\n",
      "v3 = np.cross(v1, v2)\n",
      "\n",
      "print('Versors:')\n",
      "v1 = v1/np.linalg.norm(v1)\n",
      "print('v1 =', v1)\n",
      "\n",
      "v2 = v2/np.linalg.norm(v2)\n",
      "print('v2 =', v2)\n",
      "\n",
      "v3 = v3/np.linalg.norm(v3)\n",
      "print('v3 =', v3)\n",
      "\n",
      "print('\\nNorm of each versor:\\n', np.linalg.norm(np.cross(v1, v2)), np.linalg.norm(np.cross(v1, v3)),\n",
      "      np.linalg.norm(np.cross(v2, v3)))"
     ],
     "language": "python",
     "metadata": {},
     "outputs": [
      {
       "output_type": "stream",
       "stream": "stdout",
       "text": [
        "Versors:\n",
        "v1 ="
       ]
      },
      {
       "output_type": "stream",
       "stream": "stdout",
       "text": [
        " [-0.7071  0.7071  0.    ]\n",
        "v2 ="
       ]
      },
      {
       "output_type": "stream",
       "stream": "stdout",
       "text": [
        " [ 0.5774  0.5774  0.5774]\n",
        "v3 ="
       ]
      },
      {
       "output_type": "stream",
       "stream": "stdout",
       "text": [
        " [ 0.4082  0.4082 -0.8165]\n",
        "\n",
        "Norm of each versor:\n"
       ]
      },
      {
       "output_type": "stream",
       "stream": "stdout",
       "text": [
        " 1.0 1.0 1.0\n"
       ]
      }
     ],
     "prompt_number": 24
    },
    {
     "cell_type": "markdown",
     "metadata": {},
     "source": [
      "Remember from [Rigid-body transformations (two-dimensional)](http://nbviewer.ipython.org/urls/raw.github.com/duartexyz/BMC/master/Transformation2D.ipynb) that the versors of this basis are the columns of the $\\mathbf{R_{Gl}}$ and the rows of the $\\mathbf{R_{lG}}$ rotation matrices, for instance:"
     ]
    },
    {
     "cell_type": "code",
     "collapsed": false,
     "input": [
      "RlG = np.array([v1, v2, v3])\n",
      "print('Rotation matrix from Global to local coordinate system:\\n', RlG)"
     ],
     "language": "python",
     "metadata": {},
     "outputs": [
      {
       "output_type": "stream",
       "stream": "stdout",
       "text": [
        "Rotation matrix from Global to local coordinate system:\n",
        " [[-0.7071  0.7071  0.    ]\n",
        " [ 0.5774  0.5774  0.5774]\n",
        " [ 0.4082  0.4082 -0.8165]]\n"
       ]
      }
     ],
     "prompt_number": 25
    },
    {
     "cell_type": "markdown",
     "metadata": {},
     "source": [
      "And the corresponding angles of rotation using the $xyz$ sequence are:"
     ]
    },
    {
     "cell_type": "code",
     "collapsed": false,
     "input": [
      "euler_angles_from_rot_xyz(RlG)"
     ],
     "language": "python",
     "metadata": {},
     "outputs": [
      {
       "metadata": {},
       "output_type": "pyout",
       "prompt_number": 26,
       "text": [
        "array([-153.4349,   24.0948, -140.7685])"
       ]
      }
     ],
     "prompt_number": 26
    },
    {
     "cell_type": "markdown",
     "metadata": {},
     "source": [
      "These angles don't mean anything now because they are angles of the axes of the arbitrary basis we computed. In Biomechanics, if we want an anatomical interpretation of the coordinate system orientation, we define the versors of the basis oriented with anatomical axes (e.g., for the shoulder, one versor would be aligned with the long axis of the upperarm).   \n",
      "We will see how to perform this computation later. Now we will combine translation and rotation in a single transformation."
     ]
    },
    {
     "cell_type": "heading",
     "level": 2,
     "metadata": {},
     "source": [
      "Translation and Rotation"
     ]
    },
    {
     "cell_type": "markdown",
     "metadata": {},
     "source": [
      "Consider the case where the local coordinate system is translated and rotated in relation to the global coordinate system as illustrated in the figure below:\n",
      "\n",
      "<div class='center-align'><figure><img src='files/images/transrot3D.png' alt='translation and rotation 3D'/> <figcaption><i>A point in three-dimensional space represented in two coordinate systems, with one system translated and rotated.</i></figcaption> </figure></div><br>\n",
      "\n",
      "The position of point **P** originally described in the local coordinate system, but now described in the global coordinate system in vector form is:\n",
      "\n",
      "$$ \\mathbf{P_G} = \\mathbf{L_G} + \\mathbf{R_{Gl}}\\mathbf{P_l} $$\n",
      "\n",
      "This means that we first *disrotate* the local coordinate system and then correct for the translation between the two coordinate systems. Note that we can't invert this order: the point position is expressed in the local coordinate system and we can't add this vector to another vector expressed in the global coordinate system, first we have to convert the vectors to the same coordinate system.\n",
      "\n",
      "If now we want to find the position of a point at the local coordinate system given its position in the global coordinate system, the rotation matrix and the translation vector, we have to invert the expression above:\n",
      "\n",
      "$$ \\mathbf{P_G} = \\mathbf{L_G} + \\mathbf{R_{Gl}}\\mathbf{P_l} \\implies $$\n",
      "\n",
      "$$ \\mathbf{R_{Gl}^{-1}}\\cdot\\mathbf{P_G} = \\mathbf{R_{Gl}^{-1}}\\left(\\mathbf{L_G} + \\mathbf{R_{Gl}}\\mathbf{P_l}\\right) \\implies $$\n",
      "\n",
      "$$\\mathbf{R_{Gl}^{-1}}\\mathbf{P_G} = \\mathbf{R_{Gl}^{-1}}\\mathbf{L_G} + \\mathbf{R_{Gl}^{-1}}\\mathbf{R_{Gl}}\\mathbf{P_l} \\implies $$\n",
      "\n",
      "$$ \\mathbf{P_l} = \\mathbf{R_{Gl}^{-1}}\\left(\\mathbf{P_G}-\\mathbf{L_G}\\right) =  \\mathbf{R_{Gl}^T}\\left(\\mathbf{P_G}-\\mathbf{L_G}\\right) \\;\\;\\;\\;\\; \\text{or} \\;\\;\\;\\;\\; \\mathbf{P_l} = \\mathbf{R_{lG}}\\left(\\mathbf{P_G}-\\mathbf{L_G}\\right) $$\n",
      "\n",
      "The expression above indicates that to perform the inverse operation, to go from the global to the local coordinate system, we first translate and then rotate the coordinate system."
     ]
    },
    {
     "cell_type": "heading",
     "level": 3,
     "metadata": {},
     "source": [
      "Transformation matrix"
     ]
    },
    {
     "cell_type": "markdown",
     "metadata": {},
     "source": [
      "It is possible to combine the translation and rotation operations in only one matrix, called the transformation matrix:\n",
      "\n",
      "$$ \\begin{bmatrix}\n",
      "\\mathbf{P_X} \\\\\n",
      "\\mathbf{P_Y} \\\\\n",
      "\\mathbf{P_Z} \\\\\n",
      "1\n",
      "\\end{bmatrix} =\n",
      "\\begin{bmatrix}\n",
      ". & . & . & \\mathbf{L_{X}} \\\\\n",
      ". & \\mathbf{R_{Gl}} & .  & \\mathbf{L_{Y}} \\\\\n",
      ". & . & .  & \\mathbf{L_{Z}} \\\\\n",
      "0 & 0 & 0 & 1\n",
      "\\end{bmatrix}\n",
      "\\begin{bmatrix}\n",
      "\\mathbf{P}_x \\\\\n",
      "\\mathbf{P}_y \\\\\n",
      "\\mathbf{P}_z \\\\\n",
      "1\n",
      "\\end{bmatrix} $$\n",
      "\n",
      "Or simply:\n",
      "\n",
      "$$ \\mathbf{P_G} = \\mathbf{T_{Gl}}\\mathbf{P_l} $$\n",
      "\n",
      "The inverse operation, to express the position at the local coordinate system in terms of the global reference system, is:\n",
      "\n",
      "$$ \\mathbf{P_l} = \\mathbf{T_{Gl}^{-1}}\\mathbf{P_G} \\;\\;\\;\\;\\; \\text{or} \\;\\;\\;\\;\\; \\mathbf{P_l} = \\mathbf{T_{Gl}^T}\\mathbf{P_G} $$\n",
      "\n",
      "And in matrix form:\n",
      "\n",
      "$$ \\begin{bmatrix}\n",
      "\\mathbf{P_x} \\\\\n",
      "\\mathbf{P_y} \\\\\n",
      "\\mathbf{P_z} \\\\\n",
      "1\n",
      "\\end{bmatrix} =\n",
      "\\begin{bmatrix}\n",
      "\\cdot & \\cdot & \\cdot & \\cdot \\\\\n",
      "\\cdot & \\mathbf{R^{-1}_{Gl}} & \\cdot  & -\\mathbf{R^{-1}_{Gl}}\\:\\mathbf{L_G} \\\\\n",
      "\\cdot & \\cdot & \\cdot  & \\cdot \\\\\n",
      "0 & 0 & 0 & 1\n",
      "\\end{bmatrix}\n",
      "\\begin{bmatrix}\n",
      "\\mathbf{P_X} \\\\\n",
      "\\mathbf{P_Y} \\\\\n",
      "\\mathbf{P_Z} \\\\\n",
      "1\n",
      "\\end{bmatrix} $$"
     ]
    },
    {
     "cell_type": "markdown",
     "metadata": {},
     "source": [
      "..."
     ]
    },
    {
     "cell_type": "heading",
     "level": 2,
     "metadata": {},
     "source": [
      "References"
     ]
    },
    {
     "cell_type": "markdown",
     "metadata": {},
     "source": [
      "- [Corke P (2011) Robotics, Vision and Control: Fundamental Algorithms in MATLAB. Springer-Verlag Berlin](http://www.petercorke.com/RVC/).\n",
      "- [Siciliano B, Sciavicco L, Villani L, Oriolo G (2009) Robotics - Modelling, Planning and Control. Springer-Verlag London](http://books.google.com.br/books/about/Robotics.html?hl=pt-BR&id=jPCAFmE-logC).\n",
      "- [Winter DA (2009) Biomechanics and motor control of human movement. 4 ed. Hoboken, EUA: Wiley](http://books.google.com.br/books?id=_bFHL08IWfwC).   \n",
      "- [Zatsiorsky VM (1997) Kinematics of Human Motion. Champaign, Human Kinetics](http://books.google.com.br/books/about/Kinematics_of_Human_Motion.html?id=Pql_xXdbrMcC&redir_esc=y)."
     ]
    },
    {
     "cell_type": "heading",
     "level": 3,
     "metadata": {},
     "source": [
      "Function `euler_rot_matrix.py`"
     ]
    },
    {
     "cell_type": "code",
     "collapsed": false,
     "input": [
      "def euler_rot_matrix(order='xyz', frame='local', show=True):\n",
      "    \"\"\"Calculate algebraic rotation matrix given a sequence and frame.\n",
      "    \"\"\"\n",
      "\n",
      "    from sympy import symbols, cos, sin, Matrix, Identity, latex\n",
      "    try:\n",
      "        from IPython.core.display import Math, display\n",
      "        ipython = True\n",
      "    except:\n",
      "        ipython = False\n",
      "\n",
      "    x, y, z, a, b, g = symbols('x, y, z, alpha, beta, gamma')\n",
      "    var = {'x': x, 'y': y, 'z': z, 0: a, 1: b, 2: g}\n",
      "    # Elemental rotation matrices of xyz (local):\n",
      "    Rx = Matrix([[1, 0, 0], [0, cos(x), sin(x)], [0, -sin(x), cos(x)]])\n",
      "    Ry = Matrix([[cos(y), 0, -sin(y)], [0, 1, 0], [sin(y), 0, cos(y)]])\n",
      "    Rz = Matrix([[cos(z), sin(z), 0], [-sin(z), cos(z), 0], [0, 0, 1]])\n",
      "\n",
      "    if frame.lower() == 'global':\n",
      "        Rs = {'x': Rx.T, 'y': Ry.T, 'z': Rz.T}\n",
      "        order = order.upper()\n",
      "    else:\n",
      "        Rs = {'x': Rx, 'y': Ry, 'z': Rz}\n",
      "        order = order.lower()\n",
      "    \n",
      "    R = Matrix(Identity(3))\n",
      "    str1 = r'\\mathbf{R}_{%s}(   ' %frame  # last 3 spaces are needed in case order=''\n",
      "    for i in range(len(order)):\n",
      "        R = Rs[order[i].lower()].subs(var[order[i].lower()], var[i]) * R\n",
      "        str1 = str1 + r'%s: \\%s,\\;' %(order[i], var[i])\n",
      "    \n",
      "    if ipython and show:\n",
      "        display(Math(str1[:-3] + ') =' + latex(R, mat_str='matrix')))\n",
      "\n",
      "    return R"
     ],
     "language": "python",
     "metadata": {},
     "outputs": [],
     "prompt_number": 1
    },
    {
     "cell_type": "heading",
     "level": 3,
     "metadata": {},
     "source": [
      "Function `euler_rot_matrix_alg_to_num.py`"
     ]
    },
    {
     "cell_type": "code",
     "collapsed": false,
     "input": [
      "def euler_rot_matrix_alg_to_num(R, angles, unit='rad', show=True):\n",
      "    \"\"\"Calculate numeric rotation matrix for the angles given an algebraic rotation matrix.\n",
      "    \"\"\"\n",
      "\n",
      "    from numpy import deg2rad, rad2deg, ndarray, asarray\n",
      "    from sympy import symbols, Matrix, latex, lambdify\n",
      "    try:\n",
      "        from IPython.core.display import Math, display\n",
      "        ipython = True\n",
      "    except:\n",
      "        ipython = False\n",
      "    \n",
      "    if not isinstance(angles, (list, tuple, ndarray)):\n",
      "        angles = np.asarray([angles])\n",
      "    \n",
      "    symbs = symbols('alpha, beta, gamma')\n",
      "    if unit == 'deg':\n",
      "        angles = deg2rad(angles)\n",
      "\n",
      "    Rn = lambdify(symbs[:angles.size], R, 'numpy')(*tuple(angles))\n",
      "    if ipython and show:\n",
      "        str1 = ['%d^o', '%d^o', '%d^o']\n",
      "        str1 = ',\\;'.join(str1[:angles.size]) %tuple(rad2deg(angles))\n",
      "        display(Math(r'\\mathbf{R}(' + str1 + ') =' + latex(Matrix(Rn).n(chop=True, prec=3))))\n",
      "\n",
      "    return np.asarray(Rn)"
     ],
     "language": "python",
     "metadata": {},
     "outputs": [],
     "prompt_number": 2
    }
   ],
   "metadata": {}
  }
 ]
}