{
 "metadata": {
  "name": ""
 },
 "nbformat": 3,
 "nbformat_minor": 0,
 "worksheets": [
  {
   "cells": [
    {
     "cell_type": "heading",
     "level": 1,
     "metadata": {},
     "source": [
      "Rigid-body transformations (three-dimensional)"
     ]
    },
    {
     "cell_type": "markdown",
     "metadata": {},
     "source": [
      "Marcos Duarte"
     ]
    },
    {
     "cell_type": "markdown",
     "metadata": {},
     "source": [
      "We now want to generalize what we saw in the text [Rigid-body transformations (two-dimensional)](http://nbviewer.ipython.org/urls/raw.github.com/duartexyz/BMC/master/Transformation2D.ipynb) for the three-dimensional case.   \n",
      "For this, we will follow the rationale adopted in the previous text but will skip the fundamental concepts already covered there.   \n",
      "So, you if haven't done yet, you should read [Rigid-body transformations (two-dimensional)](http://nbviewer.ipython.org/urls/raw.github.com/duartexyz/BMC/master/Transformation2D.ipynb) before continuing here."
     ]
    },
    {
     "cell_type": "heading",
     "level": 2,
     "metadata": {},
     "source": [
      "Translation"
     ]
    },
    {
     "cell_type": "markdown",
     "metadata": {},
     "source": [
      "A pure three-dimensional translation of a rigid body (or a coordinate system attached to it) in relation to other rigid body (coordinate system) is illustrated in the figure below:\n",
      "\n",
      "<div class='center-align'><figure><img src='http://demotu.org/ipynb/translation3D.png' alt='translation 3D'/> <figcaption><i>A point in three-dimensional space represented in two coordinate systems, with one system translated.</i></figcaption> </figure></div><br>\n",
      "\n",
      "The position of point **P** originally described in the *xyz* (local) coordinate system but now described in the **XYZ** (Global) coordinate system in vector form is:\n",
      "\n",
      "$$ \\mathbf{P_G} = \\mathbf{L_G} + \\mathbf{P_l} $$\n",
      "\n",
      "And in matrix form is:\n",
      "\n",
      "$$ \\begin{bmatrix}\n",
      "\\mathbf{P_X} \\\\\n",
      "\\mathbf{P_Y} \\\\\n",
      "\\mathbf{P_Z} \n",
      "\\end{bmatrix} =\n",
      "\\begin{bmatrix}\n",
      "\\mathbf{L_X} \\\\\n",
      "\\mathbf{L_Y} \\\\\n",
      "\\mathbf{L_Z} \n",
      "\\end{bmatrix} +\n",
      "\\begin{bmatrix}\n",
      "\\mathbf{P}_x \\\\\n",
      "\\mathbf{P}_y \\\\\n",
      "\\mathbf{P}_z \n",
      "\\end{bmatrix} $$\n",
      "\n",
      "From classical mechanics, this is an example of [Galilean transformation](http://en.wikipedia.org/wiki/Galilean_transformation).   \n",
      "\n",
      "For example, if the local coordinate system is translated by $\\mathbf{L_G}$=[1, 2, 3] in relation to the global coordinate system, a point with coordinates $\\mathbf{P_l}$=[4, 5, 6] at the local coordinate system will have the position $\\mathbf{P_G}$=[5, 7, 9] at the global coordinate system:"
     ]
    },
    {
     "cell_type": "code",
     "collapsed": false,
     "input": [
      "# Import the necessary libraries\n",
      "from __future__ import division, print_function\n",
      "import numpy as np\n",
      "from IPython import display"
     ],
     "language": "python",
     "metadata": {},
     "outputs": [],
     "prompt_number": 1
    },
    {
     "cell_type": "code",
     "collapsed": false,
     "input": [
      "LG = np.array([1, 2, 3]) # declare variable as NumPy array (1D array with 2 elements)\n",
      "Pl = np.array([4, 5, 6])\n",
      "PG = LG + Pl\n",
      "PG"
     ],
     "language": "python",
     "metadata": {},
     "outputs": [
      {
       "metadata": {},
       "output_type": "pyout",
       "prompt_number": 2,
       "text": [
        "array([5, 7, 9])"
       ]
      }
     ],
     "prompt_number": 2
    },
    {
     "cell_type": "markdown",
     "metadata": {},
     "source": [
      "This operation also works if we have more than one point (NumPy knows how to handle vectors with different dimensions):"
     ]
    },
    {
     "cell_type": "code",
     "collapsed": false,
     "input": [
      "Pl = np.array([[1, 2, 3], [4, 5, 6], [7, 8, 9]]) # 2D array with 3 rows and two columns\n",
      "PG = LG + Pl\n",
      "PG"
     ],
     "language": "python",
     "metadata": {},
     "outputs": [
      {
       "metadata": {},
       "output_type": "pyout",
       "prompt_number": 3,
       "text": [
        "array([[ 2,  4,  6],\n",
        "       [ 5,  7,  9],\n",
        "       [ 8, 10, 12]])"
       ]
      }
     ],
     "prompt_number": 3
    },
    {
     "cell_type": "heading",
     "level": 2,
     "metadata": {},
     "source": [
      "Rotation"
     ]
    },
    {
     "cell_type": "markdown",
     "metadata": {},
     "source": [
      "A pure three-dimensional rotation of a $xyz$ (local) coordinate system in relation to other $\\mathbf{XYZ}$  (Global) coordinate system is illustrated in the figure below:\n",
      "\n",
      "<div class='center-align'><figure><img src='http://demotu.org/ipynb/rotation3D.png' alt='rotation 3D'/> <figcaption><i>A point in three-dimensional space represented in two coordinate systems, with one system rotated.</i></figcaption> </figure></div><br>\n",
      "\n",
      "In analogy to the rotation in two dimensions, we can calculate the rotation matrix that describes the rotation of the $xyz$ coordinate system in relation to the $\\mathbf{XYZ}$ coordinate system using the direction cosines between the axes of the two coordinate systems:\n",
      "\n",
      "$$ \\mathbf{R_{Gl}} = \\begin{bmatrix}\n",
      "cos\\mathbf{X}x & cos\\mathbf{X}y & cos\\mathbf{X}z \\\\\n",
      "cos\\mathbf{Y}x & cos\\mathbf{Y}y & cos\\mathbf{Y}z \\\\\n",
      "cos\\mathbf{Z}x & cos\\mathbf{Z}y & cos\\mathbf{Z}z\n",
      "\\end{bmatrix} $$\n",
      "\n",
      "Note however that for rotations around more than one axis, these angles will not lie in the main planes ($\\mathbf{XY, YZ, ZX}$) of the $\\mathbf{XYZ}$ coordinate system, as illustrated in the figure below for the direction angles of the *x* axis only.\n",
      "\n",
      "<div class='center-align'><figure><img src='files/images/directioncosine3D.png' width=260 alt='direction angles 3D'/> <figcaption><i>Definition of direction angles for the $x$ axis in relation to the $\\mathbf{XYZ}$ coordinate system.</i></figcaption> </figure></div><br>\n",
      "\n",
      "The nine angles shown in the matrix above are obviously redundant since only three angles are necessary to describe the rotation of a rigid body in the three-dimensional space.   \n",
      "We will not determine here how these nine angles are related because we will pursue another strategy to describe the angles of a rigid body after a rotation.  \n",
      "\n",
      "Rotating around different planes brings a problem with angles in the three-dimensional space: such angles can not be treated as vectors; the result of a sequence of rotations of a rigid body depends on the order of the rotations of the rigid body. The figure below illustrates this fact.\n",
      "\n",
      "<div class='center-align'><figure><img src='http://demotu.org/ipynb/rotationsseq.png' alt='rotations'/> <figcaption><i>The result of a sequence of rotations depends on the order of rotations.</i></figcaption> </figure></div><br>"
     ]
    },
    {
     "cell_type": "heading",
     "level": 3,
     "metadata": {},
     "source": [
      "Anatomical convention for rotations"
     ]
    },
    {
     "cell_type": "markdown",
     "metadata": {},
     "source": [
      "Angles described in relation to the three axes of a fixed coordinate system as performed above are more difficult to interpret as anatomical movements.  \n",
      "\n",
      "For instance, consider three-dimensional rotations of the shoulder (rotations of the upper limb in relation to the trunk) for a person standing at the anatomical neutral position with the trunk still. Let's adopt the global coordinate system fixed at the trunk (which does not move) with $\\mathbf{X}$ pointing forward, $\\mathbf{Y}$ pointing from right to left, and $\\mathbf{Z}$ pointing upward, and a local coordinate system at the upper limb initially aligned with the Global coordinate system. The three possible rotations of the shoulder starting from this initial position are well defined: flexion/extension at the sagital plane ($y$ axis around $\\mathbf{Y}$ axis), abduction/adduction at the frontal plane ($x$ axis around $\\mathbf{X}$ axis), and external/internal rotation at the coronal plane ($z$ axis around $\\mathbf{Z}$ axis).   \n",
      "\n",
      "These three angles are anatomical angles and also are the same angles we would derive as the direction angles. So far, so good.\n",
      "\n",
      "Note that although the $\\mathbf{Y}$ and $y$ initially coincide and so the flexion/extension rotation could be described around either one of them, we can only describe the flexion/extension rotation for all cases if we choose the $\\mathbf{Y}$ axis (internally rotate your shoulder to verify that). \n",
      "\n",
      "However, consider now that we extend (elevation of the upper limb) by $90^o$ and then perform an internal rotation of $90^o$ of the shoulder.  \n",
      "Is this internal rotation around the fixed $\\mathbf{Z}$ axis or around the long axis of the upper limb? The first option would be based on the concept of describing rotations around the fixed Global coordinate system, as we did for the direction cosines, the second option would be based on anatomical conventions for the movements. We usually prefer the second option to describe human movement (in fact, movement of any system with links and joints).   \n",
      "\n",
      "Note that if we adopt the anatomical convention, the rotation around the long axis of the upper limb means (always) a rotation around the $z$ axis of the local coordinate system (which is rotating). So, anatomically, extending the upper limb and then rotating internally means a rotation around the $\\mathbf{Y}$ axis and then a rotation around the $z$ axis.   \n",
      "\n",
      "Now after these two rotations, let's perform an abduction of the shoulder, anatomically we would move our upper limb at the horizontal from forward to the right position. This third rotation could be interpreted as around the $\\mathbf{Y}$ axis or $y$ axis but this was only the case for the upper limb at the horizontal position. For example, if we don't internally rotated our shoulder, the axis would be different. A more general approach for the anatomical desciption of this rotation would be to define the following axis: the abduction/adduction axis is perpendicular to both the $\\mathbf{Y}$ axis of the flexion/extension rotation and to the $y$ axis of the internal/extension rotation. Mathematically, it means that this axis is defined by the vectorial product between the flexion/extension $\\mathbf{Y}$ axis and the internal/extension $y$ axis."
     ]
    },
    {
     "cell_type": "heading",
     "level": 3,
     "metadata": {},
     "source": [
      "Euler/Cardan angles"
     ]
    },
    {
     "cell_type": "markdown",
     "metadata": {},
     "source": [
      "One strategy to handle rotations is to view any rotation as a result of a sequence of three single rotations around an axis in a determined order, what is known as Euler angles.\n",
      "\n",
      "The following figure illustrates these rotations:\n",
      "\n",
      "<div class='center-align'><figure><img src='http://demotu.org/ipynb/rotations.png' alt='rotations'/> <figcaption><i>Single rotations of a coordinate system around each axis of another coordinate system.</i></figcaption> </figure></div><br>\n",
      "\n",
      "Around $\\mathbf{Z}$ axis: \n",
      "\n",
      "$$ \\mathbf{R_{Zz}} = \n",
      "\\begin{bmatrix}\n",
      "cos\\alpha & -sin\\alpha & 0\\\\\n",
      "sin\\alpha & cos\\alpha & 0 \\\\\n",
      "0 & 0 & 1\n",
      "\\end{bmatrix} $$\n",
      "\n",
      "Around $\\mathbf{Y}$ axis: \n",
      "\n",
      "$$ \\mathbf{R_{Yy}} = \n",
      "\\begin{bmatrix}\n",
      "cos\\beta & 0 & sin\\beta \\\\\n",
      "0 & 1 & 0 \\\\\\\n",
      "-sin\\beta & 0 & cos\\beta\n",
      "\\end{bmatrix} $$\n",
      "\n",
      "Around $\\mathbf{X}$ axis: \n",
      "\n",
      "$$ \\mathbf{R_{Xx}} = \n",
      "\\begin{bmatrix}\n",
      "1 & 0 & 0 \\\\\\\n",
      "0 & cos\\gamma & -sin\\gamma \\\\\n",
      "0 & sin\\gamma & cos\\gamma\n",
      "\\end{bmatrix} $$\n",
      "\n",
      "\n",
      "A sequence of elementary rotations around $\\mathbf{X, Y, Z}$ axes: \n",
      "\n",
      "$$ \\begin{array}{l l}\n",
      "\\mathbf{R_{ZzYyXx}} & = \\mathbf{R_{Zz}} \\mathbf{R_{Yy}} \\mathbf{R_{Xx}} \\\\\n",
      "& = \\begin{bmatrix}\n",
      "cos\\alpha & -sin\\alpha & 0\\\\\n",
      "sin\\alpha & cos\\alpha & 0 \\\\\n",
      "0 & 0 & 1\n",
      "\\end{bmatrix}\n",
      "\\begin{bmatrix}\n",
      "cos\\beta & 0 & sin\\beta \\\\\n",
      "0 & 1 & 0 \\\\\n",
      "-sin\\beta & 0 & cos\\beta\n",
      "\\end{bmatrix}\n",
      "\\begin{bmatrix}\n",
      "1 & 0 & 0 \\\\\n",
      "0 & cos\\gamma & -sin\\gamma \\\\\n",
      "0 & sin\\gamma & cos\\gamma\n",
      "\\end{bmatrix} \\\\\n",
      "& =\n",
      "\\begin{bmatrix}\n",
      "cos\\alpha\\:cos\\beta \\;&\\;\n",
      "cos\\alpha\\:sin\\beta\\:sin\\gamma-sin\\alpha\\:cos\\gamma \\;&\\;\n",
      "cos\\alpha\\:sin\\beta\\:cos\\gamma+sin\\alpha\\:sin\\gamma \\;\\;\\; \\\\\n",
      "sin\\alpha\\:cos\\beta \\;&\\;\n",
      "sin\\alpha\\:sin\\beta\\:sin\\gamma+cos\\alpha\\:cos\\gamma \\;&\\;\n",
      "sin\\alpha\\:sin\\beta\\:cos\\gamma-cos\\alpha\\:sin\\gamma \\;\\;\\;  \\\\\n",
      "-sin\\beta \\;&\\; cos\\beta\\:sin\\gamma \\;&\\; cos\\beta\\:cos\\gamma \\;\\;\\;\n",
      "\\end{bmatrix} \n",
      "\\end{array} $$\n",
      "\n",
      "We can check this matrix multiplication using [Sympy](http://sympy.org/en/index.html), a computer algebra system:"
     ]
    },
    {
     "cell_type": "code",
     "collapsed": false,
     "input": [
      "from IPython.core.display import Math\n",
      "from sympy import symbols, cos, sin, Matrix, latex\n",
      "\n",
      "a, b, g = symbols('alpha beta gamma')\n",
      "\n",
      "RZz = Matrix([[cos(a), -sin(a), 0], [sin(a), cos(a), 0], [0, 0, 1]])\n",
      "RYy = Matrix([[cos(b), 0, sin(b)], [0, 1, 0], [-sin(b), 0, cos(b)]])\n",
      "RXx = Matrix([[1, 0, 0], [0, cos(g), -sin(g)], [0, sin(g), cos(g)]])\n",
      "\n",
      "RZzYyXx = RZz*RYy*RXx\n",
      "\n",
      "Math(latex('\\\\mathbf{R_{ZzYyXx}}=') + latex(RZzYyXx, mat_str = 'matrix'))"
     ],
     "language": "python",
     "metadata": {},
     "outputs": [
      {
       "latex": [
        "$$\\mathbf{R_{ZzYyXx}}=\\left[\\begin{matrix}{}\\cos{\\left (\\alpha \\right )} \\cos{\\left (\\beta \\right )} & - \\sin{\\left (\\alpha \\right )} \\cos{\\left (\\gamma \\right )} + \\sin{\\left (\\beta \\right )} \\sin{\\left (\\gamma \\right )} \\cos{\\left (\\alpha \\right )} & \\sin{\\left (\\alpha \\right )} \\sin{\\left (\\gamma \\right )} + \\sin{\\left (\\beta \\right )} \\cos{\\left (\\alpha \\right )} \\cos{\\left (\\gamma \\right )}\\\\\\sin{\\left (\\alpha \\right )} \\cos{\\left (\\beta \\right )} & \\sin{\\left (\\alpha \\right )} \\sin{\\left (\\beta \\right )} \\sin{\\left (\\gamma \\right )} + \\cos{\\left (\\alpha \\right )} \\cos{\\left (\\gamma \\right )} & \\sin{\\left (\\alpha \\right )} \\sin{\\left (\\beta \\right )} \\cos{\\left (\\gamma \\right )} - \\sin{\\left (\\gamma \\right )} \\cos{\\left (\\alpha \\right )}\\\\- \\sin{\\left (\\beta \\right )} & \\sin{\\left (\\gamma \\right )} \\cos{\\left (\\beta \\right )} & \\cos{\\left (\\beta \\right )} \\cos{\\left (\\gamma \\right )}\\end{matrix}\\right]$$"
       ],
       "metadata": {},
       "output_type": "pyout",
       "prompt_number": 4,
       "text": [
        "<IPython.core.display.Math at 0x6a282b0>"
       ]
      }
     ],
     "prompt_number": 4
    },
    {
     "cell_type": "markdown",
     "metadata": {},
     "source": [
      "If the rotation matrices are calculated from XYZ to xyz (the inverse), then the rotation matrix around each axis will be the inverse (transpose) and the sequence of rotations will be:"
     ]
    },
    {
     "cell_type": "code",
     "collapsed": false,
     "input": [
      "RzZyYxX = RZz.T*RYy.T*RXx.T\n",
      "Math(latex('\\\\mathbf{R_{zZyYxX}}=') + latex(RzZyYxX, mat_str = 'matrix'))"
     ],
     "language": "python",
     "metadata": {},
     "outputs": [
      {
       "latex": [
        "$$\\mathbf{R_{zZyYxX}}=\\left[\\begin{matrix}{}\\cos{\\left (\\alpha \\right )} \\cos{\\left (\\beta \\right )} & \\sin{\\left (\\alpha \\right )} \\cos{\\left (\\gamma \\right )} + \\sin{\\left (\\beta \\right )} \\sin{\\left (\\gamma \\right )} \\cos{\\left (\\alpha \\right )} & \\sin{\\left (\\alpha \\right )} \\sin{\\left (\\gamma \\right )} - \\sin{\\left (\\beta \\right )} \\cos{\\left (\\alpha \\right )} \\cos{\\left (\\gamma \\right )}\\\\- \\sin{\\left (\\alpha \\right )} \\cos{\\left (\\beta \\right )} & - \\sin{\\left (\\alpha \\right )} \\sin{\\left (\\beta \\right )} \\sin{\\left (\\gamma \\right )} + \\cos{\\left (\\alpha \\right )} \\cos{\\left (\\gamma \\right )} & \\sin{\\left (\\alpha \\right )} \\sin{\\left (\\beta \\right )} \\cos{\\left (\\gamma \\right )} + \\sin{\\left (\\gamma \\right )} \\cos{\\left (\\alpha \\right )}\\\\\\sin{\\left (\\beta \\right )} & - \\sin{\\left (\\gamma \\right )} \\cos{\\left (\\beta \\right )} & \\cos{\\left (\\beta \\right )} \\cos{\\left (\\gamma \\right )}\\end{matrix}\\right]$$"
       ],
       "metadata": {},
       "output_type": "pyout",
       "prompt_number": 7,
       "text": [
        "<IPython.core.display.Math at 0x6b6e8d0>"
       ]
      }
     ],
     "prompt_number": 7
    },
    {
     "cell_type": "markdown",
     "metadata": {},
     "source": [
      "This last rotation matrix is most commonly used in biomechanics.   \n",
      "In fact, the axes of rotation are not fixed in space because after the first single rotation, the other two axes point to different directions. Because of that, the rotation matrix above is more correctly referred as $\\mathbf{R_{zy'x''}}.$   \n",
      "\n",
      "The three corresponding angles of a sequence of three single rotations to describe any rotation of a rigid body are called Euler angles.   \n",
      "Other sequences of rotations could be produced; there is a total of 12 different sequences of three single rotations that are valid and may be used for describing the rotation of a coordinate system. It is just a matter of convention.\n",
      "\n",
      "Once a convention is adopted, the correspoding three Euler angles of rotation can be found by (using matrix $\\mathbf{R_{zZyYxX}}$):\n",
      "\n",
      "$$ \\begin{array}{l l}\n",
      "\\alpha = arctan\\left(\\frac{-\\mathbf{R_{32}}}{\\;\\;\\;\\mathbf{R_{33}}}\\right) \\\\\n",
      "\\beta = arctan\\left(\\frac{\\mathbf{R_{31}}}{\\sqrt{\\mathbf{R_{11}^2}+\\mathbf{R_{12}^2}}}\\right) \\\\\n",
      "\\gamma = arctan\\left(\\frac{-\\mathbf{R_{21}}}{\\;\\;\\;\\mathbf{R_{11}}}\\right)\n",
      "\\end{array} $$"
     ]
    },
    {
     "cell_type": "heading",
     "level": 2,
     "metadata": {},
     "source": [
      "Determination of the rotation matrix"
     ]
    },
    {
     "cell_type": "markdown",
     "metadata": {},
     "source": [
      "A typical way to determine the rotation matrix for a rigid body in biomechanics is to use motion analysis to measure the position of at least three non-colinear markers placed on the rigid body and then calculate a basis with these positions similar to what we have described for the two-dimensional case."
     ]
    },
    {
     "cell_type": "heading",
     "level": 3,
     "metadata": {},
     "source": [
      "Basis"
     ]
    },
    {
     "cell_type": "markdown",
     "metadata": {},
     "source": [
      "If we have the position of three markers: **m1**, **m2**, **m3**, a basis (formed by three orthogonal versors) can be found as: first axis, **v1**, is given by the vector **m2-m1**; the second axis, **v2**, by the cross product between the vectors **v1** and **m3-m1**; and the third vector, **v3**, by the cross product between the vectors **v1** and **v2**.  \n",
      "Then each of these vectors are normalized resulting in three othogonal versors.   \n",
      "\n",
      "For example, given the positions m1 = [1,0,0], m2 = [0,1,0], m3 = [0,0,1], a basis can be found:"
     ]
    },
    {
     "cell_type": "code",
     "collapsed": false,
     "input": [
      "m1 = np.array([1, 0, 0])\n",
      "m2 = np.array([0, 1, 0])\n",
      "m3 = np.array([0, 0, 1])\n",
      "\n",
      "v1 = m2 - m1\n",
      "v2 = np.cross(v1, m3 - m1)\n",
      "v3 = np.cross(v1, v2)\n",
      "\n",
      "print('Versors:')\n",
      "v1 = v1/np.linalg.norm(v1)\n",
      "print('v1=', v1)\n",
      "\n",
      "v2 = v2/np.linalg.norm(v2)\n",
      "print('v2=', v2)\n",
      "\n",
      "v3 = v3/np.linalg.norm(v3)\n",
      "print('v3=', v3)\n",
      "\n",
      "print('\\nNorm of each versor:\\n', np.linalg.norm(np.cross(v1, v2)), np.linalg.norm(np.cross(v1, v3)),\n",
      "      np.linalg.norm(np.cross(v2, v3)))"
     ],
     "language": "python",
     "metadata": {},
     "outputs": [
      {
       "output_type": "stream",
       "stream": "stdout",
       "text": [
        "Versors:\n",
        "v1= [-0.70710678  0.70710678  0.        ]\n",
        "v2= [ 0.57735027  0.57735027  0.57735027]\n",
        "v3= [ 0.40824829  0.40824829 -0.81649658]\n",
        "\n",
        "Norm of each versor:\n",
        " 1.0 1.0 1.0\n"
       ]
      }
     ],
     "prompt_number": 8
    },
    {
     "cell_type": "markdown",
     "metadata": {},
     "source": [
      "Remember that the versors of this basis are the columns (or rows) of the rotation matrix."
     ]
    },
    {
     "cell_type": "heading",
     "level": 2,
     "metadata": {},
     "source": [
      "Translation and Rotation"
     ]
    },
    {
     "cell_type": "markdown",
     "metadata": {},
     "source": [
      "Consider now the case where the local coordinate system is translated and rotated in relation to the global coordinate system as illustrated in the figure below:\n",
      "\n",
      "<div class='center-align'><figure><img src='http://demotu.org/ipynb/transrot3D.png' alt='translation and rotation 3D'/> <figcaption><i>A point in three-dimensional space represented in two coordinate systems, with one system translated and rotated.</i></figcaption> </figure></div><br>\n",
      "\n",
      "The position of point **P** originally described in the local coordinate system, but now described in the global coordinate system in vector form is:\n",
      "\n",
      "$$ \\mathbf{P_G} = \\mathbf{L_G} + \\mathbf{R_{Gl}}\\mathbf{P_l} $$\n",
      "\n",
      "This means that we first *disrotate* the local coordinate system and then correct for the translation between the two coordinate systems. Note that we can't invert this order: the point position is expressed in the local coordinate system and we can't add this vector to another vector expressed in the global coordinate system, first we have to convert the vectors to the same coordinate system.\n",
      "\n",
      "If now we want to find the position of a point at the local coordinate system given its position in the global coordinate system, the rotation matrix and the translation vector, we have to invert the expression above:\n",
      "\n",
      "$$ \\begin{array}{l l}\n",
      "\\mathbf{P_G} = \\mathbf{L_G} + \\mathbf{R_{Gl}}\\mathbf{P_l} \\implies \\\\\n",
      "\\mathbf{R_{Gl}^{-1}}\\cdot\\mathbf{P_G} = \\mathbf{R_{Gl}^{-1}}\\left(\\mathbf{L_G} + \\mathbf{R_{Gl}}\\mathbf{P_l}\\right) \\implies \\\\\n",
      "\\mathbf{R_{Gl}^{-1}}\\mathbf{P_G} = \\mathbf{R_{Gl}^{-1}}\\mathbf{L_G} + \\mathbf{R_{Gl}^{-1}}\\mathbf{R_{Gl}}\\mathbf{P_l} \\implies \\\\\n",
      "\\mathbf{P_l} = \\mathbf{R_{Gl}^{-1}}\\left(\\mathbf{P_G}-\\mathbf{L_G}\\right) = \\mathbf{R_{Gl}^T}\\left(\\mathbf{P_G}-\\mathbf{L_G}\\right) \\;\\;\\;\\;\\; \\text{or} \\;\\;\\;\\;\\; \\mathbf{P_l} = \\mathbf{R_{lG}}\\left(\\mathbf{P_G}-\\mathbf{L_G}\\right) \n",
      "\\end{array} $$\n",
      "\n",
      "The expression above indicates that to perform the inverse operation, to go from the global to the local coordinate system, we first translate and then rotate the coordinate system."
     ]
    },
    {
     "cell_type": "heading",
     "level": 3,
     "metadata": {},
     "source": [
      "Transformation matrix"
     ]
    },
    {
     "cell_type": "markdown",
     "metadata": {},
     "source": [
      "It is possible to combine the translation and rotation operations in only one matrix, called the transformation matrix:\n",
      "\n",
      "$$ \\begin{bmatrix}\n",
      "\\mathbf{P_X} \\\\\n",
      "\\mathbf{P_Y} \\\\\n",
      "\\mathbf{P_Z} \\\\\n",
      "1\n",
      "\\end{bmatrix} =\n",
      "\\begin{bmatrix}\n",
      ". & . & . & \\mathbf{L_{X}} \\\\\n",
      ". & \\mathbf{R_{Gl}} & .  & \\mathbf{L_{Y}} \\\\\n",
      ". & . & .  & \\mathbf{L_{Z}} \\\\\n",
      "0 & 0 & 0 & 1\n",
      "\\end{bmatrix}\n",
      "\\begin{bmatrix}\n",
      "\\mathbf{P}_x \\\\\n",
      "\\mathbf{P}_y \\\\\n",
      "\\mathbf{P}_z \\\\\n",
      "1\n",
      "\\end{bmatrix} $$\n",
      "\n",
      "Or simply:\n",
      "\n",
      "$$ \\mathbf{P_G} = \\mathbf{T_{Gl}}\\mathbf{P_l} $$\n",
      "\n",
      "The inverse operation, to express the position at the local coordinate system in terms of the global reference system, is:\n",
      "\n",
      "$$ \\mathbf{P_l} = \\mathbf{T_{Gl}^{-1}}\\mathbf{P_G} \\;\\;\\;\\;\\; \\text{or} \\;\\;\\;\\;\\; \\mathbf{P_l} = \\mathbf{T_{Gl}^T}\\mathbf{P_G} $$\n",
      "\n",
      "And in matrix form:\n",
      "\n",
      "$$ \\begin{bmatrix}\n",
      "\\mathbf{P_x} \\\\\n",
      "\\mathbf{P_y} \\\\\n",
      "\\mathbf{P_z} \\\\\n",
      "1\n",
      "\\end{bmatrix} =\n",
      "\\begin{bmatrix}\n",
      "\\cdot & \\cdot & \\cdot & \\cdot \\\\\n",
      "\\cdot & \\mathbf{R^{-1}_{Gl}} & \\cdot  & -\\mathbf{R^{-1}_{Gl}}\\:\\mathbf{L_G} \\\\\\\n",
      "\\cdot & \\cdot & \\cdot  & \\cdot \\\\\n",
      "0 & 0 & 0 & 1\n",
      "\\end{bmatrix}\n",
      "\\begin{bmatrix}\n",
      "\\mathbf{P_X} \\\\\n",
      "\\mathbf{P_Y} \\\\\n",
      "\\mathbf{P_Z} \\\\\n",
      "1\n",
      "\\end{bmatrix} $$\n",
      "\n",
      "..."
     ]
    },
    {
     "cell_type": "heading",
     "level": 2,
     "metadata": {},
     "source": [
      "References"
     ]
    },
    {
     "cell_type": "markdown",
     "metadata": {},
     "source": [
      "- Ruina A, Rudra P (2013) [Introduction to Statics and Dynamics](http://ruina.tam.cornell.edu/Book/index.html). Oxford University Press.\n",
      "- Zatsiorsky VM (1997) [Kinematics of Human Motion](http://books.google.com.br/books/about/Kinematics_of_Human_Motion.html?id=Pql_xXdbrMcC&redir_esc=y). Champaign, Human Kinetics."
     ]
    }
   ],
   "metadata": {}
  }
 ]
}