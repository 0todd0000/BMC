{
 "metadata": {
  "name": ""
 },
 "nbformat": 3,
 "nbformat_minor": 0,
 "worksheets": [
  {
   "cells": [
    {
     "cell_type": "heading",
     "level": 1,
     "metadata": {},
     "source": [
      "Rigid-body transformations (three-dimensional)"
     ]
    },
    {
     "cell_type": "markdown",
     "metadata": {},
     "source": [
      "Marcos Duarte"
     ]
    },
    {
     "cell_type": "markdown",
     "metadata": {},
     "source": [
      "We now want to generalize what we saw in the text [Rigid-body transformations (two-dimensional)](http://nbviewer.ipython.org/urls/raw.github.com/duartexyz/BMC/master/Transformation2D.ipynb) for the three-dimensional case.   \n",
      "For this, we will follow the rationale adopted in the previous text but will skip the fundamental concepts already covered there.   \n",
      "So, you if haven't done yet, you should read [Rigid-body transformations (two-dimensional)](http://nbviewer.ipython.org/urls/raw.github.com/duartexyz/BMC/master/Transformation2D.ipynb) before continuing here."
     ]
    },
    {
     "cell_type": "heading",
     "level": 2,
     "metadata": {},
     "source": [
      "Translation"
     ]
    },
    {
     "cell_type": "markdown",
     "metadata": {},
     "source": [
      "A pure three-dimensional translation of a rigid body (or a coordinate system attached to it) in relation to other rigid body (coordinate system) is illustrated in the figure below:\n",
      "\n",
      "<div class='center-align'><figure><img src='files/images/translation3D.png' alt='translation 3D'/> <figcaption><i>A point in three-dimensional space represented in two coordinate systems, with one system translated.</i></figcaption> </figure></div><br>\n",
      "\n",
      "The position of point **P** originally described in the *xyz* (local) coordinate system but now described in the **XYZ** (Global) coordinate system in vector form is:\n",
      "\n",
      "$$ \\mathbf{P_G} = \\mathbf{L_G} + \\mathbf{P_l} $$\n",
      "\n",
      "And in matrix form is:\n",
      "\n",
      "$$ \\begin{bmatrix}\n",
      "\\mathbf{P_X} \\\\\n",
      "\\mathbf{P_Y} \\\\\n",
      "\\mathbf{P_Z} \n",
      "\\end{bmatrix} =\n",
      "\\begin{bmatrix}\n",
      "\\mathbf{L_X} \\\\\n",
      "\\mathbf{L_Y} \\\\\n",
      "\\mathbf{L_Z} \n",
      "\\end{bmatrix} +\n",
      "\\begin{bmatrix}\n",
      "\\mathbf{P}_x \\\\\n",
      "\\mathbf{P}_y \\\\\n",
      "\\mathbf{P}_z \n",
      "\\end{bmatrix} $$\n",
      "\n",
      "From classical mechanics, this is an example of [Galilean transformation](http://en.wikipedia.org/wiki/Galilean_transformation).   \n",
      "\n",
      "For example, if the local coordinate system is translated by $\\mathbf{L_G}$=[1, 2, 3] in relation to the global coordinate system, a point with coordinates $\\mathbf{P_l}$=[4, 5, 6] at the local coordinate system will have the position $\\mathbf{P_G}$=[5, 7, 9] at the global coordinate system:"
     ]
    },
    {
     "cell_type": "code",
     "collapsed": false,
     "input": [
      "# Import the necessary libraries\n",
      "from __future__ import division, print_function\n",
      "import numpy as np\n",
      "from IPython import display"
     ],
     "language": "python",
     "metadata": {},
     "outputs": [],
     "prompt_number": 1
    },
    {
     "cell_type": "code",
     "collapsed": false,
     "input": [
      "LG = np.array([1, 2, 3]) # declare variable as NumPy array (1D array with 2 elements)\n",
      "Pl = np.array([4, 5, 6])\n",
      "PG = LG + Pl\n",
      "PG"
     ],
     "language": "python",
     "metadata": {},
     "outputs": [
      {
       "metadata": {},
       "output_type": "pyout",
       "prompt_number": 2,
       "text": [
        "array([5, 7, 9])"
       ]
      }
     ],
     "prompt_number": 2
    },
    {
     "cell_type": "markdown",
     "metadata": {},
     "source": [
      "This operation also works if we have more than one point (NumPy knows how to handle vectors with different dimensions):"
     ]
    },
    {
     "cell_type": "code",
     "collapsed": false,
     "input": [
      "Pl = np.array([[1, 2, 3], [4, 5, 6], [7, 8, 9]]) # 2D array with 3 rows and two columns\n",
      "PG = LG + Pl\n",
      "PG"
     ],
     "language": "python",
     "metadata": {},
     "outputs": [
      {
       "metadata": {},
       "output_type": "pyout",
       "prompt_number": 3,
       "text": [
        "array([[ 2,  4,  6],\n",
        "       [ 5,  7,  9],\n",
        "       [ 8, 10, 12]])"
       ]
      }
     ],
     "prompt_number": 3
    },
    {
     "cell_type": "heading",
     "level": 2,
     "metadata": {},
     "source": [
      "Rotation"
     ]
    },
    {
     "cell_type": "markdown",
     "metadata": {},
     "source": [
      "A pure three-dimensional rotation of a $xyz$ (local) coordinate system in relation to other $\\mathbf{XYZ}$  (Global) coordinate system and the position of a point in these two coordinate systems are illustrated in the figure below.\n",
      "\n",
      "<div class='center-align'><figure><img src='files/images/rotation3D.png' alt='rotation 3D'/> <figcaption><i>A point in three-dimensional space represented in two coordinate systems, with one system rotated.</i></figcaption> </figure></div><br>\n",
      "\n",
      "In analogy to the rotation in two dimensions, we can calculate the rotation matrix that describes the rotation of the $xyz$ coordinate system in relation to the $\\mathbf{XYZ}$ coordinate system using the direction cosines between the axes of the two coordinate systems:\n",
      "\n",
      "$$ \\mathbf{R_{Gl}} = \\begin{bmatrix}\n",
      "cos\\mathbf{X}x & cos\\mathbf{X}y & cos\\mathbf{X}z \\\\\n",
      "cos\\mathbf{Y}x & cos\\mathbf{Y}y & cos\\mathbf{Y}z \\\\\n",
      "cos\\mathbf{Z}x & cos\\mathbf{Z}y & cos\\mathbf{Z}z\n",
      "\\end{bmatrix} $$\n",
      "\n",
      "Note however that for rotations around more than one axis, these angles will not lie in the main planes ($\\mathbf{XY, YZ, ZX}$) of the $\\mathbf{XYZ}$ coordinate system, as illustrated in the figure below for the direction angles of the *y* axis only.\n",
      "\n",
      "<div class='center-align'><figure><img src='files/images/directioncosine3D.png' width=260 alt='direction angles 3D'/> <figcaption><i>Definition of direction angles for the $y$ axis in relation to the $\\mathbf{XYZ}$ coordinate system.</i></figcaption> </figure></div><br>\n",
      "\n",
      "The nine angles shown in the matrix above are obviously redundant since only three angles are necessary to describe the orientation of a rigid body in the three-dimensional space (and we need other three coordinates to describe its position, totalizing six degrees of freedom for a rigid body in the three-dimensional space).   \n",
      "\n",
      "Rotating around different axes of a fixed coordinate system brings a problem with angles in the three-dimensional space: such angles can not be treated as vectors; the result of a sequence of rotations of a rigid body depends on the order of the rotations, as illustrates next.\n",
      "\n",
      "<div class='center-align'><figure><img src='files/images/rotationsseq.png' alt='rotations'/> <figcaption><i>The result of a sequence of rotations around different axes of a fixed coordinate system depends on the order of the rotations.</i></figcaption> </figure></div><br>"
     ]
    },
    {
     "cell_type": "heading",
     "level": 3,
     "metadata": {},
     "source": [
      "Anatomical convention for rotations"
     ]
    },
    {
     "cell_type": "markdown",
     "metadata": {},
     "source": [
      "Angles described in relation to the three axes of a fixed coordinate system as performed above are usually more difficult to interpret as anatomical movements (in fact, this difficult is also present for movements of any system with links and joints).  \n",
      "\n",
      "For instance, consider three-dimensional rotations of the shoulder (rotations of the upper limb in relation to the trunk) for a person standing at the [anatomical position](http://nbviewer.ipython.org/urls/raw.github.com/duartexyz/BMC/master/Frame%20of%20reference.ipynb) with the trunk still. Let's adopt the global coordinate system fixed at the trunk (which does not move) with $\\mathbf{X}$ pointing from left to right, $\\mathbf{Y}$ pointing forward, AND $\\mathbf{Z}$ pointing upward, and a local coordinate system at the upper limb initially aligned with the Global coordinate system. The three possible rotations of the shoulder always starting from this initial position are well defined: flexion/extension at the sagital plane ($x$ axis around $\\mathbf{X}$ axis), abduction/adduction at the frontal plane ($y$ axis around $\\mathbf{Y}$ axis), and external/internal rotation at the coronal plane ($z$ axis around $\\mathbf{Z}$ axis).   \n",
      "\n",
      "These three angles are anatomical angles and also are the same angles we would derive as the direction angles. So far, so good.\n",
      "\n",
      "However, consider now that starting from the [anatomical position](http://nbviewer.ipython.org/urls/raw.github.com/duartexyz/BMC/master/Frame%20of%20reference.ipynb) we flex the shoulder (elevation of the upper limb to the forward direction) by $90^o$ and then perform an internal rotation of $90^o$ of the shoulder.  \n",
      "Is this internal rotation around the fixed $\\mathbf{Z}$ axis or around the long axis of the upper limb ($\\mathbf{z}$)? The first option would be based on the concept of describing rotations around the fixed Global coordinate system, as we did for the direction cosines, the second option would be based on anatomical conventions for the movements. We usually prefer the second option to describe human movement.   \n",
      "\n",
      "Note that if we adopt the anatomical convention, the rotation around the long axis of the upper limb means (always) a rotation around the $z$ axis of the local coordinate system (which is rotating). So, anatomically, flexing the upper limb and then rotating internally means a rotation around the $\\mathbf{X}$ axis and then a rotation around the $z$ axis. Note that for the first rotation, although the $\\mathbf{X}$ and $x$ initially coincide and so the flexion/extension rotation could be described around either one of them, we can only describe the flexion/extension rotation for all cases if we choose the $\\mathbf{X}$ axis (internally rotate your shoulder before the flexion to verify that).   \n",
      "\n",
      "Now after these two rotations, let's perform an abduction of the shoulder, anatomically we would move our upper limb at the horizontal from forward to the right position. This third rotation could be interpreted as around the $\\mathbf{Z}$ axis or the $x$ axis (remember that the local coordinate system rotated twice) but this was only the case for the upper limb at the horizontal position. For example, if we started with the abduction, the axis would be different. A more general approach for the anatomical desciption of this rotation would be to define the following axis: the abduction/adduction axis is perpendicular to both the $\\mathbf{X}$ axis of the flexion/extension rotation and to the $z$ axis of the internal/extension rotation.\n",
      "\n",
      "The fact we need a more functional way to define a coordinate system in order to describe angles in three-dimensions leads us to the next topic."
     ]
    },
    {
     "cell_type": "heading",
     "level": 3,
     "metadata": {},
     "source": [
      "Euler angles"
     ]
    },
    {
     "cell_type": "markdown",
     "metadata": {},
     "source": [
      "One strategy to handle rotations is to view any rotation as a result of a sequence of three elemental rotations  in a determined order, what is known as Euler angles.   \n",
      "The fact that any rotation can be viewed as the result of a sequence of three elemental rotations was discovered by Euler, himself.\n",
      "\n",
      "The following figure illustrates these elemental rotations:\n",
      "\n",
      "<div class='center-align'><figure><img src='files/images/rotations.png' alt='rotations'/> <figcaption><i>Elemental rotations of a coordinate system around each axis of another coordinate system.</i></figcaption> </figure></div><br>\n",
      "\n",
      "Around $\\mathbf{X}$ axis: \n",
      "\n",
      "$$ \\mathbf{R_{X}} = \n",
      "\\begin{bmatrix}\n",
      "1 & 0 & 0 \\\\\n",
      "0 & cos\\alpha & -sin\\alpha \\\\\n",
      "0 & sin\\alpha & cos\\alpha\n",
      "\\end{bmatrix} $$\n",
      "\n",
      "Around $\\mathbf{Y}$ axis: \n",
      "\n",
      "$$ \\mathbf{R_{Y}} = \n",
      "\\begin{bmatrix}\n",
      "cos\\beta & 0 & sin\\beta \\\\\n",
      "0 & 1 & 0 \\\\\n",
      "-sin\\beta & 0 & cos\\beta\n",
      "\\end{bmatrix} $$\n",
      "\n",
      "Around $\\mathbf{Z}$ axis: \n",
      "\n",
      "$$ \\mathbf{R_{Z}} = \n",
      "\\begin{bmatrix}\n",
      "cos\\gamma & -sin\\gamma & 0\\\\\n",
      "sin\\gamma & cos\\gamma & 0 \\\\\n",
      "0 & 0 & 1\n",
      "\\end{bmatrix} $$\n",
      "\n",
      "Consider now a sequence of elemental rotations around the $\\mathbf{X, Y, Z}$ axes illustrated in the figure below: \n",
      "\n",
      "<div class='center-align'><figure><img src='files/images/rotationsXYZ.png' alt='rotations'/> <figcaption><i>Sequence of elemental rotations of a coordinate system around each axis of another coordinate system.</i></figcaption> </figure></div><br>\n",
      "\n",
      "This sequence of elemental rotations has the following rotation matrix:\n",
      "\n",
      "$$ \\begin{array}{l l}\n",
      "\\mathbf{R_{XYZ}} & = \\mathbf{R_{Z}} \\mathbf{R_{Y}} \\mathbf{R_{X}} \\\\\n",
      "& = \\begin{bmatrix}\n",
      "cos\\gamma & -sin\\gamma & 0\\\\\n",
      "sin\\gamma & cos\\gamma & 0 \\\\\n",
      "0 & 0 & 1\n",
      "\\end{bmatrix}\n",
      "\\begin{bmatrix}\n",
      "cos\\beta & 0 & sin\\beta \\\\\n",
      "0 & 1 & 0 \\\\\n",
      "-sin\\beta & 0 & cos\\beta\n",
      "\\end{bmatrix}\n",
      "\\begin{bmatrix}\n",
      "1 & 0 & 0 \\\\\n",
      "0 & cos\\alpha & -sin\\alpha \\\\\n",
      "0 & sin\\alpha & cos\\alpha\n",
      "\\end{bmatrix} \\\\\n",
      "& =\n",
      "\\begin{bmatrix}\n",
      "cos\\beta\\:cos\\gamma \\;&\\;\n",
      "sin\\alpha\\:sin\\beta\\:cos\\gamma-cos\\alpha\\:sin\\gamma \\;&\\;\n",
      "cos\\alpha\\:sin\\beta\\:cos\\gamma+sin\\alpha\\:sin\\gamma \\;\\;\\; \\\\\n",
      "cos\\beta\\:sin\\gamma \\;&\\;\n",
      "sin\\alpha\\:sin\\beta\\:sin\\gamma+cos\\alpha\\:cos\\gamma \\;&\\;\n",
      "cos\\alpha\\:sin\\beta\\:sin\\gamma-sin\\alpha\\:cos\\gamma \\;\\;\\;  \\\\\n",
      "-sin\\beta \\;&\\; sin\\alpha\\:cos\\beta \\;&\\; cos\\alpha\\:cos\\beta \\;\\;\\;\n",
      "\\end{bmatrix} \n",
      "\\end{array} $$\n",
      "\n",
      "Note that the order of the multiplication for the matrices in from right to left.\n",
      "\n",
      "We can check this matrix multiplication using [Sympy](http://sympy.org/en/index.html):"
     ]
    },
    {
     "cell_type": "code",
     "collapsed": false,
     "input": [
      "from IPython.core.display import Math\n",
      "from sympy import symbols, cos, sin, Matrix, latex, simplify, expand\n",
      "\n",
      "a, b, g = symbols('alpha beta gamma')\n",
      "\n",
      "RX = Matrix([[1, 0, 0], [0, cos(a), -sin(a)], [0, sin(a), cos(a)]])\n",
      "RY = Matrix([[cos(b), 0, sin(b)], [0, 1, 0], [-sin(b), 0, cos(b)]])\n",
      "RZ = Matrix([[cos(g), -sin(g), 0], [sin(g), cos(g), 0], [0, 0, 1]])\n",
      "\n",
      "RXYZ = RZ*RY*RX\n",
      "\n",
      "Math(latex('\\\\mathbf{R_{XYZ}}=') + latex(RXYZ, mat_str = 'matrix'))"
     ],
     "language": "python",
     "metadata": {},
     "outputs": [
      {
       "latex": [
        "$$\\mathbf{R_{XYZ}}=\\left[\\begin{matrix}{}\\cos{\\left (\\beta \\right )} \\cos{\\left (\\gamma \\right )} & \\sin{\\left (\\alpha \\right )} \\sin{\\left (\\beta \\right )} \\cos{\\left (\\gamma \\right )} - \\sin{\\left (\\gamma \\right )} \\cos{\\left (\\alpha \\right )} & \\sin{\\left (\\alpha \\right )} \\sin{\\left (\\gamma \\right )} + \\sin{\\left (\\beta \\right )} \\cos{\\left (\\alpha \\right )} \\cos{\\left (\\gamma \\right )}\\\\\\sin{\\left (\\gamma \\right )} \\cos{\\left (\\beta \\right )} & \\sin{\\left (\\alpha \\right )} \\sin{\\left (\\beta \\right )} \\sin{\\left (\\gamma \\right )} + \\cos{\\left (\\alpha \\right )} \\cos{\\left (\\gamma \\right )} & - \\sin{\\left (\\alpha \\right )} \\cos{\\left (\\gamma \\right )} + \\sin{\\left (\\beta \\right )} \\sin{\\left (\\gamma \\right )} \\cos{\\left (\\alpha \\right )}\\\\- \\sin{\\left (\\beta \\right )} & \\sin{\\left (\\alpha \\right )} \\cos{\\left (\\beta \\right )} & \\cos{\\left (\\alpha \\right )} \\cos{\\left (\\beta \\right )}\\end{matrix}\\right]$$"
       ],
       "metadata": {},
       "output_type": "pyout",
       "prompt_number": 1,
       "text": [
        "<IPython.core.display.Math at 0x10f428f50>"
       ]
      }
     ],
     "prompt_number": 1
    },
    {
     "cell_type": "markdown",
     "metadata": {},
     "source": [
      "If the rotation matrices are calculated from $\\mathbf{XYZ}$ to $xyz$ (the inverse), then the rotation matrix around each axis will be the inverse (transpose) of each elemental matrix and the sequence of rotations will be:"
     ]
    },
    {
     "cell_type": "code",
     "collapsed": false,
     "input": [
      "Rxyz = RZ.T*RY.T*RX.T\n",
      "Math(latex('\\\\mathbf{R_{xyz}}=') + latex(Rxyz, mat_str = 'matrix'))"
     ],
     "language": "python",
     "metadata": {},
     "outputs": [
      {
       "latex": [
        "$$\\mathbf{R_{xyz}}=\\left[\\begin{matrix}{}\\cos{\\left (\\beta \\right )} \\cos{\\left (\\gamma \\right )} & \\sin{\\left (\\alpha \\right )} \\sin{\\left (\\beta \\right )} \\cos{\\left (\\gamma \\right )} + \\sin{\\left (\\gamma \\right )} \\cos{\\left (\\alpha \\right )} & \\sin{\\left (\\alpha \\right )} \\sin{\\left (\\gamma \\right )} - \\sin{\\left (\\beta \\right )} \\cos{\\left (\\alpha \\right )} \\cos{\\left (\\gamma \\right )}\\\\- \\sin{\\left (\\gamma \\right )} \\cos{\\left (\\beta \\right )} & - \\sin{\\left (\\alpha \\right )} \\sin{\\left (\\beta \\right )} \\sin{\\left (\\gamma \\right )} + \\cos{\\left (\\alpha \\right )} \\cos{\\left (\\gamma \\right )} & \\sin{\\left (\\alpha \\right )} \\cos{\\left (\\gamma \\right )} + \\sin{\\left (\\beta \\right )} \\sin{\\left (\\gamma \\right )} \\cos{\\left (\\alpha \\right )}\\\\\\sin{\\left (\\beta \\right )} & - \\sin{\\left (\\alpha \\right )} \\cos{\\left (\\beta \\right )} & \\cos{\\left (\\alpha \\right )} \\cos{\\left (\\beta \\right )}\\end{matrix}\\right]$$"
       ],
       "metadata": {},
       "output_type": "pyout",
       "prompt_number": 2,
       "text": [
        "<IPython.core.display.Math at 0x10df31f90>"
       ]
      }
     ],
     "prompt_number": 2
    },
    {
     "cell_type": "markdown",
     "metadata": {},
     "source": [
      "Keep in mind that $\\mathbf{R_{Z}}^T\\mathbf{R_{Y}}^T\\mathbf{R_{X}}^T$ is not equal to $\\mathbf{R_{XYZ}}^T$, check the terms of the two matrices above.\n",
      "\n",
      "The use of a rotation matrix from the Global to the local coordinate system is more common in motion analysis (because we usually know the positions of the markers in the Global coordinate system). Considering this rotation matrix, in fact, the axes of rotations are not fixed in space because after the first elemental rotation of the local coordinate system, the other two axes point to different directions. Because of that, the rotation matrix above is more correctly referred as $\\mathbf{R}_{xy'z''}$.  \n",
      "\n",
      "Other sequences of rotations could be produced; there is a total of 12 different sequences of three elemental rotations that are valid and may be used for describing the rotation of a coordinate system:\n",
      "\n",
      "> $$ xyz\\;\\;-\\;\\; xzy\\;\\;-\\;\\; yzx\\;\\;-\\;\\; yxz\\;\\;-\\;\\; zxy\\;\\;-\\;\\; zyx  $$\n",
      "\n",
      "> $$ xyx\\;\\;-\\;\\; xzx\\;\\;-\\;\\; yzy\\;\\;-\\;\\; yxy\\;\\;-\\;\\; zxz\\;\\;-\\;\\; zyz  $$\n",
      "\n",
      "The first six rotations (the first row) are all around different axes, they are usually referred as Cardan angles.\n",
      "\n",
      "Which order to use, it is just a matter of convention."
     ]
    },
    {
     "cell_type": "markdown",
     "metadata": {},
     "source": [
      "**Euler angles for human movement analysis**\n",
      "\n",
      "Elemental rotations around fixed axes still don't solve our problem of choosing a more functional way to describe rotations for human movement. However, now it is only a question of selecting the axes of elemental rotations to correspond to the anatomical convention we want, for example, the three axes of rotations we previously selected for rotations of the shoulder.\n",
      "\n",
      "Let's see again the convention we proposed to decribe the rotations of the shoulder:\n",
      "\n",
      " - An axis defined as the medio-lateral axis of the Global (proximal) coordinate system ($X$).\n",
      " - An axis defined as the longitudinal/vertical axis of the local (distal) coordinate system ($z$).\n",
      " - And an axis defined neither at the Global nor at the local coordinate systems, rather defined as perpendicular to both previous axes ($X$ and $z$), a floating axis, referred as $y$.\n",
      " \n",
      "Based on the axes above, but inverting the order of the two last axes, an usual convention in Biomechanics is to define the following order of rotations:   \n",
      "\n",
      " 1. Around the $X$ (flexion/extension) axis of the proximal segment.   \n",
      " 2. Around the floating $y$ (abduction/adduction) axis (floating, perpendicular to axes 1 and 3).   \n",
      " 3. Around the $z$ (external/internal) axis of the distal segment.   \n",
      " \n",
      "This sequence would be simply referred as $xyz$ (but the specific letters we use to define the different axes are arbitrary, the important is the meaning of the directions: flexion/extension, abduction/adduction, and external/internal rotation).   \n",
      "These axes and sequence definition is also called joint coordinate system; it was proposed by Grood and Suntay in 1983 *'for the clinical description of three-dimensional motions'* and it has been used in Biomechanics since then.\n",
      "\n",
      "The floating axis perpendicular to axes of the different coordinate systems is also called the nodal axis. The figure below shows this nodal axis for a particular sequence of rotations.\n",
      "\n",
      "<div class='center-align'><figure><img src='http://upload.wikimedia.org/wikipedia/commons/thumb/a/a1/Eulerangles.svg/213px-Eulerangles.svg.png' alt='rotations'/> <figcaption><i>Euler angles representing rotations about z-, N-, and Z-axis. The xyz (original) system is shown in blue, the XYZ (rotated) system is shown in red. The line of nodes (N) is shown in green ([Wikipedia](http://en.wikipedia.org/wiki/Euler_angles)).</i></figcaption> </figure></div><br>\n",
      "\n",
      "Once a convention is adopted, the correspoding three Euler angles of rotation can be found.   \n",
      "For example, for the $\\mathbf{R}_{xyz}$ rotation matrix commonly used in Biomechanics:"
     ]
    },
    {
     "cell_type": "code",
     "collapsed": false,
     "input": [
      "Rxyz = RZ.T*RY.T*RX.T\n",
      "Math(latex('\\\\mathbf{R_{xyz}}=') + latex(Rxyz, mat_str = 'matrix'))"
     ],
     "language": "python",
     "metadata": {},
     "outputs": [
      {
       "latex": [
        "$$\\mathbf{R_{xyz}}=\\left[\\begin{matrix}{}\\cos{\\left (\\beta \\right )} \\cos{\\left (\\gamma \\right )} & \\sin{\\left (\\alpha \\right )} \\sin{\\left (\\beta \\right )} \\cos{\\left (\\gamma \\right )} + \\sin{\\left (\\gamma \\right )} \\cos{\\left (\\alpha \\right )} & \\sin{\\left (\\alpha \\right )} \\sin{\\left (\\gamma \\right )} - \\sin{\\left (\\beta \\right )} \\cos{\\left (\\alpha \\right )} \\cos{\\left (\\gamma \\right )}\\\\- \\sin{\\left (\\gamma \\right )} \\cos{\\left (\\beta \\right )} & - \\sin{\\left (\\alpha \\right )} \\sin{\\left (\\beta \\right )} \\sin{\\left (\\gamma \\right )} + \\cos{\\left (\\alpha \\right )} \\cos{\\left (\\gamma \\right )} & \\sin{\\left (\\alpha \\right )} \\cos{\\left (\\gamma \\right )} + \\sin{\\left (\\beta \\right )} \\sin{\\left (\\gamma \\right )} \\cos{\\left (\\alpha \\right )}\\\\\\sin{\\left (\\beta \\right )} & - \\sin{\\left (\\alpha \\right )} \\cos{\\left (\\beta \\right )} & \\cos{\\left (\\alpha \\right )} \\cos{\\left (\\beta \\right )}\\end{matrix}\\right]$$"
       ],
       "metadata": {},
       "output_type": "pyout",
       "prompt_number": 3,
       "text": [
        "<IPython.core.display.Math at 0x10df2d190>"
       ]
      }
     ],
     "prompt_number": 3
    },
    {
     "cell_type": "markdown",
     "metadata": {},
     "source": [
      "The correspoding three Euler angles are given by:\n",
      "\n",
      "$$ \\alpha = arctan\\left(\\frac{-\\mathbf{R}_{32}}{\\;\\;\\;\\mathbf{R}_{33}}\\right) $$\n",
      "\n",
      "$$ \\beta = arctan\\left(\\frac{\\mathbf{R}_{31}}{\\sqrt{\\mathbf{R}_{11}^2+\\mathbf{R}_{21}^2}}\\right) $$  \n",
      "\n",
      "$$ \\gamma = arctan\\left(\\frac{-\\mathbf{R}_{21}}{\\;\\;\\;\\mathbf{R}_{11}}\\right) $$\n",
      "\n",
      "Note that we prefer to use the mathematical function `arctan` rather than simply `arcsin` because the latter cannot distinguish $45^o$ from $135^o$ for example. See this problem in the text about [angular kinematics](http://nbviewer.ipython.org/github/duartexyz/BMC/blob/master/AngularKinematics2D.ipynb)."
     ]
    },
    {
     "cell_type": "heading",
     "level": 2,
     "metadata": {},
     "source": [
      "Determination of the rotation matrix"
     ]
    },
    {
     "cell_type": "markdown",
     "metadata": {},
     "source": [
      "A typical way to determine the rotation matrix for a rigid body in biomechanics is to use motion analysis to measure the position of at least three non-colinear markers placed on the rigid body, and then calculate a basis with these positions, analog to what we have described for the two-dimensional case."
     ]
    },
    {
     "cell_type": "heading",
     "level": 3,
     "metadata": {},
     "source": [
      "Basis"
     ]
    },
    {
     "cell_type": "markdown",
     "metadata": {},
     "source": [
      "If we have the position of three markers: **m1**, **m2**, **m3**, a basis (formed by three orthogonal versors) can be found as:   \n",
      "\n",
      " - First axis, **v1**, the vector **m2-m1**;   \n",
      " - Second axis, **v2**, the cross product between the vectors **v1** and **m3-m1**;   \n",
      " - Third axis, **v3**, the cross product between the vectors **v1** and **v2**.  \n",
      " \n",
      "Then, each of these vectors are normalized resulting in three othogonal versors.   \n",
      "\n",
      "For example, given the positions m1 = [1,0,0], m2 = [0,1,0], m3 = [0,0,1], a basis can be found:"
     ]
    },
    {
     "cell_type": "code",
     "collapsed": false,
     "input": [
      "m1 = np.array([1, 0, 0])\n",
      "m2 = np.array([0, 1, 0])\n",
      "m3 = np.array([0, 0, 1])\n",
      "\n",
      "v1 = m2 - m1\n",
      "v2 = np.cross(v1, m3 - m1)\n",
      "v3 = np.cross(v1, v2)\n",
      "\n",
      "print('Versors:')\n",
      "v1 = v1/np.linalg.norm(v1)\n",
      "print('v1=', v1)\n",
      "\n",
      "v2 = v2/np.linalg.norm(v2)\n",
      "print('v2=', v2)\n",
      "\n",
      "v3 = v3/np.linalg.norm(v3)\n",
      "print('v3=', v3)\n",
      "\n",
      "print('\\nNorm of each versor:\\n', np.linalg.norm(np.cross(v1, v2)), np.linalg.norm(np.cross(v1, v3)),\n",
      "      np.linalg.norm(np.cross(v2, v3)))"
     ],
     "language": "python",
     "metadata": {},
     "outputs": [
      {
       "output_type": "stream",
       "stream": "stdout",
       "text": [
        "Versors:\n",
        "v1= [-0.70710678  0.70710678  0.        ]\n",
        "v2= [ 0.57735027  0.57735027  0.57735027]\n",
        "v3= [ 0.40824829  0.40824829 -0.81649658]\n",
        "\n",
        "Norm of each versor:\n",
        " 1.0 1.0 1.0\n"
       ]
      }
     ],
     "prompt_number": 8
    },
    {
     "cell_type": "markdown",
     "metadata": {},
     "source": [
      "Remember that the versors of this basis are the columns (or rows) of the rotation matrix."
     ]
    },
    {
     "cell_type": "heading",
     "level": 2,
     "metadata": {},
     "source": [
      "Translation and Rotation"
     ]
    },
    {
     "cell_type": "markdown",
     "metadata": {},
     "source": [
      "Consider now the case where the local coordinate system is translated and rotated in relation to the global coordinate system as illustrated in the figure below:\n",
      "\n",
      "<div class='center-align'><figure><img src='files/images/transrot3D.png' alt='translation and rotation 3D'/> <figcaption><i>A point in three-dimensional space represented in two coordinate systems, with one system translated and rotated.</i></figcaption> </figure></div><br>\n",
      "\n",
      "The position of point **P** originally described in the local coordinate system, but now described in the global coordinate system in vector form is:\n",
      "\n",
      "$$ \\mathbf{P_G} = \\mathbf{L_G} + \\mathbf{R_{Gl}}\\mathbf{P_l} $$\n",
      "\n",
      "This means that we first *disrotate* the local coordinate system and then correct for the translation between the two coordinate systems. Note that we can't invert this order: the point position is expressed in the local coordinate system and we can't add this vector to another vector expressed in the global coordinate system, first we have to convert the vectors to the same coordinate system.\n",
      "\n",
      "If now we want to find the position of a point at the local coordinate system given its position in the global coordinate system, the rotation matrix and the translation vector, we have to invert the expression above:\n",
      "\n",
      "$$ \\mathbf{P_G} = \\mathbf{L_G} + \\mathbf{R_{Gl}}\\mathbf{P_l} \\implies $$\n",
      "\n",
      "$$ \\mathbf{R_{Gl}^{-1}}\\cdot\\mathbf{P_G} = \\mathbf{R_{Gl}^{-1}}\\left(\\mathbf{L_G} + \\mathbf{R_{Gl}}\\mathbf{P_l}\\right) \\implies $$\n",
      "\n",
      "$$\\mathbf{R_{Gl}^{-1}}\\mathbf{P_G} = \\mathbf{R_{Gl}^{-1}}\\mathbf{L_G} + \\mathbf{R_{Gl}^{-1}}\\mathbf{R_{Gl}}\\mathbf{P_l} \\implies $$\n",
      "\n",
      "$$ \\mathbf{P_l} = \\mathbf{R_{Gl}^{-1}}\\left(\\mathbf{P_G}-\\mathbf{L_G}\\right) =  \\mathbf{R_{Gl}^T}\\left(\\mathbf{P_G}-\\mathbf{L_G}\\right) \\;\\;\\;\\;\\; \\text{or} \\;\\;\\;\\;\\; \\mathbf{P_l} = \\mathbf{R_{lG}}\\left(\\mathbf{P_G}-\\mathbf{L_G}\\right) $$\n",
      "\n",
      "The expression above indicates that to perform the inverse operation, to go from the global to the local coordinate system, we first translate and then rotate the coordinate system."
     ]
    },
    {
     "cell_type": "heading",
     "level": 3,
     "metadata": {},
     "source": [
      "Transformation matrix"
     ]
    },
    {
     "cell_type": "markdown",
     "metadata": {},
     "source": [
      "It is possible to combine the translation and rotation operations in only one matrix, called the transformation matrix:\n",
      "\n",
      "$$ \\begin{bmatrix}\n",
      "\\mathbf{P_X} \\\\\n",
      "\\mathbf{P_Y} \\\\\n",
      "\\mathbf{P_Z} \\\\\n",
      "1\n",
      "\\end{bmatrix} =\n",
      "\\begin{bmatrix}\n",
      ". & . & . & \\mathbf{L_{X}} \\\\\n",
      ". & \\mathbf{R_{Gl}} & .  & \\mathbf{L_{Y}} \\\\\n",
      ". & . & .  & \\mathbf{L_{Z}} \\\\\n",
      "0 & 0 & 0 & 1\n",
      "\\end{bmatrix}\n",
      "\\begin{bmatrix}\n",
      "\\mathbf{P}_x \\\\\n",
      "\\mathbf{P}_y \\\\\n",
      "\\mathbf{P}_z \\\\\n",
      "1\n",
      "\\end{bmatrix} $$\n",
      "\n",
      "Or simply:\n",
      "\n",
      "$$ \\mathbf{P_G} = \\mathbf{T_{Gl}}\\mathbf{P_l} $$\n",
      "\n",
      "The inverse operation, to express the position at the local coordinate system in terms of the global reference system, is:\n",
      "\n",
      "$$ \\mathbf{P_l} = \\mathbf{T_{Gl}^{-1}}\\mathbf{P_G} \\;\\;\\;\\;\\; \\text{or} \\;\\;\\;\\;\\; \\mathbf{P_l} = \\mathbf{T_{Gl}^T}\\mathbf{P_G} $$\n",
      "\n",
      "And in matrix form:\n",
      "\n",
      "$$ \\begin{bmatrix}\n",
      "\\mathbf{P_x} \\\\\n",
      "\\mathbf{P_y} \\\\\n",
      "\\mathbf{P_z} \\\\\n",
      "1\n",
      "\\end{bmatrix} =\n",
      "\\begin{bmatrix}\n",
      "\\cdot & \\cdot & \\cdot & \\cdot \\\\\n",
      "\\cdot & \\mathbf{R^{-1}_{Gl}} & \\cdot  & -\\mathbf{R^{-1}_{Gl}}\\:\\mathbf{L_G} \\\\\n",
      "\\cdot & \\cdot & \\cdot  & \\cdot \\\\\n",
      "0 & 0 & 0 & 1\n",
      "\\end{bmatrix}\n",
      "\\begin{bmatrix}\n",
      "\\mathbf{P_X} \\\\\n",
      "\\mathbf{P_Y} \\\\\n",
      "\\mathbf{P_Z} \\\\\n",
      "1\n",
      "\\end{bmatrix} $$\n",
      "\n",
      "The typical steps concerning transfornations of the rigid bodies during kinematic analysis is shown next.\n",
      "\n",
      "<div class='center-align'><figure><img src='files/images/CStransformations.png' width=400 alt='CStransformations'/> <figcaption><i>Typical steps during kinematic analysis concerning transfornations of the rigid bodies (Winter 2009).</i></figcaption> </figure></div><br>\n",
      "..."
     ]
    },
    {
     "cell_type": "markdown",
     "metadata": {},
     "source": [
      "**Coordinate systems for the human movement description**\n",
      "\n",
      "Different conventions for coordinate systems have been proposed, see for instance the  [*Virtual Animation of the Kinematics of the Human for Industrial, Educational and Research Purposes (VAKHUM)*](http://www.ulb.ac.be/project/vakhum/public_dataset/Doc/VAKHUM-3-Frame_Convention.pdf) project:\n",
      "<p></p>\n",
      "<iframe src=http://www.ulb.ac.be/project/vakhum/public_dataset/Doc/VAKHUM-3-Frame_Convention.pdf width=900 height=300></iframe>"
     ]
    },
    {
     "cell_type": "heading",
     "level": 2,
     "metadata": {},
     "source": [
      "References"
     ]
    },
    {
     "cell_type": "markdown",
     "metadata": {},
     "source": [
      "- [Grood ES, Suntay WJ (1983) A joint coordinate system for the clinical description of three-dimensional motions: application to the knee. Journal of Biomechanical Engineering, 105, 136-144](http://www.ncbi.nlm.nih.gov/pubmed/6865355). [PDF](http://www.biomech.uottawa.ca/english/teaching/apa6905/lectures/2012/Grood%20and%20Suntay%201983.pdf)\n",
      "- [Ruina A, Rudra P (2013) Introduction to Statics and Dynamics. Oxford University Press](http://ruina.tam.cornell.edu/Book/index.html).   \n",
      "- [Winter DA (2009) Biomechanics and motor control of human movement. 4 ed. Hoboken, EUA: Wiley](http://books.google.com.br/books?id=_bFHL08IWfwC).   \n",
      "- [Zatsiorsky VM (1997) Kinematics of Human Motion. Champaign, Human Kinetics](http://books.google.com.br/books/about/Kinematics_of_Human_Motion.html?id=Pql_xXdbrMcC&redir_esc=y)."
     ]
    }
   ],
   "metadata": {}
  }
 ]
}