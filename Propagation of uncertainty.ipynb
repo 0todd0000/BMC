{
 "metadata": {
  "name": ""
 },
 "nbformat": 3,
 "nbformat_minor": 0,
 "worksheets": [
  {
   "cells": [
    {
     "cell_type": "heading",
     "level": 1,
     "metadata": {},
     "source": [
      "Propagation of uncertainty (error)"
     ]
    },
    {
     "cell_type": "markdown",
     "metadata": {},
     "source": [
      "Marcos Duarte"
     ]
    },
    {
     "cell_type": "markdown",
     "metadata": {},
     "source": [
      "> The result of a measurement is only an approximation or estimate of the value of the measurand and thus is complete only when accompanied by a statement of the uncertainty of that estimate.   \n",
      ">   \n",
      "> Uncertainty (of measurement) is a parameter, associated with the result of a measurement, that characterizes the dispersion of the values that could reasonably be attributed to the measurand.   \n",
      ">   \n",
      "> [Evaluation of measurement data - Guide to the expression of uncertainty in measurement (2008)](http://www.bipm.org/utils/common/documents/jcgm/JCGM_100_2008_E.pdf)\n",
      "\n",
      "For istance, to calculate the density of a material someone made the following measurements of mass and volume (m=d/V):   \n",
      "\n",
      "> $$ m = 4.0 \\pm 0.5 \\; g \\\\ \n",
      "V = 2.0 \\pm 0.2 \\; cm^3 $$\n",
      "\n",
      "Where 0.5 g and 0.2 cm$^3$ each represent a value of one standard deviation and express the errors in the measured weight and volume.   \n",
      "Based on these numbers, the material density is 2 g/cm$^3$; but how much is the error (uncertainty) of the density?   \n",
      "\n",
      "One way to estimate the error in the density is by propagation of uncertainty:\n",
      "\n",
      "> Propagation of uncertainty (or propagation of error) is the effect of variables' uncertainties (or errors) on the uncertainty of a function based on them. When the variables are the values of experimental measurements they have uncertainties due to measurement limitations (e.g., instrument precision and noise) which propagate to the combination of variables in the function ([Wikipedia](http://en.wikipedia.org/wiki/Propagation_of_uncertainty)).\n",
      "\n",
      "The classic way to do this is to start with the mathematical function that relates these quantities and estimate the contribution of these variations by means of partial derivatives (the rate of variation) of each of these primary quantities. The linearity of the mathematical function in the vicinity of the obtained value and the statistical correlations between these quantities are also taken into consideration in the propagation of uncertainty.   \n",
      "If the measurand $ f $ is defined in terms of the variables $ x, y, z, ... $ by a general expression $ f(x, y, z, ...) $, a first order approximation of the propagation of uncertainty ignoring correlations bettwen these variables is given by the well known formula:\n",
      "\n",
      "> $$ \\sigma _{f}\\;=\\;\\sqrt{\\left ( \\frac{\\partial f}{\\partial x}  \\right)^2\\sigma _{x}^{2} + \\left ( \\frac{\\partial f}{\\partial y} \\right)^2 \\sigma _{y}^{2} + \\left ( \\frac{\\partial f}{\\partial z} \\right)^2 \\sigma _{z}^{2}\\: + \\ldots} $$\n",
      "\n",
      "Where $ \\partial f/\\partial i $ is the first partial derivative of $ f $ with respect to variable $ i $ and $ \\sigma_i $ is the uncertainty of the measurement of the variable $ i $ (one standard deviation).  \n",
      "\n",
      "Using the formula above, the estimation of the uncertainty of the density is given by:\n",
      "\n",
      "> $$ d=\\frac{m}{V} \\\\\n",
      "\\sigma _{d}\\;=\\;\\sqrt{ \\left ( \\frac{\\partial d}{\\partial m}  \\right)^2 \\sigma _{m}^{2}+\\left ( \\frac{\\partial d}{\\partial V} \\right)^2 \\sigma _{V}^{2} } \\\\\n",
      "\\sigma _{d}\\;=\\;\\sqrt{ \\left ( \\frac{1}{V} \\right)^2 \\sigma _{m}^{2}+\\left ( -\\frac{m}{V^2} \\right)^2 \\sigma _{V}^{2} } $$\n",
      "\n",
      "And considering the values of mass and volume given earlier:\n",
      "\n",
      "> $$ \\sigma_{d}\\;=\\;\\sqrt{\\left(\\frac{1}{2}\\right)^2\\times 0.5\\:^2+\\left(-\\frac{4}{2^2}\\right)^2\\times 0.2\\:^2}\\;\\;\\approx\\; 0.32 $$\n",
      "\n",
      "Then, the estimated value of the density can now be expressed in a complete form: d = 2.00\u00b10.32 g/cm$^3$."
     ]
    },
    {
     "cell_type": "heading",
     "level": 2,
     "metadata": {},
     "source": [
      "Using a software to calculate uncertainty"
     ]
    },
    {
     "cell_type": "markdown",
     "metadata": {},
     "source": [
      "It is essential that any result of a measurement is accompanied by the estimate of its uncertainty as above, this way we can better understand the value of the measure and how reliable it is. However, it is unlikely that anyone will repeat these calculations in the day-to-day work (although there are tables with partial derivatives for the most common expressions). Therefore, it is useful a software that can perform these calculations (at least for checking the results manually obtained). Fortunately, there are software for the propagation of uncertainty, [see this list on Wikipedia](http://en.wikipedia.org/wiki/List_of_uncertainty_propagation_software).   \n",
      "\n",
      "One such software, free, open source, and cross-platform, is the library for [Python](http://python.org) called [uncertainties](http://packages.python.org/uncertainties/). If you don't know or don't have Python, the easiest way to get it is to install the [Anaconda distribution](https://store.continuum.io/cshop/anaconda/), which is also free and cross-platform. Read the notebook [How to install Python](http://nbviewer.ipython.org/urls/raw.github.com/duartexyz/BMC/master/How%20to%20install%20Python.ipynb) if you need help with that. \n",
      "\n",
      "With both [Python](http://python.org) and [uncertainties](http://packages.python.org/uncertainties/) installed, let's calculate again the uncertainty of the density:"
     ]
    },
    {
     "cell_type": "code",
     "collapsed": false,
     "input": [
      "# Import the necessary libraries\n",
      "from __future__ import print_function       # Python 3 compatible\n",
      "from uncertainties import ufloat            # to define variables with uncertainty\n",
      "\n",
      "m = ufloat(nominal_value=4.0, std_dev=0.5)  # value with uncertainty\n",
      "V = ufloat(2.0, 0.2)                        # we can pass values directly\n",
      "d = m/V                                     # calculate density\n",
      "\n",
      "print(d)"
     ],
     "language": "python",
     "metadata": {},
     "outputs": [
      {
       "output_type": "stream",
       "stream": "stdout",
       "text": [
        "2.00+/-0.32\n"
       ]
      }
     ],
     "prompt_number": 1
    },
    {
     "cell_type": "markdown",
     "metadata": {},
     "source": [
      "The result we obtained before, but without having to deduct the partial derivatives because uncertainties does this with an [algorithm for automatic differentiation](http://en.wikipedia.org/wiki/Automatic_differentiation).   \n",
      "\n",
      "To evince how simple is to perform propagation of uncertainty in this way, the operation above could have been performed in a single line (after you imported the necessary libraries at the first time using them):"
     ]
    },
    {
     "cell_type": "code",
     "collapsed": false,
     "input": [
      "ufloat(4.0, 0.5) / ufloat(2.0, 0.2)"
     ],
     "language": "python",
     "metadata": {},
     "outputs": [
      {
       "metadata": {},
       "output_type": "pyout",
       "prompt_number": 2,
       "text": [
        "2.0+/-0.32015621187164245"
       ]
      }
     ],
     "prompt_number": 2
    },
    {
     "cell_type": "markdown",
     "metadata": {},
     "source": [
      "And how much each variable mass and volume contributed to the final uncertainty (i.e., the partial derivative of density in relation to the variable mass or volume times its standard deviation (each term on the right side of the equation above without squaring)) is given by:"
     ]
    },
    {
     "cell_type": "code",
     "collapsed": false,
     "input": [
      "d.error_components().items()"
     ],
     "language": "python",
     "metadata": {},
     "outputs": [
      {
       "metadata": {},
       "output_type": "pyout",
       "prompt_number": 3,
       "text": [
        "[(4.0+/-0.5, 0.25), (2.0+/-0.2, 0.2)]"
       ]
      }
     ],
     "prompt_number": 3
    },
    {
     "cell_type": "markdown",
     "metadata": {},
     "source": [
      "By definition, according to the formula above, the square root of the quadratic sum of these values is the total uncertainty for the density.   \n",
      "\n",
      "The value of each partial derivative of the density function with respect to the mass and volume variables is given by:"
     ]
    },
    {
     "cell_type": "code",
     "collapsed": false,
     "input": [
      "d.derivatives"
     ],
     "language": "python",
     "metadata": {},
     "outputs": [
      {
       "metadata": {},
       "output_type": "pyout",
       "prompt_number": 4,
       "text": [
        "{2.0+/-0.2: -1.0, 4.0+/-0.5: 0.5}"
       ]
      }
     ],
     "prompt_number": 4
    },
    {
     "cell_type": "markdown",
     "metadata": {},
     "source": [
      "In conclusion, there is no excuse to not perform propagation of uncertainty of the result of a measurement.   \n",
      "**Remember, your work is complete only when you report the uncertainty.** "
     ]
    },
    {
     "cell_type": "heading",
     "level": 2,
     "metadata": {},
     "source": [
      "References"
     ]
    },
    {
     "cell_type": "markdown",
     "metadata": {},
     "source": [
      "- [Evaluation of measurement data - Guide to the expression of uncertainty in measurement\n",
      "JCGM 100:2008](http://www.bipm.org/utils/common/documents/jcgm/JCGM_100_2008_E.pdf).\n",
      "- [Avalia\u00e7\u00e3o de dados de medi\u00e7\u00e3o - Guia para a express\u00e3o de incerteza de medi\u00e7\u00e3o](http://www.inmetro.gov.br/inovacao/publicacoes/gum_final.pdf) (GUM 2008 in Portuguese).\n",
      "\n",
      "- [Uncertainties](http://packages.python.org/uncertainties): a Python package for calculations with uncertainties, Eric O. Lebigot."
     ]
    }
   ],
   "metadata": {}
  }
 ]
}