{
 "metadata": {
  "name": ""
 },
 "nbformat": 3,
 "nbformat_minor": 0,
 "worksheets": [
  {
   "cells": [
    {
     "cell_type": "heading",
     "level": 1,
     "metadata": {},
     "source": [
      "Scientific computing"
     ]
    },
    {
     "cell_type": "markdown",
     "metadata": {},
     "source": [
      "Marcos Duarte"
     ]
    },
    {
     "cell_type": "markdown",
     "metadata": {},
     "source": [
      "The goal of these notes is to teach data analysis in science and engineering, particularly in Biomechanics and Motor Control, using scientific computing.   \n",
      "\n",
      "From a user point of view, probably the friendliest programming language would be the one that allowed us to simply tell the instructions to the computer in a natural way, as we interact with a person. We are not there yet and I am not sure if we will ever be. As scientists are very picky and, not uncommonly, egocentric, probably just after such high-level language appears, we will have the insurrection of computers against the human kind (or just against the scientists in case you don't refer to them as humans). So, the only option is to learn a programming language to perform the task you want (ok, another option would be to hire a student for that; then these notes are important for her/him...).\n",
      "\n",
      "In computer science, a **program** is *a sequence of instructions that specifies how to perform a computation* (How to Think Like a Computer Scientist, [http://openbookproject.net/thinkcs/python/english3e/](http://openbookproject.net/thinkcs/python/english3e/)). So, in scientific computing we are typically interested in writing programs to solve problems related to science, which could be a simple arithmetic operation or a very complex mathematical data analysis, reading and storing data from or to the memory or files, plotting something, etc. Scientific computing is not limited to deal with numbers, problems involving modeling, simulations, and symbolic operations can be solved as well.   \n",
      "\n",
      "In fact, before writing a computer program, we have first to conceptualize *a set of specific steps for solving a problem*, an **algorithm**. A program is the implementation of one or more algorithms written in some computer programming language. Sometimes the algorithm for the problem is so simple that we don't even bother to explicitly annotate the algorithm and we might go straight to write the program in the language we are used. How we approach the problem is going to be a matter of problem complexity and programmer's experience. Anyway, the algorithm is always there and it's a fundamental piece, and probably the most important, of problem solving.   \n",
      "\n",
      "A computer scientist is more on mastering how to develop algorithms than writing programs. In these notes, we will scratch the surface of both tasks using problems of data analysis in Biomechanics and Motor Control. "
     ]
    },
    {
     "cell_type": "markdown",
     "metadata": {},
     "source": [
      "Computer Science\n",
      "================\n",
      "\n",
      "How to think like a computer scientist is ... \n",
      "\n",
      "Some people, from the dark side of science, think since scientific computing is just a way to get to the solution of the problem, and we would just care for the solution, we would just have to write quick and dirty programs for so and leave to the actual computer scientists and programmers the daunting task of writing good and reliable programs. This is plain wrong.   \n",
      "You can see a scientific computer program as a more objective, accurate and precise expression of thoughts to solve a problem than a article or any other document. A computer program must be ..."
     ]
    }
   ],
   "metadata": {}
  }
 ]
}