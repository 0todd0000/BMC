{
 "metadata": {
  "name": ""
 },
 "nbformat": 3,
 "nbformat_minor": 0,
 "worksheets": [
  {
   "cells": [
    {
     "cell_type": "heading",
     "level": 1,
     "metadata": {},
     "source": [
      "Scalar and vector"
     ]
    },
    {
     "cell_type": "markdown",
     "metadata": {},
     "source": [
      "Marcos Duarte"
     ]
    },
    {
     "cell_type": "markdown",
     "metadata": {},
     "source": [
      "Python handles very well all mathematical operations with numeric scalars and vectors and you can use [Sympy](http://sympy.org) for similar stuff but with symbols (algebra). Let's briefly review about scalars and vectors and show how to use Python for calculations."
     ]
    },
    {
     "cell_type": "heading",
     "level": 2,
     "metadata": {},
     "source": [
      "Scalar"
     ]
    },
    {
     "cell_type": "markdown",
     "metadata": {},
     "source": [
      ">A **scalar** is a one-dimensional physical quantity, which can be described by a single real number. For example, time, mass, and energy are examples of scalars."
     ]
    },
    {
     "cell_type": "heading",
     "level": 3,
     "metadata": {},
     "source": [
      "Scalar operations in Python"
     ]
    },
    {
     "cell_type": "markdown",
     "metadata": {},
     "source": [
      "Simple arithmetic operations with scalars are indeed simple:"
     ]
    },
    {
     "cell_type": "code",
     "collapsed": false,
     "input": [
      "from __future__ import division, print_function\n",
      "import math\n",
      "a = 2\n",
      "b = 3\n",
      "print('a =', a, ', b =', b)\n",
      "print('a + b =', a + b)\n",
      "print('a - b =', a - b)\n",
      "print('a * b =', a * b)\n",
      "print('a / b =', a / b)\n",
      "print('a ** b =', a ** b)\n",
      "print('sqrt(b) =', math.sqrt(b))"
     ],
     "language": "python",
     "metadata": {},
     "outputs": [
      {
       "output_type": "stream",
       "stream": "stdout",
       "text": [
        "a = 2 , b = 3\n",
        "a + b = 5\n",
        "a - b = -1\n",
        "a * b = 6\n",
        "a / b = 0.666666666667\n",
        "a ** b = 8\n",
        "sqrt(b) = 1.73205080757\n"
       ]
      }
     ],
     "prompt_number": 1
    },
    {
     "cell_type": "markdown",
     "metadata": {},
     "source": [
      "If you have a set of numbers, or an array, it is probably better to use Numpy; it will be faster for large data sets, and combined with Scipy, has many more mathematical funcions."
     ]
    },
    {
     "cell_type": "code",
     "collapsed": false,
     "input": [
      "import numpy as np\n",
      "a = 2\n",
      "b = [3, 4, 5, 6, 7, 8]\n",
      "b = np.array(b)\n",
      "print('a =', a, ', b =', b)\n",
      "print('a + b =', a + b)\n",
      "print('a - b =', a - b)\n",
      "print('a * b =', a * b)\n",
      "print('a / b =', a / b)\n",
      "print('a ** b =', a ** b)\n",
      "print('np.sqrt(b) =', np.sqrt(b))  # use numpy functions for numpy arrays"
     ],
     "language": "python",
     "metadata": {},
     "outputs": [
      {
       "output_type": "stream",
       "stream": "stdout",
       "text": [
        "a = 2 , b = [3 4 5 6 7 8]\n",
        "a + b = [ 5  6  7  8  9 10]\n",
        "a - b = [-1 -2 -3 -4 -5 -6]\n",
        "a * b = [ 6  8 10 12 14 16]\n",
        "a / b = [ 0.66666667  0.5         0.4         0.33333333  0.28571429  0.25      ]\n",
        "a ** b = [  8  16  32  64 128 256]\n",
        "np.sqrt(b) = [ 1.73205081  2.          2.23606798  2.44948974  2.64575131  2.82842712]\n"
       ]
      }
     ],
     "prompt_number": 2
    },
    {
     "cell_type": "markdown",
     "metadata": {},
     "source": [
      "So, Numpy performs the arithmetic operations of the single number in `a` with all the numbers of the array `b`.   \n",
      "This is called broadcasting in computer science.   \n",
      "Even if you have two arrays (but they have to be of the same size), Numpy handles for you:"
     ]
    },
    {
     "cell_type": "code",
     "collapsed": false,
     "input": [
      "a = np.array([1, 2, 3])\n",
      "b = np.array([4, 5, 6])\n",
      "print('a =', a, ', b =', b)\n",
      "print('a + b =', a + b)\n",
      "print('a - b =', a - b)\n",
      "print('a * b =', a * b)\n",
      "print('a / b =', a / b)\n",
      "print('a ** b =', a ** b)"
     ],
     "language": "python",
     "metadata": {},
     "outputs": [
      {
       "output_type": "stream",
       "stream": "stdout",
       "text": [
        "a = [1 2 3] , b = [4 5 6]\n",
        "a + b = [5 7 9]\n",
        "a - b = [-3 -3 -3]\n",
        "a * b = [ 4 10 18]\n",
        "a / b = [ 0.25  0.4   0.5 ]\n",
        "a ** b = [  1  32 729]\n"
       ]
      }
     ],
     "prompt_number": 3
    },
    {
     "cell_type": "heading",
     "level": 2,
     "metadata": {},
     "source": [
      "Vector"
     ]
    },
    {
     "cell_type": "markdown",
     "metadata": {},
     "source": [
      ">A **vector** is a geometric quantity with magnitude (or length) and direction expressed numerically as an ordered list of values according to a coordinate reference system. For example, position, force, and torque are physical quantities defined by vectors.\n",
      "\n",
      "For instance, consider the position of a point in space represented by a vector:\n",
      "\n",
      "<div class='center-align'><figure><img src=\"files/images/vector.png\" width=260/><figcaption><i>Position of a point represented as a vector in the Cartesian coordinate system.</i></figcaption></figure></div> \n",
      "\n",
      "The position of the point (the vector) above can be represented as a tuple of values:\n",
      "\n",
      "$$ (x,\\: y,\\: z) \\; \\Rightarrow \\; (5, 8, 3) $$ \n",
      "\n",
      "or in matrix form:\n",
      "\n",
      "$$ \\begin{bmatrix} x \\\\y \\\\z \\end{bmatrix} \\;\\; \\Rightarrow  \\;\\; \\begin{bmatrix} 5 \\\\8 \\\\3 \\end{bmatrix}$$\n",
      "\n",
      "We can use the Numpy array to represent the components of vectors.   \n",
      "For instance, the two vectors:\n",
      "\n",
      "$$ \\mathbf{a} = (1, 2, 3) \\\\\n",
      "\\mathbf{b} = (4, 5, 6) $$\n",
      "\n",
      "are expressed in Python as:"
     ]
    },
    {
     "cell_type": "code",
     "collapsed": false,
     "input": [
      "a = np.array([1, 2, 3])\n",
      "b = np.array([4, 5, 6])\n",
      "print('a =', a, '\\nb =', b)"
     ],
     "language": "python",
     "metadata": {},
     "outputs": [
      {
       "output_type": "stream",
       "stream": "stdout",
       "text": [
        "a = [1 2 3] \n",
        "b = [4 5 6]\n"
       ]
      }
     ],
     "prompt_number": 4
    },
    {
     "cell_type": "markdown",
     "metadata": {},
     "source": [
      "Exactly like the two arrays in the last example for scalars, so all operations we performed will result in the same values, of course.   \n",
      "However, as we are now dealing with vectors, now some of the  operations don't make sense. For example, for vectors there are no multiplication, division, power, and square root in the way we calculated.\n",
      "\n",
      "A vector can also be represented as:\n",
      "\n",
      "$$ \\mathbf{a} = a_x\\mathbf{\\hat{i}}+a_y\\mathbf{\\hat{j}}+a_z\\mathbf{\\hat{k}} $$\n",
      "\n",
      "<div class='center-align'><figure><img src=\"http://upload.wikimedia.org/wikipedia/commons/f/fd/3D_Vector.svg\" width=260/><figcaption><i>A vector representation in a Cartesian coordinate system (Wikipedia).</i></figcaption></figure></div> \n",
      "\n",
      "Where $ \\mathbf{\\hat{i},\\: \\hat{j},\\: \\hat{k}} $ are unit vectors, each representing a direction and $ a_x\\mathbf{\\hat{i}},\\: a_y\\mathbf{\\hat{j}},\\: a_z\\mathbf{\\hat{k}} $ are the vector components of the vector $ \\mathbf{a} $.     \n",
      "A **unit vector** (or **versor**) is a vector whose length (or norm) is 1.   \n",
      "The unit vector of a non-zero vector $\\mathbf{a}$ is the unit vector codirectional with $\\mathbf{a}$:\n",
      "\n",
      "$$ \\mathbf{\\hat{u}} = \\frac{\\mathbf{a}}{||\\mathbf{a}||} = \\frac{a_x\\:\\mathbf{\\hat{i}} + a_y\\:\\mathbf{\\hat{j}} + a_z\\:\\mathbf{\\hat{k}}}{\\sqrt{a_x^2+a_y^2+a_z^2}} $$\n",
      "\n",
      "Where the symbol $||\\;||$ denotes the norm (magnitude, length or Euclidean norm) of a vector and it is defined as:\n",
      "\n",
      "$$ ||\\mathbf{a}|| = \\sqrt{a_x^2+a_y^2+a_z^2} $$\n",
      "\n",
      "The function `numpy.linalg.norm` can be used to calculate the norm:"
     ]
    },
    {
     "cell_type": "markdown",
     "metadata": {},
     "source": [
      "\n"
     ]
    },
    {
     "cell_type": "code",
     "collapsed": false,
     "input": [
      "a = np.array([1, 2, 3])\n",
      "np.linalg.norm(a)"
     ],
     "language": "python",
     "metadata": {},
     "outputs": [
      {
       "metadata": {},
       "output_type": "pyout",
       "prompt_number": 8,
       "text": [
        "3.7416573867739413"
       ]
      }
     ],
     "prompt_number": 8
    },
    {
     "cell_type": "markdown",
     "metadata": {},
     "source": [
      "Or we can use the definition and compute directly:"
     ]
    },
    {
     "cell_type": "code",
     "collapsed": false,
     "input": [
      "np.sqrt(np.sum(a*a))"
     ],
     "language": "python",
     "metadata": {},
     "outputs": [
      {
       "metadata": {},
       "output_type": "pyout",
       "prompt_number": 9,
       "text": [
        "3.7416573867739413"
       ]
      }
     ],
     "prompt_number": 9
    },
    {
     "cell_type": "markdown",
     "metadata": {},
     "source": [
      "So, the versor for the vector $ \\mathbf{a} = (1, 2, 3) $ is:"
     ]
    },
    {
     "cell_type": "code",
     "collapsed": false,
     "input": [
      "a = np.array([1, 2, 3])\n",
      "u = a/np.linalg.norm(a)\n",
      "print('u =', u)"
     ],
     "language": "python",
     "metadata": {},
     "outputs": [
      {
       "output_type": "stream",
       "stream": "stdout",
       "text": [
        "u = [ 0.26726124  0.53452248  0.80178373]\n"
       ]
      }
     ],
     "prompt_number": 7
    },
    {
     "cell_type": "markdown",
     "metadata": {},
     "source": [
      "And we can verify its magnitude is indeed 1:"
     ]
    },
    {
     "cell_type": "code",
     "collapsed": false,
     "input": [
      "np.linalg.norm(u)"
     ],
     "language": "python",
     "metadata": {},
     "outputs": [
      {
       "metadata": {},
       "output_type": "pyout",
       "prompt_number": 8,
       "text": [
        "1.0"
       ]
      }
     ],
     "prompt_number": 8
    },
    {
     "cell_type": "markdown",
     "metadata": {},
     "source": [
      "But the representation of a vector as a tuple of values is only valid for a vector with its origin coinciding with the origin $ (0, 0, 0) $ of the coordinate system we adopted.\n",
      "For instance, consider the following vector:\n",
      "\n",
      "<div class='center-align'><figure><img src=\"files/images/vector2.png\" width=260/><figcaption><i>A vector in space.</i></figcaption></figure></div> \n",
      "\n",
      "Such a vector cannot be represented by $ (b_x, b_y, b_z) $ because this would be for the vector from the origin to the point B. To represent exactly this vector we need the two vectors $ \\mathbf{a} $ and $ \\mathbf{b} $. This fact is important when we perform some calculations in Mechanics."
     ]
    },
    {
     "cell_type": "heading",
     "level": 3,
     "metadata": {},
     "source": [
      "Vecton addition and subtraction"
     ]
    },
    {
     "cell_type": "markdown",
     "metadata": {},
     "source": [
      "The addition of two vectors is another vector:\n",
      "\n",
      "$$ \\mathbf{a} + \\mathbf{b} = (a_x\\mathbf{\\hat{i}}+a_y\\mathbf{\\hat{j}}+a_z\\mathbf{\\hat{k}}) + (b_x\\mathbf{\\hat{i}}+b_y\\mathbf{\\hat{j}}+b_z\\mathbf{\\hat{k}}) = \n",
      "(a_x+b_x)\\mathbf{\\hat{i}} + (a_y+b_y)\\mathbf{\\hat{j}} + (a_z+b_z)\\mathbf{\\hat{k}} $$"
     ]
    },
    {
     "cell_type": "markdown",
     "metadata": {},
     "source": [
      "<div class='center-align'><figure><img src=\"http://upload.wikimedia.org/wikipedia/commons/2/28/Vector_addition.svg\" width=300 alt=\"Vector addition\"/><figcaption><i>Vector addition (Wikipedia).</i></figcaption></figure></div>  "
     ]
    },
    {
     "cell_type": "markdown",
     "metadata": {},
     "source": [
      "The subtraction of two vectors is also another vector:\n",
      "\n",
      "$$ \\mathbf{a} - \\mathbf{b} = (a_x\\mathbf{\\hat{i}}+a_y\\mathbf{\\hat{j}}+a_z\\mathbf{\\hat{k}}) + (b_x\\mathbf{\\hat{i}}+b_y\\mathbf{\\hat{j}}+b_z\\mathbf{\\hat{k}}) = \n",
      "(a_x-b_x)\\mathbf{\\hat{i}} + (a_y-b_y)\\mathbf{\\hat{j}} + (a_z-b_z)\\mathbf{\\hat{k}} $$"
     ]
    },
    {
     "cell_type": "markdown",
     "metadata": {},
     "source": [
      "<div class='center-align'><figure><img src=\"http://upload.wikimedia.org/wikipedia/commons/2/24/Vector_subtraction.svg\" width=160 alt=\"Vector subtraction\"/><figcaption><i>Vector subtraction (Wikipedia).</i></figcaption></figure></div>  "
     ]
    },
    {
     "cell_type": "markdown",
     "metadata": {},
     "source": [
      "Consider two 2D arrays (rows and columns) representing the position of two objects moving in space. The columns represent the vector components and the rows the values of the position vector in different instants.   \n",
      "Once again, it's easy to perform addition and subtraction with these vectors:"
     ]
    },
    {
     "cell_type": "code",
     "collapsed": false,
     "input": [
      "import IPython\n",
      "a = np.array([[1, 2, 3], [1, 1, 1]])\n",
      "b = np.array([[4, 5, 6], [7, 8, 9]])\n",
      "print('a =', a, '\\nb =', b)\n",
      "print('a + b =', a + b)\n",
      "print('a - b =', a - b)"
     ],
     "language": "python",
     "metadata": {},
     "outputs": [
      {
       "output_type": "stream",
       "stream": "stdout",
       "text": [
        "a = [[1 2 3]\n",
        " [1 1 1]] \n",
        "b = [[4 5 6]\n",
        " [7 8 9]]\n",
        "a + b = [[ 5  7  9]\n",
        " [ 8  9 10]]\n",
        "a - b = [[-3 -3 -3]\n",
        " [-6 -7 -8]]\n"
       ]
      }
     ],
     "prompt_number": 7
    },
    {
     "cell_type": "markdown",
     "metadata": {},
     "source": [
      "Numpy can handle a N-dimensional array with the size limited by the available memory in your computer."
     ]
    },
    {
     "cell_type": "heading",
     "level": 2,
     "metadata": {},
     "source": [
      "Dot product"
     ]
    },
    {
     "cell_type": "markdown",
     "metadata": {},
     "source": [
      "Dot product (or scalar product or inner product) between two vectors is a mathematical operation algebraically defined as the sum of the products of the corresponding components (maginitudes in each directio) of the two vectors. Geometrically, it is the product of the magnitudes of the two vectors and the cosine of the angle between them. The result of the dot product is a single number (a scalar).   \n",
      "The dot product between vectors $\\mathbf{a}$ and $\\mathbf{b}$ is:\n",
      "\n",
      "$$ \\mathbf{a} \\cdot \\mathbf{b} = (a_x\\:\\mathbf{\\hat{i}}+a_y\\:\\mathbf{\\hat{j}}+a_z\\:\\mathbf{\\hat{k}}) \\cdot (b_x\\:\\mathbf{\\hat{i}}+b_y\\:\\mathbf{\\hat{j}}+b_z\\:\\mathbf{\\hat{k}}) = a_x b_x + a_y b_y + a_z b_z $$\n",
      "\n",
      "Because by definition:\n",
      "\n",
      "$$ \\mathbf{\\hat{i}} \\cdot \\mathbf{\\hat{i}} = \\mathbf{\\hat{j}} \\cdot \\mathbf{\\hat{j}} = \\mathbf{\\hat{k}} \\cdot \\mathbf{\\hat{k}} = 1  \\;\\;\\;\\; \\text{and} \\;\\;\\;\\; \\mathbf{\\hat{i}} \\cdot \\mathbf{\\hat{j}} = \\mathbf{\\hat{i}} \\cdot \\mathbf{\\hat{k}} = \\mathbf{\\hat{j}} \\cdot \\mathbf{\\hat{k}} = 0 $$\n",
      "\n",
      "The geometric equivalent of the dot product is:\n",
      "\n",
      "$$ \\mathbf{a} \\cdot \\mathbf{b} = ||\\mathbf{a}||\\:||\\mathbf{b}||\\:cos(\\theta) $$\n",
      "\n",
      "You can visualize the dot product between two vectors in this interactive animation:"
     ]
    },
    {
     "cell_type": "code",
     "collapsed": false,
     "input": [
      "from IPython.display import HTML\n",
      "HTML('<iframe src=http://faraday.physics.utoronto.ca/PVB/Harrison/Flash/Vectors/DotProduct/'\n",
      "     'DotProduct.html width=800 height=420></iframe>')"
     ],
     "language": "python",
     "metadata": {},
     "outputs": [
      {
       "html": [
        "<iframe src=http://faraday.physics.utoronto.ca/PVB/Harrison/Flash/Vectors/DotProduct/DotProduct.html width=800 height=420></iframe>"
       ],
       "metadata": {},
       "output_type": "pyout",
       "prompt_number": 5,
       "text": [
        "<IPython.core.display.HTML at 0x2567150>"
       ]
      }
     ],
     "prompt_number": 5
    },
    {
     "cell_type": "markdown",
     "metadata": {},
     "source": [
      "The Numpy function for the dot product is `numpy.dot`:"
     ]
    },
    {
     "cell_type": "code",
     "collapsed": false,
     "input": [
      "a = np.array([1, 2, 3])\n",
      "b = np.array([4, 5, 6])\n",
      "print('a =', a, '\\nb =', b)\n",
      "print('np.dot(a, b) =', np.dot(a, b))"
     ],
     "language": "python",
     "metadata": {},
     "outputs": [
      {
       "output_type": "stream",
       "stream": "stdout",
       "text": [
        "a = [1 2 3] \n",
        "b = [4 5 6]\n",
        "np.dot(a, b) = 32\n"
       ]
      }
     ],
     "prompt_number": 10
    },
    {
     "cell_type": "markdown",
     "metadata": {},
     "source": [
      "Or we can use the definition and compute directly:"
     ]
    },
    {
     "cell_type": "code",
     "collapsed": false,
     "input": [
      "np.sum(a*b)"
     ],
     "language": "python",
     "metadata": {},
     "outputs": [
      {
       "metadata": {},
       "output_type": "pyout",
       "prompt_number": 11,
       "text": [
        "32"
       ]
      }
     ],
     "prompt_number": 11
    },
    {
     "cell_type": "heading",
     "level": 2,
     "metadata": {},
     "source": [
      "Vector product"
     ]
    },
    {
     "cell_type": "markdown",
     "metadata": {},
     "source": [
      "Cross product or vector product between two vectors is a mathematical operation in three-dimensional space which results in a vector perpendicular to both of the vectors being multiplied and a length (norm) equal to the product of the perpendicular components of the vectors being multiplied (which is equal to the area of the parallelogram that the vectors span).   \n",
      "The cross product between vectors $\\mathbf{a}$ and $\\mathbf{b}$ is:\n",
      "\n",
      "$$ \\mathbf{a} \\times \\mathbf{b} = (a_x\\:\\mathbf{\\hat{i}}+a_y\\:\\mathbf{\\hat{j}}+a_z\\:\\mathbf{\\hat{k}}) \\times (b_x\\:\\mathbf{\\hat{i}}+b_y\\:\\mathbf{\\hat{j}}+b_z\\:\\mathbf{\\hat{k}}) = (a_yb_z-a_zb_y)\\mathbf{\\hat{i}} + (a_zb_x-a_xb_z)\\mathbf{\\hat{j}}+(a_xb_y-a_yb_x)\\mathbf{\\hat{k}} $$\n",
      "\n",
      "Because by definition:\n",
      "\n",
      "$$ \\begin{array}{l l}\n",
      "\\mathbf{\\hat{i}} \\times \\mathbf{\\hat{i}} = \\mathbf{\\hat{j}} \\times \\mathbf{\\hat{j}} = \\mathbf{\\hat{k}} \\times \\mathbf{\\hat{k}} = 0 \\\\\n",
      "\\mathbf{\\hat{i}} \\times \\mathbf{\\hat{j}} = \\mathbf{\\hat{k}},\\;\\;\\;  \\mathbf{\\hat{j}} \\times \\mathbf{\\hat{k}} = \\mathbf{\\hat{i}},\\;\\;\\; \\mathbf{\\hat{k}} \\times \\mathbf{\\hat{i}} = \\mathbf{\\hat{j}} \\\\\n",
      "\\mathbf{\\hat{j}} \\times \\mathbf{\\hat{i}} = -\\mathbf{\\hat{k}},\\;\\;\\;  \\mathbf{\\hat{k}} \\times \\mathbf{\\hat{j}} = -\\mathbf{\\hat{i}},\\;\\;\\; \\mathbf{\\hat{i}} \\times \\mathbf{\\hat{k}} = -\\mathbf{\\hat{j}}\n",
      "\\end{array} $$\n",
      "\n",
      "The direction of the vector resulting from the cross product between the vectors $\\mathbf{a}$ and $\\mathbf{b}$ is given by the right-hand rule.\n",
      "\n",
      "The geometric equivalent of the cross product is:\n",
      "\n",
      "$$ \\mathbf{a} \\times \\mathbf{b} = ||\\mathbf{a}||\\:||\\mathbf{b}||\\:sin(\\theta) $$\n",
      "\n",
      "Given the definition above, we can see that the magnitude of the cross product is the area of the parallelogram spanned by the two vectors:\n",
      "\n",
      "<div class='center-align'><figure><img src=\"http://upload.wikimedia.org/wikipedia/commons/4/4e/Cross_product_parallelogram.svg\" width=160 alt=\"Vector subtraction\"/><figcaption><i>Area of a parallelogram as the magnitude of the cross product (Wikipedia).</i></figcaption></figure></div>  \n",
      "\n",
      "The cross product can also be calculated as the determinant of a matrix:\n",
      "\n",
      "$$ \\mathbf{a} \\times \\mathbf{b} = \\left| \\begin{array}{ccc}\n",
      "\\mathbf{\\hat{i}} & \\mathbf{\\hat{j}} & \\mathbf{\\hat{k}} \\\\\n",
      "a_x & a_y & a_z \\\\\n",
      "b_x & b_y & b_z \n",
      "\\end{array} \\right|\n",
      "= a_y b_z \\mathbf{\\hat{i}} + a_z b_x \\mathbf{\\hat{j}} +  a_x b_y \\mathbf{\\hat{k}} - a_y b_x \\mathbf{\\hat{k}} -a_z b_y \\mathbf{\\hat{i}} - a_x b_z \\mathbf{\\hat{j}} \\\\\n",
      "\\mathbf{a} \\times \\mathbf{b} = (a_yb_z-a_zb_y)\\mathbf{\\hat{i}} + (a_zb_x-a_xb_z)\\mathbf{\\hat{j}}+(a_xb_y-a_yb_x)\\mathbf{\\hat{k}} $$\n",
      "\n",
      "The same result as before.\n",
      "\n",
      "You can visualize the cross product between two vectors in this interactive animation:"
     ]
    },
    {
     "cell_type": "code",
     "collapsed": false,
     "input": [
      "from IPython.display import HTML\n",
      "HTML('<iframe src=http://faraday.physics.utoronto.ca/PVB/Harrison/Flash/Vectors/CrossProduct/'\n",
      "     'CrossProduct.html width=800 height=420></iframe>')"
     ],
     "language": "python",
     "metadata": {},
     "outputs": [
      {
       "html": [
        "<iframe src=http://faraday.physics.utoronto.ca/PVB/Harrison/Flash/Vectors/CrossProduct/CrossProduct.html width=800 height=420></iframe>"
       ],
       "metadata": {},
       "output_type": "pyout",
       "prompt_number": 6,
       "text": [
        "<IPython.core.display.HTML at 0x2567690>"
       ]
      }
     ],
     "prompt_number": 6
    },
    {
     "cell_type": "markdown",
     "metadata": {},
     "source": [
      "The Numpy function for the cross product is `numpy.cross`:"
     ]
    },
    {
     "cell_type": "code",
     "collapsed": false,
     "input": [
      "print('a =', a, '\\nb =', b)\n",
      "print('np.cross(a, b) =', np.cross(a, b))"
     ],
     "language": "python",
     "metadata": {},
     "outputs": [
      {
       "output_type": "stream",
       "stream": "stdout",
       "text": [
        "a = [1 2 3] \n",
        "b = [4 5 6]\n",
        "np.cross(a, b) = [-3  6 -3]\n"
       ]
      }
     ],
     "prompt_number": 12
    },
    {
     "cell_type": "heading",
     "level": 2,
     "metadata": {},
     "source": [
      "Problems"
     ]
    },
    {
     "cell_type": "markdown",
     "metadata": {},
     "source": [
      "1. Given the vectors, a=(1, 0, 0) and b=(1, 1, 1), calculate the dot product.\n",
      "2. Calculate two unit vectors for (2, \u22122, 3) and (3, \u22123, 2) and determine an orthogonal vector for the two.\n",
      "3. Given the vectors a=(1, 0, 0) and b=(1, 1, 1), calculate $ \\mathbf{a} \\times \\mathbf{b} $ and verify that this vector is orthogonal to vectors a and b. Also, calculate $ \\mathbf{b} \\times \\mathbf{a} $ and compare it with $ \\mathbf{a} \\times \\mathbf{b} $.\n",
      "\n",
      "If you are new to scalars and vectors, you should solve these problems first by hand and then use Python to check the answers."
     ]
    }
   ],
   "metadata": {}
  }
 ]
}