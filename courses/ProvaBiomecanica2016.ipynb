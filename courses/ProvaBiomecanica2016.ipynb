{
 "cells": [
  {
   "cell_type": "code",
   "execution_count": 1,
   "metadata": {
    "collapsed": false
   },
   "outputs": [],
   "source": []
  },
  {
   "cell_type": "code",
   "execution_count": 1,
   "metadata": {
    "ExecuteTime": {
     "end_time": "2016-12-26T01:53:44.031369",
     "start_time": "2016-12-26T01:53:42.012267"
    },
    "collapsed": true
   },
   "outputs": [],
   "source": [
    "# Import the necessary libraries\n",
    "from IPython.display import display, Math, Latex\n",
    "import numpy as np\n",
    "import matplotlib.pyplot as plt\n",
    "%matplotlib inline\n",
    "import pandas as pd\n",
    "pd.set_option('max_colwidth', 100)"
   ]
  },
  {
   "cell_type": "markdown",
   "metadata": {},
   "source": [
    "### Dempster's model adapted by Winter"
   ]
  },
  {
   "cell_type": "code",
   "execution_count": 2,
   "metadata": {
    "ExecuteTime": {
     "end_time": "2016-12-26T01:53:44.267528",
     "start_time": "2016-12-26T01:53:44.031369"
    },
    "collapsed": false
   },
   "outputs": [
    {
     "data": {
      "text/latex": [
       "BSP segments from Dempster's model adapted by Winter (2009):"
      ],
      "text/plain": [
       "<IPython.core.display.Latex object>"
      ]
     },
     "metadata": {},
     "output_type": "display_data"
    },
    {
     "data": {
      "text/html": [
       "<div>\n",
       "<table border=\"1\" class=\"dataframe\">\n",
       "  <thead>\n",
       "    <tr style=\"text-align: right;\">\n",
       "      <th></th>\n",
       "      <th>Segment</th>\n",
       "      <th>Definition</th>\n",
       "    </tr>\n",
       "  </thead>\n",
       "  <tbody>\n",
       "    <tr>\n",
       "      <th>0</th>\n",
       "      <td>Hand</td>\n",
       "      <td>Wrist axis/knuckle II middle finger</td>\n",
       "    </tr>\n",
       "    <tr>\n",
       "      <th>1</th>\n",
       "      <td>Forearm</td>\n",
       "      <td>Elbow axis/ulnar styloid</td>\n",
       "    </tr>\n",
       "    <tr>\n",
       "      <th>2</th>\n",
       "      <td>Upper arm</td>\n",
       "      <td>Glenohumeral axis/elbow axis</td>\n",
       "    </tr>\n",
       "    <tr>\n",
       "      <th>3</th>\n",
       "      <td>Forearm and hand</td>\n",
       "      <td>Elbow axis/ulnar styloid</td>\n",
       "    </tr>\n",
       "    <tr>\n",
       "      <th>4</th>\n",
       "      <td>Total arm</td>\n",
       "      <td>Glenohumeral joint/ulnar styloid</td>\n",
       "    </tr>\n",
       "    <tr>\n",
       "      <th>5</th>\n",
       "      <td>Foot</td>\n",
       "      <td>Lateral malleolus/head metatarsalII</td>\n",
       "    </tr>\n",
       "    <tr>\n",
       "      <th>6</th>\n",
       "      <td>Leg</td>\n",
       "      <td>Femoral condyles/medial malleolus</td>\n",
       "    </tr>\n",
       "    <tr>\n",
       "      <th>7</th>\n",
       "      <td>Thigh</td>\n",
       "      <td>Greater trochanter/femoral condyles</td>\n",
       "    </tr>\n",
       "    <tr>\n",
       "      <th>8</th>\n",
       "      <td>Foot and leg</td>\n",
       "      <td>Femoral condyles/medial malleolus</td>\n",
       "    </tr>\n",
       "    <tr>\n",
       "      <th>9</th>\n",
       "      <td>Total leg</td>\n",
       "      <td>Greater trochanter/medial malleolus</td>\n",
       "    </tr>\n",
       "    <tr>\n",
       "      <th>10</th>\n",
       "      <td>Head and neck</td>\n",
       "      <td>C7-T1 and 1st rib/ear canal</td>\n",
       "    </tr>\n",
       "    <tr>\n",
       "      <th>11</th>\n",
       "      <td>Shoulder mass</td>\n",
       "      <td>Sternoclavicular joint/glenohumeral</td>\n",
       "    </tr>\n",
       "    <tr>\n",
       "      <th>12</th>\n",
       "      <td>Thorax</td>\n",
       "      <td>C7-T1/T12-L1 and diaphragm</td>\n",
       "    </tr>\n",
       "    <tr>\n",
       "      <th>13</th>\n",
       "      <td>Abdomen</td>\n",
       "      <td>T12-L1/L4-L5</td>\n",
       "    </tr>\n",
       "    <tr>\n",
       "      <th>14</th>\n",
       "      <td>Pelvis</td>\n",
       "      <td>L4-L5/greater trochanter</td>\n",
       "    </tr>\n",
       "    <tr>\n",
       "      <th>15</th>\n",
       "      <td>Thorax and abdomen</td>\n",
       "      <td>C7-T1/L4-L5</td>\n",
       "    </tr>\n",
       "    <tr>\n",
       "      <th>16</th>\n",
       "      <td>Abdomen and pelvis</td>\n",
       "      <td>T12-L1/greater trochanter</td>\n",
       "    </tr>\n",
       "    <tr>\n",
       "      <th>17</th>\n",
       "      <td>Trunk</td>\n",
       "      <td>Greater trochanter/glenohumeral joint</td>\n",
       "    </tr>\n",
       "    <tr>\n",
       "      <th>18</th>\n",
       "      <td>Trunk head neck</td>\n",
       "      <td>Greater trochanter/glenohumeral joint</td>\n",
       "    </tr>\n",
       "    <tr>\n",
       "      <th>19</th>\n",
       "      <td>Head, arms, and trunk (HAT)</td>\n",
       "      <td>Greater trochanter/glenohumeral joint</td>\n",
       "    </tr>\n",
       "    <tr>\n",
       "      <th>20</th>\n",
       "      <td>HAT</td>\n",
       "      <td>Greater trochanter/mid rib</td>\n",
       "    </tr>\n",
       "  </tbody>\n",
       "</table>\n",
       "</div>"
      ],
      "text/plain": [
       "                        Segment                             Definition\n",
       "0                          Hand    Wrist axis/knuckle II middle finger\n",
       "1                       Forearm               Elbow axis/ulnar styloid\n",
       "2                     Upper arm           Glenohumeral axis/elbow axis\n",
       "3              Forearm and hand               Elbow axis/ulnar styloid\n",
       "4                     Total arm       Glenohumeral joint/ulnar styloid\n",
       "5                          Foot    Lateral malleolus/head metatarsalII\n",
       "6                           Leg      Femoral condyles/medial malleolus\n",
       "7                         Thigh    Greater trochanter/femoral condyles\n",
       "8                  Foot and leg      Femoral condyles/medial malleolus\n",
       "9                     Total leg    Greater trochanter/medial malleolus\n",
       "10                Head and neck            C7-T1 and 1st rib/ear canal\n",
       "11                Shoulder mass    Sternoclavicular joint/glenohumeral\n",
       "12                       Thorax             C7-T1/T12-L1 and diaphragm\n",
       "13                      Abdomen                           T12-L1/L4-L5\n",
       "14                       Pelvis               L4-L5/greater trochanter\n",
       "15           Thorax and abdomen                            C7-T1/L4-L5\n",
       "16           Abdomen and pelvis              T12-L1/greater trochanter\n",
       "17                        Trunk  Greater trochanter/glenohumeral joint\n",
       "18              Trunk head neck  Greater trochanter/glenohumeral joint\n",
       "19  Head, arms, and trunk (HAT)  Greater trochanter/glenohumeral joint\n",
       "20                          HAT             Greater trochanter/mid rib"
      ]
     },
     "metadata": {},
     "output_type": "display_data"
    }
   ],
   "source": [
    "BSP_Dmarks = pd.read_csv('./../data/BSPlandmarks_Dempster.txt', sep='\\t')\n",
    "display(Latex('BSP segments from Dempster\\'s model adapted by Winter (2009):'))\n",
    "display(BSP_Dmarks)"
   ]
  },
  {
   "cell_type": "code",
   "execution_count": 3,
   "metadata": {
    "ExecuteTime": {
     "end_time": "2016-12-26T01:53:47.972196",
     "start_time": "2016-12-26T01:53:47.949180"
    },
    "collapsed": false
   },
   "outputs": [
    {
     "data": {
      "text/latex": [
       "BSP values from Dempster's model adapted by Winter (2009):"
      ],
      "text/plain": [
       "<IPython.core.display.Latex object>"
      ]
     },
     "metadata": {},
     "output_type": "display_data"
    },
    {
     "data": {
      "text/html": [
       "<div>\n",
       "<table border=\"1\" class=\"dataframe\">\n",
       "  <thead>\n",
       "    <tr style=\"text-align: right;\">\n",
       "      <th></th>\n",
       "      <th>Definition</th>\n",
       "      <th>Mass</th>\n",
       "      <th>CM prox</th>\n",
       "      <th>CM dist</th>\n",
       "      <th>Rg CM</th>\n",
       "      <th>Rg prox</th>\n",
       "      <th>Rg dist</th>\n",
       "    </tr>\n",
       "    <tr>\n",
       "      <th>Segment</th>\n",
       "      <th></th>\n",
       "      <th></th>\n",
       "      <th></th>\n",
       "      <th></th>\n",
       "      <th></th>\n",
       "      <th></th>\n",
       "      <th></th>\n",
       "    </tr>\n",
       "  </thead>\n",
       "  <tbody>\n",
       "    <tr>\n",
       "      <th>Hand</th>\n",
       "      <td>WJC-KNU2</td>\n",
       "      <td>0.0060</td>\n",
       "      <td>0.506</td>\n",
       "      <td>0.494</td>\n",
       "      <td>0.297</td>\n",
       "      <td>0.587</td>\n",
       "      <td>0.577</td>\n",
       "    </tr>\n",
       "    <tr>\n",
       "      <th>Forearm</th>\n",
       "      <td>EJC-STYL</td>\n",
       "      <td>0.0160</td>\n",
       "      <td>0.430</td>\n",
       "      <td>0.570</td>\n",
       "      <td>0.303</td>\n",
       "      <td>0.526</td>\n",
       "      <td>0.647</td>\n",
       "    </tr>\n",
       "    <tr>\n",
       "      <th>Upper arm</th>\n",
       "      <td>SJC-EJC</td>\n",
       "      <td>0.0280</td>\n",
       "      <td>0.436</td>\n",
       "      <td>0.564</td>\n",
       "      <td>0.322</td>\n",
       "      <td>0.542</td>\n",
       "      <td>0.645</td>\n",
       "    </tr>\n",
       "    <tr>\n",
       "      <th>Forearm hand</th>\n",
       "      <td>EJC-STYL</td>\n",
       "      <td>0.0220</td>\n",
       "      <td>0.682</td>\n",
       "      <td>0.318</td>\n",
       "      <td>0.468</td>\n",
       "      <td>0.827</td>\n",
       "      <td>0.565</td>\n",
       "    </tr>\n",
       "    <tr>\n",
       "      <th>Total arm</th>\n",
       "      <td>SJC-STYL</td>\n",
       "      <td>0.0500</td>\n",
       "      <td>0.530</td>\n",
       "      <td>0.470</td>\n",
       "      <td>0.368</td>\n",
       "      <td>0.645</td>\n",
       "      <td>0.596</td>\n",
       "    </tr>\n",
       "    <tr>\n",
       "      <th>Foot</th>\n",
       "      <td>LMAL-MT2</td>\n",
       "      <td>0.0145</td>\n",
       "      <td>0.500</td>\n",
       "      <td>0.500</td>\n",
       "      <td>0.475</td>\n",
       "      <td>0.690</td>\n",
       "      <td>0.690</td>\n",
       "    </tr>\n",
       "    <tr>\n",
       "      <th>Leg</th>\n",
       "      <td>KJC-MMAL</td>\n",
       "      <td>0.0465</td>\n",
       "      <td>0.433</td>\n",
       "      <td>0.567</td>\n",
       "      <td>0.302</td>\n",
       "      <td>0.528</td>\n",
       "      <td>0.643</td>\n",
       "    </tr>\n",
       "    <tr>\n",
       "      <th>Thigh</th>\n",
       "      <td>GTR-KJC</td>\n",
       "      <td>0.1000</td>\n",
       "      <td>0.433</td>\n",
       "      <td>0.567</td>\n",
       "      <td>0.323</td>\n",
       "      <td>0.540</td>\n",
       "      <td>0.653</td>\n",
       "    </tr>\n",
       "    <tr>\n",
       "      <th>Head neck</th>\n",
       "      <td>C7T1-RIB1EAR</td>\n",
       "      <td>0.0810</td>\n",
       "      <td>1.000</td>\n",
       "      <td>0.000</td>\n",
       "      <td>0.495</td>\n",
       "      <td>0.116</td>\n",
       "      <td>NaN</td>\n",
       "    </tr>\n",
       "    <tr>\n",
       "      <th>Thorax</th>\n",
       "      <td>C7T1-T12L1-DIAP</td>\n",
       "      <td>0.2160</td>\n",
       "      <td>0.820</td>\n",
       "      <td>0.180</td>\n",
       "      <td>NaN</td>\n",
       "      <td>NaN</td>\n",
       "      <td>NaN</td>\n",
       "    </tr>\n",
       "    <tr>\n",
       "      <th>Abdomen</th>\n",
       "      <td>T12L1-GTR</td>\n",
       "      <td>0.1390</td>\n",
       "      <td>0.440</td>\n",
       "      <td>0.560</td>\n",
       "      <td>NaN</td>\n",
       "      <td>NaN</td>\n",
       "      <td>NaN</td>\n",
       "    </tr>\n",
       "    <tr>\n",
       "      <th>Pelvis</th>\n",
       "      <td>L4L5-GTR</td>\n",
       "      <td>0.1420</td>\n",
       "      <td>0.105</td>\n",
       "      <td>0.895</td>\n",
       "      <td>NaN</td>\n",
       "      <td>NaN</td>\n",
       "      <td>NaN</td>\n",
       "    </tr>\n",
       "    <tr>\n",
       "      <th>Trunk</th>\n",
       "      <td>GTR-SJC</td>\n",
       "      <td>0.4970</td>\n",
       "      <td>0.500</td>\n",
       "      <td>0.500</td>\n",
       "      <td>NaN</td>\n",
       "      <td>NaN</td>\n",
       "      <td>NaN</td>\n",
       "    </tr>\n",
       "    <tr>\n",
       "      <th>Trunk head neck</th>\n",
       "      <td>GTR-SJC</td>\n",
       "      <td>0.5780</td>\n",
       "      <td>0.660</td>\n",
       "      <td>0.340</td>\n",
       "      <td>0.503</td>\n",
       "      <td>0.830</td>\n",
       "      <td>0.607</td>\n",
       "    </tr>\n",
       "    <tr>\n",
       "      <th>HAT</th>\n",
       "      <td>GTR-SJC</td>\n",
       "      <td>0.6780</td>\n",
       "      <td>0.626</td>\n",
       "      <td>0.374</td>\n",
       "      <td>0.496</td>\n",
       "      <td>0.798</td>\n",
       "      <td>0.621</td>\n",
       "    </tr>\n",
       "    <tr>\n",
       "      <th>Foot leg</th>\n",
       "      <td>KJC-MMAL</td>\n",
       "      <td>0.0610</td>\n",
       "      <td>0.606</td>\n",
       "      <td>0.394</td>\n",
       "      <td>0.416</td>\n",
       "      <td>0.735</td>\n",
       "      <td>0.572</td>\n",
       "    </tr>\n",
       "    <tr>\n",
       "      <th>Total leg</th>\n",
       "      <td>GTR-MMAL</td>\n",
       "      <td>0.1610</td>\n",
       "      <td>0.447</td>\n",
       "      <td>0.553</td>\n",
       "      <td>0.326</td>\n",
       "      <td>0.560</td>\n",
       "      <td>0.650</td>\n",
       "    </tr>\n",
       "    <tr>\n",
       "      <th>Thorax abdomen</th>\n",
       "      <td>C7T1-L4L5</td>\n",
       "      <td>0.3550</td>\n",
       "      <td>0.630</td>\n",
       "      <td>0.370</td>\n",
       "      <td>NaN</td>\n",
       "      <td>NaN</td>\n",
       "      <td>NaN</td>\n",
       "    </tr>\n",
       "    <tr>\n",
       "      <th>Abdomen pelvis</th>\n",
       "      <td>T12L1-GTR</td>\n",
       "      <td>0.2810</td>\n",
       "      <td>0.270</td>\n",
       "      <td>0.730</td>\n",
       "      <td>NaN</td>\n",
       "      <td>NaN</td>\n",
       "      <td>NaN</td>\n",
       "    </tr>\n",
       "  </tbody>\n",
       "</table>\n",
       "</div>"
      ],
      "text/plain": [
       "                      Definition    Mass  CM prox  CM dist  Rg CM  Rg prox  \\\n",
       "Segment                                                                      \n",
       "Hand                    WJC-KNU2  0.0060    0.506    0.494  0.297    0.587   \n",
       "Forearm                 EJC-STYL  0.0160    0.430    0.570  0.303    0.526   \n",
       "Upper arm                SJC-EJC  0.0280    0.436    0.564  0.322    0.542   \n",
       "Forearm hand            EJC-STYL  0.0220    0.682    0.318  0.468    0.827   \n",
       "Total arm               SJC-STYL  0.0500    0.530    0.470  0.368    0.645   \n",
       "Foot                    LMAL-MT2  0.0145    0.500    0.500  0.475    0.690   \n",
       "Leg                     KJC-MMAL  0.0465    0.433    0.567  0.302    0.528   \n",
       "Thigh                    GTR-KJC  0.1000    0.433    0.567  0.323    0.540   \n",
       "Head neck           C7T1-RIB1EAR  0.0810    1.000    0.000  0.495    0.116   \n",
       "Thorax           C7T1-T12L1-DIAP  0.2160    0.820    0.180    NaN      NaN   \n",
       "Abdomen                T12L1-GTR  0.1390    0.440    0.560    NaN      NaN   \n",
       "Pelvis                  L4L5-GTR  0.1420    0.105    0.895    NaN      NaN   \n",
       "Trunk                    GTR-SJC  0.4970    0.500    0.500    NaN      NaN   \n",
       "Trunk head neck          GTR-SJC  0.5780    0.660    0.340  0.503    0.830   \n",
       "HAT                      GTR-SJC  0.6780    0.626    0.374  0.496    0.798   \n",
       "Foot leg                KJC-MMAL  0.0610    0.606    0.394  0.416    0.735   \n",
       "Total leg               GTR-MMAL  0.1610    0.447    0.553  0.326    0.560   \n",
       "Thorax abdomen         C7T1-L4L5  0.3550    0.630    0.370    NaN      NaN   \n",
       "Abdomen pelvis         T12L1-GTR  0.2810    0.270    0.730    NaN      NaN   \n",
       "\n",
       "                 Rg dist  \n",
       "Segment                   \n",
       "Hand               0.577  \n",
       "Forearm            0.647  \n",
       "Upper arm          0.645  \n",
       "Forearm hand       0.565  \n",
       "Total arm          0.596  \n",
       "Foot               0.690  \n",
       "Leg                0.643  \n",
       "Thigh              0.653  \n",
       "Head neck            NaN  \n",
       "Thorax               NaN  \n",
       "Abdomen              NaN  \n",
       "Pelvis               NaN  \n",
       "Trunk                NaN  \n",
       "Trunk head neck    0.607  \n",
       "HAT                0.621  \n",
       "Foot leg           0.572  \n",
       "Total leg          0.650  \n",
       "Thorax abdomen       NaN  \n",
       "Abdomen pelvis       NaN  "
      ]
     },
     "metadata": {},
     "output_type": "display_data"
    }
   ],
   "source": [
    "bsp_D = pd.read_csv('./../data/BSP_DempsterWinter.txt', index_col=0, sep='\\t')\n",
    "display(Latex('BSP values from Dempster\\'s model adapted by Winter (2009):'))\n",
    "display(bsp_D)"
   ]
  },
  {
   "cell_type": "code",
   "execution_count": 20,
   "metadata": {
    "ExecuteTime": {
     "end_time": "2016-12-26T02:02:30.154334",
     "start_time": "2016-12-26T02:02:30.149313"
    },
    "collapsed": false
   },
   "outputs": [
    {
     "data": {
      "text/plain": [
       "array([[ 0. ,  0.3],\n",
       "       [ 0.1,  0.1],\n",
       "       [ 0.3,  0.5],\n",
       "       [ 0. ,  1. ]])"
      ]
     },
     "execution_count": 20,
     "metadata": {},
     "output_type": "execute_result"
    }
   ],
   "source": [
    "r = np.array([[0, .3], [.1, .1], [.3, .5], [0, 1]])\n",
    "r"
   ]
  },
  {
   "cell_type": "markdown",
   "metadata": {},
   "source": [
    "The position of the center of mass of each segment and of the lower limb are:"
   ]
  },
  {
   "cell_type": "code",
   "execution_count": 21,
   "metadata": {
    "ExecuteTime": {
     "end_time": "2016-12-26T02:02:31.842183",
     "start_time": "2016-12-26T02:02:31.828172"
    },
    "collapsed": false
   },
   "outputs": [
    {
     "name": "stdout",
     "output_type": "stream",
     "text": [
      "Foot CM:  [ 0.05  0.2 ] m\n",
      "Leg CM:  [ 0.213  0.327] m\n",
      "Thigh CM:  [ 0.13   0.784] m\n",
      "Lower limb CM:  [ 0.147  0.599] m\n"
     ]
    }
   ],
   "source": [
    "M = bsp_D.ix[['Foot', 'Leg', 'Thigh'], 'Mass'].sum()\n",
    "rcm_foot  = r[1] + bsp_D.ix['Foot', 'CM prox']*(r[0]-r[1])\n",
    "rcm_leg   = r[2] + bsp_D.ix['Leg',  'CM prox']*(r[1]-r[2])\n",
    "rcm_thigh = r[3] + bsp_D.ix['Thigh','CM prox']*(r[2]-r[3])\n",
    "rcm = (bsp_D.ix['Foot','Mass']*rcm_foot + bsp_D.ix['Leg','Mass']*rcm_leg + \\\n",
    "       bsp_D.ix['Thigh','Mass']*rcm_thigh)/M\n",
    "print('Foot CM: ', np.around(rcm_foot, 3), 'm')\n",
    "print('Leg CM: ', np.around(rcm_leg, 3), 'm')\n",
    "print('Thigh CM: ', np.around(rcm_thigh, 3), 'm')\n",
    "print('Lower limb CM: ', np.around(rcm, 3), 'm')"
   ]
  },
  {
   "cell_type": "code",
   "execution_count": 12,
   "metadata": {
    "ExecuteTime": {
     "end_time": "2016-12-26T02:00:00.456026",
     "start_time": "2016-12-26T02:00:00.452046"
    },
    "collapsed": true
   },
   "outputs": [],
   "source": [
    "rcm = np.array([.1557, .5856])"
   ]
  },
  {
   "cell_type": "code",
   "execution_count": 22,
   "metadata": {
    "ExecuteTime": {
     "end_time": "2016-12-26T02:02:35.614103",
     "start_time": "2016-12-26T02:02:35.604130"
    },
    "collapsed": false
   },
   "outputs": [
    {
     "name": "stdout",
     "output_type": "stream",
     "text": [
      "Icm foot:  0.016 kgm2\n",
      "Icm leg:  0.085 kgm2\n",
      "Icm thigh:  0.355 kgm2\n"
     ]
    }
   ],
   "source": [
    "norm = np.linalg.norm\n",
    "M = 100 # body mass\n",
    "Icm_foot = M*bsp_D.ix['Foot', 'Mass']*((bsp_D.ix['Foot', 'Rg CM']*norm(r[0]-r[1]))**2)\n",
    "Icm_leg = M*bsp_D.ix['Leg',  'Mass']*((bsp_D.ix['Leg',  'Rg CM']*norm(r[1]-r[2]))**2)\n",
    "Icm_thigh = M*bsp_D.ix['Thigh','Mass']*((bsp_D.ix['Thigh','Rg CM']*norm(r[2]-r[3]))**2)\n",
    "print('Icm foot: ', np.around(Icm_foot, 3), 'kgm2')\n",
    "print('Icm leg: ', np.around(Icm_leg, 3), 'kgm2')\n",
    "print('Icm thigh: ', np.around(Icm_thigh, 3), 'kgm2')"
   ]
  },
  {
   "cell_type": "code",
   "execution_count": 23,
   "metadata": {
    "ExecuteTime": {
     "end_time": "2016-12-26T02:02:36.169447",
     "start_time": "2016-12-26T02:02:36.164460"
    },
    "collapsed": false
   },
   "outputs": [
    {
     "name": "stdout",
     "output_type": "stream",
     "text": [
      "Icm lower limb:  1.409 kgm2\n"
     ]
    }
   ],
   "source": [
    "Icmll = (Icm_foot  + M*bsp_D.ix['Foot', 'Mass']*norm(rcm-rcm_foot )**2 + \\\n",
    "         Icm_leg   + M*bsp_D.ix['Leg',  'Mass']*norm(rcm-rcm_leg  )**2 + \\\n",
    "         Icm_thigh + M*bsp_D.ix['Thigh','Mass']*norm(rcm-rcm_thigh)**2)\n",
    "\n",
    "print('Icm lower limb: ', np.around(Icmll, 3), 'kgm2')"
   ]
  },
  {
   "cell_type": "markdown",
   "metadata": {},
   "source": [
    "To calculate the moment of inertia of the lower limb around the hip, we use again the parallel axis theorem:"
   ]
  },
  {
   "cell_type": "code",
   "execution_count": 24,
   "metadata": {
    "ExecuteTime": {
     "end_time": "2016-12-26T02:02:38.329257",
     "start_time": "2016-12-26T02:02:38.323256"
    },
    "collapsed": false
   },
   "outputs": [
    {
     "name": "stdout",
     "output_type": "stream",
     "text": [
      "Ihip lower limb:  4.344 kgm2\n"
     ]
    }
   ],
   "source": [
    "Ihipll = (Icm_foot  + M*bsp_D.ix['Foot', 'Mass']*norm(r[3]-rcm_foot )**2 + \\\n",
    "          Icm_leg   + M*bsp_D.ix['Leg',  'Mass']*norm(r[3]-rcm_leg  )**2 + \\\n",
    "          Icm_thigh + M*bsp_D.ix['Thigh','Mass']*norm(r[3]-rcm_thigh)**2)\n",
    "\n",
    "print('Ihip lower limb: ', np.around(Ihipll, 3), 'kgm2')"
   ]
  },
  {
   "cell_type": "code",
   "execution_count": null,
   "metadata": {
    "collapsed": true
   },
   "outputs": [],
   "source": []
  },
  {
   "cell_type": "code",
   "execution_count": 27,
   "metadata": {
    "ExecuteTime": {
     "end_time": "2016-12-26T12:47:10.321385",
     "start_time": "2016-12-26T12:47:10.316378"
    },
    "collapsed": false
   },
   "outputs": [
    {
     "data": {
      "text/plain": [
       "array([[ 0.831,  0.115],\n",
       "       [ 0.637,  0.063],\n",
       "       [ 0.541,  0.379],\n",
       "       [ 0.421,  0.708]])"
      ]
     },
     "execution_count": 27,
     "metadata": {},
     "output_type": "execute_result"
    }
   ],
   "source": [
    "r = np.array([[.831, .115], [.637, .063], [.541, .379], [.421, .708]])\n",
    "r"
   ]
  },
  {
   "cell_type": "code",
   "execution_count": 28,
   "metadata": {
    "ExecuteTime": {
     "end_time": "2016-12-26T12:47:13.483772",
     "start_time": "2016-12-26T12:47:13.470762"
    },
    "collapsed": false
   },
   "outputs": [
    {
     "name": "stdout",
     "output_type": "stream",
     "text": [
      "Foot CM:  [ 0.734  0.089] m\n",
      "Leg CM:  [ 0.583  0.242] m\n",
      "Thigh CM:  [ 0.473  0.566] m\n",
      "Lower limb CM:  [ 0.528  0.429] m\n"
     ]
    }
   ],
   "source": [
    "M = bsp_D.ix[['Foot', 'Leg', 'Thigh'], 'Mass'].sum()\n",
    "rcm_foot  = r[1] + bsp_D.ix['Foot', 'CM prox']*(r[0]-r[1])\n",
    "rcm_leg   = r[2] + bsp_D.ix['Leg',  'CM prox']*(r[1]-r[2])\n",
    "rcm_thigh = r[3] + bsp_D.ix['Thigh','CM prox']*(r[2]-r[3])\n",
    "rcm = (bsp_D.ix['Foot','Mass']*rcm_foot + bsp_D.ix['Leg','Mass']*rcm_leg + \\\n",
    "       bsp_D.ix['Thigh','Mass']*rcm_thigh)/M\n",
    "print('Foot CM: ', np.around(rcm_foot, 3), 'm')\n",
    "print('Leg CM: ', np.around(rcm_leg, 3), 'm')\n",
    "print('Thigh CM: ', np.around(rcm_thigh, 3), 'm')\n",
    "print('Lower limb CM: ', np.around(rcm, 3), 'm')"
   ]
  },
  {
   "cell_type": "code",
   "execution_count": 29,
   "metadata": {
    "ExecuteTime": {
     "end_time": "2016-12-26T12:48:03.884732",
     "start_time": "2016-12-26T12:48:03.876709"
    },
    "collapsed": false
   },
   "outputs": [
    {
     "name": "stdout",
     "output_type": "stream",
     "text": [
      "Icm foot:  0.013 kgm2\n",
      "Icm leg:  0.046 kgm2\n",
      "Icm thigh:  0.128 kgm2\n"
     ]
    }
   ],
   "source": [
    "norm = np.linalg.norm\n",
    "M = 100 # body mass\n",
    "Icm_foot = M*bsp_D.ix['Foot', 'Mass']*((bsp_D.ix['Foot', 'Rg CM']*norm(r[0]-r[1]))**2)\n",
    "Icm_leg = M*bsp_D.ix['Leg',  'Mass']*((bsp_D.ix['Leg',  'Rg CM']*norm(r[1]-r[2]))**2)\n",
    "Icm_thigh = M*bsp_D.ix['Thigh','Mass']*((bsp_D.ix['Thigh','Rg CM']*norm(r[2]-r[3]))**2)\n",
    "print('Icm foot: ', np.around(Icm_foot, 3), 'kgm2')\n",
    "print('Icm leg: ', np.around(Icm_leg, 3), 'kgm2')\n",
    "print('Icm thigh: ', np.around(Icm_thigh, 3), 'kgm2')"
   ]
  },
  {
   "cell_type": "code",
   "execution_count": 30,
   "metadata": {
    "ExecuteTime": {
     "end_time": "2016-12-26T12:48:19.506516",
     "start_time": "2016-12-26T12:48:19.501513"
    },
    "collapsed": false
   },
   "outputs": [
    {
     "name": "stdout",
     "output_type": "stream",
     "text": [
      "Icm lower limb:  0.809 kgm2\n"
     ]
    }
   ],
   "source": [
    "Icmll = (Icm_foot  + M*bsp_D.ix['Foot', 'Mass']*norm(rcm-rcm_foot )**2 + \\\n",
    "         Icm_leg   + M*bsp_D.ix['Leg',  'Mass']*norm(rcm-rcm_leg  )**2 + \\\n",
    "         Icm_thigh + M*bsp_D.ix['Thigh','Mass']*norm(rcm-rcm_thigh)**2)\n",
    "\n",
    "print('Icm lower limb: ', np.around(Icmll, 3), 'kgm2')"
   ]
  },
  {
   "cell_type": "code",
   "execution_count": 31,
   "metadata": {
    "ExecuteTime": {
     "end_time": "2016-12-26T12:48:29.786023",
     "start_time": "2016-12-26T12:48:29.780003"
    },
    "collapsed": false
   },
   "outputs": [
    {
     "name": "stdout",
     "output_type": "stream",
     "text": [
      "Ihip lower limb:  2.245 kgm2\n"
     ]
    }
   ],
   "source": [
    "Ihipll = (Icm_foot  + M*bsp_D.ix['Foot', 'Mass']*norm(r[3]-rcm_foot )**2 + \\\n",
    "          Icm_leg   + M*bsp_D.ix['Leg',  'Mass']*norm(r[3]-rcm_leg  )**2 + \\\n",
    "          Icm_thigh + M*bsp_D.ix['Thigh','Mass']*norm(r[3]-rcm_thigh)**2)\n",
    "\n",
    "print('Ihip lower limb: ', np.around(Ihipll, 3), 'kgm2')"
   ]
  },
  {
   "cell_type": "code",
   "execution_count": null,
   "metadata": {
    "collapsed": true
   },
   "outputs": [],
   "source": []
  }
 ],
 "metadata": {
  "anaconda-cloud": {},
  "hide_input": false,
  "kernelspec": {
   "display_name": "Python [default]",
   "language": "python",
   "name": "python3"
  },
  "language_info": {
   "codemirror_mode": {
    "name": "ipython",
    "version": 3
   },
   "file_extension": ".py",
   "mimetype": "text/x-python",
   "name": "python",
   "nbconvert_exporter": "python",
   "pygments_lexer": "ipython3",
   "version": "3.5.2"
  }
 },
 "nbformat": 4,
 "nbformat_minor": 0
}
