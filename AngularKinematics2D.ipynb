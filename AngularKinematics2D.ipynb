{
 "metadata": {
  "name": ""
 },
 "nbformat": 3,
 "nbformat_minor": 0,
 "worksheets": [
  {
   "cells": [
    {
     "cell_type": "heading",
     "level": 1,
     "metadata": {},
     "source": [
      "Angular kinematics (two-dimensional)"
     ]
    },
    {
     "cell_type": "markdown",
     "metadata": {},
     "source": [
      "Marcos Duarte"
     ]
    },
    {
     "cell_type": "markdown",
     "metadata": {},
     "source": [
      "Human motion is a combination of linear and angular movement and occurs in the three-dimensional (3D) space. However, for certain movements and depending on the desired or needed degree of detail of the motion analysis, it is possible to perform a two-dimensional (2D, planar) analysis at the main plane of movement. Such simplification is appreciated because the instrumentation and analysis are much more complicated in order to measure 3D motion than for the 2D case.   \n",
      "\n",
      "For the planar case, the calculation of angles is reduced to the application of trigonometry to the kinematic data.   "
     ]
    },
    {
     "cell_type": "heading",
     "level": 2,
     "metadata": {},
     "source": [
      "Trigonometry"
     ]
    },
    {
     "cell_type": "markdown",
     "metadata": {},
     "source": [
      "Here is a geometric representation of the main [trigonometric functions](http://en.wikipedia.org/wiki/Trigonometric_function) of an angle $\\theta$:\n",
      "\n",
      "<div class='center-align'><figure><img src='http://upload.wikimedia.org/wikipedia/commons/thumb/1/11/Academ_Base_of_trigonometry.svg/300px-Academ_Base_of_trigonometry.svg.png' alt='Main trigonometric functions'/> <figcaption><i>Main trigonometric functions ([Wikipedia](http://en.wikipedia.org/wiki/Trigonometric_function)).</i></figcaption> </figure></div><br>\n"
     ]
    },
    {
     "cell_type": "markdown",
     "metadata": {},
     "source": [
      "The figure above also evinces an important aspect in trigonometry: if two right triangles have equal acute angles, they are similar, so their side lengths are proportional. These proportionality constants are the values of sin$\\theta$, cos$\\theta$, and  tan$\\theta$.   \n",
      "\n",
      "For example, given the coordinates in a plane of markers on a segment:"
     ]
    },
    {
     "cell_type": "code",
     "collapsed": false,
     "input": [
      "# Import the necessary libraries\n",
      "from __future__ import division, print_function\n",
      "from IPython.display import display, Latex\n",
      "import numpy as np\n",
      "import matplotlib\n",
      "import matplotlib.pyplot as plt\n",
      "%matplotlib inline"
     ],
     "language": "python",
     "metadata": {},
     "outputs": [],
     "prompt_number": 6
    },
    {
     "cell_type": "code",
     "collapsed": false,
     "input": [
      "x1, y1 = 0, 0\n",
      "x2, y2 = 1, 1\n",
      "\n",
      "hfig, hax = plt.subplots(1,1, figsize=(4,4))\n",
      "hax.plot((x1,x2), (y1,y2), 'b-', (x1,x2), (y1,y2), 'ro', linewidth=3, markersize=15)\n",
      "hax.add_patch(matplotlib.patches.FancyArrowPatch(posA=(np.sqrt(2)/3,y1), posB=(x2/3,y2/3),\\\n",
      "      arrowstyle='->,head_length=10,head_width=5', connectionstyle='arc3,rad=0.3'))\n",
      "hax.xaxis.set_ticks((.0,1.))\n",
      "hax.yaxis.set_ticks((.0,1.))\n",
      "hax.xaxis.set_ticklabels(('$x_1$', '$x_2$'), fontsize=24)\n",
      "hax.yaxis.set_ticklabels(('$y_1$', '$y_2$'), fontsize=24)\n",
      "plt.text(1/2,1/5,'$\\\\theta$', fontsize=24)\n",
      "hax.set_xlim(x1-0.5, x2+0.5)\n",
      "hax.set_ylim(y1-0.5, y2+0.5)\n",
      "hax.grid(xdata=(0,1), ydata=(0,1))"
     ],
     "language": "python",
     "metadata": {},
     "outputs": [
      {
       "metadata": {},
       "output_type": "display_data",
       "png": "[encoded data removed]",
       "text": [
        "<matplotlib.figure.Figure at 0x3bba810>"
       ]
      }
     ],
     "prompt_number": 39
    },
    {
     "cell_type": "markdown",
     "metadata": {},
     "source": [
      "The angle of the segment can be calculated using the inverse function of sin, cos, or tan. However, for better numerical accuracy, the inverse function of tan (arctan) is preferred.    \n",
      "For the data shown in the figure above:   \n",
      "\n",
      "$$\\theta = arctan\\left(\\frac{y_2-y_1}{x_2-x_1}\\right)$$\n",
      "\n",
      "In computer programming (here, Python/Numpy) this is calculated using: `mumpy.arctan((y_2-y_1)/(x_2-x_1))`.   \n",
      "However, for the figure above the function `arctan` can not distinguish if the segment is at 45$^o$ or at 225$^o$, `arctan` will return the same value. Because this, the function `numpy.arctan2(y, x)` is used, but be aware that `arctan2` will return angles between $[-\\pi,\\pi]\\;$:"
     ]
    },
    {
     "cell_type": "code",
     "collapsed": false,
     "input": [
      "display(Latex('Segment at 45$^o$:'))\n",
      "angs = [ np.arctan((1-0)/(1-0))*180/np.pi, np.arctan2(1-0, 1-0)*180/np.pi ]\n",
      "display(Latex('Using arctan: '+str(angs[0])+'$\\;\\;\\;-\\;\\;\\;$'+'Using arctan2: '+str(angs[1])))\n",
      "display(Latex('Segment at 225$^o$:'))\n",
      "angs = [ np.arctan((-1-0)/(-1-0))*180/np.pi, np.arctan2(-1-0, -1-0)*180/np.pi ]\n",
      "display(Latex('Using arctan: '+str(angs[0])+'$\\;\\;\\;-\\;\\;\\;$'+'Using arctan2: '+str(angs[1])))"
     ],
     "language": "python",
     "metadata": {},
     "outputs": [
      {
       "latex": [
        "Segment at 45$^o$:"
       ],
       "metadata": {},
       "output_type": "display_data",
       "text": [
        "<IPython.core.display.Latex at 0x3b32590>"
       ]
      },
      {
       "latex": [
        "Using arctan: 45.0$\\;\\;\\;-\\;\\;\\;$Using arctan2: 45.0"
       ],
       "metadata": {},
       "output_type": "display_data",
       "text": [
        "<IPython.core.display.Latex at 0x2f09290>"
       ]
      },
      {
       "latex": [
        "Segment at 225$^o$:"
       ],
       "metadata": {},
       "output_type": "display_data",
       "text": [
        "<IPython.core.display.Latex at 0x3b32810>"
       ]
      },
      {
       "latex": [
        "Using arctan: 45.0$\\;\\;\\;-\\;\\;\\;$Using arctan2: -135.0"
       ],
       "metadata": {},
       "output_type": "display_data",
       "text": [
        "<IPython.core.display.Latex at 0x3b32810>"
       ]
      }
     ],
     "prompt_number": 12
    },
    {
     "cell_type": "markdown",
     "metadata": {},
     "source": [
      "And Numpy has a function to convert an angle in rad to degrees and the other way around:"
     ]
    },
    {
     "cell_type": "code",
     "collapsed": false,
     "input": [
      "print('np.rad2deg(np.pi/2) =', np.rad2deg(np.pi))\n",
      "print('np.deg2rad(180) =', np.deg2rad(180))"
     ],
     "language": "python",
     "metadata": {},
     "outputs": [
      {
       "output_type": "stream",
       "stream": "stdout",
       "text": [
        "np.rad2deg(np.pi/2) = 180.0\n",
        "np.deg2rad(180) = 3.14159265359\n"
       ]
      }
     ],
     "prompt_number": 45
    },
    {
     "cell_type": "markdown",
     "metadata": {},
     "source": [
      "Let's simulate a 2D motion of the arm performing two complete turns around the shoulder to exemplify the use of `arctan2`:"
     ]
    },
    {
     "cell_type": "code",
     "collapsed": false,
     "input": [
      "t = np.arange(0,2,0.01)\n",
      "x = np.cos(2*np.pi*t)\n",
      "y = np.sin(2*np.pi*t)\n",
      "ang = np.arctan2(y,x)*180/np.pi\n",
      "\n",
      "plt.figure(figsize=(10,3))\n",
      "hax1 = plt.subplot2grid((2,3), (0,0), rowspan=2)\n",
      "hax1.plot(x,y,'go')\n",
      "hax1.plot(0,0,'go')\n",
      "hax1.set_xlabel('x [m]')\n",
      "hax1.set_ylabel('y [m]')\n",
      "hax1.grid()\n",
      "hax2 = plt.subplot2grid((2,3), (0,1), colspan=2)\n",
      "hax2.plot(t,x,'bo',label='x', linewidth=2)\n",
      "hax2.plot(t,y,'ro',label='y', linewidth=2)\n",
      "hax2.legend(numpoints=1)\n",
      "hax2.set_ylabel('Position [m]')\n",
      "hax2.grid()\n",
      "hax3 = plt.subplot2grid((2,3), (1,1), colspan=2)\n",
      "hax3.plot(t,ang,'go', linewidth=2)\n",
      "hax3.set_yticks(np.arange(-180,181,90))\n",
      "hax3.grid()\n",
      "hax3.set_xlabel('Time [s]')\n",
      "hax3.set_ylabel('Angle [ $^o$]')\n",
      "plt.tight_layout()"
     ],
     "language": "python",
     "metadata": {},
     "outputs": [
      {
       "metadata": {},
       "output_type": "display_data",
       "png": "[encoded data removed]",
       "text": [
        "<matplotlib.figure.Figure at 0x409b2d0>"
       ]
      }
     ],
     "prompt_number": 17
    },
    {
     "cell_type": "markdown",
     "metadata": {},
     "source": [
      "Because the output of the `arctan2` is bounded to $[-\\pi,\\pi]\\;$, the angle measured appears chopped in the figure. This problem can be solved using the function `numpy.unwrap`, which detects sudden jumps in the angle and corrects that:"
     ]
    },
    {
     "cell_type": "code",
     "collapsed": false,
     "input": [
      "ang = np.unwrap(np.arctan2(y, x))*180/np.pi\n",
      "\n",
      "hfig, hax = plt.subplots(1,1, figsize=(8,3))\n",
      "hax.plot(t, ang, 'go', linewidth=2)\n",
      "hax.set_yticks(np.arange(start=0, stop=721, step=90))\n",
      "hax.grid()\n",
      "hax.set_xlabel('Time [s]')\n",
      "hax.set_ylabel('Angle [ $^o$]');"
     ],
     "language": "python",
     "metadata": {},
     "outputs": [
      {
       "metadata": {},
       "output_type": "display_data",
       "png": "[encoded data removed]",
       "text": [
        "<matplotlib.figure.Figure at 0x40ae190>"
       ]
      }
     ],
     "prompt_number": 47
    },
    {
     "cell_type": "markdown",
     "metadata": {},
     "source": [
      "If now we want to measure the angle of a joint (i.e., the angle of a segment in relation to other segment) we just have to subtract the two segment angles (but this is correct only if the angles are at the same plane):"
     ]
    },
    {
     "cell_type": "code",
     "collapsed": false,
     "input": [
      "x1, y1 = 0.0, 0.0\n",
      "x2, y2 = 1.0, 1.0 \n",
      "x3, y3 = 1.1, 1.0\n",
      "x4, y4 = 2.1, 0.0\n",
      "\n",
      "hfig, hax = plt.subplots(1,1, figsize=(8,3))\n",
      "hax.plot((x1,x2), (y1,y2), 'b-', (x1,x2), (y1,y2), 'ro', linewidth=3, markersize=12)\n",
      "hax.add_patch(matplotlib.patches.FancyArrowPatch(posA=(x1+np.sqrt(2)/3, y1), posB=(x2/3, y2/3),\\\n",
      "      arrowstyle='->,head_length=10,head_width=5', connectionstyle='arc3,rad=0.3'))\n",
      "plt.text(1/2, 1/5, '$\\\\theta_1$', fontsize=24)\n",
      "hax.plot((x3,x4), (y3,y4), 'b-', (x3,x4), (y3,y4), 'ro', linewidth=3, markersize=12)\n",
      "hax.add_patch(matplotlib.patches.FancyArrowPatch(posA=(x4+np.sqrt(2)/3, y4), posB=(x4-1/3, y4+1/3),\\\n",
      "      arrowstyle='->,head_length=10,head_width=5', connectionstyle='arc3,rad=0.3'))\n",
      "hax.xaxis.set_ticks((x1,x2,x3,x4))\n",
      "hax.yaxis.set_ticks((y1,y2,y3,y4))\n",
      "hax.xaxis.set_ticklabels(('$x_1$','$x_2$','$x_3$','$x_4$'), fontsize=20)\n",
      "hax.yaxis.set_ticklabels(('$y_1, y_4$','$y_2, y_3$'), fontsize=20)\n",
      "plt.text(x4+.2,y4+.3,'$\\\\theta_2$', fontsize=24)\n",
      "hax.add_patch(matplotlib.patches.FancyArrowPatch(posA=(x2-1/3, y2-1/3), posB=(x3+1/3, y3-1/3),\\\n",
      "      arrowstyle='->,head_length=10,head_width=5', connectionstyle='arc3,rad=0.3'))\n",
      "plt.text(x1+.8,y1+.4,'$\\\\theta_J=\\\\theta_2-\\\\theta_1$', fontsize=24)\n",
      "hax.set_xlim(min([x1,x2,x3,x4])-0.1, max([x1,x2,x3,x4])+0.5)\n",
      "hax.set_ylim(min([y1,y2,y3,y4])-0.1, max([y1,y2,y3,y4])+0.1)\n",
      "hax.grid(xdata=(0,1), ydata=(0,1))"
     ],
     "language": "python",
     "metadata": {},
     "outputs": [
      {
       "metadata": {},
       "output_type": "display_data",
       "png": "[encoded data removed]",
       "text": [
        "<matplotlib.figure.Figure at 0x4521450>"
       ]
      }
     ],
     "prompt_number": 35
    },
    {
     "cell_type": "markdown",
     "metadata": {},
     "source": [
      "The joint angle shown above is simply the difference between the adjacent segment angles:"
     ]
    },
    {
     "cell_type": "code",
     "collapsed": false,
     "input": [
      "x1, y1, x2, y2 = 0, 0, 1, 1 \n",
      "x3, y3, x4, y4 = 1.1, 1, 2.1, 0\n",
      "ang1 = np.arctan2(y2-y1, x2-x1)*180/np.pi\n",
      "ang2 = np.arctan2(y3-y4, x3-x4)*180/np.pi\n",
      "\n",
      "#print('Angle 1:', ang1, '\\nAngle 2:', ang2, '\\nJoint angle:', ang2-ang1)\n",
      "display(Latex('$\\\\theta_1=\\;$' + str(ang1) + '$^o$'))\n",
      "display(Latex('$\\\\theta_2=\\;$' + str(ang2) + '$^o$'))\n",
      "display(Latex('$\\\\theta_J=\\;$' + str(ang2-ang1) + '$^o$'))"
     ],
     "language": "python",
     "metadata": {},
     "outputs": [
      {
       "latex": [
        "$\\theta_1=\\;$45.0$^o$"
       ],
       "metadata": {},
       "output_type": "display_data",
       "text": [
        "<IPython.core.display.Latex at 0x3bffd10>"
       ]
      },
      {
       "latex": [
        "$\\theta_2=\\;$135.0$^o$"
       ],
       "metadata": {},
       "output_type": "display_data",
       "text": [
        "<IPython.core.display.Latex at 0x3bffd50>"
       ]
      },
      {
       "latex": [
        "$\\theta_J=\\;$90.0$^o$"
       ],
       "metadata": {},
       "output_type": "display_data",
       "text": [
        "<IPython.core.display.Latex at 0x3bff190>"
       ]
      }
     ],
     "prompt_number": 80
    },
    {
     "cell_type": "markdown",
     "metadata": {},
     "source": [
      "The following convention is commonly used to describe the knee and ankle joint angles at the sagittal plane (figure from Winter 2005):\n",
      "\n",
      "<div class='center-align'><figure><img src='http://demotu.org/ipynb/jointangles.png' width=400 alt='Joint angle convention'/> <figcaption><i>Convention for the sagital joint angles of the lower limb (from Winter, 2005).</i></figcaption> </figure></div><br>"
     ]
    },
    {
     "cell_type": "heading",
     "level": 2,
     "metadata": {},
     "source": [
      "Angle between two 3D vectors"
     ]
    },
    {
     "cell_type": "markdown",
     "metadata": {},
     "source": [
      "In cerrtain cases, we have access to the 3d coordinates of markers but we just care for the angle between segments in the plane defined by these segments (but if there is considerable movement in different planes, this simple 2D angle might give unexpected results).   \n",
      "Consider that `p1` and `p2` are the 3D coordinates of markers placed on segment 1 and `p2` and `p3` are the 3D coordinates of the markers on segment 2.    \n",
      "\n",
      "One method to determine the 2D angle between the segments is by using the definition of the dot product:\n",
      "\n",
      "$$ \\mathbf{a} \\cdot \\mathbf{b} = ||\\mathbf{a}||\\:||\\mathbf{b}||\\:cos(\\theta)\\;\\;\\; \\Rightarrow \\;\\;\\; angle = arccos\\left(\\frac{dot(p2-p1,\\;p3-p2)}{norm(p2-p1)*norm(p3-p2)\\;\\;\\;\\;\\;} \\right) $$\n",
      "\n",
      "And in Python/Numpy formatting:\n",
      "\n",
      "$$ angle = arccos(dot([p2-p1]/norm(p2-p1),\\; [p3-p2]/norm(p3-p2))) $$\n",
      "\n",
      "Or, because `arctan2` has a better numerical accuracy:\n",
      "\n",
      "$$ angle = arctan2(norm(cross([p2\u2212p1],\\;[p3\u2212p2])),\\; dot([p2\u2212p1],\\;[p3\u2212p2])) $$\n",
      "\n",
      "See [this notebook](http://nbviewer.ipython.org/urls/raw.github.com/duartexyz/BMC/master/Scalar%20and%20vector.ipynb) for a review on the cross product and scalar product mathematical functions."
     ]
    },
    {
     "cell_type": "markdown",
     "metadata": {},
     "source": [
      "We can use the formula above for the angle between two 3D vectors to calculate the joint angle even with the 2D vectors we calculated before:"
     ]
    },
    {
     "cell_type": "code",
     "collapsed": false,
     "input": [
      "p1, p2 = np.array([0, 0, 0]),   np.array([1, 1, 0])   # segment 1\n",
      "p3, p4 = np.array([1.1, 1, 0]), np.array([2.1, 0, 0]) # segment 2\n",
      "\n",
      "angle = np.arctan2(np.linalg.norm(np.cross(p1-p2, p4-p3)), np.dot(p1-p2, p4-p3))*180/np.pi\n",
      "\n",
      "print('Joint angle:', '{0:.1f}'.format(angle))"
     ],
     "language": "python",
     "metadata": {},
     "outputs": [
      {
       "output_type": "stream",
       "stream": "stdout",
       "text": [
        "Joint angle: 90.0\n"
       ]
      }
     ],
     "prompt_number": 29
    },
    {
     "cell_type": "markdown",
     "metadata": {},
     "source": [
      "As expected, the same result.  \n",
      "\n",
      "And in Numpy, if the third components of vectors are zero, we don't even need to type them to compute the `cross` and `dot` functions, Numpy will tahe care of that."
     ]
    },
    {
     "cell_type": "heading",
     "level": 2,
     "metadata": {},
     "source": [
      "Angular velocity and acceleration"
     ]
    },
    {
     "cell_type": "markdown",
     "metadata": {},
     "source": [
      "Two-dimensional angular velocity and acceleration is analogous to linear kinematics.   \n",
      "\n",
      "Angular velocity is the rate (with respect to time) of change of the angular position:\n",
      "\n",
      "$$ \\mathbf{\\omega}(t) = \\frac{\\mathbf{\\theta}(t_2)-\\mathbf{\\theta}(t_1)}{t_2-t_1} = \\frac{\\Delta \\mathbf{\\theta}}{\\Delta t}$$\n",
      "\n",
      "$$ \\mathbf{\\omega}(t) = \\frac{d\\mathbf{\\theta}(t)}{dt} $$\n",
      "\n",
      "Angular acceleration is the rate (with respect to time) of change of the angular velocity of a particle, which can also be given by the second-order rate of change of the angular position:\n",
      "\n",
      "$$ \\mathbf{\\alpha}(t) = \\frac{\\mathbf{\\omega}(t_2)-\\mathbf{\\omega}(t_1)}{t_2-t_1} = \\frac{\\Delta \\mathbf{\\omega}}{\\Delta t} = \\frac{\\Delta^2 \\mathbf{\\theta}}{\\Delta t^2}$$\n",
      "\n",
      "Likewise, angular acceleration is the first-order derivative of the angular velocity or the second-order derivative of the angular position vector:   \n",
      "\n",
      "$$ \\mathbf{\\alpha}(t) = \\frac{d\\mathbf{\\omega}(t)}{dt} = \\frac{d^2\\mathbf{\\theta}(t)}{dt^2} $$"
     ]
    },
    {
     "cell_type": "heading",
     "level": 3,
     "metadata": {},
     "source": [
      "The antiderivative"
     ]
    },
    {
     "cell_type": "markdown",
     "metadata": {},
     "source": [
      "As the angular acceleration is the derivative of the angular velocity which is the derivative of angular position, the inverse mathmatical operation is the [antiderivative](http://en.wikipedia.org/wiki/Antiderivative) (or integral):\n",
      "\n",
      "$$ \\mathbf{\\theta}(t) = \\mathbf{\\theta}_0 + \\int \\mathbf{\\omega}(t) dt $$\n",
      "\n",
      "$$ \\mathbf{\\omega}(t) = \\mathbf{\\omega}_0 + \\int \\mathbf{\\alpha}(t) dt $$"
     ]
    },
    {
     "cell_type": "heading",
     "level": 2,
     "metadata": {},
     "source": [
      "Relationship between linear and angular kinematics"
     ]
    },
    {
     "cell_type": "markdown",
     "metadata": {},
     "source": [
      "Consider a particle rotating around a point at a fixed distance `r` (circular motion), as the particle moves along the circle, it travels an arc of length `s`.   \n",
      "The angular position of the particle is:\n",
      "\n",
      "$$ \\theta = \\frac{s}{r} $$\n",
      "\n",
      "Which is in fact similar to the definition of the angular measure radian:\n",
      "\n",
      "<div class='center-align'><figure><img src='http://upload.wikimedia.org/wikipedia/commons/thumb/3/3d/Radian_cropped_color.svg/220px-Radian_cropped_color.svg.png' width=200/> <figcaption><i>An arc of a circle with the same length as the radius of that circle corresponds to an angle of 1 radian ([Wikipedia](https://en.wikipedia.org/wiki/Radian)).</i></figcaption> </figure></div><br>"
     ]
    },
    {
     "cell_type": "markdown",
     "metadata": {},
     "source": [
      "Then, the distance travelled by the particle is the arc length:\n",
      "\n",
      "$$ s = r\\theta $$\n",
      "\n",
      "As the radius is constant, the relation between linear and angular velocity and acceleration is straightfoward:\n",
      "\n",
      "$$ v = \\frac{ds}{dt} = r\\frac{d\\theta}{dt} = r\\omega $$\n",
      "\n",
      "$$ a = \\frac{dv}{dt} = r\\frac{d\\omega}{dt} = r\\alpha $$"
     ]
    },
    {
     "cell_type": "heading",
     "level": 2,
     "metadata": {},
     "source": [
      "References"
     ]
    },
    {
     "cell_type": "markdown",
     "metadata": {},
     "source": [
      "- Winter DA (2009) Biomechanics and motor control of human movement. 4 ed. Hoboken, EUA: Wiley."
     ]
    }
   ],
   "metadata": {}
  }
 ]
}