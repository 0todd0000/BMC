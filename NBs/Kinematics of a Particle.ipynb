{
 "metadata": {
  "name": "",
  "signature": "sha256:2405050883f59a82f7aedca77bfb050ac82694d4ad009a14f29201ebb22a9bd8"
 },
 "nbformat": 3,
 "nbformat_minor": 0,
 "worksheets": [
  {
   "cells": [
    {
     "cell_type": "heading",
     "level": 1,
     "metadata": {},
     "source": [
      "Kinematics of a particle"
     ]
    },
    {
     "cell_type": "markdown",
     "metadata": {},
     "source": [
      "Marcos Duarte"
     ]
    },
    {
     "cell_type": "markdown",
     "metadata": {},
     "source": [
      "**Kinematics** is the branch of classical mechanics that describes the motion of objects without consideration of the causes of motion ([Wikipedia](http://en.wikipedia.org/wiki/Kinematics)).   \n",
      "Kinematics of a particle is the description of the motion when the object is considered a particle.   \n",
      "A particle as a physical object does not exist in nature; it is a simplification to understand the motion of a body or it is a conceptual definition such as the center of mass of a system of objects.   \n",
      "\n",
      "Classical mechanics is the study of motion of macroscopic objects moving with speeds far less than the speed of light $(\\ll 3.10^8 m/s)$ and not very small $(\\gg 3.10^{-9} m)$, see figure below for such limits. Within these boundaries, the motion of an object can be accurately described using, for example, Newtonian mechanics. \n",
      "\n",
      "<div class='center-align'><figure><img src=\"http://upload.wikimedia.org/wikipedia/commons/thumb/f/f0/Physicsdomains.svg/380px-Physicsdomains.svg.png\" alt=\"areas in Physics\"/><figcaption><i>The domain of the different areas in Physics according to the size and speed of the phenomenon (<a href=\"http://en.wikipedia.org/wiki/Classical_mechanics\" target=\"_blank\">from Wikipedia</a>).</i></figcaption> </figure></div>"
     ]
    },
    {
     "cell_type": "heading",
     "level": 2,
     "metadata": {},
     "source": [
      "Position"
     ]
    },
    {
     "cell_type": "markdown",
     "metadata": {},
     "source": [
      "Consider a point in the three-dimensional Euclidean space described in a Cartesian coordinate system:\n",
      "\n",
      "<div class='center-align'><figure><img src=\"http://upload.wikimedia.org/wikipedia/commons/thumb/6/69/Coord_system_CA_0.svg/240px-Coord_system_CA_0.svg.png\" width=\"400\" alt=\"three-dimensional Euclidean space\"/><figcaption><i>A point in the three-dimensional Euclidean space described in a Cartesian coordinate system (<a href=\"http://en.wikipedia.org/wiki/Euclidean_space\" target=\"_blank\">from Wikipedia</a>).</i></figcaption> </figure></div><br> \n",
      "\n",
      "The **position** of this point in space can be represented as a triple of values each representing the coordinate at each axis of the Cartesian coordinate system following the $ \\mathbf{X, Y, Z} $ convention order (which is omitted):\n",
      "\n",
      "$$ (x,\\: y,\\: z) $$   \n",
      "\n",
      "The position of a particle in space can also be represented by a vector in the Cartesian coordinate system, with the origin of the vector at the origin of the coordinate system and the tip of the vector at the point position:\n",
      "\n",
      "$$ \\mathbf{r}(t) = x\\:\\mathbf{\\hat{i}} + y\\:\\mathbf{\\hat{j}} + z\\:\\mathbf{\\hat{k}} $$\n",
      "\n",
      "Where $ \\mathbf{i,\\: j,\\: k} $ are unit vectors in the directions of the axes $ \\mathbf{X, Y, Z} $. \n",
      "\n",
      "For a review on vectors, see [this notebook](http://nbviewer.ipython.org/urls/raw.github.com/duartexyz/BMC/master/NBs/Scalar%20and%20vector.ipynb).\n",
      "\n",
      "With this new notation, the coordinates of a point representing the position of a particle that vary with time would be expressed by the following position vector $ \\mathbf{r}(t)$:   \n",
      "\n",
      "$$ \\mathbf{r}(t) = x(t)\\:\\mathbf{\\hat{i}} + y(t)\\:\\mathbf{\\hat{j}} + z(t)\\:\\mathbf{\\hat{k}} $$\n",
      "\n",
      "A vector can also be represented in matrix form:\n",
      "\n",
      "$$ \\mathbf{r}(t) = \\begin{bmatrix} x(t) \\\\y(t) \\\\z(t) \\end{bmatrix}$$\n",
      "\n",
      "And the unit vectors in each Cartesian coordinate in matrix form are given by:\n",
      "\n",
      "$$ \\mathbf{\\hat{i}}= \\begin{bmatrix}1\\\\0\\\\0 \\end{bmatrix},\\; \\mathbf{\\hat{j}}=\\begin{bmatrix}0\\\\1\\\\0 \\end{bmatrix},\\; \\mathbf{\\hat{k}}=\\begin{bmatrix} 0 \\\\ 0 \\\\ 1 \\end{bmatrix}$$\n",
      "\n",
      "In [linear algebra](http://en.wikipedia.org/wiki/Linear_algebra), a set of unit linearly independent vectors as the three vectors above (orthogonal in the Euclidean space) that can represent any vector via [linear combination](http://en.wikipedia.org/wiki/Linear_combination) is called a **basis**.   \n",
      "A basis is the foundation of creating a reference frame and we will study how to do that other time. "
     ]
    },
    {
     "cell_type": "heading",
     "level": 3,
     "metadata": {},
     "source": [
      "Displacement"
     ]
    },
    {
     "cell_type": "markdown",
     "metadata": {},
     "source": [
      "The shortest distance from the initial to the final position of a particle. As the difference between two vectors; displacement is also a vector quantity."
     ]
    },
    {
     "cell_type": "heading",
     "level": 2,
     "metadata": {},
     "source": [
      "Velocity"
     ]
    },
    {
     "cell_type": "markdown",
     "metadata": {},
     "source": [
      "Velocity is the rate (with respect to time) of change of the position of a particle:\n",
      "\n",
      "$$ \\mathbf{v}(t) = \\frac{\\mathbf{r}(t_2)-\\mathbf{r}(t_1)}{t_2-t_1} = \\frac{\\Delta \\mathbf{r}}{\\Delta t}$$\n",
      "\n",
      "The instantaneous velocity of the particle is obtained when $\\Delta t\\;$ approaches to zero, which from calculus is the first-order [derivative](http://en.wikipedia.org/wiki/Derivative) of the position vector.   \n",
      "The derivative of a vector is obtained by differentiating each vector component:   \n",
      "\n",
      "$$ \\mathbf{v}(t) = \\frac{d\\mathbf{r}(t)}{dt} = \\frac{dx(t)}{dt}\\mathbf{\\hat{i}} + \\frac{dy(t)}{dt}\\mathbf{\\hat{j}} + \\frac{dz(t)}{dt}\\mathbf{\\hat{k}} $$\n",
      "\n",
      "And in matrix form:\n",
      "\n",
      "$$ \\mathbf{v}(t) = \\begin{bmatrix}\n",
      "\\frac{dx(t)}{dt} \\\\\n",
      "\\frac{dy(t)}{dt} \\\\\n",
      "\\frac{dz(t)}{dt}\n",
      "\\end{bmatrix}$$"
     ]
    },
    {
     "cell_type": "heading",
     "level": 2,
     "metadata": {},
     "source": [
      "Acceleration  "
     ]
    },
    {
     "cell_type": "markdown",
     "metadata": {},
     "source": [
      "Acceleration is the rate (with respect to time) of change of the velocity of a particle, which can also be given by the second-order rate of change of the position:\n",
      "\n",
      "$$ \\mathbf{a}(t) = \\frac{\\mathbf{v}(t_2)-\\mathbf{v}(t_1)}{t_2-t_1} = \\frac{\\Delta \\mathbf{v}}{\\Delta t} = \\frac{\\Delta^2 \\mathbf{r}}{\\Delta t^2}$$\n",
      "\n",
      "Likewise, acceleration is the first-order derivative of the velocity or the second-order derivative of the position vector:   \n",
      "\n",
      "$$ \\mathbf{a}(t) = \\frac{d\\mathbf{v}(t)}{dt} = \\frac{d^2\\mathbf{r}(t)}{dt^2} = \\frac{d^2x(t)}{dt^2}\\mathbf{\\hat{i}} + \\frac{d^2y(t)}{dt^2}\\mathbf{\\hat{j}} + \\frac{d^2z(t)}{dt^2}\\mathbf{\\hat{k}} $$\n",
      "\n",
      "And in matrix form:\n",
      "\n",
      "$$ \\mathbf{a}(t) = \\begin{bmatrix}\n",
      "\\frac{d^2x(t)}{dt^2} \\\\\n",
      "\\frac{d^2y(t)}{dt^2} \\\\\n",
      "\\frac{d^2z(t)}{dt^2} \n",
      "\\end{bmatrix}$$"
     ]
    },
    {
     "cell_type": "heading",
     "level": 2,
     "metadata": {},
     "source": [
      "The antiderivative"
     ]
    },
    {
     "cell_type": "markdown",
     "metadata": {},
     "source": [
      "As the acceleration is the derivative of the velocity which is the derivative of position, the inverse mathematical operation is the [antiderivative](http://en.wikipedia.org/wiki/Antiderivative) (or integral):\n",
      "\n",
      "$$ \\begin{array}{l l}\n",
      "\\mathbf{r}(t) = \\mathbf{r}_0 + \\int \\mathbf{v}(t) dt \\\\\n",
      "\\mathbf{v}(t) = \\mathbf{v}_0 + \\int \\mathbf{a}(t) dt \n",
      "\\end{array} $$"
     ]
    },
    {
     "cell_type": "heading",
     "level": 2,
     "metadata": {},
     "source": [
      "Some cases of motion of a particle"
     ]
    },
    {
     "cell_type": "markdown",
     "metadata": {},
     "source": [
      "#### Particle at rest\n",
      "\n",
      "$$ \\begin{array}{l l}\n",
      "\\mathbf{a}(t) = 0 \\\\\n",
      "\\mathbf{v}(t) = 0 \\\\\n",
      "\\mathbf{r}(t) = \\mathbf{r}_0\n",
      "\\end{array} $$\n",
      "\n",
      "#### Particle at constant speed\n",
      "\n",
      "$$ \\begin{array}{l l}\n",
      "\\mathbf{a}(t) = 0 \\\\\n",
      "\\mathbf{v}(t) = \\mathbf{v}_0 \\\\\n",
      "\\mathbf{r}(t) = \\mathbf{r}_0 + \\mathbf{v}_0t\n",
      "\\end{array} $$\n",
      "\n",
      "#### Particle at constant acceleration\n",
      "\n",
      "$$ \\begin{array}{l l}\n",
      "\\mathbf{a}(t) = \\mathbf{a}_0 \\\\\n",
      "\\mathbf{v}(t) = \\mathbf{v}_0 + \\mathbf{a}_0t \\\\\n",
      "\\mathbf{r}(t) = \\mathbf{r}_0 + \\mathbf{v}_0t + \\frac{\\mathbf{a}_0t^2}{2} \n",
      "\\end{array} $$"
     ]
    },
    {
     "cell_type": "heading",
     "level": 3,
     "metadata": {},
     "source": [
      "Visual representation of these cases"
     ]
    },
    {
     "cell_type": "code",
     "collapsed": false,
     "input": [
      "# Import the necessary libraries\n",
      "from __future__ import division, print_function\n",
      "import numpy as np\n",
      "import matplotlib.pyplot as plt\n",
      "%matplotlib inline\n",
      "\n",
      "t = np.arange(0,2.0,.02)\n",
      "r0 = 1; v0 = 2; a0 = 3\n",
      "\n",
      "plt.rc('axes',  labelsize=14,  titlesize=14) \n",
      "plt.rc('xtick', labelsize=10)\n",
      "plt.rc('ytick', labelsize=10) \n",
      "f, axarr = plt.subplots(3, 3, sharex = True, sharey = True, figsize=(14,7))\n",
      "plt.suptitle('Kinematics of a particle', fontsize=20);\n",
      "\n",
      "tones = np.ones(np.size(t))\n",
      "\n",
      "axarr[0, 0].set_title('at rest', fontsize=14);\n",
      "axarr[0, 0].plot(t, r0*tones, 'k', linewidth=4, label='$r(t)=1$')\n",
      "axarr[1, 0].plot(t,  0*tones, 'b', linewidth=4, label='$v(t)=0$')\n",
      "axarr[2, 0].plot(t,  0*tones, 'r', linewidth=4, label='$a(t)=0$')\n",
      "axarr[0, 0].set_ylabel('r(t) [m]')\n",
      "axarr[1, 0].set_ylabel('v(t) [m/s]')\n",
      "axarr[2, 0].set_ylabel('a(t) [m/s$^2$]')\n",
      "\n",
      "axarr[0, 1].set_title('at constant speed');\n",
      "axarr[0, 1].plot(t, r0*tones+v0*t, 'k', linewidth=4, label='$r(t)=1+2t$')\n",
      "axarr[1, 1].plot(t, v0*tones,      'b', linewidth=4, label='$v(t)=2$')\n",
      "axarr[2, 1].plot(t,  0*tones,      'r', linewidth=4, label='$a(t)=0$')\n",
      "\n",
      "axarr[0, 2].set_title('at constant acceleration');\n",
      "axarr[0, 2].plot(t,r0*tones+v0*t+1/2.*a0*t**2,'k', linewidth=4, label='$r(t)=1+2t+\\\\frac{1}{2}3t^2$')\n",
      "axarr[1, 2].plot(t,v0*tones+a0*t,             'b', linewidth=4, label='$v(t)=2+3t$')\n",
      "axarr[2, 2].plot(t,a0*tones,                  'r', linewidth=4, label='$a(t)=3$')\n",
      "\n",
      "for i in range(3): \n",
      "    axarr[2, i].set_xlabel('Time [s]');\n",
      "    for j in range(3):\n",
      "        axarr[i,j].grid()\n",
      "        axarr[i,j].set_ylim((0, 10))\n",
      "        axarr[i,j].legend(loc = 'upper left')\n",
      "plt.subplots_adjust(hspace=0.09, wspace=0.07)"
     ],
     "language": "python",
     "metadata": {},
     "outputs": [
      {
       "metadata": {},
       "output_type": "display_data",
       "png": "[encoded data removed]",
       "text": [
        "<matplotlib.figure.Figure at 0x6890fd0>"
       ]
      }
     ],
     "prompt_number": 1
    },
    {
     "cell_type": "heading",
     "level": 2,
     "metadata": {},
     "source": [
      "Extras"
     ]
    },
    {
     "cell_type": "markdown",
     "metadata": {},
     "source": [
      "- Interactive demonstrations about [Cartesian coordinate system](http://www.geogebratube.org/student/m47494) and [unit vectors](http://www.geogebratube.org/student/m3550)."
     ]
    },
    {
     "cell_type": "heading",
     "level": 2,
     "metadata": {},
     "source": [
      "Problems"
     ]
    },
    {
     "cell_type": "markdown",
     "metadata": {},
     "source": [
      "1) A body was in position A = (1, 2, 3) and took 2 s to move to position B = (3, 2, 1) and then after 1 s moved to position C = (0, 0, 0) [in m].   \n",
      " Calculate:   \n",
      " a. Travelled distance from A to B, B to C, and total   \n",
      " b. Displacement and velocity from A to B and from B to C   \n",
      " c. Mean acceleration   \n",
      " d. Plot the graphs at each direction separately for position versus time   \n",
      " \n",
      "\n",
      "2) These are the reaction time and split times (in s) every 10 m for Usain Bolt when he set the world record for the 100-m dash in Berlin, 2009:   \n",
      " times = [0.146, 1.89, 2.88, 3.78, 4.64, 5.47, 6.29, 7.10, 7.92, 8.75, 9.58]   \n",
      " For these data:   \n",
      " a. Calculate the instantaneous velocity and acceleration   \n",
      " b. Plot the graphs displacement, velocity, and acceleration versus time   \n",
      " c. Plot the graphs velocity and acceleration versus partial distance (every 10m)   \n",
      " d. Calculate the mean velocity and the instant and value of the peak velocity   \n",
      " e. Calculate the instant and value of the peak acceleration   \n",
      " \n",
      " Here is an actual graph from a [biomechanical analysis of Usain Bolt](http://berlin.iaaf.org/news/kind=101/newsid=53084.html) for that race:\n",
      " \n",
      " <div class='center-align'><figure><img src=\"./../files/images/Bolt100Berlin2009.png\" alt=\"instantaneous speed of Usain Bolt\"/><figcaption><i>Instantaneous speed of Usain Bolt when he set the world record for the 100-m dash in Berlin, 2009.</i></figcaption></figure></div>   \n",
      "\n",
      "\n",
      "3) An athlete during a long jump had at the moment of takeoff a velocity of (8.10, 3.58, 0) [in m/s] where **X, Y, Z** are the horizontal (anterior-posterior), vertical, and medio-lateral directions, respectively.\n",
      " Calculate:   \n",
      " a. The magnitude of the velocity at the takeoff   \n",
      " b. The angle of the jump at the takeoff   \n",
      " c. The jump distance   \n",
      " d. The actual jump distance was 6.75 m. Comment about the difference between this value and the one found in (c). "
     ]
    },
    {
     "cell_type": "heading",
     "level": 2,
     "metadata": {},
     "source": [
      "References"
     ]
    },
    {
     "cell_type": "markdown",
     "metadata": {},
     "source": [
      "- [Virtual Animation of the Kinematics of the Human for Industrial, Educational and Research Purposes (VAKHUM)](http://www.ulb.ac.be/project/vakhum/)."
     ]
    }
   ],
   "metadata": {}
  }
 ]
}