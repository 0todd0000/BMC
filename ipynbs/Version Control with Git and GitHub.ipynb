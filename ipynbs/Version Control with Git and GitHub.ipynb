{
 "metadata": {
  "name": ""
 },
 "nbformat": 3,
 "nbformat_minor": 0,
 "worksheets": [
  {
   "cells": [
    {
     "cell_type": "heading",
     "level": 1,
     "metadata": {},
     "source": [
      "Version control with Git and GitHub"
     ]
    },
    {
     "cell_type": "markdown",
     "metadata": {},
     "source": [
      "[Marcos Duarte](http://ebm.ufabc.edu.br/en/faculty/marcos-duarte/)"
     ]
    },
    {
     "cell_type": "markdown",
     "metadata": {
      "slideshow": {
       "slide_type": "slide"
      }
     },
     "source": [
      "Version control has become a powerful tool to back up data, keep your work organized, and collaborate with others, very useful in the academic life.\n",
      "\n",
      "> Revision control, also known as version control and source control, is the management of changes to documents, computer programs, large web sites, etc.  \n",
      "\n",
      "> Changes are usually identified by a number or letter code, termed the \"revision number\", \"revision level\", or simply \"revision\". For example, an initial set of files is \"revision 1\". When the first change is made, the resulting set is \"revision 2\", and so on. Each revision is associated with a timestamp and the person making the change. Revisions can be compared, restored, and with some types of files, merged.   \n",
      "\n",
      "> Version control systems (VCS) most commonly run as stand-alone applications, but revision control is also embedded in various types of software such as word processors and spreadsheets. Revision control allows for the ability to revert a document to a previous revision, which is critical for allowing editors to track each other's edits and correct mistakes (even if you work alone, version control is useful for that).\n",
      "\n",
      "> From [http://en.wikipedia.org/wiki/Revision_control](http://en.wikipedia.org/wiki/Revision_control)."
     ]
    },
    {
     "cell_type": "heading",
     "level": 2,
     "metadata": {},
     "source": [
      "Basic glossary of version control"
     ]
    },
    {
     "cell_type": "markdown",
     "metadata": {},
     "source": [
      "- **Repository**: the core of VCS, a data structure usually stored on a server that contains a set of files and directories, a historical record of changes in the repository, a set of commit objects, and a set of references to commit objects (called heads).\n",
      "- **Branch, fork, clone**: a branch in a repository, or a fork or clone of an entire repository, are different forms of copies of a repository. The main branch in a repository is called master or trunk. You can work on this copy and then merge it in to the master branch/repository.\n",
      "- **Checkout**: to checkout the repository is to obtain a local working copy of the files. Changes can be made to these local files and files can be added, removed and updated.\n",
      "- **Commit**: to commit a file to the repository means that the changes to the local files are saved to the repository (commited).\n",
      "- **Pull, push**: we can pull and push changesets between different repositories. For example, between a local copy of the repository to a central online reposistory.\n",
      "- **Diff**: a diff is the difference in changes between two commits, or saved changes.\n",
      "- **[Git](https://github.com/)** is a free and open source distributed version control software. Git is a very popular VCS nowadays.   \n",
      "- **[Github](https://github.com/)** is a web-based hosting service for software development projects that use the Git VCS. GitHub offers both paid plans for private repositories, and free accounts for open source projects. Github is also very popular."
     ]
    },
    {
     "cell_type": "heading",
     "level": 2,
     "metadata": {},
     "source": [
      "Git"
     ]
    },
    {
     "cell_type": "markdown",
     "metadata": {
      "slideshow": {
       "slide_type": "slide"
      }
     },
     "source": [
      "Let's see how to use Git for version control. For more on that, see this [Git guide](http://rogerdudler.github.io/git-guide/), the [Pro Git Book](http://git-scm.com/book), and the [GitHub help](https://help.github.com/categories/54/articles).\n",
      "\n",
      "\"Git has three main states that your files can reside in: committed, modified, and staged.   \n",
      "Committed means that the data is safely stored in your local database. Modified means that you have changed the file but have not committed it to your database yet. Staged means that you have marked a modified file in its current version to go into your next commit snapshot.   \n",
      "This leads us to the three main sections of a Git project: the Git directory, the working directory, and the staging area.\" ([Pro Git Book](http://git-scm.com/book))\n",
      "\n",
      "<div class='center-align'><figure><img src=\"../files/images/GitLocalOperations.png\"/><figcaption><i>Working directory, staging area, and Git directory ([Pro Git Book](http://git-scm.com/book)).</i></figcaption></figure></div> \n",
      "\n",
      "The local repository consists of three \"trees\" maintained by Git:\n",
      "\n",
      "1. Working Directory holds the actual files.   \n",
      "2. Index acts as a staging area.   \n",
      "3. HEAD points to the last commit you've made.\n",
      "\n",
      "The basic Git workflow is ([Pro Git Book](http://git-scm.com/book)):\n",
      "\n",
      "- Modify files in the working directory.\n",
      "- Stage the files, adding snapshots of them to the staging area.\n",
      "- Do a commit, which takes the files as they are in the staging area and stores that snapshot permanently to the Git directory.\n",
      "\n",
      "<div class='center-align'><figure><img src=\"../files/images/GitFileLifecycle.png\"/><figcaption><i>Lifecycle of a file using Git ([Pro Git Book](http://git-scm.com/book)).</i></figcaption></figure></div> "
     ]
    },
    {
     "cell_type": "heading",
     "level": 3,
     "metadata": {},
     "source": [
      "Installing Git"
     ]
    },
    {
     "cell_type": "markdown",
     "metadata": {},
     "source": [
      "See [http://git-scm.com/downloads](http://git-scm.com/downloads) for detailed instructions on how to install Git, in short:   \n",
      "\n",
      "On MS Windows, install it using [http://git-scm.com/download/win](http://git-scm.com/download/win).\n",
      "\n",
      "On Linux (Debian/Ubuntu):    \n",
      "\n",
      ">`$ sudo apt-get install git`  \n",
      "\n",
      "On Mac OS X, there are different ways:   \n",
      "\n",
      "- Use a Git installer, such as [http://git-scm.com/download/mac](http://git-scm.com/download/mac).\n",
      "- With [Homebrew](http://brew.sh/), use the command line:    \n",
      "\n",
      ">`$ brew install git`    \n",
      "\n",
      "- With [MacPorts](http://www.macports.org/), use the command line:     \n",
      "\n",
      ">`$ sudo port install git`\n",
      "\n",
      "You can also install a graphical user interface (GUI) for Git: [GUI Clients](http://git-scm.com/downloads/guis).    \n",
      "In MS Windows, if you installed the official Git (cited above), you already installed a GUI (Git GUI), look at the Git folder. Anyway, if you are in MS Windows or Mac OS X and have a GitHub account, you may want to consider to use the [GitHub GUI](http://git-scm.com/downloads/guis) GUI because integrates easily with your GitHub account.\n",
      "\n",
      "Let's see now a short tutorial on how to use Git and GitHub for version control with command lines (if you plan to work with a GUI client, just the concepts are important). \n",
      "\n",
      "After you installed Git, you can check its version using a terminal window or the command `!` in the IPython Notebook to access the system shell.   \n",
      "In MS Windows, however, if you installed Git with the recommended default options, the commands below will not work and the only terminal window (command prompt window) that works is the `Git Bash` that was installed with Git. So, open `Git Bash` and run the commands below (always without the `!`)."
     ]
    },
    {
     "cell_type": "code",
     "collapsed": false,
     "input": [
      "!git --version"
     ],
     "language": "python",
     "metadata": {},
     "outputs": [
      {
       "output_type": "stream",
       "stream": "stdout",
       "text": [
        "git version 1.8.4.3\r\n"
       ]
      }
     ],
     "prompt_number": 2
    },
    {
     "cell_type": "markdown",
     "metadata": {},
     "source": [
      "And if you type `git` you get a list of the most common commands in Git:"
     ]
    },
    {
     "cell_type": "code",
     "collapsed": false,
     "input": [
      "!git"
     ],
     "language": "python",
     "metadata": {},
     "outputs": [
      {
       "output_type": "stream",
       "stream": "stdout",
       "text": [
        "usage: git [--version] [--help] [-c name=value]\r\n",
        "           [--exec-path[=<path>]] [--html-path] [--man-path] [--info-path]\r\n",
        "           [-p|--paginate|--no-pager] [--no-replace-objects] [--bare]\r\n",
        "           [--git-dir=<path>] [--work-tree=<path>] [--namespace=<name>]\r\n",
        "           <command> [<args>]\r\n",
        "\r\n",
        "The most commonly used git commands are:\r\n",
        "   add        Add file contents to the index\r\n",
        "   bisect     Find by binary search the change that introduced a bug\r\n",
        "   branch     List, create, or delete branches\r\n",
        "   checkout   Checkout a branch or paths to the working tree\r\n",
        "   clone      Clone a repository into a new directory\r\n",
        "   commit     Record changes to the repository\r\n",
        "   diff       Show changes between commits, commit and working tree, etc\r\n",
        "   fetch      Download objects and refs from another repository\r\n",
        "   grep       Print lines matching a pattern\r\n",
        "   init       Create an empty Git repository or reinitialize an existing one\r\n",
        "   log        Show commit logs\r\n",
        "   merge      Join two or more development histories together\r\n",
        "   mv         Move or rename a file, a directory, or a symlink\r\n",
        "   pull       Fetch from and integrate with another repository or a local branch\r\n",
        "   push       Update remote refs along with associated objects\r\n",
        "   rebase     Forward-port local commits to the updated upstream head\r\n",
        "   reset      Reset current HEAD to the specified state\r\n",
        "   rm         Remove files from the working tree and from the index\r\n",
        "   show       Show various types of objects\r\n",
        "   status     Show the working tree status\r\n",
        "   tag        Create, list, delete or verify a tag object signed with GPG\r\n",
        "\r\n",
        "'git help -a' and 'git help -g' lists available subcommands and some\r\n",
        "concept guides. See 'git help <command>' or 'git help <concept>'\r\n",
        "to read about a specific subcommand or concept.\r\n"
       ]
      }
     ],
     "prompt_number": 3
    },
    {
     "cell_type": "heading",
     "level": 3,
     "metadata": {},
     "source": [
      "Configuring Git"
     ]
    },
    {
     "cell_type": "markdown",
     "metadata": {},
     "source": [
      "After installation, we need to configure Git (this is only needed once and it will be used when we commit changes to the repository).   \n",
      "Let's do that using the following command lines:"
     ]
    },
    {
     "cell_type": "code",
     "collapsed": false,
     "input": [
      "!git config --global user.name \"your name here\"\n",
      "!git config --global user.email \"your_email@example.com\""
     ],
     "language": "python",
     "metadata": {},
     "outputs": []
    },
    {
     "cell_type": "markdown",
     "metadata": {},
     "source": [
      "Your email address for Git should be the same one associated with your GitHub account in case you plan to have a repository there."
     ]
    },
    {
     "cell_type": "heading",
     "level": 3,
     "metadata": {},
     "source": [
      "Initialize a Git repository"
     ]
    },
    {
     "cell_type": "markdown",
     "metadata": {},
     "source": [
      "To initialize a local Git repository in the current directory:"
     ]
    },
    {
     "cell_type": "code",
     "collapsed": false,
     "input": [
      "!git init"
     ],
     "language": "python",
     "metadata": {},
     "outputs": []
    },
    {
     "cell_type": "markdown",
     "metadata": {},
     "source": [
      "You would do that in case you want starting to track an existing local project in Git.   \n",
      "You can also specify a local a new local repository, with the command `git init repository-name`."
     ]
    },
    {
     "cell_type": "heading",
     "level": 2,
     "metadata": {},
     "source": [
      "Checkout a repository"
     ]
    },
    {
     "cell_type": "markdown",
     "metadata": {},
     "source": [
      "To clone a remote repository, we can use two different protocols to transfer data: `HTTPS` and `SSH`. `HTTPS` and `SSH` are cryptographic network protocols for secure data communication, remote command-line login, remote command execution, and other secure network services between two networked computers that connects, via a secure channel over an insecure network. `HTTPS ` is simpler to setup and `SSH` requires a keypair generated on your computer and attached to your GitHub account. See this [GitHub help](https://help.github.com/articles/which-remote-url-should-i-use) to decide which one to use.   \n",
      "\n",
      "For instance, this is the command to clone repo of this notebook using `HTTPS`:"
     ]
    },
    {
     "cell_type": "code",
     "collapsed": false,
     "input": [
      "!git clone https://github.com/duartexyz/BMC"
     ],
     "language": "python",
     "metadata": {},
     "outputs": []
    },
    {
     "cell_type": "markdown",
     "metadata": {},
     "source": [
      "And using `SSH` (after you created your keypair and registered into you GitHub account):"
     ]
    },
    {
     "cell_type": "code",
     "collapsed": false,
     "input": [
      "!git clone git@github.com:duartexyz/BMC.git"
     ],
     "language": "python",
     "metadata": {},
     "outputs": []
    },
    {
     "cell_type": "markdown",
     "metadata": {},
     "source": [
      "The local repository will be created inside your current directory.   \n",
      "You can change the current directory to clone from there and there is no need to create a folder with the name of the repo you are cloning; Git will do that for you.   \n",
      "And you should not have your local repo inside a Dropbox folder because Dropbox can generate conflict files."
     ]
    },
    {
     "cell_type": "heading",
     "level": 2,
     "metadata": {},
     "source": [
      "The working directory"
     ]
    },
    {
     "cell_type": "markdown",
     "metadata": {},
     "source": [
      "The Git commands will only work once you are in your working directory of your local repository.\n",
      "\n",
      "Use the command `cd` to change you current directory. In Linux or Mac OS X (change the directory to your case):"
     ]
    },
    {
     "cell_type": "code",
     "collapsed": false,
     "input": [
      "cd /Users/marcos/BMC/"
     ],
     "language": "python",
     "metadata": {},
     "outputs": [
      {
       "output_type": "stream",
       "stream": "stdout",
       "text": [
        "[Errno 2] No such file or directory: '/Users/marcos/BMC/'\n",
        "/mnt/Data/Dropbox/Python\n"
       ]
      }
     ],
     "prompt_number": 2
    },
    {
     "cell_type": "code",
     "collapsed": false,
     "input": [
      "pwd"
     ],
     "language": "python",
     "metadata": {},
     "outputs": [
      {
       "metadata": {},
       "output_type": "pyout",
       "prompt_number": 6,
       "text": [
        "u'/Users/marcos/BMC'"
       ]
      }
     ],
     "prompt_number": 6
    },
    {
     "cell_type": "code",
     "collapsed": false,
     "input": [
      "ls"
     ],
     "language": "python",
     "metadata": {},
     "outputs": [
      {
       "output_type": "stream",
       "stream": "stdout",
       "text": [
        "Frame of reference.ipynb                   README.md\r\n",
        "How to install Python.ipynb                Scalar and vector.ipynb\r\n",
        "Introduction to Biomechanics.ipynb         Scientific computing.ipynb\r\n",
        "Kinematics of a Particle.ipynb             Version Control with Git and GitHub.ipynb\r\n",
        "NumDiffInt.ipynb                           \u001b[34mdata\u001b[m\u001b[m/\r\n",
        "Python for scientific computing.ipynb      \u001b[34mimages\u001b[m\u001b[m/\r\n",
        "Python tutorial.ipynb\r\n"
       ]
      }
     ],
     "prompt_number": 7
    },
    {
     "cell_type": "heading",
     "level": 2,
     "metadata": {},
     "source": [
      "Add and commit changes"
     ]
    },
    {
     "cell_type": "markdown",
     "metadata": {},
     "source": [
      "You can propose changes (add it to the Index) using the command `add`.  \n",
      "For instance, let's change the README.md file, and commit it:"
     ]
    },
    {
     "cell_type": "code",
     "collapsed": false,
     "input": [
      "!git add README.md"
     ],
     "language": "python",
     "metadata": {
      "slideshow": {
       "slide_type": "-"
      }
     },
     "outputs": []
    },
    {
     "cell_type": "markdown",
     "metadata": {},
     "source": [
      "The command `add` is a multipurpose command; allows to track files, stage files, and mark merge conflicted files as resolved.  \n",
      "You can add everything in the current directory using the command \"`git add -A`\".  \n",
      "  \n",
      "To commit this change:"
     ]
    },
    {
     "cell_type": "code",
     "collapsed": false,
     "input": [
      "!git commit -m \"Commit message\""
     ],
     "language": "python",
     "metadata": {},
     "outputs": []
    },
    {
     "cell_type": "markdown",
     "metadata": {},
     "source": [
      "Which commits everything in your staging area and uses inline commit message.\n",
      "\n",
      "If the file to commit is not new, only changed, you can skip the `add` command using the command `commit -a` to automatically stages every currently **tracked** file and commits them:"
     ]
    },
    {
     "cell_type": "code",
     "collapsed": false,
     "input": [
      "!git commit \u2013a \u2013m \"Commit message\""
     ],
     "language": "python",
     "metadata": {},
     "outputs": []
    },
    {
     "cell_type": "markdown",
     "metadata": {},
     "source": [
      "If you created/added a new file (untracked so far) you still need to add them to your staging area with the command `add`."
     ]
    },
    {
     "cell_type": "heading",
     "level": 2,
     "metadata": {},
     "source": [
      "Push changes"
     ]
    },
    {
     "cell_type": "markdown",
     "metadata": {},
     "source": [
      "Now the file is committed to the HEAD, but not in the remote repository yet.   \n",
      "\n",
      "To send this changes to the remote repository, execute (substitute `master` by the branch to push the change to if it's not the same repo you cloned from):"
     ]
    },
    {
     "cell_type": "code",
     "collapsed": false,
     "input": [
      "!git push origin master"
     ],
     "language": "python",
     "metadata": {},
     "outputs": []
    },
    {
     "cell_type": "markdown",
     "metadata": {},
     "source": [
      "You should do that in a regular terminal window because you may be prompted to enter your username and password for your GitHub account in case you didn't store the username and password in your OS (if you are using `HTTPS`).   \n",
      "If you are using `SSH`, by default you will not be prompted to enter your credentials (because you created your keypair and registered into you GitHub account).\n",
      "\n",
      "Anyway, if you are comitting to my repo, this will nor work for you because, I hope, you don't have my credentials.\n",
      "\n",
      "You can create a branch (fork) of the BMC repository (go to its website and use the `Fork` button in the upper-right corner) or create your own repo to experiment with it."
     ]
    },
    {
     "cell_type": "heading",
     "level": 2,
     "metadata": {},
     "source": [
      "Update and merge changes"
     ]
    },
    {
     "cell_type": "markdown",
     "metadata": {},
     "source": [
      "To update the local repository to the newest commit, execute in the working directory (this will fetch and merge remote changes):"
     ]
    },
    {
     "cell_type": "code",
     "collapsed": false,
     "input": [
      "!git pull"
     ],
     "language": "python",
     "metadata": {
      "slideshow": {
       "slide_type": "fragment"
      }
     },
     "outputs": []
    },
    {
     "cell_type": "markdown",
     "metadata": {},
     "source": [
      "To merge another branch into your active branch (e.g. master), use `git merge <branch>`.\n",
      "\n",
      "These two last commands tries to auto-merge changes.   \n",
      "This might not be possible because of conflicts between the different branches.   \n",
      "If that is the case, we will have to merge those conflicts manually by editing the files shown by git.    \n",
      "After changing, we need to mark them as merged with `git add <filename>` or `git add .`.   \n",
      "Before merging changes, we can preview them by using `git diff <source_branch> <target_branch>`."
     ]
    },
    {
     "cell_type": "heading",
     "level": 2,
     "metadata": {},
     "source": [
      "Remove or delete files"
     ]
    },
    {
     "cell_type": "markdown",
     "metadata": {},
     "source": [
      "You should not manuualy remove or delete a file inside your repository, for that use the command `rm`:"
     ]
    },
    {
     "cell_type": "code",
     "collapsed": false,
     "input": [
      "!git rm -help"
     ],
     "language": "python",
     "metadata": {},
     "outputs": [
      {
       "output_type": "stream",
       "stream": "stdout",
       "text": [
        "usage: git rm [options] [--] <file>...\r\n",
        "\r\n",
        "    -n, --dry-run         dry run\r\n",
        "    -q, --quiet           do not list removed files\r\n",
        "    --cached              only remove from the index\r\n",
        "    -f, --force           override the up-to-date check\r\n",
        "    -r                    allow recursive removal\r\n",
        "    --ignore-unmatch      exit with a zero status even if nothing matched\r\n",
        "\r\n"
       ]
      }
     ],
     "prompt_number": 8
    },
    {
     "cell_type": "code",
     "collapsed": false,
     "input": [
      "!git rm <filename>"
     ],
     "language": "python",
     "metadata": {},
     "outputs": []
    },
    {
     "cell_type": "heading",
     "level": 2,
     "metadata": {},
     "source": [
      "Git Commands Cheat Sheet"
     ]
    },
    {
     "cell_type": "markdown",
     "metadata": {},
     "source": [
      "From [https://github.com/ashash3/Cookies-and-Code-Git/wiki/Git-Commands-Cheat-Sheet](https://github.com/ashash3/Cookies-and-Code-Git/wiki/Git-Commands-Cheat-Sheet).\n",
      "\n",
      "**Basic Commands**   \n",
      "\n",
      "- `git status`: check the status of your files\n",
      "- `git add`: multipurpose command; track files, stage files, and mark merge conflicted files as resolved\n",
      "- `git diff`: compare working directory to staging area\n",
      "- `git diff --cached`: compare staged changes to last commit\n",
      "- `git commit \u2013m \"message\"`: commit everything in your staging area, uses inline commit message\n",
      "- `git commit \u2013a \u2013m \"message\"`: automatically stage every currently tracked file and commits them (to skip \u201cgit add\u201d command)\n",
      "- `git rm [filename]`: untrack the file and remove it from your working directory\n",
      "- `git rm --cached [filename]`: untrack the file, but keeps it in your working directory - useful if you forgot to include certain files in your .gitignore\n",
      "- `git mv [orig_name] [new_name]`: change the file's name\n",
      "- `git log` show the commit history in reverse chronological order (i.e. most recent first)\n",
      "\"Undoing Things\" Commands\n",
      "- `git commit --amend`: overrides your most recent commit - i.e. it \"undoes\" your most recent with what's currently in your staging area\n",
      "- `git reset HEAD [filename]`: allows you to unstage a particular file; this file returns back to the modified state\n",
      "- `git checkout -- [filename]`: allows you to discard any changes you've made to the file since the last commit Note: use this command carefully - the discarded changes cannot be recovered\n",
      "\n",
      "**Remote Repository Commmands**\n",
      "\n",
      "- `git pull [remote-name] [branch-name]`: automatically fetch data from the remote server (typically called \"origin\") and attempts to merge it into the code you're working on; branch-name is typically \"master\" if you haven't created your own branch\n",
      "- `git push [remote-name] [branch-name]`: push your code from the branch you're on (typically \"master\" if you haven't created your own branch) upstream to the remote server (typically called \"origin\")\n",
      "\n",
      "**Merging and Branching Commands**\n",
      "\n",
      "- `git merge [branch-name]`: merge the specified branch with the current working directory\n",
      "- `git branch`: view all available branches\n",
      "- `git branch [branch-name]`: create a new branch\n",
      "- `git checkout [branch-name]`: set current working directory to branch-name\n",
      "- `git checkout -b [branch-name]`: create a new branch and set current working directory to it\n",
      "- `git merge [branch-name]`: merge branch-name into the current branch\n",
      "- `git branch -d [branch-name]`: delete the specified branch\n",
      "\n",
      "**Changing to Previous Commits Commands**\n",
      "\n",
      "- `git revert <prev_commit>`: create a new commit with a reverse patch that cancels out everything after that previous commit\n",
      "- `git checkout -b <branchname> <prev_commit>`: return to a previous commit and create a branch using it"
     ]
    },
    {
     "cell_type": "heading",
     "level": 2,
     "metadata": {},
     "source": [
      "More stuff"
     ]
    },
    {
     "cell_type": "markdown",
     "metadata": {},
     "source": [
      "There are a lot of good materials on how to use Git for version control, here are a few:   \n",
      "\n",
      "- [Version control for fun and profit](http://nbviewer.ipython.org/urls/github.com/fperez/reprosw/raw/master/Version%2520Control.ipynb)\n",
      "- [Revision control software](http://nbviewer.ipython.org/urls/raw.github.com/jrjohansson/scientific-python-lectures/master/Lecture-7-Revision-Control-Software.ipynb)\n",
      "- [Git guide](http://rogerdudler.github.io/git-guide/)\n",
      "- [Pro Git Book](http://git-scm.com/book)\n",
      "- [GitHub help](https://help.github.com/categories/54/articles)"
     ]
    }
   ],
   "metadata": {}
  }
 ]
}