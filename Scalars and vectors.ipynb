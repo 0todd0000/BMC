{
 "metadata": {
  "name": ""
 },
 "nbformat": 3,
 "nbformat_minor": 0,
 "worksheets": [
  {
   "cells": [
    {
     "cell_type": "heading",
     "level": 1,
     "metadata": {},
     "source": [
      "Scalars and vectors"
     ]
    },
    {
     "cell_type": "markdown",
     "metadata": {},
     "source": [
      "Marcos Duarte"
     ]
    },
    {
     "cell_type": "markdown",
     "metadata": {},
     "source": [
      ">A **scalar** is a one-dimensional physical quantity, which can be described by a single real number. For example, time, mass, and energy are examples of scalars.\n",
      "\n",
      ">A **vector** is a geometric quantity with magnitude (or length) and direction expressed numerically as ordered list of values according to a coordinate reference system. For example, position, force, and torque are physical quantities defined by vectors."
     ]
    },
    {
     "cell_type": "heading",
     "level": 2,
     "metadata": {},
     "source": [
      "Dot product"
     ]
    },
    {
     "cell_type": "markdown",
     "metadata": {},
     "source": [
      "Dot product (or scalar product or inner product) between two vectors is a mathematical operation algebraically defined as the sum of the products of the corresponding components (maginitudes in each directio) of the two vectors. Geometrically, it is the product of the magnitudes of the two vectors and the cosine of the angle between them. The result of the dot product is a single number (a scalar).\n",
      "The dot product between vectors $\\mathbf{a}$ and $\\mathbf{b}$ is:\n",
      "\n",
      "$$ \\mathbf{a} \\cdot \\mathbf{b} = (a_x\\:\\mathbf{\\hat{i}}+a_y\\:\\mathbf{\\hat{j}}+a_z\\:\\mathbf{\\hat{k}}) \\cdot (b_x\\:\\mathbf{\\hat{i}}+b_y\\:\\mathbf{\\hat{j}}+b_z\\:\\mathbf{\\hat{k}}) = a_x b_x + a_y b_y + a_z b_z $$\n",
      "\n",
      "Because by definition:\n",
      "\n",
      "$$ \\mathbf{\\hat{i}} \\cdot \\mathbf{\\hat{i}} = \\mathbf{\\hat{j}} \\cdot \\mathbf{\\hat{j}} = \\mathbf{\\hat{k}} \\cdot \\mathbf{\\hat{k}} = 1  \\;\\;\\;\\; \\text{and} \\;\\;\\;\\; \\mathbf{\\hat{i}} \\cdot \\mathbf{\\hat{j}} = \\mathbf{\\hat{i}} \\cdot \\mathbf{\\hat{k}} = \\mathbf{\\hat{j}} \\cdot \\mathbf{\\hat{k}} = 0 $$\n",
      "\n",
      "The geometric equivalent of the dot product is:\n",
      "\n",
      "$$ \\mathbf{a} \\cdot \\mathbf{b} = ||\\mathbf{a}||\\:||\\mathbf{b}||\\:cos(\\theta) $$\n",
      "\n",
      "Where the symbol $||\\;||$ denotes the norm (magnitude, length or Euclidean norm) of a vector and it is defined as:\n",
      "\n",
      "$$ ||\\mathbf{a}|| = \\sqrt{x^2+y^2+z^2} $$\n",
      "\n",
      "See this interactive demonstration about the [dot product](http://www.geogebratube.org/student/m11067):"
     ]
    },
    {
     "cell_type": "code",
     "collapsed": false,
     "input": [
      "from IPython.display import HTML\n",
      "HTML('<iframe src=http://www.geogebratube.org/student/m11067?mobile=true width=1000 height=550></iframe>')"
     ],
     "language": "python",
     "metadata": {},
     "outputs": [
      {
       "html": [
        "<iframe src=http://www.geogebratube.org/student/m11067?mobile=true width=1000 height=550></iframe>"
       ],
       "metadata": {},
       "output_type": "pyout",
       "prompt_number": 1,
       "text": [
        "<IPython.core.display.HTML at 0x47a4b38>"
       ]
      }
     ],
     "prompt_number": 1
    },
    {
     "cell_type": "heading",
     "level": 2,
     "metadata": {},
     "source": [
      "Cross product"
     ]
    },
    {
     "cell_type": "markdown",
     "metadata": {},
     "source": [
      "Cross product or vector product between two vectors is a mathematical operation in three-dimensional space which results in a vector perpendicular to both of the vectors being multiplied and a length (norm) equal to the product of the perpendicular components of the vectors being multiplied (which is equal to the area of the parallelogram that the vectors span).\n",
      "The cross product between vectors $\\mathbf{a}$ and $\\mathbf{b}$ is:\n",
      "\n",
      "$$ \\mathbf{a} \\times \\mathbf{b} = (a_x\\:\\mathbf{\\hat{i}}+a_y\\:\\mathbf{\\hat{j}}+a_z\\:\\mathbf{\\hat{k}}) \\times (b_x\\:\\mathbf{\\hat{i}}+b_y\\:\\mathbf{\\hat{j}}+b_z\\:\\mathbf{\\hat{k}}) = (a_yb_z-a_zb_y)\\mathbf{\\hat{i}} + (a_zb_x-a_xb_z)\\mathbf{\\hat{j}}+(a_xb_y-a_yb_x)\\mathbf{\\hat{k}} $$\n",
      "\n",
      "Because by definition:\n",
      "\n",
      "$$ \\begin{array}{l l}\n",
      "\\mathbf{\\hat{i}} \\times \\mathbf{\\hat{i}} = \\mathbf{\\hat{j}} \\times \\mathbf{\\hat{j}} = \\mathbf{\\hat{k}} \\times \\mathbf{\\hat{k}} = 0 \\\\\\\n",
      "\\mathbf{\\hat{i}} \\times \\mathbf{\\hat{j}} = \\mathbf{\\hat{k}},\\;\\;\\;  \\mathbf{\\hat{j}} \\times \\mathbf{\\hat{k}} = \\mathbf{\\hat{i}},\\;\\;\\; \\mathbf{\\hat{k}} \\times \\mathbf{\\hat{i}} = \\mathbf{\\hat{j}} \\\\\\\n",
      "\\mathbf{\\hat{j}} \\times \\mathbf{\\hat{i}} = -\\mathbf{\\hat{k}},\\;\\;\\;  \\mathbf{\\hat{k}} \\times \\mathbf{\\hat{j}} = -\\mathbf{\\hat{i}},\\;\\;\\; \\mathbf{\\hat{i}} \\times \\mathbf{\\hat{k}} = -\\mathbf{\\hat{j}}\n",
      "\\end{array} $$\n",
      "\n",
      "The direction of the vector resulting from the cross product between the vectors a and b is given by the right-hand rule.\n",
      "\n",
      "The cross product can also be calculated as the determinant of a matrix:\n",
      "\n",
      "$$ \\mathbf{a} \\times \\mathbf{b} = \\begin{bmatrix}\n",
      "\\mathbf{\\hat{i}} & \\mathbf{\\hat{j}} & \\mathbf{\\hat{k}} \\\\\\ \n",
      "a_x & a_y & a_z \\\\\\ \n",
      "b_x & b_y & b_z \n",
      "\\end{bmatrix} $$\n",
      "\n",
      "The geometric equivalent of the cross product is:\n",
      "\n",
      "$$ \\mathbf{a} \\times \\mathbf{b} = ||\\mathbf{a}||\\:||\\mathbf{b}||\\:sin(\\theta) $$\n",
      "\n",
      "Here is a visual representation of the cross product between two vectors:"
     ]
    },
    {
     "cell_type": "code",
     "collapsed": false,
     "input": [
      "HTML('<iframe src=http://faraday.physics.utoronto.ca/PVB/Harrison/Flash/Vectors/CrossProduct/'\\\n",
      "     'CrossProduct.html width=800 height=450></iframe>')"
     ],
     "language": "python",
     "metadata": {},
     "outputs": [
      {
       "html": [
        "<iframe src=http://faraday.physics.utoronto.ca/PVB/Harrison/Flash/Vectors/CrossProduct/CrossProduct.html width=800 height=450></iframe>"
       ],
       "output_type": "pyout",
       "prompt_number": 3,
       "text": [
        "<IPython.core.display.HTML at 0x450f950>"
       ]
      }
     ],
     "prompt_number": 3
    }
   ],
   "metadata": {}
  }
 ]
}