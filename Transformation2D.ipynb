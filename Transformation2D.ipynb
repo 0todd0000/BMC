{
 "metadata": {
  "name": ""
 },
 "nbformat": 3,
 "nbformat_minor": 0,
 "worksheets": [
  {
   "cells": [
    {
     "cell_type": "heading",
     "level": 1,
     "metadata": {},
     "source": [
      "Rigid-body transformations (two-dimensional)"
     ]
    },
    {
     "cell_type": "markdown",
     "metadata": {},
     "source": [
      "Marcos Duarte"
     ]
    },
    {
     "cell_type": "markdown",
     "metadata": {},
     "source": [
      "A rigid-body (or the corresponding coordinate system attached to it) can be transformed (for now, rotated and translated) and the use of different coordinate systems (reference frames) to describe the kinematics of an object is very common in biomechanics.   \n",
      "\n",
      "Two situations where such transformations are used are 1. in the study of kinematic chains where the movement in each link can be described in a transformed coordinate system in relation to the previous link and 2. in motion analysis of human movement where the movement of each rigid body is described in a local anatomical coordinate system in relation to a global coordinate system fixed at the laboratory. In this latter case, one can have an additional coordinate system called technical coordinate system also fixed at the rigid body but not based on anatomical landmarks. In this case, the movement of the technical markers is first described in the laboratory coordinate system, then the technical coordinate system is calculated to recreate the anatomical landmarks position in order to finally calculate the original anatomical coordinate system.   \n",
      "\n",
      "For simplicity, let's first analyze two-dimensional transformations between two coordinate systems, one global (fixed) and one local (movable)."
     ]
    },
    {
     "cell_type": "heading",
     "level": 2,
     "metadata": {},
     "source": [
      "Translation"
     ]
    },
    {
     "cell_type": "markdown",
     "metadata": {},
     "source": [
      "A pure two-dimensional translation of a coordinate system in relation to other coordinate system is illustrated in the figure below.\n",
      "\n",
      "<div class='center-align'><figure><img src='files/images/translation2D.png' alt='translation 2D'/> <figcaption><i>Translation of a coordinate system.</i></figcaption> </figure></div><br>\n",
      "\n",
      "The position of point **P** originally described in the local coordinate system but now described in the global coordinate system in vector form is:\n",
      "\n",
      "$$ \\mathbf{P_G} = \\mathbf{L_G} + \\mathbf{P_l} $$\n",
      "\n",
      "Or for each component:\n",
      "\n",
      "$$ \\mathbf{P_X} = \\mathbf{L_X} + \\mathbf{P}_x $$\n",
      "\n",
      "$$ \\mathbf{P_Y} = \\mathbf{L_Y} + \\mathbf{P}_y $$\n",
      "\n",
      "And in matrix form is:\n",
      "\n",
      "$$\n",
      "\\begin{bmatrix}\n",
      "\\mathbf{P_X} \\\\\n",
      "\\mathbf{P_Y} \n",
      "\\end{bmatrix} =\n",
      "\\begin{bmatrix}\n",
      "\\mathbf{L_X} \\\\\n",
      "\\mathbf{L_Y} \n",
      "\\end{bmatrix} +\n",
      "\\begin{bmatrix}\n",
      "\\mathbf{P}_x \\\\\n",
      "\\mathbf{P}_y \n",
      "\\end{bmatrix}\n",
      "$$\n",
      "\n",
      "Because position and translation can be treated as vectors, the inverse operation, to describe the position at the local coordinate system in terms of the glocal coordinate system, is simply:\n",
      "\n",
      "$$ \\mathbf{P_l} = \\mathbf{P_G} -\\mathbf{L_G} $$\n",
      "\n",
      "$$ \\begin{bmatrix}\n",
      "\\mathbf{P}_x \\\\\n",
      "\\mathbf{P}_y \n",
      "\\end{bmatrix} =\n",
      "\\begin{bmatrix}\n",
      "\\mathbf{P_X} \\\\\n",
      "\\mathbf{P_Y} \n",
      "\\end{bmatrix} - \n",
      "\\begin{bmatrix}\n",
      "\\mathbf{L_X} \\\\\n",
      "\\mathbf{L_Y} \n",
      "\\end{bmatrix} $$\n",
      "\n",
      "From classical mechanics, this transformation is an example of [Galilean transformation](http://en.wikipedia.org/wiki/Galilean_transformation).   \n",
      "\n",
      "For example, if the local coordinate system is translated by `LG=[2, 3]` in relation to the global coordinate system, a point with coordinates `Pl=[4, 5]` at the local coordinate system will have the position `PG=[6, 8]` at the global coordinate system:"
     ]
    },
    {
     "cell_type": "code",
     "collapsed": false,
     "input": [
      "# Import the necessary libraries\n",
      "from __future__ import division, print_function\n",
      "import numpy as np"
     ],
     "language": "python",
     "metadata": {},
     "outputs": [],
     "prompt_number": 1
    },
    {
     "cell_type": "code",
     "collapsed": false,
     "input": [
      "LG = np.array([2, 3])  # (Numpy 1D array with 2 elements)\n",
      "Pl = np.array([4, 5])\n",
      "PG = LG + Pl\n",
      "PG"
     ],
     "language": "python",
     "metadata": {},
     "outputs": [
      {
       "metadata": {},
       "output_type": "pyout",
       "prompt_number": 2,
       "text": [
        "array([6, 8])"
       ]
      }
     ],
     "prompt_number": 2
    },
    {
     "cell_type": "markdown",
     "metadata": {},
     "source": [
      "This operation also works if we have more than one data point (NumPy knows how to handle vectors with different dimensions):"
     ]
    },
    {
     "cell_type": "code",
     "collapsed": false,
     "input": [
      "Pl = np.array([[4, 5], [6, 7], [8, 9]])  # 2D array with 3 rows and two columns\n",
      "PG = LG + Pl\n",
      "PG"
     ],
     "language": "python",
     "metadata": {},
     "outputs": [
      {
       "metadata": {},
       "output_type": "pyout",
       "prompt_number": 3,
       "text": [
        "array([[ 6,  8],\n",
        "       [ 8, 10],\n",
        "       [10, 12]])"
       ]
      }
     ],
     "prompt_number": 3
    },
    {
     "cell_type": "heading",
     "level": 2,
     "metadata": {},
     "source": [
      "Rotation"
     ]
    },
    {
     "cell_type": "markdown",
     "metadata": {},
     "source": [
      "A pure two-dimensional rotation of a coordinate system in relation to other coordinate system is illustrated in the figure below.\n",
      "\n",
      "<div class='center-align'><figure><img src='files/images/rotation2D.png' alt='rotation 2D'/> <figcaption><i>Rotation of a coordinate system.</i></figcaption> </figure></div><br>\n",
      "\n",
      "Consider we want to express the position of point **P** in the global coordinate system in terms of the local coordinate system knowing only the coordinates at the local coordinate system and the angle of rotation between the two coordinate systems.   \n",
      "\n",
      "There are different ways of deducing that, we will see three of these methods next.     "
     ]
    },
    {
     "cell_type": "heading",
     "level": 3,
     "metadata": {},
     "source": [
      "1. Using trigonometry"
     ]
    },
    {
     "cell_type": "markdown",
     "metadata": {},
     "source": [
      "From figure below, the coordinates of point **P** in the global coordinate system can be determined finding the sides of the triangles marked in red.   \n",
      "\n",
      "<div class='center-align'><figure><img src='files/images/rotation2Db.png' alt='rotation 2D'/> <figcaption><i>The coordinates of a point at the global coordinate system in terms of the coordinates at the local coordinate system.</i></figcaption> </figure></div><br>   \n",
      "\n",
      "Then:   \n",
      "\n",
      "$$ \\mathbf{P_X} = \\mathbf{P}_x cos \\alpha - \\mathbf{P}_y sin \\alpha $$\n",
      "\n",
      "$$ \\mathbf{P_Y} = \\mathbf{P}_x sin \\alpha + \\mathbf{P}_y cos \\alpha  $$  \n",
      "\n",
      "The equations above can be expressed in matrix form:\n",
      "\n",
      "$$\n",
      "\\begin{bmatrix} \n",
      "\\mathbf{P_X} \\\\\n",
      "\\mathbf{P_Y} \n",
      "\\end{bmatrix} =\n",
      "\\begin{bmatrix}\n",
      "cos\\alpha & -sin\\alpha \\\\\n",
      "sin\\alpha & cos\\alpha \n",
      "\\end{bmatrix} \\begin{bmatrix}\n",
      "\\mathbf{P}_x \\\\\n",
      "\\mathbf{P}_y \n",
      "\\end{bmatrix} $$\n",
      "\n",
      "Or simply:\n",
      "\n",
      "$$ \\mathbf{P_G} = \\mathbf{R_{Gl}}\\mathbf{P_l} $$\n",
      "\n",
      "Where $\\mathbf{R_{Gl}}$ is the rotation matrix that rotates the coordinates from the local to the global coordinate system:\n",
      "\n",
      "$$ \\mathbf{R_{Gl}} = \\begin{bmatrix}\n",
      "cos\\alpha & -sin\\alpha \\\\\n",
      "sin\\alpha & cos\\alpha \n",
      "\\end{bmatrix} $$\n",
      "\n",
      "So, given any position at the local coordinate system, with the rotation matrix above we are able to determine the position at the global coordinate system. Let's check that before looking at other methods to obtain this matrix.  \n",
      "\n",
      "For instance, consider a local coordinate system rotated by $45^o$ in relation to the global coordinate system, a point in the local coordinate system with position `Pl=[1, 1]` will have the following position at the global coordinate system:"
     ]
    },
    {
     "cell_type": "code",
     "collapsed": false,
     "input": [
      "RGl = np.array([[np.cos(np.pi/4), -np.sin(np.pi/4)], [np.sin(np.pi/4), np.cos(np.pi/4)]])\n",
      "Pl  = np.array([[1, 1]]).T  # transpose the array for correct matrix multiplication\n",
      "PG = np.dot(RGl, Pl)        # the function dot() is used for matrix multiplication of arrays\n",
      "np.around(PG, 4)            # round the number due to floating-point arithmetic errors"
     ],
     "language": "python",
     "metadata": {},
     "outputs": [
      {
       "metadata": {},
       "output_type": "pyout",
       "prompt_number": 4,
       "text": [
        "array([[ 0.    ],\n",
        "       [ 1.4142]])"
       ]
      }
     ],
     "prompt_number": 4
    },
    {
     "cell_type": "markdown",
     "metadata": {},
     "source": [
      "We have rounded the number to 4 decimal places due to [floating-point arithmetic errors in the computation](http://floating-point-gui.de).   \n",
      "\n",
      "And if we have the points `[1,1], [0,1], [1,0]` at the local coordinate system, their positions at the global coordinate system are:"
     ]
    },
    {
     "cell_type": "code",
     "collapsed": false,
     "input": [
      "Pl  = np.array([[1, 1], [0, 1], [1, 0]]).T  # transpose array for matrix multiplication\n",
      "PG = np.dot(RGl, Pl)  # the function dot() is used for matrix multiplication with arrays\n",
      "np.around(PG, 4)      # round the number due to floating point arithmetic errors"
     ],
     "language": "python",
     "metadata": {},
     "outputs": [
      {
       "metadata": {},
       "output_type": "pyout",
       "prompt_number": 5,
       "text": [
        "array([[ 0.    , -0.7071,  0.7071],\n",
        "       [ 1.4142,  0.7071,  0.7071]])"
       ]
      }
     ],
     "prompt_number": 5
    },
    {
     "cell_type": "markdown",
     "metadata": {},
     "source": [
      "We have done all the calculations using the array function in NumPy. A [NumPy array is different than a matrix](http://www.scipy.org/NumPy_for_Matlab_Users), if we want to use explicit matrices in Numpy, the calculation above will be:"
     ]
    },
    {
     "cell_type": "code",
     "collapsed": false,
     "input": [
      "RGl = np.mat([[np.cos(np.pi/4), -np.sin(np.pi/4)], [np.sin(np.pi/4), np.cos(np.pi/4)]])\n",
      "Pl  = np.mat([[1, 1], [0,1], [1, 0]]).T  # 2x3 matrix\n",
      "PG = RGl*Pl       # matrix multiplication in NumPy\n",
      "np.around(PG, 4)  # round the number due to floating point arithmetic errors"
     ],
     "language": "python",
     "metadata": {},
     "outputs": [
      {
       "metadata": {},
       "output_type": "pyout",
       "prompt_number": 6,
       "text": [
        "array([[ 0.    , -0.7071,  0.7071],\n",
        "       [ 1.4142,  0.7071,  0.7071]])"
       ]
      }
     ],
     "prompt_number": 6
    },
    {
     "cell_type": "markdown",
     "metadata": {},
     "source": [
      "Both array and matrix types work in NumPy, but you should choose only one type and not mix them; the array is preferred because it is [the standard vector/matrix/tensor type of NumPy](http://www.scipy.org/NumPy_for_Matlab_Users)."
     ]
    },
    {
     "cell_type": "heading",
     "level": 3,
     "metadata": {},
     "source": [
      "2. Using direction cosines"
     ]
    },
    {
     "cell_type": "markdown",
     "metadata": {},
     "source": [
      "Another way to determine the rotation matrix is to use the concept of direction cosine.   \n",
      "\n",
      "> Direction cosines are the cosines of the angles between any two vectors.   \n",
      "\n",
      "For the present case with two coordinate systems, they are  the cosines of the angles between each axis of one coordinate system and each axis of the other coordinate system.   \n",
      "The figure below illustrates the directions cosines between the two coordinate systems, expressing the local coordinate system in terms of the glocal coordinate system:\n",
      "\n",
      "<div class='center-align'><figure><img src='files/images/directioncosine2D.png' alt='direction cosine 2D'/> <figcaption><i>Definition of direction cosines.</i></figcaption> </figure></div><br>\n",
      "\n",
      "$$ \\mathbf{R_{Gl}} = \\begin{bmatrix}\n",
      "cos\\mathbf{X}x & cos\\mathbf{X}y \\\\\n",
      "cos\\mathbf{Y}x & cos\\mathbf{Y}y \n",
      "\\end{bmatrix} = \n",
      "\\begin{bmatrix}\n",
      "cos(\\alpha) & cos(90^o+\\alpha) \\\\\n",
      "cos(90^o-\\alpha) & cos(\\alpha)\n",
      "\\end{bmatrix} = \n",
      "\\begin{bmatrix}\n",
      "cos\\alpha & -sin\\alpha \\\\\n",
      "sin\\alpha & cos\\alpha \n",
      "\\end{bmatrix} $$\n",
      "\n",
      "The same rotation matrix as obtained before.\n",
      "\n",
      "Note that the order of the direction cosines is because in our convention, the first row is for the $\\mathbf{X}$ coordinate and the sencond for the $\\mathbf{Y}$ coordinate (the outputs). For the inputs, we followed the same order, first column for the $\\mathbf{x}$ coordinate, second coulmn for the $\\mathbf{y}$ coordinate."
     ]
    },
    {
     "cell_type": "heading",
     "level": 3,
     "metadata": {},
     "source": [
      "3. Using a basis"
     ]
    },
    {
     "cell_type": "markdown",
     "metadata": {},
     "source": [
      "Yet another way to deduce the rotation matrix is to view the axes of the rotated coordinate system as unit vectors, versors, of a <a href=\"http://en.wikipedia.org/wiki/Basis_(linear_algebra)\">basis</a> as illustrated in the figure below.\n",
      "\n",
      "> A basis is a set of linearly independent vectors that can represent every vector in a given vector space, i.e., a basis defines a coordinate system.\n",
      "\n",
      "<div class='center-align'><figure><img src='files/images/basis2D.png' alt='basis 2D'/> <figcaption><i>Definition of the rotation matrix using a basis.</i></figcaption> </figure></div><br>\n",
      "\n",
      "The coordinates of these two versors at the local coordinate system in terms of the global coordinate system are:\n",
      "\n",
      "$$ x' = \\;\\;\\:\\:cos\\alpha\\:\\mathbf{X'} + sin\\alpha\\:\\mathbf{Y'} $$\n",
      "\n",
      "$$ y' = -sin\\alpha\\:\\mathbf{X'} + cos\\alpha\\:\\mathbf{Y'} $$\n",
      "\n",
      "Note that as unit vectors, each of the versors above should have norm (length) equals to one, which indeed is the case.\n",
      "\n",
      "If we express each versor above as different columns of a matrix, we obtain the rotation matrix again:  \n",
      "\n",
      "$$ \\mathbf{R_{Gl}} = \\begin{bmatrix}\n",
      "cos\\alpha & -sin\\alpha \\\\\\\n",
      "sin\\alpha & cos\\alpha \n",
      "\\end{bmatrix} $$\n",
      "\n",
      "This means that the rotation matrix can be viewed as the basis of the rotated coordinate system defined by its versors.   \n",
      "\n",
      "This third way to derive the rotation matrix is in fact the method most commonly used in motion analysis because the coordinates of markers (in the laboratory/global coordinate system) are what we measure with cameras.   \n",
      "\n",
      "Probably you are wondering how to perform the inverse operation, given a point in the global coordinate system how to calculate its position in the local coordinate system. Let's see this now."
     ]
    },
    {
     "cell_type": "heading",
     "level": 3,
     "metadata": {},
     "source": [
      "Local-to-global and global-to-local coordinate systems' rotations"
     ]
    },
    {
     "cell_type": "markdown",
     "metadata": {},
     "source": [
      "If we want the inverse operation, to express the position of point **P** in the local coordinate system in terms of the global coordinate system, the figure below illustrates that using trigonometry.\n",
      "\n",
      "<div class='center-align'><figure><img src='files/images/rotation2Dc.png' alt='rotation 2D'/> <figcaption><i>The coordinates of a point at the local coordinate system in terms of the coordinates at the global coordinate system.</i></figcaption> </figure></div>\n",
      "\n",
      "Then:\n",
      "\n",
      "$$ \\mathbf{P}_x = \\;\\;\\mathbf{P_X} cos \\alpha + \\mathbf{P_Y} sin \\alpha $$\n",
      "\n",
      "$$ \\mathbf{P}_y = -\\mathbf{P_X} sin \\alpha + \\mathbf{P_Y} cos \\alpha  $$\n",
      "\n",
      "An in matrix form:\n",
      "\n",
      "$$\n",
      "\\begin{bmatrix} \n",
      "\\mathbf{P}_x \\\\\n",
      "\\mathbf{P}_y \n",
      "\\end{bmatrix} =\n",
      "\\begin{bmatrix}\n",
      "cos\\alpha & sin\\alpha \\\\\n",
      "-sin\\alpha & cos\\alpha \n",
      "\\end{bmatrix} \\begin{bmatrix}\n",
      "\\mathbf{P_X} \\\\\n",
      "\\mathbf{P_Y} \n",
      "\\end{bmatrix} $$\n",
      "\n",
      "$$ \\mathbf{P_l} = \\mathbf{R_{lG}}\\mathbf{P_G} $$\n",
      "\n",
      "Where $\\mathbf{R_{lG}}$ is the rotation matrix that rotates the coordinates from the global to the local coordinate system (note the inverse order of the subscripts):\n",
      "\n",
      "$$ \\mathbf{R_{lG}} = \\begin{bmatrix}\n",
      "cos\\alpha & sin\\alpha \\\\\n",
      "-sin\\alpha & cos\\alpha \n",
      "\\end{bmatrix} $$\n",
      "\n",
      "If we use the direction cosines to calculate the rotation matrix, because the axes didn't change, the cosines are the same, only the order changes (now $\\mathbf{x, y}$ are the rows (outputs) and $\\mathbf{X, Y}$ are the columns (inputs):\n",
      "\n",
      "$$ \\mathbf{R_{Gl}} = \\begin{bmatrix}\n",
      "cos\\mathbf{X}x & cos\\mathbf{Y}x \\\\\n",
      "cos\\mathbf{X}y & cos\\mathbf{Y}y \n",
      "\\end{bmatrix} = \n",
      "\\begin{bmatrix}\n",
      "cos(\\alpha) & cos(90^o-\\alpha) \\\\\n",
      "cos(90^o+\\alpha) & cos(\\alpha)\n",
      "\\end{bmatrix} = \n",
      "\\begin{bmatrix}\n",
      "cos\\alpha & sin\\alpha \\\\\n",
      "-sin\\alpha & cos\\alpha \n",
      "\\end{bmatrix} $$\n",
      "\n",
      "And defining the versors of the axes in the global coordinate system for a basis in terms of the local coordinate system would also produce this latter rotation matrix.\n",
      "\n",
      "The two sets of equations and matrices for the rotations from global-to-local and local-to-global coordinate systems are very similar, this is no coincidence. Each of the rotation matrices we deduced, $\\mathbf{R_{Gl}}$ and $\\mathbf{R_{lG}}$, perform the inverse operation in relation to the other. Each matrix is the inverse of the other."
     ]
    },
    {
     "cell_type": "heading",
     "level": 3,
     "metadata": {},
     "source": [
      "The rotation matrix"
     ]
    },
    {
     "cell_type": "markdown",
     "metadata": {},
     "source": [
      "**Matrix inverse**\n",
      "\n",
      "The inverse of the matrix $\\mathbf{A}$ is the matrix $\\mathbf{A^{-1}}$ such that the product between these two matrices is the identity matrix:\n",
      "\n",
      "$$ \\mathbf{A}\\mathbf{A^{-1}} = \\mathbf{I} $$\n",
      "\n",
      "Where the identity matrix $\\mathbf{I}$ is a matrix with ones in the main diagonal and zeros otherwise. The 2x2 identity matrix is:   \n",
      "\n",
      "$$ \\mathbf{I} = \n",
      "\\begin{bmatrix} \n",
      "1 & 0 \\\\\n",
      "0 & 1 \\end{bmatrix} $$\n",
      "\n",
      "The calculation of the inverse of a matrix is usually not simple (the inverse of the matrix $\\mathbf{A}$ is not $1/\\mathbf{A}$; there is no division operation between matrices), but for an orthogonal matrix there is a simple way to calculate the inverse of a matrix.  \n",
      "\n",
      "**Matrix transpose**\n",
      "\n",
      "The transpose of the matrix $\\mathbf{A}$ is the matrix $\\mathbf{A^T}$ turning all the rows of matrix $\\mathbf{A}$ into columns (or columns into rows):\n",
      "\n",
      "$$ \n",
      "\\mathbf{A} = \n",
      "\\begin{bmatrix} \n",
      "a & b \\\\\n",
      "c & d \\end{bmatrix}\n",
      "\\;\\;\\;\\;\\;\\;\\iff\\;\\;\\;\\;\\;\\;\n",
      "\\mathbf{A^T} = \n",
      "\\begin{bmatrix} \n",
      "a & c \\\\\n",
      "b & d \\end{bmatrix} $$\n",
      "\n",
      "A nice property of an orthogonal matrix (such as the rotation matrix) is that its inverse is the transpose of the matrix.   \n",
      "This property can be shown with the rotation matrix we are using:\n",
      "\n",
      "$$ \\begin{array}{l l}\n",
      "\\mathbf{R}\\:\\mathbf{R^T} & = \n",
      "\\begin{bmatrix}\n",
      "cos\\alpha & -sin\\alpha \\\\\n",
      "sin\\alpha & cos\\alpha \n",
      "\\end{bmatrix} \n",
      "\\begin{bmatrix}\n",
      "cos\\alpha & sin\\alpha \\\\\n",
      "-sin\\alpha & cos\\alpha \n",
      "\\end{bmatrix} \\\\\n",
      "& = \\begin{bmatrix}\n",
      "cos^2\\alpha+sin^2\\alpha & cos\\alpha sin\\alpha-sin\\alpha cos\\alpha\\;\\; \\\\\n",
      "sin\\alpha cos\\alpha-cos\\alpha sin\\alpha & sin^2\\alpha+cos^2\\alpha\\;\\;\n",
      "\\end{bmatrix} \\\\\n",
      "& = \\begin{bmatrix}\n",
      "1 & 0 \\\\\n",
      "0 & 1 \n",
      "\\end{bmatrix} \\\\\n",
      "& = \\mathbf{I} \\end{array} $$\n",
      "\n",
      "$$ \\mathbf{R^{-1}} = \\mathbf{R^T} $$\n",
      "\n",
      "This means that if we have a rotation matrix, we know its inverse.   \n",
      "\n",
      "The transpose and inverse operators in NumPy are methods of the array:"
     ]
    },
    {
     "cell_type": "code",
     "collapsed": false,
     "input": [
      "RGl = np.mat([[np.cos(np.pi/4), -np.sin(np.pi/4)],[np.sin(np.pi/4), np.cos(np.pi/4)]])\n",
      "\n",
      "print('Orthogonal matrix:\\n', np.around(RGl, 4))\n",
      "print('Transpose:\\n', np.around(RGl.T, 4))\n",
      "print('Inverse:\\n', np.around(RGl.I, 4))"
     ],
     "language": "python",
     "metadata": {},
     "outputs": [
      {
       "output_type": "stream",
       "stream": "stdout",
       "text": [
        "Orthogonal matrix:\n",
        " [[ 0.7071 -0.7071]\n",
        " [ 0.7071  0.7071]]\n",
        "Transpose:\n",
        " [[ 0.7071  0.7071]\n",
        " [-0.7071  0.7071]]\n",
        "Inverse:\n",
        " [[ 0.7071  0.7071]\n",
        " [-0.7071  0.7071]]\n"
       ]
      }
     ],
     "prompt_number": 7
    },
    {
     "cell_type": "markdown",
     "metadata": {},
     "source": [
      "Note that the method `I` used above stands for the inverse, not for the identity. If we want to create an identity array in NumPy we use the function `eye`:"
     ]
    },
    {
     "cell_type": "code",
     "collapsed": false,
     "input": [
      "np.eye(3)  # identity 3x3 array"
     ],
     "language": "python",
     "metadata": {},
     "outputs": [
      {
       "metadata": {},
       "output_type": "pyout",
       "prompt_number": 8,
       "text": [
        "array([[ 1.,  0.,  0.],\n",
        "       [ 0.,  1.,  0.],\n",
        "       [ 0.,  0.,  1.]])"
       ]
      }
     ],
     "prompt_number": 8
    },
    {
     "cell_type": "markdown",
     "metadata": {},
     "source": [
      "And the determinant of a matrix is given by the `linalg.det` function:"
     ]
    },
    {
     "cell_type": "code",
     "collapsed": false,
     "input": [
      "np.linalg.det(RGl)"
     ],
     "language": "python",
     "metadata": {},
     "outputs": [
      {
       "metadata": {},
       "output_type": "pyout",
       "prompt_number": 9,
       "text": [
        "1.0"
       ]
      }
     ],
     "prompt_number": 9
    },
    {
     "cell_type": "markdown",
     "metadata": {},
     "source": [
      "Using the inverse and the transpose mathematical operations, the coordinates at the local coordinate system given the coordinates at the global coordinate system and the rotation matrix can be obtained by:   \n",
      "\n",
      "$$ \\mathbf{P_G} = \\mathbf{R_{Gl}}\\mathbf{P_l} \\implies $$\n",
      "\n",
      "$$ \\mathbf{R_{Gl}^{-1}}\\mathbf{P_G} = \\mathbf{R_{Gl}^{-1}}\\mathbf{R_{Gl}}\\mathbf{P_l} \\implies $$\n",
      "\n",
      "$$ \\mathbf{R_{Gl}^{-1}}\\mathbf{P_G} = \\mathbf{I}\\mathbf{P_l} \\implies $$\n",
      "\n",
      "$$ \\mathbf{P_l} = \\mathbf{R_{Gl}^{-1}}\\mathbf{P_G} = \\mathbf{R_{Gl}^T}\\mathbf{P_G} \\;\\;\\;\\;\\; \\text{or} \\;\\;\\;\\;\\; \\mathbf{P_l} = \\mathbf{R_{lG}}\\mathbf{P_G} $$\n",
      "\n",
      "Where we referred the inverse of $\\mathbf{R_{Gl}}\\;(\\:\\mathbf{R_{Gl}^{-1}})$ as $\\mathbf{R_{lG}}$ (note the different order of the subscripts).  \n",
      "\n",
      "Let's show this calculation in NumPy:"
     ]
    },
    {
     "cell_type": "code",
     "collapsed": false,
     "input": [
      "RGl = np.array([[np.cos(np.pi/4), -np.sin(np.pi/4)], [np.sin(np.pi/4), np.cos(np.pi/4)]])\n",
      "print('Rotation matrix:\\n', np.around(RGl, 4))\n",
      "\n",
      "Pl  = np.array([[1, 1]]).T # transpose the array for correct matrix multiplication\n",
      "print('Position at the local coordinate system:\\n', Pl)\n",
      "\n",
      "PG = np.dot(RGl, Pl) # the function dot() is used for matrix multiplication with arrays\n",
      "print('Position at the global coordinate system, PG=RGl*Pl:\\n', np.around(PG,2))\n",
      "\n",
      "Pl = np.dot(RGl.T, PG)\n",
      "print('Position at the local coordinate system using the inverse of RGl, Pl=RlG*PG:\\n', Pl)"
     ],
     "language": "python",
     "metadata": {},
     "outputs": [
      {
       "output_type": "stream",
       "stream": "stdout",
       "text": [
        "Rotation matrix:\n",
        " [[ 0.7071 -0.7071]\n",
        " [ 0.7071  0.7071]]\n",
        "Position at the local coordinate system:\n",
        " [[1]\n",
        " [1]]\n",
        "Position at the global coordinate system, PG=RGl*Pl:\n",
        " [[ 0.  ]\n",
        " [ 1.41]]\n",
        "Position at the local coordinate system using the inverse of RGl, Pl=RlG*PG:\n",
        " [[ 1.]\n",
        " [ 1.]]\n"
       ]
      }
     ],
     "prompt_number": 10
    },
    {
     "cell_type": "markdown",
     "metadata": {},
     "source": [
      "In summary, some of the properties of the rotation matrix are:\n",
      "\n",
      "1. The columns of the rotation matrix form a basis of (independent) unit vectors (versors) and the rows are also independent versors since the transpose of the rotation matrix is another rotation matrix.\n",
      "2. The rotation matrix is orthogonal. There is no linear combination of one of the lines or columns of the matrix that would lead to the other row or column, i.e., the lines and columns of the rotation matrix are independent, orthogonal, to each other (this is property 1 rewritten).   \n",
      "3. The determinant of the rotation matrix is equal to one (or equal to -1 if a left-hand coordinate system was used, but you should rarely use that). For instance, the determinant of the rotation matrix we deduced is $cos\\alpha cos\\alpha - sin\\alpha(-sin\\alpha)=1$.\n",
      "4. The inverse of the rotation matrix is equals to its transpose.\n",
      "\n",
      "However, keep in mind that not all matrices with determinant equals to one are orthogonal, for example, the matrix:\n",
      "\n",
      "$$ \\begin{bmatrix}\n",
      "3 & 2 \\\\\n",
      "4 & 3 \n",
      "\\end{bmatrix} $$\n",
      "\n",
      "Has determinant equals to one but it is not orthogonal (the columns and rows don't have norm equals to one).\n",
      "\n",
      "**Which matrix to use, from local to global or global to local?**\n",
      "\n",
      "One typical use of the transformation is in movement analysis, where there are the fixed global (laboratory) coordinate system and the moving anatomical coordinate system attached to each body segment.   \n",
      "In this case, most of the time we will be interested in the transformation leading from the global coordinate system to the local coordinate system (because the movement of the body segment is measured in the global coordinate system, for example, by cameras, and we want to reconsctruct the coordinates of the markers at the anatomical coordinate system in order to perform the kinematic analysis).   \n",
      "Of course, if you have one matrix, it is simple to get the other; you just have to pay attention to use the wright one."
     ]
    },
    {
     "cell_type": "heading",
     "level": 2,
     "metadata": {},
     "source": [
      "Translation and rotation"
     ]
    },
    {
     "cell_type": "markdown",
     "metadata": {},
     "source": [
      "Consider now the case where the local coordinate system is translated and rotated in relation to the global coordinate system as illustrated in the figure below:\n",
      "\n",
      "<div class='center-align'><figure><img src='files/images/transrot2D.png' alt='translation and rotation 2D'/> <figcaption><i>Translation and rotation of a coordinate system.</i></figcaption> </figure></div><br>\n",
      "\n",
      "The position of point **P** originally described in the local coordinate system, but now described in the global coordinate system in vector form is:\n",
      "\n",
      "$$ \\mathbf{P_G} = \\mathbf{L_G} + \\mathbf{R_{Gl}}\\mathbf{P_l} $$\n",
      "\n",
      "And in matrix form:\n",
      "\n",
      "$$ \\begin{bmatrix}\n",
      "\\mathbf{P_X} \\\\\n",
      "\\mathbf{P_Y} \n",
      "\\end{bmatrix} =\n",
      "\\begin{bmatrix} \\mathbf{L_{X}} \\\\\\ \\mathbf{L_{Y}} \\end{bmatrix} + \n",
      "\\begin{bmatrix}\n",
      "cos\\alpha & -sin\\alpha \\\\\n",
      "sin\\alpha & cos\\alpha \n",
      "\\end{bmatrix} \\begin{bmatrix}\n",
      "\\mathbf{P}_x \\\\\n",
      "\\mathbf{P}_y \n",
      "\\end{bmatrix} $$\n",
      "\n",
      "This means that we first *disrotate* the local coordinate system and then correct for the translation between the two coordinate systems. Note that we can't invert this order: the point position is expressed in the local coordinate system and we can't add this vector to another vector expressed in the global coordinate system, first we have to convert the vectors to the same coordinate system.\n",
      "\n",
      "If now we want to find the position of a point at the local coordinate system given its position in the global coordinate system, the rotation matrix and the translation vector, we have to invert the expression above:\n",
      "\n",
      "$$ \\mathbf{P_G} = \\mathbf{L_G} + \\mathbf{R_{Gl}}\\mathbf{P_l} \\implies $$\n",
      "\n",
      "$$ \\mathbf{R_{Gl}^{-1}}(\\mathbf{P_G} - \\mathbf{L_G}) = \\mathbf{R_{Gl}^{-1}}\\mathbf{R_{Gl}}\\mathbf{P_l} \\implies $$\n",
      "\n",
      "$$ \\mathbf{P_l} = \\mathbf{R_{Gl}^{-1}}\\left(\\mathbf{P_G}-\\mathbf{L_G}\\right) = \\mathbf{R_{Gl}^T}\\left(\\mathbf{P_G}-\\mathbf{L_G}\\right) \\;\\;\\;\\;\\; \\text{or} \\;\\;\\;\\;\\; \\mathbf{P_l} = \\mathbf{R_{lG}}\\left(\\mathbf{P_G}-\\mathbf{L_G}\\right) $$\n",
      "\n",
      "The expression above indicates that to perform the inverse operation, to go from the global to the local coordinate system, we first translate and then rotate the coordinate system."
     ]
    },
    {
     "cell_type": "heading",
     "level": 3,
     "metadata": {},
     "source": [
      "Transformation matrix"
     ]
    },
    {
     "cell_type": "markdown",
     "metadata": {},
     "source": [
      "It is possible to combine the translation and rotation operations in only one matrix, called the transformation matrix:\n",
      "\n",
      "$$ \\begin{bmatrix}\n",
      "\\mathbf{P_X} \\\\\n",
      "\\mathbf{P_Y} \\\\\n",
      "1\n",
      "\\end{bmatrix} =\n",
      "\\begin{bmatrix}\n",
      "cos\\alpha & -sin\\alpha & \\mathbf{L_{X}} \\\\\n",
      "sin\\alpha & cos\\alpha  & \\mathbf{L_{Y}} \\\\\n",
      "0 & 0 & 1\n",
      "\\end{bmatrix} \\begin{bmatrix}\n",
      "\\mathbf{P}_x \\\\\n",
      "\\mathbf{P}_y \\\\\n",
      "1\n",
      "\\end{bmatrix} $$\n",
      "\n",
      "Or simply:\n",
      "\n",
      "$$ \\mathbf{P_G} = \\mathbf{T_{Gl}}\\mathbf{P_l} $$\n",
      "\n",
      "The inverse operation, to express the position at the local coordinate system in terms of the global coordinate system, is:\n",
      "\n",
      "$$ \\mathbf{P_l} = \\mathbf{T_{Gl}^{-1}}\\mathbf{P_G} $$\n",
      "\n",
      "However, because $\\mathbf{T_{Gl}}$ is not orthogonal when there is a translation, its inverse is not its transpose.  \n",
      "Its inverse in matrix form is given by:\n",
      "\n",
      "$$ \\begin{bmatrix}\n",
      "\\mathbf{P}_x \\\\\n",
      "\\mathbf{P}_y \\\\\n",
      "1\n",
      "\\end{bmatrix} =\n",
      "\\begin{bmatrix}\n",
      "\\mathbf{R^{-1}_{Gl}} & \\cdot & - \\mathbf{R^{-1}_{Gl}}\\mathbf{L_{G}} \\\\\n",
      "\\cdot & \\cdot  & \\cdot \\\\\n",
      "0 & 0 & 1\n",
      "\\end{bmatrix} \\begin{bmatrix}\n",
      "\\mathbf{P_X} \\\\\n",
      "\\mathbf{P_Y} \\\\\n",
      "1\n",
      "\\end{bmatrix} $$"
     ]
    },
    {
     "cell_type": "heading",
     "level": 3,
     "metadata": {},
     "source": [
      "Calculation of a basis"
     ]
    },
    {
     "cell_type": "markdown",
     "metadata": {},
     "source": [
      "A typical scenario in motion analysis is to calculate the rotation matrix using the position of markers placed on the moving rigid body. With the markers' positions, we create a local basis, which by definition is the rotation matrix for the rigid body with respect to the global (or laboratory) coordinate system.   \n",
      "\n",
      "Let's see how to calculate a basis given the markers' positions.   \n",
      "Consider the markers at `m1=[1,1]`, `m2=[1,2]` and `m3=[-1,1]` measured in the global coordinate system as illustrated in the figure below:\n",
      "\n",
      "<div class='center-align'><figure><img src='files/images/transrot2Db.png' alt='translation and rotation 2D'/> <figcaption><i>Three points in the two-dimensional space, two possible vectors given these points, and the corresponding basis.</i></figcaption> </figure></div><br>\n",
      "\n",
      "Given these three markers, a possible local coordinate system with origin at the position of m1 is also illustrated in the figure above.    \n",
      "Intentionally, these three markers were chosen to form orthogonal vectors.   \n",
      "The translation vector between the two coordinate system is:\n",
      "\n",
      "$$\\mathbf{L_{Gl}} = m_1 - [0,0] = [1,1]$$\n",
      "\n",
      "The vectors expressing the axes of the local coordinate system are:\n",
      "\n",
      "$$ x = m_2 - m_1 = [1,2] - [1,1] = [0,1] $$\n",
      "\n",
      "$$ y = m_3 - m_1 = [-1,1] - [1,1] = [-2,0] $$\n",
      "\n",
      "Note that these two vectors do not form a basis yet because they are not unit vectors (in fact, only *y* is not a unit vector). Let's normalize these vectors:\n",
      "\n",
      "$$ x' = \\frac{x}{||x||} = \\frac{[0,1]}{\\sqrt{0^2+1^2}} = [0,1] $$\n",
      "\n",
      "$$ y' = \\frac{y}{||y||} = \\frac{[-2,0]}{\\sqrt{2^2+0^2}} = [-1,0] $$\n",
      "\n",
      "We could have done this calculation in NumPy (we will need to do that when dealing with real data later):"
     ]
    },
    {
     "cell_type": "code",
     "collapsed": false,
     "input": [
      "m1 = np.array([1.,1.])    # marker 1\n",
      "m2 = np.array([1.,2.])    # marker 2\n",
      "m3 = np.array([-1.,1.])   # marker 3\n",
      "\n",
      "x = m2 - m1               # vector x\n",
      "y = m3 - m1               # vector y\n",
      "\n",
      "vx = x/np.linalg.norm(x)  # versor x\n",
      "vy = y/np.linalg.norm(y)  # verson y\n",
      "\n",
      "print(\"x =\", x, \", y =\", y, \"\\nx'=\", vx, \", y'=\", vy)"
     ],
     "language": "python",
     "metadata": {},
     "outputs": [
      {
       "output_type": "stream",
       "stream": "stdout",
       "text": [
        "x = [ 0.  1.] , y = [-2.  0.] \n",
        "x'= [ 0.  1.] , y'= [-1.  0.]\n"
       ]
      }
     ],
     "prompt_number": 11
    },
    {
     "cell_type": "markdown",
     "metadata": {},
     "source": [
      "Now, both *x'* and *y'* are unit vectors (versors) and they are orthogonal, a basis can be formed with these two versors, and we can represent the rotation matrix using this basis (just place the versors of this basis as columns of the rotation matrix):\n",
      "\n",
      "$$ \\mathbf{R_{Gl}} = \\begin{bmatrix}\n",
      "0 & -1 \\\\\n",
      "1 & 0 \n",
      "\\end{bmatrix} $$\n",
      "\n",
      "This rotation matrix makes sense because from the figure above we see that the local coordinate system we defined is rotated by 90 degrees in relation to the global coordinate system and if we use the general form for the rotation matrix:\n",
      "\n",
      "$$ \\mathbf{R} = \\begin{bmatrix}\n",
      "cos\\alpha & -sin\\alpha \\\\\n",
      "sin\\alpha & cos\\alpha \n",
      "\\end{bmatrix} = \n",
      "\\begin{bmatrix}\n",
      "cos90^o & -sin90^o \\\\\n",
      "sin90^o & cos90^o \n",
      "\\end{bmatrix} =\n",
      "\\begin{bmatrix}\n",
      "0 & -1 \\\\\n",
      "1 & 0 \n",
      "\\end{bmatrix} $$\n",
      "\n",
      "So, the position of any point in the local coordinate system can be represented in the global coordinate system by:\n",
      "\n",
      "$$ \\mathbf{P_G} = \\mathbf{L_{Gl}} + \\mathbf{R_{Gl}}\\mathbf{P_l} $$\n",
      "\n",
      "$$ \\mathbf{P_G} = \\begin{bmatrix} 1 \\\\ 1 \\end{bmatrix} + \\begin{bmatrix} 0 & -1 \\\\ 1 & 0 \\end{bmatrix} \\mathbf{P_l} $$\n",
      "\n",
      "For example, the point $\\mathbf{P_l}=[1,1]$ has the following position at the global coordinate system:"
     ]
    },
    {
     "cell_type": "code",
     "collapsed": false,
     "input": [
      "LGl = np.array([[1, 1]]).T\n",
      "print('Translation vector:\\n', LGl)\n",
      "\n",
      "RGl = np.array([[0, -1], [1, 0]])\n",
      "print('Rotation matrix:\\n', RGl)\n",
      "\n",
      "Pl  = np.array([[1, 1]]).T\n",
      "print('Position at the local coordinate system:\\n', Pl)\n",
      "\n",
      "PG = LGl + np.dot(RGl, Pl)\n",
      "print('Position at the global coordinate system, PG = LGl + RGl*Pl:\\n', PG)"
     ],
     "language": "python",
     "metadata": {},
     "outputs": [
      {
       "output_type": "stream",
       "stream": "stdout",
       "text": [
        "Translation vector:\n",
        " [[1]\n",
        " [1]]\n",
        "Rotation matrix:\n",
        " [[ 0 -1]\n",
        " [ 1  0]]\n",
        "Position at the local coordinate system:\n",
        " [[1]\n",
        " [1]]\n",
        "Position at the global coordinate system, PG = LGl + RGl*Pl:\n",
        " [[0]\n",
        " [2]]\n"
       ]
      }
     ],
     "prompt_number": 12
    },
    {
     "cell_type": "markdown",
     "metadata": {},
     "source": [
      "If we didn't know the angle of rotation between the two coordinate systems, which is the typical situation in motion analysis, we simply would equate one of the terms of the literal rotation matrix to its correspondent value in the numerical rotation matrix we calculated.   \n",
      "For example, taking the first term of these two matrices: $cos\\alpha = 0$ implies that $\\theta$ is $90^0$ or $270^0$, but combining with another matrix term, $sin\\alpha = 1$, implies that $\\alpha=90^0$.    \n",
      "We can avoid the doubt about the sign using the `arctan2(y, x)` function:"
     ]
    },
    {
     "cell_type": "code",
     "collapsed": false,
     "input": [
      "ang = np.arctan2(RGl[1, 0], RGl[0, 0])*180/np.pi\n",
      "print('The angle is:', ang)"
     ],
     "language": "python",
     "metadata": {},
     "outputs": [
      {
       "output_type": "stream",
       "stream": "stdout",
       "text": [
        "The angle is: 90.0\n"
       ]
      }
     ],
     "prompt_number": 13
    },
    {
     "cell_type": "markdown",
     "metadata": {},
     "source": [
      "And this procedure would be repeated for each segment and each instant of the analyzed movement to find the rotation of each segment."
     ]
    },
    {
     "cell_type": "heading",
     "level": 4,
     "metadata": {},
     "source": [
      "Joint angle as a sequence of rotations of adjacent segments"
     ]
    },
    {
     "cell_type": "markdown",
     "metadata": {},
     "source": [
      "In the notebook about [two-dimensional angular kinematics](http://nbviewer.ipython.org/urls/raw.github.com/duartexyz/BMC/master/AngularKinematics2D.ipynb), we calculated segment and joint angles using simple trigonometric relations. We can calculate these 2D angles using what we learned here about the rotation matrix, just to grab the concept.\n",
      "\n",
      "The segment angle will be given by the matrix representing the rotation from the laboratory coordinate system (`G`) to a coordinate system attached to the segment and the joint angle will be given by the matrix representing the rotation from the one segment coordinate system (`l1`) to the other segment coordinate system (`l2`). So, we have to calculate two basis now, one for each segment.  \n",
      "\n",
      "This means that the joint angle will be given by the product between the two rotation matrices.  \n",
      "\n",
      "To define a 2D basis (a set of 2 vectors perpendicular to each other and with magnitude equal to 1), we need to calculate vectors perpendicular to each of these lines. Here is a way of doing that.   \n",
      "\n",
      "First, let's find three non-collinear points for each basis:"
     ]
    },
    {
     "cell_type": "code",
     "collapsed": false,
     "input": [
      "x1, y1, x2, y2 = 0, 0, 1, 1      # points at segment 1\n",
      "x3, y3, x4, y4 = 1.1, 1, 2.1, 0  # points at segment 2\n",
      "\n",
      "#The slope of the perpendicular line is minus the inverse of the slope of the line\n",
      "xl1 = x1 - (y2-y1); yl1 = y1 + (x2-x1)  # point at the perpendicular line 1\n",
      "xl2 = x4 - (y3-y4); yl2 = y4 + (x3-x4)  # point at the perpendicular line 2"
     ],
     "language": "python",
     "metadata": {},
     "outputs": [],
     "prompt_number": 14
    },
    {
     "cell_type": "markdown",
     "metadata": {},
     "source": [
      "With these three points, we can create a basis and the corresponding rotation matrix:"
     ]
    },
    {
     "cell_type": "code",
     "collapsed": false,
     "input": [
      "b1x = np.array([x2-x1, y2-y1])\n",
      "b1x = b1x/np.linalg.norm(b1x)    # versor x of basis 1\n",
      "b1y = np.array([xl1-x1, yl1-y1])\n",
      "b1y = b1y/np.linalg.norm(b1y)    # versor y of basis 1\n",
      "b2x = np.array([x3-x4, y3-y4])\n",
      "b2x = b2x/np.linalg.norm(b2x)    # versor x of basis 2\n",
      "b2y = np.array([xl2-x4, yl2-y4])\n",
      "b2y = b2y/np.linalg.norm(b2y)    # versor y of basis 2\n",
      "\n",
      "RGl1 = np.array([b1x, b1y]).T    # rotation matrix from segment 1 to the laboratory\n",
      "RGl2 = np.array([b2x, b2y]).T    # rotation matrix from segment 2 to the laboratory"
     ],
     "language": "python",
     "metadata": {},
     "outputs": [],
     "prompt_number": 15
    },
    {
     "cell_type": "markdown",
     "metadata": {},
     "source": [
      "Now, the segment and joint angles are simply matrix operations:"
     ]
    },
    {
     "cell_type": "code",
     "collapsed": false,
     "input": [
      "print('Rotation matrix for segment 1:\\n', np.around(RGl1, 4))\n",
      "print('\\nRotation angle of segment 1:', np.arctan2(RGl1[1,0], RGl1[0,0])*180/np.pi)\n",
      "print('\\nRotation matrix for segment 2:\\n', np.around(RGl2, 4))\n",
      "print('\\nRotation angle of segment 2:', np.arctan2(RGl1[1,0], RGl2[0,0])*180/np.pi)\n",
      "\n",
      "Rl1l2 = np.dot(RGl1.T, RGl2)  # Rl1l2 = Rl1G*RGl2\n",
      "\n",
      "print('\\nJoint rotation matrix (Rl1l2 = Rl1G*RGl2):\\n', np.around(RGl2, 4))\n",
      "print('\\nJoint angle:', np.arctan2(Rl1l2[1,0], Rl1l2[0,0])*180/np.pi)"
     ],
     "language": "python",
     "metadata": {},
     "outputs": [
      {
       "output_type": "stream",
       "stream": "stdout",
       "text": [
        "Rotation matrix for segment 1:\n",
        " [[ 0.7071 -0.7071]\n",
        " [ 0.7071  0.7071]]\n",
        "\n",
        "Rotation angle of segment 1: 45.0\n",
        "\n",
        "Rotation matrix for segment 2:\n",
        " [[-0.7071 -0.7071]\n",
        " [ 0.7071 -0.7071]]\n",
        "\n",
        "Rotation angle of segment 2: 135.0\n",
        "\n",
        "Joint rotation matrix (Rl1l2 = Rl1G*RGl2):\n",
        " [[-0.7071 -0.7071]\n",
        " [ 0.7071 -0.7071]]\n",
        "\n",
        "Joint angle: 90.0\n"
       ]
      }
     ],
     "prompt_number": 19
    },
    {
     "cell_type": "markdown",
     "metadata": {},
     "source": [
      "Same result as obtained in [two-dimensional angular kinematics](http://nbviewer.ipython.org/urls/raw.github.com/duartexyz/BMC/master/AngularKinematics2D.ipynb).   \n",
      "\n",
      "The fact that we simply multiplied the rotation matrices to calculate the rotation matrix of one segment in relation to the other is powerful and can be generalized for any number of segments: given a serial kinematic chain with links 1, 2, ..., n and 0 is the base/laboratory, the rotation matrix between the base and last link is: $\\mathbf{R_{n,n-1}R_{n-1,n-2} \\dots R_{2,1}R_{1,0}}$, where each matrix in this product (calculated from right to left) is the rotation of one link with respect to the next one.\n",
      "\n",
      "The typical use of all these concepts is in the three-dimensional analysis where we will have to deal with angles in different planes, which needs a special manipulation as we will see next."
     ]
    },
    {
     "cell_type": "heading",
     "level": 2,
     "metadata": {},
     "source": [
      "Problems"
     ]
    },
    {
     "cell_type": "markdown",
     "metadata": {},
     "source": [
      "1. A local coordinate system is rotated $30^o$ clockwise in relation to the global reference system.   \n",
      "  A. Determine the matrices for rotating one coordinate system to another (two-dimensional).   \n",
      "  B. What are the coordinates of the point [1, 1] (local coordinate system) at the global coordinate system?   \n",
      "  C. And if this point is at the global coordinate system and we want the coordinates at the local coordinate system?   \n",
      "  D. Consider that the local coordinate system, besides the rotation is also translated by [2, 2]. What are the matrices for rotation, tranlation, and tranformation from one coordinate system to another (two-dimensional)?   \n",
      "  E. Repeat B and C considering this translation.\n",
      "  \n",
      "2. Consider the matrix [[1 -1], [1, 1]].   \n",
      "  A. Is it orthogonal? If not, make it orthogonal.   \n",
      "  C. What are the tranpose of this matrix and of the orthogonal matrix?   \n",
      "  D. What are the determinants of this matrix and of the orthogonal matrix?   \n",
      "  \n",
      "3. Consider a local coordinate system U rotated $45^o$ clockwise in relation to the global reference system and another local coordinate system V rotated $45^o$ clockwise in relation to the local reference system U.  \n",
      "  A. Determine the rotation matrices of all possible transformations between the coordinate systems.   \n",
      "  B. For the point [1, 1] in the coordinate system U, what are its coordinates in coordinate system V and in the global coordinate system?   "
     ]
    },
    {
     "cell_type": "heading",
     "level": 2,
     "metadata": {},
     "source": [
      "References"
     ]
    },
    {
     "cell_type": "markdown",
     "metadata": {},
     "source": [
      "- Ruina A, Rudra P (2013) [Introduction to Statics and Dynamics](http://ruina.tam.cornell.edu/Book/index.html). Oxford University Press.\n",
      "- Zatsiorsky VM (1997) [Kinematics of Human Motion](http://books.google.com.br/books/about/Kinematics_of_Human_Motion.html?id=Pql_xXdbrMcC&redir_esc=y). Champaign, Human Kinetics."
     ]
    }
   ],
   "metadata": {}
  }
 ]
}