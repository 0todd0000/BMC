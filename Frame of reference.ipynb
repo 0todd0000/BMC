{
 "metadata": {
  "name": ""
 },
 "nbformat": 3,
 "nbformat_minor": 0,
 "worksheets": [
  {
   "cells": [
    {
     "cell_type": "heading",
     "level": 1,
     "metadata": {},
     "source": [
      "Frame of reference"
     ]
    },
    {
     "cell_type": "markdown",
     "metadata": {},
     "source": [
      "Marcos Duarte"
     ]
    },
    {
     "cell_type": "markdown",
     "metadata": {},
     "source": [
      "**Motion** (a change of position in space with respect to time) is not an absolute concept; a **reference** is needed to describe the motion of the object in relation to this reference.    \n",
      "Likewise, the state of such reference cannot be absolute in space and so motion is relative.    \n",
      "A **frame of reference** is the place with respect to we choose to describe the motion of an object. In this reference frame, we define a **coordinate system** (a set of axes) within which we measure the motion of an object.  \n",
      "\n",
      "Often, the choice of reference frame and coordinate system is made by convenience.   \n",
      "\n",
      "However, there is an important distinction between reference frames when we deal with the dynamics of motion, where we are interested to understand the forces related to the motion of the object.    \n",
      "In dynamics, we refer to **inertial reference frame** (a.k.a., **Galilean reference frame**) when the Newton's laws of motion in their simple form are valid in this frame and to **non-inertial reference frame** when the Newton's laws in their simple form are not valid (in such reference frame, fictitious accelerations/forces appear). An inertial reference frame is at rest or moves at constant speed (because there is no absolut rest!), whereas a non-inertial reference frame is under acceleration (with respect to an inertial reference frame).\n",
      "\n",
      "The concept of reference frame in biomechanics and motor control is very important and central to the understanding of human motion. For example, do we plan and control the movement of our hand with respect to a reference frame within our body or in the environment we move? Or a blend of both? In biomechanics, we may use several different references frames for convenience and refer to them as global, laboratory, local, anatomical, or technical reference frames (we will study this later).\n",
      "\n",
      "In anatomy, we use a simplified reference frame composed by perpendicular planes to provide a standard reference for qualitatively describing the structures and movements of the human body, as shown in the next figure.\n",
      "\n",
      "<div class='center-align'><figure><img src=\"http://upload.wikimedia.org/wikipedia/commons/3/34/BodyPlanes.jpg\" alt=\"Anatomical body position\"/><figcaption><i>Anatomical body position and body planes (<a href=\"http://en.wikipedia.org/wiki/Human_anatomical_terms\" target=\"_blank\">from Wikipedia</a>).</i></figcaption> </figure></div><br> \n",
      "\n",
      "In Biomechanics, different reference frame conventions have been proposed for use in quantitative human motion analysis, sse for instance the  [*Virtual Animation of the Kinematics of the Human for Industrial, Educational and Research Purposes (VAKHUM)*](http://www.ulb.ac.be/project/vakhum/public_dataset/Doc/VAKHUM-3-Frame_Convention.pdf) project:\n",
      "\n",
      "<iframe src=http://www.ulb.ac.be/project/vakhum/public_dataset/Doc/VAKHUM-3-Frame_Convention.pdf width=900 height=400></iframe>"
     ]
    },
    {
     "cell_type": "heading",
     "level": 3,
     "metadata": {},
     "source": [
      "Cartesian coordinate system"
     ]
    },
    {
     "cell_type": "markdown",
     "metadata": {},
     "source": [
      "As we perceive the surrounding space as three-dimensional, a convenient coordinate system is the **[Cartesian coordinate system](http://en.wikipedia.org/wiki/Cartesian_coordinate_system)** in the **[Euclidean space](http://en.wikipedia.org/wiki/Euclidean_space)** with three ortogonal axes as shown below.    \n",
      "The axes directions are commonly defined by the **[right-hand rule](http://en.wikipedia.org/wiki/Right-hand_rule)** and attributed the letters X, Y, Z.\n",
      "\n",
      "<div class='center-align'><figure><img src=\"http://upload.wikimedia.org/wikipedia/commons/thumb/6/69/Coord_system_CA_0.svg/240px-Coord_system_CA_0.svg.png\" width=\"400\" alt=\"three-dimensional Euclidean space\"/><figcaption><i>A point in three-dimensional Euclidean space described in a Cartesian coordinate system (<a href=\"http://en.wikipedia.org/wiki/Euclidean_space\" target=\"_blank\">from Wikipedia</a>).</i></figcaption> </figure></div><br> \n",
      "\n",
      "In classical mechanics, the structure of space is assumed to have the **[Euclidean geometry](http://en.wikipedia.org/wiki/Euclidean_geometry)** and as consequence, the motion in different directions are independent of each other.   "
     ]
    },
    {
     "cell_type": "heading",
     "level": 2,
     "metadata": {},
     "source": [
      "Problems"
     ]
    },
    {
     "cell_type": "markdown",
     "metadata": {},
     "source": [
      "1. Go to the website [http://www.wisc-online.com/Objects/ViewObject.aspx?ID=AP15305](http://www.wisc-online.com/Objects/ViewObject.aspx?ID=AP15305) and complete the interactive lesson to learn about the anatomical terminology to describe relative position in the human body:\n",
      "\n",
      " <iframe src=http://www.wisc-online.com/Objects/ViewObject.aspx?ID=AP15305 width=950 height=700></iframe>\n",
      "\n",
      "2. To learn more about Cartesian coordinate systems go to the websote [http://www.mathsisfun.com/data/cartesian-coordinates.html](http://www.mathsisfun.com/data/cartesian-coordinates.html), study the material and answer the 10 qustions at the end:\n",
      "\n",
      " <iframe src=http://www.mathsisfun.com/data/cartesian-coordinates.html width=950 height=700></iframe>"
     ]
    },
    {
     "cell_type": "heading",
     "level": 2,
     "metadata": {},
     "source": [
      "References"
     ]
    },
    {
     "cell_type": "markdown",
     "metadata": {},
     "source": [
      "- [Virtual Animation of the Kinematics of the Human for Industrial, Educational and Research Purposes (VAKHUM)](http://www.ulb.ac.be/project/vakhum/)."
     ]
    }
   ],
   "metadata": {}
  }
 ]
}