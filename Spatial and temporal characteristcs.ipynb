{
 "metadata": {
  "name": ""
 },
 "nbformat": 3,
 "nbformat_minor": 0,
 "worksheets": [
  {
   "cells": [
    {
     "cell_type": "heading",
     "level": 1,
     "metadata": {},
     "source": [
      "Spatial and temporal characteristcs of a movement pattern"
     ]
    },
    {
     "cell_type": "markdown",
     "metadata": {},
     "source": [
      "Marcos Duarte"
     ]
    },
    {
     "cell_type": "markdown",
     "metadata": {},
     "source": [
      "The measurement of spatial and temporal characteristcs of a movement pattern is an important resource for the characterization of the observed movement. Such variables are typically the first description performed in gait analysis and also used in the study of other movements and biological systems. The determination of such variables is also an excellent and valuable example of the application of relatively simple concepts of kinematics.\n",
      "\n",
      "In the context of human gait, the movement of interest, walking or running, can be defined by steps or strides performed with the limbs. A step is the movement of one foot in front of the other. A stride is two consecutive steps with alternation of the limbs. In healthy walking, the events in each step or stride are similar to the next and the overall pattern of movement repeats. The pattern of movement that repeats is called the gait cycle, illustrated next.\n",
      "\n",
      "<div class='center-align'><figure><img src=\"files/images/gaitcycle.png\" width=720 alt=\"Gait cycle\"/><figcaption><i>The gait cycle of walking and its subphases (http://www.gla.ac.uk/t4/~fbls/files/fab/).</i></figcaption></figure></div> \n",
      "\n",
      "The most commonly investigated spatial and temporal characteristics in the context of human gait (walking or running) analysis are:\n",
      "\n",
      "- Step length: length of a step measured as the spatial distance between two similar events with the limbs. For instance, the distance between two heel strikes, with the right and left limbs.   \n",
      "- Stride length: the distance between two consecutive contacts of the same limb with the ground, for example, the distance between two heel strikes with the right limb.   \n",
      "- Step duration: time duration of the step.   \n",
      "- Stride duration: time duration of the stride.     \n",
      "- Cadence: number of steps per unit of time.   \n",
      "- Velocity: travelled distance divided the spent time.    \n",
      "- Stance duration: time duration which one limb is in contact with the ground for a step or stride.\n",
      "- Swing duration: time duration which one limb is not in contact with the ground for a step or stride.   \n",
      "- Single support duration: time duration which only one limb is in contact with the ground for a stride.  \n",
      "- Double support duration: time duration which the two limbs are in contact with the ground for a stride.    \n",
      "- Base of support width: distance in the frontal plane between the two feet when they were in contact with the ground (in different instants of time).  \n",
      "- Angle of progression (degree of toe out): angle of a longitudinal axis of the foot with the axis of progression when the foot is in full contact with the ground.   \n",
      "\n",
      "Some of these variables can be normalized by a parameter to take into account individual characteristics or to simply make them dimensionless, for instance:   \n",
      "\n",
      "- Dimensionless stride length: stride length divided by leg length.\n",
      "- Dimensionless speed: the Froude number, $ v/\\sqrt{gL} $, where g is the gravitational acceleration and L is the leg length.\n",
      "- Dimensionless stride frequency: stride frequency multiplied by $ \\sqrt{L/g} $.\n",
      "- Duty factor: period of contact of one limb with the ground divided by the stride period.\n",
      "- Stance, swing, single support and double support durations can be expressed as a fraction of the stride duration and multiplied by 100 to express as percentage values."
     ]
    }
   ],
   "metadata": {}
  }
 ]
}