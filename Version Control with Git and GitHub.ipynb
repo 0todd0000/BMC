{
 "metadata": {
  "name": ""
 },
 "nbformat": 3,
 "nbformat_minor": 0,
 "worksheets": [
  {
   "cells": [
    {
     "cell_type": "heading",
     "level": 1,
     "metadata": {},
     "source": [
      "Version control with Git and GitHub"
     ]
    },
    {
     "cell_type": "markdown",
     "metadata": {},
     "source": [
      "[Marcos Duarte](http://ebm.ufabc.edu.br/en/faculty/marcos-duarte/)"
     ]
    },
    {
     "cell_type": "markdown",
     "metadata": {
      "slideshow": {
       "slide_type": "slide"
      }
     },
     "source": [
      "> Revision control, also known as version control and source control, is the management of changes to documents, computer programs, large web sites, etc.  \n",
      "\n",
      "> Changes are usually identified by a number or letter code, termed the \"revision number\", \"revision level\", or simply \"revision\". For example, an initial set of files is \"revision 1\". When the first change is made, the resulting set is \"revision 2\", and so on. Each revision is associated with a timestamp and the person making the change. Revisions can be compared, restored, and with some types of files, merged.   \n",
      "\n",
      "> Version control systems (VCS) most commonly run as stand-alone applications, but revision control is also embedded in various types of software such as word processors and spreadsheets. Revision control allows for the ability to revert a document to a previous revision, which is critical for allowing editors to track each other's edits and correct mistakes (even if you work alone, version control is useful for that).\n",
      "\n",
      "> From [http://en.wikipedia.org/wiki/Revision_control](http://en.wikipedia.org/wiki/Revision_control).\n"
     ]
    },
    {
     "cell_type": "heading",
     "level": 2,
     "metadata": {},
     "source": [
      "Basic glossary of version control"
     ]
    },
    {
     "cell_type": "markdown",
     "metadata": {},
     "source": [
      "- **Repository**: the core of VCS, a data structure usually stored on a server that contains a set of files and directories, a historical record of changes in the repository, a set of commit objects, and a set of references to commit objects (called heads).\n",
      "- **Branch, fork, clone**: a branch in a repository, or a fork or clone of an entire repository, are different forms of copies of a repository. The main branch in a repository is called master or trunk. You can work on this copy and then merge it in to the master branch/repository.\n",
      "- **Checkout**: to checkout the repository is to obtain a local working copy of the files. Changes can be made to these local files and files can be added, removed and updated.\n",
      "- **Commit**: to commit a file to the repository means that the changes to the local files are saved to the repository (commited).\n",
      "- **Pull, push**: we can pull and push changesets between different repositories. For example, between a local copy of the repository to a central online reposistory.\n",
      "- **Diff**: a diff is the difference in changes between two commits, or saved changes.\n",
      "- **[Git](https://github.com/)** is a free and open source distributed version control software. Git is a very popular VCS nowadays.   \n",
      "- **[Github](https://github.com/)** is a web-based hosting service for software development projects that use the Git VCS. GitHub offers both paid plans for private repositories, and free accounts for open source projects. Github is also very popular."
     ]
    },
    {
     "cell_type": "heading",
     "level": 2,
     "metadata": {},
     "source": [
      "Git and GitHub"
     ]
    },
    {
     "cell_type": "markdown",
     "metadata": {
      "slideshow": {
       "slide_type": "slide"
      }
     },
     "source": [
      "Let's see how to use Git and GitHub for version control. For more on that, see this [Git guide](http://rogerdudler.github.io/git-guide/), the [Pro Git Book](http://git-scm.com/book), and the [GitHub help](https://help.github.com/categories/54/articles)."
     ]
    },
    {
     "cell_type": "heading",
     "level": 3,
     "metadata": {},
     "source": [
      "Installing Git"
     ]
    },
    {
     "cell_type": "markdown",
     "metadata": {},
     "source": [
      "See http://git-scm.com/downloads for detailed instructions on how to install Git, in short:   \n",
      "\n",
      "On MS Windows, install it using http://git-scm.com/download/win.\n",
      "\n",
      "On Linux (Debian/Ubuntu):    \n",
      ">`$ sudo apt-get install git`  \n",
      "\n",
      "On Mac OS X, there are different ways:   \n",
      "\n",
      "- Use a Git installer, such as http://git-scm.com/download/mac.\n",
      "- With [Homebrew](http://brew.sh/), use the command line:    \n",
      "\n",
      ">`$ brew install git`    \n",
      "\n",
      "- With [MacPorts](http://www.macports.org/), use the command line:     \n",
      "\n",
      ">`$ sudo port install git`\n",
      "\n",
      "You can also install a graphical user interface (GUI) for Git: [GUI Clients](http://git-scm.com/downloads/guis).    \n",
      "In MS Windows, if you installed the official Git (cited above), you already installed a GUI (Git GUI), look at the Git folder. But if you are in MS Windows and have a GitHub account, you may want to consider to use the [GitHub for Windows](http://windows.github.com/) GUI because integrates easily with your GitHub account.\n",
      "\n",
      "Let's see now short tutorial on how to use Git and GitHub for version control with command lines. \n",
      "\n",
      "After you installed Git, you can check its version using a terminal window or the command `!` in the IPython Notebook to access the system shell.   \n",
      "In MS Windows, however, if you installed Git with the recommended default options, the commands below will not work and the only terminal window (command prompt window) that works is the `Git Bash` that was installed with Git. So, open `Git Bash` and run the commands below (without the `!`)."
     ]
    },
    {
     "cell_type": "code",
     "collapsed": false,
     "input": [
      "!git --version"
     ],
     "language": "python",
     "metadata": {},
     "outputs": [
      {
       "output_type": "stream",
       "stream": "stdout",
       "text": [
        "git version 1.8.4.3\r\n"
       ]
      }
     ],
     "prompt_number": 1
    },
    {
     "cell_type": "markdown",
     "metadata": {},
     "source": [
      "And if you type `git` you get a list of the most common commands in Git:"
     ]
    },
    {
     "cell_type": "code",
     "collapsed": false,
     "input": [
      "!git"
     ],
     "language": "python",
     "metadata": {},
     "outputs": [
      {
       "output_type": "stream",
       "stream": "stdout",
       "text": [
        "usage: git [--version] [--help] [-c name=value]\r\n",
        "           [--exec-path[=<path>]] [--html-path] [--man-path] [--info-path]\r\n",
        "           [-p|--paginate|--no-pager] [--no-replace-objects] [--bare]\r\n",
        "           [--git-dir=<path>] [--work-tree=<path>] [--namespace=<name>]\r\n",
        "           <command> [<args>]\r\n",
        "\r\n",
        "The most commonly used git commands are:\r\n",
        "   add        Add file contents to the index\r\n",
        "   bisect     Find by binary search the change that introduced a bug\r\n",
        "   branch     List, create, or delete branches\r\n",
        "   checkout   Checkout a branch or paths to the working tree\r\n",
        "   clone      Clone a repository into a new directory\r\n",
        "   commit     Record changes to the repository\r\n",
        "   diff       Show changes between commits, commit and working tree, etc\r\n",
        "   fetch      Download objects and refs from another repository\r\n",
        "   grep       Print lines matching a pattern\r\n",
        "   init       Create an empty Git repository or reinitialize an existing one\r\n",
        "   log        Show commit logs\r\n",
        "   merge      Join two or more development histories together\r\n",
        "   mv         Move or rename a file, a directory, or a symlink\r\n",
        "   pull       Fetch from and integrate with another repository or a local branch\r\n",
        "   push       Update remote refs along with associated objects\r\n",
        "   rebase     Forward-port local commits to the updated upstream head\r\n",
        "   reset      Reset current HEAD to the specified state\r\n",
        "   rm         Remove files from the working tree and from the index\r\n",
        "   show       Show various types of objects\r\n",
        "   status     Show the working tree status\r\n",
        "   tag        Create, list, delete or verify a tag object signed with GPG\r\n",
        "\r\n",
        "'git help -a' and 'git help -g' lists available subcommands and some\r\n",
        "concept guides. See 'git help <command>' or 'git help <concept>'\r\n",
        "to read about a specific subcommand or concept.\r\n"
       ]
      }
     ],
     "prompt_number": 2
    },
    {
     "cell_type": "heading",
     "level": 3,
     "metadata": {},
     "source": [
      "Configuring Git"
     ]
    },
    {
     "cell_type": "markdown",
     "metadata": {},
     "source": [
      "After installation, we need to configure Git (this is only needed once and it will be used when we commit changes to the repository).   \n",
      "Let's do that using the following command lines:"
     ]
    },
    {
     "cell_type": "code",
     "collapsed": false,
     "input": [
      "!git config --global user.name \"your name here\"\n",
      "!git config --global user.email \"your_email@example.com\""
     ],
     "language": "python",
     "metadata": {},
     "outputs": []
    },
    {
     "cell_type": "markdown",
     "metadata": {},
     "source": [
      "Your email address for Git should be the same one associated with your GitHub account in case you plan to have a repository there."
     ]
    },
    {
     "cell_type": "heading",
     "level": 3,
     "metadata": {},
     "source": [
      "Initialize a Git repository"
     ]
    },
    {
     "cell_type": "markdown",
     "metadata": {},
     "source": [
      "To initialize a local Git repository in the current directory:"
     ]
    },
    {
     "cell_type": "code",
     "collapsed": false,
     "input": [
      "!git init"
     ],
     "language": "python",
     "metadata": {},
     "outputs": []
    },
    {
     "cell_type": "markdown",
     "metadata": {},
     "source": [
      "You would do that in case you want starting to track an existing local project in Git. You can also specify a local a new local repository, with the command `git init repository-name`."
     ]
    },
    {
     "cell_type": "heading",
     "level": 2,
     "metadata": {},
     "source": [
      "Checkout a repository"
     ]
    },
    {
     "cell_type": "markdown",
     "metadata": {},
     "source": [
      "To clone a remote repository, for instance the repo of this notebook:"
     ]
    },
    {
     "cell_type": "code",
     "collapsed": false,
     "input": [
      "!git clone https://github.com/duartexyz/BMC"
     ],
     "language": "python",
     "metadata": {},
     "outputs": []
    },
    {
     "cell_type": "markdown",
     "metadata": {},
     "source": [
      "Let's check the content of our repo:"
     ]
    },
    {
     "cell_type": "code",
     "collapsed": false,
     "input": [
      "cd BMC"
     ],
     "language": "python",
     "metadata": {},
     "outputs": []
    },
    {
     "cell_type": "code",
     "collapsed": false,
     "input": [
      "ls"
     ],
     "language": "python",
     "metadata": {},
     "outputs": []
    },
    {
     "cell_type": "heading",
     "level": 2,
     "metadata": {},
     "source": [
      "Workflow"
     ]
    },
    {
     "cell_type": "markdown",
     "metadata": {},
     "source": [
      "The local repository consists of three \"trees\" maintained by git. the first one is your Working Directory which holds the actual files. the second one is the Index which acts as a staging area and finally the HEAD which points to the last commit you've made."
     ]
    },
    {
     "cell_type": "heading",
     "level": 2,
     "metadata": {},
     "source": [
      "Add and commit changes"
     ]
    },
    {
     "cell_type": "markdown",
     "metadata": {},
     "source": [
      "You can propose changes (add it to the Index) using the command `add`.  \n",
      "For instance, let's change the README.md file, and commit it:"
     ]
    },
    {
     "cell_type": "code",
     "collapsed": false,
     "input": [
      "!git add README.md"
     ],
     "language": "python",
     "metadata": {
      "slideshow": {
       "slide_type": "-"
      }
     },
     "outputs": []
    },
    {
     "cell_type": "markdown",
     "metadata": {},
     "source": [
      "You ca add everything in the current directory recursively using the command \"`git add .`\".  \n",
      "\n",
      "This is the first step in the basic git workflow.   \n",
      "To commit this change:"
     ]
    },
    {
     "cell_type": "code",
     "collapsed": false,
     "input": [
      "!git commit -m \"Commit message\""
     ],
     "language": "python",
     "metadata": {},
     "outputs": []
    },
    {
     "cell_type": "heading",
     "level": 2,
     "metadata": {},
     "source": [
      "Push changes"
     ]
    },
    {
     "cell_type": "markdown",
     "metadata": {},
     "source": [
      "Now the file is committed to the HEAD, but not in the remote repository yet.   \n",
      "\n",
      "To send this changes to the remote repository, execute `git push origin master` (substitute `master` by the branch to push the change to if it's not the same repo you cloned from):"
     ]
    },
    {
     "cell_type": "code",
     "collapsed": false,
     "input": [
      "!git push origin master"
     ],
     "language": "python",
     "metadata": {},
     "outputs": []
    },
    {
     "cell_type": "markdown",
     "metadata": {},
     "source": [
      "You should do that in a regular terminal window because you will be prompted to enter your username and password for your GitHub account:"
     ]
    },
    {
     "cell_type": "markdown",
     "metadata": {},
     "source": [
      ">`Username for 'https://github.com':` duartexyz    \n",
      ">`Password for 'https://duartexyz@github.com': *****`\n",
      "\n",
      "Of course, this will nor work for you because, I hope, you don't have my credentials.\n",
      "\n",
      "You can create a branch (fork) the BMC repository, or create your own, to experiment with it."
     ]
    },
    {
     "cell_type": "heading",
     "level": 2,
     "metadata": {},
     "source": [
      "Update and merge changes"
     ]
    },
    {
     "cell_type": "markdown",
     "metadata": {},
     "source": [
      "To update the local repository to the newest commit, execute in the working directory (this will fetch and merge remote changes):"
     ]
    },
    {
     "cell_type": "code",
     "collapsed": false,
     "input": [
      "!git pull"
     ],
     "language": "python",
     "metadata": {
      "slideshow": {
       "slide_type": "fragment"
      }
     },
     "outputs": []
    },
    {
     "cell_type": "markdown",
     "metadata": {},
     "source": [
      "To merge another branch into your active branch (e.g. master), use `git merge <branch>`.\n",
      "\n",
      "These two last commands tries to auto-merge changes. This might not be possible because of conflicts between the different branches. We have to merge those conflicts manually by editing the files shown by git.    \n",
      "After changing, we need to mark them as merged with `git add <filename>`.   \n",
      "Before merging changes, we can preview them by using `git diff <source_branch> <target_branch>`."
     ]
    }
   ],
   "metadata": {}
  }
 ]
}